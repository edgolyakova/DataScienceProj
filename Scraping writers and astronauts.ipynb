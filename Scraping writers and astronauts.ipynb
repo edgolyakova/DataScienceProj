{
 "cells": [
  {
   "cell_type": "markdown",
   "metadata": {},
   "source": [
    "Connect to Wikipedia using `wikipediaapi` library."
   ]
  },
  {
   "cell_type": "code",
   "execution_count": 16,
   "metadata": {},
   "outputs": [],
   "source": [
    "import wikipediaapi\n",
    "wiki_wiki = wikipediaapi.Wikipedia('en')"
   ]
  },
  {
   "cell_type": "markdown",
   "metadata": {},
   "source": [
    "# Getting a list of writers"
   ]
  },
  {
   "cell_type": "code",
   "execution_count": 19,
   "metadata": {},
   "outputs": [
    {
     "data": {
      "text/plain": [
       "{'Writer': Writer (id: ??, ns: 0),\n",
       " 'Category:Writers by award': Category:Writers by award (id: ??, ns: 14),\n",
       " 'Category:Writers by city': Category:Writers by city (id: ??, ns: 14),\n",
       " 'Category:Writers by continent': Category:Writers by continent (id: ??, ns: 14),\n",
       " 'Category:Writers by ethnicity': Category:Writers by ethnicity (id: ??, ns: 14),\n",
       " 'Category:Writers by format': Category:Writers by format (id: ??, ns: 14),\n",
       " 'Category:Writers by genre': Category:Writers by genre (id: ??, ns: 14),\n",
       " 'Category:Writers by language': Category:Writers by language (id: ??, ns: 14),\n",
       " 'Category:Writers by nationality': Category:Writers by nationality (id: ??, ns: 14),\n",
       " 'Category:Writers by period': Category:Writers by period (id: ??, ns: 14),\n",
       " 'Category:Writers by religion': Category:Writers by religion (id: ??, ns: 14),\n",
       " 'Category:Writers by subject area': Category:Writers by subject area (id: ??, ns: 14),\n",
       " 'Category:Lists of writers': Category:Lists of writers (id: ??, ns: 14),\n",
       " 'Category:Works about writers': Category:Works about writers (id: ??, ns: 14),\n",
       " \"Category:Writers' conferences\": Category:Writers' conferences (id: ??, ns: 14),\n",
       " 'Category:Monuments and memorials to writers': Category:Monuments and memorials to writers (id: ??, ns: 14),\n",
       " \"Category:Writers' organizations\": Category:Writers' organizations (id: ??, ns: 14),\n",
       " 'Category:LGBT writers': Category:LGBT writers (id: ??, ns: 14),\n",
       " 'Category:Male writers': Category:Male writers (id: ??, ns: 14),\n",
       " 'Category:Women writers': Category:Women writers (id: ??, ns: 14),\n",
       " 'Category:Writers with disabilities': Category:Writers with disabilities (id: ??, ns: 14),\n",
       " 'Category:Child writers': Category:Child writers (id: ??, ns: 14),\n",
       " 'Category:Cultural depictions of writers': Category:Cultural depictions of writers (id: ??, ns: 14),\n",
       " 'Category:Executed writers': Category:Executed writers (id: ??, ns: 14),\n",
       " 'Category:Expatriate writers': Category:Expatriate writers (id: ??, ns: 14),\n",
       " 'Category:Fictional writers': Category:Fictional writers (id: ??, ns: 14),\n",
       " 'Category:Freethought writers': Category:Freethought writers (id: ??, ns: 14),\n",
       " 'Category:Writing groups and collectives': Category:Writing groups and collectives (id: ??, ns: 14),\n",
       " 'Category:Writers who illustrated their own writing': Category:Writers who illustrated their own writing (id: ??, ns: 14),\n",
       " 'Category:International Writing Program alumni': Category:International Writing Program alumni (id: ??, ns: 14),\n",
       " \"Category:Iowa Writers' Workshop alumni\": Category:Iowa Writers' Workshop alumni (id: ??, ns: 14),\n",
       " 'Category:Pseudonymous writers': Category:Pseudonymous writers (id: ??, ns: 14),\n",
       " 'Category:Reception of writers': Category:Reception of writers (id: ??, ns: 14),\n",
       " 'Category:Scholars': Category:Scholars (id: ??, ns: 14),\n",
       " 'Category:Theorists': Category:Theorists (id: ??, ns: 14),\n",
       " 'Category:Writers of lost works': Category:Writers of lost works (id: ??, ns: 14),\n",
       " 'Category:Writers of style guides': Category:Writers of style guides (id: ??, ns: 14),\n",
       " 'Category:Writer stubs': Category:Writer stubs (id: ??, ns: 14),\n",
       " 'Category:Wikipedia categories named after writers': Category:Wikipedia categories named after writers (id: ??, ns: 14)}"
      ]
     },
     "execution_count": 19,
     "metadata": {},
     "output_type": "execute_result"
    }
   ],
   "source": [
    "wiki_wiki.page(\"Category:Writers\").categorymembers"
   ]
  },
  {
   "cell_type": "markdown",
   "metadata": {},
   "source": [
    "We can see that there are a lot of subcategories of Writers category in Wikipedia.\n",
    "We will choose to work with the subcategory `Writers by nationality`, assuming that all of the writers will be included in one of its sublists."
   ]
  },
  {
   "cell_type": "code",
   "execution_count": 77,
   "metadata": {},
   "outputs": [
    {
     "data": {
      "text/plain": [
       "dict_keys(['Category:Writers by century and nationality', 'Category:Writers by language and nationality', 'Category:Writers by nationality and century', 'Category:Writers by nationality and city', 'Category:Writers by nationality and language', 'Category:Bloggers by nationality', \"Category:Children's writers by nationality\", 'Category:Comics writers by nationality', 'Category:Communist writers by nationality', 'Category:Crime writers by nationality', 'Category:Dramatists and playwrights by nationality', 'Category:Fiction writers by nationality', 'Category:Marxist writers by nationality', 'Category:Newspaper writers by nationality', 'Category:Non-fiction writers by nationality', 'Category:Poets by nationality', 'Category:Propagandists by nationality', 'Category:Romantic fiction writers by nationality', 'Category:Scholars and academics by nationality', 'Category:Screenwriters by nationality', 'Category:Songwriters by nationality', 'Category:Spiritual writers by nationality', 'Category:Television writers by nationality', 'Category:Translators by nationality', 'Category:LGBT writers by nationality', 'Category:Male writers by nationality', 'Category:Women writers by nationality', 'Category:Lists of writers by nationality', 'Category:Writers by former country', 'Category:Works by writer nationality', 'Category:Diarists by nationality', 'Category:Jewish writers by nationality', 'Category:Afghan writers', 'Category:Albanian writers', 'Category:Algerian writers', 'Category:American writers', 'Category:Andorran writers', 'Category:Angolan writers', 'Category:Anguillan writers', 'Category:Antigua and Barbuda writers', 'Category:Argentine writers', 'Category:Armenian writers', 'Category:Aruban writers', 'Category:Australian writers', 'Category:Austro-Hungarian writers', 'Category:Austrian writers', 'Category:Azerbaijani writers', 'Category:Bahamian writers', 'Category:Bahraini writers', 'Category:Bangladeshi writers', 'Category:Barbadian writers', 'Category:Belarusian writers', 'Category:Belgian writers', 'Category:Belizean writers', 'Category:Beninese writers', 'Category:Bermudian writers', 'Category:Bhutanese writers', 'Category:Bissau-Guinean writers', 'Category:Bolivian writers', 'Category:Bosnia and Herzegovina writers', 'Category:Botswana writers', 'Category:Brazilian writers', 'Category:Writers in British India', 'Category:British writers', 'Category:Bruneian writers', 'Category:Bulgarian writers', 'Category:Burkinabé writers', 'Category:Burmese writers', 'Category:Burundian writers', 'Category:Cambodian writers', 'Category:Cameroonian writers', 'Category:Canadian writers', 'Category:Cape Verdean writers', 'Category:Central African Republic writers', 'Category:Chadian writers', 'Category:Chilean writers', 'Category:Chinese writers', 'Category:Colombian writers', 'Category:Comorian writers', 'Category:Republic of the Congo writers', 'Category:Democratic Republic of the Congo writers', 'Category:Cook Island writers', 'Category:Costa Rican writers', 'Category:Croatian writers', 'Category:Cuban writers', 'Category:Curaçao writers', 'Category:Cypriot writers', 'Category:Czech writers', 'Category:Danish writers', 'Category:Djiboutian writers', 'Category:Dominica writers', 'Category:Dominican Republic writers', 'Category:Dutch writers', 'Category:East Timorese writers', 'Category:Ecuadorian writers', 'Category:Egyptian writers', 'Category:Emirati writers', 'Category:English writers', 'Category:Equatoguinean writers', 'Category:Eritrean writers', 'Category:Estonian writers', 'Category:Ethiopian writers', 'Category:Fijian writers', 'Category:Filipino writers', 'Category:Finnish writers', 'Category:Frankish writers', 'Category:French writers', 'Category:French Polynesian writers', 'Category:Gabonese writers', 'Category:Gambian writers', 'Category:Writers from the Republic of Geneva', 'Category:Writers from Georgia (country)', 'Category:German writers', 'Category:Ghanaian writers', 'Category:Gibraltarian writers', 'Category:Greek writers', 'Category:Grenadian writers', 'Category:Guadeloupean writers', 'Category:Guamanian writers', 'Category:Guatemalan writers', 'Category:Guernsey writers', 'Category:Guinean writers', 'Category:Guyanese writers', 'Category:Haitian writers', 'Category:Honduran writers', 'Category:Hong Kong writers', 'Category:Hungarian writers', 'Category:Icelandic writers', 'Category:Indian writers', 'Category:Indonesian writers', 'Category:Iranian writers', 'Category:Iraqi writers', 'Category:Irish writers', 'Category:Israeli writers', 'Category:Italian writers', 'Category:Ivorian writers', 'Category:Jamaican writers', 'Category:Japanese writers', 'Category:Jordanian writers', 'Category:Kazakhstani writers', 'Category:Kenyan writers', 'Category:I-Kiribati writers', 'Category:Korean writers', 'Category:Kosovan writers', 'Category:Kuwaiti writers', 'Category:Kyrgyzstani writers', 'Category:Laotian writers', 'Category:Latvian writers', 'Category:Lebanese writers', 'Category:Lesotho writers', 'Category:Liberian writers', 'Category:Libyan writers', 'Category:Liechtenstein writers', 'Category:Lithuanian writers', 'Category:Luxembourgian writers', 'Category:Macau writers', 'Category:Macedonian writers', 'Category:Malagasy writers', 'Category:Malawian writers', 'Category:Malaysian writers', 'Category:Maldivian writers', 'Category:Malian writers', 'Category:Maltese writers', 'Category:Marshallese writers', 'Category:Martiniquais writers', 'Category:Mauritanian writers', 'Category:Mauritian writers', 'Category:Mexican writers', 'Category:Federated States of Micronesia writers', 'Category:Moldovan writers', 'Category:Monegasque writers', 'Category:Mongolian writers', 'Category:Montenegrin writers', 'Category:Montserratian writers', 'Category:Moroccan writers', 'Category:Mozambican writers', 'Category:Namibian writers', 'Category:Nauruan writers', 'Category:Nepalese writers', 'Category:New Caledonian writers', 'Category:New Zealand writers', 'Category:Nicaraguan writers', 'Category:Nigerian writers', 'Category:Nigerien writers', 'Category:Niuean writers', 'Category:North Korean writers', 'Category:Norwegian writers', 'Category:Occitan writers', 'Category:Omani writers', 'Category:Pakistani writers', 'Category:Palauan writers', 'Category:Palestinian writers', 'Category:Panamanian writers', 'Category:Papua New Guinean writers', 'Category:Paraguayan writers', 'Category:Peruvian writers', 'Category:Polish writers', 'Category:Portuguese writers', 'Category:Qatari writers', 'Category:Rhodesian writers', 'Category:Romani writers by nationality', 'Category:Romanian writers', 'Category:Russian writers', 'Category:Rwandan writers', 'Category:Writers of Safavid Iran', 'Category:Sahrawi writers', 'Category:Saint Kitts and Nevis writers', 'Category:Saint Lucian writers', 'Category:Saint Vincent and the Grenadines writers', 'Category:Salvadoran writers', 'Category:Sammarinese writers', 'Category:Samoan writers', 'Category:São Tomé and Príncipe writers', 'Category:Saudi Arabian writers', 'Category:Scottish writers', 'Category:Senegalese writers', 'Category:Serbian writers', 'Category:Seychellois writers', 'Category:Sierra Leonean writers', 'Category:Singaporean writers', 'Category:Slovak writers', 'Category:Slovenian writers', 'Category:Solomon Islands writers', 'Category:Somalian writers', 'Category:South African writers', 'Category:South Korean writers', 'Category:South Sudanese writers', 'Category:Soviet writers', 'Category:Writers of the Spanish Netherlands', 'Category:Spanish writers', 'Category:Sri Lankan writers', 'Category:Sudanese writers', 'Category:Surinamese writers', 'Category:Swazi writers', 'Category:Swedish writers', 'Category:Swiss writers', 'Category:Syrian writers', 'Category:Taiwanese writers', 'Category:Tajikistani writers', 'Category:Tanzanian writers', 'Category:Thai writers', 'Category:Togolese writers', 'Category:Tongan writers', 'Category:Trinidad and Tobago writers', 'Category:Tunisian writers', 'Category:Turkish writers', 'Category:Turkmenistan writers', 'Category:Tuvaluan writers', 'Category:Ugandan writers', 'Category:Ukrainian writers', 'Category:Uruguayan writers', 'Category:Uzbekistani writers', 'Category:Vanuatuan writers', 'Category:Vatican City writers', 'Category:Venezuelan writers', 'Category:Republic of Venice writers', 'Category:Vietnamese writers', 'Category:Welsh writers', 'Category:Bohemian writers', 'Category:Writers from New Spain', 'Category:Writers from the Duchy of Savoy', 'Category:Writers in the Second Polish Republic', 'Category:Yemeni writers', 'Category:Yugoslav writers', 'Category:Zambian writers', 'Category:Zimbabwean writers'])"
      ]
     },
     "execution_count": 77,
     "metadata": {},
     "output_type": "execute_result"
    }
   ],
   "source": [
    "wiki_wiki.page(\"Category:Writers by nationality\").categorymembers.keys()"
   ]
  },
  {
   "cell_type": "markdown",
   "metadata": {},
   "source": [
    "We can see that in the list of subcategories by nationality there are some additional lists that appear before the actual list of writers by nationality (starting with `Afghan writers`). Overall we can notice that th categories we're interested in are of a format `Category:<word> writers`. \n",
    "\n",
    "We can use a regular expression to match only this type of categories."
   ]
  },
  {
   "cell_type": "code",
   "execution_count": 35,
   "metadata": {},
   "outputs": [
    {
     "data": {
      "text/plain": [
       "['Category:Afghan writers',\n",
       " 'Category:Albanian writers',\n",
       " 'Category:Algerian writers',\n",
       " 'Category:American writers',\n",
       " 'Category:Andorran writers',\n",
       " 'Category:Angolan writers',\n",
       " 'Category:Anguillan writers',\n",
       " 'Category:Antigua and Barbuda writers',\n",
       " 'Category:Argentine writers',\n",
       " 'Category:Armenian writers',\n",
       " 'Category:Aruban writers',\n",
       " 'Category:Australian writers',\n",
       " 'Category:Austrian writers',\n",
       " 'Category:Azerbaijani writers',\n",
       " 'Category:Bahamian writers',\n",
       " 'Category:Bahraini writers',\n",
       " 'Category:Bangladeshi writers',\n",
       " 'Category:Barbadian writers',\n",
       " 'Category:Belarusian writers',\n",
       " 'Category:Belgian writers',\n",
       " 'Category:Belizean writers',\n",
       " 'Category:Beninese writers',\n",
       " 'Category:Bermudian writers',\n",
       " 'Category:Bhutanese writers',\n",
       " 'Category:Bolivian writers',\n",
       " 'Category:Bosnia and Herzegovina writers',\n",
       " 'Category:Botswana writers',\n",
       " 'Category:Brazilian writers',\n",
       " 'Category:British writers',\n",
       " 'Category:Bruneian writers',\n",
       " 'Category:Bulgarian writers',\n",
       " 'Category:Burmese writers',\n",
       " 'Category:Burundian writers',\n",
       " 'Category:Cambodian writers',\n",
       " 'Category:Cameroonian writers',\n",
       " 'Category:Canadian writers',\n",
       " 'Category:Cape Verdean writers',\n",
       " 'Category:Central African Republic writers',\n",
       " 'Category:Chadian writers',\n",
       " 'Category:Chilean writers',\n",
       " 'Category:Chinese writers',\n",
       " 'Category:Colombian writers',\n",
       " 'Category:Comorian writers',\n",
       " 'Category:Republic of the Congo writers',\n",
       " 'Category:Democratic Republic of the Congo writers',\n",
       " 'Category:Cook Island writers',\n",
       " 'Category:Costa Rican writers',\n",
       " 'Category:Croatian writers',\n",
       " 'Category:Cuban writers',\n",
       " 'Category:Cypriot writers',\n",
       " 'Category:Czech writers',\n",
       " 'Category:Danish writers',\n",
       " 'Category:Djiboutian writers',\n",
       " 'Category:Dominica writers',\n",
       " 'Category:Dominican Republic writers',\n",
       " 'Category:Dutch writers',\n",
       " 'Category:East Timorese writers',\n",
       " 'Category:Ecuadorian writers',\n",
       " 'Category:Egyptian writers',\n",
       " 'Category:Emirati writers',\n",
       " 'Category:English writers',\n",
       " 'Category:Equatoguinean writers',\n",
       " 'Category:Eritrean writers',\n",
       " 'Category:Estonian writers',\n",
       " 'Category:Ethiopian writers',\n",
       " 'Category:Fijian writers',\n",
       " 'Category:Filipino writers',\n",
       " 'Category:Finnish writers',\n",
       " 'Category:Frankish writers',\n",
       " 'Category:French writers',\n",
       " 'Category:French Polynesian writers',\n",
       " 'Category:Gabonese writers',\n",
       " 'Category:Gambian writers',\n",
       " 'Category:German writers',\n",
       " 'Category:Ghanaian writers',\n",
       " 'Category:Gibraltarian writers',\n",
       " 'Category:Greek writers',\n",
       " 'Category:Grenadian writers',\n",
       " 'Category:Guadeloupean writers',\n",
       " 'Category:Guamanian writers',\n",
       " 'Category:Guatemalan writers',\n",
       " 'Category:Guernsey writers',\n",
       " 'Category:Guinean writers',\n",
       " 'Category:Guyanese writers',\n",
       " 'Category:Haitian writers',\n",
       " 'Category:Honduran writers',\n",
       " 'Category:Hong Kong writers',\n",
       " 'Category:Hungarian writers',\n",
       " 'Category:Icelandic writers',\n",
       " 'Category:Indian writers',\n",
       " 'Category:Indonesian writers',\n",
       " 'Category:Iranian writers',\n",
       " 'Category:Iraqi writers',\n",
       " 'Category:Irish writers',\n",
       " 'Category:Israeli writers',\n",
       " 'Category:Italian writers',\n",
       " 'Category:Ivorian writers',\n",
       " 'Category:Jamaican writers',\n",
       " 'Category:Japanese writers',\n",
       " 'Category:Jordanian writers',\n",
       " 'Category:Kazakhstani writers',\n",
       " 'Category:Kenyan writers',\n",
       " 'Category:Korean writers',\n",
       " 'Category:Kosovan writers',\n",
       " 'Category:Kuwaiti writers',\n",
       " 'Category:Kyrgyzstani writers',\n",
       " 'Category:Laotian writers',\n",
       " 'Category:Latvian writers',\n",
       " 'Category:Lebanese writers',\n",
       " 'Category:Lesotho writers',\n",
       " 'Category:Liberian writers',\n",
       " 'Category:Libyan writers',\n",
       " 'Category:Liechtenstein writers',\n",
       " 'Category:Lithuanian writers',\n",
       " 'Category:Luxembourgian writers',\n",
       " 'Category:Macau writers',\n",
       " 'Category:Macedonian writers',\n",
       " 'Category:Malagasy writers',\n",
       " 'Category:Malawian writers',\n",
       " 'Category:Malaysian writers',\n",
       " 'Category:Maldivian writers',\n",
       " 'Category:Malian writers',\n",
       " 'Category:Maltese writers',\n",
       " 'Category:Marshallese writers',\n",
       " 'Category:Martiniquais writers',\n",
       " 'Category:Mauritanian writers',\n",
       " 'Category:Mauritian writers',\n",
       " 'Category:Mexican writers',\n",
       " 'Category:Federated States of Micronesia writers',\n",
       " 'Category:Moldovan writers',\n",
       " 'Category:Monegasque writers',\n",
       " 'Category:Mongolian writers',\n",
       " 'Category:Montenegrin writers',\n",
       " 'Category:Montserratian writers',\n",
       " 'Category:Moroccan writers',\n",
       " 'Category:Mozambican writers',\n",
       " 'Category:Namibian writers',\n",
       " 'Category:Nauruan writers',\n",
       " 'Category:Nepalese writers',\n",
       " 'Category:New Caledonian writers',\n",
       " 'Category:New Zealand writers',\n",
       " 'Category:Nicaraguan writers',\n",
       " 'Category:Nigerian writers',\n",
       " 'Category:Nigerien writers',\n",
       " 'Category:Niuean writers',\n",
       " 'Category:North Korean writers',\n",
       " 'Category:Norwegian writers',\n",
       " 'Category:Occitan writers',\n",
       " 'Category:Omani writers',\n",
       " 'Category:Pakistani writers',\n",
       " 'Category:Palauan writers',\n",
       " 'Category:Palestinian writers',\n",
       " 'Category:Panamanian writers',\n",
       " 'Category:Papua New Guinean writers',\n",
       " 'Category:Paraguayan writers',\n",
       " 'Category:Peruvian writers',\n",
       " 'Category:Polish writers',\n",
       " 'Category:Portuguese writers',\n",
       " 'Category:Qatari writers',\n",
       " 'Category:Rhodesian writers',\n",
       " 'Category:Romanian writers',\n",
       " 'Category:Russian writers',\n",
       " 'Category:Rwandan writers',\n",
       " 'Category:Sahrawi writers',\n",
       " 'Category:Saint Kitts and Nevis writers',\n",
       " 'Category:Saint Lucian writers',\n",
       " 'Category:Saint Vincent and the Grenadines writers',\n",
       " 'Category:Salvadoran writers',\n",
       " 'Category:Sammarinese writers',\n",
       " 'Category:Samoan writers',\n",
       " 'Category:Saudi Arabian writers',\n",
       " 'Category:Scottish writers',\n",
       " 'Category:Senegalese writers',\n",
       " 'Category:Serbian writers',\n",
       " 'Category:Seychellois writers',\n",
       " 'Category:Sierra Leonean writers',\n",
       " 'Category:Singaporean writers',\n",
       " 'Category:Slovak writers',\n",
       " 'Category:Slovenian writers',\n",
       " 'Category:Solomon Islands writers',\n",
       " 'Category:Somalian writers',\n",
       " 'Category:South African writers',\n",
       " 'Category:South Korean writers',\n",
       " 'Category:South Sudanese writers',\n",
       " 'Category:Soviet writers',\n",
       " 'Category:Spanish writers',\n",
       " 'Category:Sri Lankan writers',\n",
       " 'Category:Sudanese writers',\n",
       " 'Category:Surinamese writers',\n",
       " 'Category:Swazi writers',\n",
       " 'Category:Swedish writers',\n",
       " 'Category:Swiss writers',\n",
       " 'Category:Syrian writers',\n",
       " 'Category:Taiwanese writers',\n",
       " 'Category:Tajikistani writers',\n",
       " 'Category:Tanzanian writers',\n",
       " 'Category:Thai writers',\n",
       " 'Category:Togolese writers',\n",
       " 'Category:Tongan writers',\n",
       " 'Category:Trinidad and Tobago writers',\n",
       " 'Category:Tunisian writers',\n",
       " 'Category:Turkish writers',\n",
       " 'Category:Turkmenistan writers',\n",
       " 'Category:Tuvaluan writers',\n",
       " 'Category:Ugandan writers',\n",
       " 'Category:Ukrainian writers',\n",
       " 'Category:Uruguayan writers',\n",
       " 'Category:Uzbekistani writers',\n",
       " 'Category:Vanuatuan writers',\n",
       " 'Category:Vatican City writers',\n",
       " 'Category:Venezuelan writers',\n",
       " 'Category:Republic of Venice writers',\n",
       " 'Category:Vietnamese writers',\n",
       " 'Category:Welsh writers',\n",
       " 'Category:Bohemian writers',\n",
       " 'Category:Yemeni writers',\n",
       " 'Category:Yugoslav writers',\n",
       " 'Category:Zambian writers',\n",
       " 'Category:Zimbabwean writers']"
      ]
     },
     "execution_count": 35,
     "metadata": {},
     "output_type": "execute_result"
    }
   ],
   "source": [
    "import re\n",
    "pattern = re.compile(r'Category:[A-Za-z ]* writers$')\n",
    "all_cats = wiki_wiki.page(\"Category:Writers by nationality\").categorymembers.keys()\n",
    "cats = [c for c in all_cats if pattern.match(c)]\n",
    "cats"
   ]
  },
  {
   "cell_type": "markdown",
   "metadata": {},
   "source": [
    "Now we can have a look at the response structure for each of the subcategories:"
   ]
  },
  {
   "cell_type": "code",
   "execution_count": 37,
   "metadata": {},
   "outputs": [
    {
     "data": {
      "text/plain": [
       "dict_keys(['Hyder Akbar', 'Hasan Akhund', 'Sonita Alizadeh', 'Mohammad Ishaq Aloko', 'Awista Ayub', 'Durkhanai Ayubi', 'Mohammad Yousuf Azraq', 'Abdul Hamid Bahij', 'Wasef Bakhtari', 'Farhad Bitani', 'Zohre Esmaeli', 'Masuma Esmati-Wardak', 'Fereshteh Forough', 'Abdul Hai Habibi', 'Chékéba Hachemi', 'Mohammad Shafiq Hamdam', 'M. Jamil Hanifi', 'Saifuddin Jalal', 'Malalai Joya', 'Faizullah Kakar', 'Kazem Kazemi', 'Qiamuddin Khadim', 'Hafizullah Khaled', 'Khalilullah Khalili', 'Gharzai Khwakhuzhi', 'Mohammad Ibraheem Khwakhuzhi', 'Jamil Jan Kochai', 'Maryam Mahboob', 'Razaq Mamoon', 'Lutfullah Mashal', 'Mohammad Daud Miraki', 'Y. Misdaq', 'Nazar Mohammad Mutmaeen', 'Ali Mohaqiq Nasab', 'Hakan Massoud Navabi', 'Fariba Nawa', 'Massoud Nawabi', 'Qais Akbar Omar', 'Rahraw Omarzad', 'Parween Pazhwak', 'Layla Sarahat Rushani', 'Amanullah Sailaab Sapi', 'Humira Saqib', 'Idries Shah', 'Asef Soltanzadeh', 'Gul Pacha Ulfat', 'Mohammad Amin Wakman', 'Burhanuddin Kushkaki', 'Sakena Yacoobi', 'Hamid Zaher', 'Mohammad Hashem Zamani', 'Spôjmaï Zariâb', 'Mujawar Ahmad Zyar', 'Category:Afghan writers by century', 'Category:Afghan writers by genre', 'Category:Afghan male writers', 'Category:Afghan women writers', 'Category:Afghan bloggers', 'Category:Afghan historians', 'Category:Afghan journalists', 'Category:Afghan literary critics', 'Category:Afghan medical writers', 'Category:Afghan novelists', 'Category:Afghan short story writers'])"
      ]
     },
     "execution_count": 37,
     "metadata": {},
     "output_type": "execute_result"
    }
   ],
   "source": [
    "wiki_wiki.page(cats[0]).categorymembers.keys()"
   ]
  },
  {
   "cell_type": "markdown",
   "metadata": {},
   "source": [
    "We can see that the subcategories have subcategories of their own as well as the list of actual writers.\n",
    "We can use regular expression to include only individual results in the final list: so the ones not starting with `Category:<words>`."
   ]
  },
  {
   "cell_type": "code",
   "execution_count": 72,
   "metadata": {},
   "outputs": [],
   "source": [
    "p2 = re.compile(r'^(?!(Category\\:)|(List of)).*')"
   ]
  },
  {
   "cell_type": "markdown",
   "metadata": {},
   "source": [
    "Using the filtering pattern we can create a list of all writers, saving their subcategory as well if it's needed later. We will store the list in a csv and can load it to Pandas for visualization."
   ]
  },
  {
   "cell_type": "code",
   "execution_count": 4,
   "metadata": {},
   "outputs": [],
   "source": [
    "import pandas as pd"
   ]
  },
  {
   "cell_type": "code",
   "execution_count": 55,
   "metadata": {},
   "outputs": [],
   "source": [
    "p3 = re.compile(r'(?<=Category\\:).*')"
   ]
  },
  {
   "cell_type": "code",
   "execution_count": 61,
   "metadata": {},
   "outputs": [
    {
     "data": {
      "text/plain": [
       "'Afghan writers'"
      ]
     },
     "execution_count": 61,
     "metadata": {},
     "output_type": "execute_result"
    }
   ],
   "source": [
    "re.search(p3, 'Category:Afghan writers').group(0)"
   ]
  },
  {
   "cell_type": "code",
   "execution_count": 83,
   "metadata": {},
   "outputs": [],
   "source": [
    "def get_people_list(cat_list, top_cat, pattern):\n",
    "\n",
    "    all_people_list = []\n",
    "    p3 = re.compile(r'(?<=Category\\:).*')\n",
    "\n",
    "    # Go through all the writers by nationality subcategories we filtered above\n",
    "    for cat in cat_list:\n",
    "        # Include only individual pages from these categories\n",
    "        # We can also assume that one person can be in 2 subcategories, if they are we will just include them once\n",
    "        people = set([p for p in wiki_wiki.page(cat).categorymembers.keys() if pattern.match(p)])\n",
    "    \n",
    "        #In the Pandas DF we want to show the name of the author, the subcategory and the high-level category - Writers\n",
    "        # We will create a dictionary for each row of the future DataFrame\n",
    "        # We will remove `Category:` in front of the name of subcategory for better readability using pattern p3.\n",
    "        for p in people:\n",
    "            people_dict = {'Person': p, 'Subcategory': re.search(p3, cat).group(0), 'Category': top_cat}\n",
    "            all_people_list.append(people_dict)\n",
    "            \n",
    "    return all_people_list"
   ]
  },
  {
   "cell_type": "code",
   "execution_count": 84,
   "metadata": {},
   "outputs": [
    {
     "data": {
      "text/html": [
       "<div>\n",
       "<style scoped>\n",
       "    .dataframe tbody tr th:only-of-type {\n",
       "        vertical-align: middle;\n",
       "    }\n",
       "\n",
       "    .dataframe tbody tr th {\n",
       "        vertical-align: top;\n",
       "    }\n",
       "\n",
       "    .dataframe thead th {\n",
       "        text-align: right;\n",
       "    }\n",
       "</style>\n",
       "<table border=\"1\" class=\"dataframe\">\n",
       "  <thead>\n",
       "    <tr style=\"text-align: right;\">\n",
       "      <th></th>\n",
       "      <th>Person</th>\n",
       "      <th>Subcategory</th>\n",
       "      <th>Category</th>\n",
       "    </tr>\n",
       "  </thead>\n",
       "  <tbody>\n",
       "    <tr>\n",
       "      <th>0</th>\n",
       "      <td>Khalilullah Khalili</td>\n",
       "      <td>Afghan writers</td>\n",
       "      <td>Writers</td>\n",
       "    </tr>\n",
       "    <tr>\n",
       "      <th>1</th>\n",
       "      <td>Mohammad Hashem Zamani</td>\n",
       "      <td>Afghan writers</td>\n",
       "      <td>Writers</td>\n",
       "    </tr>\n",
       "    <tr>\n",
       "      <th>2</th>\n",
       "      <td>Mohammad Ishaq Aloko</td>\n",
       "      <td>Afghan writers</td>\n",
       "      <td>Writers</td>\n",
       "    </tr>\n",
       "    <tr>\n",
       "      <th>3</th>\n",
       "      <td>Mohammad Shafiq Hamdam</td>\n",
       "      <td>Afghan writers</td>\n",
       "      <td>Writers</td>\n",
       "    </tr>\n",
       "    <tr>\n",
       "      <th>4</th>\n",
       "      <td>M. Jamil Hanifi</td>\n",
       "      <td>Afghan writers</td>\n",
       "      <td>Writers</td>\n",
       "    </tr>\n",
       "    <tr>\n",
       "      <th>...</th>\n",
       "      <td>...</td>\n",
       "      <td>...</td>\n",
       "      <td>...</td>\n",
       "    </tr>\n",
       "    <tr>\n",
       "      <th>11543</th>\n",
       "      <td>Denford Magora</td>\n",
       "      <td>Zimbabwean writers</td>\n",
       "      <td>Writers</td>\n",
       "    </tr>\n",
       "    <tr>\n",
       "      <th>11544</th>\n",
       "      <td>Charles Mudede</td>\n",
       "      <td>Zimbabwean writers</td>\n",
       "      <td>Writers</td>\n",
       "    </tr>\n",
       "    <tr>\n",
       "      <th>11545</th>\n",
       "      <td>Tendai Huchu</td>\n",
       "      <td>Zimbabwean writers</td>\n",
       "      <td>Writers</td>\n",
       "    </tr>\n",
       "    <tr>\n",
       "      <th>11546</th>\n",
       "      <td>Edmund Chipamaunga</td>\n",
       "      <td>Zimbabwean writers</td>\n",
       "      <td>Writers</td>\n",
       "    </tr>\n",
       "    <tr>\n",
       "      <th>11547</th>\n",
       "      <td>Walter Lambert Muparutsa</td>\n",
       "      <td>Zimbabwean writers</td>\n",
       "      <td>Writers</td>\n",
       "    </tr>\n",
       "  </tbody>\n",
       "</table>\n",
       "<p>11548 rows × 3 columns</p>\n",
       "</div>"
      ],
      "text/plain": [
       "                         Person         Subcategory Category\n",
       "0           Khalilullah Khalili      Afghan writers  Writers\n",
       "1        Mohammad Hashem Zamani      Afghan writers  Writers\n",
       "2          Mohammad Ishaq Aloko      Afghan writers  Writers\n",
       "3        Mohammad Shafiq Hamdam      Afghan writers  Writers\n",
       "4               M. Jamil Hanifi      Afghan writers  Writers\n",
       "...                         ...                 ...      ...\n",
       "11543            Denford Magora  Zimbabwean writers  Writers\n",
       "11544            Charles Mudede  Zimbabwean writers  Writers\n",
       "11545              Tendai Huchu  Zimbabwean writers  Writers\n",
       "11546        Edmund Chipamaunga  Zimbabwean writers  Writers\n",
       "11547  Walter Lambert Muparutsa  Zimbabwean writers  Writers\n",
       "\n",
       "[11548 rows x 3 columns]"
      ]
     },
     "execution_count": 84,
     "metadata": {},
     "output_type": "execute_result"
    }
   ],
   "source": [
    "all_writers = get_people_list(cats, 'Writers', p2)\n",
    "all_writers_df = pd.DataFrame(all_writers)\n",
    "all_writers_df"
   ]
  },
  {
   "cell_type": "markdown",
   "metadata": {},
   "source": [
    "We can store the results in a CSV if needed for further research."
   ]
  },
  {
   "cell_type": "code",
   "execution_count": 85,
   "metadata": {},
   "outputs": [],
   "source": [
    "all_writers_df.to_csv('all_writers_list.csv')"
   ]
  },
  {
   "cell_type": "markdown",
   "metadata": {},
   "source": [
    "# Getting all astronauts"
   ]
  },
  {
   "cell_type": "markdown",
   "metadata": {},
   "source": [
    "We will repeat the investigation for Astronauts now."
   ]
  },
  {
   "cell_type": "code",
   "execution_count": 74,
   "metadata": {},
   "outputs": [
    {
     "data": {
      "text/plain": [
       "{'Astronaut': Astronaut (id: ??, ns: 0),\n",
       " 'Women in space': Women in space (id: ??, ns: 0),\n",
       " 'Commercial astronaut': Commercial astronaut (id: ??, ns: 0),\n",
       " 'ESA CAVES': ESA CAVES (id: ??, ns: 0),\n",
       " 'Max Q (astronaut band)': Max Q (astronaut band) (id: ??, ns: 0),\n",
       " 'Mission specialist': Mission specialist (id: ??, ns: 0),\n",
       " 'Payload specialist': Payload specialist (id: ??, ns: 0),\n",
       " 'Astronaut ranks and positions': Astronaut ranks and positions (id: ??, ns: 0),\n",
       " 'Category:Astronauts by nationality': Category:Astronauts by nationality (id: ??, ns: 14),\n",
       " 'Category:Astronauts by space program': Category:Astronauts by space program (id: ??, ns: 14),\n",
       " 'Category:Lists of astronauts': Category:Lists of astronauts (id: ??, ns: 14),\n",
       " 'Category:Books by astronauts': Category:Books by astronauts (id: ??, ns: 14),\n",
       " 'Category:Astronaut candidates': Category:Astronaut candidates (id: ??, ns: 14),\n",
       " 'Category:Commercial astronauts': Category:Commercial astronauts (id: ??, ns: 14),\n",
       " 'Category:Cultural depictions of astronauts': Category:Cultural depictions of astronauts (id: ??, ns: 14),\n",
       " 'Category:Educator astronauts': Category:Educator astronauts (id: ??, ns: 14),\n",
       " 'Category:European astronauts': Category:European astronauts (id: ??, ns: 14),\n",
       " 'Category:Fictional astronauts': Category:Fictional astronauts (id: ??, ns: 14),\n",
       " 'Category:NASA astronauts': Category:NASA astronauts (id: ??, ns: 14),\n",
       " 'Category:Physician astronauts': Category:Physician astronauts (id: ??, ns: 14),\n",
       " 'Category:Astronaut-politicians': Category:Astronaut-politicians (id: ??, ns: 14),\n",
       " 'Category:Spacewalkers': Category:Spacewalkers (id: ??, ns: 14),\n",
       " 'Category:Women astronauts': Category:Women astronauts (id: ??, ns: 14),\n",
       " 'Category:Works about astronauts': Category:Works about astronauts (id: ??, ns: 14),\n",
       " 'Category:Astronaut stubs': Category:Astronaut stubs (id: ??, ns: 14),\n",
       " 'Category:Wikipedia categories named after astronauts': Category:Wikipedia categories named after astronauts (id: ??, ns: 14)}"
      ]
     },
     "execution_count": 74,
     "metadata": {},
     "output_type": "execute_result"
    }
   ],
   "source": [
    "wiki_wiki.page(\"Category:Astronauts\").categorymembers"
   ]
  },
  {
   "cell_type": "markdown",
   "metadata": {},
   "source": [
    "There is a similar subcategory `Astronauts by nationality` which we can use as a base."
   ]
  },
  {
   "cell_type": "code",
   "execution_count": 75,
   "metadata": {},
   "outputs": [
    {
     "data": {
      "text/plain": [
       "dict_keys(['Category:Lists of astronauts by nationality', 'Category:Afghan cosmonauts', 'Category:American astronauts', 'Category:Australian astronauts', 'Category:Austrian astronauts', 'Category:Belgian astronauts', 'Category:Brazilian astronauts', 'Category:British astronauts', 'Category:Bulgarian cosmonauts', 'Category:Canadian astronauts', 'Category:Chinese astronauts', 'Category:Costa Rican astronauts', 'Category:Cuban cosmonauts', 'Category:Czech cosmonauts and astronauts', 'Category:Czechoslovak cosmonauts', 'Category:Danish astronauts', 'Category:Dutch astronauts', 'Category:Emirati astronauts', 'Category:French spationauts', 'Category:German astronauts', 'Category:Hungarian astronauts', 'Category:Indian astronauts', 'Category:Iranian astronauts', 'Category:Israeli astronauts', 'Category:Italian astronauts', 'Category:Japanese astronauts', 'Category:Kazakhstani cosmonauts', 'Category:Kyrgyzstani cosmonauts', 'Category:Lithuanian astronauts', 'Category:Malaysian astronauts', 'Category:Mexican astronauts', 'Category:Mongolian cosmonauts', 'Category:Peruvian astronauts', 'Category:Polish astronauts', 'Category:Romanian cosmonauts', 'Category:Russian cosmonauts', 'Category:Saudi Arabian astronauts', 'Category:Slovak cosmonauts', 'Category:South African astronauts', 'Category:South Korean astronauts', 'Category:Soviet cosmonauts', 'Category:Spanish astronauts', 'Category:Swedish astronauts', 'Category:Swiss astronauts', 'Category:Syrian cosmonauts', 'Category:Ukrainian cosmonauts', 'Category:Vietnamese astronauts'])"
      ]
     },
     "execution_count": 75,
     "metadata": {},
     "output_type": "execute_result"
    }
   ],
   "source": [
    "wiki_wiki.page(\"Category:Astronauts by nationality\").categorymembers.keys()"
   ]
  },
  {
   "cell_type": "markdown",
   "metadata": {},
   "source": [
    "All the subcategories we're interested in are of a form: `Category: <words> astronauts|cosmonauts`.\n",
    "We can add a regex to match it:"
   ]
  },
  {
   "cell_type": "code",
   "execution_count": 80,
   "metadata": {},
   "outputs": [
    {
     "data": {
      "text/plain": [
       "['Category:Afghan cosmonauts',\n",
       " 'Category:American astronauts',\n",
       " 'Category:Australian astronauts',\n",
       " 'Category:Austrian astronauts',\n",
       " 'Category:Belgian astronauts',\n",
       " 'Category:Brazilian astronauts',\n",
       " 'Category:British astronauts',\n",
       " 'Category:Bulgarian cosmonauts',\n",
       " 'Category:Canadian astronauts',\n",
       " 'Category:Chinese astronauts',\n",
       " 'Category:Costa Rican astronauts',\n",
       " 'Category:Cuban cosmonauts',\n",
       " 'Category:Czech cosmonauts and astronauts',\n",
       " 'Category:Czechoslovak cosmonauts',\n",
       " 'Category:Danish astronauts',\n",
       " 'Category:Dutch astronauts',\n",
       " 'Category:Emirati astronauts',\n",
       " 'Category:German astronauts',\n",
       " 'Category:Hungarian astronauts',\n",
       " 'Category:Indian astronauts',\n",
       " 'Category:Iranian astronauts',\n",
       " 'Category:Israeli astronauts',\n",
       " 'Category:Italian astronauts',\n",
       " 'Category:Japanese astronauts',\n",
       " 'Category:Kazakhstani cosmonauts',\n",
       " 'Category:Kyrgyzstani cosmonauts',\n",
       " 'Category:Lithuanian astronauts',\n",
       " 'Category:Malaysian astronauts',\n",
       " 'Category:Mexican astronauts',\n",
       " 'Category:Mongolian cosmonauts',\n",
       " 'Category:Peruvian astronauts',\n",
       " 'Category:Polish astronauts',\n",
       " 'Category:Romanian cosmonauts',\n",
       " 'Category:Russian cosmonauts',\n",
       " 'Category:Saudi Arabian astronauts',\n",
       " 'Category:Slovak cosmonauts',\n",
       " 'Category:South African astronauts',\n",
       " 'Category:South Korean astronauts',\n",
       " 'Category:Soviet cosmonauts',\n",
       " 'Category:Spanish astronauts',\n",
       " 'Category:Swedish astronauts',\n",
       " 'Category:Swiss astronauts',\n",
       " 'Category:Syrian cosmonauts',\n",
       " 'Category:Ukrainian cosmonauts',\n",
       " 'Category:Vietnamese astronauts']"
      ]
     },
     "execution_count": 80,
     "metadata": {},
     "output_type": "execute_result"
    }
   ],
   "source": [
    "p4 = re.compile(r'Category:[A-Za-z ]* (astronauts|cosmonauts)$')\n",
    "all_astr_cats = wiki_wiki.page(\"Category:Astronauts by nationality\").categorymembers.keys()\n",
    "astr_cats = [c for c in all_astr_cats if p4.match(c)]\n",
    "astr_cats"
   ]
  },
  {
   "cell_type": "markdown",
   "metadata": {},
   "source": [
    "Now we can create a DataFrame using all these subcategories:"
   ]
  },
  {
   "cell_type": "code",
   "execution_count": 86,
   "metadata": {},
   "outputs": [
    {
     "data": {
      "text/html": [
       "<div>\n",
       "<style scoped>\n",
       "    .dataframe tbody tr th:only-of-type {\n",
       "        vertical-align: middle;\n",
       "    }\n",
       "\n",
       "    .dataframe tbody tr th {\n",
       "        vertical-align: top;\n",
       "    }\n",
       "\n",
       "    .dataframe thead th {\n",
       "        text-align: right;\n",
       "    }\n",
       "</style>\n",
       "<table border=\"1\" class=\"dataframe\">\n",
       "  <thead>\n",
       "    <tr style=\"text-align: right;\">\n",
       "      <th></th>\n",
       "      <th>Person</th>\n",
       "      <th>Subcategory</th>\n",
       "      <th>Category</th>\n",
       "    </tr>\n",
       "  </thead>\n",
       "  <tbody>\n",
       "    <tr>\n",
       "      <th>0</th>\n",
       "      <td>Abdul Ahad Momand</td>\n",
       "      <td>Afghan cosmonauts</td>\n",
       "      <td>Astronauts</td>\n",
       "    </tr>\n",
       "    <tr>\n",
       "      <th>1</th>\n",
       "      <td>John-David F. Bartoe</td>\n",
       "      <td>American astronauts</td>\n",
       "      <td>Astronauts</td>\n",
       "    </tr>\n",
       "    <tr>\n",
       "      <th>2</th>\n",
       "      <td>Robert J. Cenker</td>\n",
       "      <td>American astronauts</td>\n",
       "      <td>Astronauts</td>\n",
       "    </tr>\n",
       "    <tr>\n",
       "      <th>3</th>\n",
       "      <td>Marion Dietrich</td>\n",
       "      <td>American astronauts</td>\n",
       "      <td>Astronauts</td>\n",
       "    </tr>\n",
       "    <tr>\n",
       "      <th>4</th>\n",
       "      <td>Jared Isaacman</td>\n",
       "      <td>American astronauts</td>\n",
       "      <td>Astronauts</td>\n",
       "    </tr>\n",
       "    <tr>\n",
       "      <th>...</th>\n",
       "      <td>...</td>\n",
       "      <td>...</td>\n",
       "      <td>...</td>\n",
       "    </tr>\n",
       "    <tr>\n",
       "      <th>446</th>\n",
       "      <td>Pavel Popovich</td>\n",
       "      <td>Ukrainian cosmonauts</td>\n",
       "      <td>Astronauts</td>\n",
       "    </tr>\n",
       "    <tr>\n",
       "      <th>447</th>\n",
       "      <td>Yaroslav Pustovyi</td>\n",
       "      <td>Ukrainian cosmonauts</td>\n",
       "      <td>Astronauts</td>\n",
       "    </tr>\n",
       "    <tr>\n",
       "      <th>448</th>\n",
       "      <td>Eugene H. Trinh</td>\n",
       "      <td>Vietnamese astronauts</td>\n",
       "      <td>Astronauts</td>\n",
       "    </tr>\n",
       "    <tr>\n",
       "      <th>449</th>\n",
       "      <td>Phạm Tuân</td>\n",
       "      <td>Vietnamese astronauts</td>\n",
       "      <td>Astronauts</td>\n",
       "    </tr>\n",
       "    <tr>\n",
       "      <th>450</th>\n",
       "      <td>Bùi Thanh Liêm</td>\n",
       "      <td>Vietnamese astronauts</td>\n",
       "      <td>Astronauts</td>\n",
       "    </tr>\n",
       "  </tbody>\n",
       "</table>\n",
       "<p>451 rows × 3 columns</p>\n",
       "</div>"
      ],
      "text/plain": [
       "                   Person            Subcategory    Category\n",
       "0       Abdul Ahad Momand      Afghan cosmonauts  Astronauts\n",
       "1    John-David F. Bartoe    American astronauts  Astronauts\n",
       "2        Robert J. Cenker    American astronauts  Astronauts\n",
       "3         Marion Dietrich    American astronauts  Astronauts\n",
       "4          Jared Isaacman    American astronauts  Astronauts\n",
       "..                    ...                    ...         ...\n",
       "446        Pavel Popovich   Ukrainian cosmonauts  Astronauts\n",
       "447     Yaroslav Pustovyi   Ukrainian cosmonauts  Astronauts\n",
       "448       Eugene H. Trinh  Vietnamese astronauts  Astronauts\n",
       "449             Phạm Tuân  Vietnamese astronauts  Astronauts\n",
       "450        Bùi Thanh Liêm  Vietnamese astronauts  Astronauts\n",
       "\n",
       "[451 rows x 3 columns]"
      ]
     },
     "execution_count": 86,
     "metadata": {},
     "output_type": "execute_result"
    }
   ],
   "source": [
    "all_astronauts = get_people_list(astr_cats, 'Astronauts', p2)\n",
    "all_astronauts_df = pd.DataFrame(all_astronauts)\n",
    "all_astronauts_df"
   ]
  },
  {
   "cell_type": "markdown",
   "metadata": {},
   "source": [
    "We can as well store this information in a CSV:"
   ]
  },
  {
   "cell_type": "code",
   "execution_count": 87,
   "metadata": {},
   "outputs": [],
   "source": [
    "all_astronauts_df.to_csv('all_astronauts_list.csv')"
   ]
  },
  {
   "cell_type": "markdown",
   "metadata": {},
   "source": [
    "_______________________"
   ]
  },
  {
   "cell_type": "markdown",
   "metadata": {},
   "source": [
    "Overall, we can see that there are much more writers than astronauts which we will need to address later."
   ]
  },
  {
   "cell_type": "markdown",
   "metadata": {},
   "source": [
    "# Getting texts for each person"
   ]
  },
  {
   "cell_type": "markdown",
   "metadata": {},
   "source": [
    "Now that we have lists of personalities, we can store content of each article into a corresponding folder."
   ]
  },
  {
   "cell_type": "code",
   "execution_count": 94,
   "metadata": {},
   "outputs": [],
   "source": [
    "def save_people_text(people, category):\n",
    "    for p in people:\n",
    "        with open(f'{category}/{p}_{category}.txt', 'w') as f:\n",
    "            f.write(wiki_wiki.page(p).text)"
   ]
  },
  {
   "cell_type": "code",
   "execution_count": 95,
   "metadata": {},
   "outputs": [],
   "source": [
    "save_people_text(all_astronauts_df['Person'], 'Astronauts')"
   ]
  },
  {
   "cell_type": "code",
   "execution_count": 107,
   "metadata": {},
   "outputs": [],
   "source": [
    "save_people_text(all_writers_df['Person'], 'Writers')"
   ]
  },
  {
   "cell_type": "markdown",
   "metadata": {},
   "source": [
    "# Combined DataFrame"
   ]
  },
  {
   "cell_type": "markdown",
   "metadata": {},
   "source": [
    "We know that there are much more writer articles than astronaut ones.\n",
    "To address this, we will first create a random sample of the same size for Writers and Astronauts and then store there texts in a dataframe."
   ]
  },
  {
   "cell_type": "code",
   "execution_count": 108,
   "metadata": {},
   "outputs": [],
   "source": [
    "def get_sample_2cat(size, df1, df2):\n",
    "    return pd.concat([df1.sample(n=size), df2.sample(n=size)])"
   ]
  },
  {
   "cell_type": "code",
   "execution_count": 111,
   "metadata": {},
   "outputs": [
    {
     "data": {
      "text/html": [
       "<div>\n",
       "<style scoped>\n",
       "    .dataframe tbody tr th:only-of-type {\n",
       "        vertical-align: middle;\n",
       "    }\n",
       "\n",
       "    .dataframe tbody tr th {\n",
       "        vertical-align: top;\n",
       "    }\n",
       "\n",
       "    .dataframe thead th {\n",
       "        text-align: right;\n",
       "    }\n",
       "</style>\n",
       "<table border=\"1\" class=\"dataframe\">\n",
       "  <thead>\n",
       "    <tr style=\"text-align: right;\">\n",
       "      <th></th>\n",
       "      <th>Person</th>\n",
       "      <th>Subcategory</th>\n",
       "      <th>Category</th>\n",
       "    </tr>\n",
       "  </thead>\n",
       "  <tbody>\n",
       "    <tr>\n",
       "      <th>104</th>\n",
       "      <td>Jeanette Epps</td>\n",
       "      <td>American astronauts</td>\n",
       "      <td>Astronauts</td>\n",
       "    </tr>\n",
       "    <tr>\n",
       "      <th>288</th>\n",
       "      <td>Sergey Avdeev</td>\n",
       "      <td>Russian cosmonauts</td>\n",
       "      <td>Astronauts</td>\n",
       "    </tr>\n",
       "    <tr>\n",
       "      <th>198</th>\n",
       "      <td>Matthias Maurer</td>\n",
       "      <td>German astronauts</td>\n",
       "      <td>Astronauts</td>\n",
       "    </tr>\n",
       "    <tr>\n",
       "      <th>365</th>\n",
       "      <td>Andriyan Nikolayev</td>\n",
       "      <td>Soviet cosmonauts</td>\n",
       "      <td>Astronauts</td>\n",
       "    </tr>\n",
       "    <tr>\n",
       "      <th>412</th>\n",
       "      <td>Gennady Manakov</td>\n",
       "      <td>Soviet cosmonauts</td>\n",
       "      <td>Astronauts</td>\n",
       "    </tr>\n",
       "    <tr>\n",
       "      <th>...</th>\n",
       "      <td>...</td>\n",
       "      <td>...</td>\n",
       "      <td>...</td>\n",
       "    </tr>\n",
       "    <tr>\n",
       "      <th>7053</th>\n",
       "      <td>Uhwudong</td>\n",
       "      <td>Korean writers</td>\n",
       "      <td>Writers</td>\n",
       "    </tr>\n",
       "    <tr>\n",
       "      <th>5383</th>\n",
       "      <td>Óttar M. Norðfjörð</td>\n",
       "      <td>Icelandic writers</td>\n",
       "      <td>Writers</td>\n",
       "    </tr>\n",
       "    <tr>\n",
       "      <th>4093</th>\n",
       "      <td>Claude Phillips</td>\n",
       "      <td>English writers</td>\n",
       "      <td>Writers</td>\n",
       "    </tr>\n",
       "    <tr>\n",
       "      <th>7477</th>\n",
       "      <td>Francis Moto</td>\n",
       "      <td>Malawian writers</td>\n",
       "      <td>Writers</td>\n",
       "    </tr>\n",
       "    <tr>\n",
       "      <th>7542</th>\n",
       "      <td>Zainal Abidin Ahmad (writer)</td>\n",
       "      <td>Malaysian writers</td>\n",
       "      <td>Writers</td>\n",
       "    </tr>\n",
       "  </tbody>\n",
       "</table>\n",
       "<p>400 rows × 3 columns</p>\n",
       "</div>"
      ],
      "text/plain": [
       "                            Person          Subcategory    Category\n",
       "104                  Jeanette Epps  American astronauts  Astronauts\n",
       "288                  Sergey Avdeev   Russian cosmonauts  Astronauts\n",
       "198                Matthias Maurer    German astronauts  Astronauts\n",
       "365             Andriyan Nikolayev    Soviet cosmonauts  Astronauts\n",
       "412                Gennady Manakov    Soviet cosmonauts  Astronauts\n",
       "...                            ...                  ...         ...\n",
       "7053                      Uhwudong       Korean writers     Writers\n",
       "5383            Óttar M. Norðfjörð    Icelandic writers     Writers\n",
       "4093               Claude Phillips      English writers     Writers\n",
       "7477                  Francis Moto     Malawian writers     Writers\n",
       "7542  Zainal Abidin Ahmad (writer)    Malaysian writers     Writers\n",
       "\n",
       "[400 rows x 3 columns]"
      ]
     },
     "execution_count": 111,
     "metadata": {},
     "output_type": "execute_result"
    }
   ],
   "source": [
    "combined_df = get_sample_2cat(200, all_astronauts_df, all_writers_df)\n",
    "combined_df"
   ]
  },
  {
   "cell_type": "markdown",
   "metadata": {},
   "source": [
    "We can now merge the DataFrame with the actual text of the person's article:"
   ]
  },
  {
   "cell_type": "code",
   "execution_count": 132,
   "metadata": {},
   "outputs": [],
   "source": [
    "def add_text_to_df(df):\n",
    "    texts = []\n",
    "    for i in range(len(df)):\n",
    "        cat = df.iloc[i]['Category']\n",
    "        p = df.iloc[i]['Person']\n",
    "        with open(f'{cat}/{p}_{cat}.txt') as f:\n",
    "            text = f.read()        \n",
    "        texts.append(text)    \n",
    "    \n",
    "    df['Text'] = texts\n",
    "    return df"
   ]
  },
  {
   "cell_type": "code",
   "execution_count": 133,
   "metadata": {},
   "outputs": [
    {
     "data": {
      "text/html": [
       "<div>\n",
       "<style scoped>\n",
       "    .dataframe tbody tr th:only-of-type {\n",
       "        vertical-align: middle;\n",
       "    }\n",
       "\n",
       "    .dataframe tbody tr th {\n",
       "        vertical-align: top;\n",
       "    }\n",
       "\n",
       "    .dataframe thead th {\n",
       "        text-align: right;\n",
       "    }\n",
       "</style>\n",
       "<table border=\"1\" class=\"dataframe\">\n",
       "  <thead>\n",
       "    <tr style=\"text-align: right;\">\n",
       "      <th></th>\n",
       "      <th>Person</th>\n",
       "      <th>Subcategory</th>\n",
       "      <th>Category</th>\n",
       "      <th>Text</th>\n",
       "    </tr>\n",
       "  </thead>\n",
       "  <tbody>\n",
       "    <tr>\n",
       "      <th>104</th>\n",
       "      <td>Jeanette Epps</td>\n",
       "      <td>American astronauts</td>\n",
       "      <td>Astronauts</td>\n",
       "      <td>Jeanette Jo Epps (born November 3, 1970) is an...</td>\n",
       "    </tr>\n",
       "    <tr>\n",
       "      <th>288</th>\n",
       "      <td>Sergey Avdeev</td>\n",
       "      <td>Russian cosmonauts</td>\n",
       "      <td>Astronauts</td>\n",
       "      <td>Sergei Vasilyevich Avdeyev (Сергей Васильевич ...</td>\n",
       "    </tr>\n",
       "    <tr>\n",
       "      <th>198</th>\n",
       "      <td>Matthias Maurer</td>\n",
       "      <td>German astronauts</td>\n",
       "      <td>Astronauts</td>\n",
       "      <td>Matthias Josef Maurer (born 18 March 1970) is ...</td>\n",
       "    </tr>\n",
       "    <tr>\n",
       "      <th>365</th>\n",
       "      <td>Andriyan Nikolayev</td>\n",
       "      <td>Soviet cosmonauts</td>\n",
       "      <td>Astronauts</td>\n",
       "      <td>Andriyan Grigoryevich Nikolayev (Chuvash and R...</td>\n",
       "    </tr>\n",
       "    <tr>\n",
       "      <th>412</th>\n",
       "      <td>Gennady Manakov</td>\n",
       "      <td>Soviet cosmonauts</td>\n",
       "      <td>Astronauts</td>\n",
       "      <td>Gennady Mikhailovich Manakov (Russian: Геннади...</td>\n",
       "    </tr>\n",
       "    <tr>\n",
       "      <th>...</th>\n",
       "      <td>...</td>\n",
       "      <td>...</td>\n",
       "      <td>...</td>\n",
       "      <td>...</td>\n",
       "    </tr>\n",
       "    <tr>\n",
       "      <th>7053</th>\n",
       "      <td>Uhwudong</td>\n",
       "      <td>Korean writers</td>\n",
       "      <td>Writers</td>\n",
       "      <td>Eowudong or Uhwudong (어우동, 於宇同; 1440 - 18 Octo...</td>\n",
       "    </tr>\n",
       "    <tr>\n",
       "      <th>5383</th>\n",
       "      <td>Óttar M. Norðfjörð</td>\n",
       "      <td>Icelandic writers</td>\n",
       "      <td>Writers</td>\n",
       "      <td>Óttar Martin Norðfjörð (born 1980) is an Icela...</td>\n",
       "    </tr>\n",
       "    <tr>\n",
       "      <th>4093</th>\n",
       "      <td>Claude Phillips</td>\n",
       "      <td>English writers</td>\n",
       "      <td>Writers</td>\n",
       "      <td>Sir Claude Phillips (29 January 1846 – 9 Augus...</td>\n",
       "    </tr>\n",
       "    <tr>\n",
       "      <th>7477</th>\n",
       "      <td>Francis Moto</td>\n",
       "      <td>Malawian writers</td>\n",
       "      <td>Writers</td>\n",
       "      <td>Professor Francis P. B. Moto (born 1952) is a ...</td>\n",
       "    </tr>\n",
       "    <tr>\n",
       "      <th>7542</th>\n",
       "      <td>Zainal Abidin Ahmad (writer)</td>\n",
       "      <td>Malaysian writers</td>\n",
       "      <td>Writers</td>\n",
       "      <td>Tan Sri Zainal Abidin bin Ahmad (16 September ...</td>\n",
       "    </tr>\n",
       "  </tbody>\n",
       "</table>\n",
       "<p>400 rows × 4 columns</p>\n",
       "</div>"
      ],
      "text/plain": [
       "                            Person          Subcategory    Category  \\\n",
       "104                  Jeanette Epps  American astronauts  Astronauts   \n",
       "288                  Sergey Avdeev   Russian cosmonauts  Astronauts   \n",
       "198                Matthias Maurer    German astronauts  Astronauts   \n",
       "365             Andriyan Nikolayev    Soviet cosmonauts  Astronauts   \n",
       "412                Gennady Manakov    Soviet cosmonauts  Astronauts   \n",
       "...                            ...                  ...         ...   \n",
       "7053                      Uhwudong       Korean writers     Writers   \n",
       "5383            Óttar M. Norðfjörð    Icelandic writers     Writers   \n",
       "4093               Claude Phillips      English writers     Writers   \n",
       "7477                  Francis Moto     Malawian writers     Writers   \n",
       "7542  Zainal Abidin Ahmad (writer)    Malaysian writers     Writers   \n",
       "\n",
       "                                                   Text  \n",
       "104   Jeanette Jo Epps (born November 3, 1970) is an...  \n",
       "288   Sergei Vasilyevich Avdeyev (Сергей Васильевич ...  \n",
       "198   Matthias Josef Maurer (born 18 March 1970) is ...  \n",
       "365   Andriyan Grigoryevich Nikolayev (Chuvash and R...  \n",
       "412   Gennady Mikhailovich Manakov (Russian: Геннади...  \n",
       "...                                                 ...  \n",
       "7053  Eowudong or Uhwudong (어우동, 於宇同; 1440 - 18 Octo...  \n",
       "5383  Óttar Martin Norðfjörð (born 1980) is an Icela...  \n",
       "4093  Sir Claude Phillips (29 January 1846 – 9 Augus...  \n",
       "7477  Professor Francis P. B. Moto (born 1952) is a ...  \n",
       "7542  Tan Sri Zainal Abidin bin Ahmad (16 September ...  \n",
       "\n",
       "[400 rows x 4 columns]"
      ]
     },
     "execution_count": 133,
     "metadata": {},
     "output_type": "execute_result"
    }
   ],
   "source": [
    "df_with_texts = add_text_to_df(combined_df)\n",
    "df_with_texts"
   ]
  },
  {
   "cell_type": "markdown",
   "metadata": {},
   "source": [
    "We can store this DataFrame to a csv file as well:"
   ]
  },
  {
   "cell_type": "code",
   "execution_count": 134,
   "metadata": {},
   "outputs": [],
   "source": [
    "df_with_texts.to_csv('df_with_texts.csv')"
   ]
  },
  {
   "cell_type": "code",
   "execution_count": 11,
   "metadata": {},
   "outputs": [
    {
     "data": {
      "text/html": [
       "<div>\n",
       "<style scoped>\n",
       "    .dataframe tbody tr th:only-of-type {\n",
       "        vertical-align: middle;\n",
       "    }\n",
       "\n",
       "    .dataframe tbody tr th {\n",
       "        vertical-align: top;\n",
       "    }\n",
       "\n",
       "    .dataframe thead th {\n",
       "        text-align: right;\n",
       "    }\n",
       "</style>\n",
       "<table border=\"1\" class=\"dataframe\">\n",
       "  <thead>\n",
       "    <tr style=\"text-align: right;\">\n",
       "      <th></th>\n",
       "      <th>Person</th>\n",
       "      <th>Subcategory</th>\n",
       "      <th>Category</th>\n",
       "      <th>Text</th>\n",
       "    </tr>\n",
       "  </thead>\n",
       "  <tbody>\n",
       "    <tr>\n",
       "      <th>104</th>\n",
       "      <td>Jeanette Epps</td>\n",
       "      <td>American astronauts</td>\n",
       "      <td>Astronauts</td>\n",
       "      <td>Jeanette Jo Epps (born November 3, 1970) is an...</td>\n",
       "    </tr>\n",
       "    <tr>\n",
       "      <th>288</th>\n",
       "      <td>Sergey Avdeev</td>\n",
       "      <td>Russian cosmonauts</td>\n",
       "      <td>Astronauts</td>\n",
       "      <td>Sergei Vasilyevich Avdeyev (Сергей Васильевич ...</td>\n",
       "    </tr>\n",
       "    <tr>\n",
       "      <th>198</th>\n",
       "      <td>Matthias Maurer</td>\n",
       "      <td>German astronauts</td>\n",
       "      <td>Astronauts</td>\n",
       "      <td>Matthias Josef Maurer (born 18 March 1970) is ...</td>\n",
       "    </tr>\n",
       "    <tr>\n",
       "      <th>365</th>\n",
       "      <td>Andriyan Nikolayev</td>\n",
       "      <td>Soviet cosmonauts</td>\n",
       "      <td>Astronauts</td>\n",
       "      <td>Andriyan Grigoryevich Nikolayev (Chuvash and R...</td>\n",
       "    </tr>\n",
       "    <tr>\n",
       "      <th>412</th>\n",
       "      <td>Gennady Manakov</td>\n",
       "      <td>Soviet cosmonauts</td>\n",
       "      <td>Astronauts</td>\n",
       "      <td>Gennady Mikhailovich Manakov (Russian: Геннади...</td>\n",
       "    </tr>\n",
       "    <tr>\n",
       "      <th>...</th>\n",
       "      <td>...</td>\n",
       "      <td>...</td>\n",
       "      <td>...</td>\n",
       "      <td>...</td>\n",
       "    </tr>\n",
       "    <tr>\n",
       "      <th>7053</th>\n",
       "      <td>Uhwudong</td>\n",
       "      <td>Korean writers</td>\n",
       "      <td>Writers</td>\n",
       "      <td>Eowudong or Uhwudong (어우동, 於宇同; 1440 - 18 Octo...</td>\n",
       "    </tr>\n",
       "    <tr>\n",
       "      <th>5383</th>\n",
       "      <td>Óttar M. Norðfjörð</td>\n",
       "      <td>Icelandic writers</td>\n",
       "      <td>Writers</td>\n",
       "      <td>Óttar Martin Norðfjörð (born 1980) is an Icela...</td>\n",
       "    </tr>\n",
       "    <tr>\n",
       "      <th>4093</th>\n",
       "      <td>Claude Phillips</td>\n",
       "      <td>English writers</td>\n",
       "      <td>Writers</td>\n",
       "      <td>Sir Claude Phillips (29 January 1846 – 9 Augus...</td>\n",
       "    </tr>\n",
       "    <tr>\n",
       "      <th>7477</th>\n",
       "      <td>Francis Moto</td>\n",
       "      <td>Malawian writers</td>\n",
       "      <td>Writers</td>\n",
       "      <td>Professor Francis P. B. Moto (born 1952) is a ...</td>\n",
       "    </tr>\n",
       "    <tr>\n",
       "      <th>7542</th>\n",
       "      <td>Zainal Abidin Ahmad (writer)</td>\n",
       "      <td>Malaysian writers</td>\n",
       "      <td>Writers</td>\n",
       "      <td>Tan Sri Zainal Abidin bin Ahmad (16 September ...</td>\n",
       "    </tr>\n",
       "  </tbody>\n",
       "</table>\n",
       "<p>400 rows × 4 columns</p>\n",
       "</div>"
      ],
      "text/plain": [
       "                            Person          Subcategory    Category  \\\n",
       "104                  Jeanette Epps  American astronauts  Astronauts   \n",
       "288                  Sergey Avdeev   Russian cosmonauts  Astronauts   \n",
       "198                Matthias Maurer    German astronauts  Astronauts   \n",
       "365             Andriyan Nikolayev    Soviet cosmonauts  Astronauts   \n",
       "412                Gennady Manakov    Soviet cosmonauts  Astronauts   \n",
       "...                            ...                  ...         ...   \n",
       "7053                      Uhwudong       Korean writers     Writers   \n",
       "5383            Óttar M. Norðfjörð    Icelandic writers     Writers   \n",
       "4093               Claude Phillips      English writers     Writers   \n",
       "7477                  Francis Moto     Malawian writers     Writers   \n",
       "7542  Zainal Abidin Ahmad (writer)    Malaysian writers     Writers   \n",
       "\n",
       "                                                   Text  \n",
       "104   Jeanette Jo Epps (born November 3, 1970) is an...  \n",
       "288   Sergei Vasilyevich Avdeyev (Сергей Васильевич ...  \n",
       "198   Matthias Josef Maurer (born 18 March 1970) is ...  \n",
       "365   Andriyan Grigoryevich Nikolayev (Chuvash and R...  \n",
       "412   Gennady Mikhailovich Manakov (Russian: Геннади...  \n",
       "...                                                 ...  \n",
       "7053  Eowudong or Uhwudong (어우동, 於宇同; 1440 - 18 Octo...  \n",
       "5383  Óttar Martin Norðfjörð (born 1980) is an Icela...  \n",
       "4093  Sir Claude Phillips (29 January 1846 – 9 Augus...  \n",
       "7477  Professor Francis P. B. Moto (born 1952) is a ...  \n",
       "7542  Tan Sri Zainal Abidin bin Ahmad (16 September ...  \n",
       "\n",
       "[400 rows x 4 columns]"
      ]
     },
     "execution_count": 11,
     "metadata": {},
     "output_type": "execute_result"
    }
   ],
   "source": [
    "pd.read_csv('df_with_texts.csv', index_col=0)"
   ]
  },
  {
   "cell_type": "markdown",
   "metadata": {},
   "source": [
    "# Text cleaning"
   ]
  },
  {
   "cell_type": "code",
   "execution_count": 2,
   "metadata": {},
   "outputs": [
    {
     "name": "stdout",
     "output_type": "stream",
     "text": [
      "A B M Shawkat Ali is a Bangladeshi origin-Australian author, computer scientist and data analyst. He author of several books in the area of Data Mining, Computational Intelligence, and Smart Grid. He is a newspaper columnist. He is an academic and well-known researcher in the areas of Machine Learning and Data Science. He is also the founder of a research center and international conferences in Data Science and Engineering. He is now an Adjunct Professor in Data Science in the School of Engineering and Technology, Central Queensland University, Australia. Early life and education Ali was born (July 30, 1969) just before the independent date of Bangladesh in Rajapur, Jamalpur. His parents Md. Saifuddin Sarker was a farmer and businessman and Mrs. Soufia Khatun was a housewife. Ali has two brothers and three sisters. He completed year five Primary education with regional first position from Rajapur Primary School in 1978, Secondary School Certificate (SSC) in 1984 securing First Division from Bahruakhali M N A High School, Jamalpur, Higher Secondary Certificate (HSC) in 1984 also securing First Division from Nasirabad College, Mymenshing in 1986. Then he got admission to study Electronics and Applied Physics Engineering Honours degree in The University of Rajshahi by obtaining the number one position in the admission within the Faculty of Science. In Master's Examination (1991) from Rajshahi University, he obtained the second position with first class by breaking the 12 years record marks from the project group and was awarded a National Ministry of Science (NST) scholarship to study Master of Philosophy (MPhil) in computer science and engineering from the same university. Professional memberships a. Senior Member, The Institute of Electrical and Electronics Engineers (IEEE), USA b. Member, IEEE Computer Society, IEEE Industrial Electronics Society, IEEE Big Data Community, IEEE Cloud Computing Community, IEEE Cloud Computing Community, IEEE Systems, Man, and Cybernetics Societyc. Member, Machine Intelligence Research Labs, USA d. Member, Victorian Chamber of Commerce and Industry, Australia Professional career Ali started his professional career by teaching as a lecturer in the Department of Computer Science and Engineering, Islamic University, Bangladesh in Kushtia in 1997. Then he was promoted as an Assistant Professor in the same university in 1999. In 2001, Ali received the International Post Graduation Scholarship to pursue his PhD research at Monash University, Melbourne, Australia in Information Technology with a major Statistical Learning Theory under Machine Learning.  In the same year, Ali joined Gippsland School of Information Technology (GSIT), Monash University as an Assistant Lecturer. After submitting his PhD Thesis, he joined immediately as a Lead Lecturer in Data Mining at Central Queensland University in 2005. In 2006 Ali moved to Central Queensland University's main campus at Rockhampton, Queensland, Australia, and he was promoted as a Senior Lecturer in the School of Computer Science in 2008. In 2007 he became an author of book writing and his book is using over the 40 universities around the world as a text. Again, Ali moved to the School of Engineering and Technology in 2013 at the same university. He worked as a Visiting Professor under Consumer Purchasing Behaviour Monitoring in 2013 at the School of Business, Kansai University, Japan. In 2014 Ali moved to a South Pacific country – Fiji and joined as a Professor in Computer Science under the Department of Computer Science and Information Technology, The University of Fiji and appointed as a Head of Department. At the end of 2014, he resigned from head of department position and joined as an executive dean for the School of Science and Technology at the same university. In 2017, he joined as a visiting faculty for MBA program at The University of the South Pacific. Ali served as an academic consultant to Fiji National University to establish post-grad (Post Grad Diploma, Master's, and PhD) programs in 2018. Then he moved to Central Queensland University in 2019 as an Adjunct Professor in Data Science. Awards a. Vice-Chancellor's Research Excellence Award, The University of Fiji, 2014.b. Outstanding Leadership Award, 12th IEEE International Conference on Trust, Security and Privacy in Computing and Communications, 2013.c. Excellence in Supervision Award, Central Queensland University, Australia, 2007. d. Monash University Publication Awards, 2004. Media interviews Instacharge App, The Guardian Interview, 2016  Interview with IEEE, 2015  CQ University News, 2013  Interview with Australian Broadcasting Corporation (ABC), 2013 Interview with IEEE, 2012 Founder and international community services Ali established a research and training centre in Fiji and he is the founder of two international conferences in Information Technology and Engineering. a. Centre for Smart Technology, Fiji b. IEEE Asia-Pacific Conference on Computer Science and Data Engineering (IEEE CSDE) c. International Conference on Sustainable Technology and Engineering (i-COSTE) Ali served widely international community a. IEEE Student Counsellor, 2008–2010.b. Fiji government delegate to The United Nations Climate Change Conference, COP20 in Lima, Peru, from December 1 to 12, 2014.c. Program advisor to The University of Alicante, Spain and The University of Papua New Guinea, PNG, 2016. d. UniFiji delegate to The Commonwealth Education Ministers Conference, 2018.e. ICISET 2016, International Advisor, Bangladesh, 2016. Ali is a well-known international keynote speaker a. Statistical learning Theory, Rajshahi University, Bangladesh, 2019 b. Machine Learning, Rajshahi University, Bangladesh, 2018 c. Big Data: Changing the way of our businesses, Kansai University, Japan, 2016 d. Quantum Computing, International Colloquium on Advanced Convergence Engineering, KMOU, South Korea, 2018. e. International conference on Bioinformatics and Biostatistics for Agriculture, Rajshahi University, Bangladesh, 2017.f.  Current Research Trends in ICT, Islamic University, Bangladesh, 2017.Ali led few international conferences as a General Chair a. General Chair: The Australasian Universities Power Engineering Conference (AUPEC 2019), Mariott Resort, Fiji, 26-29th Nov. 2019.b. General Chair: 10th International Conference Internet and Distributed Computing System (IDCS 2017) in Mana Island, Fiji on 12–14 December 2017.c. General Chair: The 16th IEEE International Conference on Computer and Information Technology (CIT-2016), 8–10 December, Shangri-La's Fijian Resort and Spa – Yanuca Island, Fiji.d. General Chair: The 2nd International Symposium on Security and Privacy in Social Networks and Big Data (SocialSec 2016), 8–10 December, Shangri-La's Fijian Resort and Spa – Yanuca Island, Fiji.e. General Chair: The 3rd International Conference on Internet of Vehicles (IOV 2016), 8–10 December, Shangri-La's Fijian Resort and Spa – Yanuca Island, Fiji.f.  General Chair: The Sixth IEEE International Symposium on Cloud and Services Computing (SC2 2016), Shangri-La's Fijian Resort and Spa – Yanuca Island, Fiji.g. General Chair: The 10th International Conference on Green, Pervasive and Cloud Computing (GPC 2015) held in Plantation Island, Fiji, 4–6 May 2015. Publications Ali have published books, book chapters, research papers and newspaper articles over 150, all his research publications have appeared in peer-reviewed journals and conference proceedings. Books a. Internet and Distributed Computing Systems, Springer, 2018, ISBN 978-3-319-97794-2. b. Internet of Vehicles – Technologies and Services, Springer, 2017, ISBN 978-3319519685. c. Internet and Distributed Computing Systems, Springer, 2016, ISBN 978-3-319-45940-0. d. Energy Storage for Power Utility, LAP LAMBERT Academic Publishing, Germany, 2014, ISBN ISBN 978-3-659-56371-3. e. Computational Intelligence for Decision Support in Cyber Physical Systems, Springer, 2014, ISBN 978-981-4585-35-4. f.  Smart Grids: Opportunities, Developments, and Trends, Springer-Verlag London, 2013, ISBN 978-1-4471-5209-5. g. Multidisciplinary Computational Intelligence Techniques: Applications in Business, Engineering and Medicine, IGI Global, USA, 2012, ISBN 978-1-46661-8305. h. Dynamic and Advanced Data Mining for Progressing Technological Development: Innovations and Systemic Approaches, IGI Global, USA, 2010, ISBN 978-1-60566-908-3. i.  Data Mining: Methods and Techniques. Thomson, Australia. 2007. ISBN 9780170136761. Newspaper articles a. Golden Opportunity For Sports Institute  b. FOCUS: Cloud Computing – Time To Get In  c. FOCUS: Golap Banu Story With A Fijian Lesson References External links For publication details: A B M Shawkat Ali publications indexed by Google Scholar\n"
     ]
    }
   ],
   "source": [
    "with open('Writers/A B M Shawkat Ali_Writers.txt', 'r') as f:\n",
    "    text = f.read()\n",
    "print(text)"
   ]
  },
  {
   "cell_type": "markdown",
   "metadata": {},
   "source": [
    "We can see that the texts contain multiple linebreaks that can affect tokenization, we can replace all the linebreaks with spaces to avoid un-needed tokens for extra linebreaks."
   ]
  },
  {
   "cell_type": "code",
   "execution_count": 1,
   "metadata": {},
   "outputs": [],
   "source": [
    "from util import text_clean"
   ]
  },
  {
   "cell_type": "code",
   "execution_count": 3,
   "metadata": {},
   "outputs": [
    {
     "name": "stdout",
     "output_type": "stream",
     "text": [
      "A B M Shawkat Ali is a Bangladeshi origin-Australian author, computer scientist and data analyst. He author of several books in the area of Data Mining, Computational Intelligence, and Smart Grid. He is a newspaper columnist. He is an academic and well-known researcher in the areas of Machine Learning and Data Science. He is also the founder of a research center and international conferences in Data Science and Engineering. He is now an Adjunct Professor in Data Science in the School of Engineering and Technology, Central Queensland University, Australia. Early life and education Ali was born (July 30, 1969) just before the independent date of Bangladesh in Rajapur, Jamalpur. His parents Md. Saifuddin Sarker was a farmer and businessman and Mrs. Soufia Khatun was a housewife. Ali has two brothers and three sisters. He completed year five Primary education with regional first position from Rajapur Primary School in 1978, Secondary School Certificate (SSC) in 1984 securing First Division from Bahruakhali M N A High School, Jamalpur, Higher Secondary Certificate (HSC) in 1984 also securing First Division from Nasirabad College, Mymenshing in 1986. Then he got admission to study Electronics and Applied Physics Engineering Honours degree in The University of Rajshahi by obtaining the number one position in the admission within the Faculty of Science. In Master's Examination (1991) from Rajshahi University, he obtained the second position with first class by breaking the 12 years record marks from the project group and was awarded a National Ministry of Science (NST) scholarship to study Master of Philosophy (MPhil) in computer science and engineering from the same university. Professional memberships a. Senior Member, The Institute of Electrical and Electronics Engineers (IEEE), USA b. Member, IEEE Computer Society, IEEE Industrial Electronics Society, IEEE Big Data Community, IEEE Cloud Computing Community, IEEE Cloud Computing Community, IEEE Systems, Man, and Cybernetics Societyc. Member, Machine Intelligence Research Labs, USA d. Member, Victorian Chamber of Commerce and Industry, Australia Professional career Ali started his professional career by teaching as a lecturer in the Department of Computer Science and Engineering, Islamic University, Bangladesh in Kushtia in 1997. Then he was promoted as an Assistant Professor in the same university in 1999. In 2001, Ali received the International Post Graduation Scholarship to pursue his PhD research at Monash University, Melbourne, Australia in Information Technology with a major Statistical Learning Theory under Machine Learning. In the same year, Ali joined Gippsland School of Information Technology (GSIT), Monash University as an Assistant Lecturer. After submitting his PhD Thesis, he joined immediately as a Lead Lecturer in Data Mining at Central Queensland University in 2005. In 2006 Ali moved to Central Queensland University's main campus at Rockhampton, Queensland, Australia, and he was promoted as a Senior Lecturer in the School of Computer Science in 2008. In 2007 he became an author of book writing and his book is using over the 40 universities around the world as a text. Again, Ali moved to the School of Engineering and Technology in 2013 at the same university. He worked as a Visiting Professor under Consumer Purchasing Behaviour Monitoring in 2013 at the School of Business, Kansai University, Japan. In 2014 Ali moved to a South Pacific country – Fiji and joined as a Professor in Computer Science under the Department of Computer Science and Information Technology, The University of Fiji and appointed as a Head of Department. At the end of 2014, he resigned from head of department position and joined as an executive dean for the School of Science and Technology at the same university. In 2017, he joined as a visiting faculty for MBA program at The University of the South Pacific. Ali served as an academic consultant to Fiji National University to establish post-grad (Post Grad Diploma, Master's, and PhD) programs in 2018. Then he moved to Central Queensland University in 2019 as an Adjunct Professor in Data Science. Awards a. Vice-Chancellor's Research Excellence Award, The University of Fiji, 2014.b. Outstanding Leadership Award, 12th IEEE International Conference on Trust, Security and Privacy in Computing and Communications, 2013.c. Excellence in Supervision Award, Central Queensland University, Australia, 2007. d. Monash University Publication Awards, 2004. Media interviews Instacharge App, The Guardian Interview, 2016 Interview with IEEE, 2015 CQ University News, 2013 Interview with Australian Broadcasting Corporation (ABC), 2013 Interview with IEEE, 2012 Founder and international community services Ali established a research and training centre in Fiji and he is the founder of two international conferences in Information Technology and Engineering. a. Centre for Smart Technology, Fiji b. IEEE Asia-Pacific Conference on Computer Science and Data Engineering (IEEE CSDE) c. International Conference on Sustainable Technology and Engineering (i-COSTE) Ali served widely international community a. IEEE Student Counsellor, 2008–2010.b. Fiji government delegate to The United Nations Climate Change Conference, COP20 in Lima, Peru, from December 1 to 12, 2014.c. Program advisor to The University of Alicante, Spain and The University of Papua New Guinea, PNG, 2016. d. UniFiji delegate to The Commonwealth Education Ministers Conference, 2018.e. ICISET 2016, International Advisor, Bangladesh, 2016. Ali is a well-known international keynote speaker a. Statistical learning Theory, Rajshahi University, Bangladesh, 2019 b. Machine Learning, Rajshahi University, Bangladesh, 2018 c. Big Data: Changing the way of our businesses, Kansai University, Japan, 2016 d. Quantum Computing, International Colloquium on Advanced Convergence Engineering, KMOU, South Korea, 2018. e. International conference on Bioinformatics and Biostatistics for Agriculture, Rajshahi University, Bangladesh, 2017.f. Current Research Trends in ICT, Islamic University, Bangladesh, 2017.Ali led few international conferences as a General Chair a. General Chair: The Australasian Universities Power Engineering Conference (AUPEC 2019), Mariott Resort, Fiji, 26-29th Nov. 2019.b. General Chair: 10th International Conference Internet and Distributed Computing System (IDCS 2017) in Mana Island, Fiji on 12–14 December 2017.c. General Chair: The 16th IEEE International Conference on Computer and Information Technology (CIT-2016), 8–10 December, Shangri-La's Fijian Resort and Spa – Yanuca Island, Fiji.d. General Chair: The 2nd International Symposium on Security and Privacy in Social Networks and Big Data (SocialSec 2016), 8–10 December, Shangri-La's Fijian Resort and Spa – Yanuca Island, Fiji.e. General Chair: The 3rd International Conference on Internet of Vehicles (IOV 2016), 8–10 December, Shangri-La's Fijian Resort and Spa – Yanuca Island, Fiji.f. General Chair: The Sixth IEEE International Symposium on Cloud and Services Computing (SC2 2016), Shangri-La's Fijian Resort and Spa – Yanuca Island, Fiji.g. General Chair: The 10th International Conference on Green, Pervasive and Cloud Computing (GPC 2015) held in Plantation Island, Fiji, 4–6 May 2015. Publications Ali have published books, book chapters, research papers and newspaper articles over 150, all his research publications have appeared in peer-reviewed journals and conference proceedings. Books a. Internet and Distributed Computing Systems, Springer, 2018, ISBN 978-3-319-97794-2. b. Internet of Vehicles – Technologies and Services, Springer, 2017, ISBN 978-3319519685. c. Internet and Distributed Computing Systems, Springer, 2016, ISBN 978-3-319-45940-0. d. Energy Storage for Power Utility, LAP LAMBERT Academic Publishing, Germany, 2014, ISBN ISBN 978-3-659-56371-3. e. Computational Intelligence for Decision Support in Cyber Physical Systems, Springer, 2014, ISBN 978-981-4585-35-4. f. Smart Grids: Opportunities, Developments, and Trends, Springer-Verlag London, 2013, ISBN 978-1-4471-5209-5. g. Multidisciplinary Computational Intelligence Techniques: Applications in Business, Engineering and Medicine, IGI Global, USA, 2012, ISBN 978-1-46661-8305. h. Dynamic and Advanced Data Mining for Progressing Technological Development: Innovations and Systemic Approaches, IGI Global, USA, 2010, ISBN 978-1-60566-908-3. i. Data Mining: Methods and Techniques. Thomson, Australia. 2007. ISBN 9780170136761. Newspaper articles a. Golden Opportunity For Sports Institute b. FOCUS: Cloud Computing – Time To Get In c. FOCUS: Golap Banu Story With A Fijian Lesson References External links For publication details: A B M Shawkat Ali publications indexed by Google Scholar\n"
     ]
    }
   ],
   "source": [
    "print(text_clean(text))"
   ]
  },
  {
   "cell_type": "markdown",
   "metadata": {},
   "source": [
    "We will apply this cleaning to the generated DataFrame above:"
   ]
  },
  {
   "cell_type": "code",
   "execution_count": 5,
   "metadata": {},
   "outputs": [
    {
     "data": {
      "text/html": [
       "<div>\n",
       "<style scoped>\n",
       "    .dataframe tbody tr th:only-of-type {\n",
       "        vertical-align: middle;\n",
       "    }\n",
       "\n",
       "    .dataframe tbody tr th {\n",
       "        vertical-align: top;\n",
       "    }\n",
       "\n",
       "    .dataframe thead th {\n",
       "        text-align: right;\n",
       "    }\n",
       "</style>\n",
       "<table border=\"1\" class=\"dataframe\">\n",
       "  <thead>\n",
       "    <tr style=\"text-align: right;\">\n",
       "      <th></th>\n",
       "      <th>Person</th>\n",
       "      <th>Subcategory</th>\n",
       "      <th>Category</th>\n",
       "      <th>Text</th>\n",
       "    </tr>\n",
       "  </thead>\n",
       "  <tbody>\n",
       "    <tr>\n",
       "      <th>104</th>\n",
       "      <td>Jeanette Epps</td>\n",
       "      <td>American astronauts</td>\n",
       "      <td>Astronauts</td>\n",
       "      <td>Jeanette Jo Epps (born November 3, 1970) is an...</td>\n",
       "    </tr>\n",
       "    <tr>\n",
       "      <th>288</th>\n",
       "      <td>Sergey Avdeev</td>\n",
       "      <td>Russian cosmonauts</td>\n",
       "      <td>Astronauts</td>\n",
       "      <td>Sergei Vasilyevich Avdeyev (Сергей Васильевич ...</td>\n",
       "    </tr>\n",
       "    <tr>\n",
       "      <th>198</th>\n",
       "      <td>Matthias Maurer</td>\n",
       "      <td>German astronauts</td>\n",
       "      <td>Astronauts</td>\n",
       "      <td>Matthias Josef Maurer (born 18 March 1970) is ...</td>\n",
       "    </tr>\n",
       "    <tr>\n",
       "      <th>365</th>\n",
       "      <td>Andriyan Nikolayev</td>\n",
       "      <td>Soviet cosmonauts</td>\n",
       "      <td>Astronauts</td>\n",
       "      <td>Andriyan Grigoryevich Nikolayev (Chuvash and R...</td>\n",
       "    </tr>\n",
       "    <tr>\n",
       "      <th>412</th>\n",
       "      <td>Gennady Manakov</td>\n",
       "      <td>Soviet cosmonauts</td>\n",
       "      <td>Astronauts</td>\n",
       "      <td>Gennady Mikhailovich Manakov (Russian: Геннади...</td>\n",
       "    </tr>\n",
       "    <tr>\n",
       "      <th>...</th>\n",
       "      <td>...</td>\n",
       "      <td>...</td>\n",
       "      <td>...</td>\n",
       "      <td>...</td>\n",
       "    </tr>\n",
       "    <tr>\n",
       "      <th>7053</th>\n",
       "      <td>Uhwudong</td>\n",
       "      <td>Korean writers</td>\n",
       "      <td>Writers</td>\n",
       "      <td>Eowudong or Uhwudong (어우동, 於宇同; 1440 - 18 Octo...</td>\n",
       "    </tr>\n",
       "    <tr>\n",
       "      <th>5383</th>\n",
       "      <td>Óttar M. Norðfjörð</td>\n",
       "      <td>Icelandic writers</td>\n",
       "      <td>Writers</td>\n",
       "      <td>Óttar Martin Norðfjörð (born 1980) is an Icela...</td>\n",
       "    </tr>\n",
       "    <tr>\n",
       "      <th>4093</th>\n",
       "      <td>Claude Phillips</td>\n",
       "      <td>English writers</td>\n",
       "      <td>Writers</td>\n",
       "      <td>Sir Claude Phillips (29 January 1846 – 9 Augus...</td>\n",
       "    </tr>\n",
       "    <tr>\n",
       "      <th>7477</th>\n",
       "      <td>Francis Moto</td>\n",
       "      <td>Malawian writers</td>\n",
       "      <td>Writers</td>\n",
       "      <td>Professor Francis P. B. Moto (born 1952) is a ...</td>\n",
       "    </tr>\n",
       "    <tr>\n",
       "      <th>7542</th>\n",
       "      <td>Zainal Abidin Ahmad (writer)</td>\n",
       "      <td>Malaysian writers</td>\n",
       "      <td>Writers</td>\n",
       "      <td>Tan Sri Zainal Abidin bin Ahmad (16 September ...</td>\n",
       "    </tr>\n",
       "  </tbody>\n",
       "</table>\n",
       "<p>400 rows × 4 columns</p>\n",
       "</div>"
      ],
      "text/plain": [
       "                            Person          Subcategory    Category  \\\n",
       "104                  Jeanette Epps  American astronauts  Astronauts   \n",
       "288                  Sergey Avdeev   Russian cosmonauts  Astronauts   \n",
       "198                Matthias Maurer    German astronauts  Astronauts   \n",
       "365             Andriyan Nikolayev    Soviet cosmonauts  Astronauts   \n",
       "412                Gennady Manakov    Soviet cosmonauts  Astronauts   \n",
       "...                            ...                  ...         ...   \n",
       "7053                      Uhwudong       Korean writers     Writers   \n",
       "5383            Óttar M. Norðfjörð    Icelandic writers     Writers   \n",
       "4093               Claude Phillips      English writers     Writers   \n",
       "7477                  Francis Moto     Malawian writers     Writers   \n",
       "7542  Zainal Abidin Ahmad (writer)    Malaysian writers     Writers   \n",
       "\n",
       "                                                   Text  \n",
       "104   Jeanette Jo Epps (born November 3, 1970) is an...  \n",
       "288   Sergei Vasilyevich Avdeyev (Сергей Васильевич ...  \n",
       "198   Matthias Josef Maurer (born 18 March 1970) is ...  \n",
       "365   Andriyan Grigoryevich Nikolayev (Chuvash and R...  \n",
       "412   Gennady Mikhailovich Manakov (Russian: Геннади...  \n",
       "...                                                 ...  \n",
       "7053  Eowudong or Uhwudong (어우동, 於宇同; 1440 - 18 Octo...  \n",
       "5383  Óttar Martin Norðfjörð (born 1980) is an Icela...  \n",
       "4093  Sir Claude Phillips (29 January 1846 – 9 Augus...  \n",
       "7477  Professor Francis P. B. Moto (born 1952) is a ...  \n",
       "7542  Tan Sri Zainal Abidin bin Ahmad (16 September ...  \n",
       "\n",
       "[400 rows x 4 columns]"
      ]
     },
     "execution_count": 5,
     "metadata": {},
     "output_type": "execute_result"
    }
   ],
   "source": [
    "df = pd.read_csv('df_with_texts.csv', index_col=0)\n",
    "df"
   ]
  },
  {
   "cell_type": "code",
   "execution_count": 6,
   "metadata": {},
   "outputs": [],
   "source": [
    "df['Text'] = df['Text'].apply(text_clean)"
   ]
  },
  {
   "cell_type": "markdown",
   "metadata": {},
   "source": [
    "We will store it back to the CSV-file:"
   ]
  },
  {
   "cell_type": "code",
   "execution_count": 7,
   "metadata": {},
   "outputs": [],
   "source": [
    "df.to_csv('df_with_texts.csv')"
   ]
  },
  {
   "cell_type": "markdown",
   "metadata": {},
   "source": [
    "## Clean all texts"
   ]
  },
  {
   "cell_type": "markdown",
   "metadata": {},
   "source": [
    "We can also clean all previously scrapped texts:"
   ]
  },
  {
   "cell_type": "code",
   "execution_count": 72,
   "metadata": {},
   "outputs": [],
   "source": [
    "import os"
   ]
  },
  {
   "cell_type": "code",
   "execution_count": 73,
   "metadata": {},
   "outputs": [],
   "source": [
    "writers = os.listdir('Writers')"
   ]
  },
  {
   "cell_type": "code",
   "execution_count": 74,
   "metadata": {},
   "outputs": [],
   "source": [
    "for writer in writers:\n",
    "    with open(f'Writers/{writer}', 'r') as f:\n",
    "        text = f.read()\n",
    "        \n",
    "    text_cleaned = text_clean(text)\n",
    "    with open(f'Writers/{writer}', 'w') as f:\n",
    "        f.write(text_cleaned)"
   ]
  },
  {
   "cell_type": "code",
   "execution_count": 75,
   "metadata": {},
   "outputs": [],
   "source": [
    "astronauts = os.listdir('Astronauts')"
   ]
  },
  {
   "cell_type": "code",
   "execution_count": 76,
   "metadata": {},
   "outputs": [],
   "source": [
    "for astro in astronauts:\n",
    "    with open(f'Astronauts/{astro}', 'r') as f:\n",
    "        text = f.read()\n",
    "        \n",
    "    text_cleaned = text_clean(text)\n",
    "    with open(f'Astronauts/{astro}', 'w') as f:\n",
    "        f.write(text_cleaned)"
   ]
  }
 ],
 "metadata": {
  "kernelspec": {
   "display_name": "Python 3",
   "language": "python",
   "name": "python3"
  },
  "language_info": {
   "codemirror_mode": {
    "name": "ipython",
    "version": 3
   },
   "file_extension": ".py",
   "mimetype": "text/x-python",
   "name": "python",
   "nbconvert_exporter": "python",
   "pygments_lexer": "ipython3",
   "version": "3.8.5"
  }
 },
 "nbformat": 4,
 "nbformat_minor": 4
}
