{
 "cells": [
  {
   "cell_type": "code",
   "execution_count": 1,
   "metadata": {},
   "outputs": [],
   "source": [
    "from scipy.stats import ttest_ind"
   ]
  },
  {
   "cell_type": "code",
   "execution_count": 2,
   "metadata": {
    "id": "AAJl8Ipk26_L"
   },
   "outputs": [],
   "source": [
    "import pandas as pd\n",
    "import numpy as np\n",
    "import matplotlib.pyplot as plt\n",
    "from PIL import Image\n",
    "from wordcloud import WordCloud, STOPWORDS, ImageColorGenerator\n",
    "import re"
   ]
  },
  {
   "cell_type": "code",
   "execution_count": 3,
   "metadata": {},
   "outputs": [],
   "source": [
    "import seaborn as sns"
   ]
  },
  {
   "cell_type": "code",
   "execution_count": 4,
   "metadata": {},
   "outputs": [],
   "source": [
    "pd.set_option('mode.chained_assignment', None)"
   ]
  },
  {
   "cell_type": "code",
   "execution_count": 5,
   "metadata": {},
   "outputs": [
    {
     "name": "stderr",
     "output_type": "stream",
     "text": [
      "2023-05-14 07:42:12 INFO: Checking for updates to resources.json in case models have been updated.  Note: this behavior can be turned off with download_method=None or download_method=DownloadMethod.REUSE_RESOURCES\n"
     ]
    },
    {
     "data": {
      "application/vnd.jupyter.widget-view+json": {
       "model_id": "2085ad26dbc64e4aae8b64a8d39d7a5c",
       "version_major": 2,
       "version_minor": 0
      },
      "text/plain": [
       "Downloading https://raw.githubusercontent.com/stanfordnlp/stanza-resources/main/resources_1.5.0.json:   0%|   …"
      ]
     },
     "metadata": {},
     "output_type": "display_data"
    },
    {
     "name": "stderr",
     "output_type": "stream",
     "text": [
      "2023-05-14 07:42:13 INFO: Loading these models for language: en (English):\n",
      "========================\n",
      "| Processor | Package  |\n",
      "------------------------\n",
      "| tokenize  | combined |\n",
      "| pos       | combined |\n",
      "========================\n",
      "\n",
      "2023-05-14 07:42:13 INFO: Using device: cpu\n",
      "2023-05-14 07:42:13 INFO: Loading: tokenize\n",
      "2023-05-14 07:42:13 INFO: Loading: pos\n",
      "2023-05-14 07:42:13 INFO: Done loading processors!\n"
     ]
    }
   ],
   "source": [
    "from util import spacy_get_sents, spacy_tokenize_text, nlp, get_entities"
   ]
  },
  {
   "cell_type": "code",
   "execution_count": 6,
   "metadata": {
    "id": "gTeTAKXv2wUZ"
   },
   "outputs": [],
   "source": [
    "df = pd.read_csv(\"Data/df_with_texts.csv\", index_col=0)"
   ]
  },
  {
   "cell_type": "code",
   "execution_count": 7,
   "metadata": {
    "colab": {
     "base_uri": "https://localhost:8080/",
     "height": 423
    },
    "id": "ID-0_rZp3e4F",
    "outputId": "1b041abd-21bd-47c1-b1fb-045516211aa6"
   },
   "outputs": [
    {
     "data": {
      "text/html": [
       "<div>\n",
       "<style scoped>\n",
       "    .dataframe tbody tr th:only-of-type {\n",
       "        vertical-align: middle;\n",
       "    }\n",
       "\n",
       "    .dataframe tbody tr th {\n",
       "        vertical-align: top;\n",
       "    }\n",
       "\n",
       "    .dataframe thead th {\n",
       "        text-align: right;\n",
       "    }\n",
       "</style>\n",
       "<table border=\"1\" class=\"dataframe\">\n",
       "  <thead>\n",
       "    <tr style=\"text-align: right;\">\n",
       "      <th></th>\n",
       "      <th>Person</th>\n",
       "      <th>Subcategory</th>\n",
       "      <th>Category</th>\n",
       "      <th>Text</th>\n",
       "    </tr>\n",
       "  </thead>\n",
       "  <tbody>\n",
       "    <tr>\n",
       "      <th>104</th>\n",
       "      <td>Jeanette Epps</td>\n",
       "      <td>American astronauts</td>\n",
       "      <td>Astronauts</td>\n",
       "      <td>Jeanette Jo Epps (born November 3, 1970) is an...</td>\n",
       "    </tr>\n",
       "    <tr>\n",
       "      <th>288</th>\n",
       "      <td>Sergey Avdeev</td>\n",
       "      <td>Russian cosmonauts</td>\n",
       "      <td>Astronauts</td>\n",
       "      <td>Sergei Vasilyevich Avdeyev (Сергей Васильевич ...</td>\n",
       "    </tr>\n",
       "    <tr>\n",
       "      <th>198</th>\n",
       "      <td>Matthias Maurer</td>\n",
       "      <td>German astronauts</td>\n",
       "      <td>Astronauts</td>\n",
       "      <td>Matthias Josef Maurer (born 18 March 1970) is ...</td>\n",
       "    </tr>\n",
       "    <tr>\n",
       "      <th>365</th>\n",
       "      <td>Andriyan Nikolayev</td>\n",
       "      <td>Soviet cosmonauts</td>\n",
       "      <td>Astronauts</td>\n",
       "      <td>Andriyan Grigoryevich Nikolayev (Chuvash and R...</td>\n",
       "    </tr>\n",
       "    <tr>\n",
       "      <th>412</th>\n",
       "      <td>Gennady Manakov</td>\n",
       "      <td>Soviet cosmonauts</td>\n",
       "      <td>Astronauts</td>\n",
       "      <td>Gennady Mikhailovich Manakov (Russian: Геннади...</td>\n",
       "    </tr>\n",
       "    <tr>\n",
       "      <th>...</th>\n",
       "      <td>...</td>\n",
       "      <td>...</td>\n",
       "      <td>...</td>\n",
       "      <td>...</td>\n",
       "    </tr>\n",
       "    <tr>\n",
       "      <th>7053</th>\n",
       "      <td>Uhwudong</td>\n",
       "      <td>Korean writers</td>\n",
       "      <td>Writers</td>\n",
       "      <td>Eowudong or Uhwudong (어우동, 於宇同; 1440 - 18 Octo...</td>\n",
       "    </tr>\n",
       "    <tr>\n",
       "      <th>5383</th>\n",
       "      <td>Óttar M. Norðfjörð</td>\n",
       "      <td>Icelandic writers</td>\n",
       "      <td>Writers</td>\n",
       "      <td>Óttar Martin Norðfjörð (born 1980) is an Icela...</td>\n",
       "    </tr>\n",
       "    <tr>\n",
       "      <th>4093</th>\n",
       "      <td>Claude Phillips</td>\n",
       "      <td>English writers</td>\n",
       "      <td>Writers</td>\n",
       "      <td>Sir Claude Phillips (29 January 1846 – 9 Augus...</td>\n",
       "    </tr>\n",
       "    <tr>\n",
       "      <th>7477</th>\n",
       "      <td>Francis Moto</td>\n",
       "      <td>Malawian writers</td>\n",
       "      <td>Writers</td>\n",
       "      <td>Professor Francis P. B. Moto (born 1952) is a ...</td>\n",
       "    </tr>\n",
       "    <tr>\n",
       "      <th>7542</th>\n",
       "      <td>Zainal Abidin Ahmad (writer)</td>\n",
       "      <td>Malaysian writers</td>\n",
       "      <td>Writers</td>\n",
       "      <td>Tan Sri Zainal Abidin bin Ahmad (16 September ...</td>\n",
       "    </tr>\n",
       "  </tbody>\n",
       "</table>\n",
       "<p>400 rows × 4 columns</p>\n",
       "</div>"
      ],
      "text/plain": [
       "                            Person          Subcategory    Category  \\\n",
       "104                  Jeanette Epps  American astronauts  Astronauts   \n",
       "288                  Sergey Avdeev   Russian cosmonauts  Astronauts   \n",
       "198                Matthias Maurer    German astronauts  Astronauts   \n",
       "365             Andriyan Nikolayev    Soviet cosmonauts  Astronauts   \n",
       "412                Gennady Manakov    Soviet cosmonauts  Astronauts   \n",
       "...                            ...                  ...         ...   \n",
       "7053                      Uhwudong       Korean writers     Writers   \n",
       "5383            Óttar M. Norðfjörð    Icelandic writers     Writers   \n",
       "4093               Claude Phillips      English writers     Writers   \n",
       "7477                  Francis Moto     Malawian writers     Writers   \n",
       "7542  Zainal Abidin Ahmad (writer)    Malaysian writers     Writers   \n",
       "\n",
       "                                                   Text  \n",
       "104   Jeanette Jo Epps (born November 3, 1970) is an...  \n",
       "288   Sergei Vasilyevich Avdeyev (Сергей Васильевич ...  \n",
       "198   Matthias Josef Maurer (born 18 March 1970) is ...  \n",
       "365   Andriyan Grigoryevich Nikolayev (Chuvash and R...  \n",
       "412   Gennady Mikhailovich Manakov (Russian: Геннади...  \n",
       "...                                                 ...  \n",
       "7053  Eowudong or Uhwudong (어우동, 於宇同; 1440 - 18 Octo...  \n",
       "5383  Óttar Martin Norðfjörð (born 1980) is an Icela...  \n",
       "4093  Sir Claude Phillips (29 January 1846 – 9 Augus...  \n",
       "7477  Professor Francis P. B. Moto (born 1952) is a ...  \n",
       "7542  Tan Sri Zainal Abidin bin Ahmad (16 September ...  \n",
       "\n",
       "[400 rows x 4 columns]"
      ]
     },
     "execution_count": 7,
     "metadata": {},
     "output_type": "execute_result"
    }
   ],
   "source": [
    "df = df.replace(r'\\n',' ', regex=True)\n",
    "df"
   ]
  },
  {
   "cell_type": "markdown",
   "metadata": {
    "id": "5zIwkK4YFmJ-"
   },
   "source": [
    "# **Count sentences of each category**"
   ]
  },
  {
   "cell_type": "code",
   "execution_count": 8,
   "metadata": {
    "colab": {
     "base_uri": "https://localhost:8080/",
     "height": 423
    },
    "id": "o-CGMXKNVEmG",
    "outputId": "88439a31-dc74-4dd6-d4e8-e06929eecab5"
   },
   "outputs": [
    {
     "data": {
      "text/html": [
       "<div>\n",
       "<style scoped>\n",
       "    .dataframe tbody tr th:only-of-type {\n",
       "        vertical-align: middle;\n",
       "    }\n",
       "\n",
       "    .dataframe tbody tr th {\n",
       "        vertical-align: top;\n",
       "    }\n",
       "\n",
       "    .dataframe thead th {\n",
       "        text-align: right;\n",
       "    }\n",
       "</style>\n",
       "<table border=\"1\" class=\"dataframe\">\n",
       "  <thead>\n",
       "    <tr style=\"text-align: right;\">\n",
       "      <th></th>\n",
       "      <th>Person</th>\n",
       "      <th>Subcategory</th>\n",
       "      <th>Category</th>\n",
       "      <th>Text</th>\n",
       "    </tr>\n",
       "  </thead>\n",
       "  <tbody>\n",
       "    <tr>\n",
       "      <th>104</th>\n",
       "      <td>Jeanette Epps</td>\n",
       "      <td>American astronauts</td>\n",
       "      <td>Astronauts</td>\n",
       "      <td>Jeanette Jo Epps (born November 3, 1970) is an...</td>\n",
       "    </tr>\n",
       "    <tr>\n",
       "      <th>288</th>\n",
       "      <td>Sergey Avdeev</td>\n",
       "      <td>Russian cosmonauts</td>\n",
       "      <td>Astronauts</td>\n",
       "      <td>Sergei Vasilyevich Avdeyev (Сергей Васильевич ...</td>\n",
       "    </tr>\n",
       "    <tr>\n",
       "      <th>198</th>\n",
       "      <td>Matthias Maurer</td>\n",
       "      <td>German astronauts</td>\n",
       "      <td>Astronauts</td>\n",
       "      <td>Matthias Josef Maurer (born 18 March 1970) is ...</td>\n",
       "    </tr>\n",
       "    <tr>\n",
       "      <th>365</th>\n",
       "      <td>Andriyan Nikolayev</td>\n",
       "      <td>Soviet cosmonauts</td>\n",
       "      <td>Astronauts</td>\n",
       "      <td>Andriyan Grigoryevich Nikolayev (Chuvash and R...</td>\n",
       "    </tr>\n",
       "    <tr>\n",
       "      <th>412</th>\n",
       "      <td>Gennady Manakov</td>\n",
       "      <td>Soviet cosmonauts</td>\n",
       "      <td>Astronauts</td>\n",
       "      <td>Gennady Mikhailovich Manakov (Russian: Геннади...</td>\n",
       "    </tr>\n",
       "  </tbody>\n",
       "</table>\n",
       "</div>"
      ],
      "text/plain": [
       "                 Person          Subcategory    Category  \\\n",
       "104       Jeanette Epps  American astronauts  Astronauts   \n",
       "288       Sergey Avdeev   Russian cosmonauts  Astronauts   \n",
       "198     Matthias Maurer    German astronauts  Astronauts   \n",
       "365  Andriyan Nikolayev    Soviet cosmonauts  Astronauts   \n",
       "412     Gennady Manakov    Soviet cosmonauts  Astronauts   \n",
       "\n",
       "                                                  Text  \n",
       "104  Jeanette Jo Epps (born November 3, 1970) is an...  \n",
       "288  Sergei Vasilyevich Avdeyev (Сергей Васильевич ...  \n",
       "198  Matthias Josef Maurer (born 18 March 1970) is ...  \n",
       "365  Andriyan Grigoryevich Nikolayev (Chuvash and R...  \n",
       "412  Gennady Mikhailovich Manakov (Russian: Геннади...  "
      ]
     },
     "execution_count": 8,
     "metadata": {},
     "output_type": "execute_result"
    }
   ],
   "source": [
    "astronauts = df.loc[df['Category'] == 'Astronauts'] #subframe of astronauts \n",
    "astronauts.head()"
   ]
  },
  {
   "cell_type": "code",
   "execution_count": 9,
   "metadata": {
    "colab": {
     "base_uri": "https://localhost:8080/",
     "height": 423
    },
    "id": "ZQvZMjwGfLK_",
    "outputId": "5572e0ab-2541-454b-ad22-91d83e3f9384"
   },
   "outputs": [
    {
     "data": {
      "text/html": [
       "<div>\n",
       "<style scoped>\n",
       "    .dataframe tbody tr th:only-of-type {\n",
       "        vertical-align: middle;\n",
       "    }\n",
       "\n",
       "    .dataframe tbody tr th {\n",
       "        vertical-align: top;\n",
       "    }\n",
       "\n",
       "    .dataframe thead th {\n",
       "        text-align: right;\n",
       "    }\n",
       "</style>\n",
       "<table border=\"1\" class=\"dataframe\">\n",
       "  <thead>\n",
       "    <tr style=\"text-align: right;\">\n",
       "      <th></th>\n",
       "      <th>Person</th>\n",
       "      <th>Subcategory</th>\n",
       "      <th>Category</th>\n",
       "      <th>Text</th>\n",
       "    </tr>\n",
       "  </thead>\n",
       "  <tbody>\n",
       "    <tr>\n",
       "      <th>10112</th>\n",
       "      <td>Sagit Agish</td>\n",
       "      <td>Soviet writers</td>\n",
       "      <td>Writers</td>\n",
       "      <td>Sagit Agish (1904–1973) was a Bashkir poet, wr...</td>\n",
       "    </tr>\n",
       "    <tr>\n",
       "      <th>9851</th>\n",
       "      <td>Preller Geldenhuys</td>\n",
       "      <td>South African writers</td>\n",
       "      <td>Writers</td>\n",
       "      <td>(Prop) Preller Geldenhuys was a pilot in the R...</td>\n",
       "    </tr>\n",
       "    <tr>\n",
       "      <th>1005</th>\n",
       "      <td>Marcelo Kohen</td>\n",
       "      <td>Argentine writers</td>\n",
       "      <td>Writers</td>\n",
       "      <td>Marcelo Gustavo Kohen (born August 11, 1957) i...</td>\n",
       "    </tr>\n",
       "    <tr>\n",
       "      <th>6902</th>\n",
       "      <td>Masanobu Fukuoka</td>\n",
       "      <td>Japanese writers</td>\n",
       "      <td>Writers</td>\n",
       "      <td>Masanobu Fukuoka (Japanese: 福岡 正信, Hepburn: Fu...</td>\n",
       "    </tr>\n",
       "    <tr>\n",
       "      <th>9791</th>\n",
       "      <td>James Gregory (prison officer)</td>\n",
       "      <td>South African writers</td>\n",
       "      <td>Writers</td>\n",
       "      <td>James Gregory (7 November 1941 – 2003) was the...</td>\n",
       "    </tr>\n",
       "  </tbody>\n",
       "</table>\n",
       "</div>"
      ],
      "text/plain": [
       "                               Person            Subcategory Category  \\\n",
       "10112                     Sagit Agish         Soviet writers  Writers   \n",
       "9851               Preller Geldenhuys  South African writers  Writers   \n",
       "1005                    Marcelo Kohen      Argentine writers  Writers   \n",
       "6902                 Masanobu Fukuoka       Japanese writers  Writers   \n",
       "9791   James Gregory (prison officer)  South African writers  Writers   \n",
       "\n",
       "                                                    Text  \n",
       "10112  Sagit Agish (1904–1973) was a Bashkir poet, wr...  \n",
       "9851   (Prop) Preller Geldenhuys was a pilot in the R...  \n",
       "1005   Marcelo Gustavo Kohen (born August 11, 1957) i...  \n",
       "6902   Masanobu Fukuoka (Japanese: 福岡 正信, Hepburn: Fu...  \n",
       "9791   James Gregory (7 November 1941 – 2003) was the...  "
      ]
     },
     "execution_count": 9,
     "metadata": {},
     "output_type": "execute_result"
    }
   ],
   "source": [
    "writers = df.loc[df['Category'] == 'Writers'] #subframe of writers\n",
    "writers.head()"
   ]
  },
  {
   "cell_type": "code",
   "execution_count": 10,
   "metadata": {
    "id": "RILAuL2Km9Ia"
   },
   "outputs": [],
   "source": [
    "writers[\"Sentences\"] = writers['Text'].apply(spacy_get_sents) # Apply the function to the text colum and create a new column with the output\n",
    "writers['Num_sentences'] = writers['Sentences'].apply(lambda x: len(x)) # Now we get the number of sentences of each article "
   ]
  },
  {
   "cell_type": "code",
   "execution_count": 11,
   "metadata": {
    "colab": {
     "base_uri": "https://localhost:8080/",
     "height": 641
    },
    "id": "Xsmaax4Kng3N",
    "outputId": "c78f5997-eba7-4e18-e434-9c0d78223156"
   },
   "outputs": [
    {
     "data": {
      "text/html": [
       "<div>\n",
       "<style scoped>\n",
       "    .dataframe tbody tr th:only-of-type {\n",
       "        vertical-align: middle;\n",
       "    }\n",
       "\n",
       "    .dataframe tbody tr th {\n",
       "        vertical-align: top;\n",
       "    }\n",
       "\n",
       "    .dataframe thead th {\n",
       "        text-align: right;\n",
       "    }\n",
       "</style>\n",
       "<table border=\"1\" class=\"dataframe\">\n",
       "  <thead>\n",
       "    <tr style=\"text-align: right;\">\n",
       "      <th></th>\n",
       "      <th>Person</th>\n",
       "      <th>Subcategory</th>\n",
       "      <th>Category</th>\n",
       "      <th>Text</th>\n",
       "      <th>Sentences</th>\n",
       "      <th>Num_sentences</th>\n",
       "    </tr>\n",
       "  </thead>\n",
       "  <tbody>\n",
       "    <tr>\n",
       "      <th>10112</th>\n",
       "      <td>Sagit Agish</td>\n",
       "      <td>Soviet writers</td>\n",
       "      <td>Writers</td>\n",
       "      <td>Sagit Agish (1904–1973) was a Bashkir poet, wr...</td>\n",
       "      <td>[Sagit Agish (1904–1973) was a Bashkir poet, w...</td>\n",
       "      <td>13</td>\n",
       "    </tr>\n",
       "    <tr>\n",
       "      <th>9851</th>\n",
       "      <td>Preller Geldenhuys</td>\n",
       "      <td>South African writers</td>\n",
       "      <td>Writers</td>\n",
       "      <td>(Prop) Preller Geldenhuys was a pilot in the R...</td>\n",
       "      <td>[(Prop) Preller Geldenhuys was a pilot in the ...</td>\n",
       "      <td>10</td>\n",
       "    </tr>\n",
       "    <tr>\n",
       "      <th>1005</th>\n",
       "      <td>Marcelo Kohen</td>\n",
       "      <td>Argentine writers</td>\n",
       "      <td>Writers</td>\n",
       "      <td>Marcelo Gustavo Kohen (born August 11, 1957) i...</td>\n",
       "      <td>[Marcelo Gustavo Kohen (born August 11, 1957) ...</td>\n",
       "      <td>40</td>\n",
       "    </tr>\n",
       "    <tr>\n",
       "      <th>6902</th>\n",
       "      <td>Masanobu Fukuoka</td>\n",
       "      <td>Japanese writers</td>\n",
       "      <td>Writers</td>\n",
       "      <td>Masanobu Fukuoka (Japanese: 福岡 正信, Hepburn: Fu...</td>\n",
       "      <td>[Masanobu Fukuoka (Japanese: 福岡 正信, Hepburn: F...</td>\n",
       "      <td>168</td>\n",
       "    </tr>\n",
       "    <tr>\n",
       "      <th>9791</th>\n",
       "      <td>James Gregory (prison officer)</td>\n",
       "      <td>South African writers</td>\n",
       "      <td>Writers</td>\n",
       "      <td>James Gregory (7 November 1941 – 2003) was the...</td>\n",
       "      <td>[James Gregory (7 November 1941 – 2003) was th...</td>\n",
       "      <td>29</td>\n",
       "    </tr>\n",
       "  </tbody>\n",
       "</table>\n",
       "</div>"
      ],
      "text/plain": [
       "                               Person            Subcategory Category  \\\n",
       "10112                     Sagit Agish         Soviet writers  Writers   \n",
       "9851               Preller Geldenhuys  South African writers  Writers   \n",
       "1005                    Marcelo Kohen      Argentine writers  Writers   \n",
       "6902                 Masanobu Fukuoka       Japanese writers  Writers   \n",
       "9791   James Gregory (prison officer)  South African writers  Writers   \n",
       "\n",
       "                                                    Text  \\\n",
       "10112  Sagit Agish (1904–1973) was a Bashkir poet, wr...   \n",
       "9851   (Prop) Preller Geldenhuys was a pilot in the R...   \n",
       "1005   Marcelo Gustavo Kohen (born August 11, 1957) i...   \n",
       "6902   Masanobu Fukuoka (Japanese: 福岡 正信, Hepburn: Fu...   \n",
       "9791   James Gregory (7 November 1941 – 2003) was the...   \n",
       "\n",
       "                                               Sentences  Num_sentences  \n",
       "10112  [Sagit Agish (1904–1973) was a Bashkir poet, w...             13  \n",
       "9851   [(Prop) Preller Geldenhuys was a pilot in the ...             10  \n",
       "1005   [Marcelo Gustavo Kohen (born August 11, 1957) ...             40  \n",
       "6902   [Masanobu Fukuoka (Japanese: 福岡 正信, Hepburn: F...            168  \n",
       "9791   [James Gregory (7 November 1941 – 2003) was th...             29  "
      ]
     },
     "execution_count": 11,
     "metadata": {},
     "output_type": "execute_result"
    }
   ],
   "source": [
    "writers.head()"
   ]
  },
  {
   "cell_type": "code",
   "execution_count": 12,
   "metadata": {
    "id": "ComTTuGxDtkI"
   },
   "outputs": [],
   "source": [
    "#We do the same with astronauts...\n",
    "\n",
    "astronauts['Sentences'] = astronauts['Text'].apply(spacy_get_sents)\n",
    "astronauts['Num_sentences'] = astronauts['Sentences'].apply(lambda x: len(x))"
   ]
  },
  {
   "cell_type": "code",
   "execution_count": 13,
   "metadata": {
    "colab": {
     "base_uri": "https://localhost:8080/"
    },
    "id": "zVgrgOKMooUL",
    "outputId": "35c52fab-f58a-4d77-945f-eaf786a88690"
   },
   "outputs": [
    {
     "data": {
      "text/plain": [
       "41"
      ]
     },
     "execution_count": 13,
     "metadata": {},
     "output_type": "execute_result"
    }
   ],
   "source": [
    "len(astronauts[\"Sentences\"].iloc[0])"
   ]
  },
  {
   "cell_type": "code",
   "execution_count": 14,
   "metadata": {
    "id": "CZejfYwjkpd_"
   },
   "outputs": [],
   "source": [
    "def calculate_stats(data):\n",
    "    \"\"\"\n",
    "    This function takes a list of numbers as input, and returns a formatted string\n",
    "    containing the minimum, maximum, and average values.\n",
    "    \"\"\"\n",
    "    minimum = min(data)\n",
    "    maximum = max(data)\n",
    "    average = sum(data) / len(data)\n",
    "\n",
    "    stats_str = f\"This is the average: {average} \\nThis is the maximum: {maximum} \\nThis is the minimum: {minimum}\"\n",
    "\n",
    "    return stats_str"
   ]
  },
  {
   "cell_type": "markdown",
   "metadata": {
    "id": "aqVI6j7QKIau"
   },
   "source": [
    "Stats for astronauts article length (in sentences):"
   ]
  },
  {
   "cell_type": "code",
   "execution_count": 15,
   "metadata": {
    "colab": {
     "base_uri": "https://localhost:8080/",
     "height": 36
    },
    "id": "wBpEHgPUkrI2",
    "outputId": "5be6b08f-7b7a-436e-e125-bb5b58696432"
   },
   "outputs": [
    {
     "name": "stdout",
     "output_type": "stream",
     "text": [
      "This is the average: 43.98 \n",
      "This is the maximum: 324 \n",
      "This is the minimum: 2\n"
     ]
    }
   ],
   "source": [
    "print(calculate_stats(astronauts['Num_sentences']))"
   ]
  },
  {
   "cell_type": "markdown",
   "metadata": {
    "id": "gjoXQ59_KIau"
   },
   "source": [
    "Stats for writers article length (in sentences):"
   ]
  },
  {
   "cell_type": "code",
   "execution_count": 16,
   "metadata": {
    "colab": {
     "base_uri": "https://localhost:8080/",
     "height": 36
    },
    "id": "C_gjojexm-fw",
    "outputId": "b405914d-fa9d-4c93-ee75-7cf8ff0da24b"
   },
   "outputs": [
    {
     "name": "stdout",
     "output_type": "stream",
     "text": [
      "This is the average: 30.695 \n",
      "This is the maximum: 267 \n",
      "This is the minimum: 2\n"
     ]
    }
   ],
   "source": [
    "print(calculate_stats(writers['Num_sentences']))"
   ]
  },
  {
   "cell_type": "markdown",
   "metadata": {
    "id": "am3-Rp31nRmm"
   },
   "source": [
    "# Visualization"
   ]
  },
  {
   "cell_type": "markdown",
   "metadata": {
    "id": "PuaAyGoTaCP6"
   },
   "source": [
    "### Histograms"
   ]
  },
  {
   "cell_type": "code",
   "execution_count": 17,
   "metadata": {
    "colab": {
     "base_uri": "https://localhost:8080/",
     "height": 410
    },
    "id": "OCWQ--uwUObU",
    "outputId": "a4e3d5a9-ff2e-4cb1-dfb3-bab08a2ee892"
   },
   "outputs": [
    {
     "data": {
      "image/png": "[encoded data removed]",
      "text/plain": [
       "<Figure size 720x288 with 2 Axes>"
      ]
     },
     "metadata": {
      "needs_background": "light"
     },
     "output_type": "display_data"
    }
   ],
   "source": [
    "# Create a figure with two subplots, side-by-side\n",
    "fig, axs = plt.subplots(1, 2, figsize=(10, 4))\n",
    "\n",
    "# Plot the first histogram on the left subplot\n",
    "axs[0].hist(astronauts['Num_sentences'], bins=10,color='pink')\n",
    "axs[0].axvline(x=2, color='r', linestyle='--', label='Minimum')\n",
    "axs[0].axvline(x=324, color='g', linestyle='--', label='Maximum')\n",
    "axs[0].axvline(x=44.25, color='b', linestyle='--', label='Average')\n",
    "axs[0].set_title('Astronauts')\n",
    "\n",
    "# Plot the second histogram on the right subplot\n",
    "axs[1].hist(writers['Num_sentences'], bins=10, color = \"plum\")\n",
    "axs[1].axvline(x=2, color='r', linestyle='--', label='Minimum')\n",
    "axs[1].axvline(x=277, color='g', linestyle='--', label='Maximum')\n",
    "axs[1].axvline(x=31.37, color='b', linestyle='--', label='Average')\n",
    "axs[1].set_title('Writers')\n",
    "\n",
    "\n",
    "# Set the x-axis and y-axis labels for both subplots\n",
    "for ax in axs:\n",
    "    ax.set_xlabel('Number of sentences')\n",
    "    ax.set_ylabel('Frequency')\n",
    "    ax.legend()\n",
    "\n",
    "# Show the figure\n",
    "plt.show()\n"
   ]
  },
  {
   "cell_type": "markdown",
   "metadata": {
    "id": "j33fWBdQah0o"
   },
   "source": [
    "### Boxplots"
   ]
  },
  {
   "cell_type": "code",
   "execution_count": 18,
   "metadata": {
    "colab": {
     "base_uri": "https://localhost:8080/",
     "height": 368
    },
    "id": "ZXmul5HlQfhy",
    "outputId": "3aae651a-675c-4f31-9b04-325ab676e228"
   },
   "outputs": [
    {
     "data": {
      "image/png": "[encoded data removed]",
      "text/plain": [
       "<Figure size 432x288 with 1 Axes>"
      ]
     },
     "metadata": {
      "needs_background": "light"
     },
     "output_type": "display_data"
    }
   ],
   "source": [
    "# Create a figure and a single subplot\n",
    "fig, ax = plt.subplots(figsize=(6, 4))\n",
    "\n",
    "# Plot the boxplots side-by-side using the \"positions\" parameter\n",
    "ax.boxplot([astronauts['Num_sentences'], writers['Num_sentences']], positions=[1, 2])\n",
    "\n",
    "# Set the labels and limits\n",
    "ax.set_xticklabels(['Num of sentences in Astronauts', 'Num of sentences in Writers'])\n",
    "ax.set_xlim(0.5, 2.5)\n",
    "ax.set_ylabel('Frequency')\n",
    "\n",
    "# Show the figure\n",
    "plt.show()"
   ]
  },
  {
   "cell_type": "markdown",
   "metadata": {
    "id": "lBS2rvaHwhs3"
   },
   "source": [
    "## **Tokenization**"
   ]
  },
  {
   "cell_type": "markdown",
   "metadata": {},
   "source": [
    "In this section we will perform the tokenization of sentences and the whole articles.\n",
    "\n",
    "For each category we will calculate:\n",
    "- The count of tokens per sentence\n",
    "- The count of tokens per article\n",
    "\n",
    "We will also compare the number of tokens per article by categories: whether or not one of them has more tokens than the other."
   ]
  },
  {
   "cell_type": "code",
   "execution_count": 19,
   "metadata": {
    "id": "7oyVbEuyUMOt",
    "outputId": "6630f8ab-906a-4461-9ae5-54d57e9189e0"
   },
   "outputs": [
    {
     "data": {
      "text/html": [
       "<div>\n",
       "<style scoped>\n",
       "    .dataframe tbody tr th:only-of-type {\n",
       "        vertical-align: middle;\n",
       "    }\n",
       "\n",
       "    .dataframe tbody tr th {\n",
       "        vertical-align: top;\n",
       "    }\n",
       "\n",
       "    .dataframe thead th {\n",
       "        text-align: right;\n",
       "    }\n",
       "</style>\n",
       "<table border=\"1\" class=\"dataframe\">\n",
       "  <thead>\n",
       "    <tr style=\"text-align: right;\">\n",
       "      <th></th>\n",
       "      <th>Person</th>\n",
       "      <th>Subcategory</th>\n",
       "      <th>Category</th>\n",
       "      <th>Text</th>\n",
       "      <th>Sentences</th>\n",
       "      <th>Num_sentences</th>\n",
       "      <th>tokenized_sentences</th>\n",
       "    </tr>\n",
       "  </thead>\n",
       "  <tbody>\n",
       "    <tr>\n",
       "      <th>104</th>\n",
       "      <td>Jeanette Epps</td>\n",
       "      <td>American astronauts</td>\n",
       "      <td>Astronauts</td>\n",
       "      <td>Jeanette Jo Epps (born November 3, 1970) is an...</td>\n",
       "      <td>[Jeanette Jo Epps (born November 3, 1970) is a...</td>\n",
       "      <td>41</td>\n",
       "      <td>[[jeanette, jo, epps, born, november, 3, 1970,...</td>\n",
       "    </tr>\n",
       "    <tr>\n",
       "      <th>288</th>\n",
       "      <td>Sergey Avdeev</td>\n",
       "      <td>Russian cosmonauts</td>\n",
       "      <td>Astronauts</td>\n",
       "      <td>Sergei Vasilyevich Avdeyev (Сергей Васильевич ...</td>\n",
       "      <td>[Sergei Vasilyevich Avdeyev (Сергей Васильевич...</td>\n",
       "      <td>28</td>\n",
       "      <td>[[sergei, vasilyevich, avdeyev, сергей, василь...</td>\n",
       "    </tr>\n",
       "    <tr>\n",
       "      <th>198</th>\n",
       "      <td>Matthias Maurer</td>\n",
       "      <td>German astronauts</td>\n",
       "      <td>Astronauts</td>\n",
       "      <td>Matthias Josef Maurer (born 18 March 1970) is ...</td>\n",
       "      <td>[Matthias Josef Maurer (born 18 March 1970) is...</td>\n",
       "      <td>31</td>\n",
       "      <td>[[matthias, josef, maurer, born, 18, march, 19...</td>\n",
       "    </tr>\n",
       "    <tr>\n",
       "      <th>365</th>\n",
       "      <td>Andriyan Nikolayev</td>\n",
       "      <td>Soviet cosmonauts</td>\n",
       "      <td>Astronauts</td>\n",
       "      <td>Andriyan Grigoryevich Nikolayev (Chuvash and R...</td>\n",
       "      <td>[Andriyan Grigoryevich Nikolayev (Chuvash and ...</td>\n",
       "      <td>52</td>\n",
       "      <td>[[andriyan, grigoryevich, nikolayev, chuvash, ...</td>\n",
       "    </tr>\n",
       "    <tr>\n",
       "      <th>412</th>\n",
       "      <td>Gennady Manakov</td>\n",
       "      <td>Soviet cosmonauts</td>\n",
       "      <td>Astronauts</td>\n",
       "      <td>Gennady Mikhailovich Manakov (Russian: Геннади...</td>\n",
       "      <td>[Gennady Mikhailovich Manakov (Russian: Геннад...</td>\n",
       "      <td>7</td>\n",
       "      <td>[[gennady, mikhailovich, manakov, russian, ген...</td>\n",
       "    </tr>\n",
       "  </tbody>\n",
       "</table>\n",
       "</div>"
      ],
      "text/plain": [
       "                 Person          Subcategory    Category  \\\n",
       "104       Jeanette Epps  American astronauts  Astronauts   \n",
       "288       Sergey Avdeev   Russian cosmonauts  Astronauts   \n",
       "198     Matthias Maurer    German astronauts  Astronauts   \n",
       "365  Andriyan Nikolayev    Soviet cosmonauts  Astronauts   \n",
       "412     Gennady Manakov    Soviet cosmonauts  Astronauts   \n",
       "\n",
       "                                                  Text  \\\n",
       "104  Jeanette Jo Epps (born November 3, 1970) is an...   \n",
       "288  Sergei Vasilyevich Avdeyev (Сергей Васильевич ...   \n",
       "198  Matthias Josef Maurer (born 18 March 1970) is ...   \n",
       "365  Andriyan Grigoryevich Nikolayev (Chuvash and R...   \n",
       "412  Gennady Mikhailovich Manakov (Russian: Геннади...   \n",
       "\n",
       "                                             Sentences  Num_sentences  \\\n",
       "104  [Jeanette Jo Epps (born November 3, 1970) is a...             41   \n",
       "288  [Sergei Vasilyevich Avdeyev (Сергей Васильевич...             28   \n",
       "198  [Matthias Josef Maurer (born 18 March 1970) is...             31   \n",
       "365  [Andriyan Grigoryevich Nikolayev (Chuvash and ...             52   \n",
       "412  [Gennady Mikhailovich Manakov (Russian: Геннад...              7   \n",
       "\n",
       "                                   tokenized_sentences  \n",
       "104  [[jeanette, jo, epps, born, november, 3, 1970,...  \n",
       "288  [[sergei, vasilyevich, avdeyev, сергей, василь...  \n",
       "198  [[matthias, josef, maurer, born, 18, march, 19...  \n",
       "365  [[andriyan, grigoryevich, nikolayev, chuvash, ...  \n",
       "412  [[gennady, mikhailovich, manakov, russian, ген...  "
      ]
     },
     "execution_count": 19,
     "metadata": {},
     "output_type": "execute_result"
    }
   ],
   "source": [
    "# We will create a column in astronauts DF which will include tokenized sentences of each article. \n",
    "# It will be a list of a list of tokens for each article. For normalization all sentences will be lowercased \n",
    "# (for the future task of checking vocabulary).\n",
    "\n",
    "#We apply the the function tokenize_sentence to astronauts and create a new colum with the result\n",
    "astronauts[\"tokenized_sentences\"] = astronauts[\"Sentences\"].apply(lambda x: \n",
    "                                                                  list(\n",
    "                                                                      map(\n",
    "                                                                          lambda y: spacy_tokenize_text(y, to_lowercase=True),\n",
    "                                                                          x\n",
    "                                                                          )\n",
    "                                                                      )\n",
    "                                                                 )\n",
    "astronauts.head()"
   ]
  },
  {
   "cell_type": "code",
   "execution_count": 20,
   "metadata": {},
   "outputs": [],
   "source": [
    "astronauts.to_csv('TokenizedDF/output_astronauts.csv', index=False)"
   ]
  },
  {
   "cell_type": "code",
   "execution_count": 21,
   "metadata": {
    "id": "w6asRtrre9Z-"
   },
   "outputs": [
    {
     "data": {
      "text/html": [
       "<div>\n",
       "<style scoped>\n",
       "    .dataframe tbody tr th:only-of-type {\n",
       "        vertical-align: middle;\n",
       "    }\n",
       "\n",
       "    .dataframe tbody tr th {\n",
       "        vertical-align: top;\n",
       "    }\n",
       "\n",
       "    .dataframe thead th {\n",
       "        text-align: right;\n",
       "    }\n",
       "</style>\n",
       "<table border=\"1\" class=\"dataframe\">\n",
       "  <thead>\n",
       "    <tr style=\"text-align: right;\">\n",
       "      <th></th>\n",
       "      <th>Person</th>\n",
       "      <th>Subcategory</th>\n",
       "      <th>Category</th>\n",
       "      <th>Text</th>\n",
       "      <th>Sentences</th>\n",
       "      <th>Num_sentences</th>\n",
       "      <th>tokenized_sentences</th>\n",
       "    </tr>\n",
       "  </thead>\n",
       "  <tbody>\n",
       "    <tr>\n",
       "      <th>10112</th>\n",
       "      <td>Sagit Agish</td>\n",
       "      <td>Soviet writers</td>\n",
       "      <td>Writers</td>\n",
       "      <td>Sagit Agish (1904–1973) was a Bashkir poet, wr...</td>\n",
       "      <td>[Sagit Agish (1904–1973) was a Bashkir poet, w...</td>\n",
       "      <td>13</td>\n",
       "      <td>[[sagit, agish, 1904–1973, bashkir, poet, writ...</td>\n",
       "    </tr>\n",
       "    <tr>\n",
       "      <th>9851</th>\n",
       "      <td>Preller Geldenhuys</td>\n",
       "      <td>South African writers</td>\n",
       "      <td>Writers</td>\n",
       "      <td>(Prop) Preller Geldenhuys was a pilot in the R...</td>\n",
       "      <td>[(Prop) Preller Geldenhuys was a pilot in the ...</td>\n",
       "      <td>10</td>\n",
       "      <td>[[prop, preller, geldenhuys, pilot, rhodesian,...</td>\n",
       "    </tr>\n",
       "    <tr>\n",
       "      <th>1005</th>\n",
       "      <td>Marcelo Kohen</td>\n",
       "      <td>Argentine writers</td>\n",
       "      <td>Writers</td>\n",
       "      <td>Marcelo Gustavo Kohen (born August 11, 1957) i...</td>\n",
       "      <td>[Marcelo Gustavo Kohen (born August 11, 1957) ...</td>\n",
       "      <td>40</td>\n",
       "      <td>[[marcelo, gustavo, kohen, born, august, 11, 1...</td>\n",
       "    </tr>\n",
       "    <tr>\n",
       "      <th>6902</th>\n",
       "      <td>Masanobu Fukuoka</td>\n",
       "      <td>Japanese writers</td>\n",
       "      <td>Writers</td>\n",
       "      <td>Masanobu Fukuoka (Japanese: 福岡 正信, Hepburn: Fu...</td>\n",
       "      <td>[Masanobu Fukuoka (Japanese: 福岡 正信, Hepburn: F...</td>\n",
       "      <td>168</td>\n",
       "      <td>[[masanobu, fukuoka, japanese, 福岡, 正信, hepburn...</td>\n",
       "    </tr>\n",
       "    <tr>\n",
       "      <th>9791</th>\n",
       "      <td>James Gregory (prison officer)</td>\n",
       "      <td>South African writers</td>\n",
       "      <td>Writers</td>\n",
       "      <td>James Gregory (7 November 1941 – 2003) was the...</td>\n",
       "      <td>[James Gregory (7 November 1941 – 2003) was th...</td>\n",
       "      <td>29</td>\n",
       "      <td>[[james, gregory, 7, november, 1941, 2003, cen...</td>\n",
       "    </tr>\n",
       "  </tbody>\n",
       "</table>\n",
       "</div>"
      ],
      "text/plain": [
       "                               Person            Subcategory Category  \\\n",
       "10112                     Sagit Agish         Soviet writers  Writers   \n",
       "9851               Preller Geldenhuys  South African writers  Writers   \n",
       "1005                    Marcelo Kohen      Argentine writers  Writers   \n",
       "6902                 Masanobu Fukuoka       Japanese writers  Writers   \n",
       "9791   James Gregory (prison officer)  South African writers  Writers   \n",
       "\n",
       "                                                    Text  \\\n",
       "10112  Sagit Agish (1904–1973) was a Bashkir poet, wr...   \n",
       "9851   (Prop) Preller Geldenhuys was a pilot in the R...   \n",
       "1005   Marcelo Gustavo Kohen (born August 11, 1957) i...   \n",
       "6902   Masanobu Fukuoka (Japanese: 福岡 正信, Hepburn: Fu...   \n",
       "9791   James Gregory (7 November 1941 – 2003) was the...   \n",
       "\n",
       "                                               Sentences  Num_sentences  \\\n",
       "10112  [Sagit Agish (1904–1973) was a Bashkir poet, w...             13   \n",
       "9851   [(Prop) Preller Geldenhuys was a pilot in the ...             10   \n",
       "1005   [Marcelo Gustavo Kohen (born August 11, 1957) ...             40   \n",
       "6902   [Masanobu Fukuoka (Japanese: 福岡 正信, Hepburn: F...            168   \n",
       "9791   [James Gregory (7 November 1941 – 2003) was th...             29   \n",
       "\n",
       "                                     tokenized_sentences  \n",
       "10112  [[sagit, agish, 1904–1973, bashkir, poet, writ...  \n",
       "9851   [[prop, preller, geldenhuys, pilot, rhodesian,...  \n",
       "1005   [[marcelo, gustavo, kohen, born, august, 11, 1...  \n",
       "6902   [[masanobu, fukuoka, japanese, 福岡, 正信, hepburn...  \n",
       "9791   [[james, gregory, 7, november, 1941, 2003, cen...  "
      ]
     },
     "execution_count": 21,
     "metadata": {},
     "output_type": "execute_result"
    }
   ],
   "source": [
    "# Repeat for writers\n",
    "writers[\"tokenized_sentences\"] = writers[\"Sentences\"].apply(lambda x: \n",
    "                                                                  list(\n",
    "                                                                      map(\n",
    "                                                                          lambda y: spacy_tokenize_text(y, to_lowercase=True),\n",
    "                                                                          x\n",
    "                                                                          )\n",
    "                                                                      )\n",
    "                                                      )\n",
    "writers.head()"
   ]
  },
  {
   "cell_type": "code",
   "execution_count": 22,
   "metadata": {},
   "outputs": [],
   "source": [
    "writers.to_csv('TokenizedDF/output_writers.csv', index=False)"
   ]
  },
  {
   "cell_type": "markdown",
   "metadata": {
    "id": "g_Lydb55F-Lj"
   },
   "source": [
    "Now we count the number of tokens of each sentences and represent the output"
   ]
  },
  {
   "cell_type": "code",
   "execution_count": 23,
   "metadata": {
    "id": "wWG2YQ-YTDJq"
   },
   "outputs": [],
   "source": [
    "#we count the tokens of each sentence\n",
    "\n",
    "tokens_per_sentence_wr = writers[\"tokenized_sentences\"].apply(lambda x: list(map(lambda y: len(y), x)))\n",
    "tokens_per_sentence_as = astronauts[\"tokenized_sentences\"].apply(lambda x: list(map(lambda y: len(y), x)))"
   ]
  },
  {
   "cell_type": "code",
   "execution_count": 24,
   "metadata": {
    "id": "8os6am0nbtBC"
   },
   "outputs": [],
   "source": [
    "#We count the total tokens of each row\n",
    "\n",
    "total_wr= tokens_per_sentence_wr.apply(lambda x: sum(x))\n",
    "total_as= tokens_per_sentence_as.apply(lambda x: sum(x))"
   ]
  },
  {
   "cell_type": "markdown",
   "metadata": {
    "id": "3OeM0wzOKIax"
   },
   "source": [
    "The stats for token count per article for `Writers`:"
   ]
  },
  {
   "cell_type": "code",
   "execution_count": 25,
   "metadata": {
    "colab": {
     "base_uri": "https://localhost:8080/",
     "height": 36
    },
    "id": "Q-W--8AQhw5U",
    "outputId": "8f06046b-906c-4562-e449-1fec6e87e3dc"
   },
   "outputs": [
    {
     "name": "stdout",
     "output_type": "stream",
     "text": [
      "This is the average: 354.4 \n",
      "This is the maximum: 3818 \n",
      "This is the minimum: 13\n"
     ]
    }
   ],
   "source": [
    "#We get the min, max and avg\n",
    "print(calculate_stats(total_wr))"
   ]
  },
  {
   "cell_type": "markdown",
   "metadata": {
    "id": "aD4yK8JxKIay"
   },
   "source": [
    "The stats for token count per article for `Astronauts`:"
   ]
  },
  {
   "cell_type": "code",
   "execution_count": 26,
   "metadata": {
    "colab": {
     "base_uri": "https://localhost:8080/",
     "height": 36
    },
    "id": "I7h4zErKh6qm",
    "outputId": "3872d311-9852-49e4-85f2-f62deadeced7"
   },
   "outputs": [
    {
     "name": "stdout",
     "output_type": "stream",
     "text": [
      "This is the average: 557.62 \n",
      "This is the maximum: 4449 \n",
      "This is the minimum: 29\n"
     ]
    }
   ],
   "source": [
    "print(calculate_stats(total_as))"
   ]
  },
  {
   "cell_type": "markdown",
   "metadata": {
    "id": "3o452JDOb3aU"
   },
   "source": [
    "# **Visualization: Tokens**"
   ]
  },
  {
   "cell_type": "code",
   "execution_count": 27,
   "metadata": {
    "colab": {
     "base_uri": "https://localhost:8080/",
     "height": 472
    },
    "id": "vFAXoawWTKC9",
    "outputId": "c6323f8e-fd6d-42c4-ca77-d64765ef3e54"
   },
   "outputs": [
    {
     "data": {
      "image/png": "[encoded data removed]",
      "text/plain": [
       "<Figure size 432x288 with 1 Axes>"
      ]
     },
     "metadata": {
      "needs_background": "light"
     },
     "output_type": "display_data"
    }
   ],
   "source": [
    "# Since tokens in our dataframe are in a list of list we need to flatten it first\n",
    "tokens_per_sentence_wr_flat = np.concatenate(list(tokens_per_sentence_wr))\n",
    "\n",
    "#Histogram of tokens per sentence - Writers\n",
    "plt.hist(tokens_per_sentence_wr_flat, bins=50)\n",
    "\n",
    "\n",
    "# Add labels and a title to the plot\n",
    "plt.xlabel(\"Number of Tokens\")\n",
    "plt.ylabel(\"Number of sentences\")\n",
    "plt.title(\"Distribution of tokens per sentence - Writers\")\n",
    "\n",
    "# Show the plot\n",
    "plt.show()"
   ]
  },
  {
   "cell_type": "code",
   "execution_count": 28,
   "metadata": {
    "colab": {
     "base_uri": "https://localhost:8080/",
     "height": 472
    },
    "id": "f9be0F_0cXWY",
    "outputId": "9c1f40ff-32e6-47a2-ee7e-bc2561a47c6f"
   },
   "outputs": [
    {
     "data": {
      "image/png": "[encoded data removed]",
      "text/plain": [
       "<Figure size 432x288 with 1 Axes>"
      ]
     },
     "metadata": {
      "needs_background": "light"
     },
     "output_type": "display_data"
    }
   ],
   "source": [
    "# Since tokens in our dataframe are in a list of list we need to flatten it first\n",
    "tokens_per_sentence_as_flat = np.concatenate(list(tokens_per_sentence_as))\n",
    "\n",
    "#Histogram of tokens per sentence - Astronauts\n",
    "plt.hist(tokens_per_sentence_as_flat, bins=50)\n",
    "\n",
    "# Add labels and a title to the plot\n",
    "plt.xlabel(\"Number of Tokens\")\n",
    "plt.ylabel(\"Number of sentences\")\n",
    "plt.title(\"Distribution of tokens per sentence - Astronauts\")\n",
    "\n",
    "# Show the plot\n",
    "plt.show()"
   ]
  },
  {
   "cell_type": "markdown",
   "metadata": {
    "id": "MbLAzmdPdCVO"
   },
   "source": [
    "Histograms of tokens per category per article:"
   ]
  },
  {
   "cell_type": "code",
   "execution_count": 29,
   "metadata": {
    "colab": {
     "base_uri": "https://localhost:8080/",
     "height": 410
    },
    "id": "xcCT6LlIdBkw",
    "outputId": "d555c233-3414-49c0-e5b5-b4e98ac00235"
   },
   "outputs": [
    {
     "data": {
      "image/png": "[encoded data removed]",
      "text/plain": [
       "<Figure size 1080x288 with 2 Axes>"
      ]
     },
     "metadata": {
      "needs_background": "light"
     },
     "output_type": "display_data"
    }
   ],
   "source": [
    "# Create a figure with two subplots, side-by-side\n",
    "fig, axs = plt.subplots(1, 2, figsize=(15, 4))\n",
    "\n",
    "# Plot the first histogram on the left subplot\n",
    "axs[0].hist(total_wr, bins=50,color='pink',edgecolor='black')\n",
    "axs[0].set_title('Writers')\n",
    "\n",
    "# Plot the second histogram on the right subplot\n",
    "axs[1].hist(total_as, bins=50, color = \"mediumpurple\",edgecolor='black')\n",
    "axs[1].set_title('Astronauts')\n",
    "\n",
    "\n",
    "# Set the x-axis and y-axis labels for both subplots\n",
    "for ax in axs:\n",
    "    ax.set_xlabel('Number of tokens')\n",
    "    ax.set_ylabel('Number of articles')\n",
    "\n",
    "# Show the figure\n",
    "plt.show()"
   ]
  },
  {
   "cell_type": "markdown",
   "metadata": {},
   "source": [
    "From what we have seen above with comparison of averages, and here from distributions, we can make a hypothesis that average number of tokens per article is higher for `Astronauts` than it is for `Writers`.\n",
    "\n",
    "$H_{0}$: Average number of tokens per article is the same for `Astronauts` and `Writers`.\n",
    "\n",
    "$H_{1}$: Average number of tokens per article is not the same for `Astronauts` and `Writers`.\n",
    "\n",
    "Let's set p-value to be < 0.05 for the experiment."
   ]
  },
  {
   "cell_type": "code",
   "execution_count": 30,
   "metadata": {},
   "outputs": [
    {
     "data": {
      "text/plain": [
       "Ttest_indResult(statistic=4.097121785719359, pvalue=5.0707218792719064e-05)"
      ]
     },
     "execution_count": 30,
     "metadata": {},
     "output_type": "execute_result"
    }
   ],
   "source": [
    "ttest_ind(total_as, total_wr)"
   ]
  },
  {
   "cell_type": "markdown",
   "metadata": {},
   "source": [
    "P-value is very small and it means we can reject the null-hypothesis. Since the value of statistic is positive, we can \n",
    "accept the theory that average number of tokens is higher for `Astronauts` than for `Writers`, meaning that we can accept the theory that `Astronauts` articles are longer on average."
   ]
  },
  {
   "cell_type": "markdown",
   "metadata": {},
   "source": [
    "__________________"
   ]
  },
  {
   "cell_type": "markdown",
   "metadata": {},
   "source": [
    "# Visualization: Named entities"
   ]
  },
  {
   "cell_type": "markdown",
   "metadata": {},
   "source": [
    "For this experiment we will extract named entities using Spacy library and compare the article classes: whether or not some of the named entities are more frequent in a particular article class."
   ]
  },
  {
   "cell_type": "code",
   "execution_count": 31,
   "metadata": {
    "id": "ExBR8pEQefMq"
   },
   "outputs": [],
   "source": [
    "#We apply it to the column text of the dataset\n",
    "\n",
    "entities_as = astronauts[\"Text\"].apply(get_entities)\n",
    "entities_wr = writers[\"Text\"].apply(get_entities)"
   ]
  },
  {
   "cell_type": "code",
   "execution_count": 32,
   "metadata": {
    "id": "w_UNuDyeeqQq",
    "outputId": "7249a1db-4f61-4964-9d92-593aa4abe74a"
   },
   "outputs": [
    {
     "data": {
      "text/html": [
       "<span class=\"tex2jax_ignore\"><div class=\"entities\" style=\"line-height: 2.5; direction: ltr\">\n",
       "<mark class=\"entity\" style=\"background: #aa9cfc; padding: 0.45em 0.6em; margin: 0 0.25em; line-height: 1; border-radius: 0.35em;\">\n",
       "    Frank Curtis &quot;Curt&quot; Michel\n",
       "    <span style=\"font-size: 0.8em; font-weight: bold; line-height: 1; border-radius: 0.35em; vertical-align: middle; margin-left: 0.5rem\">PERSON</span>\n",
       "</mark>\n",
       " (\n",
       "<mark class=\"entity\" style=\"background: #bfe1d9; padding: 0.45em 0.6em; margin: 0 0.25em; line-height: 1; border-radius: 0.35em;\">\n",
       "    June 5, 1934\n",
       "    <span style=\"font-size: 0.8em; font-weight: bold; line-height: 1; border-radius: 0.35em; vertical-align: middle; margin-left: 0.5rem\">DATE</span>\n",
       "</mark>\n",
       " – \n",
       "<mark class=\"entity\" style=\"background: #bfe1d9; padding: 0.45em 0.6em; margin: 0 0.25em; line-height: 1; border-radius: 0.35em;\">\n",
       "    February 26, 2015\n",
       "    <span style=\"font-size: 0.8em; font-weight: bold; line-height: 1; border-radius: 0.35em; vertical-align: middle; margin-left: 0.5rem\">DATE</span>\n",
       "</mark>\n",
       ") was an \n",
       "<mark class=\"entity\" style=\"background: #c887fb; padding: 0.45em 0.6em; margin: 0 0.25em; line-height: 1; border-radius: 0.35em;\">\n",
       "    American\n",
       "    <span style=\"font-size: 0.8em; font-weight: bold; line-height: 1; border-radius: 0.35em; vertical-align: middle; margin-left: 0.5rem\">NORP</span>\n",
       "</mark>\n",
       " astrophysicist; a professor of astrophysics at \n",
       "<mark class=\"entity\" style=\"background: #7aecec; padding: 0.45em 0.6em; margin: 0 0.25em; line-height: 1; border-radius: 0.35em;\">\n",
       "    Rice University\n",
       "    <span style=\"font-size: 0.8em; font-weight: bold; line-height: 1; border-radius: 0.35em; vertical-align: middle; margin-left: 0.5rem\">ORG</span>\n",
       "</mark>\n",
       " in \n",
       "<mark class=\"entity\" style=\"background: #feca74; padding: 0.45em 0.6em; margin: 0 0.25em; line-height: 1; border-radius: 0.35em;\">\n",
       "    Houston\n",
       "    <span style=\"font-size: 0.8em; font-weight: bold; line-height: 1; border-radius: 0.35em; vertical-align: middle; margin-left: 0.5rem\">GPE</span>\n",
       "</mark>\n",
       ", \n",
       "<mark class=\"entity\" style=\"background: #feca74; padding: 0.45em 0.6em; margin: 0 0.25em; line-height: 1; border-radius: 0.35em;\">\n",
       "    Texas\n",
       "    <span style=\"font-size: 0.8em; font-weight: bold; line-height: 1; border-radius: 0.35em; vertical-align: middle; margin-left: 0.5rem\">GPE</span>\n",
       "</mark>\n",
       "; a \n",
       "<mark class=\"entity\" style=\"background: #feca74; padding: 0.45em 0.6em; margin: 0 0.25em; line-height: 1; border-radius: 0.35em;\">\n",
       "    United States\n",
       "    <span style=\"font-size: 0.8em; font-weight: bold; line-height: 1; border-radius: 0.35em; vertical-align: middle; margin-left: 0.5rem\">GPE</span>\n",
       "</mark>\n",
       " \n",
       "<mark class=\"entity\" style=\"background: #7aecec; padding: 0.45em 0.6em; margin: 0 0.25em; line-height: 1; border-radius: 0.35em;\">\n",
       "    Air Force\n",
       "    <span style=\"font-size: 0.8em; font-weight: bold; line-height: 1; border-radius: 0.35em; vertical-align: middle; margin-left: 0.5rem\">ORG</span>\n",
       "</mark>\n",
       " pilot; and a \n",
       "<mark class=\"entity\" style=\"background: #7aecec; padding: 0.45em 0.6em; margin: 0 0.25em; line-height: 1; border-radius: 0.35em;\">\n",
       "    NASA\n",
       "    <span style=\"font-size: 0.8em; font-weight: bold; line-height: 1; border-radius: 0.35em; vertical-align: middle; margin-left: 0.5rem\">ORG</span>\n",
       "</mark>\n",
       " astronaut. Personal life \n",
       "<mark class=\"entity\" style=\"background: #aa9cfc; padding: 0.45em 0.6em; margin: 0 0.25em; line-height: 1; border-radius: 0.35em;\">\n",
       "    Michel\n",
       "    <span style=\"font-size: 0.8em; font-weight: bold; line-height: 1; border-radius: 0.35em; vertical-align: middle; margin-left: 0.5rem\">PERSON</span>\n",
       "</mark>\n",
       " was born \n",
       "<mark class=\"entity\" style=\"background: #bfe1d9; padding: 0.45em 0.6em; margin: 0 0.25em; line-height: 1; border-radius: 0.35em;\">\n",
       "    June 5, 1934\n",
       "    <span style=\"font-size: 0.8em; font-weight: bold; line-height: 1; border-radius: 0.35em; vertical-align: middle; margin-left: 0.5rem\">DATE</span>\n",
       "</mark>\n",
       ", to parents to \n",
       "<mark class=\"entity\" style=\"background: #aa9cfc; padding: 0.45em 0.6em; margin: 0 0.25em; line-height: 1; border-radius: 0.35em;\">\n",
       "    Frank\n",
       "    <span style=\"font-size: 0.8em; font-weight: bold; line-height: 1; border-radius: 0.35em; vertical-align: middle; margin-left: 0.5rem\">PERSON</span>\n",
       "</mark>\n",
       " and \n",
       "<mark class=\"entity\" style=\"background: #aa9cfc; padding: 0.45em 0.6em; margin: 0 0.25em; line-height: 1; border-radius: 0.35em;\">\n",
       "    Viola Michel\n",
       "    <span style=\"font-size: 0.8em; font-weight: bold; line-height: 1; border-radius: 0.35em; vertical-align: middle; margin-left: 0.5rem\">PERSON</span>\n",
       "</mark>\n",
       ". He was married to \n",
       "<mark class=\"entity\" style=\"background: #aa9cfc; padding: 0.45em 0.6em; margin: 0 0.25em; line-height: 1; border-radius: 0.35em;\">\n",
       "    Bonnie Hausman\n",
       "    <span style=\"font-size: 0.8em; font-weight: bold; line-height: 1; border-radius: 0.35em; vertical-align: middle; margin-left: 0.5rem\">PERSON</span>\n",
       "</mark>\n",
       ", a web technical specialist. They had \n",
       "<mark class=\"entity\" style=\"background: #e4e7d2; padding: 0.45em 0.6em; margin: 0 0.25em; line-height: 1; border-radius: 0.35em;\">\n",
       "    two\n",
       "    <span style=\"font-size: 0.8em; font-weight: bold; line-height: 1; border-radius: 0.35em; vertical-align: middle; margin-left: 0.5rem\">CARDINAL</span>\n",
       "</mark>\n",
       " children. His hobbies were photography, tennis, handball, and baseball. \n",
       "<mark class=\"entity\" style=\"background: #aa9cfc; padding: 0.45em 0.6em; margin: 0 0.25em; line-height: 1; border-radius: 0.35em;\">\n",
       "    Michel\n",
       "    <span style=\"font-size: 0.8em; font-weight: bold; line-height: 1; border-radius: 0.35em; vertical-align: middle; margin-left: 0.5rem\">PERSON</span>\n",
       "</mark>\n",
       " died at \n",
       "<mark class=\"entity\" style=\"background: #bfe1d9; padding: 0.45em 0.6em; margin: 0 0.25em; line-height: 1; border-radius: 0.35em;\">\n",
       "    the age of 80\n",
       "    <span style=\"font-size: 0.8em; font-weight: bold; line-height: 1; border-radius: 0.35em; vertical-align: middle; margin-left: 0.5rem\">DATE</span>\n",
       "</mark>\n",
       " on \n",
       "<mark class=\"entity\" style=\"background: #bfe1d9; padding: 0.45em 0.6em; margin: 0 0.25em; line-height: 1; border-radius: 0.35em;\">\n",
       "    February 26, 2015\n",
       "    <span style=\"font-size: 0.8em; font-weight: bold; line-height: 1; border-radius: 0.35em; vertical-align: middle; margin-left: 0.5rem\">DATE</span>\n",
       "</mark>\n",
       ". He was buried with full military honors at \n",
       "<mark class=\"entity\" style=\"background: #7aecec; padding: 0.45em 0.6em; margin: 0 0.25em; line-height: 1; border-radius: 0.35em;\">\n",
       "    the Houston National Cemetery\n",
       "    <span style=\"font-size: 0.8em; font-weight: bold; line-height: 1; border-radius: 0.35em; vertical-align: middle; margin-left: 0.5rem\">ORG</span>\n",
       "</mark>\n",
       ". Education \n",
       "<mark class=\"entity\" style=\"background: #aa9cfc; padding: 0.45em 0.6em; margin: 0 0.25em; line-height: 1; border-radius: 0.35em;\">\n",
       "    Michel\n",
       "    <span style=\"font-size: 0.8em; font-weight: bold; line-height: 1; border-radius: 0.35em; vertical-align: middle; margin-left: 0.5rem\">PERSON</span>\n",
       "</mark>\n",
       " graduated from \n",
       "<mark class=\"entity\" style=\"background: #aa9cfc; padding: 0.45em 0.6em; margin: 0 0.25em; line-height: 1; border-radius: 0.35em;\">\n",
       "    C. K. McClatchy High School\n",
       "    <span style=\"font-size: 0.8em; font-weight: bold; line-height: 1; border-radius: 0.35em; vertical-align: middle; margin-left: 0.5rem\">PERSON</span>\n",
       "</mark>\n",
       ", located at \n",
       "<mark class=\"entity\" style=\"background: #feca74; padding: 0.45em 0.6em; margin: 0 0.25em; line-height: 1; border-radius: 0.35em;\">\n",
       "    Sacramento\n",
       "    <span style=\"font-size: 0.8em; font-weight: bold; line-height: 1; border-radius: 0.35em; vertical-align: middle; margin-left: 0.5rem\">GPE</span>\n",
       "</mark>\n",
       ", \n",
       "<mark class=\"entity\" style=\"background: #feca74; padding: 0.45em 0.6em; margin: 0 0.25em; line-height: 1; border-radius: 0.35em;\">\n",
       "    California\n",
       "    <span style=\"font-size: 0.8em; font-weight: bold; line-height: 1; border-radius: 0.35em; vertical-align: middle; margin-left: 0.5rem\">GPE</span>\n",
       "</mark>\n",
       ", in \n",
       "<mark class=\"entity\" style=\"background: #bfe1d9; padding: 0.45em 0.6em; margin: 0 0.25em; line-height: 1; border-radius: 0.35em;\">\n",
       "    1951\n",
       "    <span style=\"font-size: 0.8em; font-weight: bold; line-height: 1; border-radius: 0.35em; vertical-align: middle; margin-left: 0.5rem\">DATE</span>\n",
       "</mark>\n",
       ". In \n",
       "<mark class=\"entity\" style=\"background: #bfe1d9; padding: 0.45em 0.6em; margin: 0 0.25em; line-height: 1; border-radius: 0.35em;\">\n",
       "    1955\n",
       "    <span style=\"font-size: 0.8em; font-weight: bold; line-height: 1; border-radius: 0.35em; vertical-align: middle; margin-left: 0.5rem\">DATE</span>\n",
       "</mark>\n",
       ", he received a Bachelor of Science degree with honors in physics, and in \n",
       "<mark class=\"entity\" style=\"background: #bfe1d9; padding: 0.45em 0.6em; margin: 0 0.25em; line-height: 1; border-radius: 0.35em;\">\n",
       "    1962\n",
       "    <span style=\"font-size: 0.8em; font-weight: bold; line-height: 1; border-radius: 0.35em; vertical-align: middle; margin-left: 0.5rem\">DATE</span>\n",
       "</mark>\n",
       " he received a doctorate in physics, both from \n",
       "<mark class=\"entity\" style=\"background: #7aecec; padding: 0.45em 0.6em; margin: 0 0.25em; line-height: 1; border-radius: 0.35em;\">\n",
       "    the California Institute of Technology\n",
       "    <span style=\"font-size: 0.8em; font-weight: bold; line-height: 1; border-radius: 0.35em; vertical-align: middle; margin-left: 0.5rem\">ORG</span>\n",
       "</mark>\n",
       ". His thesis was &quot;\n",
       "<mark class=\"entity\" style=\"background: #f0d0ff; padding: 0.45em 0.6em; margin: 0 0.25em; line-height: 1; border-radius: 0.35em;\">\n",
       "    Beta Spectra\n",
       "    <span style=\"font-size: 0.8em; font-weight: bold; line-height: 1; border-radius: 0.35em; vertical-align: middle; margin-left: 0.5rem\">WORK_OF_ART</span>\n",
       "</mark>\n",
       " of the Mass 12 Nuclei&quot; and his dissertation advisor was \n",
       "<mark class=\"entity\" style=\"background: #aa9cfc; padding: 0.45em 0.6em; margin: 0 0.25em; line-height: 1; border-radius: 0.35em;\">\n",
       "    Thomas Lauritsen\n",
       "    <span style=\"font-size: 0.8em; font-weight: bold; line-height: 1; border-radius: 0.35em; vertical-align: middle; margin-left: 0.5rem\">PERSON</span>\n",
       "</mark>\n",
       ". Nobel laureate \n",
       "<mark class=\"entity\" style=\"background: #aa9cfc; padding: 0.45em 0.6em; margin: 0 0.25em; line-height: 1; border-radius: 0.35em;\">\n",
       "    William Alfred Fowler\n",
       "    <span style=\"font-size: 0.8em; font-weight: bold; line-height: 1; border-radius: 0.35em; vertical-align: middle; margin-left: 0.5rem\">PERSON</span>\n",
       "</mark>\n",
       " also served on his committee.While on the faculty of \n",
       "<mark class=\"entity\" style=\"background: #7aecec; padding: 0.45em 0.6em; margin: 0 0.25em; line-height: 1; border-radius: 0.35em;\">\n",
       "    Rice University\n",
       "    <span style=\"font-size: 0.8em; font-weight: bold; line-height: 1; border-radius: 0.35em; vertical-align: middle; margin-left: 0.5rem\">ORG</span>\n",
       "</mark>\n",
       ", \n",
       "<mark class=\"entity\" style=\"background: #aa9cfc; padding: 0.45em 0.6em; margin: 0 0.25em; line-height: 1; border-radius: 0.35em;\">\n",
       "    Michel\n",
       "    <span style=\"font-size: 0.8em; font-weight: bold; line-height: 1; border-radius: 0.35em; vertical-align: middle; margin-left: 0.5rem\">PERSON</span>\n",
       "</mark>\n",
       " oversaw the dissertations of \n",
       "<mark class=\"entity\" style=\"background: #aa9cfc; padding: 0.45em 0.6em; margin: 0 0.25em; line-height: 1; border-radius: 0.35em;\">\n",
       "    Jerry Modisette\n",
       "    <span style=\"font-size: 0.8em; font-weight: bold; line-height: 1; border-radius: 0.35em; vertical-align: middle; margin-left: 0.5rem\">PERSON</span>\n",
       "</mark>\n",
       ", \n",
       "<mark class=\"entity\" style=\"background: #aa9cfc; padding: 0.45em 0.6em; margin: 0 0.25em; line-height: 1; border-radius: 0.35em;\">\n",
       "    Robert LaQuey\n",
       "    <span style=\"font-size: 0.8em; font-weight: bold; line-height: 1; border-radius: 0.35em; vertical-align: middle; margin-left: 0.5rem\">PERSON</span>\n",
       "</mark>\n",
       ", \n",
       "<mark class=\"entity\" style=\"background: #aa9cfc; padding: 0.45em 0.6em; margin: 0 0.25em; line-height: 1; border-radius: 0.35em;\">\n",
       "    Robert Manka\n",
       "    <span style=\"font-size: 0.8em; font-weight: bold; line-height: 1; border-radius: 0.35em; vertical-align: middle; margin-left: 0.5rem\">PERSON</span>\n",
       "</mark>\n",
       ", \n",
       "<mark class=\"entity\" style=\"background: #7aecec; padding: 0.45em 0.6em; margin: 0 0.25em; line-height: 1; border-radius: 0.35em;\">\n",
       "    Cliff Morris\n",
       "    <span style=\"font-size: 0.8em; font-weight: bold; line-height: 1; border-radius: 0.35em; vertical-align: middle; margin-left: 0.5rem\">ORG</span>\n",
       "</mark>\n",
       ", \n",
       "<mark class=\"entity\" style=\"background: #aa9cfc; padding: 0.45em 0.6em; margin: 0 0.25em; line-height: 1; border-radius: 0.35em;\">\n",
       "    Michael Pelizzari\n",
       "    <span style=\"font-size: 0.8em; font-weight: bold; line-height: 1; border-radius: 0.35em; vertical-align: middle; margin-left: 0.5rem\">PERSON</span>\n",
       "</mark>\n",
       ", \n",
       "<mark class=\"entity\" style=\"background: #aa9cfc; padding: 0.45em 0.6em; margin: 0 0.25em; line-height: 1; border-radius: 0.35em;\">\n",
       "    Jürgen Krause-Polstorff\n",
       "    <span style=\"font-size: 0.8em; font-weight: bold; line-height: 1; border-radius: 0.35em; vertical-align: middle; margin-left: 0.5rem\">PERSON</span>\n",
       "</mark>\n",
       ", \n",
       "<mark class=\"entity\" style=\"background: #aa9cfc; padding: 0.45em 0.6em; margin: 0 0.25em; line-height: 1; border-radius: 0.35em;\">\n",
       "    James Sokolowski\n",
       "    <span style=\"font-size: 0.8em; font-weight: bold; line-height: 1; border-radius: 0.35em; vertical-align: middle; margin-left: 0.5rem\">PERSON</span>\n",
       "</mark>\n",
       ", and \n",
       "<mark class=\"entity\" style=\"background: #aa9cfc; padding: 0.45em 0.6em; margin: 0 0.25em; line-height: 1; border-radius: 0.35em;\">\n",
       "    Steven Sturner\n",
       "    <span style=\"font-size: 0.8em; font-weight: bold; line-height: 1; border-radius: 0.35em; vertical-align: middle; margin-left: 0.5rem\">PERSON</span>\n",
       "</mark>\n",
       ". Organizations \n",
       "<mark class=\"entity\" style=\"background: #aa9cfc; padding: 0.45em 0.6em; margin: 0 0.25em; line-height: 1; border-radius: 0.35em;\">\n",
       "    Michel\n",
       "    <span style=\"font-size: 0.8em; font-weight: bold; line-height: 1; border-radius: 0.35em; vertical-align: middle; margin-left: 0.5rem\">PERSON</span>\n",
       "</mark>\n",
       " was a fellow of \n",
       "<mark class=\"entity\" style=\"background: #7aecec; padding: 0.45em 0.6em; margin: 0 0.25em; line-height: 1; border-radius: 0.35em;\">\n",
       "    the American Physical Society\n",
       "    <span style=\"font-size: 0.8em; font-weight: bold; line-height: 1; border-radius: 0.35em; vertical-align: middle; margin-left: 0.5rem\">ORG</span>\n",
       "</mark>\n",
       " and a member of \n",
       "<mark class=\"entity\" style=\"background: #7aecec; padding: 0.45em 0.6em; margin: 0 0.25em; line-height: 1; border-radius: 0.35em;\">\n",
       "    the American Geophysical Union\n",
       "    <span style=\"font-size: 0.8em; font-weight: bold; line-height: 1; border-radius: 0.35em; vertical-align: middle; margin-left: 0.5rem\">ORG</span>\n",
       "</mark>\n",
       ", and \n",
       "<mark class=\"entity\" style=\"background: #7aecec; padding: 0.45em 0.6em; margin: 0 0.25em; line-height: 1; border-radius: 0.35em;\">\n",
       "    the American Astronomical Society\n",
       "    <span style=\"font-size: 0.8em; font-weight: bold; line-height: 1; border-radius: 0.35em; vertical-align: middle; margin-left: 0.5rem\">ORG</span>\n",
       "</mark>\n",
       ". Experience \n",
       "<mark class=\"entity\" style=\"background: #aa9cfc; padding: 0.45em 0.6em; margin: 0 0.25em; line-height: 1; border-radius: 0.35em;\">\n",
       "    Michel\n",
       "    <span style=\"font-size: 0.8em; font-weight: bold; line-height: 1; border-radius: 0.35em; vertical-align: middle; margin-left: 0.5rem\">PERSON</span>\n",
       "</mark>\n",
       " was a junior engineer with \n",
       "<mark class=\"entity\" style=\"background: #7aecec; padding: 0.45em 0.6em; margin: 0 0.25em; line-height: 1; border-radius: 0.35em;\">\n",
       "    the Firestone Tire and Rubber Company's\n",
       "    <span style=\"font-size: 0.8em; font-weight: bold; line-height: 1; border-radius: 0.35em; vertical-align: middle; margin-left: 0.5rem\">ORG</span>\n",
       "</mark>\n",
       " guided missile division before joining \n",
       "<mark class=\"entity\" style=\"background: #7aecec; padding: 0.45em 0.6em; margin: 0 0.25em; line-height: 1; border-radius: 0.35em;\">\n",
       "    the Air Force\n",
       "    <span style=\"font-size: 0.8em; font-weight: bold; line-height: 1; border-radius: 0.35em; vertical-align: middle; margin-left: 0.5rem\">ORG</span>\n",
       "</mark>\n",
       " in \n",
       "<mark class=\"entity\" style=\"background: #bfe1d9; padding: 0.45em 0.6em; margin: 0 0.25em; line-height: 1; border-radius: 0.35em;\">\n",
       "    1955\n",
       "    <span style=\"font-size: 0.8em; font-weight: bold; line-height: 1; border-radius: 0.35em; vertical-align: middle; margin-left: 0.5rem\">DATE</span>\n",
       "</mark>\n",
       ". As an \n",
       "<mark class=\"entity\" style=\"background: #7aecec; padding: 0.45em 0.6em; margin: 0 0.25em; line-height: 1; border-radius: 0.35em;\">\n",
       "    Air Force Reserve\n",
       "    <span style=\"font-size: 0.8em; font-weight: bold; line-height: 1; border-radius: 0.35em; vertical-align: middle; margin-left: 0.5rem\">ORG</span>\n",
       "</mark>\n",
       " Officer Training Corps (AFROTC) graduate, he received flight training at \n",
       "<mark class=\"entity\" style=\"background: #7aecec; padding: 0.45em 0.6em; margin: 0 0.25em; line-height: 1; border-radius: 0.35em;\">\n",
       "    Marana Air Force Base\n",
       "    <span style=\"font-size: 0.8em; font-weight: bold; line-height: 1; border-radius: 0.35em; vertical-align: middle; margin-left: 0.5rem\">ORG</span>\n",
       "</mark>\n",
       ", \n",
       "<mark class=\"entity\" style=\"background: #feca74; padding: 0.45em 0.6em; margin: 0 0.25em; line-height: 1; border-radius: 0.35em;\">\n",
       "    Arizona\n",
       "    <span style=\"font-size: 0.8em; font-weight: bold; line-height: 1; border-radius: 0.35em; vertical-align: middle; margin-left: 0.5rem\">GPE</span>\n",
       "</mark>\n",
       ", and at \n",
       "<mark class=\"entity\" style=\"background: #9cc9cc; padding: 0.45em 0.6em; margin: 0 0.25em; line-height: 1; border-radius: 0.35em;\">\n",
       "    Laredo Air Force Base\n",
       "    <span style=\"font-size: 0.8em; font-weight: bold; line-height: 1; border-radius: 0.35em; vertical-align: middle; margin-left: 0.5rem\">FAC</span>\n",
       "</mark>\n",
       " and Perrin Air Force Base in \n",
       "<mark class=\"entity\" style=\"background: #feca74; padding: 0.45em 0.6em; margin: 0 0.25em; line-height: 1; border-radius: 0.35em;\">\n",
       "    Texas\n",
       "    <span style=\"font-size: 0.8em; font-weight: bold; line-height: 1; border-radius: 0.35em; vertical-align: middle; margin-left: 0.5rem\">GPE</span>\n",
       "</mark>\n",
       ". During his \n",
       "<mark class=\"entity\" style=\"background: #bfe1d9; padding: 0.45em 0.6em; margin: 0 0.25em; line-height: 1; border-radius: 0.35em;\">\n",
       "    three years\n",
       "    <span style=\"font-size: 0.8em; font-weight: bold; line-height: 1; border-radius: 0.35em; vertical-align: middle; margin-left: 0.5rem\">DATE</span>\n",
       "</mark>\n",
       " of military service, \n",
       "<mark class=\"entity\" style=\"background: #aa9cfc; padding: 0.45em 0.6em; margin: 0 0.25em; line-height: 1; border-radius: 0.35em;\">\n",
       "    Michel\n",
       "    <span style=\"font-size: 0.8em; font-weight: bold; line-height: 1; border-radius: 0.35em; vertical-align: middle; margin-left: 0.5rem\">PERSON</span>\n",
       "</mark>\n",
       " flew F-86D interceptors in \n",
       "<mark class=\"entity\" style=\"background: #feca74; padding: 0.45em 0.6em; margin: 0 0.25em; line-height: 1; border-radius: 0.35em;\">\n",
       "    the United States\n",
       "    <span style=\"font-size: 0.8em; font-weight: bold; line-height: 1; border-radius: 0.35em; vertical-align: middle; margin-left: 0.5rem\">GPE</span>\n",
       "</mark>\n",
       " and in \n",
       "<mark class=\"entity\" style=\"background: #ff9561; padding: 0.45em 0.6em; margin: 0 0.25em; line-height: 1; border-radius: 0.35em;\">\n",
       "    Europe\n",
       "    <span style=\"font-size: 0.8em; font-weight: bold; line-height: 1; border-radius: 0.35em; vertical-align: middle; margin-left: 0.5rem\">LOC</span>\n",
       "</mark>\n",
       " (\n",
       "<mark class=\"entity\" style=\"background: #feca74; padding: 0.45em 0.6em; margin: 0 0.25em; line-height: 1; border-radius: 0.35em;\">\n",
       "    England\n",
       "    <span style=\"font-size: 0.8em; font-weight: bold; line-height: 1; border-radius: 0.35em; vertical-align: middle; margin-left: 0.5rem\">GPE</span>\n",
       "</mark>\n",
       " and \n",
       "<mark class=\"entity\" style=\"background: #feca74; padding: 0.45em 0.6em; margin: 0 0.25em; line-height: 1; border-radius: 0.35em;\">\n",
       "    West Germany\n",
       "    <span style=\"font-size: 0.8em; font-weight: bold; line-height: 1; border-radius: 0.35em; vertical-align: middle; margin-left: 0.5rem\">GPE</span>\n",
       "</mark>\n",
       "). \n",
       "<mark class=\"entity\" style=\"background: #aa9cfc; padding: 0.45em 0.6em; margin: 0 0.25em; line-height: 1; border-radius: 0.35em;\">\n",
       "    Michel\n",
       "    <span style=\"font-size: 0.8em; font-weight: bold; line-height: 1; border-radius: 0.35em; vertical-align: middle; margin-left: 0.5rem\">PERSON</span>\n",
       "</mark>\n",
       " accumulated \n",
       "<mark class=\"entity\" style=\"background: #bfe1d9; padding: 0.45em 0.6em; margin: 0 0.25em; line-height: 1; border-radius: 0.35em;\">\n",
       "    1,000 hours\n",
       "    <span style=\"font-size: 0.8em; font-weight: bold; line-height: 1; border-radius: 0.35em; vertical-align: middle; margin-left: 0.5rem\">TIME</span>\n",
       "</mark>\n",
       " flying time with \n",
       "<mark class=\"entity\" style=\"background: #bfe1d9; padding: 0.45em 0.6em; margin: 0 0.25em; line-height: 1; border-radius: 0.35em;\">\n",
       "    900 hours\n",
       "    <span style=\"font-size: 0.8em; font-weight: bold; line-height: 1; border-radius: 0.35em; vertical-align: middle; margin-left: 0.5rem\">TIME</span>\n",
       "</mark>\n",
       " in jet aircraft.Following his tour of active duty in \n",
       "<mark class=\"entity\" style=\"background: #feca74; padding: 0.45em 0.6em; margin: 0 0.25em; line-height: 1; border-radius: 0.35em;\">\n",
       "    the United States\n",
       "    <span style=\"font-size: 0.8em; font-weight: bold; line-height: 1; border-radius: 0.35em; vertical-align: middle; margin-left: 0.5rem\">GPE</span>\n",
       "</mark>\n",
       " Air Force, \n",
       "<mark class=\"entity\" style=\"background: #aa9cfc; padding: 0.45em 0.6em; margin: 0 0.25em; line-height: 1; border-radius: 0.35em;\">\n",
       "    Michel\n",
       "    <span style=\"font-size: 0.8em; font-weight: bold; line-height: 1; border-radius: 0.35em; vertical-align: middle; margin-left: 0.5rem\">PERSON</span>\n",
       "</mark>\n",
       " was a graduate student and research fellow at \n",
       "<mark class=\"entity\" style=\"background: #7aecec; padding: 0.45em 0.6em; margin: 0 0.25em; line-height: 1; border-radius: 0.35em;\">\n",
       "    the California Institute of Technology\n",
       "    <span style=\"font-size: 0.8em; font-weight: bold; line-height: 1; border-radius: 0.35em; vertical-align: middle; margin-left: 0.5rem\">ORG</span>\n",
       "</mark>\n",
       ", doing experimental and theoretical work in nuclear physics for \n",
       "<mark class=\"entity\" style=\"background: #aa9cfc; padding: 0.45em 0.6em; margin: 0 0.25em; line-height: 1; border-radius: 0.35em;\">\n",
       "    Lauritsen\n",
       "    <span style=\"font-size: 0.8em; font-weight: bold; line-height: 1; border-radius: 0.35em; vertical-align: middle; margin-left: 0.5rem\">PERSON</span>\n",
       "</mark>\n",
       " and \n",
       "<mark class=\"entity\" style=\"background: #aa9cfc; padding: 0.45em 0.6em; margin: 0 0.25em; line-height: 1; border-radius: 0.35em;\">\n",
       "    Richard P. Feynman\n",
       "    <span style=\"font-size: 0.8em; font-weight: bold; line-height: 1; border-radius: 0.35em; vertical-align: middle; margin-left: 0.5rem\">PERSON</span>\n",
       "</mark>\n",
       ", along with work in theoretical astrophysics for \n",
       "<mark class=\"entity\" style=\"background: #f0d0ff; padding: 0.45em 0.6em; margin: 0 0.25em; line-height: 1; border-radius: 0.35em;\">\n",
       "    Fowler\n",
       "    <span style=\"font-size: 0.8em; font-weight: bold; line-height: 1; border-radius: 0.35em; vertical-align: middle; margin-left: 0.5rem\">WORK_OF_ART</span>\n",
       "</mark>\n",
       ". He joined the faculty of \n",
       "<mark class=\"entity\" style=\"background: #7aecec; padding: 0.45em 0.6em; margin: 0 0.25em; line-height: 1; border-radius: 0.35em;\">\n",
       "    Rice University\n",
       "    <span style=\"font-size: 0.8em; font-weight: bold; line-height: 1; border-radius: 0.35em; vertical-align: middle; margin-left: 0.5rem\">ORG</span>\n",
       "</mark>\n",
       " in \n",
       "<mark class=\"entity\" style=\"background: #feca74; padding: 0.45em 0.6em; margin: 0 0.25em; line-height: 1; border-radius: 0.35em;\">\n",
       "    Houston\n",
       "    <span style=\"font-size: 0.8em; font-weight: bold; line-height: 1; border-radius: 0.35em; vertical-align: middle; margin-left: 0.5rem\">GPE</span>\n",
       "</mark>\n",
       ", \n",
       "<mark class=\"entity\" style=\"background: #feca74; padding: 0.45em 0.6em; margin: 0 0.25em; line-height: 1; border-radius: 0.35em;\">\n",
       "    Texas\n",
       "    <span style=\"font-size: 0.8em; font-weight: bold; line-height: 1; border-radius: 0.35em; vertical-align: middle; margin-left: 0.5rem\">GPE</span>\n",
       "</mark>\n",
       " in \n",
       "<mark class=\"entity\" style=\"background: #bfe1d9; padding: 0.45em 0.6em; margin: 0 0.25em; line-height: 1; border-radius: 0.35em;\">\n",
       "    July 1963\n",
       "    <span style=\"font-size: 0.8em; font-weight: bold; line-height: 1; border-radius: 0.35em; vertical-align: middle; margin-left: 0.5rem\">DATE</span>\n",
       "</mark>\n",
       ". \n",
       "<mark class=\"entity\" style=\"background: #aa9cfc; padding: 0.45em 0.6em; margin: 0 0.25em; line-height: 1; border-radius: 0.35em;\">\n",
       "    Michel\n",
       "    <span style=\"font-size: 0.8em; font-weight: bold; line-height: 1; border-radius: 0.35em; vertical-align: middle; margin-left: 0.5rem\">PERSON</span>\n",
       "</mark>\n",
       "'s efforts there were directed at researching and teaching space sciences, such as the interaction of solar winds and the lunar atmosphere.\n",
       "<mark class=\"entity\" style=\"background: #aa9cfc; padding: 0.45em 0.6em; margin: 0 0.25em; line-height: 1; border-radius: 0.35em;\">\n",
       "    Michel\n",
       "    <span style=\"font-size: 0.8em; font-weight: bold; line-height: 1; border-radius: 0.35em; vertical-align: middle; margin-left: 0.5rem\">PERSON</span>\n",
       "</mark>\n",
       " was selected as a scientist-astronaut in \n",
       "<mark class=\"entity\" style=\"background: #7aecec; padding: 0.45em 0.6em; margin: 0 0.25em; line-height: 1; border-radius: 0.35em;\">\n",
       "    NASA\n",
       "    <span style=\"font-size: 0.8em; font-weight: bold; line-height: 1; border-radius: 0.35em; vertical-align: middle; margin-left: 0.5rem\">ORG</span>\n",
       "</mark>\n",
       " \n",
       "<mark class=\"entity\" style=\"background: #7aecec; padding: 0.45em 0.6em; margin: 0 0.25em; line-height: 1; border-radius: 0.35em;\">\n",
       "    Astronaut Group 4\n",
       "    <span style=\"font-size: 0.8em; font-weight: bold; line-height: 1; border-radius: 0.35em; vertical-align: middle; margin-left: 0.5rem\">ORG</span>\n",
       "</mark>\n",
       " in \n",
       "<mark class=\"entity\" style=\"background: #bfe1d9; padding: 0.45em 0.6em; margin: 0 0.25em; line-height: 1; border-radius: 0.35em;\">\n",
       "    June 1965\n",
       "    <span style=\"font-size: 0.8em; font-weight: bold; line-height: 1; border-radius: 0.35em; vertical-align: middle; margin-left: 0.5rem\">DATE</span>\n",
       "</mark>\n",
       ". He resigned from \n",
       "<mark class=\"entity\" style=\"background: #7aecec; padding: 0.45em 0.6em; margin: 0 0.25em; line-height: 1; border-radius: 0.35em;\">\n",
       "    NASA\n",
       "    <span style=\"font-size: 0.8em; font-weight: bold; line-height: 1; border-radius: 0.35em; vertical-align: middle; margin-left: 0.5rem\">ORG</span>\n",
       "</mark>\n",
       " on \n",
       "<mark class=\"entity\" style=\"background: #bfe1d9; padding: 0.45em 0.6em; margin: 0 0.25em; line-height: 1; border-radius: 0.35em;\">\n",
       "    August 18, 1969\n",
       "    <span style=\"font-size: 0.8em; font-weight: bold; line-height: 1; border-radius: 0.35em; vertical-align: middle; margin-left: 0.5rem\">DATE</span>\n",
       "</mark>\n",
       " without having been assigned to any spaceflight missions. \n",
       "<mark class=\"entity\" style=\"background: #aa9cfc; padding: 0.45em 0.6em; margin: 0 0.25em; line-height: 1; border-radius: 0.35em;\">\n",
       "    Michel\n",
       "    <span style=\"font-size: 0.8em; font-weight: bold; line-height: 1; border-radius: 0.35em; vertical-align: middle; margin-left: 0.5rem\">PERSON</span>\n",
       "</mark>\n",
       " believed that it was his decision to resign (after it became clear that he would not be given a flight assignment) that motivated the scientific community to demand that his fellow scientist-astronaut \n",
       "<mark class=\"entity\" style=\"background: #aa9cfc; padding: 0.45em 0.6em; margin: 0 0.25em; line-height: 1; border-radius: 0.35em;\">\n",
       "    Harrison Schmitt\n",
       "    <span style=\"font-size: 0.8em; font-weight: bold; line-height: 1; border-radius: 0.35em; vertical-align: middle; margin-left: 0.5rem\">PERSON</span>\n",
       "</mark>\n",
       " be reassigned to \n",
       "<mark class=\"entity\" style=\"background: #7aecec; padding: 0.45em 0.6em; margin: 0 0.25em; line-height: 1; border-radius: 0.35em;\">\n",
       "    Apollo\n",
       "    <span style=\"font-size: 0.8em; font-weight: bold; line-height: 1; border-radius: 0.35em; vertical-align: middle; margin-left: 0.5rem\">ORG</span>\n",
       "</mark>\n",
       " \n",
       "<mark class=\"entity\" style=\"background: #e4e7d2; padding: 0.45em 0.6em; margin: 0 0.25em; line-height: 1; border-radius: 0.35em;\">\n",
       "    17\n",
       "    <span style=\"font-size: 0.8em; font-weight: bold; line-height: 1; border-radius: 0.35em; vertical-align: middle; margin-left: 0.5rem\">CARDINAL</span>\n",
       "</mark>\n",
       " (replacing \n",
       "<mark class=\"entity\" style=\"background: #aa9cfc; padding: 0.45em 0.6em; margin: 0 0.25em; line-height: 1; border-radius: 0.35em;\">\n",
       "    Joe Engle\n",
       "    <span style=\"font-size: 0.8em; font-weight: bold; line-height: 1; border-radius: 0.35em; vertical-align: middle; margin-left: 0.5rem\">PERSON</span>\n",
       "</mark>\n",
       ") after \n",
       "<mark class=\"entity\" style=\"background: #7aecec; padding: 0.45em 0.6em; margin: 0 0.25em; line-height: 1; border-radius: 0.35em;\">\n",
       "    Schmitt's\n",
       "    <span style=\"font-size: 0.8em; font-weight: bold; line-height: 1; border-radius: 0.35em; vertical-align: middle; margin-left: 0.5rem\">ORG</span>\n",
       "</mark>\n",
       " planned mission on \n",
       "<mark class=\"entity\" style=\"background: #7aecec; padding: 0.45em 0.6em; margin: 0 0.25em; line-height: 1; border-radius: 0.35em;\">\n",
       "    Apollo\n",
       "    <span style=\"font-size: 0.8em; font-weight: bold; line-height: 1; border-radius: 0.35em; vertical-align: middle; margin-left: 0.5rem\">ORG</span>\n",
       "</mark>\n",
       " \n",
       "<mark class=\"entity\" style=\"background: #e4e7d2; padding: 0.45em 0.6em; margin: 0 0.25em; line-height: 1; border-radius: 0.35em;\">\n",
       "    18\n",
       "    <span style=\"font-size: 0.8em; font-weight: bold; line-height: 1; border-radius: 0.35em; vertical-align: middle; margin-left: 0.5rem\">CARDINAL</span>\n",
       "</mark>\n",
       " was cancelled.After his resignation from \n",
       "<mark class=\"entity\" style=\"background: #7aecec; padding: 0.45em 0.6em; margin: 0 0.25em; line-height: 1; border-radius: 0.35em;\">\n",
       "    NASA\n",
       "    <span style=\"font-size: 0.8em; font-weight: bold; line-height: 1; border-radius: 0.35em; vertical-align: middle; margin-left: 0.5rem\">ORG</span>\n",
       "</mark>\n",
       ", \n",
       "<mark class=\"entity\" style=\"background: #aa9cfc; padding: 0.45em 0.6em; margin: 0 0.25em; line-height: 1; border-radius: 0.35em;\">\n",
       "    Michel\n",
       "    <span style=\"font-size: 0.8em; font-weight: bold; line-height: 1; border-radius: 0.35em; vertical-align: middle; margin-left: 0.5rem\">PERSON</span>\n",
       "</mark>\n",
       " returned to teaching and research at \n",
       "<mark class=\"entity\" style=\"background: #aa9cfc; padding: 0.45em 0.6em; margin: 0 0.25em; line-height: 1; border-radius: 0.35em;\">\n",
       "    Rice\n",
       "    <span style=\"font-size: 0.8em; font-weight: bold; line-height: 1; border-radius: 0.35em; vertical-align: middle; margin-left: 0.5rem\">PERSON</span>\n",
       "</mark>\n",
       ", where he also served as chair of the space physics and astronomy department \n",
       "<mark class=\"entity\" style=\"background: #bfe1d9; padding: 0.45em 0.6em; margin: 0 0.25em; line-height: 1; border-radius: 0.35em;\">\n",
       "    from 1974 to 1979\n",
       "    <span style=\"font-size: 0.8em; font-weight: bold; line-height: 1; border-radius: 0.35em; vertical-align: middle; margin-left: 0.5rem\">DATE</span>\n",
       "</mark>\n",
       ". He was the \n",
       "<mark class=\"entity\" style=\"background: #aa9cfc; padding: 0.45em 0.6em; margin: 0 0.25em; line-height: 1; border-radius: 0.35em;\">\n",
       "    Andrew Hays Buchanan\n",
       "    <span style=\"font-size: 0.8em; font-weight: bold; line-height: 1; border-radius: 0.35em; vertical-align: middle; margin-left: 0.5rem\">PERSON</span>\n",
       "</mark>\n",
       " Professor of \n",
       "<mark class=\"entity\" style=\"background: #feca74; padding: 0.45em 0.6em; margin: 0 0.25em; line-height: 1; border-radius: 0.35em;\">\n",
       "    Astrophysics\n",
       "    <span style=\"font-size: 0.8em; font-weight: bold; line-height: 1; border-radius: 0.35em; vertical-align: middle; margin-left: 0.5rem\">GPE</span>\n",
       "</mark>\n",
       " from \n",
       "<mark class=\"entity\" style=\"background: #bfe1d9; padding: 0.45em 0.6em; margin: 0 0.25em; line-height: 1; border-radius: 0.35em;\">\n",
       "    1974\n",
       "    <span style=\"font-size: 0.8em; font-weight: bold; line-height: 1; border-radius: 0.35em; vertical-align: middle; margin-left: 0.5rem\">DATE</span>\n",
       "</mark>\n",
       " until his retirement in \n",
       "<mark class=\"entity\" style=\"background: #bfe1d9; padding: 0.45em 0.6em; margin: 0 0.25em; line-height: 1; border-radius: 0.35em;\">\n",
       "    2000\n",
       "    <span style=\"font-size: 0.8em; font-weight: bold; line-height: 1; border-radius: 0.35em; vertical-align: middle; margin-left: 0.5rem\">DATE</span>\n",
       "</mark>\n",
       ". \n",
       "<mark class=\"entity\" style=\"background: #aa9cfc; padding: 0.45em 0.6em; margin: 0 0.25em; line-height: 1; border-radius: 0.35em;\">\n",
       "    Michel\n",
       "    <span style=\"font-size: 0.8em; font-weight: bold; line-height: 1; border-radius: 0.35em; vertical-align: middle; margin-left: 0.5rem\">PERSON</span>\n",
       "</mark>\n",
       " was named \n",
       "<mark class=\"entity\" style=\"background: #f0d0ff; padding: 0.45em 0.6em; margin: 0 0.25em; line-height: 1; border-radius: 0.35em;\">\n",
       "    a Guggenheim Fellow\n",
       "    <span style=\"font-size: 0.8em; font-weight: bold; line-height: 1; border-radius: 0.35em; vertical-align: middle; margin-left: 0.5rem\">WORK_OF_ART</span>\n",
       "</mark>\n",
       " to \n",
       "<mark class=\"entity\" style=\"background: #ff8197; padding: 0.45em 0.6em; margin: 0 0.25em; line-height: 1; border-radius: 0.35em;\">\n",
       "    the École Polytechnique\n",
       "    <span style=\"font-size: 0.8em; font-weight: bold; line-height: 1; border-radius: 0.35em; vertical-align: middle; margin-left: 0.5rem\">LAW</span>\n",
       "</mark>\n",
       " in \n",
       "<mark class=\"entity\" style=\"background: #feca74; padding: 0.45em 0.6em; margin: 0 0.25em; line-height: 1; border-radius: 0.35em;\">\n",
       "    Palaiseau\n",
       "    <span style=\"font-size: 0.8em; font-weight: bold; line-height: 1; border-radius: 0.35em; vertical-align: middle; margin-left: 0.5rem\">GPE</span>\n",
       "</mark>\n",
       ", \n",
       "<mark class=\"entity\" style=\"background: #feca74; padding: 0.45em 0.6em; margin: 0 0.25em; line-height: 1; border-radius: 0.35em;\">\n",
       "    France\n",
       "    <span style=\"font-size: 0.8em; font-weight: bold; line-height: 1; border-radius: 0.35em; vertical-align: middle; margin-left: 0.5rem\">GPE</span>\n",
       "</mark>\n",
       ", from \n",
       "<mark class=\"entity\" style=\"background: #bfe1d9; padding: 0.45em 0.6em; margin: 0 0.25em; line-height: 1; border-radius: 0.35em;\">\n",
       "    1979 to 1980\n",
       "    <span style=\"font-size: 0.8em; font-weight: bold; line-height: 1; border-radius: 0.35em; vertical-align: middle; margin-left: 0.5rem\">DATE</span>\n",
       "</mark>\n",
       ", and was awarded a \n",
       "<mark class=\"entity\" style=\"background: #c887fb; padding: 0.45em 0.6em; margin: 0 0.25em; line-height: 1; border-radius: 0.35em;\">\n",
       "    Humboldt\n",
       "    <span style=\"font-size: 0.8em; font-weight: bold; line-height: 1; border-radius: 0.35em; vertical-align: middle; margin-left: 0.5rem\">NORP</span>\n",
       "</mark>\n",
       " Prize to study in \n",
       "<mark class=\"entity\" style=\"background: #feca74; padding: 0.45em 0.6em; margin: 0 0.25em; line-height: 1; border-radius: 0.35em;\">\n",
       "    Heidelberg\n",
       "    <span style=\"font-size: 0.8em; font-weight: bold; line-height: 1; border-radius: 0.35em; vertical-align: middle; margin-left: 0.5rem\">GPE</span>\n",
       "</mark>\n",
       " at \n",
       "<mark class=\"entity\" style=\"background: #7aecec; padding: 0.45em 0.6em; margin: 0 0.25em; line-height: 1; border-radius: 0.35em;\">\n",
       "    the Max Planck Institute for Nuclear Physics\n",
       "    <span style=\"font-size: 0.8em; font-weight: bold; line-height: 1; border-radius: 0.35em; vertical-align: middle; margin-left: 0.5rem\">ORG</span>\n",
       "</mark>\n",
       ", in \n",
       "<mark class=\"entity\" style=\"background: #feca74; padding: 0.45em 0.6em; margin: 0 0.25em; line-height: 1; border-radius: 0.35em;\">\n",
       "    West Germany\n",
       "    <span style=\"font-size: 0.8em; font-weight: bold; line-height: 1; border-radius: 0.35em; vertical-align: middle; margin-left: 0.5rem\">GPE</span>\n",
       "</mark>\n",
       ", from \n",
       "<mark class=\"entity\" style=\"background: #bfe1d9; padding: 0.45em 0.6em; margin: 0 0.25em; line-height: 1; border-radius: 0.35em;\">\n",
       "    1983\n",
       "    <span style=\"font-size: 0.8em; font-weight: bold; line-height: 1; border-radius: 0.35em; vertical-align: middle; margin-left: 0.5rem\">DATE</span>\n",
       "</mark>\n",
       " to \n",
       "<mark class=\"entity\" style=\"background: #bfe1d9; padding: 0.45em 0.6em; margin: 0 0.25em; line-height: 1; border-radius: 0.35em;\">\n",
       "    1984\n",
       "    <span style=\"font-size: 0.8em; font-weight: bold; line-height: 1; border-radius: 0.35em; vertical-align: middle; margin-left: 0.5rem\">DATE</span>\n",
       "</mark>\n",
       ". Following his retirement, \n",
       "<mark class=\"entity\" style=\"background: #aa9cfc; padding: 0.45em 0.6em; margin: 0 0.25em; line-height: 1; border-radius: 0.35em;\">\n",
       "    Michel\n",
       "    <span style=\"font-size: 0.8em; font-weight: bold; line-height: 1; border-radius: 0.35em; vertical-align: middle; margin-left: 0.5rem\">PERSON</span>\n",
       "</mark>\n",
       " spent \n",
       "<mark class=\"entity\" style=\"background: #bfe1d9; padding: 0.45em 0.6em; margin: 0 0.25em; line-height: 1; border-radius: 0.35em;\">\n",
       "    the 2001–2002 academic year\n",
       "    <span style=\"font-size: 0.8em; font-weight: bold; line-height: 1; border-radius: 0.35em; vertical-align: middle; margin-left: 0.5rem\">DATE</span>\n",
       "</mark>\n",
       " in \n",
       "<mark class=\"entity\" style=\"background: #feca74; padding: 0.45em 0.6em; margin: 0 0.25em; line-height: 1; border-radius: 0.35em;\">\n",
       "    Japan\n",
       "    <span style=\"font-size: 0.8em; font-weight: bold; line-height: 1; border-radius: 0.35em; vertical-align: middle; margin-left: 0.5rem\">GPE</span>\n",
       "</mark>\n",
       " at \n",
       "<mark class=\"entity\" style=\"background: #9cc9cc; padding: 0.45em 0.6em; margin: 0 0.25em; line-height: 1; border-radius: 0.35em;\">\n",
       "    the Solar-Terrestrial Environment Laboratory of\n",
       "    <span style=\"font-size: 0.8em; font-weight: bold; line-height: 1; border-radius: 0.35em; vertical-align: middle; margin-left: 0.5rem\">FAC</span>\n",
       "</mark>\n",
       " \n",
       "<mark class=\"entity\" style=\"background: #7aecec; padding: 0.45em 0.6em; margin: 0 0.25em; line-height: 1; border-radius: 0.35em;\">\n",
       "    the University of Nagoya\n",
       "    <span style=\"font-size: 0.8em; font-weight: bold; line-height: 1; border-radius: 0.35em; vertical-align: middle; margin-left: 0.5rem\">ORG</span>\n",
       "</mark>\n",
       " as a visiting professor. \n",
       "<mark class=\"entity\" style=\"background: #aa9cfc; padding: 0.45em 0.6em; margin: 0 0.25em; line-height: 1; border-radius: 0.35em;\">\n",
       "    Research Michel's\n",
       "    <span style=\"font-size: 0.8em; font-weight: bold; line-height: 1; border-radius: 0.35em; vertical-align: middle; margin-left: 0.5rem\">PERSON</span>\n",
       "</mark>\n",
       " research spanned many disciplines. In \n",
       "<mark class=\"entity\" style=\"background: #bfe1d9; padding: 0.45em 0.6em; margin: 0 0.25em; line-height: 1; border-radius: 0.35em;\">\n",
       "    1964\n",
       "    <span style=\"font-size: 0.8em; font-weight: bold; line-height: 1; border-radius: 0.35em; vertical-align: middle; margin-left: 0.5rem\">DATE</span>\n",
       "</mark>\n",
       ", he predicted the existence of spin &quot;optical rotation&quot; due to parity nonconserving weak interactions. This phenomenon was experimentally confirmed in \n",
       "<mark class=\"entity\" style=\"background: #bfe1d9; padding: 0.45em 0.6em; margin: 0 0.25em; line-height: 1; border-radius: 0.35em;\">\n",
       "    1980\n",
       "    <span style=\"font-size: 0.8em; font-weight: bold; line-height: 1; border-radius: 0.35em; vertical-align: middle; margin-left: 0.5rem\">DATE</span>\n",
       "</mark>\n",
       " and is used to study parity nonconserving weak interactions between neutrons and nuclei. \n",
       "<mark class=\"entity\" style=\"background: #aa9cfc; padding: 0.45em 0.6em; margin: 0 0.25em; line-height: 1; border-radius: 0.35em;\">\n",
       "    Michel\n",
       "    <span style=\"font-size: 0.8em; font-weight: bold; line-height: 1; border-radius: 0.35em; vertical-align: middle; margin-left: 0.5rem\">PERSON</span>\n",
       "</mark>\n",
       " is best known for his work on pulsars and neutron star magnetospheres but his work also included solar wind interactions with the \n",
       "<mark class=\"entity\" style=\"background: #aa9cfc; padding: 0.45em 0.6em; margin: 0 0.25em; line-height: 1; border-radius: 0.35em;\">\n",
       "    Moon\n",
       "    <span style=\"font-size: 0.8em; font-weight: bold; line-height: 1; border-radius: 0.35em; vertical-align: middle; margin-left: 0.5rem\">PERSON</span>\n",
       "</mark>\n",
       " and other bodies, extending to the heliopause. In \n",
       "<mark class=\"entity\" style=\"background: #bfe1d9; padding: 0.45em 0.6em; margin: 0 0.25em; line-height: 1; border-radius: 0.35em;\">\n",
       "    2000\n",
       "    <span style=\"font-size: 0.8em; font-weight: bold; line-height: 1; border-radius: 0.35em; vertical-align: middle; margin-left: 0.5rem\">DATE</span>\n",
       "</mark>\n",
       ", \n",
       "<mark class=\"entity\" style=\"background: #aa9cfc; padding: 0.45em 0.6em; margin: 0 0.25em; line-height: 1; border-radius: 0.35em;\">\n",
       "    Michel\n",
       "    <span style=\"font-size: 0.8em; font-weight: bold; line-height: 1; border-radius: 0.35em; vertical-align: middle; margin-left: 0.5rem\">PERSON</span>\n",
       "</mark>\n",
       " officially retired from \n",
       "<mark class=\"entity\" style=\"background: #aa9cfc; padding: 0.45em 0.6em; margin: 0 0.25em; line-height: 1; border-radius: 0.35em;\">\n",
       "    Rice\n",
       "    <span style=\"font-size: 0.8em; font-weight: bold; line-height: 1; border-radius: 0.35em; vertical-align: middle; margin-left: 0.5rem\">PERSON</span>\n",
       "</mark>\n",
       " but he continued to be active in research until his death in \n",
       "<mark class=\"entity\" style=\"background: #bfe1d9; padding: 0.45em 0.6em; margin: 0 0.25em; line-height: 1; border-radius: 0.35em;\">\n",
       "    2015\n",
       "    <span style=\"font-size: 0.8em; font-weight: bold; line-height: 1; border-radius: 0.35em; vertical-align: middle; margin-left: 0.5rem\">DATE</span>\n",
       "</mark>\n",
       ". \n",
       "<mark class=\"entity\" style=\"background: #aa9cfc; padding: 0.45em 0.6em; margin: 0 0.25em; line-height: 1; border-radius: 0.35em;\">\n",
       "    Books Michel\n",
       "    <span style=\"font-size: 0.8em; font-weight: bold; line-height: 1; border-radius: 0.35em; vertical-align: middle; margin-left: 0.5rem\">PERSON</span>\n",
       "</mark>\n",
       " is the author of the book \n",
       "<mark class=\"entity\" style=\"background: #f0d0ff; padding: 0.45em 0.6em; margin: 0 0.25em; line-height: 1; border-radius: 0.35em;\">\n",
       "    Theory of Neutron Star Magnetospheres\n",
       "    <span style=\"font-size: 0.8em; font-weight: bold; line-height: 1; border-radius: 0.35em; vertical-align: middle; margin-left: 0.5rem\">WORK_OF_ART</span>\n",
       "</mark>\n",
       ", \n",
       "<mark class=\"entity\" style=\"background: #7aecec; padding: 0.45em 0.6em; margin: 0 0.25em; line-height: 1; border-radius: 0.35em;\">\n",
       "    University of Chicago Press\n",
       "    <span style=\"font-size: 0.8em; font-weight: bold; line-height: 1; border-radius: 0.35em; vertical-align: middle; margin-left: 0.5rem\">ORG</span>\n",
       "</mark>\n",
       ", \n",
       "<mark class=\"entity\" style=\"background: #bfe1d9; padding: 0.45em 0.6em; margin: 0 0.25em; line-height: 1; border-radius: 0.35em;\">\n",
       "    1990\n",
       "    <span style=\"font-size: 0.8em; font-weight: bold; line-height: 1; border-radius: 0.35em; vertical-align: middle; margin-left: 0.5rem\">DATE</span>\n",
       "</mark>\n",
       " ISBN 9780226523316. \n",
       "<mark class=\"entity\" style=\"background: #aa9cfc; padding: 0.45em 0.6em; margin: 0 0.25em; line-height: 1; border-radius: 0.35em;\">\n",
       "    Michel\n",
       "    <span style=\"font-size: 0.8em; font-weight: bold; line-height: 1; border-radius: 0.35em; vertical-align: middle; margin-left: 0.5rem\">PERSON</span>\n",
       "</mark>\n",
       " is the author of the book \n",
       "<mark class=\"entity\" style=\"background: #f0d0ff; padding: 0.45em 0.6em; margin: 0 0.25em; line-height: 1; border-radius: 0.35em;\">\n",
       "    Handbook of High-Energy Astrophysics Experiments\n",
       "    <span style=\"font-size: 0.8em; font-weight: bold; line-height: 1; border-radius: 0.35em; vertical-align: middle; margin-left: 0.5rem\">WORK_OF_ART</span>\n",
       "</mark>\n",
       ", \n",
       "<mark class=\"entity\" style=\"background: #aa9cfc; padding: 0.45em 0.6em; margin: 0 0.25em; line-height: 1; border-radius: 0.35em;\">\n",
       "    Springer Verlag\n",
       "    <span style=\"font-size: 0.8em; font-weight: bold; line-height: 1; border-radius: 0.35em; vertical-align: middle; margin-left: 0.5rem\">PERSON</span>\n",
       "</mark>\n",
       ", \n",
       "<mark class=\"entity\" style=\"background: #bfe1d9; padding: 0.45em 0.6em; margin: 0 0.25em; line-height: 1; border-radius: 0.35em;\">\n",
       "    2015\n",
       "    <span style=\"font-size: 0.8em; font-weight: bold; line-height: 1; border-radius: 0.35em; vertical-align: middle; margin-left: 0.5rem\">DATE</span>\n",
       "</mark>\n",
       " ISBN 9781441965288 . \n",
       "<mark class=\"entity\" style=\"background: #aa9cfc; padding: 0.45em 0.6em; margin: 0 0.25em; line-height: 1; border-radius: 0.35em;\">\n",
       "    Michel\n",
       "    <span style=\"font-size: 0.8em; font-weight: bold; line-height: 1; border-radius: 0.35em; vertical-align: middle; margin-left: 0.5rem\">PERSON</span>\n",
       "</mark>\n",
       " was a contributor to the book \n",
       "<mark class=\"entity\" style=\"background: #7aecec; padding: 0.45em 0.6em; margin: 0 0.25em; line-height: 1; border-radius: 0.35em;\">\n",
       "    NASA\n",
       "    <span style=\"font-size: 0.8em; font-weight: bold; line-height: 1; border-radius: 0.35em; vertical-align: middle; margin-left: 0.5rem\">ORG</span>\n",
       "</mark>\n",
       "'s \n",
       "<mark class=\"entity\" style=\"background: #7aecec; padding: 0.45em 0.6em; margin: 0 0.25em; line-height: 1; border-radius: 0.35em;\">\n",
       "    Scientist-Astronauts\n",
       "    <span style=\"font-size: 0.8em; font-weight: bold; line-height: 1; border-radius: 0.35em; vertical-align: middle; margin-left: 0.5rem\">ORG</span>\n",
       "</mark>\n",
       " by \n",
       "<mark class=\"entity\" style=\"background: #aa9cfc; padding: 0.45em 0.6em; margin: 0 0.25em; line-height: 1; border-radius: 0.35em;\">\n",
       "    David Shayler\n",
       "    <span style=\"font-size: 0.8em; font-weight: bold; line-height: 1; border-radius: 0.35em; vertical-align: middle; margin-left: 0.5rem\">PERSON</span>\n",
       "</mark>\n",
       " and \n",
       "<mark class=\"entity\" style=\"background: #aa9cfc; padding: 0.45em 0.6em; margin: 0 0.25em; line-height: 1; border-radius: 0.35em;\">\n",
       "    Colin Burgess\n",
       "    <span style=\"font-size: 0.8em; font-weight: bold; line-height: 1; border-radius: 0.35em; vertical-align: middle; margin-left: 0.5rem\">PERSON</span>\n",
       "</mark>\n",
       ", \n",
       "<mark class=\"entity\" style=\"background: #aa9cfc; padding: 0.45em 0.6em; margin: 0 0.25em; line-height: 1; border-radius: 0.35em;\">\n",
       "    Springer Praxis\n",
       "    <span style=\"font-size: 0.8em; font-weight: bold; line-height: 1; border-radius: 0.35em; vertical-align: middle; margin-left: 0.5rem\">PERSON</span>\n",
       "</mark>\n",
       ", \n",
       "<mark class=\"entity\" style=\"background: #bfe1d9; padding: 0.45em 0.6em; margin: 0 0.25em; line-height: 1; border-radius: 0.35em;\">\n",
       "    2007\n",
       "    <span style=\"font-size: 0.8em; font-weight: bold; line-height: 1; border-radius: 0.35em; vertical-align: middle; margin-left: 0.5rem\">DATE</span>\n",
       "</mark>\n",
       " ISBN 9780387218977 See also \n",
       "<mark class=\"entity\" style=\"background: #7aecec; padding: 0.45em 0.6em; margin: 0 0.25em; line-height: 1; border-radius: 0.35em;\">\n",
       "    The Astronaut Monument References\n",
       "    <span style=\"font-size: 0.8em; font-weight: bold; line-height: 1; border-radius: 0.35em; vertical-align: middle; margin-left: 0.5rem\">ORG</span>\n",
       "</mark>\n",
       " </div></span>"
      ],
      "text/plain": [
       "<IPython.core.display.HTML object>"
      ]
     },
     "metadata": {},
     "output_type": "display_data"
    }
   ],
   "source": [
    "from spacy import displacy\n",
    "\n",
    "#we can dispay the entities to see them more clearly. To show an example we display the entities of one text\n",
    "\n",
    "displacy.render(nlp(astronauts[\"Text\"].iloc[12]), style='ent', jupyter=True) "
   ]
  },
  {
   "cell_type": "code",
   "execution_count": 33,
   "metadata": {
    "id": "TbXLb1RGewgq"
   },
   "outputs": [],
   "source": [
    "#We make a list of the total entities. Entities_as and entities_wr are arrays of Pandas Series of arrays, \n",
    "# so we'll use numpy.concatenate to flatten it to a 1-dimensional array.\n",
    "\n",
    "list_entities_as = np.concatenate(list(entities_as))\n",
    "list_entities_wr = np.concatenate(list(entities_wr))"
   ]
  },
  {
   "cell_type": "markdown",
   "metadata": {},
   "source": [
    "Dataframe with all named entities found in `Astronauts` texts:"
   ]
  },
  {
   "cell_type": "code",
   "execution_count": 34,
   "metadata": {},
   "outputs": [],
   "source": [
    "entities_as_df = pd.DataFrame(columns=['Entity', 'Count', 'Category'])\n",
    "entities_as_df.Entity = np.unique(list_entities_as, return_counts=True)[0]\n",
    "entities_as_df.Count = np.unique(list_entities_as, return_counts=True)[1]\n",
    "entities_as_df.Category = 'Astronauts'\n",
    "\n",
    "entities_as_df = entities_as_df.sort_values(by='Count', ascending=False)"
   ]
  },
  {
   "cell_type": "markdown",
   "metadata": {},
   "source": [
    "Dataframe with all named entities found in `Writers` texts:"
   ]
  },
  {
   "cell_type": "code",
   "execution_count": 35,
   "metadata": {},
   "outputs": [],
   "source": [
    "entities_wr_df = pd.DataFrame(columns=['Entity', 'Count', 'Category'])\n",
    "entities_wr_df.Entity = np.unique(list_entities_wr, return_counts=True)[0]\n",
    "entities_wr_df.Count = np.unique(list_entities_wr, return_counts=True)[1]\n",
    "entities_wr_df.Category = 'Writers'\n",
    "\n",
    "entities_wr_df = entities_wr_df.sort_values(by='Count', ascending=False)"
   ]
  },
  {
   "cell_type": "markdown",
   "metadata": {},
   "source": [
    "Combine the entity DataFrames into one:"
   ]
  },
  {
   "cell_type": "code",
   "execution_count": 36,
   "metadata": {},
   "outputs": [],
   "source": [
    "entities_df = pd.concat([entities_as_df, entities_wr_df])"
   ]
  },
  {
   "cell_type": "code",
   "execution_count": 37,
   "metadata": {},
   "outputs": [
    {
     "data": {
      "text/plain": [
       "<AxesSubplot:xlabel='Entity', ylabel='Count'>"
      ]
     },
     "execution_count": 37,
     "metadata": {},
     "output_type": "execute_result"
    },
    {
     "data": {
      "image/png": "[encoded data removed]",
      "text/plain": [
       "<Figure size 1440x432 with 1 Axes>"
      ]
     },
     "metadata": {
      "needs_background": "light"
     },
     "output_type": "display_data"
    }
   ],
   "source": [
    "plt.figure(figsize=(20, 6))\n",
    "\n",
    "sns.barplot(data=entities_df, x='Entity', y='Count', hue='Category')"
   ]
  },
  {
   "cell_type": "markdown",
   "metadata": {},
   "source": [
    "## T-test"
   ]
  },
  {
   "cell_type": "markdown",
   "metadata": {},
   "source": [
    "Even though as we have seen above, on average there are fewer tokens for `Writers` articles, we can notice that `WORK_OF_ART` and `LANGUAGE` named entities are more frequently for `Writers` than for `Astronauts`."
   ]
  },
  {
   "cell_type": "markdown",
   "metadata": {},
   "source": [
    "We can make a hypothesis that `WORK_OF_ART` and `LANGUAGE` are more frequent in Writers articles than in Astronauts.\n",
    "\n",
    "$H_{0}$: Average number of `WORK_OF_ART` named entities per article is the same for `Writers` and `Astronauts`.\n",
    "\n",
    "$H_{1}$: Average number of `WORK_OF_ART` named enitites per article is different for `Writers` and `Astronauts`.\n",
    "\n",
    "Let's set p-value to be < 0.05. \n",
    "\n",
    "Our sample has 200 Writers aritcles and 200 Astronaut articles, since we don't have any information about who have written them, we will consider these samples to be independent and use **scipy.stats.ttest_ind**."
   ]
  },
  {
   "cell_type": "code",
   "execution_count": 38,
   "metadata": {},
   "outputs": [],
   "source": [
    "# Count the number of occurences of WORK_OF_ART per article for Writers and Astronauts\n",
    "wr_wa_count = entities_wr.apply(lambda x: x.count('WORK_OF_ART'))\n",
    "\n",
    "as_wa_count = entities_as.apply(lambda x: x.count('WORK_OF_ART'))"
   ]
  },
  {
   "cell_type": "code",
   "execution_count": 39,
   "metadata": {},
   "outputs": [
    {
     "data": {
      "text/plain": [
       "Ttest_indResult(statistic=2.869886482322327, pvalue=0.0043252319651822125)"
      ]
     },
     "execution_count": 39,
     "metadata": {},
     "output_type": "execute_result"
    }
   ],
   "source": [
    "ttest_ind(wr_wa_count, as_wa_count)"
   ]
  },
  {
   "cell_type": "markdown",
   "metadata": {},
   "source": [
    "The p-value is below the threshold we set, therefore, we can reject the null hypothesis and accept the $H_{1}$.\n",
    "\n",
    "Since the statistic value is positive, we can accept hypothesis that on average count of `WORK_OF_ART` named entities per article is higher for `Writers` articles than for `Astronauts`."
   ]
  },
  {
   "cell_type": "markdown",
   "metadata": {},
   "source": [
    "We can repeat the test for `LANGUAGE`.\n",
    "\n",
    "$H_{0}$: Average number of `LANGUAGE` named entities per article is the same for `Writers` and `Astronauts`.\n",
    "\n",
    "$H_{1}$: Average number of `LANGUAGE` named enitites per article is different for `Writers` and `Astronauts`.\n"
   ]
  },
  {
   "cell_type": "code",
   "execution_count": 40,
   "metadata": {},
   "outputs": [
    {
     "data": {
      "text/plain": [
       "Ttest_indResult(statistic=2.853940459850125, pvalue=0.004543719493576716)"
      ]
     },
     "execution_count": 40,
     "metadata": {},
     "output_type": "execute_result"
    }
   ],
   "source": [
    "# Count the number of occurences of LANGUAGE per article for Writers and Astronauts\n",
    "wr_lang_count = entities_wr.apply(lambda x: x.count('LANGUAGE'))\n",
    "\n",
    "as_lang_count = entities_as.apply(lambda x: x.count('LANGUAGE'))\n",
    "\n",
    "ttest_ind(wr_lang_count, as_lang_count)"
   ]
  },
  {
   "cell_type": "markdown",
   "metadata": {},
   "source": [
    "Once again we can reject the null hypothesis and accept the hypothesis that average number of `LANGUAGE` named entities is higher for `Writers` articles."
   ]
  },
  {
   "cell_type": "markdown",
   "metadata": {},
   "source": [
    "# Word frequency"
   ]
  },
  {
   "cell_type": "code",
   "execution_count": 41,
   "metadata": {},
   "outputs": [],
   "source": [
    "# Combine the already tokenized data\n",
    "df_tokenized = pd.concat([astronauts, writers])"
   ]
  },
  {
   "cell_type": "code",
   "execution_count": 42,
   "metadata": {},
   "outputs": [
    {
     "data": {
      "text/html": [
       "<div>\n",
       "<style scoped>\n",
       "    .dataframe tbody tr th:only-of-type {\n",
       "        vertical-align: middle;\n",
       "    }\n",
       "\n",
       "    .dataframe tbody tr th {\n",
       "        vertical-align: top;\n",
       "    }\n",
       "\n",
       "    .dataframe thead th {\n",
       "        text-align: right;\n",
       "    }\n",
       "</style>\n",
       "<table border=\"1\" class=\"dataframe\">\n",
       "  <thead>\n",
       "    <tr style=\"text-align: right;\">\n",
       "      <th></th>\n",
       "      <th>Person</th>\n",
       "      <th>Subcategory</th>\n",
       "      <th>Category</th>\n",
       "      <th>Text</th>\n",
       "      <th>Sentences</th>\n",
       "      <th>Num_sentences</th>\n",
       "      <th>tokenized_sentences</th>\n",
       "    </tr>\n",
       "  </thead>\n",
       "  <tbody>\n",
       "    <tr>\n",
       "      <th>104</th>\n",
       "      <td>Jeanette Epps</td>\n",
       "      <td>American astronauts</td>\n",
       "      <td>Astronauts</td>\n",
       "      <td>Jeanette Jo Epps (born November 3, 1970) is an...</td>\n",
       "      <td>[Jeanette Jo Epps (born November 3, 1970) is a...</td>\n",
       "      <td>41</td>\n",
       "      <td>[[jeanette, jo, epps, born, november, 3, 1970,...</td>\n",
       "    </tr>\n",
       "    <tr>\n",
       "      <th>288</th>\n",
       "      <td>Sergey Avdeev</td>\n",
       "      <td>Russian cosmonauts</td>\n",
       "      <td>Astronauts</td>\n",
       "      <td>Sergei Vasilyevich Avdeyev (Сергей Васильевич ...</td>\n",
       "      <td>[Sergei Vasilyevich Avdeyev (Сергей Васильевич...</td>\n",
       "      <td>28</td>\n",
       "      <td>[[sergei, vasilyevich, avdeyev, сергей, василь...</td>\n",
       "    </tr>\n",
       "    <tr>\n",
       "      <th>198</th>\n",
       "      <td>Matthias Maurer</td>\n",
       "      <td>German astronauts</td>\n",
       "      <td>Astronauts</td>\n",
       "      <td>Matthias Josef Maurer (born 18 March 1970) is ...</td>\n",
       "      <td>[Matthias Josef Maurer (born 18 March 1970) is...</td>\n",
       "      <td>31</td>\n",
       "      <td>[[matthias, josef, maurer, born, 18, march, 19...</td>\n",
       "    </tr>\n",
       "    <tr>\n",
       "      <th>365</th>\n",
       "      <td>Andriyan Nikolayev</td>\n",
       "      <td>Soviet cosmonauts</td>\n",
       "      <td>Astronauts</td>\n",
       "      <td>Andriyan Grigoryevich Nikolayev (Chuvash and R...</td>\n",
       "      <td>[Andriyan Grigoryevich Nikolayev (Chuvash and ...</td>\n",
       "      <td>52</td>\n",
       "      <td>[[andriyan, grigoryevich, nikolayev, chuvash, ...</td>\n",
       "    </tr>\n",
       "    <tr>\n",
       "      <th>412</th>\n",
       "      <td>Gennady Manakov</td>\n",
       "      <td>Soviet cosmonauts</td>\n",
       "      <td>Astronauts</td>\n",
       "      <td>Gennady Mikhailovich Manakov (Russian: Геннади...</td>\n",
       "      <td>[Gennady Mikhailovich Manakov (Russian: Геннад...</td>\n",
       "      <td>7</td>\n",
       "      <td>[[gennady, mikhailovich, manakov, russian, ген...</td>\n",
       "    </tr>\n",
       "  </tbody>\n",
       "</table>\n",
       "</div>"
      ],
      "text/plain": [
       "                 Person          Subcategory    Category  \\\n",
       "104       Jeanette Epps  American astronauts  Astronauts   \n",
       "288       Sergey Avdeev   Russian cosmonauts  Astronauts   \n",
       "198     Matthias Maurer    German astronauts  Astronauts   \n",
       "365  Andriyan Nikolayev    Soviet cosmonauts  Astronauts   \n",
       "412     Gennady Manakov    Soviet cosmonauts  Astronauts   \n",
       "\n",
       "                                                  Text  \\\n",
       "104  Jeanette Jo Epps (born November 3, 1970) is an...   \n",
       "288  Sergei Vasilyevich Avdeyev (Сергей Васильевич ...   \n",
       "198  Matthias Josef Maurer (born 18 March 1970) is ...   \n",
       "365  Andriyan Grigoryevich Nikolayev (Chuvash and R...   \n",
       "412  Gennady Mikhailovich Manakov (Russian: Геннади...   \n",
       "\n",
       "                                             Sentences  Num_sentences  \\\n",
       "104  [Jeanette Jo Epps (born November 3, 1970) is a...             41   \n",
       "288  [Sergei Vasilyevich Avdeyev (Сергей Васильевич...             28   \n",
       "198  [Matthias Josef Maurer (born 18 March 1970) is...             31   \n",
       "365  [Andriyan Grigoryevich Nikolayev (Chuvash and ...             52   \n",
       "412  [Gennady Mikhailovich Manakov (Russian: Геннад...              7   \n",
       "\n",
       "                                   tokenized_sentences  \n",
       "104  [[jeanette, jo, epps, born, november, 3, 1970,...  \n",
       "288  [[sergei, vasilyevich, avdeyev, сергей, василь...  \n",
       "198  [[matthias, josef, maurer, born, 18, march, 19...  \n",
       "365  [[andriyan, grigoryevich, nikolayev, chuvash, ...  \n",
       "412  [[gennady, mikhailovich, manakov, russian, ген...  "
      ]
     },
     "execution_count": 42,
     "metadata": {},
     "output_type": "execute_result"
    }
   ],
   "source": [
    "df_tokenized.head()"
   ]
  },
  {
   "cell_type": "code",
   "execution_count": 43,
   "metadata": {},
   "outputs": [
    {
     "data": {
      "text/plain": [
       "(2, 115)"
      ]
     },
     "execution_count": 43,
     "metadata": {},
     "output_type": "execute_result"
    }
   ],
   "source": [
    "# Get the unique categories and subcategories of data\n",
    "\n",
    "cat = df_tokenized.Category.unique()\n",
    "sub_cat = df.Subcategory.unique()\n",
    "len(cat), len(sub_cat)"
   ]
  },
  {
   "cell_type": "code",
   "execution_count": 44,
   "metadata": {},
   "outputs": [
    {
     "data": {
      "text/plain": [
       "2"
      ]
     },
     "execution_count": 44,
     "metadata": {},
     "output_type": "execute_result"
    }
   ],
   "source": [
    "# We join all texts by categories\n",
    "cat_txt = {}\n",
    "for c in cat:\n",
    "    cat_txt[c] = df[df['Category']==c].Text.str.cat(sep=' ').lower()\n",
    "\n",
    "len(cat_txt)"
   ]
  },
  {
   "cell_type": "code",
   "execution_count": 45,
   "metadata": {},
   "outputs": [
    {
     "name": "stderr",
     "output_type": "stream",
     "text": [
      "<__array_function__ internals>:180: VisibleDeprecationWarning: Creating an ndarray from ragged nested sequences (which is a list-or-tuple of lists-or-tuples-or ndarrays with different lengths or shapes) is deprecated. If you meant to do this, you must specify 'dtype=object' when creating the ndarray.\n"
     ]
    },
    {
     "data": {
      "text/plain": [
       "2"
      ]
     },
     "execution_count": 45,
     "metadata": {},
     "output_type": "execute_result"
    }
   ],
   "source": [
    "# We join all tokens by categories\n",
    "cat_token = {}\n",
    "for c in cat:\n",
    "    # Flattens the data of list of lists in 1-d array\n",
    "    cat_token[c] = np.concatenate(\n",
    "        np.concatenate(list(df_tokenized[df_tokenized.Category == c].tokenized_sentences))\n",
    "    )\n",
    "len(cat_token)"
   ]
  },
  {
   "cell_type": "code",
   "execution_count": 46,
   "metadata": {},
   "outputs": [
    {
     "data": {
      "text/plain": [
       "115"
      ]
     },
     "execution_count": 46,
     "metadata": {},
     "output_type": "execute_result"
    }
   ],
   "source": [
    "# We join all tokens by subcategories\n",
    "sub_cat_token = {}\n",
    "for c in sub_cat:\n",
    "    # Flattens the data of list of lists in 1-d array\n",
    "    # Extract tokens from df_tokenized for the needed subcategory\n",
    "    sub_cat_token[c] = np.concatenate(\n",
    "        np.concatenate(list(df_tokenized[df_tokenized.Subcategory == c].tokenized_sentences))\n",
    "    )\n",
    "len(sub_cat_token)"
   ]
  },
  {
   "cell_type": "markdown",
   "metadata": {},
   "source": [
    "## 50 most frequents words"
   ]
  },
  {
   "cell_type": "code",
   "execution_count": 47,
   "metadata": {},
   "outputs": [
    {
     "data": {
      "text/html": [
       "<div>\n",
       "<style scoped>\n",
       "    .dataframe tbody tr th:only-of-type {\n",
       "        vertical-align: middle;\n",
       "    }\n",
       "\n",
       "    .dataframe tbody tr th {\n",
       "        vertical-align: top;\n",
       "    }\n",
       "\n",
       "    .dataframe thead th {\n",
       "        text-align: right;\n",
       "    }\n",
       "</style>\n",
       "<table border=\"1\" class=\"dataframe\">\n",
       "  <thead>\n",
       "    <tr style=\"text-align: right;\">\n",
       "      <th></th>\n",
       "      <th>Word</th>\n",
       "      <th>Count</th>\n",
       "      <th>Category</th>\n",
       "    </tr>\n",
       "  </thead>\n",
       "  <tbody>\n",
       "    <tr>\n",
       "      <th>0</th>\n",
       "      <td>space</td>\n",
       "      <td>2382</td>\n",
       "      <td>Astronauts</td>\n",
       "    </tr>\n",
       "    <tr>\n",
       "      <th>1</th>\n",
       "      <td>mission</td>\n",
       "      <td>845</td>\n",
       "      <td>Astronauts</td>\n",
       "    </tr>\n",
       "    <tr>\n",
       "      <th>2</th>\n",
       "      <td>flight</td>\n",
       "      <td>744</td>\n",
       "      <td>Astronauts</td>\n",
       "    </tr>\n",
       "    <tr>\n",
       "      <th>3</th>\n",
       "      <td>nasa</td>\n",
       "      <td>739</td>\n",
       "      <td>Astronauts</td>\n",
       "    </tr>\n",
       "    <tr>\n",
       "      <th>4</th>\n",
       "      <td>astronaut</td>\n",
       "      <td>720</td>\n",
       "      <td>Astronauts</td>\n",
       "    </tr>\n",
       "    <tr>\n",
       "      <th>...</th>\n",
       "      <td>...</td>\n",
       "      <td>...</td>\n",
       "      <td>...</td>\n",
       "    </tr>\n",
       "    <tr>\n",
       "      <th>95</th>\n",
       "      <td>language</td>\n",
       "      <td>105</td>\n",
       "      <td>Writers</td>\n",
       "    </tr>\n",
       "    <tr>\n",
       "      <th>96</th>\n",
       "      <td>history</td>\n",
       "      <td>103</td>\n",
       "      <td>Writers</td>\n",
       "    </tr>\n",
       "    <tr>\n",
       "      <th>97</th>\n",
       "      <td>college</td>\n",
       "      <td>99</td>\n",
       "      <td>Writers</td>\n",
       "    </tr>\n",
       "    <tr>\n",
       "      <th>98</th>\n",
       "      <td>2011</td>\n",
       "      <td>97</td>\n",
       "      <td>Writers</td>\n",
       "    </tr>\n",
       "    <tr>\n",
       "      <th>99</th>\n",
       "      <td>education</td>\n",
       "      <td>97</td>\n",
       "      <td>Writers</td>\n",
       "    </tr>\n",
       "  </tbody>\n",
       "</table>\n",
       "<p>100 rows × 3 columns</p>\n",
       "</div>"
      ],
      "text/plain": [
       "         Word  Count    Category\n",
       "0       space   2382  Astronauts\n",
       "1     mission    845  Astronauts\n",
       "2      flight    744  Astronauts\n",
       "3        nasa    739  Astronauts\n",
       "4   astronaut    720  Astronauts\n",
       "..        ...    ...         ...\n",
       "95   language    105     Writers\n",
       "96    history    103     Writers\n",
       "97    college     99     Writers\n",
       "98       2011     97     Writers\n",
       "99  education     97     Writers\n",
       "\n",
       "[100 rows x 3 columns]"
      ]
     },
     "execution_count": 47,
     "metadata": {},
     "output_type": "execute_result"
    }
   ],
   "source": [
    "# we find the 50 most frequents words by categories \n",
    "cat_freq_list = []\n",
    "\n",
    "for cat, v in cat_token.items(): # for each category\n",
    "    freq_list = list(zip(\n",
    "                            np.unique(v, return_counts=True)[0],\n",
    "                            np.unique(v, return_counts=True)[1])\n",
    "        ) # Get the words and counts in the following format [(word1, 1), (word2, 1)... ]\n",
    "    \n",
    "\n",
    "    # Sort by number of occurences and take the 50 first words\n",
    "    freq_50 =  sorted(freq_list, key=lambda x: x[1], reverse=True)[:50] \n",
    "    \n",
    "    for w, c in freq_50:\n",
    "        cat_freq_list.append(\n",
    "            {\n",
    "                'Word': w,\n",
    "                'Count': c,\n",
    "                'Category': cat\n",
    "            }\n",
    "        )\n",
    "    \n",
    "\n",
    "cat_freq_df = pd.DataFrame(cat_freq_list)\n",
    "cat_freq_df"
   ]
  },
  {
   "cell_type": "code",
   "execution_count": 48,
   "metadata": {},
   "outputs": [],
   "source": [
    "cat_freq_df.to_csv('FrequentWords/top50_freq_word_by_cat.csv')"
   ]
  },
  {
   "cell_type": "code",
   "execution_count": 49,
   "metadata": {},
   "outputs": [
    {
     "data": {
      "text/html": [
       "<div>\n",
       "<style scoped>\n",
       "    .dataframe tbody tr th:only-of-type {\n",
       "        vertical-align: middle;\n",
       "    }\n",
       "\n",
       "    .dataframe tbody tr th {\n",
       "        vertical-align: top;\n",
       "    }\n",
       "\n",
       "    .dataframe thead th {\n",
       "        text-align: right;\n",
       "    }\n",
       "</style>\n",
       "<table border=\"1\" class=\"dataframe\">\n",
       "  <thead>\n",
       "    <tr style=\"text-align: right;\">\n",
       "      <th></th>\n",
       "      <th>Word</th>\n",
       "      <th>Count</th>\n",
       "      <th>Subcategory</th>\n",
       "    </tr>\n",
       "  </thead>\n",
       "  <tbody>\n",
       "    <tr>\n",
       "      <th>0</th>\n",
       "      <td>space</td>\n",
       "      <td>794</td>\n",
       "      <td>American astronauts</td>\n",
       "    </tr>\n",
       "    <tr>\n",
       "      <th>1</th>\n",
       "      <td>nasa</td>\n",
       "      <td>492</td>\n",
       "      <td>American astronauts</td>\n",
       "    </tr>\n",
       "    <tr>\n",
       "      <th>2</th>\n",
       "      <td>mission</td>\n",
       "      <td>352</td>\n",
       "      <td>American astronauts</td>\n",
       "    </tr>\n",
       "    <tr>\n",
       "      <th>3</th>\n",
       "      <td>astronaut</td>\n",
       "      <td>345</td>\n",
       "      <td>American astronauts</td>\n",
       "    </tr>\n",
       "    <tr>\n",
       "      <th>4</th>\n",
       "      <td>flight</td>\n",
       "      <td>273</td>\n",
       "      <td>American astronauts</td>\n",
       "    </tr>\n",
       "    <tr>\n",
       "      <th>...</th>\n",
       "      <td>...</td>\n",
       "      <td>...</td>\n",
       "      <td>...</td>\n",
       "    </tr>\n",
       "    <tr>\n",
       "      <th>5661</th>\n",
       "      <td>series</td>\n",
       "      <td>2</td>\n",
       "      <td>Malaysian writers</td>\n",
       "    </tr>\n",
       "    <tr>\n",
       "      <th>5662</th>\n",
       "      <td>shakespeare</td>\n",
       "      <td>2</td>\n",
       "      <td>Malaysian writers</td>\n",
       "    </tr>\n",
       "    <tr>\n",
       "      <th>5663</th>\n",
       "      <td>skills</td>\n",
       "      <td>2</td>\n",
       "      <td>Malaysian writers</td>\n",
       "    </tr>\n",
       "    <tr>\n",
       "      <th>5664</th>\n",
       "      <td>spelling</td>\n",
       "      <td>2</td>\n",
       "      <td>Malaysian writers</td>\n",
       "    </tr>\n",
       "    <tr>\n",
       "      <th>5665</th>\n",
       "      <td>sri</td>\n",
       "      <td>2</td>\n",
       "      <td>Malaysian writers</td>\n",
       "    </tr>\n",
       "  </tbody>\n",
       "</table>\n",
       "<p>5666 rows × 3 columns</p>\n",
       "</div>"
      ],
      "text/plain": [
       "             Word  Count          Subcategory\n",
       "0           space    794  American astronauts\n",
       "1            nasa    492  American astronauts\n",
       "2         mission    352  American astronauts\n",
       "3       astronaut    345  American astronauts\n",
       "4          flight    273  American astronauts\n",
       "...           ...    ...                  ...\n",
       "5661       series      2    Malaysian writers\n",
       "5662  shakespeare      2    Malaysian writers\n",
       "5663       skills      2    Malaysian writers\n",
       "5664     spelling      2    Malaysian writers\n",
       "5665          sri      2    Malaysian writers\n",
       "\n",
       "[5666 rows x 3 columns]"
      ]
     },
     "execution_count": 49,
     "metadata": {},
     "output_type": "execute_result"
    }
   ],
   "source": [
    "subcat_freq_list = []\n",
    "\n",
    "for subcat, v in sub_cat_token.items(): # for each category\n",
    "    freq_list = list(zip(\n",
    "                            np.unique(v, return_counts=True)[0],\n",
    "                            np.unique(v, return_counts=True)[1])\n",
    "        ) # Get the words and counts in the following format [(word1, 1), (word2, 1)... ]\n",
    "    \n",
    "\n",
    "    # Sort by number of occurences and take the 50 first words\n",
    "    freq_50 =  sorted(freq_list, key=lambda x: x[1], reverse=True)[:50] \n",
    "    \n",
    "    for w, c in freq_50:\n",
    "        subcat_freq_list.append(\n",
    "            {\n",
    "                'Word': w,\n",
    "                'Count': c,\n",
    "                'Subcategory': subcat\n",
    "            }\n",
    "        )\n",
    "    \n",
    "\n",
    "subcat_freq_df = pd.DataFrame(subcat_freq_list)\n",
    "subcat_freq_df"
   ]
  },
  {
   "cell_type": "code",
   "execution_count": 50,
   "metadata": {},
   "outputs": [],
   "source": [
    "subcat_freq_df.to_csv('FrequentWords/top50_freq_word_by_subcat.csv')"
   ]
  },
  {
   "cell_type": "markdown",
   "metadata": {},
   "source": [
    "## Wordclouds\n",
    "\n",
    "This task use the library WordCloud. This library do its own preprocessing so we don't exactly find the same words. We can still see that most word are the same in both the wordclouds and our own list. They seems to have less useless words like 'also', 'from', 'with' ot 'that' whithout loosing small important words like 'ST', 'ISS' or 'one'"
   ]
  },
  {
   "cell_type": "code",
   "execution_count": 51,
   "metadata": {},
   "outputs": [
    {
     "data": {
      "image/png": "[encoded data removed]",
      "text/plain": [
       "<Figure size 432x288 with 1 Axes>"
      ]
     },
     "metadata": {
      "needs_background": "light"
     },
     "output_type": "display_data"
    },
    {
     "data": {
      "text/plain": [
       "<wordcloud.wordcloud.WordCloud at 0x7fd4514a7760>"
      ]
     },
     "execution_count": 51,
     "metadata": {},
     "output_type": "execute_result"
    }
   ],
   "source": [
    "wr_wordcloud = WordCloud(stopwords=STOPWORDS).generate(cat_txt['Writers'])\n",
    "plt.imshow(wr_wordcloud, interpolation='bilinear')\n",
    "plt.axis(\"off\")\n",
    "plt.show() # we show it\n",
    "wr_wordcloud.to_file(\"FrequentWords/Wordclouds/wc_Writers.jpg\") # and we save it"
   ]
  },
  {
   "cell_type": "code",
   "execution_count": 52,
   "metadata": {},
   "outputs": [
    {
     "data": {
      "image/png": "[encoded data removed]",
      "text/plain": [
       "<Figure size 432x288 with 1 Axes>"
      ]
     },
     "metadata": {
      "needs_background": "light"
     },
     "output_type": "display_data"
    },
    {
     "data": {
      "text/plain": [
       "<wordcloud.wordcloud.WordCloud at 0x7fd45b79ef10>"
      ]
     },
     "execution_count": 52,
     "metadata": {},
     "output_type": "execute_result"
    }
   ],
   "source": [
    "as_wordcloud = WordCloud(stopwords=STOPWORDS).generate(cat_txt['Astronauts'])\n",
    "plt.imshow(as_wordcloud, interpolation='bilinear')\n",
    "plt.axis(\"off\")\n",
    "plt.show() # we show it\n",
    "as_wordcloud.to_file(\"FrequentWords/Wordclouds/wc_Astronauts.jpg\") # and we save it"
   ]
  },
  {
   "cell_type": "markdown",
   "metadata": {},
   "source": [
    "## Compare our top 50 with top 50 from Wordcloud"
   ]
  },
  {
   "cell_type": "markdown",
   "metadata": {},
   "source": [
    "Get the top 50 words from Wordcloud for Writers:"
   ]
  },
  {
   "cell_type": "code",
   "execution_count": 53,
   "metadata": {},
   "outputs": [],
   "source": [
    "wr_wordcloud_top = [x for x, y in \n",
    "                    sorted([(w, c) for w, c in wr_wordcloud.words_.items()], key=lambda x: x[1], reverse=True)[:50]\n",
    "                   ] # Sort the wordcloud values by frequency, get top 50, leave only words and drop frequency"
   ]
  },
  {
   "cell_type": "markdown",
   "metadata": {},
   "source": [
    "Now the same for Astronauts:"
   ]
  },
  {
   "cell_type": "code",
   "execution_count": 54,
   "metadata": {},
   "outputs": [],
   "source": [
    "as_wordcloud_top = [x for x, y in \n",
    "                    sorted([(w, c) for w, c in as_wordcloud.words_.items()], key=lambda x: x[1], reverse=True)[:50]\n",
    "                   ] # Sort the wordcloud values by frequency, get top 50, leave only words and drop frequency"
   ]
  },
  {
   "cell_type": "markdown",
   "metadata": {},
   "source": [
    "Get our own selected top 50:"
   ]
  },
  {
   "cell_type": "code",
   "execution_count": 55,
   "metadata": {},
   "outputs": [],
   "source": [
    "wr_our_top = cat_freq_df[cat_freq_df.Category == 'Writers'].Word\n",
    "as_our_top = cat_freq_df[cat_freq_df.Category == 'Astronauts'].Word"
   ]
  },
  {
   "cell_type": "markdown",
   "metadata": {},
   "source": [
    "We can see how many words appear in both tops (Wordcloud and ours) for Writers:"
   ]
  },
  {
   "cell_type": "code",
   "execution_count": 56,
   "metadata": {},
   "outputs": [
    {
     "data": {
      "text/plain": [
       "40"
      ]
     },
     "execution_count": 56,
     "metadata": {},
     "output_type": "execute_result"
    }
   ],
   "source": [
    "len(set(wr_wordcloud_top).intersection(set(wr_our_top)))"
   ]
  },
  {
   "cell_type": "markdown",
   "metadata": {},
   "source": [
    "We can now have a look at the words in Wordcloud top that were not in our top:"
   ]
  },
  {
   "cell_type": "code",
   "execution_count": 57,
   "metadata": {},
   "outputs": [
    {
     "data": {
      "text/plain": [
       "{'art',\n",
       " 'became',\n",
       " 'first',\n",
       " 'including',\n",
       " 'many',\n",
       " 'one',\n",
       " 'part',\n",
       " 'play',\n",
       " 'reference',\n",
       " 's'}"
      ]
     },
     "execution_count": 57,
     "metadata": {},
     "output_type": "execute_result"
    }
   ],
   "source": [
    "set(wr_wordcloud_top).difference(set(wr_our_top))"
   ]
  },
  {
   "cell_type": "code",
   "execution_count": 58,
   "metadata": {},
   "outputs": [
    {
     "data": {
      "text/plain": [
       "{'2011',\n",
       " 'books',\n",
       " 'early',\n",
       " 'isbn',\n",
       " 'peace',\n",
       " 'references',\n",
       " 'series',\n",
       " 'war',\n",
       " 'works',\n",
       " 'years'}"
      ]
     },
     "execution_count": 58,
     "metadata": {},
     "output_type": "execute_result"
    }
   ],
   "source": [
    "set(wr_our_top).difference(set(wr_wordcloud_top))"
   ]
  },
  {
   "cell_type": "markdown",
   "metadata": {},
   "source": [
    "We can notice that in our top there are several plural forms that are likely recognized as the same lemma by Wordcloud. \n",
    "\n",
    "We can also notice that Wordcloud top includes `one`, `many` and `s` which don't add a lot of meaning.\n",
    "\n",
    "Interestingly, our top doesn't include `art` which is an important term for `Writers` articles, it may be connected to the fact that having treated plurals and singulars as different forms we missed out on `art` which appeared below top 50.\n",
    "\n",
    "_____________"
   ]
  },
  {
   "cell_type": "markdown",
   "metadata": {},
   "source": [
    "Now let's have a look at the tops for Astronauts.\n",
    "\n",
    "Here the intersection is much lower for our top and Wordcloud top:"
   ]
  },
  {
   "cell_type": "code",
   "execution_count": 59,
   "metadata": {},
   "outputs": [
    {
     "data": {
      "text/plain": [
       "26"
      ]
     },
     "execution_count": 59,
     "metadata": {},
     "output_type": "execute_result"
    }
   ],
   "source": [
    "len(set(as_wordcloud_top).intersection(set(as_our_top)))"
   ]
  },
  {
   "cell_type": "markdown",
   "metadata": {},
   "source": [
    "Let's have a look the words in Wordcloud top, that are not in our top:"
   ]
  },
  {
   "cell_type": "code",
   "execution_count": 60,
   "metadata": {},
   "outputs": [
    {
     "name": "stdout",
     "output_type": "stream",
     "text": [
      "december, january, march, air force, st, year, first, received, international space, july, bezos, one, experiment, second, returned, space shuttle, became, june, award, spacewalk, may, space station, two, august, "
     ]
    }
   ],
   "source": [
    "for w in set(as_wordcloud_top).difference(as_our_top):\n",
    "    print(w, end=', ')"
   ]
  },
  {
   "cell_type": "markdown",
   "metadata": {},
   "source": [
    "And the words in our top that are not in Wordcloud:"
   ]
  },
  {
   "cell_type": "code",
   "execution_count": 61,
   "metadata": {},
   "outputs": [
    {
     "name": "stdout",
     "output_type": "stream",
     "text": [
      "center, hours, american, air, soyuz, international, astronauts, degree, program, career, days, gagarin, engineer, pilot, station, test, shuttle, school, soviet, mir, force, life, medal, aboard, "
     ]
    }
   ],
   "source": [
    "for w in set(as_our_top).difference(as_wordcloud_top):\n",
    "    print(w, end=', ')"
   ]
  },
  {
   "cell_type": "markdown",
   "metadata": {},
   "source": [
    "First of all, we can notice tokenization difference: Wordcloud tokenizes `international space` as one token and we can see in our top `international` appears as a separate token. The same can also explain words like `station` appearing only in our top but not in Wordcloud top.\n",
    "\n",
    "We can notice once again that there are a lot of not particularly informational tokens in the top of Wordcloud: like month names, `one`, `first`, `st`. \n",
    "\n",
    "Overall, the words that are uniquely in our top seem subjectively more informational for the topic, however, can notice that there are words like `hours` and `days` which may be not very informational and could be included in the stopwords."
   ]
  },
  {
   "cell_type": "markdown",
   "metadata": {},
   "source": [
    "___________"
   ]
  },
  {
   "cell_type": "markdown",
   "metadata": {
    "id": "GTm0gTtoRjpd"
   },
   "source": [
    "# **TRAINING CLASSIFIERS**"
   ]
  },
  {
   "cell_type": "code",
   "execution_count": 73,
   "metadata": {
    "id": "8ZI9w-4AMQvI"
   },
   "outputs": [],
   "source": [
    "from sklearn.utils import shuffle"
   ]
  },
  {
   "cell_type": "code",
   "execution_count": 107,
   "metadata": {},
   "outputs": [],
   "source": [
    "# Load 800 texts and shuffle them\n",
    "data_df = pd.read_csv('Data/df_with_texts_800.csv', index_col=0)\n",
    "data_df = shuffle(data_df)"
   ]
  },
  {
   "cell_type": "code",
   "execution_count": 108,
   "metadata": {},
   "outputs": [],
   "source": [
    "from sklearn.preprocessing import LabelEncoder\n",
    "# Encode the categories\n",
    "labels_encoder = LabelEncoder()\n",
    "data_df['labels_encoded'] = labels_encoder.fit_transform(data_df['Category'])"
   ]
  },
  {
   "cell_type": "code",
   "execution_count": 109,
   "metadata": {},
   "outputs": [],
   "source": [
    "# Tokenize and lowercase all the texts\n",
    "data_df['tokens'] = data_df.Text.apply(lambda x: spacy_tokenize_text(x, to_lowercase=True))"
   ]
  },
  {
   "cell_type": "code",
   "execution_count": 112,
   "metadata": {
    "colab": {
     "base_uri": "https://localhost:8080/"
    },
    "id": "mR-GrPnfOcuV",
    "outputId": "cc210596-e872-49cd-d237-1fcd0e742756"
   },
   "outputs": [
    {
     "data": {
      "text/plain": [
       "(400,)"
      ]
     },
     "execution_count": 112,
     "metadata": {},
     "output_type": "execute_result"
    }
   ],
   "source": [
    "# Join the tokenized sentences into strings\n",
    "X_filtered = [' '.join(tokens) for tokens in data_df.tokens]\n",
    "Y_filtered = data_df['labels_encoded']\n",
    "Y.shape"
   ]
  },
  {
   "cell_type": "code",
   "execution_count": 113,
   "metadata": {
    "colab": {
     "base_uri": "https://localhost:8080/"
    },
    "id": "tGfbZU7dOtsC",
    "outputId": "19e5ec88-3d43-4945-dfc5-3ac6a4e688fe"
   },
   "outputs": [
    {
     "name": "stdout",
     "output_type": "stream",
     "text": [
      "Training and testing split was successful.\n"
     ]
    }
   ],
   "source": [
    "# Import 'train_test_split'\n",
    "from sklearn.model_selection import train_test_split\n",
    "\n",
    "# Shuffle and split the data into training and testing subsets\n",
    "Xf_train, Xf_test, Yf_train, Yf_test = train_test_split(X_filtered, Y_filtered, random_state=0)\n",
    "\n",
    "# Success\n",
    "print(\"Training and testing split was successful.\")"
   ]
  },
  {
   "cell_type": "code",
   "execution_count": 114,
   "metadata": {
    "id": "HMcMO9eOO8P0"
   },
   "outputs": [],
   "source": [
    "from sklearn.feature_extraction.text import TfidfVectorizer"
   ]
  },
  {
   "cell_type": "code",
   "execution_count": 115,
   "metadata": {
    "colab": {
     "base_uri": "https://localhost:8080/"
    },
    "id": "SZAGbvHaQOG0",
    "outputId": "a441ee52-331c-4cc5-daa8-78fe75d51927"
   },
   "outputs": [
    {
     "name": "stdout",
     "output_type": "stream",
     "text": [
      "Train: (600, 400)\n",
      "Test: (200, 400)\n",
      "Vocabulary size: 400\n"
     ]
    }
   ],
   "source": [
    "# Using TFIDF vectorizer with pre-tokenized text\n",
    "tfidf_vectorizer = TfidfVectorizer(max_features=400,\n",
    "                                   use_idf=True,\n",
    "                                   ngram_range=(1, 2))\n",
    "\n",
    "# Fit the vectorizer to train and test data\n",
    "Xf_train_tf = tfidf_vectorizer.fit_transform(Xf_train)\n",
    "Xf_test_tf = tfidf_vectorizer.transform(Xf_test)\n",
    "\n",
    "# Print the shape of the matrices X_train and X_test and the size of the vocabulary\n",
    "print('Train:', Xf_train_tf.shape)\n",
    "print('Test:', Xf_test_tf.shape)\n",
    "print(\"Vocabulary size:\", len(tfidf_vectorizer.vocabulary_))"
   ]
  },
  {
   "cell_type": "code",
   "execution_count": 118,
   "metadata": {
    "colab": {
     "base_uri": "https://localhost:8080/"
    },
    "id": "MFVTKtLBOzxt",
    "outputId": "78df3ff3-6594-4106-d7dc-5502f52df074"
   },
   "outputs": [
    {
     "data": {
      "image/png": "[encoded data removed]",
      "text/plain": [
       "<Figure size 432x288 with 2 Axes>"
      ]
     },
     "metadata": {
      "needs_background": "light"
     },
     "output_type": "display_data"
    },
    {
     "name": "stdout",
     "output_type": "stream",
     "text": [
      "Acc: 0.985\n"
     ]
    }
   ],
   "source": [
    "from sklearn.linear_model import Perceptron\n",
    "from sklearn.metrics import classification_report, accuracy_score\n",
    "\n",
    "# Create a Perceptron object\n",
    "perc_filtered = Perceptron(max_iter=5, tol=None, random_state=0)\n",
    "\n",
    "# Train the model on the training data\n",
    "perc_filtered.fit(Xf_train_tf, Yf_train)\n",
    "\n",
    "# Test the model on the test data\n",
    "Yf_pred = perc_filtered.predict(Xf_test_tf)\n",
    "\n",
    "# Print out the confusion matrix\n",
    "cm = confusion_matrix(Yf_test, Yf_pred, labels=perc_filtered.classes_)\n",
    "disp = ConfusionMatrixDisplay(confusion_matrix=cm,\n",
    "                               display_labels=perc_filtered.classes_)\n",
    "disp.plot()\n",
    "plt.show()\n",
    "\n",
    "# Print accuracy\n",
    "print(\"Acc:\", accuracy_score(Yf_test, Yf_pred))"
   ]
  },
  {
   "cell_type": "code",
   "execution_count": 119,
   "metadata": {
    "colab": {
     "base_uri": "https://localhost:8080/",
     "height": 455
    },
    "id": "CpU0aqkOQzL1",
    "outputId": "880ed81b-451b-4da3-dda1-118a9038ddda"
   },
   "outputs": [
    {
     "data": {
      "image/png": "[encoded data removed]",
      "text/plain": [
       "<Figure size 432x288 with 2 Axes>"
      ]
     },
     "metadata": {
      "needs_background": "light"
     },
     "output_type": "display_data"
    },
    {
     "name": "stdout",
     "output_type": "stream",
     "text": [
      "Acc: 0.99\n"
     ]
    }
   ],
   "source": [
    "from sklearn.metrics import confusion_matrix, ConfusionMatrixDisplay\n",
    "from sklearn.model_selection import train_test_split\n",
    "from sklearn.svm import SVC\n",
    "\n",
    "svm_filtered = SVC(random_state=0)\n",
    "\n",
    "svm_filtered.fit(Xf_train_tf, Yf_train)\n",
    "\n",
    "Yf_pred = svm_filtered.predict(Xf_test_tf)\n",
    "\n",
    "# Print out the confusion matrix\n",
    "cm = confusion_matrix(Yf_test, Yf_pred, labels=svm_filtered.classes_)\n",
    "disp = ConfusionMatrixDisplay(confusion_matrix=cm,\n",
    "                               display_labels=svm_filtered.classes_)\n",
    "disp.plot()\n",
    "plt.show()\n",
    "\n",
    "print(\"Acc:\", accuracy_score(Yf_test, Yf_pred))"
   ]
  },
  {
   "cell_type": "markdown",
   "metadata": {},
   "source": [
    "__________________\n",
    "## No frequent words\n",
    "\n",
    "Now let's attempt to remove the most frequent words and see how it affects the classification:"
   ]
  },
  {
   "cell_type": "code",
   "execution_count": 120,
   "metadata": {},
   "outputs": [],
   "source": [
    "cat_freq_df = pd.read_csv(\"FrequentWords/top50_freq_word_by_cat.csv\", index_col=0)"
   ]
  },
  {
   "cell_type": "code",
   "execution_count": 121,
   "metadata": {},
   "outputs": [],
   "source": [
    "common_words_as = cat_freq_df[cat_freq_df.Category == 'Astronauts'].Word.tolist()\n",
    "common_words_wr = cat_freq_df[cat_freq_df.Category == 'Writers'].Word.tolist()"
   ]
  },
  {
   "cell_type": "code",
   "execution_count": 125,
   "metadata": {},
   "outputs": [],
   "source": [
    "# Shuffle the set\n",
    "data_df = shuffle(data_df)"
   ]
  },
  {
   "cell_type": "code",
   "execution_count": 138,
   "metadata": {},
   "outputs": [],
   "source": [
    "Xnf = data_df.tokens.apply(lambda row: \n",
    "                     [word for word in row if word not in (common_words_as + common_words_wr)]\n",
    "                    )"
   ]
  },
  {
   "cell_type": "code",
   "execution_count": 142,
   "metadata": {},
   "outputs": [],
   "source": [
    "Xnf = list(Xnf.apply(lambda x: ' '.join(x)))"
   ]
  },
  {
   "cell_type": "code",
   "execution_count": 143,
   "metadata": {},
   "outputs": [
    {
     "data": {
      "text/plain": [
       "(800,)"
      ]
     },
     "execution_count": 143,
     "metadata": {},
     "output_type": "execute_result"
    }
   ],
   "source": [
    "Ynf = data_df['labels_encoded']\n",
    "Ynf.shape"
   ]
  },
  {
   "cell_type": "code",
   "execution_count": 144,
   "metadata": {},
   "outputs": [
    {
     "name": "stdout",
     "output_type": "stream",
     "text": [
      "Training and testing split was successful.\n"
     ]
    }
   ],
   "source": [
    "Xnf_train, Xnf_test, Ynf_train, Ynf_test = train_test_split(Xnf, Ynf, random_state=10)\n",
    "\n",
    "# Success\n",
    "print(\"Training and testing split was successful.\")"
   ]
  },
  {
   "cell_type": "code",
   "execution_count": 145,
   "metadata": {},
   "outputs": [
    {
     "name": "stdout",
     "output_type": "stream",
     "text": [
      "Train: (600, 400)\n",
      "Test: (200, 400)\n",
      "Vocabulary size: 400\n"
     ]
    }
   ],
   "source": [
    "tfidf_vectorizer = TfidfVectorizer(max_features=400,\n",
    "                                   use_idf=True,\n",
    "                                   ngram_range=(1, 2))\n",
    "\n",
    "# Fit the vectorizer to train and test data\n",
    "Xnf_train_tf = tfidf_vectorizer.fit_transform(Xnf_train)\n",
    "Xnf_test_tf = tfidf_vectorizer.transform(Xnf_test)\n",
    "\n",
    "# Print the shape of the matrices X_train and X_test and the size of the vocabulary\n",
    "print('Train:', Xnf_train_tf.shape)\n",
    "print('Test:', Xnf_test_tf.shape)\n",
    "print(\"Vocabulary size:\", len(tfidf_vectorizer.vocabulary_))"
   ]
  },
  {
   "cell_type": "code",
   "execution_count": 148,
   "metadata": {},
   "outputs": [
    {
     "data": {
      "image/png": "[encoded data removed]",
      "text/plain": [
       "<Figure size 432x288 with 2 Axes>"
      ]
     },
     "metadata": {
      "needs_background": "light"
     },
     "output_type": "display_data"
    },
    {
     "name": "stdout",
     "output_type": "stream",
     "text": [
      "Acc: 0.96\n"
     ]
    }
   ],
   "source": [
    "# Create a Perceptron object\n",
    "perc_no_freq = Perceptron(max_iter=5, tol=None, random_state=5)\n",
    "\n",
    "perc_no_freq.fit(Xnf_train_tf, Ynf_train)\n",
    "\n",
    "# Test the model on the test data\n",
    "Ynf_pred = perc_no_freq.predict(Xnf_test_tf)\n",
    "\n",
    "cm = confusion_matrix(Ynf_test, Ynf_pred, labels=perc_no_freq.classes_)\n",
    "disp = ConfusionMatrixDisplay(confusion_matrix=cm,\n",
    "                               display_labels=perc_no_freq.classes_)\n",
    "\n",
    "disp.plot()\n",
    "plt.show()\n",
    "\n",
    "\n",
    "\n",
    "# Print accuracy\n",
    "print(\"Acc:\", accuracy_score(Ynf_test, Ynf_pred))"
   ]
  },
  {
   "cell_type": "code",
   "execution_count": 149,
   "metadata": {},
   "outputs": [
    {
     "data": {
      "image/png": "[encoded data removed]",
      "text/plain": [
       "<Figure size 432x288 with 2 Axes>"
      ]
     },
     "metadata": {
      "needs_background": "light"
     },
     "output_type": "display_data"
    },
    {
     "name": "stdout",
     "output_type": "stream",
     "text": [
      "Acc: 0.98\n"
     ]
    }
   ],
   "source": [
    "svm_no_freq = SVC(random_state=0)\n",
    "\n",
    "svm_no_freq.fit(Xnf_train_tf, Ynf_train)\n",
    "\n",
    "Ynf_pred = svm_no_freq.predict(Xnf_test_tf)\n",
    "\n",
    "cm = confusion_matrix(Ynf_test, Ynf_pred, labels=svm_no_freq.classes_)\n",
    "disp = ConfusionMatrixDisplay(confusion_matrix=cm,\n",
    "                               display_labels=svm_no_freq.classes_)\n",
    "disp.plot()\n",
    "plt.show()\n",
    "\n",
    "print(\"Acc:\", accuracy_score(Ynf_test, Ynf_pred))"
   ]
  },
  {
   "cell_type": "markdown",
   "metadata": {},
   "source": [
    "_____________\n",
    "## Classification without removing punctuation\n",
    "\n",
    "Now we train in without removing stopwords, punctuation and without lowercasing the words"
   ]
  },
  {
   "cell_type": "code",
   "execution_count": 150,
   "metadata": {},
   "outputs": [],
   "source": [
    "# Shuffle the data\n",
    "\n",
    "data_df = shuffle(data_df)"
   ]
  },
  {
   "cell_type": "code",
   "execution_count": 152,
   "metadata": {},
   "outputs": [
    {
     "data": {
      "text/plain": [
       "(800,)"
      ]
     },
     "execution_count": 152,
     "metadata": {},
     "output_type": "execute_result"
    }
   ],
   "source": [
    "X_all = data_df['Text'].apply(lambda x: x.lower()) # Lowercase the text without tokenizing\n",
    "Y_all = data_df['labels_encoded']\n",
    "Y.shape"
   ]
  },
  {
   "cell_type": "code",
   "execution_count": 155,
   "metadata": {},
   "outputs": [],
   "source": [
    "X_all_train, X_all_test, Y_all_train, Y_all_test = train_test_split(X_all, Y_all, random_state=50)"
   ]
  },
  {
   "cell_type": "code",
   "execution_count": 156,
   "metadata": {},
   "outputs": [
    {
     "name": "stdout",
     "output_type": "stream",
     "text": [
      "Train: (600, 400)\n",
      "Test: (200, 400)\n",
      "Vocabulary size: 400\n"
     ]
    }
   ],
   "source": [
    "tfidf_vectorizer = TfidfVectorizer(max_features=400,\n",
    "                                   use_idf=True,\n",
    "                                   ngram_range=(1, 2))\n",
    "\n",
    "# Fit the vectorizer to train and test data\n",
    "X_all_train_tf = tfidf_vectorizer.fit_transform(X_all_train)\n",
    "X_all_test_tf = tfidf_vectorizer.transform(X_all_test)\n",
    "\n",
    "# Print the shape of the matrices X_train and X_test and the size of the vocabulary\n",
    "print('Train:', X_all_train_tf.shape)\n",
    "print('Test:', X_all_test_tf.shape)\n",
    "print(\"Vocabulary size:\", len(tfidf_vectorizer.vocabulary_))"
   ]
  },
  {
   "cell_type": "code",
   "execution_count": 157,
   "metadata": {},
   "outputs": [
    {
     "data": {
      "image/png": "[encoded data removed]",
      "text/plain": [
       "<Figure size 432x288 with 2 Axes>"
      ]
     },
     "metadata": {
      "needs_background": "light"
     },
     "output_type": "display_data"
    },
    {
     "name": "stdout",
     "output_type": "stream",
     "text": [
      "Acc: 1.0\n"
     ]
    }
   ],
   "source": [
    "# Create a Perceptron object\n",
    "perc_no_filter = Perceptron(max_iter=5, tol=None, random_state=5)\n",
    "\n",
    "perc_no_filter.fit(X_all_train_tf, Y_all_train)\n",
    "\n",
    "# Test the model on the test data\n",
    "Y_all_pred = perc_no_filter.predict(X_all_test_tf)\n",
    "\n",
    "cm = confusion_matrix(Y_all_test, Y_all_pred, labels=perc_no_filter.classes_)\n",
    "disp = ConfusionMatrixDisplay(confusion_matrix=cm,\n",
    "                               display_labels=perc_no_filter.classes_)\n",
    "\n",
    "disp.plot()\n",
    "plt.show()\n",
    "\n",
    "\n",
    "\n",
    "# Print accuracy\n",
    "print(\"Acc:\", accuracy_score(Y_all_test, Y_all_pred))"
   ]
  },
  {
   "cell_type": "code",
   "execution_count": 158,
   "metadata": {},
   "outputs": [
    {
     "data": {
      "image/png": "[encoded data removed]",
      "text/plain": [
       "<Figure size 432x288 with 2 Axes>"
      ]
     },
     "metadata": {
      "needs_background": "light"
     },
     "output_type": "display_data"
    },
    {
     "name": "stdout",
     "output_type": "stream",
     "text": [
      "Acc: 1.0\n"
     ]
    }
   ],
   "source": [
    "svm_no_filter = SVC(random_state=0)\n",
    "\n",
    "svm_no_filter.fit(X_all_train_tf, Y_all_train)\n",
    "\n",
    "Y_all_pred = svm_no_filter.predict(X_all_test_tf)\n",
    "\n",
    "cm = confusion_matrix(Y_all_test, Y_all_pred, labels=svm_no_filter.classes_)\n",
    "disp = ConfusionMatrixDisplay(confusion_matrix=cm,\n",
    "                               display_labels=svm_no_filter.classes_)\n",
    "disp.plot()\n",
    "plt.show()\n",
    "\n",
    "print(\"Acc:\", accuracy_score(Y_all_test, Y_all_pred))"
   ]
  }
 ],
 "metadata": {
  "colab": {
   "provenance": []
  },
  "kernelspec": {
   "display_name": "Python 3",
   "language": "python",
   "name": "python3"
  },
  "language_info": {
   "codemirror_mode": {
    "name": "ipython",
    "version": 3
   },
   "file_extension": ".py",
   "mimetype": "text/x-python",
   "name": "python",
   "nbconvert_exporter": "python",
   "pygments_lexer": "ipython3",
   "version": "3.8.5"
  },
  "vscode": {
   "interpreter": {
    "hash": "5cfb0889301bd40a32af2921b094f94edad3784ee7c8bac1076d6edd892f10d1"
   }
  }
 },
 "nbformat": 4,
 "nbformat_minor": 1
}
