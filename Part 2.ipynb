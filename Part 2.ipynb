{
 "cells": [
  {
   "cell_type": "code",
   "execution_count": 11,
   "metadata": {},
   "outputs": [],
   "source": [
    "import pandas as pd\n",
    "import numpy as np\n",
    "import pickle"
   ]
  },
  {
   "cell_type": "code",
   "execution_count": 2,
   "metadata": {},
   "outputs": [],
   "source": [
    "#Uncomment the line below to install stanza\n",
    "#!pip install stanza"
   ]
  },
  {
   "cell_type": "code",
   "execution_count": 9,
   "metadata": {},
   "outputs": [],
   "source": [
    "from util import spacy_get_sents, stanza_get_sents, spacy_tokenize_text, stanza_tokenize_text, get_texts"
   ]
  },
  {
   "cell_type": "code",
   "execution_count": 10,
   "metadata": {},
   "outputs": [],
   "source": [
    "from util import get_tokens_dict, common_tokens"
   ]
  },
  {
   "cell_type": "markdown",
   "metadata": {},
   "source": [
    "# Data collection"
   ]
  },
  {
   "cell_type": "markdown",
   "metadata": {},
   "source": [
    "For our further inverstigations we will choose 100 texts from \"Writers\" category that we previously stored:"
   ]
  },
  {
   "cell_type": "code",
   "execution_count": 12,
   "metadata": {},
   "outputs": [],
   "source": [
    "texts = get_texts(source_type='folder', path='Writers', token_type='file', n=100)"
   ]
  },
  {
   "cell_type": "markdown",
   "metadata": {},
   "source": [
    "Below we can see the sample of 5 files from the dataset:"
   ]
  },
  {
   "cell_type": "code",
   "execution_count": 13,
   "metadata": {},
   "outputs": [
    {
     "data": {
      "text/plain": [
       "['Anne Von Bertouch, (29 June 1915 – 31 March 2003) was an Australian art dealer, author, environmentalist and director of the Von Bertouch Galleries in Newcastle, New South Wales, believed to be the first commercial gallery outside a capital city in Australia. Biography Born Anne Catherine, to parents Jean (née Duff) and George Whittle on 29 June 1915 in Eastwood, New South Wales, she was educated at Sydney Girls High School and Armidale Teachers College. After teacher training her first posting was at Adamstown Infants School in the 1930s. She married Roger Von Bertouch in 1939. In 1941 she was the organiser of a National Fitness Camp for girls at Broken Bay, New South Wales.She and Roger moved to Tasmania, where they taught and she studied at Hobart Technical College. In 1942 she performed modern interpretive dance at a Town Hall concert in Hobart organised by the Australian Broadcasting Commission Patriotic Committee as a fundraiser on Allies\\' Appeal Day. She danced also in Hobart\\'s Opera And Ballet Festival for International Week in 1945.Intending to develop land and to pursue their artistic interests, they moved to Mungo Brush in the Myall Lakes, New South Wales, in 1951 or 1954, living a subsistence existence from prawn fishing and trading their home-grown produce, and were appointed Honorary Rangers there in 1955 under the Wild Flowers and Native Plants Protection Act. Anne\\'s 1959 semi-autobiographical documentary novel February Dark gives an account of their time there. Finding their block unviable, they moved to Newcastle where they renovated a terrace house. An active environmentalist, in the 1970s she famously chained herself to a tree to stop the widening of King Street, Newcastle, through Birdwood Park.In 1987 von Bertouch joined the 1988 Australian Bicentennial First Fleet reenactment, sailing on the Soren Larsen from Portsmouth in May 1987 and arriving at Port Jackson on Australia Day. Von Bertouch Galleries Anne and Roger von Bertouch opened the von Bertouch Galleries in their home at 50 Laman Street in Newcastle on 9 February 1963 which, as noted by The Bulletin magazine, was close to William Dobell\\'s birthplace and the Newcastle Art Gallery. An annual Collectors\\' Choice exhibition with a price maximum of 15 guineas (a value of A$500 in 2022) was established.In 1969, not long after Anne had been injured and suffered a coma in a serious car accident near Morisset the couple separated. She acquired near-derelict Hunniford Terrace, a row of four narrow 1877 houses, opposite hers, on three titles surrounding 61 Laman St. They were threatened with demolition, and she combined and converted them, over five years and with the help of friends, to house the gallery, which opened in 1974, after the couple had dissolved their partnership in the gallery in 1973. Gael Davies became Anne\\'s gallery manager in 1975. Von Bertouch Galleries showed contemporary work by nationally prominent artists, as well as artists associated with the Hunter Region of New South Wales, including still-life painter Margaret Olley (1923-2011), landscapist Shay Docking (1928–1998), mid-century modernist painter and textile designer Mary Beeston (b. 1917), naïve artist Virginia Geyl (b. Holland 1917– d.1999) and the surrealist/religious painter Rona Scott, who created a mural for the film Tommy when it came to Australia. The Collector\\'s Choice group exhibition, established in 1969 at the suggestion of Tom Gleghorn, and which opened the renovated space, became an annual fixture important as part of Newcastle\\'s art scene, and spawned street parties. The Bulletin in 1974 described Von Bertouch Galleries as \"one of the most famous in Australia... It\\'s [sic] director Anne Von Bertouch has made a great contribution to the life of [Newcastle] during the 11 years of the gallery\\'s existence,\" and quoted her sentiments about selling art;\"I think the gallery has integrity. That is what I have worked hardest to achieve. I have never encouraged the buyer who is only interested in investment. In fact I won\\'t sell to them. I tell them to go and buy real estate. I don\\'t want them to have pictures if they aren\\'t going to appreciate them. It\\'s an anti-art thing...I have never had contracts or ties with any of the artists. Sometimes I\\'ve helped people but that is just natural. Artists must create for the sake of creating. They mustn\\'t attempt to please. That can destroy the living quality of the painting. It will always have its own intrinsic value. Commercial gain is really incidental.\"The same 1974 issue of The Bulletin listed selling prices in A$ of a number of exhibitors; Charles Blackman $2400 (equivalent to more than $20,000 in 2022); David Boyd $1150; Donald Friend $525; Irvine Homer $300; Pro Hart $950; Reinis Zusters $960; George Lawrence $650; Lloyd Rees $6000; Louis James $200; Ray Crooke $4500; Jamie Boyd $330; Keith Looby $75–$2400; Rona Scott $50–$7000; John Winch $75–$1200; Margaret Olley $200–$950; Virginia Geyl $50–$280; Lillian Sutherland $85–$450; Rae Richards $175–$350; while at its annual Collectors\\' Choice works were $75 and under (equivalent to $650 in 2022).Von Bertouch was considered a mentor and fair dealer by her artists; David Boyd remarked that was \"the most highly principled person in the gallery world. One could have complete trust in her without having to worry. She was loved very much by all.\" David Thomas, a previous director (1965–75) of the Newcastle Region Art Gallery remembered her as \"tough lady\"; \"By tough I mean she was of strong character, dedicated to making sure artists were well represented and improving the city\\'s cultural life\"On Saturday 9 February 2002, before its closure, Von Bertouch held a party to celebrate the Galleries\\' 39 years. Exhibitions at Von Bertouch Galleries 1963, February: First exhibition; works by artists born or resident in Newcastle: Tom Gleghorn, Ross Morrow, Jon Molvig, William Rose, John Olson, Paul Beadle, John Passmore and William Dobell 1963: Shay Docking 1963, August–September: Louis James 1963, 18–29 October: Henri le Grand pottery 1963, 15 November – 3 December: Collectors\\' choice 1963: Tom Gleghorn 1964, from 1 March: Homer Irvine 1964, to 28 July: Owen Shaw 1964, 25 September – 13 October: William Peascod 1964, to 17 November: Geoffrey Hooper paintings. Studio pottery by Ivan Englund and Carl McConnell 1964, to 24 December: Fabrics and Jewellery 1965: Homer Irvine 1965, 30 July – 10 August: Landscapes by 12 1967, 10 February – 28 February: Shay Docking 1967, 3 March – 21 March: John Coburn 1967, 24 March – 4 April: Homer Irvine 1967, 7 – 25 April: Michael Kitching 1967, 23 June – 11 July: Noel Counihan 1967, 18 August – 2-September: Paintings of people: Charles Blackman, Robert Dickerson, Frank Hinder, Louis James, Michael Kmit, Jeffrey Smart, Francis Lymburner. Also The Aspendale Papers and Interior lithographs by Charles Blackman\" 1967, October: David Boyd 1967, December: Shigeo Shiga, pottery 1968, from 22 March: Frank Hinder 1969, May: Desiderius Orban 1969, August: Norman Lindsay 1970, 6 – 23 March: Laurence Hope 1970, April: Judy Cassab 1970, June: Virginia Geyl 1971 Shay Docking 1972, from 1 March: Memory paintings of days on the track 1972, 28 June – 15 July: House show 1973, 3 August – 27 August: Ray Crooke 1973, October: Rae Richards 1973, November – December: Collectors\\' Choice: painting, graphics, sculpture, pottery and jewellery. Coburn, Cassab, Crooke. James, Hinder, Gleghorn, Kmit and others. 1973, to 24 December: Lillian Sutherland, Recent Paintings from Lighting Ridge 1974, February: Robert Campbell Retrospective 1974, to March 11: Print Prize Exhibition and Piers Bateman solo show 1974, 18–28 August: House show 1974, 10–30 November: Newcastle artists: Gavin Crichton, Garry Jones, John Martin, Christine Ross 1975, to 28 April: Maximillian Feuerring, paintings and drawings 1975, 22 August – 14 September: International Women\\'s Year – Newcastle artists: Norma Allen, Mary Beeston, Rosemary Coote, Joy Foster, Rachel Frecker, Virginia Geyl, Judy Hepper, Madeleine Scott Jones, Marilyn McGrath, Elizabeth Martin, Margaret Olley, Rae Richards, Christine Ross, Rona Scott, Coughtrie Thurlow, Pauline Tickner 1978, 28 July – 13 August: Silver Ware, Kelims and carpets from Afghanistan, Iran, Turkey and Russia collected by Jeffery Kitto of Sydney 1980 : Shay Docking 1981, 10 April – 26 April: Lloyd Rees; And Yet Australia Calls You Back Again 1983, 11 February – 6 March: Twentieth anniversary exhibition to commemorate the inaugural exhibition of February 9, 1963: Paul Beedle, William Dobell, Thomas Gleghorn, John Molvig, Ross Morrow, John Olsen, John Passmore, William Rose, Charles Lewis, Kay Campbell, Francis Cetlan, Cheryl Cusick, Marion Ermer, Andrew Ferguson, Graham Gilchrist, Ronald Hawke, Gail Johns, Ted Prior, Gordon Rintoul, Christine Ross, Philip Samuels, John Wolseley 1983, 1 July – 24 July: Blue Days on the Derwent. Tasmanian Exhibition by Lloyd Rees. 1984, 17 February – 1 March: Twenty first anniversary exhibition: Charles Blackman, Nancy Borlase, Frank Hinder, Margel Hinder, Louis James, Michael Kmit, Robert Klippel, Alun Leach-Jones, Desiderius Orban, Matthew Perceval, Brett Whiteley, Aldona Zakarauskas 1985, 15 March – 7 April: Lloyd Rees – Sandy Bay Set 1987, 3 – 26 April: Lloyd Rees: Paintings and Graphics 1991, 12 – 28 July: David Middlebrook: paintings and wood blocks 1991, 2 – 25 August: Jamie Boyd: paintings, pastels, graphics. 1991, 30 August – 15 September: Graphics by the famous : etchings, lithographs, screenprints 1992, 28 February – 22 March: David Preston : hand coloured linocuts 1992, 24 April – 17 May: Madeleine Winch : paintings 1993, 19 March 1993 – 12 April: Arthur Boyd; Paintings, Collographs, etchings 1998, 20 March – 12 April: Sixties reviewed: Nancy Borlase, Shay Docking, Robert Grieve, Louis James, Elwyn Lynn, Guy Warren 1998, 4 – 27 September: Works on paper: Sidney Nolan, Donald Friend, John Coburn, Charles Blackman, Arthur Boyd 2003, to 9 March: Judy Cassab Awards Honorary master\\'s degrees from the universities of Newcastle and New England 1979: Medal of the Order of Australia \"for services to the visual arts\" 1987: Newton-John alumni award 2001: Centenary Medal \"for service to the community\" 2002: The University of Newcastle honorary doctorate of letters 2002: Recognized in Newcastle as a Freeman of the City Author Von Bertouch’s 1959 novel February Dark, runner-up in The Sydney Morning Herald Literary Award, was based on her experience of life in Myall Lakes. It was reissued by Hunniford\\'s Lane Press in 1982. Her other published works include The Ride Home and a 1000-copy limited-edition monograph on sculptor Guy Boyd, described by Canberra Times reviewer Glenda Alexander as a \"delightful story, if touched with the hint of sentimentality which the Boyds always seem to attract.\" Publications Bertouch, Anne (1959). February Dark. London: Constable. OCLC 1069851970. Von Bertouch, Anne (1983). The ride home. Newcastle, N.S.W.: Hunniford\\'s Lane Press. ISBN 978-0-9592824-1-2. OCLC 27623615. Golden Age Fine Art Gallery; Von Bertouch, Anne; Boyd, Guy; Boyd, Phyllis (1985). Guy Boyd survey exhibition: bronze sculpture. Ballarat: The Gallery. OCLC 221487561. Boyd, Guy Martin; Bertouch, Anne von; Hutchings, Patrick; Von Bertouch, Anne (1986). Guy Boyd. Melbourne: Lansdowne. OCLC 781998112. Von Bertouch, Anne; Von Bertouch Galleries (1990). What was it before it was a gallery?. Newcastle, N.S.W.: Hunniford\\'s Lane Press. ISBN 978-0-9592824-2-9. OCLC 220744993. Von Bertouch, Anne (1991). The voyage out: the First Fleet re-enactment. Newcastle, N.S.W.: Hunnifords Lane Press. ISBN 978-0-9592824-3-6. OCLC 26579510. Germaine, Max; Bertouch, Anne von (1991). A dictionary of women artists of Australia. ISBN 978-976-8097-13-2. OCLC 1056680264. Archival resources National Library of Australia : [Biographical cuttings on Anne von Bertouch, author, containing one or more cuttings from newspapers or journals], Bib ID: 2085354 National Library of Australia, Manuscript Collection : Papers of Anne von Bertouch, circa 1960-circa 1999 [manuscript], c. 1960 – c. 1999, MS Acc03.266 Newcastle Region Library : Diary, correspondence and memorabilia [manuscript], 1975 – 1978, Call number: 910.4/VON; Anne Von Bertouch travel documents and diaries [manuscript][1] Death and legacy Following a severe stroke, Anne Von Bertouch died on 26 April 2003. Her funeral at Christ Church Cathedral with a eulogy by Newcastle Region Art Gallery director Nick Mitzevich was attended by 500 mourners. Shortly before her death Von Bertouch bequeathed a total of 136 works from her personal collection to the Newcastle Region Art Gallery, the biggest art collection bestowed to it in 58 years and valued in the millions of dollars; they were exhibited there in March 2003. In November 2005 350 artworks still in her gallery were auctioned as required by the Uncollected Goods Act of 1995.After her death manager Gael Davies attempted to hold a 41st Collectors\\' Choice exhibition on October 31, 2003, and the remaining scheduled shows for 2003, but an estate dispute was underway and the shows could not go ahead; consequently the gallery remained closed. Von Bertouch left her estate to her then 23-year-old great niece Cassandra Bird and to Davies. In March 2004 Bird sought to buy Davies\\' share and to reopen the gallery. Davies rejected the offer as unviable and proposed instead a new, smaller gallery be built on a parcel of land in Laman Street from the sale of surrounding land. The dispute became litigious with the outcome being its sale in 2007 by Supreme Court-appointed trustee Ferrier Hodgson.The terraces were purchased by Dr Dick Lees for #1,420,000 in 2007, and in 2010 were listed for sale at A$1.6 million. The four terrace houses sold together for a fourth time in 2015. Matt and Marilyn Sainsbury, new owners of the gallery buildings, with Matt\\'s sister Helen Griffin, commissioned Newcastle sculptor Graham Wilson, an exhibitor at the gallery, to carve a bust in Wollombi sandstone honouring her memory and her place in Cooks Hill life. Installed in 2019, it stands outside the former gallery on Laman Street. References ',\n",
       " 'Ashraf E. Fagih (Pronounced: \"Fa-geeh\") (Arabic: أشرف إحسان فقيه) is a Saudi author and academic. He is one of the few notable science fiction authors in the Arab Gulf states.First published at the age of twenty, he is noted for his writings in science fiction, historical fantasy, and mainstream culture.Ashraf was the scientific editor of Al-Qafilah magazine between 2014 and 2017. He has been an invitee to numerous events on creative writing and the literature of science, including Ithra\\'s Tanween Creativity Season and the World Science Fiction Convention (DisCon III). Bibliography Novels A Portrait of the Void – رسم العدم. 2020. A historical novel following the life of 13th century Pisan mathematician Leonardo Fibonacci, and his introduction of the Arabic Numerals to Europe. ISBN 9789921723700 The Impaler – المُخوزِق. 2012. A historical thriller tracing the origins of Count Vlad Dracula\\'s struggle against the Ottomans in the 15th century. ISBN 9782844096265, ASIN B07TTX6ZHQ Short story collections Over Twenty Lives – نيّف وعشرون حياة. 2006. Arabic science fiction short stories. ISBN 9953449732, ASIN B09ZQVK4GV Longing to the Stars – حنيناً إلى النجوم. 2000. Arabic science fiction short stories. ISBN 9960364313 The Ghosts’ Hunter – صائد الأشباح. 1997. Arabic science fiction short stories. ISBN 9960317218 Co-translations Wild Cards #1 - بطاقات جامحة. Arabic translation, published by Yatakhayaloon - 2021. ASIN B09NZVHL88 Writing Tools: 50 Essential Strategies for Every Writer - أدوات الكتابة. Arabic translation, published by Takween - 2017. ISBN 9786140121560 Education Ashraf holds an undergraduate degree (with Honors) in Computer Engineering from King Fahd University of Petroleum & Minerals, a master\\'s degree in Computer Science from Texas A&M University, and a PhD degree from Queen\\'s University. His doctoral work explores performance and design issues related to hybrid wireless environments, such as the Internet of Things. Academic career Between 2013 and 2018, he was an assistant professor with the Department of Information & Computer Science at King Fahd University of Petroleum & Minerals (KFUPM). He also served as the Supervisor of University Relations & Community Outreach, and as the deputy director of the Information Technology Center in KFUPM. Dr. Fagih taught many specialized courses according to variety of concepts, including Massive Open Online Courses (MOOC), where he offered the first-ever Arab course on a MOOC platform in October 2013. References External links Ashraf Fagih\\'s Goodreads author profile List of scientific publications',\n",
       " \"John Peck is an American Marine sergeant who lost both his legs and arms during a mission in Afghanistan in 2010. He lost both legs and one arm when an Improvised explosive device he stepped on exploded; while recovering in the hospital, an infection forced amputation of his remaining arm. He successfully underwent a ground-breaking bilateral arm transplant in August 2016.Peck wrote a book, Rebuilding Sergeant Peck: How I Put Body and Soul Back Together After Afghanistan, that was released on May 7, 2019. Also a documentary was made about him.In 2021, Our Life released a documentary, The Man with Another Man's Arms, following Peck's recovery from bilateral arm transplant on YouTube. The video received over 5,000,000 views within its first year. He was also named Military Times Veteran of the Year for 2021. References \",\n",
       " \"Maurits Sabbe, born Maurice Charles Marie Guillaume Sabbe (Bruges, 9 February 1873 – Antwerp, 12 February 1938), was a Flemish man of letters and educator who became curator of the Plantin-Moretus Museum in Antwerp. Life He was a son of Julius Sabbe and the eldest of seven children. He grew up in Bruges, going to school there, and studied philology at the University of Ghent, obtaining a doctorate in 1896 with a thesis on Jan Luyken. He became a secondary school teacher, working at a number of different establishments. In 1899 he married Gabriëlla De Smet. From 1903 to 1919 he taught at the Koninklijk Atheneum in Mechelen, also providing Dutch classes at the Royal Conservatoire Antwerp from 1907.In 1919 he was appointed curator of the Plantin-Moretus Museum. During this period he published on the Plantin Press, the Verdussen family, and the poetry and pamphleteering of the 16th and 17th centuries. From 1923 to 1937 he was professor of Dutch literature at the Université Libre de Bruxelles, in succession to August Vermeylen. He died in Antwerp on 12 February 1938 and was buried at the Schoonselhof Cemetery in Antwerp. A statue of him, unveiled in 1950, stands at the Sashuis near the Minnewater in Bruges. Honours 1920 : Officer in the Order of the Crown. Writings Peter Benoit (1892) Aan 't Minnewater : drie schetsen uit het Brugse leven (1893) Een mei van vroomheid (1903) Vlaamsche mensen (1907) De filosofoof van 't sashuis (1907) Het proza in de Vlaamse letterkunde (1909) Een Schutsgeest (1909) De nood der Bariseeles (1912) Bietje (1913) Caritate (1914) In t gedrang. Vertellingen uit den oorlog (1915) De toneelles (1917) t Pastorke van Schaerdycke (1919) t Kwartet der Jacobijnen (1920) Wat Oud-Vlaanderen zong (1920) Letterkundige verscheidenheden (1928) De muziek in Vlaanderen (1928) Brabant in 't verweer: bijdrage tot de studie der Zuid-Nederlandse strijdliteratuur in de eerste helft der 17e eeuw (1933) Peilingen (1935) De meesters van de gulden passer: Christoffel Plantin, aartsdrukker van Philips II, en zijn opvolgers, de Moretussen (1937) De vorstinnen van Brugge (naar de vertellingen van M. Sabbe, door Maurits Balfoort (1973) Avondbede Bernardus en de cisterciënzerfamilie in België Briefwisseling van de gebroeders Verdussen De minderbroeders en de oude Leuvense universiteit De oorlogstribulatiën van Meneer Van Poppel De oude harpspeelster De Plantijnsche werkstede Drie liederen in volkstrant Eeuwzang ter gelegenheid van de honderste verjaring van België's onafhankelijkheid Handschriften en vroegdrukken Het kerkske van te lande Het leven en de werken van Michiel de Swaen Het lied van onze klokken Hoe Stientje uit den Anker gevrijd werd Hooggetij: vaderlandsche kindercantate voor koren en symfonisch orkest Huldebetoon van Mr. Louis Franck Ik heb U gezien In de kriekentijd (Poëzie van) Julius en Maurits Sabbe Lenteliedje Melsens kruis Mozaiek: verspreide opstellen Oud Antwerpen : kerken en kloosters Oud België Peeter Heyns en de nimfen Philemons dans om de bruid Pluk de dag Stichtelyck ende vermakelyck proces tussen dry edellieden 't Is in U, zoetste lief Uit den taalstrijd in Zuid-Nederland tussen 1815–1830 Van den mulder en de mulderin Zonnestralen References \",\n",
       " \"Jonathan Northcroft is a Scottish sports journalist and author. He is currently the Chief Football Writer for The Sunday Times. Education Northcroft first attended Newtonhill Primary School, where he regularly turned class writing assignments into yet another opportunity to write on football. His earliest effort came at the age of six with his review of the 1978 FIFA World Cup, entitled 'The Caterpillar Who Went to Argentina'. For his Secondary schooling he went to Mackie Academy, Stonehaven, where he left as Dux in 1990. Northcroft graduated with an MA in English literature from the University of Edinburgh in 1993. He then completed a postgraduate diploma in journalism at the Scottish Centre for Journalism Studies. Career Northcroft began his career as a trainee news reporter at The Herald in 1995 before he joined Scotland on Sunday. He also wrote for several other publications including The Independent before he was appointed Scottish Football Correspondent by The Sunday Times in 1998. He was promoted to Northern Football Correspondent in 2001 and then Chief Football Correspondent for The Sunday Times in 2009. Since his appointment, he has authored several notable books, including Manchester United Opus, which he co-wrote with Hugh McIlvanney, Patrick Barclay and Jim White amongst others.The book gained widespread notability after a copy signed by the Prime Minister and ruler of Dubai, Sheikh Mohammed bin Rashid al-Maktoum was sold at auction for $1.6m, which was a world record price for a sporting publication.Northcroft then wrote Fearless: How Leicester City Shook the Premier League and What it Means For Sport after Leicester City's surprise Premier League victory in 2016, and Deadlines, and Darts with Dele after he lost a game of darts against England midfielder Dele Alli during the 2018 FIFA World Cup in Russia.He regularly appears on broadcast networks as a pundit, including Sky Sports Sunday Supplement, BT Sport programme Football Writers on TV, BBC Radio 5 live, RTÉ Radio 1 show Today with Seán O'Rourke, as well numerous appearances on The Times own The Game podcast.On 10 October 2018 Northcroft was included in a list of the 238 most respected journalists working in Britain as published by the National Council for the Training of Journalists. Awards Northcroft was the inaugural winner of the Jim Rodger Memorial Award for young sports writers in Scotland. During his career at The Sunday Times, he was shortlisted for Feature Writer of the Year at the British Sports Journalism Awards in 2006 and for Football Writer of the Year in 2016 and 2018. He was nominated for Best New Writer at the 2017 British Sports Book Awards, and nominated for Writer of the Year at the 2018 Football Supporters Federation Awards. Personal life Since childhood Northcroft has been a supporter of Aberdeen FC. He followed the team while Alex Ferguson was manager. He grew up in a sporting household and was encouraged from an early age to take an active interest in football and cricket. As a footballer her became a valued regular midfielder for Stonehaven Juveniles and then Edinburgh University. In his professional life he has appeared many times for the Scottish Journalists' Eleven and was once 'Man of the Match' at Wembley when his team triumphed over their English counterparts. For his cricket he appeared for Aberdeen Colts and also for his father's team in Aberdeen, Balmoral CC. As an adult he was a regular for Sefton Sunday Elevens in Liverpool, where he acted as a consistent if underachieving, batsman, succeeding in getting into the forties many times but never managing to go any further. He was present to witness Botham's Headingley 'Miracle' in 1981. He now lives in Leicester, is married to Jan and is father to two daughters. References \"]"
      ]
     },
     "execution_count": 13,
     "metadata": {},
     "output_type": "execute_result"
    }
   ],
   "source": [
    "texts[:5]"
   ]
  },
  {
   "cell_type": "markdown",
   "metadata": {},
   "source": [
    "# Sentence segmentation"
   ]
  },
  {
   "cell_type": "markdown",
   "metadata": {},
   "source": [
    "For our selected 100 articles we will perform sentence tokenization using Spacy and Stanza.\n",
    "Each file will be separated into sentences separately."
   ]
  },
  {
   "cell_type": "code",
   "execution_count": 14,
   "metadata": {},
   "outputs": [],
   "source": [
    "spacy_sents = [spacy_get_sents(x) for x in texts]"
   ]
  },
  {
   "cell_type": "code",
   "execution_count": 15,
   "metadata": {},
   "outputs": [],
   "source": [
    "# To run for the first time Stanza tokenization:\n",
    "\"\"\" \n",
    "stanza_sents = [stanza_get_sents(x) for x in texts]\n",
    "with open('SpacyStanza/stanza_sents.pickle', 'wb') as f:\n",
    "    pickle.dump(stanza_sents, f))\n",
    "\n",
    "\"\"\"\n",
    "\n",
    "# To load Stanza tokens from a pickle file\n",
    "\n",
    "with open('SpacyStanza/stanza_sents.pickle', 'rb') as f:\n",
    "    stanza_sents = pickle.load(f)"
   ]
  },
  {
   "cell_type": "markdown",
   "metadata": {},
   "source": [
    "We can now show the number of sentences calculated by each library for our articles:"
   ]
  },
  {
   "cell_type": "code",
   "execution_count": 16,
   "metadata": {},
   "outputs": [
    {
     "data": {
      "text/html": [
       "<div>\n",
       "<style scoped>\n",
       "    .dataframe tbody tr th:only-of-type {\n",
       "        vertical-align: middle;\n",
       "    }\n",
       "\n",
       "    .dataframe tbody tr th {\n",
       "        vertical-align: top;\n",
       "    }\n",
       "\n",
       "    .dataframe thead th {\n",
       "        text-align: right;\n",
       "    }\n",
       "</style>\n",
       "<table border=\"1\" class=\"dataframe\">\n",
       "  <thead>\n",
       "    <tr style=\"text-align: right;\">\n",
       "      <th></th>\n",
       "      <th>Spacy</th>\n",
       "      <th>Stanza</th>\n",
       "    </tr>\n",
       "  </thead>\n",
       "  <tbody>\n",
       "    <tr>\n",
       "      <th>0</th>\n",
       "      <td>107</td>\n",
       "      <td>95</td>\n",
       "    </tr>\n",
       "    <tr>\n",
       "      <th>1</th>\n",
       "      <td>37</td>\n",
       "      <td>33</td>\n",
       "    </tr>\n",
       "    <tr>\n",
       "      <th>2</th>\n",
       "      <td>8</td>\n",
       "      <td>9</td>\n",
       "    </tr>\n",
       "    <tr>\n",
       "      <th>3</th>\n",
       "      <td>35</td>\n",
       "      <td>27</td>\n",
       "    </tr>\n",
       "    <tr>\n",
       "      <th>4</th>\n",
       "      <td>28</td>\n",
       "      <td>29</td>\n",
       "    </tr>\n",
       "    <tr>\n",
       "      <th>...</th>\n",
       "      <td>...</td>\n",
       "      <td>...</td>\n",
       "    </tr>\n",
       "    <tr>\n",
       "      <th>95</th>\n",
       "      <td>32</td>\n",
       "      <td>30</td>\n",
       "    </tr>\n",
       "    <tr>\n",
       "      <th>96</th>\n",
       "      <td>21</td>\n",
       "      <td>11</td>\n",
       "    </tr>\n",
       "    <tr>\n",
       "      <th>97</th>\n",
       "      <td>18</td>\n",
       "      <td>17</td>\n",
       "    </tr>\n",
       "    <tr>\n",
       "      <th>98</th>\n",
       "      <td>7</td>\n",
       "      <td>7</td>\n",
       "    </tr>\n",
       "    <tr>\n",
       "      <th>99</th>\n",
       "      <td>24</td>\n",
       "      <td>22</td>\n",
       "    </tr>\n",
       "  </tbody>\n",
       "</table>\n",
       "<p>100 rows × 2 columns</p>\n",
       "</div>"
      ],
      "text/plain": [
       "    Spacy  Stanza\n",
       "0     107      95\n",
       "1      37      33\n",
       "2       8       9\n",
       "3      35      27\n",
       "4      28      29\n",
       "..    ...     ...\n",
       "95     32      30\n",
       "96     21      11\n",
       "97     18      17\n",
       "98      7       7\n",
       "99     24      22\n",
       "\n",
       "[100 rows x 2 columns]"
      ]
     },
     "execution_count": 16,
     "metadata": {},
     "output_type": "execute_result"
    }
   ],
   "source": [
    "sents_df = pd.DataFrame(columns=['Spacy', 'Stanza'])\n",
    "\n",
    "sents_df.Spacy = list(map(lambda x: len(x), spacy_sents))\n",
    "sents_df.Stanza = list(map(lambda x: len(x), stanza_sents))\n",
    "\n",
    "sents_df"
   ]
  },
  {
   "cell_type": "markdown",
   "metadata": {},
   "source": [
    "We can look at the stats for all articles, it appears that Spacy on average finds more sentences:"
   ]
  },
  {
   "cell_type": "code",
   "execution_count": 17,
   "metadata": {},
   "outputs": [
    {
     "data": {
      "text/html": [
       "<div>\n",
       "<style scoped>\n",
       "    .dataframe tbody tr th:only-of-type {\n",
       "        vertical-align: middle;\n",
       "    }\n",
       "\n",
       "    .dataframe tbody tr th {\n",
       "        vertical-align: top;\n",
       "    }\n",
       "\n",
       "    .dataframe thead th {\n",
       "        text-align: right;\n",
       "    }\n",
       "</style>\n",
       "<table border=\"1\" class=\"dataframe\">\n",
       "  <thead>\n",
       "    <tr style=\"text-align: right;\">\n",
       "      <th></th>\n",
       "      <th>Spacy</th>\n",
       "      <th>Stanza</th>\n",
       "    </tr>\n",
       "  </thead>\n",
       "  <tbody>\n",
       "    <tr>\n",
       "      <th>count</th>\n",
       "      <td>100.000000</td>\n",
       "      <td>100.000000</td>\n",
       "    </tr>\n",
       "    <tr>\n",
       "      <th>mean</th>\n",
       "      <td>30.770000</td>\n",
       "      <td>28.230000</td>\n",
       "    </tr>\n",
       "    <tr>\n",
       "      <th>std</th>\n",
       "      <td>26.211978</td>\n",
       "      <td>24.465129</td>\n",
       "    </tr>\n",
       "    <tr>\n",
       "      <th>min</th>\n",
       "      <td>3.000000</td>\n",
       "      <td>3.000000</td>\n",
       "    </tr>\n",
       "    <tr>\n",
       "      <th>25%</th>\n",
       "      <td>13.000000</td>\n",
       "      <td>11.000000</td>\n",
       "    </tr>\n",
       "    <tr>\n",
       "      <th>50%</th>\n",
       "      <td>25.000000</td>\n",
       "      <td>21.500000</td>\n",
       "    </tr>\n",
       "    <tr>\n",
       "      <th>75%</th>\n",
       "      <td>37.000000</td>\n",
       "      <td>33.250000</td>\n",
       "    </tr>\n",
       "    <tr>\n",
       "      <th>max</th>\n",
       "      <td>155.000000</td>\n",
       "      <td>143.000000</td>\n",
       "    </tr>\n",
       "  </tbody>\n",
       "</table>\n",
       "</div>"
      ],
      "text/plain": [
       "            Spacy      Stanza\n",
       "count  100.000000  100.000000\n",
       "mean    30.770000   28.230000\n",
       "std     26.211978   24.465129\n",
       "min      3.000000    3.000000\n",
       "25%     13.000000   11.000000\n",
       "50%     25.000000   21.500000\n",
       "75%     37.000000   33.250000\n",
       "max    155.000000  143.000000"
      ]
     },
     "execution_count": 17,
     "metadata": {},
     "output_type": "execute_result"
    }
   ],
   "source": [
    "sents_df.describe()"
   ]
  },
  {
   "cell_type": "markdown",
   "metadata": {},
   "source": [
    "Below we can see the total number of sentences recognized by the both libraries:"
   ]
  },
  {
   "cell_type": "code",
   "execution_count": 18,
   "metadata": {},
   "outputs": [
    {
     "data": {
      "text/plain": [
       "Spacy     3077\n",
       "Stanza    2823\n",
       "dtype: int64"
      ]
     },
     "execution_count": 18,
     "metadata": {},
     "output_type": "execute_result"
    }
   ],
   "source": [
    "sents_df.sum()"
   ]
  },
  {
   "cell_type": "markdown",
   "metadata": {},
   "source": [
    "We can notice that overall Stanza splits into sentences less frequently than Spacy does.\n",
    "\n",
    "_____________"
   ]
  },
  {
   "cell_type": "markdown",
   "metadata": {},
   "source": [
    "Now we can find all unique sentences that both recognize.\n",
    "First we can look at the number shared sentences per article:"
   ]
  },
  {
   "cell_type": "code",
   "execution_count": 19,
   "metadata": {},
   "outputs": [
    {
     "data": {
      "text/html": [
       "<div>\n",
       "<style scoped>\n",
       "    .dataframe tbody tr th:only-of-type {\n",
       "        vertical-align: middle;\n",
       "    }\n",
       "\n",
       "    .dataframe tbody tr th {\n",
       "        vertical-align: top;\n",
       "    }\n",
       "\n",
       "    .dataframe thead th {\n",
       "        text-align: right;\n",
       "    }\n",
       "</style>\n",
       "<table border=\"1\" class=\"dataframe\">\n",
       "  <thead>\n",
       "    <tr style=\"text-align: right;\">\n",
       "      <th></th>\n",
       "      <th>shared_sents</th>\n",
       "      <th>count</th>\n",
       "    </tr>\n",
       "  </thead>\n",
       "  <tbody>\n",
       "    <tr>\n",
       "      <th>0</th>\n",
       "      <td>{They mustn't attempt to please., In 1941 she ...</td>\n",
       "      <td>68</td>\n",
       "    </tr>\n",
       "    <tr>\n",
       "      <th>1</th>\n",
       "      <td>{He has been an invitee to numerous events on ...</td>\n",
       "      <td>24</td>\n",
       "    </tr>\n",
       "    <tr>\n",
       "      <th>2</th>\n",
       "      <td>{John Peck is an American Marine sergeant who ...</td>\n",
       "      <td>7</td>\n",
       "    </tr>\n",
       "    <tr>\n",
       "      <th>3</th>\n",
       "      <td>{A statue of him, unveiled in 1950, stands at ...</td>\n",
       "      <td>12</td>\n",
       "    </tr>\n",
       "    <tr>\n",
       "      <th>4</th>\n",
       "      <td>{Northcroft graduated with an MA in English li...</td>\n",
       "      <td>27</td>\n",
       "    </tr>\n",
       "    <tr>\n",
       "      <th>...</th>\n",
       "      <td>...</td>\n",
       "      <td>...</td>\n",
       "    </tr>\n",
       "    <tr>\n",
       "      <th>95</th>\n",
       "      <td>{According to Yehuda Marton, an Israeli-Hungar...</td>\n",
       "      <td>26</td>\n",
       "    </tr>\n",
       "    <tr>\n",
       "      <th>96</th>\n",
       "      <td>{In Aghmat, in the year 1190, he wrote a Talmu...</td>\n",
       "      <td>10</td>\n",
       "    </tr>\n",
       "    <tr>\n",
       "      <th>97</th>\n",
       "      <td>{Sir John Jervis White Jervis, 1st Baronet (17...</td>\n",
       "      <td>12</td>\n",
       "    </tr>\n",
       "    <tr>\n",
       "      <th>98</th>\n",
       "      <td>{Notes, From 1968 to 1987, he was rector of Ch...</td>\n",
       "      <td>7</td>\n",
       "    </tr>\n",
       "    <tr>\n",
       "      <th>99</th>\n",
       "      <td>{Daoviang Butnakho (Lao: ດາວວຽງ ບຸດນາໂຄ, also ...</td>\n",
       "      <td>17</td>\n",
       "    </tr>\n",
       "  </tbody>\n",
       "</table>\n",
       "<p>100 rows × 2 columns</p>\n",
       "</div>"
      ],
      "text/plain": [
       "                                         shared_sents  count\n",
       "0   {They mustn't attempt to please., In 1941 she ...     68\n",
       "1   {He has been an invitee to numerous events on ...     24\n",
       "2   {John Peck is an American Marine sergeant who ...      7\n",
       "3   {A statue of him, unveiled in 1950, stands at ...     12\n",
       "4   {Northcroft graduated with an MA in English li...     27\n",
       "..                                                ...    ...\n",
       "95  {According to Yehuda Marton, an Israeli-Hungar...     26\n",
       "96  {In Aghmat, in the year 1190, he wrote a Talmu...     10\n",
       "97  {Sir John Jervis White Jervis, 1st Baronet (17...     12\n",
       "98  {Notes, From 1968 to 1987, he was rector of Ch...      7\n",
       "99  {Daoviang Butnakho (Lao: ດາວວຽງ ບຸດນາໂຄ, also ...     17\n",
       "\n",
       "[100 rows x 2 columns]"
      ]
     },
     "execution_count": 19,
     "metadata": {},
     "output_type": "execute_result"
    }
   ],
   "source": [
    "# Make a set of unique sentences for each article for both Spacy and Stanza.\n",
    "# Find the intersection = these are sentences recognized by both libraries.\n",
    "\n",
    "shared_sents_per_article = list(map(lambda x,y: set(x).intersection(set(y)), spacy_sents, stanza_sents))\n",
    "\n",
    "shared_sents_per_article_df = pd.DataFrame(columns=['shared_sents', 'count'])\n",
    "shared_sents_per_article_df['shared_sents'] = shared_sents_per_article\n",
    "shared_sents_per_article_df['count'] = [len(x) for x in shared_sents_per_article]\n",
    "shared_sents_per_article_df"
   ]
  },
  {
   "cell_type": "markdown",
   "metadata": {},
   "source": [
    "Below is the overall count of shared sentences:"
   ]
  },
  {
   "cell_type": "code",
   "execution_count": 20,
   "metadata": {},
   "outputs": [
    {
     "name": "stdout",
     "output_type": "stream",
     "text": [
      "\n",
      "    Total Spacy sentences: 3077\n",
      "    Total Stanza sentences: 2823\n",
      "    Shared sentences: 2263\n",
      "    Percentage of shared sentences for Spacy: 73.55%\n",
      "    Percentage of shared sentences for Stanza: 80.16%\n"
     ]
    }
   ],
   "source": [
    "total_sp_sent = sents_df.sum()['Spacy']\n",
    "total_st_sent = sents_df.sum()['Stanza']\n",
    "total_shared = shared_sents_per_article_df['count'].sum()\n",
    "\n",
    "print(f\"\"\"\n",
    "    Total Spacy sentences: {total_sp_sent}\n",
    "    Total Stanza sentences: {total_st_sent}\n",
    "    Shared sentences: {total_shared}\n",
    "    Percentage of shared sentences for Spacy: {100*total_shared/total_sp_sent:.2f}%\n",
    "    Percentage of shared sentences for Stanza: {100*total_shared/total_st_sent:.2f}%\"\"\")"
   ]
  },
  {
   "cell_type": "markdown",
   "metadata": {},
   "source": [
    "We can also have a look at what different articles both libraries found looking at the first mismatched sentence pair \n",
    "for each article:"
   ]
  },
  {
   "cell_type": "code",
   "execution_count": 21,
   "metadata": {},
   "outputs": [
    {
     "name": "stdout",
     "output_type": "stream",
     "text": [
      "Article: 0\n",
      "\n",
      "\n",
      "Spacy sentence: She danced also in Hobart's Opera And Ballet Festival for International Week in 1945.Intending to develop land and to pursue their artistic interests, they moved to Mungo Brush in the Myall Lakes, New South Wales, in 1951 or 1954, living a subsistence existence from prawn fishing and trading their home-grown produce, and were appointed Honorary Rangers there in 1955 under the Wild Flowers and Native Plants Protection Act. \n",
      "\n",
      "Stanza sentence: She danced also in Hobart's Opera And Ballet Festival for International Week in 1945.\n",
      "_______________\n",
      "Article: 1\n",
      "\n",
      "\n",
      "Spacy sentence: ISBN 9782844096265, \n",
      "\n",
      "Stanza sentence: ISBN 9782844096265, ASIN B07TTX6ZHQ\n",
      "_______________\n",
      "Article: 2\n",
      "\n",
      "\n",
      "Spacy sentence: He successfully underwent a ground-breaking bilateral arm transplant in August 2016.Peck wrote a book, Rebuilding Sergeant Peck: How I Put Body and Soul Back Together After Afghanistan, that was released on May 7, 2019. \n",
      "\n",
      "Stanza sentence: He successfully underwent a ground-breaking bilateral arm transplant in August 2016.\n",
      "_______________\n",
      "Article: 3\n",
      "\n",
      "\n",
      "Spacy sentence: Life He was a son of Julius Sabbe and the eldest of seven children. \n",
      "\n",
      "Stanza sentence: Life\n",
      "_______________\n",
      "Article: 4\n",
      "\n",
      "\n",
      "Spacy sentence: In his professional life he has appeared many times for the Scottish Journalists' Eleven and was once 'Man of the Match' at Wembley when his team triumphed over their English counterparts. \n",
      "\n",
      "Stanza sentence: In his professional life he has appeared many times for the Scottish Journalists'\n",
      "_______________\n",
      "Article: 5\n",
      "\n",
      "\n",
      "Spacy sentence: Her latest book, A Colony of Strangers: The founding and early history of Clifden, was published in 2012. \n",
      "\n",
      "Stanza sentence: Her latest book, A Colony of Strangers:\n",
      "_______________\n",
      "Article: 6\n",
      "\n",
      "\n",
      "Spacy sentence: Career As a writer, Cruz has received recognition for his contributions to Philippine literature, including more than thirty books. \n",
      "\n",
      "Stanza sentence: Career\n",
      "_______________\n",
      "Article: 7\n",
      "\n",
      "\n",
      "Spacy sentence: Given its generally disappointing results, the body declined in importance, although Threlfall remained its Secretary until it was wound up, in 1895.Threlfall was subsequently appointed as a magistrate in Southport. \n",
      "\n",
      "Stanza sentence: Given its generally disappointing results, the body declined in importance, although Threlfall remained its Secretary until it was wound up, in 1895.\n",
      "_______________\n",
      "Article: 8\n",
      "\n",
      "\n",
      "Text segmentized into sentences in the same way.\n",
      "_______________\n",
      "Article: 9\n",
      "\n",
      "\n",
      "Spacy sentence: Separated from Dave in a bustling street, she fell and twisted her ankle, only to be swept up by a young handsome, chivalrous Egyptian. \n",
      "\n",
      "Stanza sentence: Separated from\n",
      "_______________\n",
      "Article: 10\n",
      "\n",
      "\n",
      "Spacy sentence: Works in English From Wŏnso Pond (Feminist Press 2009) \n",
      "\n",
      "Stanza sentence: Works in English From Wŏnso Pond (Feminist Press 2009) ISBN 978-1-55861-601-1\n",
      "_______________\n",
      "Article: 11\n",
      "\n",
      "\n",
      "Spacy sentence: Family During this tour, White met her future husband, Bruce M. White, a mine owner and developer. \n",
      "\n",
      "Stanza sentence: Family During this tour,\n",
      "_______________\n",
      "Article: 12\n",
      "\n",
      "\n",
      "Spacy sentence: Life The son of Richard Owen, a jeweller of Old Street, London, he entered St Paul's School on 18 October 1777. \n",
      "\n",
      "Stanza sentence: Life\n",
      "_______________\n",
      "Article: 13\n",
      "\n",
      "\n",
      "Text segmentized into sentences in the same way.\n",
      "_______________\n",
      "Article: 14\n",
      "\n",
      "\n",
      "Spacy sentence: Works \"Critical study: Problems of the secret self in the Saudi women's novels (1999–2012)\" (Arabic title: I'shkaliyat Al-that Al-saridah \n",
      "\n",
      "Stanza sentence: Works \"Critical study: Problems of the secret self in the Saudi women's novels (1999–2012)\" (Arabic title: I'shkaliyat Al-that Al-saridah fe Al-riwayat Al-nisa'eyah Al-saudiyah), published by Arab Scientific Publishers in 2020, and the book \"The phenomenon of leaving in the Saudi short story- an artistic study\" (Arabic title: Thahirat Al-raheal fe Al-Qisah Al-Qasirah fi Al-mamlakah Al-Arabia Al-Saudiyah- Dirasah Faniyah), published by Al-Jouf Literary Club and Arab Diffusion Company in 2013.\n",
      "_______________\n",
      "Article: 15\n",
      "\n",
      "\n",
      "Spacy sentence: Writings Dust Owuor's 2014 novel Dust portrays the violent history of Kenya in the second half of the 20th century. \n",
      "\n",
      "Stanza sentence: Writings Dust Owuor's 2014 novel\n",
      "_______________\n",
      "Article: 16\n",
      "\n",
      "\n",
      "Spacy sentence: Background and education She was born in Mparo in present-day Rukiga District, in the Western Region of Uganda. \n",
      "\n",
      "Stanza sentence: Background and education\n",
      "_______________\n",
      "Article: 17\n",
      "\n",
      "\n",
      "Spacy sentence: Views In one profile, her views were described as follows: “The political figure Andrews most admires is Marine Le Pen, the leader of France's far-right National Front party, but Trump is not far behind in her estimation. \n",
      "\n",
      "Stanza sentence: Views\n",
      "_______________\n",
      "Article: 18\n",
      "\n",
      "\n",
      "Spacy sentence: Among his works, The Merchant of Joseon (Sangdo, 상도) and Emperor of The Sea (Haeshin, 해신) were dramatized and aired by MBC and KBS in 2001 and 2004, respectively, which won popularity not only among Koreans but also viewers across the globe. \n",
      "\n",
      "Stanza sentence: Among his works,\n",
      "_______________\n",
      "Article: 19\n",
      "\n",
      "\n",
      "Spacy sentence: Career He was also the faculty of the Quaid-e-Azam University, Islamabad. \n",
      "\n",
      "Stanza sentence: Career\n",
      "_______________\n"
     ]
    }
   ],
   "source": [
    "def get_first_mismatched_sent_pair(sp_sents, st_sents):\n",
    "    n = len(sp_sents)\n",
    "    m = len(st_sents)\n",
    "    \n",
    "    # Go through the array of sentences for both Spacy and Stanza till the end of smallest of them.\n",
    "    for i in range(min(n, m)):\n",
    "        # When we reach the first mismatch, print the sentences.\n",
    "        if sp_sents[i] != st_sents[i]:\n",
    "            print(f'Spacy sentence: {sp_sents[i]} \\n\\n'\n",
    "            f'Stanza sentence: {st_sents[i]}\\n'\n",
    "            '_______________')\n",
    "            return sp_sents[i], st_sents[i]\n",
    "    \n",
    "    # If there was no mismatch during the array traversal, then all the sentences were tokenized together.\n",
    "    print('Text segmentized into sentences in the same way.\\n_______________')\n",
    "    return None\n",
    "\n",
    "for i, pair in list(enumerate(zip(spacy_sents, stanza_sents)))[:20]:\n",
    "    print(f'Article: {i}\\n\\n')\n",
    "    get_first_mismatched_sent_pair(pair[0], pair[1])"
   ]
  },
  {
   "cell_type": "markdown",
   "metadata": {},
   "source": [
    "From the sample we see above we can note the following behavior for sentence tokenization for Spacy and Stanza:\n",
    "- If there is a missing space before a period, separating sentences, Stanza seems to perform sentence segmentation better, e.g `Article 0, 2, 7, 24`...\n",
    "- In our source material some sections have a title which is not punctuated. Stanza appears to recognize such cases as a separate sentence (correct) more frequently, e.g. `Article 3, 6, 12, 16, 17, 19`...\n",
    "- However, Stanza seems to be incorrectly splitting a sentence more frequently if there is a punctuation sign followed by a capital letter, e.g. `Article 4, 5, 9, 11, 15, 18`...\n",
    "- Both libraries struggle (as expected) with sententences that have a lot of non-English words or the input string is not a correct sentence."
   ]
  },
  {
   "cell_type": "markdown",
   "metadata": {},
   "source": [
    "______________________"
   ]
  },
  {
   "cell_type": "markdown",
   "metadata": {},
   "source": [
    "Now we can form a list of shared sentences for all articles combined:"
   ]
  },
  {
   "cell_type": "code",
   "execution_count": 22,
   "metadata": {},
   "outputs": [],
   "source": [
    "# Convert the sets into arrays and then flatted the 2 array into 1-d array using numpy.concatenate\n",
    "\n",
    "shared_sents = np.concatenate(list(map(lambda x: list(x), shared_sents_per_article)))"
   ]
  },
  {
   "cell_type": "code",
   "execution_count": 23,
   "metadata": {},
   "outputs": [
    {
     "data": {
      "text/plain": [
       "array([\"They mustn't attempt to please.\",\n",
       "       'In 1941 she was the organiser of a National Fitness Camp for girls at Broken Bay, New South Wales.',\n",
       "       'Guy Boyd.',\n",
       "       'Shortly before her death Von Bertouch bequeathed a total of 136 works from her personal collection to the Newcastle Region Art Gallery, the biggest art collection bestowed to it in 58 years and valued in the millions of dollars; they were exhibited there in March 2003.',\n",
       "       'She was loved very much by all.\"'], dtype='<U592')"
      ]
     },
     "execution_count": 23,
     "metadata": {},
     "output_type": "execute_result"
    }
   ],
   "source": [
    "shared_sents[:5]"
   ]
  },
  {
   "cell_type": "markdown",
   "metadata": {},
   "source": [
    "We can now store the shared sentences into a separate DataFrame and into its own CSV-file:"
   ]
  },
  {
   "cell_type": "code",
   "execution_count": 24,
   "metadata": {},
   "outputs": [
    {
     "data": {
      "text/html": [
       "<div>\n",
       "<style scoped>\n",
       "    .dataframe tbody tr th:only-of-type {\n",
       "        vertical-align: middle;\n",
       "    }\n",
       "\n",
       "    .dataframe tbody tr th {\n",
       "        vertical-align: top;\n",
       "    }\n",
       "\n",
       "    .dataframe thead th {\n",
       "        text-align: right;\n",
       "    }\n",
       "</style>\n",
       "<table border=\"1\" class=\"dataframe\">\n",
       "  <thead>\n",
       "    <tr style=\"text-align: right;\">\n",
       "      <th></th>\n",
       "      <th>Sentence</th>\n",
       "    </tr>\n",
       "  </thead>\n",
       "  <tbody>\n",
       "    <tr>\n",
       "      <th>0</th>\n",
       "      <td>Anne Von Bertouch, (29 June 1915 – 31 March 20...</td>\n",
       "    </tr>\n",
       "    <tr>\n",
       "      <th>1</th>\n",
       "      <td>ISBN 978-0-9592824-1-2. OCLC 27623615.</td>\n",
       "    </tr>\n",
       "    <tr>\n",
       "      <th>2</th>\n",
       "      <td>Von Bertouch, Anne (1983).</td>\n",
       "    </tr>\n",
       "    <tr>\n",
       "      <th>3</th>\n",
       "      <td>The terraces were purchased by Dr Dick Lees fo...</td>\n",
       "    </tr>\n",
       "    <tr>\n",
       "      <th>4</th>\n",
       "      <td>What was it before it was a gallery?.</td>\n",
       "    </tr>\n",
       "    <tr>\n",
       "      <th>...</th>\n",
       "      <td>...</td>\n",
       "    </tr>\n",
       "    <tr>\n",
       "      <th>2258</th>\n",
       "      <td>In popular culture In 1999, Komphet Phorncharo...</td>\n",
       "    </tr>\n",
       "    <tr>\n",
       "      <th>2259</th>\n",
       "      <td>In 1996, Butnakho started to write songs in th...</td>\n",
       "    </tr>\n",
       "    <tr>\n",
       "      <th>2260</th>\n",
       "      <td>The melody came from the pattern of \"Sao Simue...</td>\n",
       "    </tr>\n",
       "    <tr>\n",
       "      <th>2261</th>\n",
       "      <td>In 2007, Isan music became very popular in Lao...</td>\n",
       "    </tr>\n",
       "    <tr>\n",
       "      <th>2262</th>\n",
       "      <td>He has eleven siblings.</td>\n",
       "    </tr>\n",
       "  </tbody>\n",
       "</table>\n",
       "<p>2263 rows × 1 columns</p>\n",
       "</div>"
      ],
      "text/plain": [
       "                                               Sentence\n",
       "0     Anne Von Bertouch, (29 June 1915 – 31 March 20...\n",
       "1                ISBN 978-0-9592824-1-2. OCLC 27623615.\n",
       "2                            Von Bertouch, Anne (1983).\n",
       "3     The terraces were purchased by Dr Dick Lees fo...\n",
       "4                 What was it before it was a gallery?.\n",
       "...                                                 ...\n",
       "2258  In popular culture In 1999, Komphet Phorncharo...\n",
       "2259  In 1996, Butnakho started to write songs in th...\n",
       "2260  The melody came from the pattern of \"Sao Simue...\n",
       "2261  In 2007, Isan music became very popular in Lao...\n",
       "2262                            He has eleven siblings.\n",
       "\n",
       "[2263 rows x 1 columns]"
      ]
     },
     "execution_count": 24,
     "metadata": {},
     "output_type": "execute_result"
    }
   ],
   "source": [
    "# Run to generate the DataFrame for this time\n",
    "\"\"\"\n",
    "shared_sents_df = pd.DataFrame(columns=['Sentence'])\n",
    "shared_sents_df.Sentence = shared_sents\n",
    "\"\"\"\n",
    "\n",
    "shared_sents_df = pd.read_csv('SpacyStanza/spacy_stanza_shared_sents.csv', index_col=0)\n",
    "shared_sents_df "
   ]
  },
  {
   "cell_type": "markdown",
   "metadata": {},
   "source": [
    "# Tokenization"
   ]
  },
  {
   "cell_type": "markdown",
   "metadata": {},
   "source": [
    "For the experiment below we will use all the tokens returned by Spacy and Stanza, without filtering any punctuation or spaces.\n",
    "\n",
    "However, prior to all the analysis texts were cleaned: we removed linebreaks, tabulation and special characters like `|`, `^`, `<`, `>`, `+`, and `=`. These symbols were not returned when we requested the original texts.\n",
    "\n",
    "We will do the final step of preprocessing and lowercase the text in order to avoid the same word being in vocabulary twice: for different spelling when it's in the beginning or in the middle of a sentence.\n",
    "\n",
    "For our experiment we will take only the sentences that were previously segmented in the same way by Spacy and Stanza.\n",
    "For **SharedTokensNosentences** we will stich all the sentences together and separate them by spaces. For **SharedTokensInSentences** we will apply tokenization on the sentences from `shared_sents_df` above."
   ]
  },
  {
   "cell_type": "code",
   "execution_count": 25,
   "metadata": {},
   "outputs": [],
   "source": [
    "shared_sents_lower = [s.lower() for s in shared_sents_df.Sentence]"
   ]
  },
  {
   "cell_type": "code",
   "execution_count": 26,
   "metadata": {},
   "outputs": [],
   "source": [
    "shared_sents_stiched = ' '.join(shared_sents_lower)"
   ]
  },
  {
   "cell_type": "markdown",
   "metadata": {},
   "source": [
    "##  Vocabulary"
   ]
  },
  {
   "cell_type": "markdown",
   "metadata": {},
   "source": [
    "To compare vocabularies we will run the comparison on the sentences stiched together into one text."
   ]
  },
  {
   "cell_type": "code",
   "execution_count": 27,
   "metadata": {},
   "outputs": [],
   "source": [
    "# Create a set to find unique tokens only\n",
    "spacy_vocabulary = set(spacy_tokenize_text(shared_sents_stiched, no_filtering=True))"
   ]
  },
  {
   "cell_type": "code",
   "execution_count": 28,
   "metadata": {},
   "outputs": [],
   "source": [
    "# To run for the first time Stanza tokenization:\n",
    "\"\"\" \n",
    "stanza_vocabulary = set(stanza_tokenize_text(shared_sents_stiched))with open('SpacyStanza/no_sent_stanza_tokens.pickle', 'wb') as f:\n",
    "with open('SpacyStanza/stanza_vocabulary.pickle', 'wb') as f:\n",
    "    pickle.dump(stanza_vocabulary, f)\n",
    "\n",
    "\"\"\"\n",
    "\n",
    "# To load Stanza tokens from a pickle file\n",
    "\n",
    "with open('SpacyStanza/stanza_vocabulary.pickle', 'rb') as f:\n",
    "    stanza_vocabulary = pickle.load(f)"
   ]
  },
  {
   "cell_type": "code",
   "execution_count": 29,
   "metadata": {},
   "outputs": [
    {
     "name": "stdout",
     "output_type": "stream",
     "text": [
      "Spacy vocabulary size: 8488\n",
      "Stanza vocabulary size: 8526\n"
     ]
    }
   ],
   "source": [
    "print(f'Spacy vocabulary size: {len(spacy_vocabulary)}\\nStanza vocabulary size: {len(stanza_vocabulary)}')"
   ]
  },
  {
   "cell_type": "markdown",
   "metadata": {},
   "source": [
    "### Shared vocabulary"
   ]
  },
  {
   "cell_type": "markdown",
   "metadata": {},
   "source": [
    "Shared vocabulary is calculated as intersection of sets of Stanza and Spacy vocabulary:"
   ]
  },
  {
   "cell_type": "code",
   "execution_count": 30,
   "metadata": {},
   "outputs": [],
   "source": [
    "shared_vocab = spacy_vocabulary.intersection(stanza_vocabulary)"
   ]
  },
  {
   "cell_type": "code",
   "execution_count": 31,
   "metadata": {},
   "outputs": [],
   "source": [
    "shared_vocab_size = len(shared_vocab)"
   ]
  },
  {
   "cell_type": "markdown",
   "metadata": {},
   "source": [
    "Size of shared vocabulary:"
   ]
  },
  {
   "cell_type": "code",
   "execution_count": 32,
   "metadata": {},
   "outputs": [
    {
     "data": {
      "text/plain": [
       "8264"
      ]
     },
     "execution_count": 32,
     "metadata": {},
     "output_type": "execute_result"
    }
   ],
   "source": [
    "shared_vocab_size"
   ]
  },
  {
   "cell_type": "markdown",
   "metadata": {},
   "source": [
    "# <font color='red'>Please **DO NOT** rerun the cell below</font>"
   ]
  },
  {
   "cell_type": "code",
   "execution_count": 54,
   "metadata": {},
   "outputs": [
    {
     "data": {
      "text/plain": [
       "array(['moving', 'specialized', 'there', 'ekspres', 'attended', 'pune',\n",
       "       'foot', 'occasion', 'favored', '1961', '1659', 'believed', 'equal',\n",
       "       'warsaw', 'turkish', 'height', 'growing', 'c.', 'having',\n",
       "       'hinting', 'friends', 'sweetheart', 'organically', 'registry',\n",
       "       'lhadj', 'nicholas', 'judgement', 'confinement', 'argentina',\n",
       "       'pleasures', 'armidale', 'bunyan', 'immediate', 'emigrants',\n",
       "       'ṛṛays', 'blessing', 'mae', 'extinct', 'mosques', 'stockholm',\n",
       "       'stanitsa', 'matter', 'muffins', 'ceramics', 'egg', 'saitovic',\n",
       "       'tourism', 'founded', 'hospitalized', 'an'], dtype='<U19')"
      ]
     },
     "execution_count": 54,
     "metadata": {},
     "output_type": "execute_result"
    }
   ],
   "source": [
    "np.random.choice(list(shared_vocab), size=50)"
   ]
  },
  {
   "cell_type": "markdown",
   "metadata": {},
   "source": [
    "From the sample above we can observe that both libraries seem to agree on tokenizing a wide range of words:\n",
    "- Common words like `an`, `egg`, `there`, `having` are present in the shared vocabulary.\n",
    "- Foreign to English words like `bunyan`, `stanitsa`, `lhadj` are also present in the shared vocabulary.\n",
    "- We can as well see some Named Entities like dates and locations\n",
    "- We can as well see an incorrect lemma `ṛṛays` (presumably a part of `arrays`) which was produced by both libraries.\n",
    "- ..."
   ]
  },
  {
   "cell_type": "markdown",
   "metadata": {},
   "source": [
    "### Spacy-only vocabulary"
   ]
  },
  {
   "cell_type": "code",
   "execution_count": 39,
   "metadata": {},
   "outputs": [
    {
     "name": "stdout",
     "output_type": "stream",
     "text": [
      "pre, 1989–1991, awardee, 1798–1879, χρήστος, zu'bi,  , neo, 480–44, esq, 7349, 975, re, 35–6, u'uqinak'uuh, dmitrievakain, 39–40, 2008–13, 1877–1951, 0, 16–17, 1909–1910, 605, j.d, ):, kishinev, 1810–1860, vatican, editors, 1804–1871, 1785–1863, eminent, dc, vol, non, 976, 3865, suzuki, 1941–45, brassey, n.s.w, 1904–1920, ethno, co, yalıkavak, novo, 1913–1974, art;\"i, e, ph.d, 1744–1816, liechtenstein, ju, 1476679488, heiress, 700–707, t.c, 1945–47, 1860–1923,1986, biografie, 8084, 1134068708, chan, 2018edited, yellow, inst, 95–96, l.r.c.s, c.e, coca,   , x, ¿, otto, bmj, kyoto, 9592824, mujeres, 1547–1564, pjesme/, l.r.c.p, 040, m.r.c.s, jr, semite, ¡, 205, 111, kei, prof, nesanice/, semi, 3905881028, p.j, 78442, mishnayot, unesco, fc, 1912–1928, lansdowne, m.r, multi, 1795–1864, madison, l.c, 7–17, 1882–1956, 978, u'uqiank'uuh, 1977–1980, 1996–2000, 9695188, thejournal.ie, 1998–2002, f.r.c.p, denominational, 53, 1928–1998, 1909–1919, 84.5월호, 1758, 1848–1905, 521, 1793–1869, v.g, 1969–70, semitic, 2011/2012, 1949–2009, u.k, m.d, cola, kwan, школ, m.a, b.w, 441–2, turn, enactment, isl, u.s, 1442252813, s.s, ,(1898, d.c, sueñan, 1885–1900, 1472806871, covid-19, 1990–2008, 2019–20, 9781931883702short, obi, h.c, devin, a$1.6, and/or, tangier,2004, 1500, 19–24, faingata'a, 293, baked, eck, hada/, 9213, philosophy-, 09, canonical, 905237, 25–28, 300p, feudal, 401, 1868–1936, chuch'e, 'm, بدقت, 1918–1923, 1804–1856, ner, wisconsin, imperialism, 8097, 1937–39, bello, d.l, t, 2001–2011, 1689–1887, /zapisi, m.r.c.p, عرفان, `, sun, fl, 1950/1951, 255, 8392, instrumentalist, 1935–37, asilah—40, 1980–84, 1905–1907, semitism, colonialism, 1031–1034, 1766–1830, b.a, /priče, bmj.319.7216.1031, 23833, 9223, 323, serbo,  , cc, 've, u.s.specht, 1766–1822, 313, 1943–24, doi:10.1136, 2005–2006, "
     ]
    }
   ],
   "source": [
    "spacy_only_vocab = spacy_vocabulary.difference(stanza_vocabulary)\n",
    "for w in spacy_only_vocab:\n",
    "    print(w, end=', ')"
   ]
  },
  {
   "cell_type": "markdown",
   "metadata": {},
   "source": [
    "In the Spacy-only tokens we can see a lot of numbers as well as non-english words (or non-words).\n",
    "\n",
    "However, surprisingly we can also see some more or less common English words:\n",
    "- Some words of relatively more formal register of English: `canonical`, `colonialism`, `denominational`, `editors`, `eminent`, `feudal`, `imperialism`, `instrumentalist`...\n",
    "- Some NE: `kishinev`, `kyoto`, `liechtenstein`, `vatican` (Locations), `suzuki` (Name or Organisation name), `unesco` (Organisation name)..."
   ]
  },
  {
   "cell_type": "markdown",
   "metadata": {},
   "source": [
    "### Stanza-only vocubulary"
   ]
  },
  {
   "cell_type": "code",
   "execution_count": 40,
   "metadata": {},
   "outputs": [
    {
     "name": "stdout",
     "output_type": "stream",
     "text": [
      "choe's, m.d., 'e, esq., 84.5, –2, 978-1442252813, non-russian, dr., ب, 978-3-8392-1986-7, shin's, b.w., 978-605-09, us`, 978-1134068708, inst., .ie, 978-1472806871, non-denominational, e-, covid, 700, 1923-2011, –707, ruskin's, f.r.c.p., re-enactment, liechtenstein., –17, 호, –from, u'uqinak, st., ¡mujeres, l.r.c.s., 978-0-9592824-2-9., 1860, abc's, co-editor, gysin's, pre-islamic, 1810, ıkavak, anti-semite, 978-3-205-78442-5, ?., 441, non-humorous, ethno-, 978-976-8097-13-2., sun-baked, –2002, 1689, 978-605-111-401-9, wisconsin-madison, isl., 월, 1744, multi-instrumentalist, pre-eminent, 1785, mid-day, son-, thejournal, multi-awardee, pg., 978-3-8392-1500, anti-colonialism, otto-, ha-mishnayot, –march, hada, 978-3-7349-9213-1, –1956, mid-october, co-editors, c.e., s.s., co-presenter, –1816, unesco's, u-turn, 480, l.r.c.p., tambo's, رفان, yusuf's, co-, invasion`, -1758, co-heiress, el-, 978-0-9592824-3-6., ¿sueñan, asilah, chuch, 1798, pjesme, edit., –40, χρήστο, uqiank, yonsei-, doi:10.1136/bmj.319.7216.1031, zapisi, m.r.c.s., 1031, iran-iraq, cc., 9695188., 't, anc., 975-293-255-x, priče, bakhshi's, el-rufai, d.l., vol., –1974, kyoto's, u.s., faingata, anti-soviet, 39, d.c., ––, –1928, i've, pen-name, hamri's, chp., mid-century, ah., poem–, suzuki's, 1882, –2011, brassey's, 978-3-8392-1978, 9781931883702, 'a, v.g., uuh, 84, -3865, pro-government, 1-905237-53, -1980, p.j., coca-cola, –6, kei-kwan, novo-dmitrievakain, anti-feudal, käkikoski's, 47, mitrei's, 978-1476679488, e-book, einstein's, 1943-2012, 1766-1822, non-group, h.c., semi-autobiographical, i'm, m.a., o-level, april–june, co-wrote, ed., yal, 978-0-9592824-1-2., –1863, urdu-, ju-chan, 978-3-7349-9223-0, l.c., –1905, prof., lansdowne., 313-323, 1923,1986, eck-verlag, ho's, anti-german, jr., –kishinev, 978-3905881028, non-fiction, wisconsin–madison, –1900, bi, anti-imperialism, ph.d., –70, `the, -2005, fl., –1869, `yellow, j.d., /1951, bmj., –2008, anti-vatican, –1998, –1822, m.r.c.p., m.r., im, –1564, kingdom–based, fc., hindi-, anti-apartheid, u.k., p, –39, co-edited, [...], школ., 975-8084, bello's, biografie., nesanice, n.s.w., serbo-croatian, co-author, 0-521-23833-1, anti-semitic, –96, obi-young, دقت, pbs's, –1951, –1871, –37, devin-, ς, anti-semitism, u', non-canonical, ع, –2009, 1868, re-reading, anti-love, t.c., non-anti-semitic, b.a., –1034, neo-confucian, co-authored, ha-ner, re-election, tom's, –1830, 975-293-040-9, son's, dc., "
     ]
    }
   ],
   "source": [
    "stanza_only_vocab = stanza_vocabulary.difference(spacy_vocabulary)\n",
    "for w in stanza_only_vocab:\n",
    "    print(w, end=', ')"
   ]
  },
  {
   "cell_type": "markdown",
   "metadata": {},
   "source": [
    "We can see that Stanza tends tokenize words with prefixes like `co-`, `anti-`, `non-`, `neo-`... as one token, which explains the difference with Spacy on tokenization of words of relatively formal register.\n",
    "\n",
    "We can se can see that there is the same tendency towards composed words: `pen-name`, `kingdom-based`, `serbo-croatian`...\n",
    "\n",
    "As for Named Entities, there appears to be a lot of them tokenized together with `'s`: `yusuf's`, `unesco's`, `suzuki's`, `shin's`, `kyoto's`..."
   ]
  },
  {
   "cell_type": "markdown",
   "metadata": {},
   "source": [
    "## Occurences"
   ]
  },
  {
   "cell_type": "markdown",
   "metadata": {},
   "source": [
    "To calculate common accurances we will find all tokens produced by both models for a given string and will find tokens that have the same text for both Stanza and Spacy.\n",
    "\n",
    "For this we will work with raw token entities from Stanza and Spacy to preserve PoS information for the following experiment since PoS information might be changed if a token is taken out of its context."
   ]
  },
  {
   "cell_type": "markdown",
   "metadata": {},
   "source": [
    "### Occurences without sentence separation"
   ]
  },
  {
   "cell_type": "markdown",
   "metadata": {},
   "source": [
    "We will tokenize all stiched sentences together."
   ]
  },
  {
   "cell_type": "code",
   "execution_count": 41,
   "metadata": {},
   "outputs": [],
   "source": [
    "no_sent_spacy_tokens = spacy_tokenize_text(shared_sents_stiched, to_string=False, no_filtering=True)"
   ]
  },
  {
   "cell_type": "code",
   "execution_count": 42,
   "metadata": {},
   "outputs": [],
   "source": [
    "# To run for the first time Stanza tokenization:\n",
    "\"\"\" \n",
    "no_sent_stanza_tokens = stanza_tokenize_text(shared_sents_stiched, to_string=False)\n",
    "with open('SpacyStanza/no_sent_stanza_tokens.pickle', 'wb') as f:\n",
    "    pickle.dump(no_sent_stanza_tokens, f)\n",
    "\n",
    "\"\"\"\n",
    "\n",
    "# To load Stanza tokens from a pickle file\n",
    "\"\"\"\"\"\"\n",
    "with open('SpacyStanza/no_sent_stanza_tokens.pickle', 'rb') as f:\n",
    "    no_sent_stanza_tokens = pickle.load(f)"
   ]
  },
  {
   "cell_type": "code",
   "execution_count": 43,
   "metadata": {},
   "outputs": [],
   "source": [
    "common_t = common_tokens(no_sent_spacy_tokens, no_sent_stanza_tokens)"
   ]
  },
  {
   "cell_type": "markdown",
   "metadata": {},
   "source": [
    "Some token stats:"
   ]
  },
  {
   "cell_type": "code",
   "execution_count": 44,
   "metadata": {},
   "outputs": [
    {
     "name": "stdout",
     "output_type": "stream",
     "text": [
      "\n",
      "Spacy tokens: 48820\n",
      "Stanza tokens: 48502\n",
      "Shared tokens: 48070\n",
      "% of shared tokens in Spacy: 98.46%\n",
      "% of shared tokens in Stanza: 99.11%\n",
      "\n",
      "\n"
     ]
    }
   ],
   "source": [
    "print(f\"\"\"\n",
    "Spacy tokens: {len(no_sent_spacy_tokens)}\n",
    "Stanza tokens: {len(no_sent_stanza_tokens)}\n",
    "Shared tokens: {len(np.concatenate([x[1] for x in common_t]))}\n",
    "% of shared tokens in Spacy: {100*len(np.concatenate([x[1] for x in common_t]))/len(no_sent_spacy_tokens):.2f}%\n",
    "% of shared tokens in Stanza: {100*len(np.concatenate([x[1] for x in common_t]))/len(no_sent_stanza_tokens):.2f}%\n",
    "\n",
    "\"\"\"\n",
    ")"
   ]
  },
  {
   "cell_type": "markdown",
   "metadata": {},
   "source": [
    "We will store the results in a dictionary where the key is the word form and the value is another dictionary, storing all seen results for Spacy and Stanza separately."
   ]
  },
  {
   "cell_type": "code",
   "execution_count": 45,
   "metadata": {},
   "outputs": [],
   "source": [
    "no_sent_shared_tokens = {x[0][0].text: {'Spacy': x[0], 'Stanza': x[1]} for x in common_t}"
   ]
  },
  {
   "cell_type": "code",
   "execution_count": 46,
   "metadata": {},
   "outputs": [
    {
     "data": {
      "text/plain": [
       "{'Spacy': [record, record, record, record, record, record, record],\n",
       " 'Stanza': [[\n",
       "    {\n",
       "      \"id\": 39,\n",
       "      \"text\": \"record\",\n",
       "      \"upos\": \"NOUN\",\n",
       "      \"xpos\": \"NN\",\n",
       "      \"feats\": \"Number=Sing\",\n",
       "      \"start_char\": 13283,\n",
       "      \"end_char\": 13289\n",
       "    }\n",
       "  ],\n",
       "  [\n",
       "    {\n",
       "      \"id\": 17,\n",
       "      \"text\": \"record\",\n",
       "      \"upos\": \"NOUN\",\n",
       "      \"xpos\": \"NN\",\n",
       "      \"feats\": \"Number=Sing\",\n",
       "      \"start_char\": 27303,\n",
       "      \"end_char\": 27309\n",
       "    }\n",
       "  ],\n",
       "  [\n",
       "    {\n",
       "      \"id\": 23,\n",
       "      \"text\": \"record\",\n",
       "      \"upos\": \"NOUN\",\n",
       "      \"xpos\": \"NN\",\n",
       "      \"feats\": \"Number=Sing\",\n",
       "      \"start_char\": 95765,\n",
       "      \"end_char\": 95771\n",
       "    }\n",
       "  ],\n",
       "  [\n",
       "    {\n",
       "      \"id\": 22,\n",
       "      \"text\": \"record\",\n",
       "      \"upos\": \"NOUN\",\n",
       "      \"xpos\": \"NN\",\n",
       "      \"feats\": \"Number=Sing\",\n",
       "      \"start_char\": 117044,\n",
       "      \"end_char\": 117050\n",
       "    }\n",
       "  ],\n",
       "  [\n",
       "    {\n",
       "      \"id\": 12,\n",
       "      \"text\": \"record\",\n",
       "      \"upos\": \"VERB\",\n",
       "      \"xpos\": \"VB\",\n",
       "      \"feats\": \"VerbForm=Inf\",\n",
       "      \"start_char\": 159799,\n",
       "      \"end_char\": 159805\n",
       "    }\n",
       "  ],\n",
       "  [\n",
       "    {\n",
       "      \"id\": 13,\n",
       "      \"text\": \"record\",\n",
       "      \"upos\": \"VERB\",\n",
       "      \"xpos\": \"VB\",\n",
       "      \"feats\": \"VerbForm=Inf\",\n",
       "      \"start_char\": 163094,\n",
       "      \"end_char\": 163100\n",
       "    }\n",
       "  ],\n",
       "  [\n",
       "    {\n",
       "      \"id\": 6,\n",
       "      \"text\": \"record\",\n",
       "      \"upos\": \"NOUN\",\n",
       "      \"xpos\": \"NN\",\n",
       "      \"feats\": \"Number=Sing\",\n",
       "      \"start_char\": 214572,\n",
       "      \"end_char\": 214578\n",
       "    }\n",
       "  ]]}"
      ]
     },
     "execution_count": 46,
     "metadata": {},
     "output_type": "execute_result"
    }
   ],
   "source": [
    "no_sent_shared_tokens['record']"
   ]
  },
  {
   "cell_type": "markdown",
   "metadata": {},
   "source": [
    "# <font color='green'>Rerun the follwing cells</font>"
   ]
  },
  {
   "cell_type": "markdown",
   "metadata": {},
   "source": [
    "### Occurences with segmented sentences"
   ]
  },
  {
   "cell_type": "markdown",
   "metadata": {},
   "source": [
    "Now we repeat the experiment but for the separated sentences above:"
   ]
  },
  {
   "cell_type": "code",
   "execution_count": 34,
   "metadata": {},
   "outputs": [],
   "source": [
    "# Uncomment this cell if you didn't run the cells above:\n",
    "\n",
    "# shared_sents_df = pd.read_csv('SpacyStanza/spacy_stanza_shared_sents.csv')\n",
    "# shared_sents_lower = [s.lower() for s in shared_sents_df.Sentence]"
   ]
  },
  {
   "cell_type": "code",
   "execution_count": 60,
   "metadata": {},
   "outputs": [],
   "source": [
    "sp_sent_tokens = list(map(lambda x: spacy_tokenize_text(x, no_filtering=True, to_string=False), shared_sents_lower))"
   ]
  },
  {
   "cell_type": "code",
   "execution_count": 49,
   "metadata": {},
   "outputs": [],
   "source": [
    "# To run for the first time Stanza tokenization:\n",
    "\"\"\" \n",
    "st_sent_tokens = list(map(lambda x: stanza_tokenize_text(x, to_string=False), shared_sents_lower))\n",
    "with open('SpacyStanza/st_sent_tockens.pickle', 'wb') as f:\n",
    "    pickle.dump(st_sent_tokens, f)\n",
    "\n",
    "\"\"\"\n",
    "\n",
    "# To load Stanza tokens from a pickle file\n",
    "\n",
    "with open('SpacyStanza/st_sent_tockens.pickle', 'rb') as f:\n",
    "    st_sent_tokens = pickle.load(f)"
   ]
  },
  {
   "cell_type": "code",
   "execution_count": 61,
   "metadata": {},
   "outputs": [],
   "source": [
    "common_sent_tokens = list(map(lambda x: common_tokens(x[0], x[1]), zip(sp_sent_tokens, st_sent_tokens)))"
   ]
  },
  {
   "cell_type": "code",
   "execution_count": 62,
   "metadata": {},
   "outputs": [],
   "source": [
    "sent_tokens_df = pd.DataFrame(columns=['Spacy_token_count', \n",
    "                                       'Stanza_token_count', \n",
    "                                       'Shared_token_count', \n",
    "                                       'Spacy_shared_percentage',\n",
    "                                      'Stanza_shared_percentage'])"
   ]
  },
  {
   "cell_type": "code",
   "execution_count": 63,
   "metadata": {},
   "outputs": [
    {
     "data": {
      "text/html": [
       "<div>\n",
       "<style scoped>\n",
       "    .dataframe tbody tr th:only-of-type {\n",
       "        vertical-align: middle;\n",
       "    }\n",
       "\n",
       "    .dataframe tbody tr th {\n",
       "        vertical-align: top;\n",
       "    }\n",
       "\n",
       "    .dataframe thead th {\n",
       "        text-align: right;\n",
       "    }\n",
       "</style>\n",
       "<table border=\"1\" class=\"dataframe\">\n",
       "  <thead>\n",
       "    <tr style=\"text-align: right;\">\n",
       "      <th></th>\n",
       "      <th>Spacy_token_count</th>\n",
       "      <th>Stanza_token_count</th>\n",
       "      <th>Shared_token_count</th>\n",
       "      <th>Spacy_shared_percentage</th>\n",
       "      <th>Stanza_shared_percentage</th>\n",
       "    </tr>\n",
       "  </thead>\n",
       "  <tbody>\n",
       "    <tr>\n",
       "      <th>0</th>\n",
       "      <td>50</td>\n",
       "      <td>50</td>\n",
       "      <td>42</td>\n",
       "      <td>84.000000</td>\n",
       "      <td>84.000000</td>\n",
       "    </tr>\n",
       "    <tr>\n",
       "      <th>1</th>\n",
       "      <td>14</td>\n",
       "      <td>5</td>\n",
       "      <td>4</td>\n",
       "      <td>28.571429</td>\n",
       "      <td>80.000000</td>\n",
       "    </tr>\n",
       "    <tr>\n",
       "      <th>2</th>\n",
       "      <td>8</td>\n",
       "      <td>8</td>\n",
       "      <td>8</td>\n",
       "      <td>100.000000</td>\n",
       "      <td>100.000000</td>\n",
       "    </tr>\n",
       "    <tr>\n",
       "      <th>3</th>\n",
       "      <td>25</td>\n",
       "      <td>27</td>\n",
       "      <td>21</td>\n",
       "      <td>84.000000</td>\n",
       "      <td>77.777778</td>\n",
       "    </tr>\n",
       "    <tr>\n",
       "      <th>4</th>\n",
       "      <td>10</td>\n",
       "      <td>9</td>\n",
       "      <td>6</td>\n",
       "      <td>60.000000</td>\n",
       "      <td>66.666667</td>\n",
       "    </tr>\n",
       "    <tr>\n",
       "      <th>...</th>\n",
       "      <td>...</td>\n",
       "      <td>...</td>\n",
       "      <td>...</td>\n",
       "      <td>...</td>\n",
       "      <td>...</td>\n",
       "    </tr>\n",
       "    <tr>\n",
       "      <th>2258</th>\n",
       "      <td>32</td>\n",
       "      <td>32</td>\n",
       "      <td>29</td>\n",
       "      <td>90.625000</td>\n",
       "      <td>90.625000</td>\n",
       "    </tr>\n",
       "    <tr>\n",
       "      <th>2259</th>\n",
       "      <td>16</td>\n",
       "      <td>16</td>\n",
       "      <td>14</td>\n",
       "      <td>87.500000</td>\n",
       "      <td>87.500000</td>\n",
       "    </tr>\n",
       "    <tr>\n",
       "      <th>2260</th>\n",
       "      <td>23</td>\n",
       "      <td>23</td>\n",
       "      <td>20</td>\n",
       "      <td>86.956522</td>\n",
       "      <td>86.956522</td>\n",
       "    </tr>\n",
       "    <tr>\n",
       "      <th>2261</th>\n",
       "      <td>15</td>\n",
       "      <td>15</td>\n",
       "      <td>14</td>\n",
       "      <td>93.333333</td>\n",
       "      <td>93.333333</td>\n",
       "    </tr>\n",
       "    <tr>\n",
       "      <th>2262</th>\n",
       "      <td>5</td>\n",
       "      <td>5</td>\n",
       "      <td>5</td>\n",
       "      <td>100.000000</td>\n",
       "      <td>100.000000</td>\n",
       "    </tr>\n",
       "  </tbody>\n",
       "</table>\n",
       "<p>2263 rows × 5 columns</p>\n",
       "</div>"
      ],
      "text/plain": [
       "      Spacy_token_count  Stanza_token_count  Shared_token_count  \\\n",
       "0                    50                  50                  42   \n",
       "1                    14                   5                   4   \n",
       "2                     8                   8                   8   \n",
       "3                    25                  27                  21   \n",
       "4                    10                   9                   6   \n",
       "...                 ...                 ...                 ...   \n",
       "2258                 32                  32                  29   \n",
       "2259                 16                  16                  14   \n",
       "2260                 23                  23                  20   \n",
       "2261                 15                  15                  14   \n",
       "2262                  5                   5                   5   \n",
       "\n",
       "      Spacy_shared_percentage  Stanza_shared_percentage  \n",
       "0                   84.000000                 84.000000  \n",
       "1                   28.571429                 80.000000  \n",
       "2                  100.000000                100.000000  \n",
       "3                   84.000000                 77.777778  \n",
       "4                   60.000000                 66.666667  \n",
       "...                       ...                       ...  \n",
       "2258                90.625000                 90.625000  \n",
       "2259                87.500000                 87.500000  \n",
       "2260                86.956522                 86.956522  \n",
       "2261                93.333333                 93.333333  \n",
       "2262               100.000000                100.000000  \n",
       "\n",
       "[2263 rows x 5 columns]"
      ]
     },
     "execution_count": 63,
     "metadata": {},
     "output_type": "execute_result"
    }
   ],
   "source": [
    "sent_tokens_df.Spacy_token_count = list(map(len, sp_sent_tokens))\n",
    "sent_tokens_df.Stanza_token_count = list(map(len, st_sent_tokens))\n",
    "sent_tokens_df.Shared_token_count = list(map(len, common_sent_tokens))\n",
    "sent_tokens_df.Spacy_shared_percentage = 100 * sent_tokens_df.Shared_token_count / sent_tokens_df.Spacy_token_count \n",
    "sent_tokens_df.Stanza_shared_percentage = 100 * sent_tokens_df.Shared_token_count / sent_tokens_df.Stanza_token_count \n",
    "\n",
    "sent_tokens_df"
   ]
  },
  {
   "cell_type": "markdown",
   "metadata": {},
   "source": [
    "Below are average stats for tokens (how many tokens in a sentence are on average provided by Spacy, how many by Stanza, how many are shared etc.):"
   ]
  },
  {
   "cell_type": "code",
   "execution_count": 64,
   "metadata": {},
   "outputs": [
    {
     "data": {
      "text/plain": [
       "Spacy_token_count           21.573133\n",
       "Stanza_token_count          21.438356\n",
       "Shared_token_count          18.313301\n",
       "Spacy_shared_percentage     89.018023\n",
       "Stanza_shared_percentage    89.536601\n",
       "dtype: float64"
      ]
     },
     "execution_count": 64,
     "metadata": {},
     "output_type": "execute_result"
    }
   ],
   "source": [
    "sent_tokens_df.mean()"
   ]
  },
  {
   "cell_type": "markdown",
   "metadata": {},
   "source": [
    "Total number of shared tokens across all sentences:"
   ]
  },
  {
   "cell_type": "code",
   "execution_count": 65,
   "metadata": {},
   "outputs": [
    {
     "data": {
      "text/plain": [
       "41443"
      ]
     },
     "execution_count": 65,
     "metadata": {},
     "output_type": "execute_result"
    }
   ],
   "source": [
    "sent_tokens_df.Shared_token_count.sum()"
   ]
  },
  {
   "cell_type": "markdown",
   "metadata": {},
   "source": [
    "We have less aligned tokens now, meaning that in the experiment above we might have matched tokens from different sentences."
   ]
  },
  {
   "cell_type": "markdown",
   "metadata": {},
   "source": [
    "We will combine all the shared tokens from our sentences into one dictionary of the same structure as above: the keys are wordforms, the values are dictionaries containing arrays of all of the occurences of the wordforms.\n",
    "\n",
    "Since for PoS analysis for Stanza requires words instead of tokens, we will convert the conversion as well."
   ]
  },
  {
   "cell_type": "code",
   "execution_count": 66,
   "metadata": {},
   "outputs": [],
   "source": [
    "shared_sent_tokens = {}\n",
    "\n",
    "for sent in common_sent_tokens:\n",
    "    for word in sent:\n",
    "        word_text = word[0][0].text\n",
    "        word_dict = shared_sent_tokens.get(word_text, {})\n",
    "        \n",
    "        sp_t_list = word_dict.get('Spacy', [])\n",
    "        sp_t_list.extend(word[0])\n",
    "        word_dict['Spacy'] = sp_t_list\n",
    "        \n",
    "        st_t_list = word_dict.get('Stanza', [])\n",
    "        # Before extending the list convert tokens to words\n",
    "        st_t_list.extend(list(map(lambda x: x.words[0], word[1])))\n",
    "        word_dict['Stanza'] = st_t_list\n",
    "        \n",
    "        shared_sent_tokens[word_text] = word_dict\n"
   ]
  },
  {
   "cell_type": "markdown",
   "metadata": {},
   "source": [
    "Below is an example of how the dictionary will work on an example of one word `chief`.\n",
    "\n",
    "`shared_sent_tokens['chief']['Spacy']` can be called to get all Spacy tokens and similarly `shared_sent_tokens['chief']['Stanza']` can be called to get all Stanza tokens.\n",
    "\n",
    "In this example we can see that this word was sometimes categorized as Noun and sometimes as Adjective."
   ]
  },
  {
   "cell_type": "code",
   "execution_count": 57,
   "metadata": {},
   "outputs": [
    {
     "data": {
      "text/plain": [
       "{'Spacy': [chief,\n",
       "  chief,\n",
       "  chief,\n",
       "  chief,\n",
       "  chief,\n",
       "  chief,\n",
       "  chief,\n",
       "  chief,\n",
       "  chief,\n",
       "  chief,\n",
       "  chief,\n",
       "  chief,\n",
       "  chief,\n",
       "  chief,\n",
       "  chief],\n",
       " 'Stanza': [{\n",
       "    \"id\": 5,\n",
       "    \"text\": \"chief\",\n",
       "    \"upos\": \"ADJ\",\n",
       "    \"xpos\": \"JJ\",\n",
       "    \"feats\": \"Degree=Pos\",\n",
       "    \"start_char\": 20,\n",
       "    \"end_char\": 25\n",
       "  },\n",
       "  {\n",
       "    \"id\": 12,\n",
       "    \"text\": \"chief\",\n",
       "    \"upos\": \"ADJ\",\n",
       "    \"xpos\": \"JJ\",\n",
       "    \"feats\": \"Degree=Pos\",\n",
       "    \"start_char\": 68,\n",
       "    \"end_char\": 73\n",
       "  },\n",
       "  {\n",
       "    \"id\": 6,\n",
       "    \"text\": \"chief\",\n",
       "    \"upos\": \"ADJ\",\n",
       "    \"xpos\": \"JJ\",\n",
       "    \"feats\": \"Degree=Pos\",\n",
       "    \"start_char\": 17,\n",
       "    \"end_char\": 22\n",
       "  },\n",
       "  {\n",
       "    \"id\": 8,\n",
       "    \"text\": \"chief\",\n",
       "    \"upos\": \"NOUN\",\n",
       "    \"xpos\": \"NN\",\n",
       "    \"feats\": \"Number=Sing\",\n",
       "    \"start_char\": 35,\n",
       "    \"end_char\": 40\n",
       "  },\n",
       "  {\n",
       "    \"id\": 5,\n",
       "    \"text\": \"chief\",\n",
       "    \"upos\": \"NOUN\",\n",
       "    \"xpos\": \"NN\",\n",
       "    \"feats\": \"Number=Sing\",\n",
       "    \"start_char\": 26,\n",
       "    \"end_char\": 31\n",
       "  },\n",
       "  {\n",
       "    \"id\": 21,\n",
       "    \"text\": \"chief\",\n",
       "    \"upos\": \"NOUN\",\n",
       "    \"xpos\": \"NN\",\n",
       "    \"feats\": \"Number=Sing\",\n",
       "    \"start_char\": 107,\n",
       "    \"end_char\": 112\n",
       "  },\n",
       "  {\n",
       "    \"id\": 20,\n",
       "    \"text\": \"chief\",\n",
       "    \"upos\": \"NOUN\",\n",
       "    \"xpos\": \"NN\",\n",
       "    \"feats\": \"Number=Sing\",\n",
       "    \"start_char\": 100,\n",
       "    \"end_char\": 105\n",
       "  },\n",
       "  {\n",
       "    \"id\": 23,\n",
       "    \"text\": \"chief\",\n",
       "    \"upos\": \"ADJ\",\n",
       "    \"xpos\": \"JJ\",\n",
       "    \"feats\": \"Degree=Pos\",\n",
       "    \"start_char\": 105,\n",
       "    \"end_char\": 110\n",
       "  },\n",
       "  {\n",
       "    \"id\": 4,\n",
       "    \"text\": \"chief\",\n",
       "    \"upos\": \"ADJ\",\n",
       "    \"xpos\": \"JJ\",\n",
       "    \"feats\": \"Degree=Pos\",\n",
       "    \"start_char\": 11,\n",
       "    \"end_char\": 16\n",
       "  },\n",
       "  {\n",
       "    \"id\": 7,\n",
       "    \"text\": \"chief\",\n",
       "    \"upos\": \"ADJ\",\n",
       "    \"xpos\": \"JJ\",\n",
       "    \"feats\": \"Degree=Pos\",\n",
       "    \"start_char\": 23,\n",
       "    \"end_char\": 28\n",
       "  },\n",
       "  {\n",
       "    \"id\": 8,\n",
       "    \"text\": \"chief\",\n",
       "    \"upos\": \"NOUN\",\n",
       "    \"xpos\": \"NN\",\n",
       "    \"feats\": \"Number=Sing\",\n",
       "    \"start_char\": 25,\n",
       "    \"end_char\": 30\n",
       "  },\n",
       "  {\n",
       "    \"id\": 12,\n",
       "    \"text\": \"chief\",\n",
       "    \"upos\": \"NOUN\",\n",
       "    \"xpos\": \"NN\",\n",
       "    \"feats\": \"Number=Sing\",\n",
       "    \"start_char\": 56,\n",
       "    \"end_char\": 61\n",
       "  },\n",
       "  {\n",
       "    \"id\": 20,\n",
       "    \"text\": \"chief\",\n",
       "    \"upos\": \"ADJ\",\n",
       "    \"xpos\": \"JJ\",\n",
       "    \"feats\": \"Degree=Pos\",\n",
       "    \"start_char\": 95,\n",
       "    \"end_char\": 100\n",
       "  },\n",
       "  {\n",
       "    \"id\": 40,\n",
       "    \"text\": \"chief\",\n",
       "    \"upos\": \"ADJ\",\n",
       "    \"xpos\": \"JJ\",\n",
       "    \"feats\": \"Degree=Pos\",\n",
       "    \"start_char\": 213,\n",
       "    \"end_char\": 218\n",
       "  },\n",
       "  {\n",
       "    \"id\": 24,\n",
       "    \"text\": \"chief\",\n",
       "    \"upos\": \"ADJ\",\n",
       "    \"xpos\": \"JJ\",\n",
       "    \"feats\": \"Degree=Pos\",\n",
       "    \"start_char\": 128,\n",
       "    \"end_char\": 133\n",
       "  }]}"
      ]
     },
     "execution_count": 57,
     "metadata": {},
     "output_type": "execute_result"
    }
   ],
   "source": [
    "shared_sent_tokens['chief']"
   ]
  },
  {
   "cell_type": "markdown",
   "metadata": {},
   "source": [
    "How PoS can be accessed for Spacy:"
   ]
  },
  {
   "cell_type": "code",
   "execution_count": 58,
   "metadata": {},
   "outputs": [
    {
     "data": {
      "text/plain": [
       "(chief, 'ADJ')"
      ]
     },
     "execution_count": 58,
     "metadata": {},
     "output_type": "execute_result"
    }
   ],
   "source": [
    "shared_sent_tokens['chief']['Spacy'][0], shared_sent_tokens['chief']['Spacy'][0].pos_"
   ]
  },
  {
   "cell_type": "markdown",
   "metadata": {},
   "source": [
    "How PoS can be accessed for Stanza:"
   ]
  },
  {
   "cell_type": "code",
   "execution_count": 59,
   "metadata": {},
   "outputs": [
    {
     "data": {
      "text/plain": [
       "({\n",
       "   \"id\": 5,\n",
       "   \"text\": \"chief\",\n",
       "   \"upos\": \"ADJ\",\n",
       "   \"xpos\": \"JJ\",\n",
       "   \"feats\": \"Degree=Pos\",\n",
       "   \"start_char\": 20,\n",
       "   \"end_char\": 25\n",
       " },\n",
       " 'ADJ')"
      ]
     },
     "execution_count": 59,
     "metadata": {},
     "output_type": "execute_result"
    }
   ],
   "source": [
    "shared_sent_tokens['chief']['Stanza'][0], shared_sent_tokens['chief']['Stanza'][0].upos"
   ]
  },
  {
   "cell_type": "markdown",
   "metadata": {},
   "source": [
    "# Accessing shared sent tokens"
   ]
  },
  {
   "cell_type": "markdown",
   "metadata": {},
   "source": [
    "All the wordforms that were tokenized in the same way by Spacy and Stanza:"
   ]
  },
  {
   "cell_type": "code",
   "execution_count": 73,
   "metadata": {},
   "outputs": [
    {
     "data": {
      "text/plain": [
       "dict_keys(['be', 'anne', 'wales', 'city', 'australian', 'dealer', 'south', '2003', ',', 'march', ')', 'australia', 'author', '29', 'art', 'capital', 'the', 'believed', 'galleries', 'newcastle', '–', 'was', 'outside', 'in', 'a', '(', 'first', 'to', '.', 'environmentalist', 'bertouch', 'an', 'commercial', '1915', 'von', 'of', 'new', 'june', 'gallery', 'director', '31', 'and', '27623615', 'isbn', 'oclc', '1983', 'by', 'sale', 'million', 'at', '1,420,000', 'listed', '#', 'were', '2007', 'terraces', 'for', 'purchased', '2010', 'lees', 'dr', 'dick', 'what', 'it', 'before', 'née', 'eastwood', 'school', 'on', 'parents', 'she', 'biography', 'high', 'sydney', 'armidale', 'college', 'whittle', 'born', 'teachers', 'girls', 'catherine', 'george', 'duff', 'educated', 'jean', 'commission', 'modern', 'fundraiser', 'performed', 'day', 'as', 'interpretive', 'broadcasting', 'hall', '1942', \"'\", 'appeal', 'organised', 'hobart', 'patriotic', 'concert', 'town', 'committee', 'dance', 'allies', 'voyage', 'fleet', 'out', ':', 'bay', 'organiser', 'camp', 'broken', 'fitness', 'national', '1941', 'always', 'have', 'own', 'intrinsic', 'its', 'will', 'value', 'four', 'together', '2015', 'fourth', 'time', 'sold', 'houses', 'terrace', 'they', 'attempt', \"n't\", 'must', 'please', 'i', 'sell', 'fact', 'them', 'wo', 'from', 'exhibited', 'millions', 'her', 'bequeathed', 'shortly', 'region', 'years', 'personal', 'death', 'collection', 'total', 'dollars', 'valued', '58', ';', 'biggest', 'bestowed', 'works', 'there', '136', 'do', 'if', 'want', 'pictures', 'appreciate', 'going', 'are', 'cathedral', '500', 'attended', 'church', 'eulogy', 'funeral', 'with', 'mourners', 'christ', 'mitzevich', 'nick', 'after', 'injured', 'morisset', 'near', 'long', 'suffered', 'car', 'coma', 'been', 'had', 'serious', 'separated', 'couple', '1969', 'not', 'accident', '1973', 'their', 'combined', 'threatened', 'partnership', 'demolition', 'five', 'dissolved', 'which', 'house', 'help', '1974', 'over', 'opened', 'converted', 'friends', 'trustee', '-', 'outcome', 'litigious', 'hodgson', 'dispute', 'became', 'appointed', 'being', 'ferrier', 'supreme', 'court', 'famous', 'one', '...', 'most', 'bulletin', '\"', 'described', 'tell', 'real', 'go', 'estate', 'buy', 'melbourne', 'lansdowne', '1991', 'germaine', 'max', 'trust', 'having', 'without', 'could', 'complete', 'worry', 'incidental', 'is', 'really', 'gain', 'part', 'important', 'tom', 'fixture', 'group', 'exhibition', \"'s\", 'scene', 'space', 'suggestion', 'gleghorn', 'spawned', 'established', 'annual', 'parties', 'choice', 'renovated', 'collector', 'street', '1069851970', 'birdwood', '1970s', 'king', 'stop', 'tree', 'through', 'active', 'herself', 'widening', 'park', 'famously', 'chained', 'loved', 'all', 'much', 'very', 'home', 'ride', 'boyd', 'bronze', 'survey', 'guy', 'sculpture', 'commissioned', 'hill', 'buildings', 'helen', 'bust', 'life', 'memory', 'sainsbury', 'carve', 'sandstone', 'griffin', 'wilson', 'marilyn', 'honouring', 'wollombi', 'place', 'exhibitor', 'owners', 'sculptor', 'cooks', 'matt', 'graham', 'sister', 'fine', 'golden', 'age', '1985', 'phyllis', 'work', 'margaret', 'associated', 'virginia', 'designer', 'nationally', 'came', 'artists', 'hunter', 'beeston', 'shay', 'showed', 'religious', 'tommy', 'when', 'holland', 'b.', 'geyl', 'still', 'prominent', 'film', 'modernist', 'mary', 'd.1999', 'rona', '1917', 'olley', 'landscapist', 'contemporary', 'textile', 'naïve', 'docking', '/', 'created', 'mural', 'including', 'surrealist', 'who', 'artist', 'well', 'scott', 'painter', 'london', 'constable', 'tasmania', 'technical', 'moved', 'taught', 'where', 'roger', 'studied', '26579510', 'create', 'sake', 'creating', 'narrow', 'hers', 'three', '1877', 'st', 'acquired', '61', 'laman', 'opposite', 'hunniford', 'row', 'surrounding', 'derelict', 'titles', 'others', 'hinder', 'james', 'kmit', 'then', 'great', 'year', '23', 'old', 'niece', 'bird', 'left', 'davies', 'cassandra', 'living', 'destroy', 'painting', 'quality', 'that', 'can', 'training', 'infants', '1930s', 'posting', 'teacher', 'adamstown', 'helped', 'natural', 'but', 'just', 'sometimes', 'people', 'february', 'dark', 'interested', 'investment', 'buyer', 'encouraged', 'only', 'never', 'dictionary', 'women', 'birthplace', 'magazine', 'noted', '50', '1963', 'william', 'close', '9', 'dobell', 'lane', 'press', 'account', 'novel', 'documentary', 'gives', '1959', 'larsen', 'jackson', 'arriving', '1987', 'joined', 'reenactment', 'port', 'bicentennial', '1988', 'portsmouth', 'soren', 'sailing', 'may', 'hunnifords', 'unviable', 'land', 'rejected', 'parcel', 'proposed', 'built', 'offer', 'instead', 'smaller', 'publications', '1056680264', '220744993', 'selling', 'integrity', 'about', 'during', 'made', 'existence', 'quoted', 'sic', 'has', '11', 'sentiments', ']', 'contribution', '[', 'think', 'references', 'stands', 'former', '2019', 'installed', 'married', '1939', 'finding', 'block', 'sought', 'reopen', '2004', 'share', '1982', 'reissued', 'cassab', 'coburn', 'crooke', 'worked', 'hardest', 'achieve', 'other', 'story', 'reviewer', 'monograph', 'touched', 'seem', 'edition', 'limited', 'canberra', 'copy', 'published', 'attract', 'sentimentality', 'alexander', 'include', 'hint', 'glenda', 'delightful', 'boyds', '1000', 'times', '2000', 'science', 'historical', 'mainstream', 'culture', 'fantasy', 'twenty', 'his', 'writings', 'fiction', 'he', '2014', '2017', 'ashraf', 'between', 'editor', 'scientific', 'qafilah', 'al', '2006', 'فقيه', 'إحسان', 'e.', 'fagih', 'أشرف', 'saudi', 'academic', 'pronounced', 'fa', 'geeh', 'arabic', '2021', 'translation', 'yatakhayaloon', 'information', 'university', '&', 'also', 'technology', 'relations', 'center', 'outreach', 'kfupm', 'supervisor', 'deputy', 'community', 'served', '1997', 'creative', 'iii', 'creativity', 'world', 'tanween', 'numerous', 'season', 'discon', 'literature', 'invitee', 'ithra', 'events', 'writing', 'convention', 'courses', 'variety', 'concepts', 'offered', 'arab', 'specialized', 'course', 'massive', '2013', 'open', 'many', 'platform', 'according', 'mooc', 'october', 'online', 'ever', 'void', 'العدم', 'bibliography', 'رسم', 'novels', 'portrait', 'design', 'issues', 'related', 'doctoral', 'performance', 'such', 'hybrid', 'internet', 'explores', 'wireless', 'environments', 'things', '2020', 'tracing', 'vlad', 'ottomans', 'century', 'origins', 'struggle', '15th', 'against', 'thriller', 'dracula', 'count', 'numerals', 'pisan', 'leonardo', 'mathematician', 'following', '13th', 'fibonacci', 'introduction', 'europe', 'المُخوزِق', 'impaler', 'links', 'goodreads', 'list', 'profile', 'external', '9789921723700', 'stories', 'short', '2012', 'computer', 'fahd', 'petroleum', 'minerals', 'assistant', 'professor', 'career', '2018', 'department', 'lives', 'نيّف', 'وعشرون', 'حياة', 'collections', 'gulf', 'states', 'authors', 'notable', 'few', 'takween', 'man', 'youtube', 'bilateral', 'recovery', 'another', 'arms', 'released', 'arm', 'transplant', 'our', 'peck', 'american', 'afghanistan', 'sergeant', 'marine', 'john', 'mission', 'both', 'lost', 'legs', 'veteran', 'military', 'named', 'while', 'amputation', 'infection', 'device', 'improvised', 'hospital', 'stepped', 'explosive', 'exploded', 'remaining', 'recovering', 'forced', 'video', 'views', 'within', '5,000,000', 'received', 'him', 'vertellingen', 'oorlog', 'uit', 'den', '17e', 'brabant', 'de', 'verweer', 'zuid', 'helft', 'eerste', 'nederlandse', 'eeuw', 'der', 'studie', '1935', 'bijdrage', 'tot', 'vlaanderen', 'peilingen', 'muziek', '1928', '1933', 'strijdliteratuur', 'gabriëlla', 'smet', '1899', 'université', 'august', '1923', 'dutch', 'succession', '1937', 'libre', 'vermeylen', 'bruxelles', 'family', 'period', '16th', 'pamphleteering', 'verdussen', '17th', 'poetry', 'this', 'plantin', 'centuries', 'jan', 'luyken', 'ghent', 'bruges', 'thesis', 'obtaining', 'grew', 'doctorate', '1896', 'up', 'philology', '12', 'died', '1938', 'antwerp', 'cemetery', 'buried', 'schoonselhof', 'ii', 'van', 'philips', 'meesters', 'aartsdrukker', 'moretussen', 'zijn', 'passer', 'en', 'christoffel', 'opvolgers', 'gulden', 'lande', 'het', 'te', 'kerkske', 'marie', 'letters', 'guillaume', 'curator', 'museum', 'maurice', '1873', 'flemish', 'sabbe', 'maurits', 'moretus', 'charles', 'educator', 'statue', 'minnewater', '1950', 'unveiled', 'sashuis', 'establishments', 'working', 'different', 'number', 'secondary', '1998', 'wrote', 'several', 'scottish', 'football', 'sunday', 'correspondent', 'independent', 'two', 'father', 'now', 'leicester', 'daughters', 'cup', 'effort', 'argentina', 'caterpillar', 'review', 'fifa', 'entitled', 'earliest', 'six', 'went', '1978', 'hugh', 'manchester', 'white', 'patrick', 'united', 'appointment', 'barclay', 'opus', 'jim', 'since', 'mcilvanney', 'authored', 'books', 'amongst', 'midfielder', 'edinburgh', 'juveniles', 'regular', 'footballer', 'stonehaven', 'botham', 'witness', '1981', 'present', 'headingley', 'miracle', 'liverpool', 'succeeding', 'underachieving', 'elevens', 'forties', 'further', 'getting', 'any', 'adult', 'acted', 'managing', 'consistent', 'into', 'batsman', 'sefton', 'cricket', 'cc', 'aberdeen', 'balmoral', 'team', 'colts', 'appeared', 'northcroft', 'fc', 'supporter', 'childhood', 'nominated', 'sports', 'book', 'supporters', 'writer', 'federation', 'awards', 'best', 'british', 'graduated', 'english', 'ma', '1993', 'shook', 'dele', 'victory', 'how', 'russia', 'means', 'surprise', 'game', 'sport', 'fearless', '2016', 'premier', 'england', 'darts', 'deadlines', 'alli', 'league', 'take', 'early', 'household', 'sporting', 'interest', 'studies', 'centre', 'completed', 'diploma', 'journalism', 'postgraduate', 'herald', '1995', 'began', 'trainee', 'reporter', 'news', 'scotland', 'chief', 'currently', 'journalist', 'jonathan', 'feature', 'shortlisted', 'britain', 'journalists', 'council', '238', 'included', 'respected', '10', 'gained', 'prime', 'record', '$', 'notability', 'ruler', '1.6', 'price', 'rashid', 'publication', 'bin', 'signed', 'maktoum', 'minister', 'auction', 'm', 'dubai', 'sheikh', 'mohammed', 'widespread', 'yet', 'turned', 'education', 'class', 'primary', 'newtonhill', 'regularly', 'write', 'assignments', 'opportunity', 'dux', 'mackie', '1990', 'schooling', 'academy', 'northern', '2009', 'promoted', '2001', 'award', 'young', 'memorial', 'writers', 'inaugural', 'winner', 'rodger', 'ferguson', 'alex', 'followed', 'manager', 'sky', 'seán', 'pundit', 'supplement', 'networks', 'programme', 'appearances', 'rté', 'appears', \"o'rourke\", 'tv', 'show', 'live', 'bbc', 'radio', '5', 'broadcast', '1', 'bt', 'today', 'podcast', 'sons', 'twelve', 'history', 'bens', 'beyond', 'clifden', 'district', 'articles', 'villiers', 'county', 'west', 'tuthill', 'raised', 'galway', 'kathleen', 'irish', 'recognition', 'heritage', 'nimmo', 'granted', 'western', 'america', 'fulbright', 'philippine', 'president', 'association', 'scholars', 'cruz', 'language', 'bibliographer', 'drama', 'known', 'apart', 'website', 'r.', 'official', 'isagani', 'blog', 'inquirer', 'bulaklak', 'asiaweek', 'romances', 'ellaneous', 'daily', 'panorama', 'periodicals', 'contributor', 'ms', 'observer', 'parade', 'journal', 'alfredo', 'la', 'languages', 'lectures', 'held', 'prior', 'chaired', 'retirement', 'litiatco', 'salle', 'universities', 'literary', 'filipino', 'critic', '1945', 'palabas', 'malay', 'loyola', 'interlock', 'philippines', 'pelikulang', 'research', 'cultural', 'club', 'chair', 'member', 'bridge', 'founding', 'manunuri', 'pilipino', 'head', 'tournament', 'critics', 'ng', 'manila', 'circle', 'scholastic', 'advocate', 'institutions', 'promote', 'groups', 'antony', 'fellow', 'oxford', 'visiting', 'publisher', 'degree', 'undergraduate', 'bachelor', '1965', 'earned', 'diliman', 'physics', 'enrolled', '1970', 'ateneo', 'earn', 'later', 'essays', 'fame', 'result', 'plays', 'winning', 'palanca', 'tomas', 'santo', 'carlos', 'don', 'allowed', 'grant', '1972', 'study', 'seawrite', 'gawad', 'balagtas', 'contest', 'centennial', '1999', 'won', 'literacy', 'advanced', 'subjects', 'teaching', 'eastern', 'far', 'quezon', 'maryland', '1976', 'kong', 'international', 'hong', 'korea', 'japan', 'indonesia', 'malaysia', 'conferences', 'canada', 'represented', 'taiwan', 'france', 'lead', 'nineteenth', '1900', 'war', 'article', 'would', 'senussi', 'holy', 'proclaimed', 'sponsor', 'candidacy', 'electoral', 'renamed', '1888', 'lanarkshire', 'mid', 'representation', 'championed', 'keir', 'although', 'labour', 'party', 'did', 'liberal', 'hardie', 'elected', 'trades', 'threlfall', 'southport', 'took', '1903', 'sword', 'adventures', 'shocker', 'saturday', 'illiterate', 'magistrate', 'strange', 'allah', 'politician', 'unionist', 'fl.1932', 'trade', '6', '1852', 't.', 'thomas', 'robert', 'hallam', 'himself', 'election', '1885', 'frederick', 'persuaded', '1886', 'maddison', 'stood', 'general', 'candidates', 'sheffield', 'union', 'congress', 'tuc', 'serve', 'candidate', 'kirkdale', 'lib', 'unsuccessful', 'lab', 'parliament', 'again', '1892', 'secretary', 'forming', 'local', 'organisations', 'affiliated', 'activity', 'focused', 'body', '1914', 'successfully', 'applied', '1929', 'unsuccessfully', 'fund', 'royal', '1932', 'idea', 'typographical', 'men', 'standing', 'convinced', 'form', 'bremser', 'troia', 'drawing', 'renewed', 'republished', 'sent', 'bonnie', 'page', 'journey', 'weekly', 'mexico', 'jailed', 'experience', 'ray', 'chronicling', 'sex', 'authorities', 'jail', 'told', 'said', 'correspondence', 'around', 'get', 'maximum', 'business', 'letter', 'memoirs', 'frazer', 'love', 'protofeminist', 'figure', 'memoir', 'epistolary', 'beat', 'brenda', 'mexican', '1961', 'wanted', 'parole', 'daughter', 'husband', 'because', 'infant', 'fled', 'violation', 'beats', 'among', 'especially', '1950s', 'drawn', 'republishing', 'toward', 'awareness', 'those', 'gender', 'attitude', 'nuanced', 'race', 'marry', \"'d\", 'met', 'dropping', 'earlier', 'whom', 'briefly', 'briar', 'weeks', 'sweet', 'engaged', 'urging', 'jack', 'kerouac', 'frequently', 'chronicle', 'road', 'draws', 'comparisons', 'autobiographical', 'washington', 'd.c', 'whore', 'or', 'slang', 'word', 'meaning', 'sow', 'troy', 'italian', 'compiled', 'originally', 'woman', 'classic', 'movement', 'vantage', 'reception', '’s', 'aesthetics', 'experimental', 'ethos', 'speaks', 'issued', 'fatwa', 'shadow', 'threat', 'says', 'thus', 'eight', 'shares', 'secrecy', 'invisible', 'jacky', 'read', 'trevane', 'resulted', '2005', 'survive', 'contacted', 'egypt', 'arrived', 'dave', 'holiday', 'boyfriend', 'bore', 'decided', 'however', 'sour', 'return', 'marriage', 'jennifer', 'ghostwriter', 'describing', 'version', 'clifford', 'called', 'maged', 'muslim', 'omar', 'thurlow', 'egyptian', 'sight', 'pseudonym', 'away', '1992', 'ran', 'lived', 'islam', 'suburb', 'poor', 'cairo', 'fajr', 'claims', 'spoke', 'providing', 'denying', 'circumstances', 'unhappiness', 'these', 'substantial', 'servant', 'essay', 'artistic', 'jong', 'solely', 'female', 'sok', 'suk', 'branch', 'heo', 'expression', 'forms', 'na', 'hye', 'consider', 'multiplicity', 'munje', 'ingan', 'deals', 'wonso', 'pond', 'kang', 'kyŏng', '1944', 'ae', 'hwanghae', '26', 'mother', 'province', 'month', 'april', 'children', 'changyeon', 'remarried', 'move', 'student', 'tokyo', 'seoul', 'affair', 'seven', 'altogether', 'ceased', 'lasted', 'praised', 'often', 'relationships', 'freedom', 'ties', 'failed', 'cut', 'anti', '강경애', '1906', '姜敬愛', 'feminist', 'korean', 'poet', 'novelist', '20', 'involved', 'catholic', 'boarding', 'brother', 'law', 'garden', 'chukgu', 'child', 'geomungo', 'vegetable', 'jeon', 'pageum', 'moja', 'chaejeon', '”', '“', 'storyteller', 'neighborhood', 'tales', 'nicknamed', 'ten', 'little', 'elders', 'traditional', 'acorn', 'penname', 'gama', 'communist', 'ŭm', 'publishing', 'wife', 'newlywed', \"p'ag\", 'manchuria', 'zither', '1931', 'divorced', 'mentioned', 'foremost', 'colonial', 'greatly', 'alphabet', 'tale', 'something', 'prodigy', 'started', 'ch’unhyang', 'step', 'using', 'songhwa', 'unhappy', 'particularly', 'sit', 'participating', 'dorm', 'strict', 'orchestrating', 'mistress', 'expelled', 'cruel', 'policies', 'mothers', 'ttal', 'proto', 'wa', 'focusing', 'oppression', 'eomeoni', 'yongjin', 'churn', 'housewife', 'ended', 'back', 'experiences', 'based', 'extremely', 'koreans', 'underclass', 'produced', 'manchurian', 'ilbo', 'chosun', 'partly', '1908', 'elise', 'c.', 'boys', 'columbia', 'until', 'skowhegan', 'recordings', 'schirmer', 'additional', 'portland', 'boston', '1934', 'places', 'maine', 'various', 'brunswick', 'topsham', 'folk', 'percy', 'composer', 'grainger', 'corresponded', 'music', 'recorded', 'deis', 'accompanied', 'pieces', 'playing', 'piano', 'violin', 'records', 'carl', 'played', 'chapter', 'bloomfield', 'kennebec', 'quarterly', 'colburn', 'chicago', 'musical', 'louise', 'vienna', 'lewinger', 'kneisel', 'jacob', 'continued', 'grun', 'society', 'cecilia', 'conductor', 'lang', 'astoria', 'hotel', 'benjamin', 'bagby', 'under', 'debut', 'johnson', 'york', 'waldorf', 'hostess', 'booth', 'fair', 'company', 'toured', 'trio', 'mckenzie', 'rebecca', 'tour', 'soprano', \"o'reilly\", '1895', 'consisting', 'bertha', 'southern', 'pianist', 'zaidee', 'morrison', 'lincoln', 'closest', 'native', 'fellows', 'deborah', 'bio', 'frank', 'swan', 'grateful', 'perhaps', 'opportunities', 'am', 'privileges', 'let', 'rewarded', 'generously', 'memories', 'more', 'wealth', 'good', 'orchestra', 'violinist', 'symphony', 'epidemic', '1918', 'flu', 'support', 'bruce', 'financially', '1889', 'colby', 'eugen', '1887', 'gruenberg', 'gave', 'recitals', '1927', 'beach', 'seeing', 'lindbergh', 'solo', 'months', 'july', 'atlantic', 'historic', '25', 'flight', 'across', 'diary', 'orchard', '14', '22,1953', 'november', 'franz', 'timothee', 'so', 'conservatory', 'adamowski', 'emery', 'elson', 'campanari', 'narrative', 'enough', 'rather', 'mishaps', 'worries', 'than', 'therefore', 'joys', 'deal', 'intense', 'scenery', 'traveler', 'my', 'sorrows', 'though', 'autobiography', 'surroundings', '1907', '1898', 'fifth', '1806', 'testament', '1818', 'abroad', 'owen', 'preparation', 'establishment', 'paris', 'daniel', 'assist', 'turkish', 'inspect', 'kieffer', 'bible', 'progress', 'sykes', 'magdalene', 'cambridge', '1784', 'admitted', 'sizar', 'exhibitioner', 'resided', '1813', 'fulham', 'randolph', 'presented', 'porteus', 'insisted', 'successor', '1808', 'rectory', 'resigned', 'essex', 'curacy', 'paglesham', 'foundation', 'priest', 'foreign', 'anglican', 'french', 'orde', 'survived', 'henry', 'sharp', 'sermon', 'surgeon', '1809', '3rd', '1804', 'bishop', 'edit', 'beilby', 'dedication', '2nd', 'expostulation', 'public', '1801', 'worship', 'neglect', 'earnest', '1816', 'displayed', 'fashionable', '1st', 'christian', 'theophilus', 'ramsgate', '1822', 'september', 'attack', 'nation', 'religion', 'ground', 'conquered', 'free', 'india', 'twining', 'reply', 'exercise', 'waring', 'improperly', '1794', 'charlotte', 'settled', 'green', 'second', '1823', 'esther', 'nathaniel', 'wells', 'principal', '—', 'position', 'unpaid', 'branches', 'oberlin', 'j.', 'zurich', 'towns', 'f.', 'visited', 'constance', 'swiss', 'gall', 'chapel', 'chelsea', 'half', 'seventeen', '1795', 'middlesex', 'end', 'translations', 'southey', 'criticised', '1827', 'reviewed', '7th', '1805', 'bfbs', 'claim', 'main', 'connection', 'barrister', 'wilberforce', 'eldest', 'son', 'frances', 'coached', '1820', 'assize', 'sermons', 'preached', 'geneva', '1792', 'find', 'revolutionaries', 'lyon', 'hands', 'origin', 'vols', '2', '5th', 'december', 'returned', 'eighth', 'bergsalz', 'sternstunde', 'melody', 'translated', 'shop', 'familiar', 'sung', 'settling', 'berlin', 'austria', 'linguist', 'philosopher', 'german', 'karin', 'kalisa', '1434', '1428', 'previously', 'ah', 'الأحمدي', 'بنت', 'muqbi', 'bint', 'مقبل', 'ahmadi', 'asma', 'عوض', 'أسماء', 'بن', 'awad', 'isthmus', 'jazan', 'title', 'baynahoma', 'barzik', 'publishers', 'islamic', 'abdulaziz', 'skills', 'expertise', 'qualifications', 'faculty', 'hold', 'creations', 'sharjah', 'joint', 'qawafi', 'shatharat', 'papers', 'selected', 'newspapers', 'some', 'distribution', 'khayal', 'qalam', 'journals', 'dar', 'caine', 'african', 'whispers', 'prize', 'weight', 'busby', 'edited', 'anthology', 'africa', 'tender', 'takes', 'gloom', 'romance', 'haunted', 'dickensian', 'passages', 'comedy', 'clear', 'silences', 'yvonne', 'adhiambo', 'musiitwa', 'owuor', 'interview', 'grows', 'nature', 'island', 'tsunami', 'reshape', 'past', 'clad', 'itself', 'extremist', 'forces', 'taciturn', 'murky', 'seeking', 'sanctuary', 'begin', 'china', 'dragonflies', 'adulthood', 'emissaries', 'kidnappers', 'ayaana', 'visitor', 'black', 'muhidin', 'finds', 'sailor', 'enters', 'reviewing', 'tearshed', 'lust', 'bloodshed', 'proportions', 'human', 'you', 'taiye', 'dust', 'dazzling', 'staggering', 'entirety', 'selasi', 'produce', 'kinshasa', 'binyavanga', 'pilgrimages', 'intends', 'wainaina', 'participated', 'achebe', 'along', 'travelled', 'project', 'chinua', '2022', 'shringarpure', 'telling', 'bhakti', 'angeles', 'los', 'decolonizing', 'conversation', 'kenya', 'professional', 'kenyatta', 'development', 'reading', 'taking', 'nairobi', 'arts', 'contributions', 'category', 'kenyan', '1968', 'tedx', 'landscape', '18th', 'tedxnairobi', 'corruption', 'lamentation', 'deceit', 'tumultuous', 'politics', 'vortex', 'grief', 'moves', 'generations', 'swirling', 'single', '?', 'set', 'previous', 'kwani', 'aristocratic', 'refugee', 'considers', 'rwandan', 'knife', 'same', 'grinder', 'worldwide', 'mcsweeney', 'style', 'alternately', 'incantatory', 'harsh', 'propulsive', 'impressionistic', 'sea', 'dragonfly', 'halmshaw', 'guernica', 'river', 'interviews', 'michael', '3', 'running', 'coast', 'pate', 'off', 'girl', 'munira', 'critically', 'jomo', 'acclaimed', 'folio', 'keeps', 'moment', 'bloodied', 'next', 'voice', 'poetic', 'torture', 'walls', 'cell', 'trapped', 'us', 'soars', 'plains', 'talent', 'post', 'extraordinary', 'range', 'ron', 'demonstrates', 'pages', 'obtained', 'queensland', 'mphil', 'festival', 'screenwriter', 'executive', 'zanzibar', 'east', 'comes', 'joy', 'beauty', 'dramatic', 'seduced', 'amid', 'powerful', 'violence', 'devotion', 'ends', 'tenuous', 'embarking', 'unreliable', 'ship', 'discovers', 'charming', 'enemies', 'scion', 'surprising', 'reclaims', 'juliette', 'arise', 'foster', 'tedxeuston', 'keeping', 'success', '19', 'wayback', 'kansiime', 'archived', 'machine', '16', 'backpackers', 'habits', 'sporah', 'leisure', 'evening', 'thursday', 'every', 'week', 'once', 'neighboring', 'slot', 'star', 'breakthrough', 'screen', 'citizen', 'feedback', 'videos', 'positive', 'tends', 'aspects', 'focus', 'banker', 'retired', 'passengers', 'taxi', 'minibuzz', 'discussed', 'series', 'provided', 'topical', 'partnered', 'random', 'mulondo', 'comic', 'dramatizations', 'brian', 'no', 'wire', 'skits', 'barbed', 'ntv', 'uganda', 'mess', 'receive', 'thousands', 'lilongwe', 'harare', 'kuala', 'gaborone', 'lusaka', 'lagos', 'kigali', 'lumpur', 'packed', 'blantyre', 'original', 'like', 'talking', 'release', 'album', 'songs', 'compiling', 'process', 'kabale', 'birth', 'mparo', 'media', 'queen', 'outlets', 'referred', 'bweranyangi', 'level', 'bushenyi', 'senior', 'comedian', 'ugandan', 'actress', 'popularly', 'kubiryaba', '1986', '13', 'entertainer', 'channel', 'amassed', '15', 'sketch', '35', 'supports', 'nov', 'rumours', 'lake', 'runs', 'conveniently', 'bunyonyi', 'shores', 'overseeing', 'located', 'disintegrated', 'replaced', 'fun', 'theatre', 'factory', 'holds', 'makerere', 'social', 'central', 'participate', 'kampala', 'beginning', 'ojok', 'gerald', 'acholi', 'conservative', 'examiner', 'compact', 'invasion', 'onto', 'start', 'andrews', 'appearing', 'prudence', 'russian', 'policymakers', 'avoid', 'ukraine', 'ba', 'yale', 'guess', 'policy', 'primarily', 'probably', 'trump', 'gravitated', 'minority', 'rittelmeyer', 'wing', 'right', 'commentator', 'political', 'too', '‘', '’', 'lot', 'thrower', 'upsets', 'bomb', 'mind', 'know', 'reputation', '술꾼', '타인의', '1971', 'stranger', 'boozer', 'room', 'novelists', 'controversial', '방', 'handful', 'hanguk', 'competitions', '1966', 'sponsored', 'notice', 'sasanggye', 'overnight', 'intelligence', 'choe', 'hours', 'issue', 'written', 'drank', 'drinker', 'prodigious', 'ro', 'sidewalk', 'memorialized', 'handprints', 'guzzler', 'youth', 'detail', '한국문학특집호', '한誌', 'für', 'des', 'institut', 'koreanische', 'kultur', '1984/5', 'schriftenreihe', 'instituts', 'sang', 'prestigious', 'yi', 'middle', 'dehumanization', 'burgeoning', 'presenting', 'rapidly', 'industrializing', 'resultant', 'satirical', 'consumerism', 'caught', 'picture', 'inho', '최인호', '17', 'deep', 'alienated', 'california', 'blue', 'night', 'trip', 'mid-1970s', 'generalized', 'alienation', 'munhak', 'besides', 'awarded', 'hyundae', 'institute', 'fulton', 'jimoondang', 'landscapes', 'results', 'widely', 'anthologized', 'depicted', '43', 'extend', 'buddhism', 'managed', 'catholicism', 'nonetheless', '68', 'gland', 'cancer', 'salivary', '1967', 'yonsei', 'spring', 'debuted', 'gyeonseup', 'apprentice', 'hwanja', 'winners', '견습환자', 'patient', 'naturally', 'bahawalpur', '1948', 'nayyar', 'pakistani', 'adam', 'ethnomusicologist', 'anthropologist', 'islamabad', '2008', 'acting', 'pnca', 'pakistan', 'virsa', 'lok', 'heidelberg', 'germany', 'anthropology', 'lymph', 'due', 'nodes', 'jatras', 'cuttack', 'arranger', 'state', 'kothapada', 'baishnaba', 'type', 'indian', 'mahanga', 'pani', 'odisha', 'hussain', 'natua', 'mohanty', 'farce', 'saudagara', 'jatra', 'abu', 'popular', 'introduced', 'odia', 'gitinatya', 'balochistan', 'punjabi', 'interwar', 'ras', 'hills', 'sikhs', 'koh', 'treated', 'physicians', 'recently', 'parker', 'even', 'me', 'speak', 'williams', 'n’t', 'got', 'decision', 'job', 'call', 'hour', 'inconclusive', 'asked', 'wait', 'confirming', 'each', 'interviewers', 'asking', 'informed', 'questions', 'hardly', 'spent', 'contacts', 'tasks', 'spread', 'smallpox', 'designated', 'injections', 'officer', 'visits', 'contact', 'identifying', 'arose', 'containing', 'quarantine', 'outbreaks', 'vaccinations', 'role', 'antibody', 'liaison', 'diseases', 'infectious', 'exotic', 'global', 'knowledge', 'compendium', 'hepatitis', 'dealt', 'b', 'efforts', 'typhoid', 'meningitis', 'birmingham', 'addition', 'disinfecting', 'mrs', 'isolating', 'dealing', 'contributed', 'impressive', 'contamination', 'wider', 'vaccinating', 'areas', 'possible', 'task', 'preventing', 'considerably', 'action', 'medical', 'outbreak', 'mozambique', 'refugees', 'zambia', 'regional', 'returning', 'cholera', 'responsible', 'tenure', 'underlying', 'principles', 'plans', 'chemical', 'practitioners', 'epidemiological', 'framework', 'incidents', 'surveillance', 'implications', 'health', 'contained', 'alert', 'bakhshi', 'organization', 'lifted', 'onset', 'nicol', 'w.', '1980', '37556538', 's2cid', 'environmental', 'pallen', 'officers', 'restaurants', 'disinfection', 'use', 'cab', 'unrestricted', 'recruitment', 'service', 'inspectors', 'floors', 'hundred', 'inn', 'nurses', 'staff', 'funding', 'associates', 'secured', '85', 'administrative', 'doctors', 'food', '60', '40', 'explains', 'gloucester', 'shared', 'weekends', 'sikh', 'practice', 'tuberculosis', 'guide', 'kingdom', 'nations', 'diaspora', 'faith', 'hawker', 'i.', 's.', 'farrington', 'jeremy', 'ali', 'shaukat', 'paddy', 'surinder', '1977', 'led', 'physician', 'singh', 'successful', 'area', 'authority', 'kaur', 'rajinder', 'sweetheart', 'bedson', 'chairmanship', 'geddes', 'meeting', 'hear', 'advisory', 'control', 'barotse', 'snakebites', 'situated', 'zambezi', 'mostly', 'population', 'programmes', 'immunisation', 'brief', 'last', 'given', 'days', 'mark', 'es', 'large', 'medicine', 'salaam', '1960', 'spending', 'admission', 'pubmed', 'masters', 'rockefeller', 'michigan', 'fellowship', 'utilised', 'isolated', 'almost', 'down', '24', 'pin', '7216', '319', 'originating', 'acupuncturist', 'patients', 'tb', 'behaviour', '0959', '8138', 'issn', 'jobs', 'completing', 'moving', 'differences', 'ecological', 'poverty', 'relation', 'ethnic', 'analysis', 'office', 'corridor', 'allocated', 'alasdair', '8527189', 'pmid', 'look', 'used', 'feel', 'sorry', 'sally', 'usual', 'recounted', 'oral', 'epidemiology', 'future', 'uk', 'trends', 'interviewed', 'delegated', 'accordingly', 'either', 'colleagues', 'devised', 'method', 'categorising', 'visitors', 'matador', 'responsibility', 'case', 'index', 'janet', 'flights', 'stairs', 'alpha', 'lift', 'tower', 'walked', '45160661', 'jstor', 'sohan', 'emigrants', 'surinderjit', 'amrit', 'bankstown', 'generation', 'members', 'yusuf', 'campaigned', 'publicly', 'endorsed', 'seat', 'safe', 'reid', 'labor', 'federal', 'joining', 'activities', 'campus', 'faction', 'iremonger', 'submission', 'unwin', 'radicals', 'allen', 'urdu', 'irfan', 'یوسف', 'factional', '2002', 'liberals', 'nsw', 'warrior', '1994', 'explained', 'legal', '%', 'swing', 'preferred', 'achieved', 'sector', 'helpful', 'key', 'ladin', 'osama', 'marginalise', 'accused', 'willing', 'homophobia', 'jews', 'recruit', 'exploit', 'derogatory', 'remarks', 'clarke', 'homosexuals', 'muslims', 'campaign', 'we', 'dress', 'rebelliousness', 'minimising', 'facetiously', 'dresses', 'suggested', 'diversity', 'bombs', 'security', 'hiding', 'discouraging', 'saying', 'stupid', 'denied', 'offensive', 'islamo', 'teenage', 'fascist', 'description', 'passionate', 'funny', 'speaker', 'extremism', 'guest', 'hypocrisy', 'event', 'points', 'moderation', 'finger', 'economics', 'macquarie', 'speech', 'criticism', 'towards', 'responded', 'declaring', 'lateline', 'scandal', 'racist', 'bigots', 'affected', 'leaflet', 'emerged', 'involving', 'surrounded', 'remarked', 'division', 'corners', 'criticising', 'direction', 'episode', 'jesuit', 'highly', 'eureka', 'commended', 'majority', 'combating', 'vehemently', 'eventuated', 'threatening', 'major', 'television', 'iconic', 'headscarf', 'ban', 'emblem', 'inconsistent', 'uniforms', 'defiance', 'schools', 'grounds', 'link', 'listing', 'blogger', 'blogs', 'opinion', 'newmatilda.com', '7', 'andrew', 'karachi', 'bronwyn', 'representatives', 'colleague', 'rways', 'bou', 'amentag', 'legacy', 'ahmed', 'imik', 'ayga', 'chahwa', 'dedicated', 'salem', 'poems', 'zinthe', 'rays', 'belgium', 'morocco', 'jihadia', 'tuesday', 'sick', 'fell', 'dcheira', 'el', 'singer', 'tashelhit', 'songwriter', 'moroccan', 'ṛṛays', 'taroudant', 'leaving', 'madrasa', 'ribab', 'play', 'village', 'mentaga', 'lhadj', 'wahrouch', 'demsiri', 'belaid', 'mohamed', 'see', 'report', 'name', 'tachelhit', 'recording', '1960s', 'found', 'alison', '1956', 'ecology', 'plant', 'carnegie', 'reader', 'specht', 'smith', 'mundt', 'grants', 'botany', '1964', 'intended', 'pursue', 'distinguished', 'conservation', 'fields', 'order', 'riverton', 'mathematics', 'chemistry', 'spend', '8', 'tonnes', 'collecting', 'specimens', 'botanist', 'richmond', 'adelaide', 'finishing', 'biology', '1943', 'attending', 'studying', '1946', 'ultimately', 'bsc', 'zoology', 'honours', 'identified', 'brisbane', 'materials', 'collected', 'flew', 'prepared', 'expedition', '1949', '1958', 'p.', 'become', 'volume', 'mountford', 'forestry', 'vegetation', 'lecturer', 'phd', 'biomass', 'mineral', '1951', 'nutrition', 'heath', '1955', 'rose', '1989', 'remained', 'ecologist', 'louis', 'arnhem', 'raymond', '1924', 'conservationist', 'fraser', 'leeds', '1975', 'gillies', '1952', 'marion', 'rijksmuseum', 'arboretum', 'recovered', 'arnold', 'herbaria', 'steadily', 'leiden', 'kew', 'smithsonian', 'institution', 'harriet', 'join', 'geographic', 'invited', '1851', 'inventions', 'products', 'percha', 'exhibiting', 'dozen', 'gutta', 'line', 'cornwall', '1831', 'richard', 'railway', 'demonstration', 'stimulating', '1845', 'cables', 'credited', 'faraday', 'insulation', 'siemens', 'whishaw', 'suggestions', 'sources', 'obituary', 'notes', 'francis', '1830s', 'telegraph', 'late', 'hydraulic', 'promoting', 'railways', 'promoter', 'companies', 'engineer', 'm.', 'civil', '365–366', 'architect', '1849', 'artisan', 'electric', 'taken', 'workhouse', 'doctor', 'infirmary', '1838', 'surveyor', 'articled', 'walker', '1856', 'fuller', 'wentworth', 'prince', 'albert', 'dilke', 'indifference', 'stephenson', 'pulled', 'expense', 'planned', 'laxton', 'reduced', 'complained', 'occasional', 'loss', 'pains', 'mortem', 'apoplexy', 'verdict', 'drawings', 'detailed', 'construction', 'westminster', 'celebrating', 'centenary', 'penrith', 'communication', 'lancaster', 'policeman', 'kentish', 'partially', 'conscious', 'attend', 'residence', 'sometime', 'watch', 'velocentimeter', 'trumpet', 'telakouphanon', 'trains', 'speaking', 'timing', 'enlarged', 'manufacturers', 'largely', 'disregarded', 'illustrated', 'practically', 'ireland', '1840', '1835', 'bidder', '1844', 'point', 'small', 'regarded', 'rooms', 'starting', 'zollverein', 'fairs', 'industrial', 'inspirations', 'exposition', '1847', '1839', 'mode', 'observations', 'economical', 'executing', 'system', 'efficient', 'equally', 'goodale', 'ernest', '1837', 'minutes', 'proceedings', 'webster', 'recruited', '1843', 'prompt', 'cooke', 'push', 'manuscript', 'abstract', 'telford', 'silver', 'engineers', 'medal', 'bela', 'abdaal', 'serving', 'army', 'ispr', 'colonel', 'lahore', 'punjab', 'sialkot', 'navy', 'mbbs', 'captain', 'quaid', 'msc', 'administration', 'azam', 'worldcat', 'abdal', 'ludhiana', 'migrated', 'faisalabad', 'government', 'grandchildren', 'failure', 'toorak', 'nine', 'aged', 'granddaughter', '89', 'heart', '9695188', 'exposé', 'hostels', 'run', 'argus', 'baldwin', 'victorian', 'walkley', 'spencer', 'arrernte', 'adoption', 'ballet', 'walkabout', '1979', 'dolly', 'patron', 'printer', '27', 'alfred', 'temple', 'kilda', 'beth', 'israel', 'chevra', 'kadisha', 'special', 'freelance', '1920', 'ruskin', 'pamela', 'profession', 'practise', 'naturalised', 'fate', 'should', 'distaste', 'judges', 'stocking', 'legalised', 'typifies', 'pertinent', 'poem', 'personality', 'strong', 'romantic', 'dogs', 'euthanasia', 'bright', 'stamps', 'blues', 'sentences', 'light', 'belief', 'eighties', '1996', 'hampstead', 'samuel', 'goldhill', 'zimbler', 'newspaper', 'column', 'stamp', 'morris', 'collaborated', '1984', 'ken', 'scarlett', 'duldig', 'karl', 'monographs', 'westbrook', 'eric', '1980s', 'sculptors', 'devoted', '940890073', 'presenter', 'radford', 'illustrator', 'rendell', 'dancers', 'forbes', 'barry', 'dimitris', 'humphries', 'quach', 'zelman', 'actor', 'significant', 'length', 'drummond', 'production', 'helpmann', 'welch', 'carden', 'ruth', 'cowan', 'garth', 'figures', 'tsaloumas', 'joan', 'truscott', 'postage', 'advertising', 'booksellers', 'penned', 'webber', 'margareta', 'reviews', 'incorporating', 'frequent', 'collins', 'decoding', 'leave', 'jewish', 'purges', 'section', '45', 'nazi', '1940', 'magazines', '30', 'singapore', 'board', 'frequenly', 'stairway', 'roundabout', 'stars', 'upfield', 'critical', 'arthur', 'investigating', 'mid-1950s', 'rag', 'furrier', 'flinders', 'conducted', 'mast', 'ymca', 'tennison', 'january', 'summer', 'caroline', '1954', 'ave', 'features', 'agency', 'monomeath', 'isaacson', 'invitation', 'melba', 'chairman', 'perpetual', 'opera', 'considered', 'deviation', 'genuine', 'lolita', 'unpleasant', 'despite', 'hero', 'sexual', 'cheshire', 'diocese', '1564', 'rimpton', '22', '1562', 'luther', 'marldon', 'canon', 'exeter', 'modest', '1547', 'denounced', 'crispin', 'martin', '1548', 'subsequent', 'argument', 'accepted', 'virtually', 'property', 'devon', 'ilfracombe', 'north', 'country', 'edward', 'nichols', 'nicolles', 'vi', 'philip', 'evangelical', 'reign', 'nicolls', '1549', 'prayer', 'mistaken', 'answer', 'devonshire', 'tract', 'attribution', 'response', 'commoners', 'rebellion', '1575', 'reprinted', 'argued', 'nicholas', 'traditionally', 'gustave', 'doister', 'udall', 'ralph', 'scheurweghs', 'authorship', 'attributed', 'roister', 'demonstrated', 'actually', 'handwriting', 'true', 'draft', 'surviving', 'attempted', 'elizabeth', 'pace', 'reform', 'lobby', 'sir', 'cecil', 'dnb', 'bradshaw', 'accession', 'protestant', 'aarau', 'colony', 'exile', 'whether', 'aimed', 'touch', 'triall', 'prove', 'teachings', 'standards', 'controversy', 'stone', 'polite', 'false', 'unknown', 'date', 'reformed', 'peter', 'enthusiasm', 'carew', 'client', 'gentleman', 'regime', 'minjok', 'redoubled', 'pursuing', 'rhee', 'autonomous', 'term', 'revived', '1905', 'confucian', 'seonggyungwan', 'receiving', 'shin', 'grandfather', 'silla', 'slow', 'fall', 'descent', 'muyeol', 'fracturing', 'unity', 'balhae', 'attributing', '447', 'solitary', '1936', 'posthumously', 'presidential', 'merit', 'citizenship', '156', 'republic', 'hemorrhage', '1962', 'lüshun', 'confinement', '21st', 'prison', 'brain', 'seonseup', 'knew', 'begun', 'thousand', 'dongmong', 'learning', 'olds', 'characters', 'chinese', 'already', 'tangun', 'chae', 'choseon', 'brought', 'reliance', '주체', 'successes', 'self', 'juche', 'dynasties', 'full', 'autonomy', 'lamenting', 'searching', 'ideology', '主體', 'partial', 'source', 'unification', 'ho', 'koryeo', 'spelt', 'ized', 'authentic', 'adulteration', 'divine', 'historiography', 'knowingly', '4', 'enrollment', 'excessive', 'criticized', 'continuation', 'ness', 'inseparable', '239', 'adopt', 'customs', 'travel', 'patriotism', '국가', 'kukka', 'implied', '민족', 'favoured', 'loyalty', 'racial', 'races', 'measure', 'buyeo', 'asia', 'standard', 'conflict', '34', 'interpreted', 'borrowed', 'dream', 'boundaries', 'dante', 'resembles', 'compelling', 'making', 'aggravated', 'arbitrary', 'thought', 'encourage', 'nationalism', 'theory', 'border', 'extensively', 'challenge', 'pen', 'danjae', 'dansaeng', 'changed', 'differ', 'younger', 'ancient', 'terms', 'borders', 'courts', 'justified', 'historians', 'territorial', 'traced', 'usually', 'employed', 'consistently', 'battles', 'victor', 'describe', 'concept', 'basal', 'kingdoms', 'rules', 'constructed', 'defence', 'rich', 'change', 'substantially', 'gukga', 'whereas', 'defining', 'syngman', 'unacceptable', 'decried', 'provisional', 'acquaintance', 'politically', 'ethnocentric', 'devitalize', '주족', 'host', 'greater', '32', 'ignore', 'solidified', 'necessary', 'dismisses', 'identification', 'chujok', 'bred', 'goats', 'angora', 'otago', 'peninsula', 'zealand', 'hamel', '2011', '28', 'vancouver', 'spirit', 'projects', 'gardening', 'urban', 'gardens', 'revitalize', 'master', 'pevec', 'curriculum', 'k.', 'chawla', 'keena', 'resilience', 'havens', 'stanley', 'l.', 'resources', 'adolescence', 'stress', 'schoolyards', 'commons', 'building', 'h.', 'cushing', 'vliet', 'd.', 'malinin', 'zuniga', 'flanders', '1–33', 'environment', 'elementary', 'shava', 'agriculture', 'barnett', 'nzira', 'educational', 'activist', 'illène', 'developing', 'centers', 'grandview', 'gaining', 'basalt', 'farmers', 'colorado', 'fat', 'serves', 'carbondale', 'program', 'multinational', 'countries', 'developed', 'brazil', 'understanding', 'integrates', 'harvest', 'gardeners', 'disciplines', 'teen', 'mentored', 'effect', 'better', 'growing', 'generate', 'prevention', 'cries', 'portugal', 'derr', 'l', 'v.', 'peace', 'marylhurst', 'interdisciplinary', 'humanities', 'stanford', 'festivals', 'heroes', 'horticulture', 'lessons', 'doing', 'jambu', 'sita', 'medicinal', 'founded', 'communities', 'grown', 'plants', 'brazilian', 'provide', 'organically', 'transformed', 'site', 'gatherings', 'penner', 'students', 'underused', 'acre', 'programs', 'investigate', 'risk', 'affective', 'improves', 'eating', 'affects', 'teens', '80', 'ability', 'multiculturalism', 'umbrella', 'funded', 'facilitated', 'flatirons', 'fork', 'families', 'settlement', 'spanish', 'valley', 'immigrant', 'roaring', 'ethnobotanical', 'evergreen', '70', 'denver', 'tracy', 'construct', 'inner', 'outdoor', 'cooking', 'uses', 'folklore', 'learn', 'canadian', 'healthy', 'architecture', 'planning', 'roots', 'swimming', 'hiking', 'skiing', 'approach', 'mountain', 'yampah', 'creates', 'counties', 'coordinates', 'curriculums', 'são', 'angelo', 'develop', 'educators', 'borja', 'rocinha', 'zunzi', 'affairs', 'chronicled', 'territory', 'xi', 'jinping', 'xiaobo', 'jiang', 'liu', 'cartoonist', 'zemin', 'pao', 'apple', 'ming', 'mainly', 'comics', 'toronto', 'exhibitions', 'cartoons', 'publish', 'contains', 'archive', 'wong', '尊子', '黃紀鈞', 'fribourg', 'philosophy', 'bachmann', '3sat', 'brentano', 'preis', 'förderpreis', 'clemens', 'competition', 'bremer', 'literaturpreises', 'ingeborg', 'composed', 'ldeep', 'kobold', 'kunstpfeifer', 'longing', 'subsequently', 'craze', 'meat', 'deutsches', 'gorki', 'schauspielhaus', 'hamburg', 'schwarz', 'maxim', 'urweider', 'raphael', 'schillerpreis', 'alle', 'namen', 'deine', 'menlo', 'musician', 'library', 'catalogue', 'bendicht', 'bern', 'switzerland', 'certificate', 'postmaster', 'bookseller', 'rook', 'faversham', 'kent', '1893', 'clara', 'wright', 'lights', 'criminal', '1910', 'impertinent', 'hooligan', 'paperbacks', 'forth', 'illustrations', 'nights', 'side', 'lesson', 'effie', 'jardine', 'benny', '1901', '1857', 'shaw', 'café', 'stir', 'opinions', 'bernard', 'clarence', 'reviewers', 'underworld', 'factual', 'skeptical', 'purports', 'whose', 'befriended', 'spender', 'wilkins', 'partridge', 'austin', 'lehman', 'florence', 'marryat', 'rudolph', 'argonaut', 'frederic', 'paston', 'perpetuate', 'confirm', 'richards', 'detective', 'harmsworth', '130,000', 'sum', '1300', 'gbp', 'money', 'episodes', 'fictional', 'oup', 'republican', 'character', 'edwardian', 'witty', '1862/3–1915', 'sketches', 'tutor', '1891', 'examination', 'bristol', 'prolongued', 'illness', 'fairly', 'globe', 'lucas', 'contributing', '1890s', 'nevinson', 'way', 'monthly', 'idler', 'window', 'ludgate', 'unexpectedly', 'canaria', '1909', 'gran', 'symptom', 'suggests', 'locomotor', 'syphilis', 'stage', 'ataxia', '1881', 'oriel', 'protagonist', 'alf', 'strongly', 'circles', 'piece', 'manners', '1904', 'stakes', 'mall', 'pall', 'placed', 'clearly', 'contemporaries', 'rudyard', 'disappeared', 'besant', 'obscure', 'comparatively', 'suddenly', 'gissing', 'indeed', 'kipling', 'walter', 'trace', 'waheed', 'hassan', 'ibrahim', 'ilyas', 'displaced', 'examining', 'benyani', 'abdul', 'maumoon', 'democratic', 'gayoom', 'matter', 'twice', 'cabinet', 'illegally', 'expressed', 'expatriates', 'maldives', 'concern', 'immigration', 'controller', 'contract', 'allegations', 'nexbis', 'bcs', 'halt', 'housing', '1957–90', 'replacing', 'shahid', 'abdulla', 'emigration', 'atolls', 'ministry', 'gaumee', 'ihthihaad', 'ruling', 'reported', 'progressive', 'ppm', 'nasheed', 'exchanged', 'madinah', 'higher', 'medina', 'arabia', 'kaafu', '1957', 'atoll', 'owned', 'manthiri', 'vice', 'fielded', 'itthihaad', 'mdp', 'leader', '30,000', 'illegal', '80,000', 'least', '350,000', 'hajj', 'organizing', 'pilgrims', 'coordinated', 'mecca', 'maldivian', 'athama', 'accompanying', 'defense', 'hearing', 'basis', 'charges', 'politicians', 'gip', 'leading', 'headed', 'visa', 'crime', 'problems', 'drain', 'revenue', '21', 'registering', 'anni', 'saeed', 'hussein', 'kottey', 'positions', 'maniku', 'finance', 'sami', 'charged', 'ageel', 'corporation', 'malé', 'comment', 'relationship', 'caused', 'rumored', 'fulhu', 'bank', 'management', 'rapporteur', 'coordinator', 'rights', 'persons', 'beyani', 'internally', 'chaloka', 'disaster', 'formed', 'coalition', 'majilis', 'a.dh', 'representing', 'naumenko', 'putting', 'kuban', 'cossacks', '1919', 'command', 'filimonov', 'ataman', 'krasnov', 'pannwitz', 'hitler', 'speeches', 'mielau', 'balkans', 'reich', 'helmuth', 'distrusted', 'cavalry', 'adolf', 'commander', 'cossack', 'base', 'divisions', 'learned', 'pyotr', 'front', 'expected', 'give', 'mounted', 'assumed', 'carol', 'mather', 'poland', 'mława', 'wehrmacht', 'concentrated', 'formations', 'pokrovsky', 'commanded', 'brigade', 'viktor', 'choosing', 'stay', 'lemonos', 'soviet', 'promised', 'wished', 'yugoslavia', 'bulgaria', 'amnesty', '1921', 'shut', 'recover', 'confined', 'wounds', 'wounded', 'badly', 'terek', 'constantinople', 'hosts', 'istanbul', 'atamans', 'turkey', 'manage', '0714681997', 'lieutenant', 'mcfarland', 'jefferson', 'crimea', 'perekop', 'wrangel', 'trying', 'proved', 'red', 'narrowness', 'break', 'via', 'curse', 'connected', 'blessing', 'path', 'hard', 'mainland', 'fight', 'prestige', 'setting', 'longevity', '0815964072', 'identity', 'vanished', 'imagined', 'revolutionary', 'spaces', 'grigorievich', 'autograph', 'lemnos', 'maps', '1922', 'greek', 'vyacheslav', 'brent', 'mueggenberg', 'field', 'heroism', 'saint', 'stanislaus', 'fighting', 'fire', 'austrians', 'resign', 'rada', 'strained', 'anna', 'galicia', 'belonged', 'empire', '4th', 'stryi', 'austrian', 'massacres', 'historian', 'yalta', 'assisted', 'victims', 'tolstoy', 'nikolai', 'rowman', 'latham', 'littlefield', 'refused', 'costs', 'feeding', 'pay', 'diplomatic', 'extended', 'rested', 'rank', '18', '1895571049', 'protective', 'regiment', 'corps', 'serbia', 'adjunct', 'quartermaster', 'epstein', 'julius', 'nazarenko', 'wearing', 'bosnia', 'belgrade', 'uniform', 'croatia', 'emigres', 'russophile', 'welcoming', 'shkuro', 'repatriated', 'soviets', 'surrendered', 'operation', 'stanitsa', 'whites', 'bolsheviks', '1947', 'convictions', 'crimes', 'hanged', 'moscow', 'maker', 'portrayed', 'trouble', 'quarreled', 'brossaud', 'reports', 'predatelstvo', 'betrayal', 'velikoe', 'repatriation', 'less', 'certainly', 'repatriating', 'saved', 'americans', 'glass', 'repatriations', 'tragedy', 'looking', 'duckworth', 'lines', 'finally', 'battle', 'saw', 'munich', 'smele', 'fought', 'defeat', 'georgia', 'afsr', 'starve', 'pows', 'letting', 'henceforward', 'aftermath', 'everyone', 'mccauley', 'insufficient', 'allied', 'occupation', 'camps', 'breaking', 'sanitation', 'owing', 'fears', 'opposed', 'willingness', 'allow', 'indicated', 'rest', 'leaders', 'accepting', 'favor', 'discourage', 'preserve', 'assimilation', 'onward', 'miles', '1926', 'wars', '1916', 'kubanʹ', 'modernity', '0715627384', 'starshina', 'calvary', 'entered', 'voiskovi', 'landed', 'defeated', 'aim', 'evacuate', 'distracting', 'keelhaul', 'evacuated', 'final', 'volunteer', 'assembled', 'conspiracy', 'identities', 'émigrés', 'collaborators', 'mikhailovsky', 'voronezh', 'cadet', 'broussaud', 'forbade', 'berkeley', 'booker', 'christopher', 'hugo', 'burgh', 'vladimir', 'osprey', 'separatism', 'cossackia', 'influence', 'puppet', 'rosenberg', '0520367995', 'volumes', 'dritschilo', 'bagni', 'bruno', 'adair', 'reserves', 'armed', 'persian', 'jayne', 'newland', '0080377084', 'investigative', 'worried', 'signs', 'lavr', 'eurasian', 'siberian', 'buryat', 'kornilov', 'increasing', 'breakdown', '0806987030', 'enlist', 'pow', 'kenez', 'groushko', 'andrei', 'sailed', 'baron', 'cosaques', 'aux', \"l'île\", 'carpathians', 'ice', 'oblast', 'petrovskaya', 'raise', 'banner', 'lion', 'sheep', 'revolution', 'communism', 'longworth', '1883', 'picked', 'isle', 'resume', 'burden', 'treasury', 'charge', 'opportune', 'keep', 'soon', 'difficult', 'emperor', 'bound', 'tended', 'themselves', 'viewpoint', 'monarchy', 'privileged', 'enjoyed', 'routledge', 'bitter', 'clashes', 'sporadic', 'obsession', 'embittered', 'orders', 'declared', 'generals', 'reaching', 'hope', 'lenin', 'obstructionist', 'lloyd', 'david', 'separatists', 'favored', 'accept', 'alone', 'operating', 'nursing', 'senility', '0520017099', 'downfall', 'romanov', 'directorate', 'procyk', 'nigel', 'remember', 'rinehart', 'winston', 'holt', 'equal', 'divorce', 'conditions', 'hardship', 'vida', 'socialista', 'antimilitarism', 'mistreatment', 'lower', 'workplace', 'eviction', 'violeta', 'prostitution', 'harassment', 'morse', 'offices', 'code', 'messages', 'transmitting', 'generally', 'consuelo', 'progreso', 'asturias', '1902', 'álvarez', 'emancipation', 'cuerpo', 'economic', 'seek', 'telégrafos', 'país', 'rally', 'theater', 'celebrated', 'rallies', 'cycle', 'dissertation', 'capitalism', 'sindicato', 'banca', 'anticlerical', 'thinking', 'y', 'recognized', 'esparteros', 'barbieri', 'participation', 'calle', 'example', 'organized', 'casino', 'empleados', 'bolsa', 'conference', 'era', 'madrid', 'cuentos', 'reflected', 'current', 'pioneers', 'misfortune', 'friend', 'vote', 'campoamor', 'radical', 'defended', 'defender', '98', 'participant', 'feminine', 'literatura', 'del', 'magnificent', 'narrates', 'hidalgo', 'mendoza', 'telegraphers', 'elections', '65', 'carmen', 'additionally', 'xiii', 'pool', 'azcárete', 'marco', 'telegraphy', 'installment', 'amigos', 'telégrafo', 'recognizing', 'asociación', 'whole', 'insignia', 'republicano', 'pais', 'progresista', 'editorial', 'burgos', 'diario', 'heraldo', 'card', 'un', 'viaje', 'impresiones', 'santanderinas', 'aldeanas', 'catalanas', '1912', 'alicantinas', '1911', 'viajeras', '1913', 'veraniegas', 'gallegas', 'beneytez', '!', 'prologues', 'modulaciones', 'epilogues', 'por', 'camacho', 'tierras', 'manuel', 'barcelona', '1867', 'suffragist', 'spain', 'galdós', 'maintained', 'azaña', 'salinas', 'acuña', 'literati', 'sárraga', 'rosario', 'unamuno', 'rafael', 'pérez', 'miguel', 'belén', 'benito', 'alba', 'joaquín', 'preserved', 'cards', 'costa', 'santiago', 'represión', 'condemning', 'especial', 'masonería', 'tribunal', 'voting', 'para', 'comunismo', 'judged', 'ley', 'francoist', 'put', 'image', 'postal', 'envelope', 'circulation', 'personajes', 'estado', 'approved', 'comisión', 'filatélica', 'issuance', 'telegrapher', 'revista', 'escuela', 'mujer', 'enseñanza', 'tested', 'afterward', 'fluent', 'punishment', 'deteriorated', '77', 'sentence', 'azcaráte', 'columbine', 'prensa', 'achieving', 'survival', 'goal', 'sufficient', 'independence', 'essential', 'access', 'actively', 'azcárate', 'assigned', 'kitchen', 'fashion', 'adopted', 'theses', 'investigation', 'object', 'permanent', 'afterwards', 'virgen', 'caídas', 'primer', 'amapolas', 'hojas', 'medalla', 'vals', 'pasionaria', 'ramo', 'claveles', 'las', 'exam', 'definitive', 'passed', 'temporary', 'accessible', 'someone', 'entrance', 'older', 'force', 'representative', 'creation', 'superior', 'driving', 'ingenieros', 'telecomunicación', 'técnica', 'españoles', 'asséns', 'feminina', 'careaga', 'penumbra', 'arias', 'nueva', 'raquel', 'poetas', 'recognizer', 'cansinos', 'autónoma', 'volumen', 'universidad', 'kannada', '52', 'hindi', 'nearly', 'translator', 'mayya', 'bhasker', 'scholar', 'bhaskar', 'maiya', 'gundmi', 'akademi', 'kendra', 'anushilan', 'bihari', 'ek', 'vajpayee', 'ajanabeepan', 'atal', 'sahitya', 'titled', 'saiddanthik', 'sanskrit', 'kundapur', 'bhandarkars', 'decades', 'mysore', 'mangalore', 'cardiac', 'arrest', 'complications', 'udupi', 'bramavara', 'hospitalized', 'undergoing', 'private', 'treatment', 'academically', 'done', 'tripp', 'chapman', 'brownies', 'duo', 'male', 'kokonut', 'kila', 'krew', 'filmography', 'toi', 'scholl', 'graduate', 'niuean', 'whakaari', 'messiah', 'pacific', 'screenplay', 'rims', 'directions', 'anapela', 'polataivao', 'niue', 'samoan', 'vela', 'background', 'mutalau', 'libraries', 'catalog', 'manusaute', 'imdb', 'tongan', 'creator', 'bilingual', \"mo'ui\", \"faingata'a\", 'brutal', 'quit', 'fired', 'unclear', 'statements', 'paper', 'able', 'brittle', 'agreement', 'statement', 'come', 'edits', 'supporting', 'pointed', 'responding', 'censorship', 'similarly', 'misogyny', 'accusations', 'track', 'founder', 'marquette', 'wakanda', 'duke', 'edoro', 'judge', 'gtbank', 'literatures', 'objective', 'sharing', 'thoughts', 'reinvent', 'stated', 'dissatisfaction', 'blogging', 'influential', 'nigerian', 'guardian', 'apologising', 'alerted', 'comments', 'talk', 'stakeholders', 'observed', 'perception', 'discrimination', 'mallam', 'potential', 'governor', 'hadiza', 'nasir', 'revolved', 'isma', 'rufai', 'kaduna', 'twitter', 'theories', 'unverified', 'africans', '100', 'ignited', 'posted', 'digital', 'anglophone', 'announcer', 'person', 'fans', 'power', 'gods', 'centred', 'interests', 'reap', 'whirlwind', 'rape', 'network', 'wind', 'user', 'gang', 'benin', 'nigeria', 'akure', 'ainehi', 'budapest', 'leipzig', 'sad', 'mokrin', 'novi', 'gymnasium', 'karlovci', 'senj', 'sremski', 'kikinda', 'srpska', 'matica', 'stajić', 'biographies', 'wikimedia', 'vasa', '1878', 'vojvodina', 'biografije', 'novosadske', 'dištrikt', 'velika', 'velikokikindski', 'prosveta', 'srbin', 'arrested', 'ideas', 'questioned', 'socialist', 'zmaj', 'jovan', 'scholarly', 'svetozar', 'jovanović', 'miletić', 'serbian', 'pakrac', 'elezović', 'gligorije', 'pljevlja', 'croats', 'serbs', 'letopis', 'organ', 'slovenes', 'már', 'reykjavík', 'einar', 'icelandic', 'guðmundsson', 'comparative', 'iceland', 'seinem', 'schaffen', 'lyrischen', 'isl', 'zu', 'copenhagen', 'englar', 'universe', 'alheimsins', 'adapted', 'angels', 'geijer', 'herman', 'geijers', 'favourite', 'p1', 'sommar', 'voted', 'listeners', 'sveriges', 'beväpna', 'song', 'er', 'ebba', 'grön', 'swedish', 'survivalist', 'zombie', 'expert', 'stockholm', 'developer', 'abf', 'din', 'zombieöverlevnad', 'till', 'apokalypsen', 'westerlundska', 'handler', 'gymnasiet', 'enköping', 'coat', 'arbetarnas', 'carolina', 'esthetic', 'bildningsförbund', 'rediviva', 'uppsala', 'örsundsbro', 'japanese', 'masatsugu', '正嗣', 'ono', '小野', 'wood', 'winters', 'strangers', 'carpenter', 'edge', 'pastry', 'juliet', '片乳', 'breast', 'katachichi', 'kyūnen', '152nd', 'akutagawa', 'ago', 'mae', 'inori', '9781949641288', 'turvill', 'fune', 'seowareta', 'angus', 'wan', 'nigiyaka', 'echo', 'ni', 'にぎやかな湾に背負われた船', '9781911343066', 'rikkyo', 'associate', 'ōita', 'resides', 'prefecture', 'woods', 'cake', 'kai', 'faia', 'και', 'νυμφαία', 'nymfaia', 'theatrical', 'φαιά', 'tried', 'vainly', 'repeatedly', 'avgerinos', 'daralexis', 'relative', 'pyrgos', 'elis', 'δαραλέξης', '1870', 'christos', 'athens', 'esiea', 'athenian', 'aristocracy', 'courteous', 'minded', 'changes', 'fictionalized', 'komt', 'dokter', 'adultery', 'bij', 'committing', 'vrouw', 'een', 'documents', 'dying', 'kluun', '36', 'judith', 'movie', 'commonly', 'norbert', 'raijmondus', 'klundert', 'godefriedus', 'weduwnaar', 'sequel', 'widower', 'feelings', 'express', 'scripts', 'belaćević', 'studio', 'junkovac', 'lazarevac', 'advokat', 'majka', 'sina', 'šalje', 'carina', 'armiju', 'u', 'dramas', 'žandarm', 'sudija', 'tatin', 'način', 'directed', 'švedski', 'ženidba', 'sin', 'radomir', 'producer', 'više', 'pušim', 'smoking', 'ne', 'karjalohja', 'alongside', 'finland', 'käkikoski', 'ennola', 'suffrage', 'finnish', 'feminism', 'hilda', 'gutenberg', 'maria', 'neighbours', 'hair', 'surname', 'uusimaa', 'vegetarian', 'clothing', 'masculine', 'assertive', 'gymnast', 'fascinating', 'cyclist', 'unconventional', 'demeanor', 'porlammi', 'stand', 'marked', 'newly', 'nineteen', 'sjöström', '1864', 'lapinjärvi', 'fanny', 'schoolteacher', 'pajula', 'classes', 'helsinki', 'lesbian', 'nordic', 'countryside', 'tomboyish', 'scholarship', 'involvement', 'masalin', 'hildi', 'deaconess', 'kivalo', 'helmi', 'romantically', 'weiss', 'hanna', 'zenki', 'disciples', 'tells', 'oni', 'ozuno', 'miyo', 'manga', 'traveling', 'kami', 'goki', 'touge', 'kongokai', 'tensei', 'snes', 'megami', 'npc', 'gyōja', 'zero', 'ps1', 'antagonist', 'fukkatsu', 'status', 'supernatural', 'possess', 'mythical', 'powers', 'yama', 'yamaboko', 'gyoja', 'gion', 'floats', 'yasunori', 'hiroshi', 'descendant', 'kato', 'teito', 'monogatari', 'aramata', 'posthumous', 'chiaki', 'anime', 'enno', 'summoned', 'ozunu', 'heads', 'ninja', 'clan', 'assassin', 'practiced', '役小角', 'ascetic', 'nara', 'katsuragi', 'shugendō', '634', 'otsuno', 'yamabushi', 'mystic', 'unlimited', 'sutra', 'threefold', 'shinto', 'taoism', 'shamanism', 'mikkyō', 'tendai', 'esoteric', 'shingon', 'sect', 'syncretic', 'ozn', 'ohno', 'superheroic', 'shiro', 'weird', 'magic', 'hirotari', 'trickery', 'envied', 'jinben', 'thousandth', 'daibosatsu', 'conferred', '1799', '神変大菩薩', 'ceremony', 'bodhisattva', 'passing', 'commemorate', 'water', 'spirits', 'rumor', 'draw', 'firewood', 'demonic', 'gather', 'manipulate', 'banished', 'imperial', 'ōshima', 'izu', 'exploits', 'recount', '800', 'nihon', '699', 'ryōiki', 'sadako', 'koji', 'statuette', 'ring', 'drags', 'sorcery', 'disobeyed', 'citations', 'explanatory', 'database', 'destination', 'pilgrimage', 'rituals', 'shugendo', 'perform', 'unable', 'send', 'watler', 'playwright', 'belizean', 'performer', 'excel', 'snapshots', 'belize', 'revenge', 'featured', 'creek', 'honduras', 'monkey', 'stann', 'texas', 'marlborough', 'hosted', 'a&m', 'sterling', 'lotto', 'lyrical', 'epic', 'nomo', 'escape', 'leo', 'vernon', 'lawrence', 'bradley', 'here', 'gleaner', 'caribbean', 'engaging', 'schoolmaster', 'grammar', 'giving', 'aired', 'submitting', 'elder', 'storytellers', 'minneapolis', 'nabs', 'mn', 'panel', 'billboard', 'upon', 'jamaica', 'antics', 'tribe', 'snake', 'banjuju', 'codex', 'bomba', 'renaissance', 'hole', 'compositions', 'rainclouds', '60s', 'cry', 'energetic', 'kriol', 'performances', 'alive', 'souvenirs', 'lively', 'foot', 'ufo', 'wapye', 'anansi', 'portraying', 'sunkutu', 'brer', 'pushed', 'geared', 'recipient', 'gold', 'submitted', 'jamaican', 'achievement', 'lifetime', 'illinois', 'grand', 'audio', 'cd', 'macau', 'kids', 'attracting', 'styles', 'ages', 'entries', 'backgrounds', 'vittachi', 'decade', 'morning', 'feng', 'shui', 'nury', 'strategies', 'nonviolent', 'protests', 'consultants', 'einstein', 'supported', 'oslo', 'alleging', 'sri', 'lanka', 'buddhist', 'anka', 'reelected', 'deniz', 'baykal', 'chp', 'altan', 'öymen', 'bülent', 'ankara', 'ecevit', 'assembly', 'tourism', 'interrupted', 'radikal', 'leadership', 'resumed', 'ulus', 'cumhuriyet', 'akşam', 'columnist', 'milliyet', 'presidency', 'resignation', 'dönem', 'değişim', '608', '754', 'kayıp', '606', 'mobilya', 'file', 'yılları', '5206', '329', 'bir', 'doğan', '670', 'i̇damlar', 'ag', 'uğur', 'angry', 'yaz', 'um', 'dosyası', 'transition', 'mumcu', 'umutlar', 'i̇htilal', 'çocuk', 'furniture', 'yıllar', 'öfkeli', 've', 'coup', 'bonn', 'attaché', 'mehmet', '1990s', 'technocrat', '1953', 'suyanto', 'pusat', 'pimpinan', 'pendidikan', 'alumni', 'yogyakarta', 'muhammadiyah', 'tinggi', 'majelis', 'indonesian', 'rector', 'plea', 'importation', 'export', 'necessarily', 'carried', 'bullion', 'follow', 'protest', 'commodities', 'bill', 'fail', 'parts', 'encouragement', '1663', 'act', 'goods', 'coin', 'protested', '1683', 'lord', 'attainder', 'bailey', 'revision', 'russell', 'anglesey', 'stafford', '1685', '1660', 'carmarthen', 'sat', 'tone', 'earl', 'printed', 'remonstrance', 'addressed', 'your', '1694', '1682', 'majesty', 'censure', 'magdalen', '1634', 'cromwell', 'retain', '1648', 'parliment', 'harlington', 'bunyan', 'grange', 'naval', 'substantiated', 'ormonde', '1668', 'subjected', 'consequence', 'refusal', 'indignant', 'accounts', 'suspended', 'controversies', 'toleration', 'succeeded', 'cousin', 'doubted', 'legitimacy', '6th', '1761', 'extinct', 'annesley', 'buckinghamshire', '1661', 'pagnell', 'newport', 'peerage', 'unjust', 'evidence', 'unfavourable', 'burnet', 'oxey', 'altham', 'hertfordshire', 'exchequer', 'skinner', 'shaftesbury', '1673', 'privy', 'disappointed', 'seal', 'removal', 'valentia', 'viscount', 'restoration', '1688', 'comprising', 'bagshaw', 'hansard', 'sworn', 'picton', 'dorothy', 'philipps', 'castle', 'dublin', 'mountnorris', '1793', 'castlehaven', 'defending', 'rejoinder', '1681', 'honour', 'catholics', 'roman', '1693', '1702', 'lords', 'pett', 'unfinished', 'scattered', 'preface', 'admits', 'blaming', 'asserted', 'genuineness', 'descendants', 'descended', '10th', 'notorious', 'endeavouring', 'informer', 'dangerfield', 'romanists', 'stifle', 'jones', 'drew', 'attorney', '1671', '1647', 'radnorshire', 'statesmanship', 'blechingdon', 'courage', 'drury', 'oxfordshire', 'divided', 'capacity', '1686', 'closing', 'judgement', 'quinsy', 'conspicuous', 'restored', 'rump', 'endeavoured', '1659', 'grave', 'respect', 'understand', 'trustworthy', 'treasurer', 'invariably', 'pepys', 'approval', 'commends', 'oliver', 'protector', 'model', 'fairfax', 'moderate', 'presbyterian', 'decisions', 'sceptical', 'latin', 'annotated', 'cavendish', 'heavily', 'anglesea', 'material', 'nutt', 'precedents', 'arguments', 'seeming', 'lordships', 'carte', 'pretended', 'facts', '642442297', 'ormond', 'appendix', 'verify', 'cobbett', 'parliamentary', 'remarkable', 'excluded', 'purge', 'prides', 'parliamentarians', 'peers', 'writ', 'carrying', 'acts', 'commissions', '1667', '1672', 'filled', 'declaration', 'dismissed', 'horse', 'captaincy', 'carteret', 'gill', 'earls', '1679', 'danby', 'disabling', 'justices', 'prevent', '1674', 'nonconformists', 'laws', 'debates', 'downwards', 'epoch', 'bedford', '1664', 'bailiff', 'bills', 'question', 'concerning', 'pamphlet', 'amend', 'face', 'emaciated', 'appearance', 'complexion', 'purple', 'alarming', 'clause', 'disapproved', 'mischievous', 'forbidding', 'buckingham', 'cattle', 'peer', 'motion', 'disarming', 'primate', 'believing', 'enforcing', 'langhorne', 'bail', 'plunkett', 'plot', 'archbishop', 'armagh', 'recusants', 'guilt', 'interceded', 'dissent', 'convicted', 'ancestor', 'milton', 'l’estrange', 'withdraw', 'overseer', 'sitting', 'leniency', 'regicides', 'measures', 'moderating', 'valuable', 'services', 'fortune', 'allotted', 'lands', 'anarchy', 'protectorate', 'bringing', 'royalism', 'taxation', 'abolition', 'rendered', 'excise', 'wards', 'extra', 'popish', '1678', 'saner', 'panic', 'judgment', 'hampshire', 'farnborough', 'conduct', 'concluding', 'cessation', 'censured', 'committed', 'latter', 'periods', 'subjection', 'securing', 'rebels', 'extremities', 'treaty', 'conquest', '1803', 'norman', '1066', 'added', 'discourse', 'truly', 'wherein', 'secretaries', 'councillors', 'disillusioned', 'complaining', 'efficacy', 'bitterly', 'ignorance', 'kept', 'statesman', 'pc', '1614', 'anglo', 'royalist', 'largest', 'ecclesiastical', 'svjetlost', 'hrvatska', 'misao', 'život', '1984–94', 'herzegovina', 'gornja', 'gradačac', 'tramošnica', 'mǐːrko', 'mirko', 'marjǎːnoʋit͡ɕ', 'marjanović', 'croatian', 'pronunciation', 'sarajevo', 'pedagogical', 'penchant', 'cover', 'bosnian', 'overtones', 'topics', 'functions', 'aleph', 'quebec', 'co.', 'muses', 'dorion', 'door', 'ljubljana', 'completely', 'forcing', 'placing', 'excuse', 'launch', 'propaganda', 'personalist', 'emmanuel', 'thinker', 'mounier', 'frisch', 'maupassant', 'antoine', 'exupéry', 'balzac', 'slovenia', '20th', 'romano', 'theologian', 'inspired', 'guardini', 'eros', 'sexuality', 'seksus', 'founders', 'slovene', 'kocbek', 'axis', 'liberation', 'intellectual', 'štiri', 'novele', 'pogum', 'prose', 'fear', 'strah', 'ceremonially', 'immediate', 'tivoli', 'vicinity', 'element', 'intervention', 'böll', 'pressure', 'protected', 'heinrich', 'judicial', 'prosecution', 'slovenian', 'cm', 'double', 'sits', 'looks', 'handhold', 'krogi', 'navznoter', 'inside', 'slovenska', 'zaliv', 'launched', 'denigration', 'anton', 'celebration', 'rop', 'culminating', 'boštjan', 'drinovec', 'založba', 'nova', 'celje', 'družba', 'mohorjeva', 'lipizzaners', 'prešeren', 'poets', 'žale', 'gathered', 'hribovšek', 'dejanje', 'ivan', 'svet', 'dom', 'sodobnost', 'establish', 'ljubljanski', 'zvon', 'hand', 'communists', 'intellectuals', 'ambiguous', 'totalitarianism', 'interim', 'yugoslav', 'josip', 'broz', 'tito', '1925', 'excursion', 'maribor', 'mlakar', 'italy', 'pino', 'referential', 'affinity', 'maintain', 'strongest', 'esprit', 'felt', 'bežigrad', 'slovenije', 'državna', 'enroll', 'seminar', 'zvečer', 'vratih', 'secret', 'police', 'sixty', 'officials', 'classical', 'philologist', 'sovre', 'notably', 'domenach', 'thinkers', 'throughout', 'socialists', 'continue', 'krek', 'evangelist', 'janez', 'cankar', 'princeton', 'nothing', 'athletic', 'orel', 'obzorja', 'poročilo', 'pesmi', 'prlekija', 'nearby', 'gorice', 'tomaž', 'matilda', 'slovenske', 'sveti', 'valentin', 'plohl', 'belonging', 'blažič', 'trial', 'franc', 'miklavčič', 'viharjem', 'pred', 'storm', 'rožanc', 'marjan', 'dominik', 'jože', 'smole', 'snoj', 'šalamun', 'inspiration', 'križ', 'cross', 'gori', 'eventually', 'križarji', 'vodnik', 'crusaders', 'spiritual', 'sodobni', 'misleci', 'cerebral', 'lučka', 'apartment', 'wired', 'stolen', 'files', 'embers', 'santa', 'fe', 'edvard', 'lumen', '4,268', '584', 'gradišnik', 'groza', 'dread', 'renowned', '1946–2013', 'matjaž', 'photographer', 'jurij', 'theorist', 'graphic', 'varaždin', 'transferred', 'bjelovar', 'tržaškega', 'založništvo', 'tiska', 'trieste', 'appear', 'microphone', 'discovered', 'renovation', 'wall', 'hidden', 'underground', 'absolute', 'agree', 'partisans', 'dissolve', 'primacy', 'witnessed', 'takeover', 'rudolf', 'volunteers', 'maister', 'philosophical', 'ethical', 'exclusively', 'isolation', 'explored', 'austro', 'styria', 'ščavnici', 'duchy', 'hungarian', 'ob', 'leftist', 'subculture', 'marxist', 'ptuj', 'switched', 'discover', 'occasion', 'juxtaposed', 'mikrofon', 'poetically', 'v', 'zidu', 'demanded', 'believer', 'clericalism', 'god', 'strove', 'conservativism', 'individual', 'ethically', 'religiosity', 'liturgy', 'zbrane', 'pričevanja', 'svoboda', 'necessity', 'nujnost', 'testimonies', 'dramatist', 'stanko', 'mrak', 'cajnkar', 'essayist', 'zalozba', 'cankarjeva', 'koprivnjak', 'zdravka', 'croat', 'stayed', 'humboldt', 'zemlja', 'earth', 'translating', 'passion', 'interrogated', 'tromostovje', 'rode', 'naše', 'stillness', 'hommage', 'soil', 'hymnic', 'rural', 'condemnation', 'rožman', 'gregorij', 'reached', 'height', 'organist', 'žerjavica', 'javoršek', 'hired', 'spy', 'udba', 'persecuted', 'constant', 'brion', 'burroughs', 'nowhere', 'storming', 'citadels', 'gysin', 'autonomedia', 'enlightenment', 'paul', 'hamri', 'tanger', 'train', 'bowles', 'station', 'palmer', 'musicians', 'attar', 'zahjouka', 'laurence', 'retrospective', 'arnott', 'tangier', 'recent', 'rolling', 'mercedes', 'jajouka', 'save', 'pop', 'terence', 'joe', 'reproductions', 'joujouka', 'terry', 'rynne', 'clandermond', 'ambrose', 'maccarthy', 'eyes', 'lifelong', 'trance', 'sufi', 'direct', 'hollywood', 'sanaa', 'wison', '10,000', 'restaurant', 'bought', 'shows', 'exhibit', 'capra', 'abdesalam', 'bachir', 'hadj', 'uncle', 'supervision', 'onwards', 'ksar', 'rif', 'mountains', 'kebir', 'characterised', 'hamid', 'paintings', 'arranged', '1001', 'cook', 'barbara', 'creature', 'legend', 'goat', 'ritual', 'boujeloud', 'stones', 'moroccans', 'pan', 'presents', 'pipes', 'redesign', 'blanca', 'widow', 'painted', 'ceramics', 'tradition', 'islands', 'lebanon', 'canary', 'strauss', 'neil', 'km', 'documented', 'rational', 'tomb', 'sidi', 'tutored', 'painters', 'technique', 'inventor', 'european', 'friendship', 'saúte', 'sciences', 'maputo', 'nelson', 'os', 'narradores', 'da', 'quixote', 'lisboa', 'publicações', 'sobrevivência', 'poesia', 'antologia', 'moçambicana', 'anthologies', 'lisbon', 'moçambique', 'tempo', 'rádio', 'notícias', 'televisão', 'dos', 'mãos', 'pretos', 'apóstolo', 'o', 'desgraça', 'mendonça', 'fátima', 'lawyer', 'specializes', 'buxbaum', 'julie', 'embarrassed', 'bribery', 'elite', '9781984893642', 'dial', 'say', 'readers', 'sense', 'adults', 'enjoys', 'audience', 'connect', 'hathaway', 'cast', 'tentatively', 'punchlines', 'attacks', 'deeply', 'terrorist', 'revolve', 'harvard', 'pennsylvania', 'rule', 'abuses', 'ghosh', 'third', 'authoritarian', 'smuggled', 'rupadarshi', 'kalam', 'azad', 'maulana', 'abul', 'sengupta', 'barun', 'distinct', 'bengal', 'ghanada', 'lighter', 'feluda', 'tenida', 'dada', 'brojoda', 'harmony', 'hardayal', 'kolkata', 'metro', 'bengali', 'circulated', 'journalistic', 'columns', 'desh', 'patrika', 'anandabazar', 'vernacular', 'calcutta', 'satire', 'commentary', 'naxalite', 'agony', 'aajkaal', 'chosen', 'bazar', 'reinstated', 'collaboration', 'ananda', 'emergency', 'bankim', 'puraskar', 'humorous', 'imposed', 'shaved', 'bereavement', 'explaining', 'symbolic', 'interaction', 'mature', 'chose', 'hindu', 'neglected', 'societies', 'kishore', 'gour', 'professions', 'varied', 'mati', 'nei', 'manush', 'prem', 'sections', 'touring', 'troupe', 'waiter', 'fitter', 'electrician', 'satyayuga', 'clerk', 'clearing', 'promotion', 'distinctive', 'proof', 'aajkal', 'stint', 'hebrew', 'fifteen', 'antiquities', 'isaac', 'manuscripts', 'unpublished', 'illuminated', 'newton', 'errors', 'weizmann', 'donated', 'yahuda', 'medieval', 'judeo', 'texts', 'interpreting', 'zeev', 'zionist', 'attitudes', 'decree', 'revisionist', 'relocated', 'arabs', 'thereafter', 'rabbinic', 'jabotinsky', 'chaim', 'relocate', 'intensively', 'retreat', 'interpretations', 'fascination', 'expressing', 'saranac', 'ezekial', 'shalom', 'palestinian', 'אברהם', 'שלום', 'abraham', 'jew', 'rare', 'polymath', 'יהודה', 'researcher', 'spark', 'amount', 'accuracy', 'discussion', 'conversations', 'likely', 'baghdad', 'jerusalem', 'items', 'adirondack', '1897', 'basel', '7,500', 'registry', 'handwritten', 'theological', 'slight', 'marrano', 'error', 'anonymously', 'scathing', 'vast', 'amounting', 'kemal', 'kurspahić', 'liberating', '95', 'shelter', 'siege', 'nationalist', 'besieged', 'constitutional', 'atomic', 'games', 'olympic', 'placid', 'stroke', 'reston', 'democracy', 'alexandria', 'freelancer', 'sanski', 'dagens', 'zeit', 'die', 'tribune', 'nyheter', 'zetung', 'neue', 'dailies', 'zuercher', 'diplomat', 'barbados', 'ministerial', 'drug', 'governments', 'cooperation', 'trafficking', 'sniper', 'crashed', 'limp', 'injury', 'unrest', 'oslobođenje', 'grad', 'mrkonjić', 'resuming', 'abc', 'pbs', 'lehrer', 'cbs', 'nightline', 'vesna', 'broad', 'erhard', 'busek', 'seemo', 'kreisky', 'mérida', 'spokesman', 'signing', 'honors', 'highest', 'tolerance', 'terror', 'maintaining', 'ed', '560', 'popularity', 'op', 'magal', 'hindustan', 'jam', 'outlook', 'mirror', 'bangalore', 'humorist', 'satirist', 'ht', 'brunch', 'billionaire', 'announced', 'wonderful', 'revealed', 'rakesh', 'jhunjhunwala', 'humour', 'content', 'penguin', 'anonymous', 'blogadda.com', 'moneycontrolhe', 'pune', 'mint', 'dna', 'posts', 'tweets', 'outtakes', 'aditya', 'investor', 'legendary', 'portal', 'laughter', 'incisive', 'attracted', 'amazon', 'charted', 'bestsellers', 'adverse', 'erotske', 'miljenko', 'erotic', 'smoje', 'libar', 'narodne', 'stremljenje', 'pitanja', 'srpski', 'mogućnosti', 'odjek', 'polja', 'revija', 'politika', 'savremenik', 'književni', 'srpske', 'ovdje', 'glasnik', 'matice', 'republika', 'nin', 'forum', 'novine', 'književne', 'stvaranje', 'split', 'krstanović', 'zdravko', 'višnjić', 'filip', 'zora', 'nowadays', 'siverić', 'крстановић', 'здравко', 'fnr', 'cyrillic', 'ethnographer', 'prolific', 'zagreb', 'sveska', 'večernji', 'vesela', 'dalmacija', 'vjesnik', 'slobodna', 'pupil', 'borba', 'ilustrovana', 'kekec', 'galeb', 'plavi', 'aleksandar', 'polet', 'vidik', 'hades', 'hada/', 'iz', 'ekspres', 'editions', 'prosvjeta', 'ljetopis', 'oko', 'logos', 'insomnia', 'robinson', 'n.', 'lionel', 'images', 'a.', 'speculative', 'munby', 'tim', 'noel', 'alan', 'librarian', 'latimer', 'crowther', 'rachel', 'edelsten', 'sheila', 'alabaster', 'terrifying', 'boucher', 'mccomas', 'modernizations', 'quietly', 'touchstone', 'clifton', '1969–70', 'sandars', '1962–63', 'lyell', 'chamber', 'viney', 'poster', 'rackl', 'printing', 'topley', 'sack', 'eichstätt', 'elliott', 'antiquarian', 'sotheby', 'quaritch', 'prisoner', 'phillipps', 'slim', 'includes', 'eccentric', 'vii', 'oflag', 'ghost', 'inscription', 'bibliographical', 'devil', 'argues', 'logic', 'avant', 'garde', 'levine', 'norton', 'make', 'fuels', 'citizens', 'tiaa', 'fossil', 'divest', 'climate', 'cornell', 'net', 'victorianists', 'victorianism', 'romanticism', '63', 'elites', 'obscenity', 'circulate', 'emerges', 'rhythm', 'hierarchy', 'leaping', 'hypothesis', 'needed', 'suspense', 'waiting', 'structuring', 'scientists', 'plots', 'conclusions', 'testing', 'asserting', 'anything', 'moments', 'arguing', 'philosophers', 'suspend', 'rigorous', 'objects', 'need', 'provoking', 'copyright', 'why', 'foucault', 'brooks', 'wide', 'convents', 'poovey', 'cleanth', 'rereads', 'antigone', 'theme', 'parks', 'jacques', 'formalist', 'theorists', 'butler', 'antiformalist', 'offers', 'michel', 'rancière', 'sophocles', 'doubt', 'experimentation', 'connects', 'realism', 'pleasures', 'charlottesville', 'mass', 'democratization', 'definition', 'prevailing', 'sphere', 'challenges', 'webpage', 'text', 'turner', 'eliot', 'romola', 'ab', 'syracuse', 'historicism', 'specific', 'wholes', 'proposes', 'investigates', 'ways', 'affordances', 'structured', 'borrowing', 'linking', 'formalism', 'hierarchies', 'rhythms', 'popularize', 'democratize', 'ryan', 'picket', 'manifestos', 'paperback', 'warsaw', 'musa', 'ashgate', 'aldershot', 'impose', 'simple', 'ahead', 'challenging', 'intent', 'perkins', 'potrzebna', 'tym', 'nam', 'sztuka', 'czyli', 'dlaczego', 'birkbeck', 'audiences', 'wonder', 'behave', 'inviting', 'strategy', 'teaches', 'hypothesize', 'speculate', 'withholding', 'hinting', 'truth', 'patterns', 'multiple', 'unsettle', 'arrangements', 'complex', 'analytic', 'overlapping', 'unpredictable', 'colliding', 'conventional', 'shapes', 'models', 'flavorwire', 'venues', 'pmla', 'inescapable', 'aspect', 'troubling', 'shape', 'cases', 'attempts', 'organize', 'joseph', 'kearney', 'cruise', 'katherine', 'alexandra', \"o'brien\", 'belfast', 'derry', 'christine', 'hennessy', 'kate', 'trinity', 'nursery', 'youngest', 'howth', 'conor', 'headmaster', 'lions', 'rugby', 'alec', 'canny', 'knack', 'uncovering', 'poolbeg', 'genius', 'seed', 'ó', 'faoláin', 'gift', 'rooney', 'influenced', '19th', 'gmeiner', 'schatten', 'dame', 'verlag', 'einer', 'öhri', 'armin', 'ruggell', 'eck', 'verlang', 'liechtensteiner', 'harpers', 'kurzroman', 'okkultisten', 'bund', 'aber', 'herausgeber', 'klein', 'oho', 'muse', 'dunkle', 'zeitgeschichtlicher', 'kriminalroman', 'nachtvolk', 'das', 'liechtenstein', 'historischer', 'entführung', 'erzählung', 'seljuk', 'caucasus', 'denizli', 'brotherhood', 'hundreds', 'izmir', 'sweden', 'malmo', 'yeniden', 'mosques', 'aliev', 'sürece', 'azerbaycan', 'hassas', 'reopened', 'psot', 'azerbaijan', 'girmiştir', 'baltic', 'intensifies', 'haarlem', 'holand', 'specialist', 'azerbaijani', 'liberty', 'advisor', 'seventh', 'bursa', 'samsun', 'ninth', 'integration', 'yasin', 'aslan', 'caspian', 'balance', 'gordian', 'oil', 'causcasus', 'eurasia', 'methods', 'knot', 'discuss', 'legeacy', 'reforms', 'intellecftuals', 'graduating', 'strasburg', '12,2001', 'azerbaijanis', 'ministers', 'antalya', 'sixth', 'arpacay', 'kars', 'bodrum', 'türkiye', 'asya', 'piyasa', 'bazı', 'sürecinde', 'geçiş', 'ekonomisine', 'sorunlar', 'pratik', 'cumhuriyetlerinde', 'demokrasi', 'orta', 'kasım', 'axe', 'handle', 'turning', 'armenia', 'reevaluate', 'rehabilitated', 'tokat', 'aralik', 'finished', 'rehabilitation', 'cheremis', 'ongoing', 'udmurts', 'esh', 'eve', 'udmurt', 'izhevsk', 'большая', 'энциклопедия', 'российская', 'удмурт', 'mitrei', '1930', 'gudyri', 'thunder', 'pietari', 'päivärinta', 'gorky', 'associating', 'seminary', 'atheism', 'tries', 'pushes', 'inflict', 'dalko', 'simon', 'displays', 'prokopiev', 'stithy', 'sandal', 'trilogy', 'surrounds', 'christianization', 'resistance', 'juber', 'batyr', 'guerrilla', 'siberia', 'kolchak', 'noble', 'tereck', 'rajmit', 'blagoveshchensk', 'reworked', 'zurka', 'вужгурт', 'shaken', 'vujghurt', 'зурка', 'drafted', 'kapital', 'agronomist', 'unemployed', 'consists', 'kazan', 'monument', 'igra', 'abridged', 'streets', 'honor', 'coachman', 'zybet', 'секыт', 'зӥбет', 'heavy', 'sekyt', 'escaped', 'abolished', 'rearrested', 'conceived', 'ижевск', 'удмуртия', 'idna', 'immediately', 'zore', 'debesy', 'petersburg', 'answers', 'medium', 'motovilikha', 'magadan', 'gulag', 'describes', 'novosibirsk', 'tchumakovo', '57', 'savitskaya', 'traveled', 'glazov', 'ива́нович', 'dmitrij', 'korepanov', 'kedra', 'коре́панов', 'кедра', 'ivanovich', 'дмитрий', 'publicist', 'митрей', '121', 'depicts', 'tsardom', 'seizure', 'coincide', 'batyrs', 'names', 'школ', 'box', 'barney', 'amy', 'fireman', 'dragon', 'revolt', 'tyler', '1381', 'peasants', 'wat', 'mcguire', 'financial', 'deluxe', 'web', 'tatler', 'cars', 'covers', 'motoring', 'super', 'f1', 'baccarat', 'hk', 'insider', 'luxury', 'caux', 'round', 'table', 'harvey', 'lambart', 'martyn', 'eton', 'economist', 'plaid', 'merioneth', 'beaten', 'contested', 'dafydd', 'cymru', 'incumbent', 'wigley', 'caernarvon', 'scowcroft', 'forward', 'carter', 'geoffrey', 'lugar', 'jimmy', 'nunn', 'shultz', 'zbigniew', 'iraq', 'crisis', 'howe', 'brzezinski', 'sam', 'kissinger', 'heseltine', 'mp', 'landslide', 'clwyd', 'jennie', 'pneumonia', 'churchill', 'roose', 'brighton', 'square', '44', 'practised', 'regency', 'robson', '49', 'sussex', 'grinstead', 'hepatic', 'cirrhosis', '1872', '1875', 'edmund', 'montagu', '8th', 'compton', 'yates', 'labouchère', 'chamberlain', 'brussels', 'functional', 'disorders', 'prostration', 'nerve', 'reside', 'édouard', 'brown', 'séquard', 'edith', 'huggins', 'norwegian', '1890', 'leprosy', 'coal', 'litigation', 'mining', 'burn', 'grandson', 'solicitor', 'knightsbridge', '1848', 'eliza', 'brewer', 'finley', 'repair', 'waste', 'apothecaries', 'licence', 'ill', 'terminally', 'buzzard', 'katharine', 'wear', 'tear', 'nervous', 'disease', 'owed', 'argentino', 'ascenso', 'apogeo', 'tecnología', 'imperio', 'barbarie', 'ñandúes', 'papelera', 'con', 'gauchoides', 'reciclaje', 'eléctricos', 'buenos', 'aires', 'granta', 'genres', 'argentine', 'nieva', 'shadar', 'jaseem', 'warden', 'samhati', 'bose', 'noorjahan', 'swadesh', 'bangladeshi', 'pregnant', 'emadullah', 'monica', 'anita', 'bangla', 'dhaka', 'baishdia', 'boro', 'katakhali', 'charities', 'worker', 'jubo', 'nonprofit', 'organizations', 'empowerment', 'asha', 'barisal', 'finish', 'matriculation', 'rambles', '1853', 'peak', 'plain', 'iris', '1812', 'timothy', 'mesmerist', '1841', 'verse', 'forester', 'offering', 'movements', 'hollis', 'montgomery', 'mercury', '1829', 'nottingham', 'apprenticed', 'honorary', 'glasgow', 'phrenological', 'avail', 'skill', 'experiment', 'care', 'try', '…', 'everything', 'martineau', 'periodical', 'bookselling', 'sherwood', '1836', 'sutton', 'ashfield', 'demonstrations', 'magnet', 'mesmerism', 'phreno', 'tutelage', 'copies', 'tours', 'therapy', 'spectacular', 'lafontaine', 'frenchman', 'watching', 'hopeless', 'cured', 'seems', 'apparently', 'uterus', 'illustrious', '1832', 'metropolitan', 'firm', 'hargrove', 'famine', 'visit', '1850', 'diagnosed', 'impressed', 'suffering', 'weaving', 'degrees', 'tübingen', 'testimony', 'homoeopathy', 'homoeopathic', 'buch', 'bremen', 'reserved', 'goldenes', 'bans', 'campaigns', 'boycotts', 'lobbied', 'prisoners', 'mandela', 'robben', 'organising', 'mabuza', 'carolus', 'cheryl', 'commissioner', 'coedited', 'tambo', 'mentor', 'jordan', 'pallo', 'remembered', 'ifa', 'repatriates', 'artworks', 'lethu', 'anc', 'diplomacy', 'withdrawing', 'investments', 'colleges', 'corporations', 'malibongwe', 'chairperson', 'comrades', 'lindiwe', 'ambassador', 'sanctions', 'apartheid', 'top', 'angola', 'sobbed', 'comrade', 'collapsed', 'scandinavian', 'cried', 'learnt', 'frustrate', 'instrumental', 'jesse', 'belafonte', 'harry', 'jane', 'fonda', 'activists', 'bombed', 'monday', 'killing', 'formidable', 'sabotaging', 'brunei', 'promotes', 'thabo', 'mbeki', 'charity', 'kwazulu', 'natal', 'obtain', 'majoring', 'minnesota', 'segregation', 'exposure', 'plight', 'prompted', 'reginald', 'residing', 'scandinavia', 'sociology', 'broadcaster', 'roma', 'lesotho', 'proceeded', 'mobilised', 'funds', 'exiled', 'democratically', 'compile', 'bestseller', 'kohl', 'helmut', 'chancellor', 'denmark', 'norway', 'betrand', 'o.', 'anniversary', '100th', 'ohio', 'swaziland', 'employment', 'zulu', 'scandinavians', 'palme', 'olof', 'forged', 'aid', 'dc', 'swedes', 'yari', 'advocacy', 'weapon', 'decoration', 'oppressive', 'eradication', 'zuma', 'ikhamanga', 'neuwied', '453–447', 'nachwort', '454s', 'mit', 'und', 'wardi', 'luchterhand', 'al-', 'darmstadt', 'kadhimiya', 'haydari', 'ethnology', 'geographischen', 'beduinentums', 'aulflosungsprozess', 'abhandlung', 'insititut', 'geographischie', 'irak', 'anthropo', 'frankfurt', 'iraqi', 'حيدري', 'إبراهيم', 'sociologist', 'annaba', 'algeria', 'beirut', 'basra', 'zur', 'chiliasmus', 'shiitischen', 'soziologie', 'utersuchungen', 'ein', 'bd.31', 'passionsspiels', 'islamkundliche', 'erforschung', 'irakischen', 'beitrag', 'psyschologie', 'iv', 'besprechung', 'nr', 'scholz', 'sozio', 'retuals', 'ayatolahs', 'ashura', 'sufis', 'ideologies', 'ain', 'shams', 'lebanese', 'kaatib', 'adaab', 'iranian', 'sarraf', 'safavi', 'navvab', 'fakhr', 'israeli', 'iran', 'tehran', 'trips', 'accompany', 'crying', 'moon', 'noticed', 'carry', 'sabbatical', 'rumi', 'brothers', 'teach', 'abd', 'merchant', 'husayn', 'karbala', 'bureau', 'hatif', 'khalili', 'jafar', 'arrival', 'rendering', 'laureate', 'reporting', 'adib', 'asadi', 'mashkoor', 'الصرّاف', 'derived', 'changer', 'whilst', 'bedget', 'asad', 'hails', 'بدقت', 'الحسين', 'زكي', 'zaki', 'الأسدي', 'عبد', 'jawad', 'responses', 'quick', 'smell', 'hibiscus', 'sloths', 'sloth', 'dawkins', 'springwatch', 'balderdash', \"'re\", 'piffle', 'creatures', 'curious', 'quiz', 'strangest', 'mysteries', 'solved', 'planet', 'animal', 'evolution', 'documentaries', 'specialising', 'boldest', 'thieves', 'unexpected', 'animals', 'lucy', 'zoologist', 'ingenious', 'hurrey', 'clichés', 'soccer', 'totally', 'cliches', 'excerpt', 'listings', 'eurosport', 'espn', 'kelly', 'fanzines', 'danny', 'baker', 'heir', 'gleeful', 'brooke', 'starmer', 'eccleshare', 'marking', 'cates', 'jamie', 'guests', 'zonal', 'cox', 'maw', 'carragher', 'pitt', 'charlie', 'podcaster', '1834', 'dalgleish', 'mediaeval', 'shakespeare', 'reformation', 'evans', 'worthington', 'curror', 'octavius', 'ordnance', 'gazetteer', 'groome', 'hindes', '62', 'parkside', 'mayfield', 'grímsson', 'hafnarfjörður', 'atom', 'stefán', 'hörður', 'attention', 'demkó', 'secretariat', 'hungary', 'manfred', 'woerner', 'beside', 'operations', 'donbas', 'regions', 'controls', 'missions', 'responsibilities', 'eötvös', 'loránd', 'topic', 'experts', 'covered', 'desk', 'mandiner', 'bookfair', 'tsar', 'fury', 'máglyatűz', 'adaptation', 'neighbouring', 'minorities', 'attila', 'autere', 'nato', 'penetration', 'warfare', 'bonfire', 'fourteen', 'somali', 'remembering', 'andrzejewski', 'devices', 'somalia', 'wardheernews', 'masses', 'pg', 'sarbeeb', 'horn', 'pray', 'oblique', 'search', 'laitin', 'samatar', 'koppel', 'consultant', 'interpreter', 'ted', 'reassessment', 'ethiopia', 'nazareth', 'a19', 'subclan', 'leelkase', 'fiqi', 'daarood', 'tanade', 'ismaciil', 'hailed', 'welder', 'delmar', 'sofia', 'lydia', 'goshen', 'qalaafo', 'nomadic', 'transitioning', 'kentucky', 'northeast', 'faduma', 'ogaden', 'الشيخ', 'siciid', 'سعيد', 'sheekh', 'سمتر\\u200e', 'oversaw', 'programming', 'newark', 'unspecified', 'rutgers', 'jersey', 'westview', 'turmoil', 'commenced', 'coming', 'indiana', 'endured', 'humiliating', 'symposium', 'constitution', 'eritrea', 'ismail', 'asmara', 'condolences', 'sixteen', 'classmates', 'evanston', 'northwestern', 'flowers', 'fragrant', 'murder', 'abundant', 'blooming', 'predators', 'livestock', 'mayhem', 'ravenous', 'gangs', 'alternated', 'perennial', 'clans', 'fallowed', 'droughts', 'danger', 'writes', 'milk', 'bent', 'plenty', 'marauding', 'starvation', 'enemy', 'stripping', 'seasons', 'abdille', 'hasan', 'sayyid', 'mahammad', 'macalester', 'bildhaan', 'newsweek', 'cited', 'scots', 'mixed', 'darlington', 'durham', 'accomplishment', 'noone', 'suez', 'zone', 'canal', 'libya', 'faber', 'egg', 'chocolate', 'bleak', 'spooks', 'eastenders', 'cosh', 'lanes', 'multicultural', 'extension', 'cypriot', 'coşkun', 'ömer', 'prekmurje', 'ballér', 'replacement', 'gibanje', 'slovencev', 'šebjanič', 'pomurska', 'protestantsko', 'panonskih', 'kissomlyó', 'dean', 'somogy', 'porrogszentkirály', 'cantor', 'dialect', 'hymns', 'lončarovci', 'őrség', 'nemescsó', 'gerőháza', 'officially', 'sopron', 'magyarization', 'sobota', 'murska', 'slovenskem', 'cerkev', 'kerčmar', 'vili', 'evangeličanska', 'števan', 'istván', 'balliér', 'zala', 'baler', '1760', 'lutheran', 'suylenburg', 'unlike', 'nl', 'trend', 'siècle', 'fin', 'fervent', 'gunpowder', 'eline', 'contrasts', 'vere', 'couperus', 'begins', 'unbelievable', 'lohman', 'méréville', 'unnoticed', 'netherlands', 'none', 'extreme', 'believability', 'reduce', 'unmarried', 'becomes', 'lilia', 'voorhoeve', 'backlog', 'thinks', 'seen', 'outcast', 'egoistic', 'behavior', 'moreover', 'ashamed', 'illegitimate', 'immoral', 'morality', 'demise', 'freules', 'strijdbare', 'elsa', 'cécile', 'bad', 'savornin', 'message', 'obvious', 'frenkel', 'pierre', 'prijs', 'liefde', 'adriaan', 'goekoop', 'suylenberg', 'cabin', 'feathers', 'ruffled', 'compared', 'focussing', 'does', 'highlights', 'equality', 'marriages', 'reactions', 'researchers', 'prevented', 'biografie', '1866', 'jacqueline', 'johan', 'wilhelmine', 'françois', 'nahuys', 'jeanne', 'beek', 'donk', '9789044534825', 'geus', 'breda', 'henriëtte', 'distract', 'socialism', 'roland', 'bourgeois', 'holst', 'schrijfster', 'haar', 'succes', 'aan', 'blood', 'flesh', 'corona', 'contrast', 'smissaert', 'vaderlandse', 'feministische', 'geschiedenis', 'golf', 'huwelijksrecht', 'meerkerk', 'beschouwing', 'milborn', 'mevrouw', 'nijmegen', 'workers', 'kampen', 'hulst', '110', '126–36', '125', 'low', 'meaningful', 'build', 'touches', 'depend', 'encompasses', '1900s', 'jkvr', 'leijnse', 'henri', 'perspective', 'counter', 'combine', 'motherhood', 'namely', 'bourgeoisie', 'desired', 'ötztal', 'birthday', 'bahnhof', '81st', 'aufbruch', 'einsamkeit', 'kulturgeschichte', 'eine', 'leben', 'zum', 'ötztaler', 'alpen', 'skizzen', 'hans', 'oberwalder', 'mailänder', 'haßlacher', 'senn', 'fliri', 'nico', 'haid', 'personalities', 'turrini', 'alpine', 'destruction', 'homeland', 'sancta', 'ausgewählte', 'gedichte', 'gerlinde', 'landes', 'literaturpreis', 'grünmandl', 'tirol', 'überleben', 'jahre', '5000', 'längenfeld', 'matura', 'naturkatastrophen', 'böhlau', 'custom', 'highlighting', 'alps', 'ranging', 'economy', 'folkloristic', 'roale', 'tal', '1680', 'farm', 'latterly', 'heiligkreuz', 'sölden', 'altitude', 'venter', 'gründer', 'alpinismuspionier', 'alpenvereins', 'composition', 'farmer', 'folklorist', 'urn', 'excesses', 'pro', 'initiatives', 'initiator', 'vita', 'alpina', 'heimatverein', 'savoy', 'interreg', 'sall', 'freilichtmuseum', 'wöll', 'dialektinstitut', 'wohl', 'eu', 'internationales', 'associations', 'arge', 'emirati', 'ahwal', 'sawaleif', \"ra'i\", 'parables', 'jerash', 'accounting', 'fahimtkum', '300', \"al'an\", 'wake', 'banned', 'produces', 'zoubi', 'kharabeesh', 'mon3', 'khaleej', 'ar', 'hasanite', 'jordanian', 'ramtha', 'prominence', 'emirates', 'sales', 'addresses', 'cynically', 'youm', 'emarat', 'zu’bi', 'احمد', 'ahmad', 'الزعبي', 'حسن', 'amateur', 'publishes', 'sawalief', 'manaslu', 'everest', 'himalayan', 'changtse', 'peaks', 'expeditions', 'cruinne', 'productions', 'cuairt', 'eiger', 'mount', 'clouds', 'dermot', 'nepal', 'peru', 'climbing', 'above', 'yosemite', 'oireachtas', 'feasa', 'walks', 'turas', 'mountaineer', 'sé', 'featuring', 'somers', 'walking', 'mcguinness', 'champion', \"o'hanlon\", 'hdiped', 'mhuire', 'travelling', 'concentrating', 'coláiste', 'explorer', 'tremane', 'roscommon', 'sahara', 'bealach', 'nomads', 'films', 'airde', 'tsalainn', 'journeys', 'yak', 'tréadacha', 'táin', 'cuailnge', 'trail', 'bó', 'mizen', 'interesting', 'exploring', 'malin', 'wild', 'dheas', 'celtic', 'crossing', 'murray', 'tg4', 'climbed', 'andes', 'ranges', 'drogheda', 'faces', 'irishman', 'rock', 'sligo', 'muckross', 'establishing', 'routes', 'bhuartha', 'ramp', 'mo', 'saor', 'fáth', 'ailladie', 'tormore', 'climbers', 'gobán', 'lukin', 'baja', 'saitovic', 'retrieved', 'distinction', 'poetry.about.com', 'kopecky', 'shalane', 'muffins', 'superhero', 'marathoner', 'flanagan', 'cookbooks', 'elyse', 'coach', 'unc', 'seller', 'runners', 'eat', 'fast', 'rise', 'racism', 'szabó', 'brand', 'combination', 'termed', 'apotheosis', 'initially', 'unnecessary', 'pamphlets', 'cluj', 'eroded', 'dezső', '1879', 'romania', 'kolozsvár', 'napoca', 'az', 'falu', 'elsodort', 'achievements', 'extermination', 'accusation', 'physical', 'explicitly', 'honest', 'nominee', 'nobel', 'marton', 'encyclopedia', 'yehuda', 'magyar', 'oeuvre', 'expressionist', 'populist', 'contradictory', 'hungarists', 'outspokenly', 'arrow', 'abandoning', 'inter', 'rabidly', 'virradat', 'horthy', 'opponent', 'greatest', 'unique', 'ensured', 'varga', 'peasantry', 'uniqueness', 'characteristics', 'szabo', 'passionately', 'apologists', 'miklós', 'anger', 'note', 'eradicate', 'mentalities', 'corrupted', 'germans', 'lay', 'espousing', 'peasant', 'assimilated', 'polecat', 'reasoning', 'contradictious', 'antisemitic', 'revue', 'nyugat', 'reprimanding', 'alarmist', 'feebleness', 'couched', 'apocalyptic', 'tones', 'unrealistic', 'stylistically', 'criticizing', 'tisza', 'compilation', 'talmud', 'shittah', 'mekubbetzet', 'genre', 'pinnacle', '12th', 'sefer', 'supercommentary', 'halachot', 'zechariah', 'alfasi', 'quotes', 'ourika', 'marrakech', 'aghmat', 'marrakesh', 'saadian', 'sultan', 'sefardi', 'migash', 'ibn', 'chananel', 'barukh', 'perush', 'ha', 'gaon', 'hai', 'geonim', 'ghiyyat', 'rashi', 'ben', 'sephardic', 'chushiel', 'maimonides', 'זכריה', 'judah', 'agamati', 'אגמאתי', '1195', 'talmudist', 'aghmati', 'spelled', '1120', 'ce', 'rabbi', \"mesi'a\", 'babha', 'bathera', '1190', 'kamma', 'talmudic', 'babylonian', 'equipped', 'somerset', 'amiens', 'riflemen', 'montgaillard', 'display', 'situation', 'refutation', 'calumnies', 'jervis', '1811', 'baronet', 'wexford', 'commoner', '1766', 'bally', 'ellis', 'reward', 'bath', 'view', '1830', 'decline', 'meredyth', 'corresponding', 'textbook', '270', 'konstantin', 'chervinskiy', 'олександрович', 'ukrainian', 'червінський', 'oleksandrovich', 'костянтин', 'chemist', 'raion', 'pikiv', 'kalynivka', 'vinnytsia', 'jassy', 'dnipropetrovsk', 'technological', 'kharkiv', 'polytechnic', 'opening', 'laboratories', 'metropolitans', 'signature', 'chernivtsi', 'faculties', 'bukovinian', 'dalmatian', 'supervised', 'butnakho', 'champasak', '64', 'diabetes', 'laos', 'khampan', 'ngiem', 'kotamee', 'kee', 'ki', 'daeng', 'bounkerd', 'douangduean', 'niuhuang', 'laotian', 'morakot', 'xaiyo', 'daophet', 'band', 'supphies', 'khong', 'phiromphon', 'phleng', 'dang', 'sala', 'mike', 'khunnawut', 'fang', 'daovieng', 'boudnakho', 'lao', 'daoviang', 'chiwit', 'thung', 'ດາວວຽງ', 'luk', 'phuea', 'ບຸດນາໂຄ', 'tai', 'orathai', 'kaem', 'jai', 'raeng', 'mai', 'suksa', 'น้ำตาสาววาริน', 'warin', 'komphet', 'poonlarp', 'namta', 'jintara', 'isan', 'sao', 'phorncharoen', 'simueang', 'pattern', 'stopped', 'songwriting', 'eleven', 'siblings'])"
      ]
     },
     "execution_count": 73,
     "metadata": {},
     "output_type": "execute_result"
    }
   ],
   "source": [
    "shared_sent_tokens.keys()"
   ]
  },
  {
   "cell_type": "markdown",
   "metadata": {},
   "source": [
    "______________\n",
    "Access all the Spacy tokens of a wordform:"
   ]
  },
  {
   "cell_type": "code",
   "execution_count": 74,
   "metadata": {},
   "outputs": [
    {
     "data": {
      "text/plain": [
       "[million, million, million]"
      ]
     },
     "execution_count": 74,
     "metadata": {},
     "output_type": "execute_result"
    }
   ],
   "source": [
    "shared_sent_tokens['million']['Spacy']"
   ]
  },
  {
   "cell_type": "markdown",
   "metadata": {},
   "source": [
    "_______________\n",
    "Access all Stanza tokens of a wordform:"
   ]
  },
  {
   "cell_type": "code",
   "execution_count": 75,
   "metadata": {},
   "outputs": [
    {
     "data": {
      "text/plain": [
       "[{\n",
       "   \"id\": 26,\n",
       "   \"text\": \"million\",\n",
       "   \"upos\": \"NUM\",\n",
       "   \"xpos\": \"CD\",\n",
       "   \"feats\": \"NumForm=Word|NumType=Card\",\n",
       "   \"start_char\": 110,\n",
       "   \"end_char\": 117\n",
       " },\n",
       " {\n",
       "   \"id\": 14,\n",
       "   \"text\": \"million\",\n",
       "   \"upos\": \"NUM\",\n",
       "   \"xpos\": \"CD\",\n",
       "   \"feats\": \"NumForm=Word|NumType=Card\",\n",
       "   \"start_char\": 66,\n",
       "   \"end_char\": 73\n",
       " },\n",
       " {\n",
       "   \"id\": 28,\n",
       "   \"text\": \"million\",\n",
       "   \"upos\": \"NUM\",\n",
       "   \"xpos\": \"CD\",\n",
       "   \"feats\": \"NumForm=Word|NumType=Card\",\n",
       "   \"start_char\": 123,\n",
       "   \"end_char\": 130\n",
       " }]"
      ]
     },
     "execution_count": 75,
     "metadata": {},
     "output_type": "execute_result"
    }
   ],
   "source": [
    "shared_sent_tokens['million']['Stanza']"
   ]
  },
  {
   "cell_type": "markdown",
   "metadata": {},
   "source": [
    "____________________\n",
    "**Access all Spacy PoS of a wordform**:"
   ]
  },
  {
   "cell_type": "code",
   "execution_count": 76,
   "metadata": {},
   "outputs": [
    {
     "data": {
      "text/plain": [
       "['NUM', 'NUM', 'NUM']"
      ]
     },
     "execution_count": 76,
     "metadata": {},
     "output_type": "execute_result"
    }
   ],
   "source": [
    "[x.pos_ for x in shared_sent_tokens['million']['Spacy']]"
   ]
  },
  {
   "cell_type": "markdown",
   "metadata": {},
   "source": [
    "___________\n",
    "**Access all Stanza PoS of a wordform:**"
   ]
  },
  {
   "cell_type": "code",
   "execution_count": 77,
   "metadata": {},
   "outputs": [
    {
     "data": {
      "text/plain": [
       "['NUM', 'NUM', 'NUM']"
      ]
     },
     "execution_count": 77,
     "metadata": {},
     "output_type": "execute_result"
    }
   ],
   "source": [
    "[x.upos for x in shared_sent_tokens['million']['Stanza']]"
   ]
  },
  {
   "cell_type": "markdown",
   "metadata": {},
   "source": [
    "_________\n",
    "**A helper function that would return all Spacy or Stanza UPOS by a wordform:**"
   ]
  },
  {
   "cell_type": "code",
   "execution_count": 81,
   "metadata": {},
   "outputs": [],
   "source": [
    "def get_pos(wordform, library):\n",
    "    if library == 'Spacy':\n",
    "        return [x.pos_ for x in shared_sent_tokens[wordform][library]]\n",
    "    elif library == 'Stanza':\n",
    "        return [x.upos for x in shared_sent_tokens[wordform][library]]\n",
    "    else:\n",
    "        raise Exception('The supported library values are: Spacy, Stanza')"
   ]
  },
  {
   "cell_type": "code",
   "execution_count": 94,
   "metadata": {},
   "outputs": [],
   "source": [
    "def get_occurence_count(wordform):\n",
    "    return len(shared_sent_tokens[wordform]['Spacy'])"
   ]
  },
  {
   "cell_type": "code",
   "execution_count": 95,
   "metadata": {},
   "outputs": [
    {
     "data": {
      "text/plain": [
       "4"
      ]
     },
     "execution_count": 95,
     "metadata": {},
     "output_type": "execute_result"
    }
   ],
   "source": [
    "get_occurence_count('serious')"
   ]
  },
  {
   "cell_type": "code",
   "execution_count": 85,
   "metadata": {},
   "outputs": [
    {
     "data": {
      "text/plain": [
       "['ADJ', 'ADJ', 'ADJ', 'ADJ']"
      ]
     },
     "execution_count": 85,
     "metadata": {},
     "output_type": "execute_result"
    }
   ],
   "source": [
    "get_pos('serious', 'Spacy')"
   ]
  },
  {
   "cell_type": "code",
   "execution_count": 87,
   "metadata": {},
   "outputs": [
    {
     "data": {
      "text/plain": [
       "['ADJ', 'ADJ', 'ADJ', 'ADJ']"
      ]
     },
     "execution_count": 87,
     "metadata": {},
     "output_type": "execute_result"
    }
   ],
   "source": [
    "get_pos('serious', 'Stanza')"
   ]
  },
  {
   "cell_type": "markdown",
   "metadata": {},
   "source": [
    "_____________________________________\n",
    "For the task \n",
    "`For each token in SharedTokensInSentences,\n",
    "your code should compute and output: the ratio and the number of times, the token is assigned the same UPOS by both libraries `\n",
    "\n",
    "What we'll need to is:\n",
    "- Get all the wordforms of `shared_sent_tokens.keys()`\n",
    "- And then for each of them:\n",
    "    - Get total number of occurences using = **n**  => `get_occurence_count(wordform)`\n",
    "    - Create the count of the same POS\n",
    "    - Get all the spacy POS using `get_pos(wordform, 'Spacy')` \n",
    "    - Get stanza POS using `get_pos(wordform, 'Stanza')`\n",
    "    - For i in range(n) compare spacy_pos\\[i\\] and stanza_pos\\[i\\]: if they are the same, increase the same counter\n",
    "    - **NB:** Spacy and Stanza occurences are ordered and expected to be in the same order, so spacy_pos\\[i\\] and stanza_pos\\[i\\] should refer to the same occurence. Not sure if it's needed for the task.\n",
    "    - Get the ratio and the total c\n"
   ]
  },
  {
   "cell_type": "markdown",
   "metadata": {},
   "source": [
    "## Part of Speech\n",
    "\n",
    "### ??\n",
    "\n",
    "First we stitch every text. Then the function *spacy_tokenize_text* from **utils.py** is used to create a dictionnary containing every words of the text and their corresponding part-of-speech."
   ]
  },
  {
   "cell_type": "code",
   "execution_count": 133,
   "metadata": {},
   "outputs": [],
   "source": [
    "texts_stitched = ' '.join(texts)\n",
    "spacy_pos = [(x.text, x.pos_) for x in set(spacy_tokenize_text(texts_stitched, to_string=False))]\n",
    "d_spacy_pos = dict(spacy_pos)"
   ]
  },
  {
   "cell_type": "markdown",
   "metadata": {},
   "source": [
    "Using the file *st_sents_tockens.pickle* we retrieve all tokens from stanza and we create the equivalent dictionnary."
   ]
  },
  {
   "cell_type": "code",
   "execution_count": 132,
   "metadata": {},
   "outputs": [],
   "source": [
    "with open('SpacyStanza/st_sent_tockens.pickle', 'rb') as f:\n",
    "    stanza_vocabulary = pickle.load(f)\n",
    "\n",
    "stanza_tokens = []\n",
    "for x in list(stanza_vocabulary):\n",
    "    for y in x:\n",
    "        stanza_tokens.append(y)\n",
    "\n",
    "stanza_pos = [(x.words[0].text, x.words[0].upos) for x in stanza_tokens]\n",
    "d_stanza_pos = dict(stanza_pos)\n"
   ]
  },
  {
   "cell_type": "code",
   "execution_count": 77,
   "metadata": {},
   "outputs": [
    {
     "data": {
      "text/plain": [
       "(48515, 30461)"
      ]
     },
     "execution_count": 77,
     "metadata": {},
     "output_type": "execute_result"
    }
   ],
   "source": [
    "len(stanza_pos), len(spacy_pos)"
   ]
  },
  {
   "cell_type": "markdown",
   "metadata": {},
   "source": [
    "As we can see (and as we arleady know) the two libraries do not find the same amount of tokens. \n",
    "\n",
    "### Analysis\n",
    "\n",
    "Next, we create a dictionnary containing for each POS find by **Spacy** the corresponding POS find by **Stanza** if the two doesn't correspond. If the token does not exist in the **Stanza** list of tokens, **\"NOT FIND\"** will be used."
   ]
  },
  {
   "cell_type": "code",
   "execution_count": 148,
   "metadata": {},
   "outputs": [
    {
     "name": "stdout",
     "output_type": "stream",
     "text": [
      "{'PROPN': {'NOT FIND': 5272, 'X': 16, 'ADJ': 6, 'NOUN': 9}, 'NOUN': {'NOT FIND': 1644, 'VERB': 41, 'ADJ': 24, 'X': 10, 'PROPN': 2, 'NUM': 1}, 'ADJ': {'NOT FIND': 454, 'NOUN': 21, 'VERB': 9, 'ADV': 3, 'X': 3, 'PROPN': 1, 'INTJ': 1}, 'VERB': {'NOT FIND': 648, 'NOUN': 54, 'ADJ': 8, 'X': 6}, 'NUM': {'NOT FIND': 308, 'NOUN': 1}, 'X': {'NOT FIND': 35, 'PROPN': 1}, 'ADV': {'ADJ': 6, 'NOT FIND': 97, 'SCONJ': 1}, 'SCONJ': {'NOT FIND': 2}, 'PUNCT': {'NOT FIND': 5}, 'SPACE': {'NOT FIND': 4}, 'ADP': {'ADV': 1, 'SCONJ': 1, 'NOT FIND': 23, 'X': 2, 'NOUN': 1}, 'AUX': {'NOT FIND': 4, 'X': 1}, 'PRON': {'NOT FIND': 2}, 'INTJ': {'NOT FIND': 11, 'X': 1}, 'CCONJ': {'NOT FIND': 1}, 'SYM': {'NOT FIND': 1}, 'DET': {'NOT FIND': 1}}\n"
     ]
    }
   ],
   "source": [
    "d_spacy_to_stanza_pos = dict()\n",
    "for k,v in d_spacy_pos.items():\n",
    "   tmp = d_stanza_pos.get(k,'NOT FIND')\n",
    "   if (v!=tmp):\n",
    "      d_spacy_to_stanza_pos.update({v: d_spacy_to_stanza_pos.get(v,dict())})\n",
    "      d_spacy_to_stanza_pos.get(v,dict()).update({tmp: (d_spacy_to_stanza_pos.get(v,dict()).get(tmp, 0) + 1)})\n",
    "print(d_spacy_to_stanza_pos)\n",
    "   "
   ]
  },
  {
   "cell_type": "markdown",
   "metadata": {},
   "source": [
    "We simply do it the other way around, creating a dictionnary containing for each POS find by **Stanza** the corresponding POS find by **Spacy** if the two doesn't correspond."
   ]
  },
  {
   "cell_type": "code",
   "execution_count": 149,
   "metadata": {},
   "outputs": [
    {
     "name": "stdout",
     "output_type": "stream",
     "text": [
      "{'PROPN': {'NOT FIND': 1531, 'ADJ': 1, 'X': 1, 'NOUN': 2}, 'X': {'NOT FIND': 845, 'NOUN': 10, 'VERB': 6, 'PROPN': 16, 'ADP': 2, 'AUX': 1, 'ADJ': 3, 'INTJ': 1}, 'PUNCT': {'NOT FIND': 27}, 'SYM': {'NOT FIND': 5}, 'AUX': {'NOT FIND': 23}, 'DET': {'NOT FIND': 14}, 'ADJ': {'NOT FIND': 566, 'PROPN': 6, 'ADV': 6, 'VERB': 8, 'NOUN': 24}, 'NOUN': {'NOT FIND': 2107, 'PROPN': 9, 'VERB': 54, 'ADJ': 21, 'NUM': 1, 'ADP': 1}, 'CCONJ': {'NOT FIND': 5}, 'ADP': {'NOT FIND': 41}, 'PART': {'NOT FIND': 7}, 'ADV': {'ADP': 1, 'NOT FIND': 124, 'ADJ': 3}, 'NUM': {'NOT FIND': 252, 'NOUN': 1}, 'VERB': {'NOT FIND': 577, 'NOUN': 41, 'ADJ': 9}, 'PRON': {'NOT FIND': 36}, 'SCONJ': {'NOT FIND': 11, 'ADV': 1, 'ADP': 1}, 'INTJ': {'ADJ': 1, 'NOT FIND': 8}}\n"
     ]
    }
   ],
   "source": [
    "d_stanza_to_spacy_pos = dict()\n",
    "for k,v in d_stanza_pos.items():\n",
    "   tmp = d_spacy_pos.get(k,'NOT FIND')\n",
    "   if (v!=tmp):\n",
    "      d_stanza_to_spacy_pos.update({v: d_stanza_to_spacy_pos.get(v,dict())})\n",
    "      d_stanza_to_spacy_pos.get(v,dict()).update({tmp: (d_stanza_to_spacy_pos.get(v,dict()).get(tmp, 0) + 1)})\n",
    "print(d_stanza_to_spacy_pos)"
   ]
  },
  {
   "cell_type": "markdown",
   "metadata": {},
   "source": [
    "For a better visualisation, we put everything we found into two dictionnaries."
   ]
  },
  {
   "cell_type": "code",
   "execution_count": 156,
   "metadata": {},
   "outputs": [
    {
     "data": {
      "text/html": [
       "<div>\n",
       "<style scoped>\n",
       "    .dataframe tbody tr th:only-of-type {\n",
       "        vertical-align: middle;\n",
       "    }\n",
       "\n",
       "    .dataframe tbody tr th {\n",
       "        vertical-align: top;\n",
       "    }\n",
       "\n",
       "    .dataframe thead th {\n",
       "        text-align: right;\n",
       "    }\n",
       "</style>\n",
       "<table border=\"1\" class=\"dataframe\">\n",
       "  <thead>\n",
       "    <tr style=\"text-align: right;\">\n",
       "      <th></th>\n",
       "      <th>PROPN</th>\n",
       "      <th>NOUN</th>\n",
       "      <th>ADJ</th>\n",
       "      <th>VERB</th>\n",
       "      <th>NUM</th>\n",
       "      <th>X</th>\n",
       "      <th>ADV</th>\n",
       "      <th>SCONJ</th>\n",
       "      <th>PUNCT</th>\n",
       "      <th>SPACE</th>\n",
       "      <th>ADP</th>\n",
       "      <th>AUX</th>\n",
       "      <th>PRON</th>\n",
       "      <th>INTJ</th>\n",
       "      <th>CCONJ</th>\n",
       "      <th>SYM</th>\n",
       "      <th>DET</th>\n",
       "    </tr>\n",
       "  </thead>\n",
       "  <tbody>\n",
       "    <tr>\n",
       "      <th>NOT FIND</th>\n",
       "      <td>5272.0</td>\n",
       "      <td>1644.0</td>\n",
       "      <td>454.0</td>\n",
       "      <td>648.0</td>\n",
       "      <td>308.0</td>\n",
       "      <td>35.0</td>\n",
       "      <td>97.0</td>\n",
       "      <td>2.0</td>\n",
       "      <td>5.0</td>\n",
       "      <td>4.0</td>\n",
       "      <td>23.0</td>\n",
       "      <td>4.0</td>\n",
       "      <td>2.0</td>\n",
       "      <td>11.0</td>\n",
       "      <td>1.0</td>\n",
       "      <td>1.0</td>\n",
       "      <td>1.0</td>\n",
       "    </tr>\n",
       "    <tr>\n",
       "      <th>X</th>\n",
       "      <td>16.0</td>\n",
       "      <td>10.0</td>\n",
       "      <td>3.0</td>\n",
       "      <td>6.0</td>\n",
       "      <td>0.0</td>\n",
       "      <td>0.0</td>\n",
       "      <td>0.0</td>\n",
       "      <td>0.0</td>\n",
       "      <td>0.0</td>\n",
       "      <td>0.0</td>\n",
       "      <td>2.0</td>\n",
       "      <td>1.0</td>\n",
       "      <td>0.0</td>\n",
       "      <td>1.0</td>\n",
       "      <td>0.0</td>\n",
       "      <td>0.0</td>\n",
       "      <td>0.0</td>\n",
       "    </tr>\n",
       "    <tr>\n",
       "      <th>ADJ</th>\n",
       "      <td>6.0</td>\n",
       "      <td>24.0</td>\n",
       "      <td>0.0</td>\n",
       "      <td>8.0</td>\n",
       "      <td>0.0</td>\n",
       "      <td>0.0</td>\n",
       "      <td>6.0</td>\n",
       "      <td>0.0</td>\n",
       "      <td>0.0</td>\n",
       "      <td>0.0</td>\n",
       "      <td>0.0</td>\n",
       "      <td>0.0</td>\n",
       "      <td>0.0</td>\n",
       "      <td>0.0</td>\n",
       "      <td>0.0</td>\n",
       "      <td>0.0</td>\n",
       "      <td>0.0</td>\n",
       "    </tr>\n",
       "    <tr>\n",
       "      <th>NOUN</th>\n",
       "      <td>9.0</td>\n",
       "      <td>0.0</td>\n",
       "      <td>21.0</td>\n",
       "      <td>54.0</td>\n",
       "      <td>1.0</td>\n",
       "      <td>0.0</td>\n",
       "      <td>0.0</td>\n",
       "      <td>0.0</td>\n",
       "      <td>0.0</td>\n",
       "      <td>0.0</td>\n",
       "      <td>1.0</td>\n",
       "      <td>0.0</td>\n",
       "      <td>0.0</td>\n",
       "      <td>0.0</td>\n",
       "      <td>0.0</td>\n",
       "      <td>0.0</td>\n",
       "      <td>0.0</td>\n",
       "    </tr>\n",
       "    <tr>\n",
       "      <th>VERB</th>\n",
       "      <td>0.0</td>\n",
       "      <td>41.0</td>\n",
       "      <td>9.0</td>\n",
       "      <td>0.0</td>\n",
       "      <td>0.0</td>\n",
       "      <td>0.0</td>\n",
       "      <td>0.0</td>\n",
       "      <td>0.0</td>\n",
       "      <td>0.0</td>\n",
       "      <td>0.0</td>\n",
       "      <td>0.0</td>\n",
       "      <td>0.0</td>\n",
       "      <td>0.0</td>\n",
       "      <td>0.0</td>\n",
       "      <td>0.0</td>\n",
       "      <td>0.0</td>\n",
       "      <td>0.0</td>\n",
       "    </tr>\n",
       "    <tr>\n",
       "      <th>PROPN</th>\n",
       "      <td>0.0</td>\n",
       "      <td>2.0</td>\n",
       "      <td>1.0</td>\n",
       "      <td>0.0</td>\n",
       "      <td>0.0</td>\n",
       "      <td>1.0</td>\n",
       "      <td>0.0</td>\n",
       "      <td>0.0</td>\n",
       "      <td>0.0</td>\n",
       "      <td>0.0</td>\n",
       "      <td>0.0</td>\n",
       "      <td>0.0</td>\n",
       "      <td>0.0</td>\n",
       "      <td>0.0</td>\n",
       "      <td>0.0</td>\n",
       "      <td>0.0</td>\n",
       "      <td>0.0</td>\n",
       "    </tr>\n",
       "    <tr>\n",
       "      <th>NUM</th>\n",
       "      <td>0.0</td>\n",
       "      <td>1.0</td>\n",
       "      <td>0.0</td>\n",
       "      <td>0.0</td>\n",
       "      <td>0.0</td>\n",
       "      <td>0.0</td>\n",
       "      <td>0.0</td>\n",
       "      <td>0.0</td>\n",
       "      <td>0.0</td>\n",
       "      <td>0.0</td>\n",
       "      <td>0.0</td>\n",
       "      <td>0.0</td>\n",
       "      <td>0.0</td>\n",
       "      <td>0.0</td>\n",
       "      <td>0.0</td>\n",
       "      <td>0.0</td>\n",
       "      <td>0.0</td>\n",
       "    </tr>\n",
       "    <tr>\n",
       "      <th>ADV</th>\n",
       "      <td>0.0</td>\n",
       "      <td>0.0</td>\n",
       "      <td>3.0</td>\n",
       "      <td>0.0</td>\n",
       "      <td>0.0</td>\n",
       "      <td>0.0</td>\n",
       "      <td>0.0</td>\n",
       "      <td>0.0</td>\n",
       "      <td>0.0</td>\n",
       "      <td>0.0</td>\n",
       "      <td>1.0</td>\n",
       "      <td>0.0</td>\n",
       "      <td>0.0</td>\n",
       "      <td>0.0</td>\n",
       "      <td>0.0</td>\n",
       "      <td>0.0</td>\n",
       "      <td>0.0</td>\n",
       "    </tr>\n",
       "    <tr>\n",
       "      <th>INTJ</th>\n",
       "      <td>0.0</td>\n",
       "      <td>0.0</td>\n",
       "      <td>1.0</td>\n",
       "      <td>0.0</td>\n",
       "      <td>0.0</td>\n",
       "      <td>0.0</td>\n",
       "      <td>0.0</td>\n",
       "      <td>0.0</td>\n",
       "      <td>0.0</td>\n",
       "      <td>0.0</td>\n",
       "      <td>0.0</td>\n",
       "      <td>0.0</td>\n",
       "      <td>0.0</td>\n",
       "      <td>0.0</td>\n",
       "      <td>0.0</td>\n",
       "      <td>0.0</td>\n",
       "      <td>0.0</td>\n",
       "    </tr>\n",
       "    <tr>\n",
       "      <th>SCONJ</th>\n",
       "      <td>0.0</td>\n",
       "      <td>0.0</td>\n",
       "      <td>0.0</td>\n",
       "      <td>0.0</td>\n",
       "      <td>0.0</td>\n",
       "      <td>0.0</td>\n",
       "      <td>1.0</td>\n",
       "      <td>0.0</td>\n",
       "      <td>0.0</td>\n",
       "      <td>0.0</td>\n",
       "      <td>1.0</td>\n",
       "      <td>0.0</td>\n",
       "      <td>0.0</td>\n",
       "      <td>0.0</td>\n",
       "      <td>0.0</td>\n",
       "      <td>0.0</td>\n",
       "      <td>0.0</td>\n",
       "    </tr>\n",
       "  </tbody>\n",
       "</table>\n",
       "</div>"
      ],
      "text/plain": [
       "           PROPN    NOUN    ADJ   VERB    NUM     X   ADV  SCONJ  PUNCT   \n",
       "NOT FIND  5272.0  1644.0  454.0  648.0  308.0  35.0  97.0    2.0    5.0  \\\n",
       "X           16.0    10.0    3.0    6.0    0.0   0.0   0.0    0.0    0.0   \n",
       "ADJ          6.0    24.0    0.0    8.0    0.0   0.0   6.0    0.0    0.0   \n",
       "NOUN         9.0     0.0   21.0   54.0    1.0   0.0   0.0    0.0    0.0   \n",
       "VERB         0.0    41.0    9.0    0.0    0.0   0.0   0.0    0.0    0.0   \n",
       "PROPN        0.0     2.0    1.0    0.0    0.0   1.0   0.0    0.0    0.0   \n",
       "NUM          0.0     1.0    0.0    0.0    0.0   0.0   0.0    0.0    0.0   \n",
       "ADV          0.0     0.0    3.0    0.0    0.0   0.0   0.0    0.0    0.0   \n",
       "INTJ         0.0     0.0    1.0    0.0    0.0   0.0   0.0    0.0    0.0   \n",
       "SCONJ        0.0     0.0    0.0    0.0    0.0   0.0   1.0    0.0    0.0   \n",
       "\n",
       "          SPACE   ADP  AUX  PRON  INTJ  CCONJ  SYM  DET  \n",
       "NOT FIND    4.0  23.0  4.0   2.0  11.0    1.0  1.0  1.0  \n",
       "X           0.0   2.0  1.0   0.0   1.0    0.0  0.0  0.0  \n",
       "ADJ         0.0   0.0  0.0   0.0   0.0    0.0  0.0  0.0  \n",
       "NOUN        0.0   1.0  0.0   0.0   0.0    0.0  0.0  0.0  \n",
       "VERB        0.0   0.0  0.0   0.0   0.0    0.0  0.0  0.0  \n",
       "PROPN       0.0   0.0  0.0   0.0   0.0    0.0  0.0  0.0  \n",
       "NUM         0.0   0.0  0.0   0.0   0.0    0.0  0.0  0.0  \n",
       "ADV         0.0   1.0  0.0   0.0   0.0    0.0  0.0  0.0  \n",
       "INTJ        0.0   0.0  0.0   0.0   0.0    0.0  0.0  0.0  \n",
       "SCONJ       0.0   1.0  0.0   0.0   0.0    0.0  0.0  0.0  "
      ]
     },
     "execution_count": 156,
     "metadata": {},
     "output_type": "execute_result"
    }
   ],
   "source": [
    "df_spacy_to_stanza = pd.DataFrame(d_spacy_to_stanza_pos).fillna(0)\n",
    "df_spacy_to_stanza"
   ]
  },
  {
   "cell_type": "code",
   "execution_count": 157,
   "metadata": {},
   "outputs": [
    {
     "data": {
      "text/html": [
       "<div>\n",
       "<style scoped>\n",
       "    .dataframe tbody tr th:only-of-type {\n",
       "        vertical-align: middle;\n",
       "    }\n",
       "\n",
       "    .dataframe tbody tr th {\n",
       "        vertical-align: top;\n",
       "    }\n",
       "\n",
       "    .dataframe thead th {\n",
       "        text-align: right;\n",
       "    }\n",
       "</style>\n",
       "<table border=\"1\" class=\"dataframe\">\n",
       "  <thead>\n",
       "    <tr style=\"text-align: right;\">\n",
       "      <th></th>\n",
       "      <th>PROPN</th>\n",
       "      <th>X</th>\n",
       "      <th>PUNCT</th>\n",
       "      <th>SYM</th>\n",
       "      <th>AUX</th>\n",
       "      <th>DET</th>\n",
       "      <th>ADJ</th>\n",
       "      <th>NOUN</th>\n",
       "      <th>CCONJ</th>\n",
       "      <th>ADP</th>\n",
       "      <th>PART</th>\n",
       "      <th>ADV</th>\n",
       "      <th>NUM</th>\n",
       "      <th>VERB</th>\n",
       "      <th>PRON</th>\n",
       "      <th>SCONJ</th>\n",
       "      <th>INTJ</th>\n",
       "    </tr>\n",
       "  </thead>\n",
       "  <tbody>\n",
       "    <tr>\n",
       "      <th>NOT FIND</th>\n",
       "      <td>1531.0</td>\n",
       "      <td>845.0</td>\n",
       "      <td>27.0</td>\n",
       "      <td>5.0</td>\n",
       "      <td>23.0</td>\n",
       "      <td>14.0</td>\n",
       "      <td>566.0</td>\n",
       "      <td>2107.0</td>\n",
       "      <td>5.0</td>\n",
       "      <td>41.0</td>\n",
       "      <td>7.0</td>\n",
       "      <td>124.0</td>\n",
       "      <td>252.0</td>\n",
       "      <td>577.0</td>\n",
       "      <td>36.0</td>\n",
       "      <td>11.0</td>\n",
       "      <td>8.0</td>\n",
       "    </tr>\n",
       "    <tr>\n",
       "      <th>ADJ</th>\n",
       "      <td>1.0</td>\n",
       "      <td>3.0</td>\n",
       "      <td>0.0</td>\n",
       "      <td>0.0</td>\n",
       "      <td>0.0</td>\n",
       "      <td>0.0</td>\n",
       "      <td>0.0</td>\n",
       "      <td>21.0</td>\n",
       "      <td>0.0</td>\n",
       "      <td>0.0</td>\n",
       "      <td>0.0</td>\n",
       "      <td>3.0</td>\n",
       "      <td>0.0</td>\n",
       "      <td>9.0</td>\n",
       "      <td>0.0</td>\n",
       "      <td>0.0</td>\n",
       "      <td>1.0</td>\n",
       "    </tr>\n",
       "    <tr>\n",
       "      <th>X</th>\n",
       "      <td>1.0</td>\n",
       "      <td>0.0</td>\n",
       "      <td>0.0</td>\n",
       "      <td>0.0</td>\n",
       "      <td>0.0</td>\n",
       "      <td>0.0</td>\n",
       "      <td>0.0</td>\n",
       "      <td>0.0</td>\n",
       "      <td>0.0</td>\n",
       "      <td>0.0</td>\n",
       "      <td>0.0</td>\n",
       "      <td>0.0</td>\n",
       "      <td>0.0</td>\n",
       "      <td>0.0</td>\n",
       "      <td>0.0</td>\n",
       "      <td>0.0</td>\n",
       "      <td>0.0</td>\n",
       "    </tr>\n",
       "    <tr>\n",
       "      <th>NOUN</th>\n",
       "      <td>2.0</td>\n",
       "      <td>10.0</td>\n",
       "      <td>0.0</td>\n",
       "      <td>0.0</td>\n",
       "      <td>0.0</td>\n",
       "      <td>0.0</td>\n",
       "      <td>24.0</td>\n",
       "      <td>0.0</td>\n",
       "      <td>0.0</td>\n",
       "      <td>0.0</td>\n",
       "      <td>0.0</td>\n",
       "      <td>0.0</td>\n",
       "      <td>1.0</td>\n",
       "      <td>41.0</td>\n",
       "      <td>0.0</td>\n",
       "      <td>0.0</td>\n",
       "      <td>0.0</td>\n",
       "    </tr>\n",
       "    <tr>\n",
       "      <th>VERB</th>\n",
       "      <td>0.0</td>\n",
       "      <td>6.0</td>\n",
       "      <td>0.0</td>\n",
       "      <td>0.0</td>\n",
       "      <td>0.0</td>\n",
       "      <td>0.0</td>\n",
       "      <td>8.0</td>\n",
       "      <td>54.0</td>\n",
       "      <td>0.0</td>\n",
       "      <td>0.0</td>\n",
       "      <td>0.0</td>\n",
       "      <td>0.0</td>\n",
       "      <td>0.0</td>\n",
       "      <td>0.0</td>\n",
       "      <td>0.0</td>\n",
       "      <td>0.0</td>\n",
       "      <td>0.0</td>\n",
       "    </tr>\n",
       "    <tr>\n",
       "      <th>PROPN</th>\n",
       "      <td>0.0</td>\n",
       "      <td>16.0</td>\n",
       "      <td>0.0</td>\n",
       "      <td>0.0</td>\n",
       "      <td>0.0</td>\n",
       "      <td>0.0</td>\n",
       "      <td>6.0</td>\n",
       "      <td>9.0</td>\n",
       "      <td>0.0</td>\n",
       "      <td>0.0</td>\n",
       "      <td>0.0</td>\n",
       "      <td>0.0</td>\n",
       "      <td>0.0</td>\n",
       "      <td>0.0</td>\n",
       "      <td>0.0</td>\n",
       "      <td>0.0</td>\n",
       "      <td>0.0</td>\n",
       "    </tr>\n",
       "    <tr>\n",
       "      <th>ADP</th>\n",
       "      <td>0.0</td>\n",
       "      <td>2.0</td>\n",
       "      <td>0.0</td>\n",
       "      <td>0.0</td>\n",
       "      <td>0.0</td>\n",
       "      <td>0.0</td>\n",
       "      <td>0.0</td>\n",
       "      <td>1.0</td>\n",
       "      <td>0.0</td>\n",
       "      <td>0.0</td>\n",
       "      <td>0.0</td>\n",
       "      <td>1.0</td>\n",
       "      <td>0.0</td>\n",
       "      <td>0.0</td>\n",
       "      <td>0.0</td>\n",
       "      <td>1.0</td>\n",
       "      <td>0.0</td>\n",
       "    </tr>\n",
       "    <tr>\n",
       "      <th>AUX</th>\n",
       "      <td>0.0</td>\n",
       "      <td>1.0</td>\n",
       "      <td>0.0</td>\n",
       "      <td>0.0</td>\n",
       "      <td>0.0</td>\n",
       "      <td>0.0</td>\n",
       "      <td>0.0</td>\n",
       "      <td>0.0</td>\n",
       "      <td>0.0</td>\n",
       "      <td>0.0</td>\n",
       "      <td>0.0</td>\n",
       "      <td>0.0</td>\n",
       "      <td>0.0</td>\n",
       "      <td>0.0</td>\n",
       "      <td>0.0</td>\n",
       "      <td>0.0</td>\n",
       "      <td>0.0</td>\n",
       "    </tr>\n",
       "    <tr>\n",
       "      <th>INTJ</th>\n",
       "      <td>0.0</td>\n",
       "      <td>1.0</td>\n",
       "      <td>0.0</td>\n",
       "      <td>0.0</td>\n",
       "      <td>0.0</td>\n",
       "      <td>0.0</td>\n",
       "      <td>0.0</td>\n",
       "      <td>0.0</td>\n",
       "      <td>0.0</td>\n",
       "      <td>0.0</td>\n",
       "      <td>0.0</td>\n",
       "      <td>0.0</td>\n",
       "      <td>0.0</td>\n",
       "      <td>0.0</td>\n",
       "      <td>0.0</td>\n",
       "      <td>0.0</td>\n",
       "      <td>0.0</td>\n",
       "    </tr>\n",
       "    <tr>\n",
       "      <th>ADV</th>\n",
       "      <td>0.0</td>\n",
       "      <td>0.0</td>\n",
       "      <td>0.0</td>\n",
       "      <td>0.0</td>\n",
       "      <td>0.0</td>\n",
       "      <td>0.0</td>\n",
       "      <td>6.0</td>\n",
       "      <td>0.0</td>\n",
       "      <td>0.0</td>\n",
       "      <td>0.0</td>\n",
       "      <td>0.0</td>\n",
       "      <td>0.0</td>\n",
       "      <td>0.0</td>\n",
       "      <td>0.0</td>\n",
       "      <td>0.0</td>\n",
       "      <td>1.0</td>\n",
       "      <td>0.0</td>\n",
       "    </tr>\n",
       "    <tr>\n",
       "      <th>NUM</th>\n",
       "      <td>0.0</td>\n",
       "      <td>0.0</td>\n",
       "      <td>0.0</td>\n",
       "      <td>0.0</td>\n",
       "      <td>0.0</td>\n",
       "      <td>0.0</td>\n",
       "      <td>0.0</td>\n",
       "      <td>1.0</td>\n",
       "      <td>0.0</td>\n",
       "      <td>0.0</td>\n",
       "      <td>0.0</td>\n",
       "      <td>0.0</td>\n",
       "      <td>0.0</td>\n",
       "      <td>0.0</td>\n",
       "      <td>0.0</td>\n",
       "      <td>0.0</td>\n",
       "      <td>0.0</td>\n",
       "    </tr>\n",
       "  </tbody>\n",
       "</table>\n",
       "</div>"
      ],
      "text/plain": [
       "           PROPN      X  PUNCT  SYM   AUX   DET    ADJ    NOUN  CCONJ   ADP   \n",
       "NOT FIND  1531.0  845.0   27.0  5.0  23.0  14.0  566.0  2107.0    5.0  41.0  \\\n",
       "ADJ          1.0    3.0    0.0  0.0   0.0   0.0    0.0    21.0    0.0   0.0   \n",
       "X            1.0    0.0    0.0  0.0   0.0   0.0    0.0     0.0    0.0   0.0   \n",
       "NOUN         2.0   10.0    0.0  0.0   0.0   0.0   24.0     0.0    0.0   0.0   \n",
       "VERB         0.0    6.0    0.0  0.0   0.0   0.0    8.0    54.0    0.0   0.0   \n",
       "PROPN        0.0   16.0    0.0  0.0   0.0   0.0    6.0     9.0    0.0   0.0   \n",
       "ADP          0.0    2.0    0.0  0.0   0.0   0.0    0.0     1.0    0.0   0.0   \n",
       "AUX          0.0    1.0    0.0  0.0   0.0   0.0    0.0     0.0    0.0   0.0   \n",
       "INTJ         0.0    1.0    0.0  0.0   0.0   0.0    0.0     0.0    0.0   0.0   \n",
       "ADV          0.0    0.0    0.0  0.0   0.0   0.0    6.0     0.0    0.0   0.0   \n",
       "NUM          0.0    0.0    0.0  0.0   0.0   0.0    0.0     1.0    0.0   0.0   \n",
       "\n",
       "          PART    ADV    NUM   VERB  PRON  SCONJ  INTJ  \n",
       "NOT FIND   7.0  124.0  252.0  577.0  36.0   11.0   8.0  \n",
       "ADJ        0.0    3.0    0.0    9.0   0.0    0.0   1.0  \n",
       "X          0.0    0.0    0.0    0.0   0.0    0.0   0.0  \n",
       "NOUN       0.0    0.0    1.0   41.0   0.0    0.0   0.0  \n",
       "VERB       0.0    0.0    0.0    0.0   0.0    0.0   0.0  \n",
       "PROPN      0.0    0.0    0.0    0.0   0.0    0.0   0.0  \n",
       "ADP        0.0    1.0    0.0    0.0   0.0    1.0   0.0  \n",
       "AUX        0.0    0.0    0.0    0.0   0.0    0.0   0.0  \n",
       "INTJ       0.0    0.0    0.0    0.0   0.0    0.0   0.0  \n",
       "ADV        0.0    0.0    0.0    0.0   0.0    1.0   0.0  \n",
       "NUM        0.0    0.0    0.0    0.0   0.0    0.0   0.0  "
      ]
     },
     "execution_count": 157,
     "metadata": {},
     "output_type": "execute_result"
    }
   ],
   "source": [
    "df_stanza_to_spacy = pd.DataFrame(d_stanza_to_spacy_pos).fillna(0)\n",
    "df_stanza_to_spacy"
   ]
  },
  {
   "cell_type": "markdown",
   "metadata": {},
   "source": [
    "Finally, we add some columns representing the errors by frequence."
   ]
  },
  {
   "cell_type": "code",
   "execution_count": 162,
   "metadata": {},
   "outputs": [
    {
     "data": {
      "text/html": [
       "<div>\n",
       "<style scoped>\n",
       "    .dataframe tbody tr th:only-of-type {\n",
       "        vertical-align: middle;\n",
       "    }\n",
       "\n",
       "    .dataframe tbody tr th {\n",
       "        vertical-align: top;\n",
       "    }\n",
       "\n",
       "    .dataframe thead th {\n",
       "        text-align: right;\n",
       "    }\n",
       "</style>\n",
       "<table border=\"1\" class=\"dataframe\">\n",
       "  <thead>\n",
       "    <tr style=\"text-align: right;\">\n",
       "      <th></th>\n",
       "      <th>PROPN</th>\n",
       "      <th>NOUN</th>\n",
       "      <th>ADJ</th>\n",
       "      <th>VERB</th>\n",
       "      <th>NUM</th>\n",
       "      <th>X</th>\n",
       "      <th>ADV</th>\n",
       "      <th>SCONJ</th>\n",
       "      <th>PUNCT</th>\n",
       "      <th>SPACE</th>\n",
       "      <th>...</th>\n",
       "      <th>SCONJ%%%</th>\n",
       "      <th>PUNCT%%%</th>\n",
       "      <th>SPACE%%%</th>\n",
       "      <th>ADP%%%</th>\n",
       "      <th>AUX%%%</th>\n",
       "      <th>PRON%%%</th>\n",
       "      <th>INTJ%%%</th>\n",
       "      <th>CCONJ%%%</th>\n",
       "      <th>SYM%%%</th>\n",
       "      <th>DET%%%</th>\n",
       "    </tr>\n",
       "  </thead>\n",
       "  <tbody>\n",
       "    <tr>\n",
       "      <th>NOT FIND</th>\n",
       "      <td>5272.0</td>\n",
       "      <td>1644.0</td>\n",
       "      <td>454.0</td>\n",
       "      <td>648.0</td>\n",
       "      <td>308.0</td>\n",
       "      <td>35.0</td>\n",
       "      <td>97.0</td>\n",
       "      <td>2.0</td>\n",
       "      <td>5.0</td>\n",
       "      <td>4.0</td>\n",
       "      <td>...</td>\n",
       "      <td>1.0</td>\n",
       "      <td>1.0</td>\n",
       "      <td>1.0</td>\n",
       "      <td>0.821429</td>\n",
       "      <td>0.8</td>\n",
       "      <td>1.0</td>\n",
       "      <td>0.916667</td>\n",
       "      <td>1.0</td>\n",
       "      <td>1.0</td>\n",
       "      <td>1.0</td>\n",
       "    </tr>\n",
       "    <tr>\n",
       "      <th>X</th>\n",
       "      <td>16.0</td>\n",
       "      <td>10.0</td>\n",
       "      <td>3.0</td>\n",
       "      <td>6.0</td>\n",
       "      <td>0.0</td>\n",
       "      <td>0.0</td>\n",
       "      <td>0.0</td>\n",
       "      <td>0.0</td>\n",
       "      <td>0.0</td>\n",
       "      <td>0.0</td>\n",
       "      <td>...</td>\n",
       "      <td>0.0</td>\n",
       "      <td>0.0</td>\n",
       "      <td>0.0</td>\n",
       "      <td>0.071429</td>\n",
       "      <td>0.2</td>\n",
       "      <td>0.0</td>\n",
       "      <td>0.083333</td>\n",
       "      <td>0.0</td>\n",
       "      <td>0.0</td>\n",
       "      <td>0.0</td>\n",
       "    </tr>\n",
       "    <tr>\n",
       "      <th>ADJ</th>\n",
       "      <td>6.0</td>\n",
       "      <td>24.0</td>\n",
       "      <td>0.0</td>\n",
       "      <td>8.0</td>\n",
       "      <td>0.0</td>\n",
       "      <td>0.0</td>\n",
       "      <td>6.0</td>\n",
       "      <td>0.0</td>\n",
       "      <td>0.0</td>\n",
       "      <td>0.0</td>\n",
       "      <td>...</td>\n",
       "      <td>0.0</td>\n",
       "      <td>0.0</td>\n",
       "      <td>0.0</td>\n",
       "      <td>0.000000</td>\n",
       "      <td>0.0</td>\n",
       "      <td>0.0</td>\n",
       "      <td>0.000000</td>\n",
       "      <td>0.0</td>\n",
       "      <td>0.0</td>\n",
       "      <td>0.0</td>\n",
       "    </tr>\n",
       "    <tr>\n",
       "      <th>NOUN</th>\n",
       "      <td>9.0</td>\n",
       "      <td>0.0</td>\n",
       "      <td>21.0</td>\n",
       "      <td>54.0</td>\n",
       "      <td>1.0</td>\n",
       "      <td>0.0</td>\n",
       "      <td>0.0</td>\n",
       "      <td>0.0</td>\n",
       "      <td>0.0</td>\n",
       "      <td>0.0</td>\n",
       "      <td>...</td>\n",
       "      <td>0.0</td>\n",
       "      <td>0.0</td>\n",
       "      <td>0.0</td>\n",
       "      <td>0.035714</td>\n",
       "      <td>0.0</td>\n",
       "      <td>0.0</td>\n",
       "      <td>0.000000</td>\n",
       "      <td>0.0</td>\n",
       "      <td>0.0</td>\n",
       "      <td>0.0</td>\n",
       "    </tr>\n",
       "    <tr>\n",
       "      <th>VERB</th>\n",
       "      <td>0.0</td>\n",
       "      <td>41.0</td>\n",
       "      <td>9.0</td>\n",
       "      <td>0.0</td>\n",
       "      <td>0.0</td>\n",
       "      <td>0.0</td>\n",
       "      <td>0.0</td>\n",
       "      <td>0.0</td>\n",
       "      <td>0.0</td>\n",
       "      <td>0.0</td>\n",
       "      <td>...</td>\n",
       "      <td>0.0</td>\n",
       "      <td>0.0</td>\n",
       "      <td>0.0</td>\n",
       "      <td>0.000000</td>\n",
       "      <td>0.0</td>\n",
       "      <td>0.0</td>\n",
       "      <td>0.000000</td>\n",
       "      <td>0.0</td>\n",
       "      <td>0.0</td>\n",
       "      <td>0.0</td>\n",
       "    </tr>\n",
       "    <tr>\n",
       "      <th>PROPN</th>\n",
       "      <td>0.0</td>\n",
       "      <td>2.0</td>\n",
       "      <td>1.0</td>\n",
       "      <td>0.0</td>\n",
       "      <td>0.0</td>\n",
       "      <td>1.0</td>\n",
       "      <td>0.0</td>\n",
       "      <td>0.0</td>\n",
       "      <td>0.0</td>\n",
       "      <td>0.0</td>\n",
       "      <td>...</td>\n",
       "      <td>0.0</td>\n",
       "      <td>0.0</td>\n",
       "      <td>0.0</td>\n",
       "      <td>0.000000</td>\n",
       "      <td>0.0</td>\n",
       "      <td>0.0</td>\n",
       "      <td>0.000000</td>\n",
       "      <td>0.0</td>\n",
       "      <td>0.0</td>\n",
       "      <td>0.0</td>\n",
       "    </tr>\n",
       "    <tr>\n",
       "      <th>NUM</th>\n",
       "      <td>0.0</td>\n",
       "      <td>1.0</td>\n",
       "      <td>0.0</td>\n",
       "      <td>0.0</td>\n",
       "      <td>0.0</td>\n",
       "      <td>0.0</td>\n",
       "      <td>0.0</td>\n",
       "      <td>0.0</td>\n",
       "      <td>0.0</td>\n",
       "      <td>0.0</td>\n",
       "      <td>...</td>\n",
       "      <td>0.0</td>\n",
       "      <td>0.0</td>\n",
       "      <td>0.0</td>\n",
       "      <td>0.000000</td>\n",
       "      <td>0.0</td>\n",
       "      <td>0.0</td>\n",
       "      <td>0.000000</td>\n",
       "      <td>0.0</td>\n",
       "      <td>0.0</td>\n",
       "      <td>0.0</td>\n",
       "    </tr>\n",
       "    <tr>\n",
       "      <th>ADV</th>\n",
       "      <td>0.0</td>\n",
       "      <td>0.0</td>\n",
       "      <td>3.0</td>\n",
       "      <td>0.0</td>\n",
       "      <td>0.0</td>\n",
       "      <td>0.0</td>\n",
       "      <td>0.0</td>\n",
       "      <td>0.0</td>\n",
       "      <td>0.0</td>\n",
       "      <td>0.0</td>\n",
       "      <td>...</td>\n",
       "      <td>0.0</td>\n",
       "      <td>0.0</td>\n",
       "      <td>0.0</td>\n",
       "      <td>0.035714</td>\n",
       "      <td>0.0</td>\n",
       "      <td>0.0</td>\n",
       "      <td>0.000000</td>\n",
       "      <td>0.0</td>\n",
       "      <td>0.0</td>\n",
       "      <td>0.0</td>\n",
       "    </tr>\n",
       "    <tr>\n",
       "      <th>INTJ</th>\n",
       "      <td>0.0</td>\n",
       "      <td>0.0</td>\n",
       "      <td>1.0</td>\n",
       "      <td>0.0</td>\n",
       "      <td>0.0</td>\n",
       "      <td>0.0</td>\n",
       "      <td>0.0</td>\n",
       "      <td>0.0</td>\n",
       "      <td>0.0</td>\n",
       "      <td>0.0</td>\n",
       "      <td>...</td>\n",
       "      <td>0.0</td>\n",
       "      <td>0.0</td>\n",
       "      <td>0.0</td>\n",
       "      <td>0.000000</td>\n",
       "      <td>0.0</td>\n",
       "      <td>0.0</td>\n",
       "      <td>0.000000</td>\n",
       "      <td>0.0</td>\n",
       "      <td>0.0</td>\n",
       "      <td>0.0</td>\n",
       "    </tr>\n",
       "    <tr>\n",
       "      <th>SCONJ</th>\n",
       "      <td>0.0</td>\n",
       "      <td>0.0</td>\n",
       "      <td>0.0</td>\n",
       "      <td>0.0</td>\n",
       "      <td>0.0</td>\n",
       "      <td>0.0</td>\n",
       "      <td>1.0</td>\n",
       "      <td>0.0</td>\n",
       "      <td>0.0</td>\n",
       "      <td>0.0</td>\n",
       "      <td>...</td>\n",
       "      <td>0.0</td>\n",
       "      <td>0.0</td>\n",
       "      <td>0.0</td>\n",
       "      <td>0.035714</td>\n",
       "      <td>0.0</td>\n",
       "      <td>0.0</td>\n",
       "      <td>0.000000</td>\n",
       "      <td>0.0</td>\n",
       "      <td>0.0</td>\n",
       "      <td>0.0</td>\n",
       "    </tr>\n",
       "  </tbody>\n",
       "</table>\n",
       "<p>10 rows × 68 columns</p>\n",
       "</div>"
      ],
      "text/plain": [
       "           PROPN    NOUN    ADJ   VERB    NUM     X   ADV  SCONJ  PUNCT   \n",
       "NOT FIND  5272.0  1644.0  454.0  648.0  308.0  35.0  97.0    2.0    5.0  \\\n",
       "X           16.0    10.0    3.0    6.0    0.0   0.0   0.0    0.0    0.0   \n",
       "ADJ          6.0    24.0    0.0    8.0    0.0   0.0   6.0    0.0    0.0   \n",
       "NOUN         9.0     0.0   21.0   54.0    1.0   0.0   0.0    0.0    0.0   \n",
       "VERB         0.0    41.0    9.0    0.0    0.0   0.0   0.0    0.0    0.0   \n",
       "PROPN        0.0     2.0    1.0    0.0    0.0   1.0   0.0    0.0    0.0   \n",
       "NUM          0.0     1.0    0.0    0.0    0.0   0.0   0.0    0.0    0.0   \n",
       "ADV          0.0     0.0    3.0    0.0    0.0   0.0   0.0    0.0    0.0   \n",
       "INTJ         0.0     0.0    1.0    0.0    0.0   0.0   0.0    0.0    0.0   \n",
       "SCONJ        0.0     0.0    0.0    0.0    0.0   0.0   1.0    0.0    0.0   \n",
       "\n",
       "          SPACE  ...  SCONJ%%%  PUNCT%%%  SPACE%%%    ADP%%%  AUX%%%  PRON%%%   \n",
       "NOT FIND    4.0  ...       1.0       1.0       1.0  0.821429     0.8      1.0  \\\n",
       "X           0.0  ...       0.0       0.0       0.0  0.071429     0.2      0.0   \n",
       "ADJ         0.0  ...       0.0       0.0       0.0  0.000000     0.0      0.0   \n",
       "NOUN        0.0  ...       0.0       0.0       0.0  0.035714     0.0      0.0   \n",
       "VERB        0.0  ...       0.0       0.0       0.0  0.000000     0.0      0.0   \n",
       "PROPN       0.0  ...       0.0       0.0       0.0  0.000000     0.0      0.0   \n",
       "NUM         0.0  ...       0.0       0.0       0.0  0.000000     0.0      0.0   \n",
       "ADV         0.0  ...       0.0       0.0       0.0  0.035714     0.0      0.0   \n",
       "INTJ        0.0  ...       0.0       0.0       0.0  0.000000     0.0      0.0   \n",
       "SCONJ       0.0  ...       0.0       0.0       0.0  0.035714     0.0      0.0   \n",
       "\n",
       "           INTJ%%%  CCONJ%%%  SYM%%%  DET%%%  \n",
       "NOT FIND  0.916667       1.0     1.0     1.0  \n",
       "X         0.083333       0.0     0.0     0.0  \n",
       "ADJ       0.000000       0.0     0.0     0.0  \n",
       "NOUN      0.000000       0.0     0.0     0.0  \n",
       "VERB      0.000000       0.0     0.0     0.0  \n",
       "PROPN     0.000000       0.0     0.0     0.0  \n",
       "NUM       0.000000       0.0     0.0     0.0  \n",
       "ADV       0.000000       0.0     0.0     0.0  \n",
       "INTJ      0.000000       0.0     0.0     0.0  \n",
       "SCONJ     0.000000       0.0     0.0     0.0  \n",
       "\n",
       "[10 rows x 68 columns]"
      ]
     },
     "execution_count": 162,
     "metadata": {},
     "output_type": "execute_result"
    }
   ],
   "source": [
    "for i in df_spacy_to_stanza.columns:\n",
    "    df_spacy_to_stanza[i+'%'] = df_spacy_to_stanza[i]/df_spacy_to_stanza[i].sum()\n",
    "df_spacy_to_stanza"
   ]
  },
  {
   "cell_type": "code",
   "execution_count": 163,
   "metadata": {},
   "outputs": [
    {
     "data": {
      "text/html": [
       "<div>\n",
       "<style scoped>\n",
       "    .dataframe tbody tr th:only-of-type {\n",
       "        vertical-align: middle;\n",
       "    }\n",
       "\n",
       "    .dataframe tbody tr th {\n",
       "        vertical-align: top;\n",
       "    }\n",
       "\n",
       "    .dataframe thead th {\n",
       "        text-align: right;\n",
       "    }\n",
       "</style>\n",
       "<table border=\"1\" class=\"dataframe\">\n",
       "  <thead>\n",
       "    <tr style=\"text-align: right;\">\n",
       "      <th></th>\n",
       "      <th>PROPN</th>\n",
       "      <th>X</th>\n",
       "      <th>PUNCT</th>\n",
       "      <th>SYM</th>\n",
       "      <th>AUX</th>\n",
       "      <th>DET</th>\n",
       "      <th>ADJ</th>\n",
       "      <th>NOUN</th>\n",
       "      <th>CCONJ</th>\n",
       "      <th>ADP</th>\n",
       "      <th>...</th>\n",
       "      <th>NOUN%</th>\n",
       "      <th>CCONJ%</th>\n",
       "      <th>ADP%</th>\n",
       "      <th>PART%</th>\n",
       "      <th>ADV%</th>\n",
       "      <th>NUM%</th>\n",
       "      <th>VERB%</th>\n",
       "      <th>PRON%</th>\n",
       "      <th>SCONJ%</th>\n",
       "      <th>INTJ%</th>\n",
       "    </tr>\n",
       "  </thead>\n",
       "  <tbody>\n",
       "    <tr>\n",
       "      <th>NOT FIND</th>\n",
       "      <td>1531.0</td>\n",
       "      <td>845.0</td>\n",
       "      <td>27.0</td>\n",
       "      <td>5.0</td>\n",
       "      <td>23.0</td>\n",
       "      <td>14.0</td>\n",
       "      <td>566.0</td>\n",
       "      <td>2107.0</td>\n",
       "      <td>5.0</td>\n",
       "      <td>41.0</td>\n",
       "      <td>...</td>\n",
       "      <td>0.960784</td>\n",
       "      <td>1.0</td>\n",
       "      <td>1.0</td>\n",
       "      <td>1.0</td>\n",
       "      <td>0.968750</td>\n",
       "      <td>0.996047</td>\n",
       "      <td>0.920255</td>\n",
       "      <td>1.0</td>\n",
       "      <td>0.846154</td>\n",
       "      <td>0.888889</td>\n",
       "    </tr>\n",
       "    <tr>\n",
       "      <th>ADJ</th>\n",
       "      <td>1.0</td>\n",
       "      <td>3.0</td>\n",
       "      <td>0.0</td>\n",
       "      <td>0.0</td>\n",
       "      <td>0.0</td>\n",
       "      <td>0.0</td>\n",
       "      <td>0.0</td>\n",
       "      <td>21.0</td>\n",
       "      <td>0.0</td>\n",
       "      <td>0.0</td>\n",
       "      <td>...</td>\n",
       "      <td>0.009576</td>\n",
       "      <td>0.0</td>\n",
       "      <td>0.0</td>\n",
       "      <td>0.0</td>\n",
       "      <td>0.023438</td>\n",
       "      <td>0.000000</td>\n",
       "      <td>0.014354</td>\n",
       "      <td>0.0</td>\n",
       "      <td>0.000000</td>\n",
       "      <td>0.111111</td>\n",
       "    </tr>\n",
       "    <tr>\n",
       "      <th>X</th>\n",
       "      <td>1.0</td>\n",
       "      <td>0.0</td>\n",
       "      <td>0.0</td>\n",
       "      <td>0.0</td>\n",
       "      <td>0.0</td>\n",
       "      <td>0.0</td>\n",
       "      <td>0.0</td>\n",
       "      <td>0.0</td>\n",
       "      <td>0.0</td>\n",
       "      <td>0.0</td>\n",
       "      <td>...</td>\n",
       "      <td>0.000000</td>\n",
       "      <td>0.0</td>\n",
       "      <td>0.0</td>\n",
       "      <td>0.0</td>\n",
       "      <td>0.000000</td>\n",
       "      <td>0.000000</td>\n",
       "      <td>0.000000</td>\n",
       "      <td>0.0</td>\n",
       "      <td>0.000000</td>\n",
       "      <td>0.000000</td>\n",
       "    </tr>\n",
       "    <tr>\n",
       "      <th>NOUN</th>\n",
       "      <td>2.0</td>\n",
       "      <td>10.0</td>\n",
       "      <td>0.0</td>\n",
       "      <td>0.0</td>\n",
       "      <td>0.0</td>\n",
       "      <td>0.0</td>\n",
       "      <td>24.0</td>\n",
       "      <td>0.0</td>\n",
       "      <td>0.0</td>\n",
       "      <td>0.0</td>\n",
       "      <td>...</td>\n",
       "      <td>0.000000</td>\n",
       "      <td>0.0</td>\n",
       "      <td>0.0</td>\n",
       "      <td>0.0</td>\n",
       "      <td>0.000000</td>\n",
       "      <td>0.003953</td>\n",
       "      <td>0.065391</td>\n",
       "      <td>0.0</td>\n",
       "      <td>0.000000</td>\n",
       "      <td>0.000000</td>\n",
       "    </tr>\n",
       "    <tr>\n",
       "      <th>VERB</th>\n",
       "      <td>0.0</td>\n",
       "      <td>6.0</td>\n",
       "      <td>0.0</td>\n",
       "      <td>0.0</td>\n",
       "      <td>0.0</td>\n",
       "      <td>0.0</td>\n",
       "      <td>8.0</td>\n",
       "      <td>54.0</td>\n",
       "      <td>0.0</td>\n",
       "      <td>0.0</td>\n",
       "      <td>...</td>\n",
       "      <td>0.024624</td>\n",
       "      <td>0.0</td>\n",
       "      <td>0.0</td>\n",
       "      <td>0.0</td>\n",
       "      <td>0.000000</td>\n",
       "      <td>0.000000</td>\n",
       "      <td>0.000000</td>\n",
       "      <td>0.0</td>\n",
       "      <td>0.000000</td>\n",
       "      <td>0.000000</td>\n",
       "    </tr>\n",
       "    <tr>\n",
       "      <th>PROPN</th>\n",
       "      <td>0.0</td>\n",
       "      <td>16.0</td>\n",
       "      <td>0.0</td>\n",
       "      <td>0.0</td>\n",
       "      <td>0.0</td>\n",
       "      <td>0.0</td>\n",
       "      <td>6.0</td>\n",
       "      <td>9.0</td>\n",
       "      <td>0.0</td>\n",
       "      <td>0.0</td>\n",
       "      <td>...</td>\n",
       "      <td>0.004104</td>\n",
       "      <td>0.0</td>\n",
       "      <td>0.0</td>\n",
       "      <td>0.0</td>\n",
       "      <td>0.000000</td>\n",
       "      <td>0.000000</td>\n",
       "      <td>0.000000</td>\n",
       "      <td>0.0</td>\n",
       "      <td>0.000000</td>\n",
       "      <td>0.000000</td>\n",
       "    </tr>\n",
       "    <tr>\n",
       "      <th>ADP</th>\n",
       "      <td>0.0</td>\n",
       "      <td>2.0</td>\n",
       "      <td>0.0</td>\n",
       "      <td>0.0</td>\n",
       "      <td>0.0</td>\n",
       "      <td>0.0</td>\n",
       "      <td>0.0</td>\n",
       "      <td>1.0</td>\n",
       "      <td>0.0</td>\n",
       "      <td>0.0</td>\n",
       "      <td>...</td>\n",
       "      <td>0.000456</td>\n",
       "      <td>0.0</td>\n",
       "      <td>0.0</td>\n",
       "      <td>0.0</td>\n",
       "      <td>0.007812</td>\n",
       "      <td>0.000000</td>\n",
       "      <td>0.000000</td>\n",
       "      <td>0.0</td>\n",
       "      <td>0.076923</td>\n",
       "      <td>0.000000</td>\n",
       "    </tr>\n",
       "    <tr>\n",
       "      <th>AUX</th>\n",
       "      <td>0.0</td>\n",
       "      <td>1.0</td>\n",
       "      <td>0.0</td>\n",
       "      <td>0.0</td>\n",
       "      <td>0.0</td>\n",
       "      <td>0.0</td>\n",
       "      <td>0.0</td>\n",
       "      <td>0.0</td>\n",
       "      <td>0.0</td>\n",
       "      <td>0.0</td>\n",
       "      <td>...</td>\n",
       "      <td>0.000000</td>\n",
       "      <td>0.0</td>\n",
       "      <td>0.0</td>\n",
       "      <td>0.0</td>\n",
       "      <td>0.000000</td>\n",
       "      <td>0.000000</td>\n",
       "      <td>0.000000</td>\n",
       "      <td>0.0</td>\n",
       "      <td>0.000000</td>\n",
       "      <td>0.000000</td>\n",
       "    </tr>\n",
       "    <tr>\n",
       "      <th>INTJ</th>\n",
       "      <td>0.0</td>\n",
       "      <td>1.0</td>\n",
       "      <td>0.0</td>\n",
       "      <td>0.0</td>\n",
       "      <td>0.0</td>\n",
       "      <td>0.0</td>\n",
       "      <td>0.0</td>\n",
       "      <td>0.0</td>\n",
       "      <td>0.0</td>\n",
       "      <td>0.0</td>\n",
       "      <td>...</td>\n",
       "      <td>0.000000</td>\n",
       "      <td>0.0</td>\n",
       "      <td>0.0</td>\n",
       "      <td>0.0</td>\n",
       "      <td>0.000000</td>\n",
       "      <td>0.000000</td>\n",
       "      <td>0.000000</td>\n",
       "      <td>0.0</td>\n",
       "      <td>0.000000</td>\n",
       "      <td>0.000000</td>\n",
       "    </tr>\n",
       "    <tr>\n",
       "      <th>ADV</th>\n",
       "      <td>0.0</td>\n",
       "      <td>0.0</td>\n",
       "      <td>0.0</td>\n",
       "      <td>0.0</td>\n",
       "      <td>0.0</td>\n",
       "      <td>0.0</td>\n",
       "      <td>6.0</td>\n",
       "      <td>0.0</td>\n",
       "      <td>0.0</td>\n",
       "      <td>0.0</td>\n",
       "      <td>...</td>\n",
       "      <td>0.000000</td>\n",
       "      <td>0.0</td>\n",
       "      <td>0.0</td>\n",
       "      <td>0.0</td>\n",
       "      <td>0.000000</td>\n",
       "      <td>0.000000</td>\n",
       "      <td>0.000000</td>\n",
       "      <td>0.0</td>\n",
       "      <td>0.076923</td>\n",
       "      <td>0.000000</td>\n",
       "    </tr>\n",
       "    <tr>\n",
       "      <th>NUM</th>\n",
       "      <td>0.0</td>\n",
       "      <td>0.0</td>\n",
       "      <td>0.0</td>\n",
       "      <td>0.0</td>\n",
       "      <td>0.0</td>\n",
       "      <td>0.0</td>\n",
       "      <td>0.0</td>\n",
       "      <td>1.0</td>\n",
       "      <td>0.0</td>\n",
       "      <td>0.0</td>\n",
       "      <td>...</td>\n",
       "      <td>0.000456</td>\n",
       "      <td>0.0</td>\n",
       "      <td>0.0</td>\n",
       "      <td>0.0</td>\n",
       "      <td>0.000000</td>\n",
       "      <td>0.000000</td>\n",
       "      <td>0.000000</td>\n",
       "      <td>0.0</td>\n",
       "      <td>0.000000</td>\n",
       "      <td>0.000000</td>\n",
       "    </tr>\n",
       "  </tbody>\n",
       "</table>\n",
       "<p>11 rows × 34 columns</p>\n",
       "</div>"
      ],
      "text/plain": [
       "           PROPN      X  PUNCT  SYM   AUX   DET    ADJ    NOUN  CCONJ   ADP   \n",
       "NOT FIND  1531.0  845.0   27.0  5.0  23.0  14.0  566.0  2107.0    5.0  41.0  \\\n",
       "ADJ          1.0    3.0    0.0  0.0   0.0   0.0    0.0    21.0    0.0   0.0   \n",
       "X            1.0    0.0    0.0  0.0   0.0   0.0    0.0     0.0    0.0   0.0   \n",
       "NOUN         2.0   10.0    0.0  0.0   0.0   0.0   24.0     0.0    0.0   0.0   \n",
       "VERB         0.0    6.0    0.0  0.0   0.0   0.0    8.0    54.0    0.0   0.0   \n",
       "PROPN        0.0   16.0    0.0  0.0   0.0   0.0    6.0     9.0    0.0   0.0   \n",
       "ADP          0.0    2.0    0.0  0.0   0.0   0.0    0.0     1.0    0.0   0.0   \n",
       "AUX          0.0    1.0    0.0  0.0   0.0   0.0    0.0     0.0    0.0   0.0   \n",
       "INTJ         0.0    1.0    0.0  0.0   0.0   0.0    0.0     0.0    0.0   0.0   \n",
       "ADV          0.0    0.0    0.0  0.0   0.0   0.0    6.0     0.0    0.0   0.0   \n",
       "NUM          0.0    0.0    0.0  0.0   0.0   0.0    0.0     1.0    0.0   0.0   \n",
       "\n",
       "          ...     NOUN%  CCONJ%  ADP%  PART%      ADV%      NUM%     VERB%   \n",
       "NOT FIND  ...  0.960784     1.0   1.0    1.0  0.968750  0.996047  0.920255  \\\n",
       "ADJ       ...  0.009576     0.0   0.0    0.0  0.023438  0.000000  0.014354   \n",
       "X         ...  0.000000     0.0   0.0    0.0  0.000000  0.000000  0.000000   \n",
       "NOUN      ...  0.000000     0.0   0.0    0.0  0.000000  0.003953  0.065391   \n",
       "VERB      ...  0.024624     0.0   0.0    0.0  0.000000  0.000000  0.000000   \n",
       "PROPN     ...  0.004104     0.0   0.0    0.0  0.000000  0.000000  0.000000   \n",
       "ADP       ...  0.000456     0.0   0.0    0.0  0.007812  0.000000  0.000000   \n",
       "AUX       ...  0.000000     0.0   0.0    0.0  0.000000  0.000000  0.000000   \n",
       "INTJ      ...  0.000000     0.0   0.0    0.0  0.000000  0.000000  0.000000   \n",
       "ADV       ...  0.000000     0.0   0.0    0.0  0.000000  0.000000  0.000000   \n",
       "NUM       ...  0.000456     0.0   0.0    0.0  0.000000  0.000000  0.000000   \n",
       "\n",
       "          PRON%    SCONJ%     INTJ%  \n",
       "NOT FIND    1.0  0.846154  0.888889  \n",
       "ADJ         0.0  0.000000  0.111111  \n",
       "X           0.0  0.000000  0.000000  \n",
       "NOUN        0.0  0.000000  0.000000  \n",
       "VERB        0.0  0.000000  0.000000  \n",
       "PROPN       0.0  0.000000  0.000000  \n",
       "ADP         0.0  0.076923  0.000000  \n",
       "AUX         0.0  0.000000  0.000000  \n",
       "INTJ        0.0  0.000000  0.000000  \n",
       "ADV         0.0  0.076923  0.000000  \n",
       "NUM         0.0  0.000000  0.000000  \n",
       "\n",
       "[11 rows x 34 columns]"
      ]
     },
     "execution_count": 163,
     "metadata": {},
     "output_type": "execute_result"
    }
   ],
   "source": [
    "for i in df_stanza_to_spacy.columns:\n",
    "    df_stanza_to_spacy[i+'%'] = df_stanza_to_spacy[i]/df_stanza_to_spacy[i].sum()\n",
    "df_stanza_to_spacy"
   ]
  },
  {
   "cell_type": "markdown",
   "metadata": {},
   "source": [
    "### Visualization\n",
    "\n",
    "We will now visualize the results as pie charts. We have excluded the **\"NOT FIND\"** label to make more easy. NB : we can not show the results for every possible UPOS.\n",
    "\n",
    "#### Nouns\n",
    "\n",
    "First let start from **Spacy** to **Stanza** with the NOUN POS."
   ]
  },
  {
   "cell_type": "code",
   "execution_count": 169,
   "metadata": {},
   "outputs": [
    {
     "data": {
      "image/png": "[encoded data removed]",
      "text/plain": [
       "<Figure size 640x480 with 1 Axes>"
      ]
     },
     "metadata": {},
     "output_type": "display_data"
    }
   ],
   "source": [
    "import matplotlib.pyplot as plt\n",
    "fig, ax = plt.subplots()\n",
    "ax.pie(df_spacy_to_stanza.drop('NOT FIND').NOUN, labels=df_spacy_to_stanza.drop('NOT FIND').index, autopct='%1.1f%%', pctdistance=1.25, labeldistance=.6)\n",
    "plt.show()"
   ]
  },
  {
   "cell_type": "markdown",
   "metadata": {},
   "source": [
    "As we can see, the biggest POS given by **Stanza** to the tokens analyzed as NOUN by **Spacy**."
   ]
  },
  {
   "cell_type": "code",
   "execution_count": 176,
   "metadata": {},
   "outputs": [
    {
     "data": {
      "image/png": "[encoded data removed]",
      "text/plain": [
       "<Figure size 640x480 with 1 Axes>"
      ]
     },
     "metadata": {},
     "output_type": "display_data"
    }
   ],
   "source": [
    "explode = [0.1 if (i == 'VERB') else 0 for i in df_spacy_to_stanza.drop('NOT FIND').index]\n",
    "\n",
    "fig, ax = plt.subplots()\n",
    "ax.pie(df_spacy_to_stanza.drop('NOT FIND').NOUN, explode = explode, labels=df_spacy_to_stanza.drop('NOT FIND').index, autopct='%1.1f%%', shadow=True, pctdistance=1.25, labeldistance=.6)\n",
    "plt.show()"
   ]
  },
  {
   "cell_type": "markdown",
   "metadata": {},
   "source": [
    "We can also discover the existence of an X category **TODO : Find the fuck it is**"
   ]
  },
  {
   "cell_type": "code",
   "execution_count": 177,
   "metadata": {},
   "outputs": [
    {
     "data": {
      "image/png": "[encoded data removed]",
      "text/plain": [
       "<Figure size 640x480 with 1 Axes>"
      ]
     },
     "metadata": {},
     "output_type": "display_data"
    }
   ],
   "source": [
    "explode = [0.1 if (i == 'X') else 0 for i in df_spacy_to_stanza.drop('NOT FIND').index]\n",
    "\n",
    "fig, ax = plt.subplots()\n",
    "ax.pie(df_spacy_to_stanza.drop('NOT FIND').NOUN, explode = explode, labels=df_spacy_to_stanza.drop('NOT FIND').index, autopct='%1.1f%%', shadow=True, pctdistance=1.25, labeldistance=.6)\n",
    "plt.show()"
   ]
  },
  {
   "cell_type": "markdown",
   "metadata": {},
   "source": [
    "Let's now see the same chart but from **Stanza** to **Spacy**."
   ]
  },
  {
   "cell_type": "code",
   "execution_count": 178,
   "metadata": {},
   "outputs": [
    {
     "data": {
      "image/png": "[encoded data removed]",
      "text/plain": [
       "<Figure size 640x480 with 1 Axes>"
      ]
     },
     "metadata": {},
     "output_type": "display_data"
    }
   ],
   "source": [
    "fig, ax = plt.subplots()\n",
    "ax.pie(df_stanza_to_spacy.drop('NOT FIND').NOUN, labels=df_stanza_to_spacy.drop('NOT FIND').index, autopct='%1.1f%%', pctdistance=1.25, labeldistance=.6)\n",
    "plt.show()"
   ]
  },
  {
   "cell_type": "markdown",
   "metadata": {},
   "source": [
    "We can see that the VERB POS is also the biggest category but in an even higher proportion thant for **Spacy** to **Stanza**."
   ]
  },
  {
   "cell_type": "code",
   "execution_count": 180,
   "metadata": {},
   "outputs": [
    {
     "data": {
      "image/png": "[encoded data removed]",
      "text/plain": [
       "<Figure size 640x480 with 1 Axes>"
      ]
     },
     "metadata": {},
     "output_type": "display_data"
    }
   ],
   "source": [
    "explode = [0.1 if (i == 'VERB') else 0 for i in df_stanza_to_spacy.drop('NOT FIND').index]\n",
    "\n",
    "fig, ax = plt.subplots()\n",
    "ax.pie(df_stanza_to_spacy.drop('NOT FIND').NOUN, explode = explode, labels=df_stanza_to_spacy.drop('NOT FIND').index, autopct='%1.1f%%', shadow=True, pctdistance=1.25, labeldistance=.6)\n",
    "plt.show()"
   ]
  },
  {
   "cell_type": "markdown",
   "metadata": {},
   "source": [
    "Interestingly the X category seems absent from the errors from **Stanza** to **Spacy**."
   ]
  },
  {
   "cell_type": "markdown",
   "metadata": {},
   "source": [
    "#### Verbs\n",
    "\n",
    "We can do the same thing for the VERB UPOS. First from **Spacy** to **Stanza**."
   ]
  },
  {
   "cell_type": "code",
   "execution_count": 182,
   "metadata": {},
   "outputs": [
    {
     "data": {
      "image/png": "[encoded data removed]",
      "text/plain": [
       "<Figure size 640x480 with 1 Axes>"
      ]
     },
     "metadata": {},
     "output_type": "display_data"
    }
   ],
   "source": [
    "fig, ax = plt.subplots()\n",
    "ax.pie(df_spacy_to_stanza.drop('NOT FIND').VERB, labels=df_spacy_to_stanza.drop('NOT FIND').index, autopct='%1.1f%%', pctdistance=1.25, labeldistance=.6)\n",
    "plt.show()"
   ]
  },
  {
   "cell_type": "markdown",
   "metadata": {},
   "source": [
    "The first category to come in that kind of errors is NOUN. This two categories seem linked."
   ]
  },
  {
   "cell_type": "code",
   "execution_count": 183,
   "metadata": {},
   "outputs": [
    {
     "data": {
      "image/png": "[encoded data removed]",
      "text/plain": [
       "<Figure size 640x480 with 1 Axes>"
      ]
     },
     "metadata": {},
     "output_type": "display_data"
    }
   ],
   "source": [
    "explode = [0.1 if (i == 'NOUN') else 0 for i in df_spacy_to_stanza.drop('NOT FIND').index]\n",
    "\n",
    "fig, ax = plt.subplots()\n",
    "ax.pie(df_spacy_to_stanza.drop('NOT FIND').VERB, explode = explode, labels=df_spacy_to_stanza.drop('NOT FIND').index, autopct='%1.1f%%', shadow=True, pctdistance=1.25, labeldistance=.6)\n",
    "plt.show()"
   ]
  },
  {
   "cell_type": "markdown",
   "metadata": {},
   "source": [
    "Now from **Stanza** to **Spacy**. We find the same thing."
   ]
  },
  {
   "cell_type": "code",
   "execution_count": 184,
   "metadata": {},
   "outputs": [
    {
     "data": {
      "image/png": "[encoded data removed]",
      "text/plain": [
       "<Figure size 640x480 with 1 Axes>"
      ]
     },
     "metadata": {},
     "output_type": "display_data"
    }
   ],
   "source": [
    "explode = [0.1 if (i == 'NOUN') else 0 for i in df_stanza_to_spacy.drop('NOT FIND').index]\n",
    "\n",
    "fig, ax = plt.subplots()\n",
    "ax.pie(df_stanza_to_spacy.drop('NOT FIND').VERB, explode = explode, labels=df_stanza_to_spacy.drop('NOT FIND').index, autopct='%1.1f%%', shadow=True, pctdistance=1.25, labeldistance=.6)\n",
    "plt.show()"
   ]
  },
  {
   "cell_type": "markdown",
   "metadata": {},
   "source": [
    "#### Adjectives\n",
    "\n",
    "Finally let's do the same thing but with the adjectives. First from **Spacy** to **Stanza**."
   ]
  },
  {
   "cell_type": "code",
   "execution_count": 185,
   "metadata": {},
   "outputs": [
    {
     "data": {
      "image/png": "[encoded data removed]",
      "text/plain": [
       "<Figure size 640x480 with 1 Axes>"
      ]
     },
     "metadata": {},
     "output_type": "display_data"
    }
   ],
   "source": [
    "fig, ax = plt.subplots()\n",
    "ax.pie(df_spacy_to_stanza.drop('NOT FIND').ADJ, labels=df_spacy_to_stanza.drop('NOT FIND').index, autopct='%1.1f%%', pctdistance=1.25, labeldistance=.6)\n",
    "plt.show()"
   ]
  },
  {
   "cell_type": "markdown",
   "metadata": {},
   "source": [
    "Then from **Stanza** to **Spacy**."
   ]
  },
  {
   "cell_type": "code",
   "execution_count": 186,
   "metadata": {},
   "outputs": [
    {
     "data": {
      "image/png": "[encoded data removed]",
      "text/plain": [
       "<Figure size 640x480 with 1 Axes>"
      ]
     },
     "metadata": {},
     "output_type": "display_data"
    }
   ],
   "source": [
    "fig, ax = plt.subplots()\n",
    "ax.pie(df_stanza_to_spacy.drop('NOT FIND').ADJ, labels=df_stanza_to_spacy.drop('NOT FIND').index, autopct='%1.1f%%', pctdistance=1.25, labeldistance=.6)\n",
    "plt.show()"
   ]
  },
  {
   "cell_type": "code",
   "execution_count": null,
   "metadata": {},
   "outputs": [],
   "source": []
  }
 ],
 "metadata": {
  "kernelspec": {
   "display_name": "Python 3",
   "language": "python",
   "name": "python3"
  },
  "language_info": {
   "codemirror_mode": {
    "name": "ipython",
    "version": 3
   },
   "file_extension": ".py",
   "mimetype": "text/x-python",
   "name": "python",
   "nbconvert_exporter": "python",
   "pygments_lexer": "ipython3",
   "version": "3.8.5"
  },
  "vscode": {
   "interpreter": {
    "hash": "5cfb0889301bd40a32af2921b094f94edad3784ee7c8bac1076d6edd892f10d1"
   }
  }
 },
 "nbformat": 4,
 "nbformat_minor": 4
}
