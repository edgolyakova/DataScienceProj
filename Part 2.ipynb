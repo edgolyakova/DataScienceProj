{
 "cells": [
  {
   "cell_type": "code",
   "execution_count": 7,
   "metadata": {},
   "outputs": [],
   "source": [
    "import pandas as pd\n",
    "import numpy as np\n",
    "import pickle"
   ]
  },
  {
   "cell_type": "code",
   "execution_count": 239,
   "metadata": {},
   "outputs": [],
   "source": [
    "import matplotlib.pyplot as plt\n",
    "import seaborn as sns"
   ]
  },
  {
   "cell_type": "code",
   "execution_count": 8,
   "metadata": {},
   "outputs": [],
   "source": [
    "#Uncomment the line below to install stanza\n",
    "#!pip install stanza"
   ]
  },
  {
   "cell_type": "code",
   "execution_count": 9,
   "metadata": {},
   "outputs": [],
   "source": [
    "from util import spacy_get_sents, stanza_get_sents, spacy_tokenize_text, stanza_tokenize_text, get_texts"
   ]
  },
  {
   "cell_type": "code",
   "execution_count": 10,
   "metadata": {},
   "outputs": [],
   "source": [
    "from util import get_tokens_dict, common_tokens"
   ]
  },
  {
   "cell_type": "markdown",
   "metadata": {},
   "source": [
    "# Data collection"
   ]
  },
  {
   "cell_type": "markdown",
   "metadata": {},
   "source": [
    "For our further inverstigations we will choose 100 texts from \"Writers\" category that we previously stored:"
   ]
  },
  {
   "cell_type": "code",
   "execution_count": 11,
   "metadata": {},
   "outputs": [],
   "source": [
    "texts = get_texts(source_type='folder', path='Writers', token_type='file', n=100)"
   ]
  },
  {
   "cell_type": "markdown",
   "metadata": {},
   "source": [
    "Below we can see the sample of 5 files from the dataset:"
   ]
  },
  {
   "cell_type": "code",
   "execution_count": 12,
   "metadata": {},
   "outputs": [
    {
     "data": {
      "text/plain": [
       "['Anne Von Bertouch, (29 June 1915 – 31 March 2003) was an Australian art dealer, author, environmentalist and director of the Von Bertouch Galleries in Newcastle, New South Wales, believed to be the first commercial gallery outside a capital city in Australia. Biography Born Anne Catherine, to parents Jean (née Duff) and George Whittle on 29 June 1915 in Eastwood, New South Wales, she was educated at Sydney Girls High School and Armidale Teachers College. After teacher training her first posting was at Adamstown Infants School in the 1930s. She married Roger Von Bertouch in 1939. In 1941 she was the organiser of a National Fitness Camp for girls at Broken Bay, New South Wales.She and Roger moved to Tasmania, where they taught and she studied at Hobart Technical College. In 1942 she performed modern interpretive dance at a Town Hall concert in Hobart organised by the Australian Broadcasting Commission Patriotic Committee as a fundraiser on Allies\\' Appeal Day. She danced also in Hobart\\'s Opera And Ballet Festival for International Week in 1945.Intending to develop land and to pursue their artistic interests, they moved to Mungo Brush in the Myall Lakes, New South Wales, in 1951 or 1954, living a subsistence existence from prawn fishing and trading their home-grown produce, and were appointed Honorary Rangers there in 1955 under the Wild Flowers and Native Plants Protection Act. Anne\\'s 1959 semi-autobiographical documentary novel February Dark gives an account of their time there. Finding their block unviable, they moved to Newcastle where they renovated a terrace house. An active environmentalist, in the 1970s she famously chained herself to a tree to stop the widening of King Street, Newcastle, through Birdwood Park.In 1987 von Bertouch joined the 1988 Australian Bicentennial First Fleet reenactment, sailing on the Soren Larsen from Portsmouth in May 1987 and arriving at Port Jackson on Australia Day. Von Bertouch Galleries Anne and Roger von Bertouch opened the von Bertouch Galleries in their home at 50 Laman Street in Newcastle on 9 February 1963 which, as noted by The Bulletin magazine, was close to William Dobell\\'s birthplace and the Newcastle Art Gallery. An annual Collectors\\' Choice exhibition with a price maximum of 15 guineas (a value of A$500 in 2022) was established.In 1969, not long after Anne had been injured and suffered a coma in a serious car accident near Morisset the couple separated. She acquired near-derelict Hunniford Terrace, a row of four narrow 1877 houses, opposite hers, on three titles surrounding 61 Laman St. They were threatened with demolition, and she combined and converted them, over five years and with the help of friends, to house the gallery, which opened in 1974, after the couple had dissolved their partnership in the gallery in 1973. Gael Davies became Anne\\'s gallery manager in 1975. Von Bertouch Galleries showed contemporary work by nationally prominent artists, as well as artists associated with the Hunter Region of New South Wales, including still-life painter Margaret Olley (1923-2011), landscapist Shay Docking (1928–1998), mid-century modernist painter and textile designer Mary Beeston (b. 1917), naïve artist Virginia Geyl (b. Holland 1917– d.1999) and the surrealist/religious painter Rona Scott, who created a mural for the film Tommy when it came to Australia. The Collector\\'s Choice group exhibition, established in 1969 at the suggestion of Tom Gleghorn, and which opened the renovated space, became an annual fixture important as part of Newcastle\\'s art scene, and spawned street parties. The Bulletin in 1974 described Von Bertouch Galleries as \"one of the most famous in Australia... It\\'s [sic] director Anne Von Bertouch has made a great contribution to the life of [Newcastle] during the 11 years of the gallery\\'s existence,\" and quoted her sentiments about selling art;\"I think the gallery has integrity. That is what I have worked hardest to achieve. I have never encouraged the buyer who is only interested in investment. In fact I won\\'t sell to them. I tell them to go and buy real estate. I don\\'t want them to have pictures if they aren\\'t going to appreciate them. It\\'s an anti-art thing...I have never had contracts or ties with any of the artists. Sometimes I\\'ve helped people but that is just natural. Artists must create for the sake of creating. They mustn\\'t attempt to please. That can destroy the living quality of the painting. It will always have its own intrinsic value. Commercial gain is really incidental.\"The same 1974 issue of The Bulletin listed selling prices in A$ of a number of exhibitors; Charles Blackman $2400 (equivalent to more than $20,000 in 2022); David Boyd $1150; Donald Friend $525; Irvine Homer $300; Pro Hart $950; Reinis Zusters $960; George Lawrence $650; Lloyd Rees $6000; Louis James $200; Ray Crooke $4500; Jamie Boyd $330; Keith Looby $75–$2400; Rona Scott $50–$7000; John Winch $75–$1200; Margaret Olley $200–$950; Virginia Geyl $50–$280; Lillian Sutherland $85–$450; Rae Richards $175–$350; while at its annual Collectors\\' Choice works were $75 and under (equivalent to $650 in 2022).Von Bertouch was considered a mentor and fair dealer by her artists; David Boyd remarked that was \"the most highly principled person in the gallery world. One could have complete trust in her without having to worry. She was loved very much by all.\" David Thomas, a previous director (1965–75) of the Newcastle Region Art Gallery remembered her as \"tough lady\"; \"By tough I mean she was of strong character, dedicated to making sure artists were well represented and improving the city\\'s cultural life\"On Saturday 9 February 2002, before its closure, Von Bertouch held a party to celebrate the Galleries\\' 39 years. Exhibitions at Von Bertouch Galleries 1963, February: First exhibition; works by artists born or resident in Newcastle: Tom Gleghorn, Ross Morrow, Jon Molvig, William Rose, John Olson, Paul Beadle, John Passmore and William Dobell 1963: Shay Docking 1963, August–September: Louis James 1963, 18–29 October: Henri le Grand pottery 1963, 15 November – 3 December: Collectors\\' choice 1963: Tom Gleghorn 1964, from 1 March: Homer Irvine 1964, to 28 July: Owen Shaw 1964, 25 September – 13 October: William Peascod 1964, to 17 November: Geoffrey Hooper paintings. Studio pottery by Ivan Englund and Carl McConnell 1964, to 24 December: Fabrics and Jewellery 1965: Homer Irvine 1965, 30 July – 10 August: Landscapes by 12 1967, 10 February – 28 February: Shay Docking 1967, 3 March – 21 March: John Coburn 1967, 24 March – 4 April: Homer Irvine 1967, 7 – 25 April: Michael Kitching 1967, 23 June – 11 July: Noel Counihan 1967, 18 August – 2-September: Paintings of people: Charles Blackman, Robert Dickerson, Frank Hinder, Louis James, Michael Kmit, Jeffrey Smart, Francis Lymburner. Also The Aspendale Papers and Interior lithographs by Charles Blackman\" 1967, October: David Boyd 1967, December: Shigeo Shiga, pottery 1968, from 22 March: Frank Hinder 1969, May: Desiderius Orban 1969, August: Norman Lindsay 1970, 6 – 23 March: Laurence Hope 1970, April: Judy Cassab 1970, June: Virginia Geyl 1971 Shay Docking 1972, from 1 March: Memory paintings of days on the track 1972, 28 June – 15 July: House show 1973, 3 August – 27 August: Ray Crooke 1973, October: Rae Richards 1973, November – December: Collectors\\' Choice: painting, graphics, sculpture, pottery and jewellery. Coburn, Cassab, Crooke. James, Hinder, Gleghorn, Kmit and others. 1973, to 24 December: Lillian Sutherland, Recent Paintings from Lighting Ridge 1974, February: Robert Campbell Retrospective 1974, to March 11: Print Prize Exhibition and Piers Bateman solo show 1974, 18–28 August: House show 1974, 10–30 November: Newcastle artists: Gavin Crichton, Garry Jones, John Martin, Christine Ross 1975, to 28 April: Maximillian Feuerring, paintings and drawings 1975, 22 August – 14 September: International Women\\'s Year – Newcastle artists: Norma Allen, Mary Beeston, Rosemary Coote, Joy Foster, Rachel Frecker, Virginia Geyl, Judy Hepper, Madeleine Scott Jones, Marilyn McGrath, Elizabeth Martin, Margaret Olley, Rae Richards, Christine Ross, Rona Scott, Coughtrie Thurlow, Pauline Tickner 1978, 28 July – 13 August: Silver Ware, Kelims and carpets from Afghanistan, Iran, Turkey and Russia collected by Jeffery Kitto of Sydney 1980 : Shay Docking 1981, 10 April – 26 April: Lloyd Rees; And Yet Australia Calls You Back Again 1983, 11 February – 6 March: Twentieth anniversary exhibition to commemorate the inaugural exhibition of February 9, 1963: Paul Beedle, William Dobell, Thomas Gleghorn, John Molvig, Ross Morrow, John Olsen, John Passmore, William Rose, Charles Lewis, Kay Campbell, Francis Cetlan, Cheryl Cusick, Marion Ermer, Andrew Ferguson, Graham Gilchrist, Ronald Hawke, Gail Johns, Ted Prior, Gordon Rintoul, Christine Ross, Philip Samuels, John Wolseley 1983, 1 July – 24 July: Blue Days on the Derwent. Tasmanian Exhibition by Lloyd Rees. 1984, 17 February – 1 March: Twenty first anniversary exhibition: Charles Blackman, Nancy Borlase, Frank Hinder, Margel Hinder, Louis James, Michael Kmit, Robert Klippel, Alun Leach-Jones, Desiderius Orban, Matthew Perceval, Brett Whiteley, Aldona Zakarauskas 1985, 15 March – 7 April: Lloyd Rees – Sandy Bay Set 1987, 3 – 26 April: Lloyd Rees: Paintings and Graphics 1991, 12 – 28 July: David Middlebrook: paintings and wood blocks 1991, 2 – 25 August: Jamie Boyd: paintings, pastels, graphics. 1991, 30 August – 15 September: Graphics by the famous : etchings, lithographs, screenprints 1992, 28 February – 22 March: David Preston : hand coloured linocuts 1992, 24 April – 17 May: Madeleine Winch : paintings 1993, 19 March 1993 – 12 April: Arthur Boyd; Paintings, Collographs, etchings 1998, 20 March – 12 April: Sixties reviewed: Nancy Borlase, Shay Docking, Robert Grieve, Louis James, Elwyn Lynn, Guy Warren 1998, 4 – 27 September: Works on paper: Sidney Nolan, Donald Friend, John Coburn, Charles Blackman, Arthur Boyd 2003, to 9 March: Judy Cassab Awards Honorary master\\'s degrees from the universities of Newcastle and New England 1979: Medal of the Order of Australia \"for services to the visual arts\" 1987: Newton-John alumni award 2001: Centenary Medal \"for service to the community\" 2002: The University of Newcastle honorary doctorate of letters 2002: Recognized in Newcastle as a Freeman of the City Author Von Bertouch’s 1959 novel February Dark, runner-up in The Sydney Morning Herald Literary Award, was based on her experience of life in Myall Lakes. It was reissued by Hunniford\\'s Lane Press in 1982. Her other published works include The Ride Home and a 1000-copy limited-edition monograph on sculptor Guy Boyd, described by Canberra Times reviewer Glenda Alexander as a \"delightful story, if touched with the hint of sentimentality which the Boyds always seem to attract.\" Publications Bertouch, Anne (1959). February Dark. London: Constable. OCLC 1069851970. Von Bertouch, Anne (1983). The ride home. Newcastle, N.S.W.: Hunniford\\'s Lane Press. ISBN 978-0-9592824-1-2. OCLC 27623615. Golden Age Fine Art Gallery; Von Bertouch, Anne; Boyd, Guy; Boyd, Phyllis (1985). Guy Boyd survey exhibition: bronze sculpture. Ballarat: The Gallery. OCLC 221487561. Boyd, Guy Martin; Bertouch, Anne von; Hutchings, Patrick; Von Bertouch, Anne (1986). Guy Boyd. Melbourne: Lansdowne. OCLC 781998112. Von Bertouch, Anne; Von Bertouch Galleries (1990). What was it before it was a gallery?. Newcastle, N.S.W.: Hunniford\\'s Lane Press. ISBN 978-0-9592824-2-9. OCLC 220744993. Von Bertouch, Anne (1991). The voyage out: the First Fleet re-enactment. Newcastle, N.S.W.: Hunnifords Lane Press. ISBN 978-0-9592824-3-6. OCLC 26579510. Germaine, Max; Bertouch, Anne von (1991). A dictionary of women artists of Australia. ISBN 978-976-8097-13-2. OCLC 1056680264. Archival resources National Library of Australia : [Biographical cuttings on Anne von Bertouch, author, containing one or more cuttings from newspapers or journals], Bib ID: 2085354 National Library of Australia, Manuscript Collection : Papers of Anne von Bertouch, circa 1960-circa 1999 [manuscript], c. 1960 – c. 1999, MS Acc03.266 Newcastle Region Library : Diary, correspondence and memorabilia [manuscript], 1975 – 1978, Call number: 910.4/VON; Anne Von Bertouch travel documents and diaries [manuscript][1] Death and legacy Following a severe stroke, Anne Von Bertouch died on 26 April 2003. Her funeral at Christ Church Cathedral with a eulogy by Newcastle Region Art Gallery director Nick Mitzevich was attended by 500 mourners. Shortly before her death Von Bertouch bequeathed a total of 136 works from her personal collection to the Newcastle Region Art Gallery, the biggest art collection bestowed to it in 58 years and valued in the millions of dollars; they were exhibited there in March 2003. In November 2005 350 artworks still in her gallery were auctioned as required by the Uncollected Goods Act of 1995.After her death manager Gael Davies attempted to hold a 41st Collectors\\' Choice exhibition on October 31, 2003, and the remaining scheduled shows for 2003, but an estate dispute was underway and the shows could not go ahead; consequently the gallery remained closed. Von Bertouch left her estate to her then 23-year-old great niece Cassandra Bird and to Davies. In March 2004 Bird sought to buy Davies\\' share and to reopen the gallery. Davies rejected the offer as unviable and proposed instead a new, smaller gallery be built on a parcel of land in Laman Street from the sale of surrounding land. The dispute became litigious with the outcome being its sale in 2007 by Supreme Court-appointed trustee Ferrier Hodgson.The terraces were purchased by Dr Dick Lees for #1,420,000 in 2007, and in 2010 were listed for sale at A$1.6 million. The four terrace houses sold together for a fourth time in 2015. Matt and Marilyn Sainsbury, new owners of the gallery buildings, with Matt\\'s sister Helen Griffin, commissioned Newcastle sculptor Graham Wilson, an exhibitor at the gallery, to carve a bust in Wollombi sandstone honouring her memory and her place in Cooks Hill life. Installed in 2019, it stands outside the former gallery on Laman Street. References ',\n",
       " 'Ashraf E. Fagih (Pronounced: \"Fa-geeh\") (Arabic: أشرف إحسان فقيه) is a Saudi author and academic. He is one of the few notable science fiction authors in the Arab Gulf states.First published at the age of twenty, he is noted for his writings in science fiction, historical fantasy, and mainstream culture.Ashraf was the scientific editor of Al-Qafilah magazine between 2014 and 2017. He has been an invitee to numerous events on creative writing and the literature of science, including Ithra\\'s Tanween Creativity Season and the World Science Fiction Convention (DisCon III). Bibliography Novels A Portrait of the Void – رسم العدم. 2020. A historical novel following the life of 13th century Pisan mathematician Leonardo Fibonacci, and his introduction of the Arabic Numerals to Europe. ISBN 9789921723700 The Impaler – المُخوزِق. 2012. A historical thriller tracing the origins of Count Vlad Dracula\\'s struggle against the Ottomans in the 15th century. ISBN 9782844096265, ASIN B07TTX6ZHQ Short story collections Over Twenty Lives – نيّف وعشرون حياة. 2006. Arabic science fiction short stories. ISBN 9953449732, ASIN B09ZQVK4GV Longing to the Stars – حنيناً إلى النجوم. 2000. Arabic science fiction short stories. ISBN 9960364313 The Ghosts’ Hunter – صائد الأشباح. 1997. Arabic science fiction short stories. ISBN 9960317218 Co-translations Wild Cards #1 - بطاقات جامحة. Arabic translation, published by Yatakhayaloon - 2021. ASIN B09NZVHL88 Writing Tools: 50 Essential Strategies for Every Writer - أدوات الكتابة. Arabic translation, published by Takween - 2017. ISBN 9786140121560 Education Ashraf holds an undergraduate degree (with Honors) in Computer Engineering from King Fahd University of Petroleum & Minerals, a master\\'s degree in Computer Science from Texas A&M University, and a PhD degree from Queen\\'s University. His doctoral work explores performance and design issues related to hybrid wireless environments, such as the Internet of Things. Academic career Between 2013 and 2018, he was an assistant professor with the Department of Information & Computer Science at King Fahd University of Petroleum & Minerals (KFUPM). He also served as the Supervisor of University Relations & Community Outreach, and as the deputy director of the Information Technology Center in KFUPM. Dr. Fagih taught many specialized courses according to variety of concepts, including Massive Open Online Courses (MOOC), where he offered the first-ever Arab course on a MOOC platform in October 2013. References External links Ashraf Fagih\\'s Goodreads author profile List of scientific publications',\n",
       " \"John Peck is an American Marine sergeant who lost both his legs and arms during a mission in Afghanistan in 2010. He lost both legs and one arm when an Improvised explosive device he stepped on exploded; while recovering in the hospital, an infection forced amputation of his remaining arm. He successfully underwent a ground-breaking bilateral arm transplant in August 2016.Peck wrote a book, Rebuilding Sergeant Peck: How I Put Body and Soul Back Together After Afghanistan, that was released on May 7, 2019. Also a documentary was made about him.In 2021, Our Life released a documentary, The Man with Another Man's Arms, following Peck's recovery from bilateral arm transplant on YouTube. The video received over 5,000,000 views within its first year. He was also named Military Times Veteran of the Year for 2021. References \",\n",
       " \"Maurits Sabbe, born Maurice Charles Marie Guillaume Sabbe (Bruges, 9 February 1873 – Antwerp, 12 February 1938), was a Flemish man of letters and educator who became curator of the Plantin-Moretus Museum in Antwerp. Life He was a son of Julius Sabbe and the eldest of seven children. He grew up in Bruges, going to school there, and studied philology at the University of Ghent, obtaining a doctorate in 1896 with a thesis on Jan Luyken. He became a secondary school teacher, working at a number of different establishments. In 1899 he married Gabriëlla De Smet. From 1903 to 1919 he taught at the Koninklijk Atheneum in Mechelen, also providing Dutch classes at the Royal Conservatoire Antwerp from 1907.In 1919 he was appointed curator of the Plantin-Moretus Museum. During this period he published on the Plantin Press, the Verdussen family, and the poetry and pamphleteering of the 16th and 17th centuries. From 1923 to 1937 he was professor of Dutch literature at the Université Libre de Bruxelles, in succession to August Vermeylen. He died in Antwerp on 12 February 1938 and was buried at the Schoonselhof Cemetery in Antwerp. A statue of him, unveiled in 1950, stands at the Sashuis near the Minnewater in Bruges. Honours 1920 : Officer in the Order of the Crown. Writings Peter Benoit (1892) Aan 't Minnewater : drie schetsen uit het Brugse leven (1893) Een mei van vroomheid (1903) Vlaamsche mensen (1907) De filosofoof van 't sashuis (1907) Het proza in de Vlaamse letterkunde (1909) Een Schutsgeest (1909) De nood der Bariseeles (1912) Bietje (1913) Caritate (1914) In t gedrang. Vertellingen uit den oorlog (1915) De toneelles (1917) t Pastorke van Schaerdycke (1919) t Kwartet der Jacobijnen (1920) Wat Oud-Vlaanderen zong (1920) Letterkundige verscheidenheden (1928) De muziek in Vlaanderen (1928) Brabant in 't verweer: bijdrage tot de studie der Zuid-Nederlandse strijdliteratuur in de eerste helft der 17e eeuw (1933) Peilingen (1935) De meesters van de gulden passer: Christoffel Plantin, aartsdrukker van Philips II, en zijn opvolgers, de Moretussen (1937) De vorstinnen van Brugge (naar de vertellingen van M. Sabbe, door Maurits Balfoort (1973) Avondbede Bernardus en de cisterciënzerfamilie in België Briefwisseling van de gebroeders Verdussen De minderbroeders en de oude Leuvense universiteit De oorlogstribulatiën van Meneer Van Poppel De oude harpspeelster De Plantijnsche werkstede Drie liederen in volkstrant Eeuwzang ter gelegenheid van de honderste verjaring van België's onafhankelijkheid Handschriften en vroegdrukken Het kerkske van te lande Het leven en de werken van Michiel de Swaen Het lied van onze klokken Hoe Stientje uit den Anker gevrijd werd Hooggetij: vaderlandsche kindercantate voor koren en symfonisch orkest Huldebetoon van Mr. Louis Franck Ik heb U gezien In de kriekentijd (Poëzie van) Julius en Maurits Sabbe Lenteliedje Melsens kruis Mozaiek: verspreide opstellen Oud Antwerpen : kerken en kloosters Oud België Peeter Heyns en de nimfen Philemons dans om de bruid Pluk de dag Stichtelyck ende vermakelyck proces tussen dry edellieden 't Is in U, zoetste lief Uit den taalstrijd in Zuid-Nederland tussen 1815–1830 Van den mulder en de mulderin Zonnestralen References \",\n",
       " \"Jonathan Northcroft is a Scottish sports journalist and author. He is currently the Chief Football Writer for The Sunday Times. Education Northcroft first attended Newtonhill Primary School, where he regularly turned class writing assignments into yet another opportunity to write on football. His earliest effort came at the age of six with his review of the 1978 FIFA World Cup, entitled 'The Caterpillar Who Went to Argentina'. For his Secondary schooling he went to Mackie Academy, Stonehaven, where he left as Dux in 1990. Northcroft graduated with an MA in English literature from the University of Edinburgh in 1993. He then completed a postgraduate diploma in journalism at the Scottish Centre for Journalism Studies. Career Northcroft began his career as a trainee news reporter at The Herald in 1995 before he joined Scotland on Sunday. He also wrote for several other publications including The Independent before he was appointed Scottish Football Correspondent by The Sunday Times in 1998. He was promoted to Northern Football Correspondent in 2001 and then Chief Football Correspondent for The Sunday Times in 2009. Since his appointment, he has authored several notable books, including Manchester United Opus, which he co-wrote with Hugh McIlvanney, Patrick Barclay and Jim White amongst others.The book gained widespread notability after a copy signed by the Prime Minister and ruler of Dubai, Sheikh Mohammed bin Rashid al-Maktoum was sold at auction for $1.6m, which was a world record price for a sporting publication.Northcroft then wrote Fearless: How Leicester City Shook the Premier League and What it Means For Sport after Leicester City's surprise Premier League victory in 2016, and Deadlines, and Darts with Dele after he lost a game of darts against England midfielder Dele Alli during the 2018 FIFA World Cup in Russia.He regularly appears on broadcast networks as a pundit, including Sky Sports Sunday Supplement, BT Sport programme Football Writers on TV, BBC Radio 5 live, RTÉ Radio 1 show Today with Seán O'Rourke, as well numerous appearances on The Times own The Game podcast.On 10 October 2018 Northcroft was included in a list of the 238 most respected journalists working in Britain as published by the National Council for the Training of Journalists. Awards Northcroft was the inaugural winner of the Jim Rodger Memorial Award for young sports writers in Scotland. During his career at The Sunday Times, he was shortlisted for Feature Writer of the Year at the British Sports Journalism Awards in 2006 and for Football Writer of the Year in 2016 and 2018. He was nominated for Best New Writer at the 2017 British Sports Book Awards, and nominated for Writer of the Year at the 2018 Football Supporters Federation Awards. Personal life Since childhood Northcroft has been a supporter of Aberdeen FC. He followed the team while Alex Ferguson was manager. He grew up in a sporting household and was encouraged from an early age to take an active interest in football and cricket. As a footballer her became a valued regular midfielder for Stonehaven Juveniles and then Edinburgh University. In his professional life he has appeared many times for the Scottish Journalists' Eleven and was once 'Man of the Match' at Wembley when his team triumphed over their English counterparts. For his cricket he appeared for Aberdeen Colts and also for his father's team in Aberdeen, Balmoral CC. As an adult he was a regular for Sefton Sunday Elevens in Liverpool, where he acted as a consistent if underachieving, batsman, succeeding in getting into the forties many times but never managing to go any further. He was present to witness Botham's Headingley 'Miracle' in 1981. He now lives in Leicester, is married to Jan and is father to two daughters. References \"]"
      ]
     },
     "execution_count": 12,
     "metadata": {},
     "output_type": "execute_result"
    }
   ],
   "source": [
    "texts[:5]"
   ]
  },
  {
   "cell_type": "markdown",
   "metadata": {},
   "source": [
    "# Sentence segmentation"
   ]
  },
  {
   "cell_type": "markdown",
   "metadata": {},
   "source": [
    "For our selected 100 articles we will perform sentence tokenization using Spacy and Stanza.\n",
    "Each file will be separated into sentences separately."
   ]
  },
  {
   "cell_type": "code",
   "execution_count": 13,
   "metadata": {},
   "outputs": [],
   "source": [
    "spacy_sents = [spacy_get_sents(x) for x in texts]"
   ]
  },
  {
   "cell_type": "code",
   "execution_count": 14,
   "metadata": {},
   "outputs": [],
   "source": [
    "# To run for the first time Stanza tokenization:\n",
    "\"\"\" \n",
    "stanza_sents = [stanza_get_sents(x) for x in texts]\n",
    "with open('SpacyStanza/stanza_sents.pickle', 'wb') as f:\n",
    "    pickle.dump(stanza_sents, f))\n",
    "\n",
    "\"\"\"\n",
    "\n",
    "# To load Stanza tokens from a pickle file\n",
    "\n",
    "with open('SpacyStanza/stanza_sents.pickle', 'rb') as f:\n",
    "    stanza_sents = pickle.load(f)"
   ]
  },
  {
   "cell_type": "markdown",
   "metadata": {},
   "source": [
    "We can now show the number of sentences calculated by each library for our articles:"
   ]
  },
  {
   "cell_type": "code",
   "execution_count": 15,
   "metadata": {},
   "outputs": [
    {
     "data": {
      "text/html": [
       "<div>\n",
       "<style scoped>\n",
       "    .dataframe tbody tr th:only-of-type {\n",
       "        vertical-align: middle;\n",
       "    }\n",
       "\n",
       "    .dataframe tbody tr th {\n",
       "        vertical-align: top;\n",
       "    }\n",
       "\n",
       "    .dataframe thead th {\n",
       "        text-align: right;\n",
       "    }\n",
       "</style>\n",
       "<table border=\"1\" class=\"dataframe\">\n",
       "  <thead>\n",
       "    <tr style=\"text-align: right;\">\n",
       "      <th></th>\n",
       "      <th>Spacy</th>\n",
       "      <th>Stanza</th>\n",
       "    </tr>\n",
       "  </thead>\n",
       "  <tbody>\n",
       "    <tr>\n",
       "      <th>0</th>\n",
       "      <td>107</td>\n",
       "      <td>95</td>\n",
       "    </tr>\n",
       "    <tr>\n",
       "      <th>1</th>\n",
       "      <td>37</td>\n",
       "      <td>33</td>\n",
       "    </tr>\n",
       "    <tr>\n",
       "      <th>2</th>\n",
       "      <td>8</td>\n",
       "      <td>9</td>\n",
       "    </tr>\n",
       "    <tr>\n",
       "      <th>3</th>\n",
       "      <td>35</td>\n",
       "      <td>27</td>\n",
       "    </tr>\n",
       "    <tr>\n",
       "      <th>4</th>\n",
       "      <td>28</td>\n",
       "      <td>29</td>\n",
       "    </tr>\n",
       "    <tr>\n",
       "      <th>...</th>\n",
       "      <td>...</td>\n",
       "      <td>...</td>\n",
       "    </tr>\n",
       "    <tr>\n",
       "      <th>95</th>\n",
       "      <td>32</td>\n",
       "      <td>30</td>\n",
       "    </tr>\n",
       "    <tr>\n",
       "      <th>96</th>\n",
       "      <td>21</td>\n",
       "      <td>11</td>\n",
       "    </tr>\n",
       "    <tr>\n",
       "      <th>97</th>\n",
       "      <td>18</td>\n",
       "      <td>17</td>\n",
       "    </tr>\n",
       "    <tr>\n",
       "      <th>98</th>\n",
       "      <td>7</td>\n",
       "      <td>7</td>\n",
       "    </tr>\n",
       "    <tr>\n",
       "      <th>99</th>\n",
       "      <td>24</td>\n",
       "      <td>22</td>\n",
       "    </tr>\n",
       "  </tbody>\n",
       "</table>\n",
       "<p>100 rows × 2 columns</p>\n",
       "</div>"
      ],
      "text/plain": [
       "    Spacy  Stanza\n",
       "0     107      95\n",
       "1      37      33\n",
       "2       8       9\n",
       "3      35      27\n",
       "4      28      29\n",
       "..    ...     ...\n",
       "95     32      30\n",
       "96     21      11\n",
       "97     18      17\n",
       "98      7       7\n",
       "99     24      22\n",
       "\n",
       "[100 rows x 2 columns]"
      ]
     },
     "execution_count": 15,
     "metadata": {},
     "output_type": "execute_result"
    }
   ],
   "source": [
    "sents_df = pd.DataFrame(columns=['Spacy', 'Stanza'])\n",
    "\n",
    "sents_df.Spacy = list(map(lambda x: len(x), spacy_sents))\n",
    "sents_df.Stanza = list(map(lambda x: len(x), stanza_sents))\n",
    "\n",
    "sents_df"
   ]
  },
  {
   "cell_type": "markdown",
   "metadata": {},
   "source": [
    "We can look at the stats for all articles, it appears that Spacy on average finds more sentences:"
   ]
  },
  {
   "cell_type": "code",
   "execution_count": 16,
   "metadata": {},
   "outputs": [
    {
     "data": {
      "text/html": [
       "<div>\n",
       "<style scoped>\n",
       "    .dataframe tbody tr th:only-of-type {\n",
       "        vertical-align: middle;\n",
       "    }\n",
       "\n",
       "    .dataframe tbody tr th {\n",
       "        vertical-align: top;\n",
       "    }\n",
       "\n",
       "    .dataframe thead th {\n",
       "        text-align: right;\n",
       "    }\n",
       "</style>\n",
       "<table border=\"1\" class=\"dataframe\">\n",
       "  <thead>\n",
       "    <tr style=\"text-align: right;\">\n",
       "      <th></th>\n",
       "      <th>Spacy</th>\n",
       "      <th>Stanza</th>\n",
       "    </tr>\n",
       "  </thead>\n",
       "  <tbody>\n",
       "    <tr>\n",
       "      <th>count</th>\n",
       "      <td>100.000000</td>\n",
       "      <td>100.000000</td>\n",
       "    </tr>\n",
       "    <tr>\n",
       "      <th>mean</th>\n",
       "      <td>30.770000</td>\n",
       "      <td>28.230000</td>\n",
       "    </tr>\n",
       "    <tr>\n",
       "      <th>std</th>\n",
       "      <td>26.211978</td>\n",
       "      <td>24.465129</td>\n",
       "    </tr>\n",
       "    <tr>\n",
       "      <th>min</th>\n",
       "      <td>3.000000</td>\n",
       "      <td>3.000000</td>\n",
       "    </tr>\n",
       "    <tr>\n",
       "      <th>25%</th>\n",
       "      <td>13.000000</td>\n",
       "      <td>11.000000</td>\n",
       "    </tr>\n",
       "    <tr>\n",
       "      <th>50%</th>\n",
       "      <td>25.000000</td>\n",
       "      <td>21.500000</td>\n",
       "    </tr>\n",
       "    <tr>\n",
       "      <th>75%</th>\n",
       "      <td>37.000000</td>\n",
       "      <td>33.250000</td>\n",
       "    </tr>\n",
       "    <tr>\n",
       "      <th>max</th>\n",
       "      <td>155.000000</td>\n",
       "      <td>143.000000</td>\n",
       "    </tr>\n",
       "  </tbody>\n",
       "</table>\n",
       "</div>"
      ],
      "text/plain": [
       "            Spacy      Stanza\n",
       "count  100.000000  100.000000\n",
       "mean    30.770000   28.230000\n",
       "std     26.211978   24.465129\n",
       "min      3.000000    3.000000\n",
       "25%     13.000000   11.000000\n",
       "50%     25.000000   21.500000\n",
       "75%     37.000000   33.250000\n",
       "max    155.000000  143.000000"
      ]
     },
     "execution_count": 16,
     "metadata": {},
     "output_type": "execute_result"
    }
   ],
   "source": [
    "sents_df.describe()"
   ]
  },
  {
   "cell_type": "markdown",
   "metadata": {},
   "source": [
    "Below we can see the total number of sentences recognized by the both libraries:"
   ]
  },
  {
   "cell_type": "code",
   "execution_count": 17,
   "metadata": {},
   "outputs": [
    {
     "data": {
      "text/plain": [
       "Spacy     3077\n",
       "Stanza    2823\n",
       "dtype: int64"
      ]
     },
     "execution_count": 17,
     "metadata": {},
     "output_type": "execute_result"
    }
   ],
   "source": [
    "sents_df.sum()"
   ]
  },
  {
   "cell_type": "markdown",
   "metadata": {},
   "source": [
    "We can notice that overall Stanza splits into sentences less frequently than Spacy does.\n",
    "\n",
    "We can confirm it using a t-test. Since the tokenization by Spacy and Stanza are performed on the same articles, we will consider the samples to be dependent. Let's set p-value to be < 0.05.\n",
    "\n",
    "\n",
    "\n",
    "$H_{0}$: Average number of sentences per article generated by Spacy and Stanza is the same.\n",
    "\n",
    "$H_{1}$: Average number of sentences per article generated by Spacy and Stanza is the same.\n"
   ]
  },
  {
   "cell_type": "code",
   "execution_count": 18,
   "metadata": {},
   "outputs": [],
   "source": [
    "from scipy.stats import ttest_rel"
   ]
  },
  {
   "cell_type": "code",
   "execution_count": 19,
   "metadata": {},
   "outputs": [
    {
     "data": {
      "text/plain": [
       "Ttest_relResult(statistic=4.36851507267565, pvalue=3.085063323539573e-05)"
      ]
     },
     "execution_count": 19,
     "metadata": {},
     "output_type": "execute_result"
    }
   ],
   "source": [
    "ttest_rel(sents_df.Spacy, sents_df.Stanza)"
   ]
  },
  {
   "cell_type": "markdown",
   "metadata": {},
   "source": [
    "Since p-value is very small we can reject the null hypothesis, and accept the $H_{1}$. And since the value of statistic is positive, we can accept the theory that average of Spacy sentences per article is higher than Stanza."
   ]
  },
  {
   "cell_type": "markdown",
   "metadata": {},
   "source": [
    "_____________"
   ]
  },
  {
   "cell_type": "markdown",
   "metadata": {},
   "source": [
    "Now we can find all unique sentences that both recognize.\n",
    "First we can look at the number shared sentences per article:"
   ]
  },
  {
   "cell_type": "code",
   "execution_count": 20,
   "metadata": {},
   "outputs": [
    {
     "data": {
      "text/html": [
       "<div>\n",
       "<style scoped>\n",
       "    .dataframe tbody tr th:only-of-type {\n",
       "        vertical-align: middle;\n",
       "    }\n",
       "\n",
       "    .dataframe tbody tr th {\n",
       "        vertical-align: top;\n",
       "    }\n",
       "\n",
       "    .dataframe thead th {\n",
       "        text-align: right;\n",
       "    }\n",
       "</style>\n",
       "<table border=\"1\" class=\"dataframe\">\n",
       "  <thead>\n",
       "    <tr style=\"text-align: right;\">\n",
       "      <th></th>\n",
       "      <th>shared_sents</th>\n",
       "      <th>count</th>\n",
       "    </tr>\n",
       "  </thead>\n",
       "  <tbody>\n",
       "    <tr>\n",
       "      <th>0</th>\n",
       "      <td>{Anne Von Bertouch, (29 June 1915 – 31 March 2...</td>\n",
       "      <td>68</td>\n",
       "    </tr>\n",
       "    <tr>\n",
       "      <th>1</th>\n",
       "      <td>{2020., He is one of the few notable science f...</td>\n",
       "      <td>24</td>\n",
       "    </tr>\n",
       "    <tr>\n",
       "      <th>2</th>\n",
       "      <td>{He was also named Military Times Veteran of t...</td>\n",
       "      <td>7</td>\n",
       "    </tr>\n",
       "    <tr>\n",
       "      <th>3</th>\n",
       "      <td>{From 1923 to 1937 he was professor of Dutch l...</td>\n",
       "      <td>12</td>\n",
       "    </tr>\n",
       "    <tr>\n",
       "      <th>4</th>\n",
       "      <td>{For his cricket he appeared for Aberdeen Colt...</td>\n",
       "      <td>27</td>\n",
       "    </tr>\n",
       "    <tr>\n",
       "      <th>...</th>\n",
       "      <td>...</td>\n",
       "      <td>...</td>\n",
       "    </tr>\n",
       "    <tr>\n",
       "      <th>95</th>\n",
       "      <td>{Due to this writing he became one of the lead...</td>\n",
       "      <td>26</td>\n",
       "    </tr>\n",
       "    <tr>\n",
       "      <th>96</th>\n",
       "      <td>{Aghmat-Ourika was the place where the Jews of...</td>\n",
       "      <td>10</td>\n",
       "    </tr>\n",
       "    <tr>\n",
       "      <th>97</th>\n",
       "      <td>{\"Jervis, John Jervis White\"., Dictionary of N...</td>\n",
       "      <td>12</td>\n",
       "    </tr>\n",
       "    <tr>\n",
       "      <th>98</th>\n",
       "      <td>{Konstantin Oleksandrovich Chervinskiy (Ukrain...</td>\n",
       "      <td>7</td>\n",
       "    </tr>\n",
       "    <tr>\n",
       "      <th>99</th>\n",
       "      <td>{In 1996, Butnakho started to write songs in t...</td>\n",
       "      <td>17</td>\n",
       "    </tr>\n",
       "  </tbody>\n",
       "</table>\n",
       "<p>100 rows × 2 columns</p>\n",
       "</div>"
      ],
      "text/plain": [
       "                                         shared_sents  count\n",
       "0   {Anne Von Bertouch, (29 June 1915 – 31 March 2...     68\n",
       "1   {2020., He is one of the few notable science f...     24\n",
       "2   {He was also named Military Times Veteran of t...      7\n",
       "3   {From 1923 to 1937 he was professor of Dutch l...     12\n",
       "4   {For his cricket he appeared for Aberdeen Colt...     27\n",
       "..                                                ...    ...\n",
       "95  {Due to this writing he became one of the lead...     26\n",
       "96  {Aghmat-Ourika was the place where the Jews of...     10\n",
       "97  {\"Jervis, John Jervis White\"., Dictionary of N...     12\n",
       "98  {Konstantin Oleksandrovich Chervinskiy (Ukrain...      7\n",
       "99  {In 1996, Butnakho started to write songs in t...     17\n",
       "\n",
       "[100 rows x 2 columns]"
      ]
     },
     "execution_count": 20,
     "metadata": {},
     "output_type": "execute_result"
    }
   ],
   "source": [
    "# Make a set of unique sentences for each article for both Spacy and Stanza.\n",
    "# Find the intersection = these are sentences recognized by both libraries.\n",
    "\n",
    "shared_sents_per_article = list(map(lambda x,y: set(x).intersection(set(y)), spacy_sents, stanza_sents))\n",
    "\n",
    "shared_sents_per_article_df = pd.DataFrame(columns=['shared_sents', 'count'])\n",
    "shared_sents_per_article_df['shared_sents'] = shared_sents_per_article\n",
    "shared_sents_per_article_df['count'] = [len(x) for x in shared_sents_per_article]\n",
    "shared_sents_per_article_df"
   ]
  },
  {
   "cell_type": "markdown",
   "metadata": {},
   "source": [
    "Below is the overall count of shared sentences:"
   ]
  },
  {
   "cell_type": "code",
   "execution_count": 21,
   "metadata": {},
   "outputs": [
    {
     "name": "stdout",
     "output_type": "stream",
     "text": [
      "\n",
      "    Total Spacy sentences: 3077\n",
      "    Total Stanza sentences: 2823\n",
      "    Shared sentences: 2263\n",
      "    Percentage of shared sentences for Spacy: 73.55%\n",
      "    Percentage of shared sentences for Stanza: 80.16%\n"
     ]
    }
   ],
   "source": [
    "total_sp_sent = sents_df.sum()['Spacy']\n",
    "total_st_sent = sents_df.sum()['Stanza']\n",
    "total_shared = shared_sents_per_article_df['count'].sum()\n",
    "\n",
    "print(f\"\"\"\n",
    "    Total Spacy sentences: {total_sp_sent}\n",
    "    Total Stanza sentences: {total_st_sent}\n",
    "    Shared sentences: {total_shared}\n",
    "    Percentage of shared sentences for Spacy: {100*total_shared/total_sp_sent:.2f}%\n",
    "    Percentage of shared sentences for Stanza: {100*total_shared/total_st_sent:.2f}%\"\"\")"
   ]
  },
  {
   "cell_type": "markdown",
   "metadata": {},
   "source": [
    "We can also have a look at what different articles both libraries found looking at the first mismatched sentence pair \n",
    "for each article:"
   ]
  },
  {
   "cell_type": "code",
   "execution_count": 22,
   "metadata": {},
   "outputs": [
    {
     "name": "stdout",
     "output_type": "stream",
     "text": [
      "Article: 0\n",
      "\n",
      "\n",
      "Spacy sentence: She danced also in Hobart's Opera And Ballet Festival for International Week in 1945.Intending to develop land and to pursue their artistic interests, they moved to Mungo Brush in the Myall Lakes, New South Wales, in 1951 or 1954, living a subsistence existence from prawn fishing and trading their home-grown produce, and were appointed Honorary Rangers there in 1955 under the Wild Flowers and Native Plants Protection Act. \n",
      "\n",
      "Stanza sentence: She danced also in Hobart's Opera And Ballet Festival for International Week in 1945.\n",
      "_______________\n",
      "Article: 1\n",
      "\n",
      "\n",
      "Spacy sentence: ISBN 9782844096265, \n",
      "\n",
      "Stanza sentence: ISBN 9782844096265, ASIN B07TTX6ZHQ\n",
      "_______________\n",
      "Article: 2\n",
      "\n",
      "\n",
      "Spacy sentence: He successfully underwent a ground-breaking bilateral arm transplant in August 2016.Peck wrote a book, Rebuilding Sergeant Peck: How I Put Body and Soul Back Together After Afghanistan, that was released on May 7, 2019. \n",
      "\n",
      "Stanza sentence: He successfully underwent a ground-breaking bilateral arm transplant in August 2016.\n",
      "_______________\n",
      "Article: 3\n",
      "\n",
      "\n",
      "Spacy sentence: Life He was a son of Julius Sabbe and the eldest of seven children. \n",
      "\n",
      "Stanza sentence: Life\n",
      "_______________\n",
      "Article: 4\n",
      "\n",
      "\n",
      "Spacy sentence: In his professional life he has appeared many times for the Scottish Journalists' Eleven and was once 'Man of the Match' at Wembley when his team triumphed over their English counterparts. \n",
      "\n",
      "Stanza sentence: In his professional life he has appeared many times for the Scottish Journalists'\n",
      "_______________\n",
      "Article: 5\n",
      "\n",
      "\n",
      "Spacy sentence: Her latest book, A Colony of Strangers: The founding and early history of Clifden, was published in 2012. \n",
      "\n",
      "Stanza sentence: Her latest book, A Colony of Strangers:\n",
      "_______________\n",
      "Article: 6\n",
      "\n",
      "\n",
      "Spacy sentence: Career As a writer, Cruz has received recognition for his contributions to Philippine literature, including more than thirty books. \n",
      "\n",
      "Stanza sentence: Career\n",
      "_______________\n",
      "Article: 7\n",
      "\n",
      "\n",
      "Spacy sentence: Given its generally disappointing results, the body declined in importance, although Threlfall remained its Secretary until it was wound up, in 1895.Threlfall was subsequently appointed as a magistrate in Southport. \n",
      "\n",
      "Stanza sentence: Given its generally disappointing results, the body declined in importance, although Threlfall remained its Secretary until it was wound up, in 1895.\n",
      "_______________\n",
      "Article: 8\n",
      "\n",
      "\n",
      "Text segmentized into sentences in the same way.\n",
      "_______________\n",
      "Article: 9\n",
      "\n",
      "\n",
      "Spacy sentence: Separated from Dave in a bustling street, she fell and twisted her ankle, only to be swept up by a young handsome, chivalrous Egyptian. \n",
      "\n",
      "Stanza sentence: Separated from\n",
      "_______________\n",
      "Article: 10\n",
      "\n",
      "\n",
      "Spacy sentence: Works in English From Wŏnso Pond (Feminist Press 2009) \n",
      "\n",
      "Stanza sentence: Works in English From Wŏnso Pond (Feminist Press 2009) ISBN 978-1-55861-601-1\n",
      "_______________\n",
      "Article: 11\n",
      "\n",
      "\n",
      "Spacy sentence: Family During this tour, White met her future husband, Bruce M. White, a mine owner and developer. \n",
      "\n",
      "Stanza sentence: Family During this tour,\n",
      "_______________\n",
      "Article: 12\n",
      "\n",
      "\n",
      "Spacy sentence: Life The son of Richard Owen, a jeweller of Old Street, London, he entered St Paul's School on 18 October 1777. \n",
      "\n",
      "Stanza sentence: Life\n",
      "_______________\n",
      "Article: 13\n",
      "\n",
      "\n",
      "Text segmentized into sentences in the same way.\n",
      "_______________\n",
      "Article: 14\n",
      "\n",
      "\n",
      "Spacy sentence: Works \"Critical study: Problems of the secret self in the Saudi women's novels (1999–2012)\" (Arabic title: I'shkaliyat Al-that Al-saridah \n",
      "\n",
      "Stanza sentence: Works \"Critical study: Problems of the secret self in the Saudi women's novels (1999–2012)\" (Arabic title: I'shkaliyat Al-that Al-saridah fe Al-riwayat Al-nisa'eyah Al-saudiyah), published by Arab Scientific Publishers in 2020, and the book \"The phenomenon of leaving in the Saudi short story- an artistic study\" (Arabic title: Thahirat Al-raheal fe Al-Qisah Al-Qasirah fi Al-mamlakah Al-Arabia Al-Saudiyah- Dirasah Faniyah), published by Al-Jouf Literary Club and Arab Diffusion Company in 2013.\n",
      "_______________\n",
      "Article: 15\n",
      "\n",
      "\n",
      "Spacy sentence: Writings Dust Owuor's 2014 novel Dust portrays the violent history of Kenya in the second half of the 20th century. \n",
      "\n",
      "Stanza sentence: Writings Dust Owuor's 2014 novel\n",
      "_______________\n",
      "Article: 16\n",
      "\n",
      "\n",
      "Spacy sentence: Background and education She was born in Mparo in present-day Rukiga District, in the Western Region of Uganda. \n",
      "\n",
      "Stanza sentence: Background and education\n",
      "_______________\n",
      "Article: 17\n",
      "\n",
      "\n",
      "Spacy sentence: Views In one profile, her views were described as follows: “The political figure Andrews most admires is Marine Le Pen, the leader of France's far-right National Front party, but Trump is not far behind in her estimation. \n",
      "\n",
      "Stanza sentence: Views\n",
      "_______________\n",
      "Article: 18\n",
      "\n",
      "\n",
      "Spacy sentence: Among his works, The Merchant of Joseon (Sangdo, 상도) and Emperor of The Sea (Haeshin, 해신) were dramatized and aired by MBC and KBS in 2001 and 2004, respectively, which won popularity not only among Koreans but also viewers across the globe. \n",
      "\n",
      "Stanza sentence: Among his works,\n",
      "_______________\n",
      "Article: 19\n",
      "\n",
      "\n",
      "Spacy sentence: Career He was also the faculty of the Quaid-e-Azam University, Islamabad. \n",
      "\n",
      "Stanza sentence: Career\n",
      "_______________\n"
     ]
    }
   ],
   "source": [
    "def get_first_mismatched_sent_pair(sp_sents, st_sents):\n",
    "    n = len(sp_sents)\n",
    "    m = len(st_sents)\n",
    "    \n",
    "    # Go through the array of sentences for both Spacy and Stanza till the end of smallest of them.\n",
    "    for i in range(min(n, m)):\n",
    "        # When we reach the first mismatch, print the sentences.\n",
    "        if sp_sents[i] != st_sents[i]:\n",
    "            print(f'Spacy sentence: {sp_sents[i]} \\n\\n'\n",
    "            f'Stanza sentence: {st_sents[i]}\\n'\n",
    "            '_______________')\n",
    "            return sp_sents[i], st_sents[i]\n",
    "    \n",
    "    # If there was no mismatch during the array traversal, then all the sentences were tokenized together.\n",
    "    print('Text segmentized into sentences in the same way.\\n_______________')\n",
    "    return None\n",
    "\n",
    "for i, pair in list(enumerate(zip(spacy_sents, stanza_sents)))[:20]:\n",
    "    print(f'Article: {i}\\n\\n')\n",
    "    get_first_mismatched_sent_pair(pair[0], pair[1])"
   ]
  },
  {
   "cell_type": "markdown",
   "metadata": {},
   "source": [
    "From the sample we see above we can note the following behavior for sentence tokenization for Spacy and Stanza:\n",
    "- If there is a missing space before a period, separating sentences, Stanza seems to perform sentence segmentation better, e.g `Article 0, 2, 7, 24`...\n",
    "- In our source material some sections have a title which is not punctuated. Stanza appears to recognize such cases as a separate sentence (correct) more frequently, e.g. `Article 3, 6, 12, 16, 17, 19`...\n",
    "- However, Stanza seems to be incorrectly splitting a sentence more frequently if there is a punctuation sign followed by a capital letter, e.g. `Article 4, 5, 9, 11, 15, 18`...\n",
    "- Both libraries struggle (as expected) with sententences that have a lot of non-English words or the input string is not a correct sentence."
   ]
  },
  {
   "cell_type": "markdown",
   "metadata": {},
   "source": [
    "______________________"
   ]
  },
  {
   "cell_type": "markdown",
   "metadata": {},
   "source": [
    "Now we can form a list of shared sentences for all articles combined:"
   ]
  },
  {
   "cell_type": "code",
   "execution_count": 23,
   "metadata": {},
   "outputs": [],
   "source": [
    "# Convert the sets into arrays and then flatted the 2 array into 1-d array using numpy.concatenate\n",
    "\n",
    "shared_sents = np.concatenate(list(map(lambda x: list(x), shared_sents_per_article)))"
   ]
  },
  {
   "cell_type": "code",
   "execution_count": 24,
   "metadata": {},
   "outputs": [
    {
     "data": {
      "text/plain": [
       "array(['Anne Von Bertouch, (29 June 1915 – 31 March 2003) was an Australian art dealer, author, environmentalist and director of the Von Bertouch Galleries in Newcastle, New South Wales, believed to be the first commercial gallery outside a capital city in Australia.',\n",
       "       'The four terrace houses sold together for a fourth time in 2015.',\n",
       "       'Melbourne: Lansdowne.', 'References',\n",
       "       'She married Roger Von Bertouch in 1939.'], dtype='<U592')"
      ]
     },
     "execution_count": 24,
     "metadata": {},
     "output_type": "execute_result"
    }
   ],
   "source": [
    "shared_sents[:5]"
   ]
  },
  {
   "cell_type": "markdown",
   "metadata": {},
   "source": [
    "We can now store the shared sentences into a separate DataFrame and into its own CSV-file:"
   ]
  },
  {
   "cell_type": "code",
   "execution_count": 25,
   "metadata": {},
   "outputs": [
    {
     "data": {
      "text/html": [
       "<div>\n",
       "<style scoped>\n",
       "    .dataframe tbody tr th:only-of-type {\n",
       "        vertical-align: middle;\n",
       "    }\n",
       "\n",
       "    .dataframe tbody tr th {\n",
       "        vertical-align: top;\n",
       "    }\n",
       "\n",
       "    .dataframe thead th {\n",
       "        text-align: right;\n",
       "    }\n",
       "</style>\n",
       "<table border=\"1\" class=\"dataframe\">\n",
       "  <thead>\n",
       "    <tr style=\"text-align: right;\">\n",
       "      <th></th>\n",
       "      <th>Sentence</th>\n",
       "    </tr>\n",
       "  </thead>\n",
       "  <tbody>\n",
       "    <tr>\n",
       "      <th>0</th>\n",
       "      <td>Anne Von Bertouch, (29 June 1915 – 31 March 20...</td>\n",
       "    </tr>\n",
       "    <tr>\n",
       "      <th>1</th>\n",
       "      <td>ISBN 978-0-9592824-1-2. OCLC 27623615.</td>\n",
       "    </tr>\n",
       "    <tr>\n",
       "      <th>2</th>\n",
       "      <td>Von Bertouch, Anne (1983).</td>\n",
       "    </tr>\n",
       "    <tr>\n",
       "      <th>3</th>\n",
       "      <td>The terraces were purchased by Dr Dick Lees fo...</td>\n",
       "    </tr>\n",
       "    <tr>\n",
       "      <th>4</th>\n",
       "      <td>What was it before it was a gallery?.</td>\n",
       "    </tr>\n",
       "    <tr>\n",
       "      <th>...</th>\n",
       "      <td>...</td>\n",
       "    </tr>\n",
       "    <tr>\n",
       "      <th>2258</th>\n",
       "      <td>In popular culture In 1999, Komphet Phorncharo...</td>\n",
       "    </tr>\n",
       "    <tr>\n",
       "      <th>2259</th>\n",
       "      <td>In 1996, Butnakho started to write songs in th...</td>\n",
       "    </tr>\n",
       "    <tr>\n",
       "      <th>2260</th>\n",
       "      <td>The melody came from the pattern of \"Sao Simue...</td>\n",
       "    </tr>\n",
       "    <tr>\n",
       "      <th>2261</th>\n",
       "      <td>In 2007, Isan music became very popular in Lao...</td>\n",
       "    </tr>\n",
       "    <tr>\n",
       "      <th>2262</th>\n",
       "      <td>He has eleven siblings.</td>\n",
       "    </tr>\n",
       "  </tbody>\n",
       "</table>\n",
       "<p>2263 rows × 1 columns</p>\n",
       "</div>"
      ],
      "text/plain": [
       "                                               Sentence\n",
       "0     Anne Von Bertouch, (29 June 1915 – 31 March 20...\n",
       "1                ISBN 978-0-9592824-1-2. OCLC 27623615.\n",
       "2                            Von Bertouch, Anne (1983).\n",
       "3     The terraces were purchased by Dr Dick Lees fo...\n",
       "4                 What was it before it was a gallery?.\n",
       "...                                                 ...\n",
       "2258  In popular culture In 1999, Komphet Phorncharo...\n",
       "2259  In 1996, Butnakho started to write songs in th...\n",
       "2260  The melody came from the pattern of \"Sao Simue...\n",
       "2261  In 2007, Isan music became very popular in Lao...\n",
       "2262                            He has eleven siblings.\n",
       "\n",
       "[2263 rows x 1 columns]"
      ]
     },
     "execution_count": 25,
     "metadata": {},
     "output_type": "execute_result"
    }
   ],
   "source": [
    "# Run to generate the DataFrame for this time\n",
    "\"\"\"\n",
    "shared_sents_df = pd.DataFrame(columns=['Sentence'])\n",
    "shared_sents_df.Sentence = shared_sents\n",
    "\"\"\"\n",
    "\n",
    "shared_sents_df = pd.read_csv('SpacyStanza/spacy_stanza_shared_sents.csv', index_col=0)\n",
    "shared_sents_df "
   ]
  },
  {
   "cell_type": "markdown",
   "metadata": {},
   "source": [
    "# Tokenization"
   ]
  },
  {
   "cell_type": "markdown",
   "metadata": {},
   "source": [
    "For the experiment below we will use all the tokens returned by Spacy and Stanza, without filtering any punctuation or spaces.\n",
    "\n",
    "However, prior to all the analysis texts were cleaned: we removed linebreaks, tabulation and special characters like `|`, `^`, `<`, `>`, `+`, and `=`. These symbols were not returned when we requested the original texts.\n",
    "\n",
    "We will do the final step of preprocessing and lowercase the text in order to avoid the same word being in vocabulary twice: for different spelling when it's in the beginning or in the middle of a sentence.\n",
    "\n",
    "For our experiment we will take only the sentences that were previously segmented in the same way by Spacy and Stanza.\n",
    "For **SharedTokensNosentences** we will stich all the sentences together and separate them by spaces. For **SharedTokensInSentences** we will apply tokenization on the sentences from `shared_sents_df` above."
   ]
  },
  {
   "cell_type": "code",
   "execution_count": 26,
   "metadata": {},
   "outputs": [],
   "source": [
    "shared_sents_lower = [s.lower() for s in shared_sents_df.Sentence]"
   ]
  },
  {
   "cell_type": "code",
   "execution_count": 27,
   "metadata": {},
   "outputs": [],
   "source": [
    "shared_sents_stiched = ' '.join(shared_sents_lower)"
   ]
  },
  {
   "cell_type": "markdown",
   "metadata": {},
   "source": [
    "##  Vocabulary"
   ]
  },
  {
   "cell_type": "markdown",
   "metadata": {},
   "source": [
    "To compare vocabularies we will run the comparison on the sentences stiched together into one text."
   ]
  },
  {
   "cell_type": "code",
   "execution_count": 28,
   "metadata": {},
   "outputs": [],
   "source": [
    "# Create a set to find unique tokens only\n",
    "spacy_vocabulary = set(spacy_tokenize_text(shared_sents_stiched, no_filtering=True))"
   ]
  },
  {
   "cell_type": "code",
   "execution_count": 29,
   "metadata": {},
   "outputs": [],
   "source": [
    "# To run for the first time Stanza tokenization:\n",
    "\"\"\" \n",
    "stanza_vocabulary = set(stanza_tokenize_text(shared_sents_stiched))with open('SpacyStanza/no_sent_stanza_tokens.pickle', 'wb') as f:\n",
    "with open('SpacyStanza/stanza_vocabulary.pickle', 'wb') as f:\n",
    "    pickle.dump(stanza_vocabulary, f)\n",
    "\n",
    "\"\"\"\n",
    "\n",
    "# To load Stanza tokens from a pickle file\n",
    "\n",
    "with open('SpacyStanza/stanza_vocabulary.pickle', 'rb') as f:\n",
    "    stanza_vocabulary = pickle.load(f)"
   ]
  },
  {
   "cell_type": "code",
   "execution_count": 30,
   "metadata": {},
   "outputs": [
    {
     "name": "stdout",
     "output_type": "stream",
     "text": [
      "Spacy vocabulary size: 8488\n",
      "Stanza vocabulary size: 8526\n"
     ]
    }
   ],
   "source": [
    "print(f'Spacy vocabulary size: {len(spacy_vocabulary)}\\nStanza vocabulary size: {len(stanza_vocabulary)}')"
   ]
  },
  {
   "cell_type": "markdown",
   "metadata": {},
   "source": [
    "### Shared vocabulary"
   ]
  },
  {
   "cell_type": "markdown",
   "metadata": {},
   "source": [
    "Shared vocabulary is calculated as intersection of sets of Stanza and Spacy vocabulary:"
   ]
  },
  {
   "cell_type": "code",
   "execution_count": 31,
   "metadata": {},
   "outputs": [],
   "source": [
    "shared_vocab = spacy_vocabulary.intersection(stanza_vocabulary)"
   ]
  },
  {
   "cell_type": "code",
   "execution_count": 32,
   "metadata": {},
   "outputs": [],
   "source": [
    "shared_vocab_size = len(shared_vocab)"
   ]
  },
  {
   "cell_type": "markdown",
   "metadata": {},
   "source": [
    "Size of shared vocabulary:"
   ]
  },
  {
   "cell_type": "code",
   "execution_count": 33,
   "metadata": {},
   "outputs": [
    {
     "data": {
      "text/plain": [
       "8264"
      ]
     },
     "execution_count": 33,
     "metadata": {},
     "output_type": "execute_result"
    }
   ],
   "source": [
    "shared_vocab_size"
   ]
  },
  {
   "cell_type": "code",
   "execution_count": 54,
   "metadata": {},
   "outputs": [
    {
     "data": {
      "text/plain": [
       "array(['moving', 'specialized', 'there', 'ekspres', 'attended', 'pune',\n",
       "       'foot', 'occasion', 'favored', '1961', '1659', 'believed', 'equal',\n",
       "       'warsaw', 'turkish', 'height', 'growing', 'c.', 'having',\n",
       "       'hinting', 'friends', 'sweetheart', 'organically', 'registry',\n",
       "       'lhadj', 'nicholas', 'judgement', 'confinement', 'argentina',\n",
       "       'pleasures', 'armidale', 'bunyan', 'immediate', 'emigrants',\n",
       "       'ṛṛays', 'blessing', 'mae', 'extinct', 'mosques', 'stockholm',\n",
       "       'stanitsa', 'matter', 'muffins', 'ceramics', 'egg', 'saitovic',\n",
       "       'tourism', 'founded', 'hospitalized', 'an'], dtype='<U19')"
      ]
     },
     "execution_count": 54,
     "metadata": {},
     "output_type": "execute_result"
    }
   ],
   "source": [
    "np.random.choice(list(shared_vocab), size=50)"
   ]
  },
  {
   "cell_type": "markdown",
   "metadata": {},
   "source": [
    "From the sample above we can observe that both libraries seem to agree on tokenizing a wide range of words:\n",
    "- Common words like `an`, `egg`, `there`, `having` are present in the shared vocabulary.\n",
    "- Foreign to English words like `bunyan`, `stanitsa`, `lhadj` are also present in the shared vocabulary.\n",
    "- We can as well see some Named Entities like dates and locations\n",
    "- We can as well see an incorrect lemma `ṛṛays` (presumably a part of `arrays`) which was produced by both libraries.\n",
    "- ..."
   ]
  },
  {
   "cell_type": "markdown",
   "metadata": {},
   "source": [
    "### Spacy-only vocabulary"
   ]
  },
  {
   "cell_type": "code",
   "execution_count": 34,
   "metadata": {},
   "outputs": [
    {
     "name": "stdout",
     "output_type": "stream",
     "text": [
      "instrumentalist, 1442252813, 0, 9213, 1904–1920, 1885–1900, 1950/1951, 1935–37, kishinev, 1500, 1810–1860, 1798–1879, fl,  , 9592824, 1689–1887, obi, 1793–1869, m.r.c.s, sueñan, neo, editors, tangier,2004, x, 255, 8392, 2011/2012, 313, 've, 1945–47, nesanice/, 2018edited, mishnayot, 323, 978, semitic, 9695188, 8097, bmj.319.7216.1031, kwan, s.s, 1977–1980, pjesme/, 1909–1910, u.s, ner, cola, devin, c.e,  , 2008–13,   , brassey, ethno, esq, imperialism, yellow, asilah—40, u'uqiank'uuh, sun, l.r.c.s, lansdowne, ju, 300p, thejournal.ie, 1744–1816, vol, 1766–1822, 1758, colonialism, suzuki, bello, /priče, m.a, 1912–1928, awardee, enactment, 9223, 1905–1907, 1785–1863, vatican, non, ,(1898, unesco, 2005–2006, 1928–1998, ¿, covid-19, 441–2, 39–40, u.s.specht, isl, t.c, 1134068708, 35–6, `, 78442, madison, turn, l.c, b.a, 1937–39, 'm, kyoto, 1877–1951, χρήστος, m.d, ¡, f.r.c.p, fc, heiress, 53, 1868–1936, 8084, co, v.g, e, novo, 700–707, eminent, chuch'e, 7349, 1990–2008, 16–17, 1909–1919, h.c, 19–24, 1980–84, bmj, d.c, 95–96, dmitrievakain, mujeres, 605, ):, pre, 1031–1034, 205, biografie, j.d, 3865, faingata'a, baked, m.r.c.p, عرفان, 1941–45, 975, 1804–1871, بدقت, 1547–1564, d.l, otto, eck, 1989–1991, 25–28, wisconsin, serbo, 1882–1956, 293, 521, 84.5월호, школ, cc, 976, coca, 480–44, semitism, 3905881028, 1860–1923,1986, chan, and/or, 1476679488, 1795–1864, 905237, 2001–2011, yalıkavak, 040, ph.d, 1918–1923, 23833, semite, feudal, n.s.w, 1943–24, 111, b.w, canonical, inst, 9781931883702short, prof, t, 09, 1848–1905, 401, kei, 1969–70, 1766–1830, liechtenstein, philosophy-, jr, re, zu'bi, u.k, 1996–2000, p.j, 7–17, 1998–2002, multi, semi, 1949–2009, /zapisi, l.r.c.p, 2019–20, m.r, 1913–1974, 1472806871, dc, a$1.6, denominational, hada/, art;\"i, 1804–1856, doi:10.1136, u'uqinak'uuh, "
     ]
    }
   ],
   "source": [
    "spacy_only_vocab = spacy_vocabulary.difference(stanza_vocabulary)\n",
    "for w in spacy_only_vocab:\n",
    "    print(w, end=', ')"
   ]
  },
  {
   "cell_type": "markdown",
   "metadata": {},
   "source": [
    "In the Spacy-only tokens we can see a lot of numbers as well as non-english words (or non-words).\n",
    "\n",
    "However, surprisingly we can also see some more or less common English words:\n",
    "- Some words of relatively more formal register of English: `canonical`, `colonialism`, `denominational`, `editors`, `eminent`, `feudal`, `imperialism`, `instrumentalist`...\n",
    "- Some NE: `kishinev`, `kyoto`, `liechtenstein`, `vatican` (Locations), `suzuki` (Name or Organisation name), `unesco` (Organisation name)..."
   ]
  },
  {
   "cell_type": "markdown",
   "metadata": {},
   "source": [
    "### Stanza-only vocubulary"
   ]
  },
  {
   "cell_type": "code",
   "execution_count": 35,
   "metadata": {},
   "outputs": [
    {
     "name": "stdout",
     "output_type": "stream",
     "text": [
      "47, einstein's, fl., l.r.c.s., m.r.c.s., 978-605-09, ?., u', 9781931883702, anti-semitism, sun-baked, co-presenter, anti-german, p.j., دقت, ha-mishnayot, 호, –70, t.c., non-russian, e-book, –2011, –2008, iran-iraq, anti-soviet, –1830, b.w., f.r.c.p., co-editor, 84, neo-confucian, m.r.c.p., j.d., el-rufai, -3865, ¡mujeres, tom's, 1785, –1951, re-enactment, 978-3-8392-1500, thejournal, pjesme, 'a, школ., l.c., doi:10.1136/bmj.319.7216.1031, novo-dmitrievakain, 1-905237-53, 978-0-9592824-3-6., isl., u'uqinak, χρήστο, –kishinev, son's, obi-young, käkikoski's, m.d., –40, poem–, hada, 441, brassey's, pg., –17, anti-love, 1860, 313-323, ho's, -2005, uqiank, st., 978-605-111-401-9, –2, h.c., im, –1998, `the, pre-eminent, m.a., non-denominational, 't, 1744, son-, ed., –1564, nesanice, o-level, cc., -1980, –1928, p, ph.d., anti-semite, رفان, 975-293-255-x, 978-976-8097-13-2., n.s.w., co-edited, 978-1472806871, liechtenstein., 978-3-7349-9223-0, b.a., eck-verlag, –from, mid-century, i'm, co-heiress, 1798, –1974, –1956, zapisi, anti-vatican, –96, yonsei-, co-author, unesco's, ah., -1758, anc., –1900, 978-3-8392-1986-7, hamri's, 1766-1822, 978-3-8392-1978, u-turn, non-group, ruskin's, –1869, faingata, kei-kwan, pre-islamic, s.s., suzuki's, hindi-, 978-1134068708, anti-apartheid, 1810, –707, –6, u.k., 978-1476679488, otto-, u.s., coca-cola, 1882, serbo-croatian, semi-autobiographical, 975-293-040-9, mid-day, –1871, bi, 84.5, lansdowne., 1031, –1905, –1822, mitrei's, 978-3-205-78442-5, 978-1442252813, multi-instrumentalist, bakhshi's, 1868, i've, d.c., edit., ha-ner, 978-3-7349-9213-1, ب, –39, invasion`, asilah, devin-, 1923,1986, l.r.c.p., –2009, pro-government, 0-521-23833-1, /1951, pbs's, co-, kingdom–based, co-authored, c.e., gysin's, dr., non-anti-semitic, co-editors, yusuf's, bello's, .ie, prof., anti-imperialism, 978-3905881028, –2002, non-fiction, covid, 975-8084, `yellow, biografie., yal, non-canonical, 9695188., ––, d.l., fc., jr., mid-october, ع, april–june, 700, –1034, anti-colonialism, wisconsin-madison, vol., dc., re-reading, non-humorous, 월, chuch, kyoto's, ethno-, 39, multi-awardee, –1863, –1816, 978-0-9592824-2-9., bmj., urdu-, priče, shin's, –march, abc's, 'e, choe's, 978-0-9592824-1-2., esq., uuh, co-wrote, el-, [...], 1923-2011, 1689, m.r., anti-feudal, 1943-2012, re-election, pen-name, inst., ıkavak, ju-chan, ¿sueñan, 480, tambo's, anti-semitic, ς, e-, –37, chp., us`, wisconsin–madison, v.g., "
     ]
    }
   ],
   "source": [
    "stanza_only_vocab = stanza_vocabulary.difference(spacy_vocabulary)\n",
    "for w in stanza_only_vocab:\n",
    "    print(w, end=', ')"
   ]
  },
  {
   "cell_type": "markdown",
   "metadata": {},
   "source": [
    "We can see that Stanza tends tokenize words with prefixes like `co-`, `anti-`, `non-`, `neo-`... as one token, which explains the difference with Spacy on tokenization of words of relatively formal register.\n",
    "\n",
    "We can se can see that there is the same tendency towards composed words: `pen-name`, `kingdom-based`, `serbo-croatian`...\n",
    "\n",
    "As for Named Entities, there appears to be a lot of them tokenized together with `'s`: `yusuf's`, `unesco's`, `suzuki's`, `shin's`, `kyoto's`..."
   ]
  },
  {
   "cell_type": "markdown",
   "metadata": {},
   "source": [
    "## Occurences"
   ]
  },
  {
   "cell_type": "markdown",
   "metadata": {},
   "source": [
    "To calculate common accurances we will find all tokens produced by both models for a given string and will find tokens that have the same text for both Stanza and Spacy.\n",
    "\n",
    "For this we will work with raw token entities from Stanza and Spacy to preserve PoS information for the following experiment since PoS information might be changed if a token is taken out of its context."
   ]
  },
  {
   "cell_type": "markdown",
   "metadata": {},
   "source": [
    "### Occurences without sentence separation"
   ]
  },
  {
   "cell_type": "markdown",
   "metadata": {},
   "source": [
    "We will tokenize all stiched sentences together."
   ]
  },
  {
   "cell_type": "code",
   "execution_count": 36,
   "metadata": {},
   "outputs": [],
   "source": [
    "no_sent_spacy_tokens = spacy_tokenize_text(shared_sents_stiched, to_string=False, no_filtering=True)"
   ]
  },
  {
   "cell_type": "code",
   "execution_count": 37,
   "metadata": {},
   "outputs": [],
   "source": [
    "# To run for the first time Stanza tokenization:\n",
    "\"\"\" \n",
    "no_sent_stanza_tokens = stanza_tokenize_text(shared_sents_stiched, to_string=False)\n",
    "with open('SpacyStanza/no_sent_stanza_tokens.pickle', 'wb') as f:\n",
    "    pickle.dump(no_sent_stanza_tokens, f)\n",
    "\n",
    "\"\"\"\n",
    "\n",
    "# To load Stanza tokens from a pickle file\n",
    "with open('SpacyStanza/no_sent_stanza_tokens.pickle', 'rb') as f:\n",
    "    no_sent_stanza_tokens = pickle.load(f)"
   ]
  },
  {
   "cell_type": "code",
   "execution_count": 38,
   "metadata": {},
   "outputs": [],
   "source": [
    "common_t = common_tokens(no_sent_spacy_tokens, no_sent_stanza_tokens)"
   ]
  },
  {
   "cell_type": "markdown",
   "metadata": {},
   "source": [
    "Some token stats:"
   ]
  },
  {
   "cell_type": "code",
   "execution_count": 39,
   "metadata": {},
   "outputs": [
    {
     "name": "stdout",
     "output_type": "stream",
     "text": [
      "\n",
      "Spacy tokens: 48820\n",
      "Stanza tokens: 48502\n",
      "Shared tokens: 48070\n",
      "% of shared tokens in Spacy: 98.46%\n",
      "% of shared tokens in Stanza: 99.11%\n",
      "\n",
      "\n"
     ]
    }
   ],
   "source": [
    "print(f\"\"\"\n",
    "Spacy tokens: {len(no_sent_spacy_tokens)}\n",
    "Stanza tokens: {len(no_sent_stanza_tokens)}\n",
    "Shared tokens: {len(np.concatenate([x[1] for x in common_t]))}\n",
    "% of shared tokens in Spacy: {100*len(np.concatenate([x[1] for x in common_t]))/len(no_sent_spacy_tokens):.2f}%\n",
    "% of shared tokens in Stanza: {100*len(np.concatenate([x[1] for x in common_t]))/len(no_sent_stanza_tokens):.2f}%\n",
    "\n",
    "\"\"\"\n",
    ")"
   ]
  },
  {
   "cell_type": "markdown",
   "metadata": {},
   "source": [
    "We will store the results in a dictionary where the key is the word form and the value is another dictionary, storing all seen results for Spacy and Stanza separately."
   ]
  },
  {
   "cell_type": "code",
   "execution_count": 40,
   "metadata": {},
   "outputs": [],
   "source": [
    "no_sent_shared_tokens = {x[0][0].text: {'Spacy': x[0], 'Stanza': x[1]} for x in common_t}"
   ]
  },
  {
   "cell_type": "code",
   "execution_count": 41,
   "metadata": {},
   "outputs": [
    {
     "data": {
      "text/plain": [
       "{'Spacy': [record, record, record, record, record, record, record],\n",
       " 'Stanza': [[\n",
       "    {\n",
       "      \"id\": 39,\n",
       "      \"text\": \"record\",\n",
       "      \"upos\": \"NOUN\",\n",
       "      \"xpos\": \"NN\",\n",
       "      \"feats\": \"Number=Sing\",\n",
       "      \"start_char\": 13283,\n",
       "      \"end_char\": 13289\n",
       "    }\n",
       "  ],\n",
       "  [\n",
       "    {\n",
       "      \"id\": 17,\n",
       "      \"text\": \"record\",\n",
       "      \"upos\": \"NOUN\",\n",
       "      \"xpos\": \"NN\",\n",
       "      \"feats\": \"Number=Sing\",\n",
       "      \"start_char\": 27303,\n",
       "      \"end_char\": 27309\n",
       "    }\n",
       "  ],\n",
       "  [\n",
       "    {\n",
       "      \"id\": 23,\n",
       "      \"text\": \"record\",\n",
       "      \"upos\": \"NOUN\",\n",
       "      \"xpos\": \"NN\",\n",
       "      \"feats\": \"Number=Sing\",\n",
       "      \"start_char\": 95765,\n",
       "      \"end_char\": 95771\n",
       "    }\n",
       "  ],\n",
       "  [\n",
       "    {\n",
       "      \"id\": 22,\n",
       "      \"text\": \"record\",\n",
       "      \"upos\": \"NOUN\",\n",
       "      \"xpos\": \"NN\",\n",
       "      \"feats\": \"Number=Sing\",\n",
       "      \"start_char\": 117044,\n",
       "      \"end_char\": 117050\n",
       "    }\n",
       "  ],\n",
       "  [\n",
       "    {\n",
       "      \"id\": 12,\n",
       "      \"text\": \"record\",\n",
       "      \"upos\": \"VERB\",\n",
       "      \"xpos\": \"VB\",\n",
       "      \"feats\": \"VerbForm=Inf\",\n",
       "      \"start_char\": 159799,\n",
       "      \"end_char\": 159805\n",
       "    }\n",
       "  ],\n",
       "  [\n",
       "    {\n",
       "      \"id\": 13,\n",
       "      \"text\": \"record\",\n",
       "      \"upos\": \"VERB\",\n",
       "      \"xpos\": \"VB\",\n",
       "      \"feats\": \"VerbForm=Inf\",\n",
       "      \"start_char\": 163094,\n",
       "      \"end_char\": 163100\n",
       "    }\n",
       "  ],\n",
       "  [\n",
       "    {\n",
       "      \"id\": 6,\n",
       "      \"text\": \"record\",\n",
       "      \"upos\": \"NOUN\",\n",
       "      \"xpos\": \"NN\",\n",
       "      \"feats\": \"Number=Sing\",\n",
       "      \"start_char\": 214572,\n",
       "      \"end_char\": 214578\n",
       "    }\n",
       "  ]]}"
      ]
     },
     "execution_count": 41,
     "metadata": {},
     "output_type": "execute_result"
    }
   ],
   "source": [
    "no_sent_shared_tokens['record']"
   ]
  },
  {
   "cell_type": "markdown",
   "metadata": {},
   "source": [
    "### Occurences with segmented sentences"
   ]
  },
  {
   "cell_type": "markdown",
   "metadata": {},
   "source": [
    "Now we repeat the experiment but for the separated sentences above:"
   ]
  },
  {
   "cell_type": "code",
   "execution_count": 42,
   "metadata": {},
   "outputs": [],
   "source": [
    "# Uncomment this cell if you didn't run the cells above:\n",
    "\n",
    "# shared_sents_df = pd.read_csv('SpacyStanza/spacy_stanza_shared_sents.csv')\n",
    "# shared_sents_lower = [s.lower() for s in shared_sents_df.Sentence]"
   ]
  },
  {
   "cell_type": "code",
   "execution_count": 43,
   "metadata": {},
   "outputs": [],
   "source": [
    "sp_sent_tokens = list(map(lambda x: spacy_tokenize_text(x, no_filtering=True, to_string=False), shared_sents_lower))"
   ]
  },
  {
   "cell_type": "code",
   "execution_count": 44,
   "metadata": {},
   "outputs": [],
   "source": [
    "# To run for the first time Stanza tokenization:\n",
    "\"\"\" \n",
    "st_sent_tokens = list(map(lambda x: stanza_tokenize_text(x, to_string=False), shared_sents_lower))\n",
    "with open('SpacyStanza/st_sent_tockens.pickle', 'wb') as f:\n",
    "    pickle.dump(st_sent_tokens, f)\n",
    "\n",
    "\"\"\"\n",
    "\n",
    "# To load Stanza tokens from a pickle file\n",
    "\n",
    "with open('SpacyStanza/st_sent_tockens.pickle', 'rb') as f:\n",
    "    st_sent_tokens = pickle.load(f)"
   ]
  },
  {
   "cell_type": "code",
   "execution_count": 45,
   "metadata": {},
   "outputs": [],
   "source": [
    "common_sent_tokens = list(map(lambda x: common_tokens(x[0], x[1]), zip(sp_sent_tokens, st_sent_tokens)))"
   ]
  },
  {
   "cell_type": "code",
   "execution_count": 46,
   "metadata": {},
   "outputs": [],
   "source": [
    "sent_tokens_df = pd.DataFrame(columns=['Spacy_token_count', \n",
    "                                       'Stanza_token_count', \n",
    "                                       'Shared_token_count', \n",
    "                                       'Spacy_shared_percentage',\n",
    "                                      'Stanza_shared_percentage'])"
   ]
  },
  {
   "cell_type": "code",
   "execution_count": 47,
   "metadata": {},
   "outputs": [
    {
     "data": {
      "text/html": [
       "<div>\n",
       "<style scoped>\n",
       "    .dataframe tbody tr th:only-of-type {\n",
       "        vertical-align: middle;\n",
       "    }\n",
       "\n",
       "    .dataframe tbody tr th {\n",
       "        vertical-align: top;\n",
       "    }\n",
       "\n",
       "    .dataframe thead th {\n",
       "        text-align: right;\n",
       "    }\n",
       "</style>\n",
       "<table border=\"1\" class=\"dataframe\">\n",
       "  <thead>\n",
       "    <tr style=\"text-align: right;\">\n",
       "      <th></th>\n",
       "      <th>Spacy_token_count</th>\n",
       "      <th>Stanza_token_count</th>\n",
       "      <th>Shared_token_count</th>\n",
       "      <th>Spacy_shared_percentage</th>\n",
       "      <th>Stanza_shared_percentage</th>\n",
       "    </tr>\n",
       "  </thead>\n",
       "  <tbody>\n",
       "    <tr>\n",
       "      <th>0</th>\n",
       "      <td>50</td>\n",
       "      <td>50</td>\n",
       "      <td>42</td>\n",
       "      <td>84.000000</td>\n",
       "      <td>84.000000</td>\n",
       "    </tr>\n",
       "    <tr>\n",
       "      <th>1</th>\n",
       "      <td>14</td>\n",
       "      <td>5</td>\n",
       "      <td>4</td>\n",
       "      <td>28.571429</td>\n",
       "      <td>80.000000</td>\n",
       "    </tr>\n",
       "    <tr>\n",
       "      <th>2</th>\n",
       "      <td>8</td>\n",
       "      <td>8</td>\n",
       "      <td>8</td>\n",
       "      <td>100.000000</td>\n",
       "      <td>100.000000</td>\n",
       "    </tr>\n",
       "    <tr>\n",
       "      <th>3</th>\n",
       "      <td>25</td>\n",
       "      <td>27</td>\n",
       "      <td>21</td>\n",
       "      <td>84.000000</td>\n",
       "      <td>77.777778</td>\n",
       "    </tr>\n",
       "    <tr>\n",
       "      <th>4</th>\n",
       "      <td>10</td>\n",
       "      <td>9</td>\n",
       "      <td>6</td>\n",
       "      <td>60.000000</td>\n",
       "      <td>66.666667</td>\n",
       "    </tr>\n",
       "    <tr>\n",
       "      <th>...</th>\n",
       "      <td>...</td>\n",
       "      <td>...</td>\n",
       "      <td>...</td>\n",
       "      <td>...</td>\n",
       "      <td>...</td>\n",
       "    </tr>\n",
       "    <tr>\n",
       "      <th>2258</th>\n",
       "      <td>32</td>\n",
       "      <td>32</td>\n",
       "      <td>29</td>\n",
       "      <td>90.625000</td>\n",
       "      <td>90.625000</td>\n",
       "    </tr>\n",
       "    <tr>\n",
       "      <th>2259</th>\n",
       "      <td>16</td>\n",
       "      <td>16</td>\n",
       "      <td>14</td>\n",
       "      <td>87.500000</td>\n",
       "      <td>87.500000</td>\n",
       "    </tr>\n",
       "    <tr>\n",
       "      <th>2260</th>\n",
       "      <td>23</td>\n",
       "      <td>23</td>\n",
       "      <td>20</td>\n",
       "      <td>86.956522</td>\n",
       "      <td>86.956522</td>\n",
       "    </tr>\n",
       "    <tr>\n",
       "      <th>2261</th>\n",
       "      <td>15</td>\n",
       "      <td>15</td>\n",
       "      <td>14</td>\n",
       "      <td>93.333333</td>\n",
       "      <td>93.333333</td>\n",
       "    </tr>\n",
       "    <tr>\n",
       "      <th>2262</th>\n",
       "      <td>5</td>\n",
       "      <td>5</td>\n",
       "      <td>5</td>\n",
       "      <td>100.000000</td>\n",
       "      <td>100.000000</td>\n",
       "    </tr>\n",
       "  </tbody>\n",
       "</table>\n",
       "<p>2263 rows × 5 columns</p>\n",
       "</div>"
      ],
      "text/plain": [
       "      Spacy_token_count  Stanza_token_count  Shared_token_count  \\\n",
       "0                    50                  50                  42   \n",
       "1                    14                   5                   4   \n",
       "2                     8                   8                   8   \n",
       "3                    25                  27                  21   \n",
       "4                    10                   9                   6   \n",
       "...                 ...                 ...                 ...   \n",
       "2258                 32                  32                  29   \n",
       "2259                 16                  16                  14   \n",
       "2260                 23                  23                  20   \n",
       "2261                 15                  15                  14   \n",
       "2262                  5                   5                   5   \n",
       "\n",
       "      Spacy_shared_percentage  Stanza_shared_percentage  \n",
       "0                   84.000000                 84.000000  \n",
       "1                   28.571429                 80.000000  \n",
       "2                  100.000000                100.000000  \n",
       "3                   84.000000                 77.777778  \n",
       "4                   60.000000                 66.666667  \n",
       "...                       ...                       ...  \n",
       "2258                90.625000                 90.625000  \n",
       "2259                87.500000                 87.500000  \n",
       "2260                86.956522                 86.956522  \n",
       "2261                93.333333                 93.333333  \n",
       "2262               100.000000                100.000000  \n",
       "\n",
       "[2263 rows x 5 columns]"
      ]
     },
     "execution_count": 47,
     "metadata": {},
     "output_type": "execute_result"
    }
   ],
   "source": [
    "sent_tokens_df.Spacy_token_count = list(map(len, sp_sent_tokens))\n",
    "sent_tokens_df.Stanza_token_count = list(map(len, st_sent_tokens))\n",
    "sent_tokens_df.Shared_token_count = list(map(len, common_sent_tokens))\n",
    "sent_tokens_df.Spacy_shared_percentage = 100 * sent_tokens_df.Shared_token_count / sent_tokens_df.Spacy_token_count \n",
    "sent_tokens_df.Stanza_shared_percentage = 100 * sent_tokens_df.Shared_token_count / sent_tokens_df.Stanza_token_count \n",
    "\n",
    "sent_tokens_df"
   ]
  },
  {
   "cell_type": "markdown",
   "metadata": {},
   "source": [
    "Below are average stats for tokens (how many tokens in a sentence are on average provided by Spacy, how many by Stanza, how many are shared etc.):"
   ]
  },
  {
   "cell_type": "code",
   "execution_count": 48,
   "metadata": {},
   "outputs": [
    {
     "data": {
      "text/plain": [
       "Spacy_token_count     21.573133\n",
       "Stanza_token_count    21.438356\n",
       "Shared_token_count    18.313301\n",
       "dtype: float64"
      ]
     },
     "execution_count": 48,
     "metadata": {},
     "output_type": "execute_result"
    }
   ],
   "source": [
    "sent_tokens_df[['Spacy_token_count', 'Stanza_token_count', 'Shared_token_count']].mean()"
   ]
  },
  {
   "cell_type": "markdown",
   "metadata": {},
   "source": [
    "Total number of shared tokens across all sentences:"
   ]
  },
  {
   "cell_type": "code",
   "execution_count": 49,
   "metadata": {},
   "outputs": [
    {
     "name": "stdout",
     "output_type": "stream",
     "text": [
      "\n",
      "Total Spacy tokens: 48820\n",
      "Total Stanza tokens: 48515\n",
      "Total shared tokens: 41443\n",
      "\n",
      "Spacy shared tokens %: 84.88938959442851\n",
      "Stanza shared tokens %: 85.42306503143358\n",
      "\n"
     ]
    }
   ],
   "source": [
    "print(f\"\"\"\n",
    "Total Spacy tokens: {sent_tokens_df.Spacy_token_count.sum()}\n",
    "Total Stanza tokens: {sent_tokens_df.Stanza_token_count.sum()}\n",
    "Total shared tokens: {sent_tokens_df.Shared_token_count.sum()}\n",
    "\n",
    "Spacy shared tokens %: {sent_tokens_df.Shared_token_count.sum() * 100 /sent_tokens_df.Spacy_token_count.sum()}\n",
    "Stanza shared tokens %: {sent_tokens_df.Shared_token_count.sum() * 100 /sent_tokens_df.Stanza_token_count.sum()}\n",
    "\"\"\")"
   ]
  },
  {
   "cell_type": "markdown",
   "metadata": {},
   "source": [
    "We have less aligned tokens now, meaning that in the experiment above we might have matched tokens from different sentences."
   ]
  },
  {
   "cell_type": "markdown",
   "metadata": {},
   "source": [
    "We will combine all the shared tokens from our sentences into one dictionary of the same structure as above: the keys are wordforms, the values are dictionaries containing arrays of all of the occurences of the wordforms.\n",
    "\n",
    "Since for PoS analysis for Stanza requires words instead of tokens, we will convert the conversion as well."
   ]
  },
  {
   "cell_type": "code",
   "execution_count": 157,
   "metadata": {},
   "outputs": [],
   "source": [
    "shared_sent_tokens = {}\n",
    "\n",
    "for sent in common_sent_tokens:\n",
    "    for word in sent:\n",
    "        word_text = word[0][0].text\n",
    "\n",
    "        if word_text not in shared_sent_tokens.keys():\n",
    "            shared_sent_tokens[word_text] = {}\n",
    "            shared_sent_tokens[word_text]['Spacy'] = []\n",
    "            shared_sent_tokens[word_text]['Stanza'] = []\n",
    "        \n",
    "        shared_sent_tokens[word_text]['Spacy'].append(word[0][0])\n",
    "        # Before extending the list convert tokens to words\n",
    "        shared_sent_tokens[word_text]['Stanza'].append(list(map(lambda x: x.words[0], word[1]))[0])\n"
   ]
  },
  {
   "cell_type": "markdown",
   "metadata": {},
   "source": [
    "Below is an example of how the dictionary will work on an example of one word `chief`.\n",
    "\n",
    "`shared_sent_tokens['chief']['Spacy']` can be called to get all Spacy tokens and similarly `shared_sent_tokens['chief']['Stanza']` can be called to get all Stanza tokens.\n",
    "\n",
    "In this example we can see that this word was sometimes categorized as Noun and sometimes as Adjective."
   ]
  },
  {
   "cell_type": "markdown",
   "metadata": {},
   "source": [
    "How PoS can be accessed for Spacy:"
   ]
  },
  {
   "cell_type": "code",
   "execution_count": 58,
   "metadata": {},
   "outputs": [
    {
     "data": {
      "text/plain": [
       "(chief, 'ADJ')"
      ]
     },
     "execution_count": 58,
     "metadata": {},
     "output_type": "execute_result"
    }
   ],
   "source": [
    "shared_sent_tokens['chief']['Spacy'][0], shared_sent_tokens['chief']['Spacy'][0].pos_"
   ]
  },
  {
   "cell_type": "markdown",
   "metadata": {},
   "source": [
    "How PoS can be accessed for Stanza:"
   ]
  },
  {
   "cell_type": "code",
   "execution_count": 59,
   "metadata": {},
   "outputs": [
    {
     "data": {
      "text/plain": [
       "({\n",
       "   \"id\": 5,\n",
       "   \"text\": \"chief\",\n",
       "   \"upos\": \"ADJ\",\n",
       "   \"xpos\": \"JJ\",\n",
       "   \"feats\": \"Degree=Pos\",\n",
       "   \"start_char\": 20,\n",
       "   \"end_char\": 25\n",
       " },\n",
       " 'ADJ')"
      ]
     },
     "execution_count": 59,
     "metadata": {},
     "output_type": "execute_result"
    }
   ],
   "source": [
    "shared_sent_tokens['chief']['Stanza'][0], shared_sent_tokens['chief']['Stanza'][0].upos"
   ]
  },
  {
   "cell_type": "markdown",
   "metadata": {},
   "source": [
    "_________\n",
    "**A helper function that would return all Spacy or Stanza UPOS by a wordform:**"
   ]
  },
  {
   "cell_type": "code",
   "execution_count": 138,
   "metadata": {},
   "outputs": [],
   "source": [
    "def get_pos(wordform, library):\n",
    "    if library == 'Spacy':\n",
    "        return np.array([x.pos_ for x in shared_sent_tokens[wordform][library]])\n",
    "    elif library == 'Stanza':\n",
    "        return np.array([x.upos for x in shared_sent_tokens[wordform][library]])\n",
    "    else:\n",
    "        raise Exception('The supported library values are: Spacy, Stanza')"
   ]
  },
  {
   "cell_type": "code",
   "execution_count": 139,
   "metadata": {},
   "outputs": [],
   "source": [
    "def get_occurence_count(wordform):\n",
    "    return len(shared_sent_tokens[wordform]['Spacy'])"
   ]
  },
  {
   "cell_type": "markdown",
   "metadata": {},
   "source": [
    "# Part of Speech"
   ]
  },
  {
   "cell_type": "markdown",
   "metadata": {},
   "source": [
    "In this section we will compare how Spacy and Stanza generate PoS information.\n",
    "\n",
    "For this we will re-use the `shared_sent_tokens` (all the tokens of the same text from shared sentences that were generated by both Spacy and Stanza)."
   ]
  },
  {
   "cell_type": "markdown",
   "metadata": {},
   "source": [
    "## Token stats"
   ]
  },
  {
   "cell_type": "markdown",
   "metadata": {},
   "source": [
    "First, we can calculate the number of times Spacy and Stanza agree on a token PoS for each token.\n",
    "The tokens in `shared_sent_tokens` are grouped by the wordform, we will keep the same grouping for the DF:"
   ]
  },
  {
   "cell_type": "code",
   "execution_count": 159,
   "metadata": {},
   "outputs": [],
   "source": [
    "# The dataframe has total number of occurrencies of a wordform in \"Number_occurencies\" column.\n",
    "# Spacy tags and Stanza tags list of UPOS tags for the occurencies. Length of these arrays should be equal to \n",
    "# \"Number_occurencies\".\n",
    "# Same is the column that would represent the number of times Spacy and Stanza agree on a POS tag for an occurence.\n",
    "\n",
    "pos_df = pd.DataFrame(columns=['Word', 'Number_occurencies', 'Spacy_tags', 'Stanza_tags', 'Same'])"
   ]
  },
  {
   "cell_type": "code",
   "execution_count": 160,
   "metadata": {},
   "outputs": [],
   "source": [
    "# Get all the wordforms from the dictionary above\n",
    "pos_df.Word = shared_sent_tokens.keys()"
   ]
  },
  {
   "cell_type": "code",
   "execution_count": 161,
   "metadata": {},
   "outputs": [],
   "source": [
    "# Get the occurencies count\n",
    "pos_df.Number_occurencies = pos_df.Word.apply(lambda x: get_occurence_count(x))"
   ]
  },
  {
   "cell_type": "code",
   "execution_count": 162,
   "metadata": {},
   "outputs": [],
   "source": [
    "# Get spacy and stanza POS tags\n",
    "\n",
    "pos_df.Spacy_tags = pos_df.Word.apply(lambda x: get_pos(x, 'Spacy'))\n",
    "pos_df.Stanza_tags = pos_df.Word.apply(lambda x: get_pos(x, 'Stanza'))"
   ]
  },
  {
   "cell_type": "code",
   "execution_count": 163,
   "metadata": {},
   "outputs": [],
   "source": [
    "# Number of times an element of Spacy tags array is the same as Stanza tags for each wordform\n",
    "pos_df.Same = list(map(lambda x: sum(x[0] == x[1]), zip(pos_df.Spacy_tags, pos_df.Stanza_tags)))"
   ]
  },
  {
   "cell_type": "code",
   "execution_count": 176,
   "metadata": {},
   "outputs": [
    {
     "data": {
      "text/html": [
       "<div>\n",
       "<style scoped>\n",
       "    .dataframe tbody tr th:only-of-type {\n",
       "        vertical-align: middle;\n",
       "    }\n",
       "\n",
       "    .dataframe tbody tr th {\n",
       "        vertical-align: top;\n",
       "    }\n",
       "\n",
       "    .dataframe thead th {\n",
       "        text-align: right;\n",
       "    }\n",
       "</style>\n",
       "<table border=\"1\" class=\"dataframe\">\n",
       "  <thead>\n",
       "    <tr style=\"text-align: right;\">\n",
       "      <th></th>\n",
       "      <th>Number_occurencies</th>\n",
       "      <th>Spacy_tags</th>\n",
       "      <th>Stanza_tags</th>\n",
       "      <th>Same</th>\n",
       "    </tr>\n",
       "    <tr>\n",
       "      <th>Word</th>\n",
       "      <th></th>\n",
       "      <th></th>\n",
       "      <th></th>\n",
       "      <th></th>\n",
       "    </tr>\n",
       "  </thead>\n",
       "  <tbody>\n",
       "    <tr>\n",
       "      <th>bertouch</th>\n",
       "      <td>14</td>\n",
       "      <td>[PROPN, PROPN, PROPN, ADJ, PROPN, PROPN, PROPN...</td>\n",
       "      <td>[PROPN, PROPN, PROPN, NOUN, PROPN, PROPN, PROP...</td>\n",
       "      <td>10</td>\n",
       "    </tr>\n",
       "    <tr>\n",
       "      <th>,</th>\n",
       "      <td>1348</td>\n",
       "      <td>[PUNCT, PUNCT, PUNCT, PUNCT, PUNCT, PUNCT, PUN...</td>\n",
       "      <td>[PUNCT, PUNCT, PUNCT, PUNCT, PUNCT, PUNCT, PUN...</td>\n",
       "      <td>1347</td>\n",
       "    </tr>\n",
       "    <tr>\n",
       "      <th>be</th>\n",
       "      <td>33</td>\n",
       "      <td>[AUX, AUX, AUX, AUX, AUX, AUX, AUX, AUX, AUX, ...</td>\n",
       "      <td>[AUX, AUX, AUX, AUX, AUX, AUX, AUX, AUX, AUX, ...</td>\n",
       "      <td>33</td>\n",
       "    </tr>\n",
       "    <tr>\n",
       "      <th>june</th>\n",
       "      <td>24</td>\n",
       "      <td>[PROPN, PROPN, PROPN, PROPN, PROPN, VERB, PROP...</td>\n",
       "      <td>[NOUN, PROPN, PROPN, NOUN, X, PROPN, PROPN, PR...</td>\n",
       "      <td>18</td>\n",
       "    </tr>\n",
       "    <tr>\n",
       "      <th>in</th>\n",
       "      <td>1076</td>\n",
       "      <td>[ADP, ADP, ADP, ADP, ADP, ADP, ADP, ADP, ADP, ...</td>\n",
       "      <td>[ADP, ADP, ADP, ADP, ADP, ADP, ADP, ADP, ADP, ...</td>\n",
       "      <td>1052</td>\n",
       "    </tr>\n",
       "    <tr>\n",
       "      <th>...</th>\n",
       "      <td>...</td>\n",
       "      <td>...</td>\n",
       "      <td>...</td>\n",
       "      <td>...</td>\n",
       "    </tr>\n",
       "    <tr>\n",
       "      <th>simueang</th>\n",
       "      <td>1</td>\n",
       "      <td>[PROPN]</td>\n",
       "      <td>[X]</td>\n",
       "      <td>0</td>\n",
       "    </tr>\n",
       "    <tr>\n",
       "      <th>songwriting</th>\n",
       "      <td>1</td>\n",
       "      <td>[VERB]</td>\n",
       "      <td>[NOUN]</td>\n",
       "      <td>0</td>\n",
       "    </tr>\n",
       "    <tr>\n",
       "      <th>stopped</th>\n",
       "      <td>1</td>\n",
       "      <td>[VERB]</td>\n",
       "      <td>[VERB]</td>\n",
       "      <td>1</td>\n",
       "    </tr>\n",
       "    <tr>\n",
       "      <th>eleven</th>\n",
       "      <td>1</td>\n",
       "      <td>[NUM]</td>\n",
       "      <td>[NUM]</td>\n",
       "      <td>1</td>\n",
       "    </tr>\n",
       "    <tr>\n",
       "      <th>siblings</th>\n",
       "      <td>1</td>\n",
       "      <td>[NOUN]</td>\n",
       "      <td>[NOUN]</td>\n",
       "      <td>1</td>\n",
       "    </tr>\n",
       "  </tbody>\n",
       "</table>\n",
       "<p>8278 rows × 4 columns</p>\n",
       "</div>"
      ],
      "text/plain": [
       "             Number_occurencies  \\\n",
       "Word                              \n",
       "bertouch                     14   \n",
       ",                          1348   \n",
       "be                           33   \n",
       "june                         24   \n",
       "in                         1076   \n",
       "...                         ...   \n",
       "simueang                      1   \n",
       "songwriting                   1   \n",
       "stopped                       1   \n",
       "eleven                        1   \n",
       "siblings                      1   \n",
       "\n",
       "                                                    Spacy_tags  \\\n",
       "Word                                                             \n",
       "bertouch     [PROPN, PROPN, PROPN, ADJ, PROPN, PROPN, PROPN...   \n",
       ",            [PUNCT, PUNCT, PUNCT, PUNCT, PUNCT, PUNCT, PUN...   \n",
       "be           [AUX, AUX, AUX, AUX, AUX, AUX, AUX, AUX, AUX, ...   \n",
       "june         [PROPN, PROPN, PROPN, PROPN, PROPN, VERB, PROP...   \n",
       "in           [ADP, ADP, ADP, ADP, ADP, ADP, ADP, ADP, ADP, ...   \n",
       "...                                                        ...   \n",
       "simueang                                               [PROPN]   \n",
       "songwriting                                             [VERB]   \n",
       "stopped                                                 [VERB]   \n",
       "eleven                                                   [NUM]   \n",
       "siblings                                                [NOUN]   \n",
       "\n",
       "                                                   Stanza_tags  Same  \n",
       "Word                                                                  \n",
       "bertouch     [PROPN, PROPN, PROPN, NOUN, PROPN, PROPN, PROP...    10  \n",
       ",            [PUNCT, PUNCT, PUNCT, PUNCT, PUNCT, PUNCT, PUN...  1347  \n",
       "be           [AUX, AUX, AUX, AUX, AUX, AUX, AUX, AUX, AUX, ...    33  \n",
       "june         [NOUN, PROPN, PROPN, NOUN, X, PROPN, PROPN, PR...    18  \n",
       "in           [ADP, ADP, ADP, ADP, ADP, ADP, ADP, ADP, ADP, ...  1052  \n",
       "...                                                        ...   ...  \n",
       "simueang                                                   [X]     0  \n",
       "songwriting                                             [NOUN]     0  \n",
       "stopped                                                 [VERB]     1  \n",
       "eleven                                                   [NUM]     1  \n",
       "siblings                                                [NOUN]     1  \n",
       "\n",
       "[8278 rows x 4 columns]"
      ]
     },
     "execution_count": 176,
     "metadata": {},
     "output_type": "execute_result"
    }
   ],
   "source": [
    "pos_df = pos_df.set_index('Word')\n",
    "pos_df"
   ]
  },
  {
   "cell_type": "code",
   "execution_count": 165,
   "metadata": {},
   "outputs": [
    {
     "name": "stdout",
     "output_type": "stream",
     "text": [
      "\n",
      "All shared tokens: 41443\n",
      "Total tokens with shared PoS: 36713\n",
      "Percentage of tokens with shared PoS: 88.58673358588905\n",
      "\n"
     ]
    }
   ],
   "source": [
    "print(f\"\"\"\n",
    "All shared tokens: {pos_df.Number_occurencies.sum()}\n",
    "Total tokens with shared PoS: {pos_df.Same.sum()}\n",
    "Percentage of tokens with shared PoS: {pos_df.Same.sum()*100/pos_df.Number_occurencies.sum()}\n",
    "\"\"\")"
   ]
  },
  {
   "cell_type": "markdown",
   "metadata": {},
   "source": [
    "## PoS stats"
   ]
  },
  {
   "cell_type": "markdown",
   "metadata": {},
   "source": [
    "Now we can compare the PoS tags: how frequently a Spacy NOUN is marked as NOUN or other UPOS by Stanza and so on."
   ]
  },
  {
   "cell_type": "markdown",
   "metadata": {},
   "source": [
    "For this, first we need to find all unique Spacy and Stanza PoS tags across our tokens."
   ]
  },
  {
   "cell_type": "code",
   "execution_count": 231,
   "metadata": {},
   "outputs": [],
   "source": [
    "unique_spacy_pos = sorted(list(set(np.concatenate(pos_df.Spacy_tags))))\n",
    "unique_stanza_pos = sorted(list(set(np.concatenate(pos_df.Stanza_tags))))"
   ]
  },
  {
   "cell_type": "markdown",
   "metadata": {},
   "source": [
    "We can see that all the tags that libraries recognize are the same:"
   ]
  },
  {
   "cell_type": "code",
   "execution_count": 232,
   "metadata": {},
   "outputs": [],
   "source": [
    "upos_df = pd.DataFrame(columns=unique_spacy_pos, index=unique_stanza_pos)\n",
    "\n",
    "upos_df = upos_df.fillna(0)"
   ]
  },
  {
   "cell_type": "code",
   "execution_count": 233,
   "metadata": {},
   "outputs": [],
   "source": [
    "for w in pos_df.index:\n",
    "    for i in range(pos_df.loc[w].Number_occurencies):\n",
    "        w_spacy_tag = pos_df.loc[w].Spacy_tags[i]\n",
    "        w_stanza_tag = pos_df.loc[w].Stanza_tags[i]\n",
    "        upos_df.loc[w_stanza_tag, w_spacy_tag] += 1"
   ]
  },
  {
   "cell_type": "code",
   "execution_count": 234,
   "metadata": {},
   "outputs": [
    {
     "data": {
      "text/html": [
       "<div>\n",
       "<style scoped>\n",
       "    .dataframe tbody tr th:only-of-type {\n",
       "        vertical-align: middle;\n",
       "    }\n",
       "\n",
       "    .dataframe tbody tr th {\n",
       "        vertical-align: top;\n",
       "    }\n",
       "\n",
       "    .dataframe thead th {\n",
       "        text-align: right;\n",
       "    }\n",
       "</style>\n",
       "<table border=\"1\" class=\"dataframe\">\n",
       "  <thead>\n",
       "    <tr style=\"text-align: right;\">\n",
       "      <th></th>\n",
       "      <th>ADJ</th>\n",
       "      <th>ADP</th>\n",
       "      <th>ADV</th>\n",
       "      <th>AUX</th>\n",
       "      <th>CCONJ</th>\n",
       "      <th>DET</th>\n",
       "      <th>INTJ</th>\n",
       "      <th>NOUN</th>\n",
       "      <th>NUM</th>\n",
       "      <th>PART</th>\n",
       "      <th>PRON</th>\n",
       "      <th>PROPN</th>\n",
       "      <th>PUNCT</th>\n",
       "      <th>SCONJ</th>\n",
       "      <th>SPACE</th>\n",
       "      <th>SYM</th>\n",
       "      <th>VERB</th>\n",
       "      <th>X</th>\n",
       "    </tr>\n",
       "  </thead>\n",
       "  <tbody>\n",
       "    <tr>\n",
       "      <th>ADJ</th>\n",
       "      <td>2645</td>\n",
       "      <td>0</td>\n",
       "      <td>23</td>\n",
       "      <td>0</td>\n",
       "      <td>0</td>\n",
       "      <td>2</td>\n",
       "      <td>0</td>\n",
       "      <td>95</td>\n",
       "      <td>3</td>\n",
       "      <td>0</td>\n",
       "      <td>0</td>\n",
       "      <td>213</td>\n",
       "      <td>0</td>\n",
       "      <td>0</td>\n",
       "      <td>0</td>\n",
       "      <td>0</td>\n",
       "      <td>40</td>\n",
       "      <td>0</td>\n",
       "    </tr>\n",
       "    <tr>\n",
       "      <th>ADP</th>\n",
       "      <td>1</td>\n",
       "      <td>4617</td>\n",
       "      <td>6</td>\n",
       "      <td>0</td>\n",
       "      <td>0</td>\n",
       "      <td>0</td>\n",
       "      <td>1</td>\n",
       "      <td>0</td>\n",
       "      <td>0</td>\n",
       "      <td>26</td>\n",
       "      <td>0</td>\n",
       "      <td>2</td>\n",
       "      <td>0</td>\n",
       "      <td>46</td>\n",
       "      <td>0</td>\n",
       "      <td>0</td>\n",
       "      <td>0</td>\n",
       "      <td>0</td>\n",
       "    </tr>\n",
       "    <tr>\n",
       "      <th>ADV</th>\n",
       "      <td>7</td>\n",
       "      <td>22</td>\n",
       "      <td>804</td>\n",
       "      <td>0</td>\n",
       "      <td>1</td>\n",
       "      <td>0</td>\n",
       "      <td>0</td>\n",
       "      <td>4</td>\n",
       "      <td>0</td>\n",
       "      <td>0</td>\n",
       "      <td>3</td>\n",
       "      <td>7</td>\n",
       "      <td>0</td>\n",
       "      <td>124</td>\n",
       "      <td>0</td>\n",
       "      <td>0</td>\n",
       "      <td>1</td>\n",
       "      <td>0</td>\n",
       "    </tr>\n",
       "    <tr>\n",
       "      <th>AUX</th>\n",
       "      <td>0</td>\n",
       "      <td>0</td>\n",
       "      <td>0</td>\n",
       "      <td>1209</td>\n",
       "      <td>0</td>\n",
       "      <td>0</td>\n",
       "      <td>0</td>\n",
       "      <td>1</td>\n",
       "      <td>0</td>\n",
       "      <td>0</td>\n",
       "      <td>0</td>\n",
       "      <td>4</td>\n",
       "      <td>0</td>\n",
       "      <td>0</td>\n",
       "      <td>0</td>\n",
       "      <td>0</td>\n",
       "      <td>3</td>\n",
       "      <td>0</td>\n",
       "    </tr>\n",
       "    <tr>\n",
       "      <th>CCONJ</th>\n",
       "      <td>0</td>\n",
       "      <td>0</td>\n",
       "      <td>0</td>\n",
       "      <td>0</td>\n",
       "      <td>1076</td>\n",
       "      <td>6</td>\n",
       "      <td>0</td>\n",
       "      <td>0</td>\n",
       "      <td>0</td>\n",
       "      <td>0</td>\n",
       "      <td>6</td>\n",
       "      <td>0</td>\n",
       "      <td>0</td>\n",
       "      <td>0</td>\n",
       "      <td>0</td>\n",
       "      <td>0</td>\n",
       "      <td>0</td>\n",
       "      <td>0</td>\n",
       "    </tr>\n",
       "    <tr>\n",
       "      <th>DET</th>\n",
       "      <td>0</td>\n",
       "      <td>0</td>\n",
       "      <td>0</td>\n",
       "      <td>0</td>\n",
       "      <td>0</td>\n",
       "      <td>2255</td>\n",
       "      <td>1</td>\n",
       "      <td>0</td>\n",
       "      <td>0</td>\n",
       "      <td>0</td>\n",
       "      <td>28</td>\n",
       "      <td>0</td>\n",
       "      <td>0</td>\n",
       "      <td>0</td>\n",
       "      <td>0</td>\n",
       "      <td>0</td>\n",
       "      <td>0</td>\n",
       "      <td>0</td>\n",
       "    </tr>\n",
       "    <tr>\n",
       "      <th>INTJ</th>\n",
       "      <td>2</td>\n",
       "      <td>0</td>\n",
       "      <td>0</td>\n",
       "      <td>0</td>\n",
       "      <td>0</td>\n",
       "      <td>2</td>\n",
       "      <td>1</td>\n",
       "      <td>3</td>\n",
       "      <td>0</td>\n",
       "      <td>0</td>\n",
       "      <td>0</td>\n",
       "      <td>3</td>\n",
       "      <td>0</td>\n",
       "      <td>0</td>\n",
       "      <td>0</td>\n",
       "      <td>0</td>\n",
       "      <td>0</td>\n",
       "      <td>0</td>\n",
       "    </tr>\n",
       "    <tr>\n",
       "      <th>NOUN</th>\n",
       "      <td>148</td>\n",
       "      <td>0</td>\n",
       "      <td>22</td>\n",
       "      <td>1</td>\n",
       "      <td>0</td>\n",
       "      <td>0</td>\n",
       "      <td>2</td>\n",
       "      <td>8286</td>\n",
       "      <td>10</td>\n",
       "      <td>0</td>\n",
       "      <td>1</td>\n",
       "      <td>1179</td>\n",
       "      <td>0</td>\n",
       "      <td>0</td>\n",
       "      <td>0</td>\n",
       "      <td>0</td>\n",
       "      <td>96</td>\n",
       "      <td>3</td>\n",
       "    </tr>\n",
       "    <tr>\n",
       "      <th>NUM</th>\n",
       "      <td>1</td>\n",
       "      <td>0</td>\n",
       "      <td>0</td>\n",
       "      <td>0</td>\n",
       "      <td>0</td>\n",
       "      <td>0</td>\n",
       "      <td>1</td>\n",
       "      <td>4</td>\n",
       "      <td>1853</td>\n",
       "      <td>0</td>\n",
       "      <td>0</td>\n",
       "      <td>10</td>\n",
       "      <td>0</td>\n",
       "      <td>0</td>\n",
       "      <td>0</td>\n",
       "      <td>0</td>\n",
       "      <td>0</td>\n",
       "      <td>4</td>\n",
       "    </tr>\n",
       "    <tr>\n",
       "      <th>PART</th>\n",
       "      <td>0</td>\n",
       "      <td>1</td>\n",
       "      <td>0</td>\n",
       "      <td>0</td>\n",
       "      <td>0</td>\n",
       "      <td>0</td>\n",
       "      <td>0</td>\n",
       "      <td>2</td>\n",
       "      <td>1</td>\n",
       "      <td>486</td>\n",
       "      <td>0</td>\n",
       "      <td>1</td>\n",
       "      <td>2</td>\n",
       "      <td>0</td>\n",
       "      <td>0</td>\n",
       "      <td>0</td>\n",
       "      <td>0</td>\n",
       "      <td>0</td>\n",
       "    </tr>\n",
       "    <tr>\n",
       "      <th>PRON</th>\n",
       "      <td>0</td>\n",
       "      <td>0</td>\n",
       "      <td>0</td>\n",
       "      <td>0</td>\n",
       "      <td>0</td>\n",
       "      <td>5</td>\n",
       "      <td>0</td>\n",
       "      <td>1</td>\n",
       "      <td>1</td>\n",
       "      <td>0</td>\n",
       "      <td>1922</td>\n",
       "      <td>7</td>\n",
       "      <td>0</td>\n",
       "      <td>6</td>\n",
       "      <td>0</td>\n",
       "      <td>0</td>\n",
       "      <td>0</td>\n",
       "      <td>0</td>\n",
       "    </tr>\n",
       "    <tr>\n",
       "      <th>PROPN</th>\n",
       "      <td>133</td>\n",
       "      <td>1</td>\n",
       "      <td>18</td>\n",
       "      <td>2</td>\n",
       "      <td>1</td>\n",
       "      <td>0</td>\n",
       "      <td>0</td>\n",
       "      <td>724</td>\n",
       "      <td>2</td>\n",
       "      <td>0</td>\n",
       "      <td>3</td>\n",
       "      <td>2825</td>\n",
       "      <td>0</td>\n",
       "      <td>0</td>\n",
       "      <td>0</td>\n",
       "      <td>0</td>\n",
       "      <td>67</td>\n",
       "      <td>15</td>\n",
       "    </tr>\n",
       "    <tr>\n",
       "      <th>PUNCT</th>\n",
       "      <td>4</td>\n",
       "      <td>1</td>\n",
       "      <td>0</td>\n",
       "      <td>0</td>\n",
       "      <td>0</td>\n",
       "      <td>0</td>\n",
       "      <td>0</td>\n",
       "      <td>9</td>\n",
       "      <td>0</td>\n",
       "      <td>3</td>\n",
       "      <td>0</td>\n",
       "      <td>36</td>\n",
       "      <td>4995</td>\n",
       "      <td>0</td>\n",
       "      <td>0</td>\n",
       "      <td>1</td>\n",
       "      <td>0</td>\n",
       "      <td>8</td>\n",
       "    </tr>\n",
       "    <tr>\n",
       "      <th>SCONJ</th>\n",
       "      <td>0</td>\n",
       "      <td>109</td>\n",
       "      <td>2</td>\n",
       "      <td>0</td>\n",
       "      <td>0</td>\n",
       "      <td>0</td>\n",
       "      <td>0</td>\n",
       "      <td>0</td>\n",
       "      <td>0</td>\n",
       "      <td>1</td>\n",
       "      <td>4</td>\n",
       "      <td>0</td>\n",
       "      <td>0</td>\n",
       "      <td>203</td>\n",
       "      <td>0</td>\n",
       "      <td>0</td>\n",
       "      <td>0</td>\n",
       "      <td>0</td>\n",
       "    </tr>\n",
       "    <tr>\n",
       "      <th>SYM</th>\n",
       "      <td>0</td>\n",
       "      <td>0</td>\n",
       "      <td>0</td>\n",
       "      <td>0</td>\n",
       "      <td>0</td>\n",
       "      <td>0</td>\n",
       "      <td>0</td>\n",
       "      <td>2</td>\n",
       "      <td>0</td>\n",
       "      <td>0</td>\n",
       "      <td>0</td>\n",
       "      <td>0</td>\n",
       "      <td>40</td>\n",
       "      <td>0</td>\n",
       "      <td>0</td>\n",
       "      <td>32</td>\n",
       "      <td>0</td>\n",
       "      <td>0</td>\n",
       "    </tr>\n",
       "    <tr>\n",
       "      <th>VERB</th>\n",
       "      <td>53</td>\n",
       "      <td>0</td>\n",
       "      <td>0</td>\n",
       "      <td>8</td>\n",
       "      <td>0</td>\n",
       "      <td>0</td>\n",
       "      <td>0</td>\n",
       "      <td>48</td>\n",
       "      <td>0</td>\n",
       "      <td>0</td>\n",
       "      <td>0</td>\n",
       "      <td>43</td>\n",
       "      <td>0</td>\n",
       "      <td>0</td>\n",
       "      <td>0</td>\n",
       "      <td>0</td>\n",
       "      <td>3464</td>\n",
       "      <td>0</td>\n",
       "    </tr>\n",
       "    <tr>\n",
       "      <th>X</th>\n",
       "      <td>49</td>\n",
       "      <td>32</td>\n",
       "      <td>8</td>\n",
       "      <td>1</td>\n",
       "      <td>2</td>\n",
       "      <td>3</td>\n",
       "      <td>6</td>\n",
       "      <td>231</td>\n",
       "      <td>1</td>\n",
       "      <td>2</td>\n",
       "      <td>4</td>\n",
       "      <td>815</td>\n",
       "      <td>6</td>\n",
       "      <td>0</td>\n",
       "      <td>2</td>\n",
       "      <td>0</td>\n",
       "      <td>35</td>\n",
       "      <td>40</td>\n",
       "    </tr>\n",
       "  </tbody>\n",
       "</table>\n",
       "</div>"
      ],
      "text/plain": [
       "        ADJ   ADP  ADV   AUX  CCONJ   DET  INTJ  NOUN   NUM  PART  PRON  \\\n",
       "ADJ    2645     0   23     0      0     2     0    95     3     0     0   \n",
       "ADP       1  4617    6     0      0     0     1     0     0    26     0   \n",
       "ADV       7    22  804     0      1     0     0     4     0     0     3   \n",
       "AUX       0     0    0  1209      0     0     0     1     0     0     0   \n",
       "CCONJ     0     0    0     0   1076     6     0     0     0     0     6   \n",
       "DET       0     0    0     0      0  2255     1     0     0     0    28   \n",
       "INTJ      2     0    0     0      0     2     1     3     0     0     0   \n",
       "NOUN    148     0   22     1      0     0     2  8286    10     0     1   \n",
       "NUM       1     0    0     0      0     0     1     4  1853     0     0   \n",
       "PART      0     1    0     0      0     0     0     2     1   486     0   \n",
       "PRON      0     0    0     0      0     5     0     1     1     0  1922   \n",
       "PROPN   133     1   18     2      1     0     0   724     2     0     3   \n",
       "PUNCT     4     1    0     0      0     0     0     9     0     3     0   \n",
       "SCONJ     0   109    2     0      0     0     0     0     0     1     4   \n",
       "SYM       0     0    0     0      0     0     0     2     0     0     0   \n",
       "VERB     53     0    0     8      0     0     0    48     0     0     0   \n",
       "X        49    32    8     1      2     3     6   231     1     2     4   \n",
       "\n",
       "       PROPN  PUNCT  SCONJ  SPACE  SYM  VERB   X  \n",
       "ADJ      213      0      0      0    0    40   0  \n",
       "ADP        2      0     46      0    0     0   0  \n",
       "ADV        7      0    124      0    0     1   0  \n",
       "AUX        4      0      0      0    0     3   0  \n",
       "CCONJ      0      0      0      0    0     0   0  \n",
       "DET        0      0      0      0    0     0   0  \n",
       "INTJ       3      0      0      0    0     0   0  \n",
       "NOUN    1179      0      0      0    0    96   3  \n",
       "NUM       10      0      0      0    0     0   4  \n",
       "PART       1      2      0      0    0     0   0  \n",
       "PRON       7      0      6      0    0     0   0  \n",
       "PROPN   2825      0      0      0    0    67  15  \n",
       "PUNCT     36   4995      0      0    1     0   8  \n",
       "SCONJ      0      0    203      0    0     0   0  \n",
       "SYM        0     40      0      0   32     0   0  \n",
       "VERB      43      0      0      0    0  3464   0  \n",
       "X        815      6      0      2    0    35  40  "
      ]
     },
     "execution_count": 234,
     "metadata": {},
     "output_type": "execute_result"
    }
   ],
   "source": [
    "upos_df"
   ]
  },
  {
   "cell_type": "markdown",
   "metadata": {},
   "source": [
    "Let's add total numbers for all UPOS for both Spacy and Stanza:"
   ]
  },
  {
   "cell_type": "code",
   "execution_count": 235,
   "metadata": {},
   "outputs": [
    {
     "data": {
      "text/html": [
       "<div>\n",
       "<style scoped>\n",
       "    .dataframe tbody tr th:only-of-type {\n",
       "        vertical-align: middle;\n",
       "    }\n",
       "\n",
       "    .dataframe tbody tr th {\n",
       "        vertical-align: top;\n",
       "    }\n",
       "\n",
       "    .dataframe thead th {\n",
       "        text-align: right;\n",
       "    }\n",
       "</style>\n",
       "<table border=\"1\" class=\"dataframe\">\n",
       "  <thead>\n",
       "    <tr style=\"text-align: right;\">\n",
       "      <th></th>\n",
       "      <th>ADJ</th>\n",
       "      <th>ADP</th>\n",
       "      <th>ADV</th>\n",
       "      <th>AUX</th>\n",
       "      <th>CCONJ</th>\n",
       "      <th>DET</th>\n",
       "      <th>INTJ</th>\n",
       "      <th>NOUN</th>\n",
       "      <th>NUM</th>\n",
       "      <th>PART</th>\n",
       "      <th>PRON</th>\n",
       "      <th>PROPN</th>\n",
       "      <th>PUNCT</th>\n",
       "      <th>SCONJ</th>\n",
       "      <th>SPACE</th>\n",
       "      <th>SYM</th>\n",
       "      <th>VERB</th>\n",
       "      <th>X</th>\n",
       "      <th>Total_Stanza</th>\n",
       "    </tr>\n",
       "  </thead>\n",
       "  <tbody>\n",
       "    <tr>\n",
       "      <th>ADJ</th>\n",
       "      <td>2645.0</td>\n",
       "      <td>0.0</td>\n",
       "      <td>23.0</td>\n",
       "      <td>0.0</td>\n",
       "      <td>0.0</td>\n",
       "      <td>2.0</td>\n",
       "      <td>0.0</td>\n",
       "      <td>95.0</td>\n",
       "      <td>3.0</td>\n",
       "      <td>0.0</td>\n",
       "      <td>0.0</td>\n",
       "      <td>213.0</td>\n",
       "      <td>0.0</td>\n",
       "      <td>0.0</td>\n",
       "      <td>0.0</td>\n",
       "      <td>0.0</td>\n",
       "      <td>40.0</td>\n",
       "      <td>0.0</td>\n",
       "      <td>3021.0</td>\n",
       "    </tr>\n",
       "    <tr>\n",
       "      <th>ADP</th>\n",
       "      <td>1.0</td>\n",
       "      <td>4617.0</td>\n",
       "      <td>6.0</td>\n",
       "      <td>0.0</td>\n",
       "      <td>0.0</td>\n",
       "      <td>0.0</td>\n",
       "      <td>1.0</td>\n",
       "      <td>0.0</td>\n",
       "      <td>0.0</td>\n",
       "      <td>26.0</td>\n",
       "      <td>0.0</td>\n",
       "      <td>2.0</td>\n",
       "      <td>0.0</td>\n",
       "      <td>46.0</td>\n",
       "      <td>0.0</td>\n",
       "      <td>0.0</td>\n",
       "      <td>0.0</td>\n",
       "      <td>0.0</td>\n",
       "      <td>4699.0</td>\n",
       "    </tr>\n",
       "    <tr>\n",
       "      <th>ADV</th>\n",
       "      <td>7.0</td>\n",
       "      <td>22.0</td>\n",
       "      <td>804.0</td>\n",
       "      <td>0.0</td>\n",
       "      <td>1.0</td>\n",
       "      <td>0.0</td>\n",
       "      <td>0.0</td>\n",
       "      <td>4.0</td>\n",
       "      <td>0.0</td>\n",
       "      <td>0.0</td>\n",
       "      <td>3.0</td>\n",
       "      <td>7.0</td>\n",
       "      <td>0.0</td>\n",
       "      <td>124.0</td>\n",
       "      <td>0.0</td>\n",
       "      <td>0.0</td>\n",
       "      <td>1.0</td>\n",
       "      <td>0.0</td>\n",
       "      <td>973.0</td>\n",
       "    </tr>\n",
       "    <tr>\n",
       "      <th>AUX</th>\n",
       "      <td>0.0</td>\n",
       "      <td>0.0</td>\n",
       "      <td>0.0</td>\n",
       "      <td>1209.0</td>\n",
       "      <td>0.0</td>\n",
       "      <td>0.0</td>\n",
       "      <td>0.0</td>\n",
       "      <td>1.0</td>\n",
       "      <td>0.0</td>\n",
       "      <td>0.0</td>\n",
       "      <td>0.0</td>\n",
       "      <td>4.0</td>\n",
       "      <td>0.0</td>\n",
       "      <td>0.0</td>\n",
       "      <td>0.0</td>\n",
       "      <td>0.0</td>\n",
       "      <td>3.0</td>\n",
       "      <td>0.0</td>\n",
       "      <td>1217.0</td>\n",
       "    </tr>\n",
       "    <tr>\n",
       "      <th>CCONJ</th>\n",
       "      <td>0.0</td>\n",
       "      <td>0.0</td>\n",
       "      <td>0.0</td>\n",
       "      <td>0.0</td>\n",
       "      <td>1076.0</td>\n",
       "      <td>6.0</td>\n",
       "      <td>0.0</td>\n",
       "      <td>0.0</td>\n",
       "      <td>0.0</td>\n",
       "      <td>0.0</td>\n",
       "      <td>6.0</td>\n",
       "      <td>0.0</td>\n",
       "      <td>0.0</td>\n",
       "      <td>0.0</td>\n",
       "      <td>0.0</td>\n",
       "      <td>0.0</td>\n",
       "      <td>0.0</td>\n",
       "      <td>0.0</td>\n",
       "      <td>1088.0</td>\n",
       "    </tr>\n",
       "    <tr>\n",
       "      <th>DET</th>\n",
       "      <td>0.0</td>\n",
       "      <td>0.0</td>\n",
       "      <td>0.0</td>\n",
       "      <td>0.0</td>\n",
       "      <td>0.0</td>\n",
       "      <td>2255.0</td>\n",
       "      <td>1.0</td>\n",
       "      <td>0.0</td>\n",
       "      <td>0.0</td>\n",
       "      <td>0.0</td>\n",
       "      <td>28.0</td>\n",
       "      <td>0.0</td>\n",
       "      <td>0.0</td>\n",
       "      <td>0.0</td>\n",
       "      <td>0.0</td>\n",
       "      <td>0.0</td>\n",
       "      <td>0.0</td>\n",
       "      <td>0.0</td>\n",
       "      <td>2284.0</td>\n",
       "    </tr>\n",
       "    <tr>\n",
       "      <th>INTJ</th>\n",
       "      <td>2.0</td>\n",
       "      <td>0.0</td>\n",
       "      <td>0.0</td>\n",
       "      <td>0.0</td>\n",
       "      <td>0.0</td>\n",
       "      <td>2.0</td>\n",
       "      <td>1.0</td>\n",
       "      <td>3.0</td>\n",
       "      <td>0.0</td>\n",
       "      <td>0.0</td>\n",
       "      <td>0.0</td>\n",
       "      <td>3.0</td>\n",
       "      <td>0.0</td>\n",
       "      <td>0.0</td>\n",
       "      <td>0.0</td>\n",
       "      <td>0.0</td>\n",
       "      <td>0.0</td>\n",
       "      <td>0.0</td>\n",
       "      <td>11.0</td>\n",
       "    </tr>\n",
       "    <tr>\n",
       "      <th>NOUN</th>\n",
       "      <td>148.0</td>\n",
       "      <td>0.0</td>\n",
       "      <td>22.0</td>\n",
       "      <td>1.0</td>\n",
       "      <td>0.0</td>\n",
       "      <td>0.0</td>\n",
       "      <td>2.0</td>\n",
       "      <td>8286.0</td>\n",
       "      <td>10.0</td>\n",
       "      <td>0.0</td>\n",
       "      <td>1.0</td>\n",
       "      <td>1179.0</td>\n",
       "      <td>0.0</td>\n",
       "      <td>0.0</td>\n",
       "      <td>0.0</td>\n",
       "      <td>0.0</td>\n",
       "      <td>96.0</td>\n",
       "      <td>3.0</td>\n",
       "      <td>9748.0</td>\n",
       "    </tr>\n",
       "    <tr>\n",
       "      <th>NUM</th>\n",
       "      <td>1.0</td>\n",
       "      <td>0.0</td>\n",
       "      <td>0.0</td>\n",
       "      <td>0.0</td>\n",
       "      <td>0.0</td>\n",
       "      <td>0.0</td>\n",
       "      <td>1.0</td>\n",
       "      <td>4.0</td>\n",
       "      <td>1853.0</td>\n",
       "      <td>0.0</td>\n",
       "      <td>0.0</td>\n",
       "      <td>10.0</td>\n",
       "      <td>0.0</td>\n",
       "      <td>0.0</td>\n",
       "      <td>0.0</td>\n",
       "      <td>0.0</td>\n",
       "      <td>0.0</td>\n",
       "      <td>4.0</td>\n",
       "      <td>1873.0</td>\n",
       "    </tr>\n",
       "    <tr>\n",
       "      <th>PART</th>\n",
       "      <td>0.0</td>\n",
       "      <td>1.0</td>\n",
       "      <td>0.0</td>\n",
       "      <td>0.0</td>\n",
       "      <td>0.0</td>\n",
       "      <td>0.0</td>\n",
       "      <td>0.0</td>\n",
       "      <td>2.0</td>\n",
       "      <td>1.0</td>\n",
       "      <td>486.0</td>\n",
       "      <td>0.0</td>\n",
       "      <td>1.0</td>\n",
       "      <td>2.0</td>\n",
       "      <td>0.0</td>\n",
       "      <td>0.0</td>\n",
       "      <td>0.0</td>\n",
       "      <td>0.0</td>\n",
       "      <td>0.0</td>\n",
       "      <td>493.0</td>\n",
       "    </tr>\n",
       "    <tr>\n",
       "      <th>PRON</th>\n",
       "      <td>0.0</td>\n",
       "      <td>0.0</td>\n",
       "      <td>0.0</td>\n",
       "      <td>0.0</td>\n",
       "      <td>0.0</td>\n",
       "      <td>5.0</td>\n",
       "      <td>0.0</td>\n",
       "      <td>1.0</td>\n",
       "      <td>1.0</td>\n",
       "      <td>0.0</td>\n",
       "      <td>1922.0</td>\n",
       "      <td>7.0</td>\n",
       "      <td>0.0</td>\n",
       "      <td>6.0</td>\n",
       "      <td>0.0</td>\n",
       "      <td>0.0</td>\n",
       "      <td>0.0</td>\n",
       "      <td>0.0</td>\n",
       "      <td>1942.0</td>\n",
       "    </tr>\n",
       "    <tr>\n",
       "      <th>PROPN</th>\n",
       "      <td>133.0</td>\n",
       "      <td>1.0</td>\n",
       "      <td>18.0</td>\n",
       "      <td>2.0</td>\n",
       "      <td>1.0</td>\n",
       "      <td>0.0</td>\n",
       "      <td>0.0</td>\n",
       "      <td>724.0</td>\n",
       "      <td>2.0</td>\n",
       "      <td>0.0</td>\n",
       "      <td>3.0</td>\n",
       "      <td>2825.0</td>\n",
       "      <td>0.0</td>\n",
       "      <td>0.0</td>\n",
       "      <td>0.0</td>\n",
       "      <td>0.0</td>\n",
       "      <td>67.0</td>\n",
       "      <td>15.0</td>\n",
       "      <td>3791.0</td>\n",
       "    </tr>\n",
       "    <tr>\n",
       "      <th>PUNCT</th>\n",
       "      <td>4.0</td>\n",
       "      <td>1.0</td>\n",
       "      <td>0.0</td>\n",
       "      <td>0.0</td>\n",
       "      <td>0.0</td>\n",
       "      <td>0.0</td>\n",
       "      <td>0.0</td>\n",
       "      <td>9.0</td>\n",
       "      <td>0.0</td>\n",
       "      <td>3.0</td>\n",
       "      <td>0.0</td>\n",
       "      <td>36.0</td>\n",
       "      <td>4995.0</td>\n",
       "      <td>0.0</td>\n",
       "      <td>0.0</td>\n",
       "      <td>1.0</td>\n",
       "      <td>0.0</td>\n",
       "      <td>8.0</td>\n",
       "      <td>5057.0</td>\n",
       "    </tr>\n",
       "    <tr>\n",
       "      <th>SCONJ</th>\n",
       "      <td>0.0</td>\n",
       "      <td>109.0</td>\n",
       "      <td>2.0</td>\n",
       "      <td>0.0</td>\n",
       "      <td>0.0</td>\n",
       "      <td>0.0</td>\n",
       "      <td>0.0</td>\n",
       "      <td>0.0</td>\n",
       "      <td>0.0</td>\n",
       "      <td>1.0</td>\n",
       "      <td>4.0</td>\n",
       "      <td>0.0</td>\n",
       "      <td>0.0</td>\n",
       "      <td>203.0</td>\n",
       "      <td>0.0</td>\n",
       "      <td>0.0</td>\n",
       "      <td>0.0</td>\n",
       "      <td>0.0</td>\n",
       "      <td>319.0</td>\n",
       "    </tr>\n",
       "    <tr>\n",
       "      <th>SYM</th>\n",
       "      <td>0.0</td>\n",
       "      <td>0.0</td>\n",
       "      <td>0.0</td>\n",
       "      <td>0.0</td>\n",
       "      <td>0.0</td>\n",
       "      <td>0.0</td>\n",
       "      <td>0.0</td>\n",
       "      <td>2.0</td>\n",
       "      <td>0.0</td>\n",
       "      <td>0.0</td>\n",
       "      <td>0.0</td>\n",
       "      <td>0.0</td>\n",
       "      <td>40.0</td>\n",
       "      <td>0.0</td>\n",
       "      <td>0.0</td>\n",
       "      <td>32.0</td>\n",
       "      <td>0.0</td>\n",
       "      <td>0.0</td>\n",
       "      <td>74.0</td>\n",
       "    </tr>\n",
       "    <tr>\n",
       "      <th>VERB</th>\n",
       "      <td>53.0</td>\n",
       "      <td>0.0</td>\n",
       "      <td>0.0</td>\n",
       "      <td>8.0</td>\n",
       "      <td>0.0</td>\n",
       "      <td>0.0</td>\n",
       "      <td>0.0</td>\n",
       "      <td>48.0</td>\n",
       "      <td>0.0</td>\n",
       "      <td>0.0</td>\n",
       "      <td>0.0</td>\n",
       "      <td>43.0</td>\n",
       "      <td>0.0</td>\n",
       "      <td>0.0</td>\n",
       "      <td>0.0</td>\n",
       "      <td>0.0</td>\n",
       "      <td>3464.0</td>\n",
       "      <td>0.0</td>\n",
       "      <td>3616.0</td>\n",
       "    </tr>\n",
       "    <tr>\n",
       "      <th>X</th>\n",
       "      <td>49.0</td>\n",
       "      <td>32.0</td>\n",
       "      <td>8.0</td>\n",
       "      <td>1.0</td>\n",
       "      <td>2.0</td>\n",
       "      <td>3.0</td>\n",
       "      <td>6.0</td>\n",
       "      <td>231.0</td>\n",
       "      <td>1.0</td>\n",
       "      <td>2.0</td>\n",
       "      <td>4.0</td>\n",
       "      <td>815.0</td>\n",
       "      <td>6.0</td>\n",
       "      <td>0.0</td>\n",
       "      <td>2.0</td>\n",
       "      <td>0.0</td>\n",
       "      <td>35.0</td>\n",
       "      <td>40.0</td>\n",
       "      <td>1237.0</td>\n",
       "    </tr>\n",
       "    <tr>\n",
       "      <th>Total_Spacy</th>\n",
       "      <td>3043.0</td>\n",
       "      <td>4783.0</td>\n",
       "      <td>883.0</td>\n",
       "      <td>1221.0</td>\n",
       "      <td>1080.0</td>\n",
       "      <td>2273.0</td>\n",
       "      <td>12.0</td>\n",
       "      <td>9410.0</td>\n",
       "      <td>1871.0</td>\n",
       "      <td>518.0</td>\n",
       "      <td>1971.0</td>\n",
       "      <td>5145.0</td>\n",
       "      <td>5043.0</td>\n",
       "      <td>379.0</td>\n",
       "      <td>2.0</td>\n",
       "      <td>33.0</td>\n",
       "      <td>3706.0</td>\n",
       "      <td>70.0</td>\n",
       "      <td>41443.0</td>\n",
       "    </tr>\n",
       "  </tbody>\n",
       "</table>\n",
       "</div>"
      ],
      "text/plain": [
       "                ADJ     ADP    ADV     AUX   CCONJ     DET  INTJ    NOUN  \\\n",
       "ADJ          2645.0     0.0   23.0     0.0     0.0     2.0   0.0    95.0   \n",
       "ADP             1.0  4617.0    6.0     0.0     0.0     0.0   1.0     0.0   \n",
       "ADV             7.0    22.0  804.0     0.0     1.0     0.0   0.0     4.0   \n",
       "AUX             0.0     0.0    0.0  1209.0     0.0     0.0   0.0     1.0   \n",
       "CCONJ           0.0     0.0    0.0     0.0  1076.0     6.0   0.0     0.0   \n",
       "DET             0.0     0.0    0.0     0.0     0.0  2255.0   1.0     0.0   \n",
       "INTJ            2.0     0.0    0.0     0.0     0.0     2.0   1.0     3.0   \n",
       "NOUN          148.0     0.0   22.0     1.0     0.0     0.0   2.0  8286.0   \n",
       "NUM             1.0     0.0    0.0     0.0     0.0     0.0   1.0     4.0   \n",
       "PART            0.0     1.0    0.0     0.0     0.0     0.0   0.0     2.0   \n",
       "PRON            0.0     0.0    0.0     0.0     0.0     5.0   0.0     1.0   \n",
       "PROPN         133.0     1.0   18.0     2.0     1.0     0.0   0.0   724.0   \n",
       "PUNCT           4.0     1.0    0.0     0.0     0.0     0.0   0.0     9.0   \n",
       "SCONJ           0.0   109.0    2.0     0.0     0.0     0.0   0.0     0.0   \n",
       "SYM             0.0     0.0    0.0     0.0     0.0     0.0   0.0     2.0   \n",
       "VERB           53.0     0.0    0.0     8.0     0.0     0.0   0.0    48.0   \n",
       "X              49.0    32.0    8.0     1.0     2.0     3.0   6.0   231.0   \n",
       "Total_Spacy  3043.0  4783.0  883.0  1221.0  1080.0  2273.0  12.0  9410.0   \n",
       "\n",
       "                NUM   PART    PRON   PROPN   PUNCT  SCONJ  SPACE   SYM  \\\n",
       "ADJ             3.0    0.0     0.0   213.0     0.0    0.0    0.0   0.0   \n",
       "ADP             0.0   26.0     0.0     2.0     0.0   46.0    0.0   0.0   \n",
       "ADV             0.0    0.0     3.0     7.0     0.0  124.0    0.0   0.0   \n",
       "AUX             0.0    0.0     0.0     4.0     0.0    0.0    0.0   0.0   \n",
       "CCONJ           0.0    0.0     6.0     0.0     0.0    0.0    0.0   0.0   \n",
       "DET             0.0    0.0    28.0     0.0     0.0    0.0    0.0   0.0   \n",
       "INTJ            0.0    0.0     0.0     3.0     0.0    0.0    0.0   0.0   \n",
       "NOUN           10.0    0.0     1.0  1179.0     0.0    0.0    0.0   0.0   \n",
       "NUM          1853.0    0.0     0.0    10.0     0.0    0.0    0.0   0.0   \n",
       "PART            1.0  486.0     0.0     1.0     2.0    0.0    0.0   0.0   \n",
       "PRON            1.0    0.0  1922.0     7.0     0.0    6.0    0.0   0.0   \n",
       "PROPN           2.0    0.0     3.0  2825.0     0.0    0.0    0.0   0.0   \n",
       "PUNCT           0.0    3.0     0.0    36.0  4995.0    0.0    0.0   1.0   \n",
       "SCONJ           0.0    1.0     4.0     0.0     0.0  203.0    0.0   0.0   \n",
       "SYM             0.0    0.0     0.0     0.0    40.0    0.0    0.0  32.0   \n",
       "VERB            0.0    0.0     0.0    43.0     0.0    0.0    0.0   0.0   \n",
       "X               1.0    2.0     4.0   815.0     6.0    0.0    2.0   0.0   \n",
       "Total_Spacy  1871.0  518.0  1971.0  5145.0  5043.0  379.0    2.0  33.0   \n",
       "\n",
       "               VERB     X  Total_Stanza  \n",
       "ADJ            40.0   0.0        3021.0  \n",
       "ADP             0.0   0.0        4699.0  \n",
       "ADV             1.0   0.0         973.0  \n",
       "AUX             3.0   0.0        1217.0  \n",
       "CCONJ           0.0   0.0        1088.0  \n",
       "DET             0.0   0.0        2284.0  \n",
       "INTJ            0.0   0.0          11.0  \n",
       "NOUN           96.0   3.0        9748.0  \n",
       "NUM             0.0   4.0        1873.0  \n",
       "PART            0.0   0.0         493.0  \n",
       "PRON            0.0   0.0        1942.0  \n",
       "PROPN          67.0  15.0        3791.0  \n",
       "PUNCT           0.0   8.0        5057.0  \n",
       "SCONJ           0.0   0.0         319.0  \n",
       "SYM             0.0   0.0          74.0  \n",
       "VERB         3464.0   0.0        3616.0  \n",
       "X              35.0  40.0        1237.0  \n",
       "Total_Spacy  3706.0  70.0       41443.0  "
      ]
     },
     "execution_count": 235,
     "metadata": {},
     "output_type": "execute_result"
    }
   ],
   "source": [
    "upos_df['Total_Stanza'] = upos_df.sum(axis=1)\n",
    "upos_df.loc['Total_Spacy', :] = upos_df.sum(axis=0)\n",
    "\n",
    "upos_df"
   ]
  },
  {
   "cell_type": "markdown",
   "metadata": {},
   "source": [
    "Now we can create a DataFrame that will calculate percentages of a certain Spacy tag being matched with a Stanza tag.\n",
    "\n",
    "The columns represent Spacy UPOS tags, on the intersection with the rows you can find the percentage of occurences when this UPOS tag was recognized as another (or the same) UPOS tag by Stanza."
   ]
  },
  {
   "cell_type": "code",
   "execution_count": 238,
   "metadata": {},
   "outputs": [
    {
     "data": {
      "text/html": [
       "<div>\n",
       "<style scoped>\n",
       "    .dataframe tbody tr th:only-of-type {\n",
       "        vertical-align: middle;\n",
       "    }\n",
       "\n",
       "    .dataframe tbody tr th {\n",
       "        vertical-align: top;\n",
       "    }\n",
       "\n",
       "    .dataframe thead th {\n",
       "        text-align: right;\n",
       "    }\n",
       "</style>\n",
       "<table border=\"1\" class=\"dataframe\">\n",
       "  <thead>\n",
       "    <tr style=\"text-align: right;\">\n",
       "      <th></th>\n",
       "      <th>ADJ</th>\n",
       "      <th>ADP</th>\n",
       "      <th>ADV</th>\n",
       "      <th>AUX</th>\n",
       "      <th>CCONJ</th>\n",
       "      <th>DET</th>\n",
       "      <th>INTJ</th>\n",
       "      <th>NOUN</th>\n",
       "      <th>NUM</th>\n",
       "      <th>PART</th>\n",
       "      <th>PRON</th>\n",
       "      <th>PROPN</th>\n",
       "      <th>PUNCT</th>\n",
       "      <th>SCONJ</th>\n",
       "      <th>SPACE</th>\n",
       "      <th>SYM</th>\n",
       "      <th>VERB</th>\n",
       "      <th>X</th>\n",
       "    </tr>\n",
       "  </thead>\n",
       "  <tbody>\n",
       "    <tr>\n",
       "      <th>ADJ</th>\n",
       "      <td>87.0</td>\n",
       "      <td>0.0</td>\n",
       "      <td>3.0</td>\n",
       "      <td>0.0</td>\n",
       "      <td>0.0</td>\n",
       "      <td>0.0</td>\n",
       "      <td>0.0</td>\n",
       "      <td>1.0</td>\n",
       "      <td>0.0</td>\n",
       "      <td>0.0</td>\n",
       "      <td>0.0</td>\n",
       "      <td>4.0</td>\n",
       "      <td>0.0</td>\n",
       "      <td>0.0</td>\n",
       "      <td>0.0</td>\n",
       "      <td>0.0</td>\n",
       "      <td>1.0</td>\n",
       "      <td>0.0</td>\n",
       "    </tr>\n",
       "    <tr>\n",
       "      <th>ADP</th>\n",
       "      <td>0.0</td>\n",
       "      <td>97.0</td>\n",
       "      <td>1.0</td>\n",
       "      <td>0.0</td>\n",
       "      <td>0.0</td>\n",
       "      <td>0.0</td>\n",
       "      <td>8.0</td>\n",
       "      <td>0.0</td>\n",
       "      <td>0.0</td>\n",
       "      <td>5.0</td>\n",
       "      <td>0.0</td>\n",
       "      <td>0.0</td>\n",
       "      <td>0.0</td>\n",
       "      <td>12.0</td>\n",
       "      <td>0.0</td>\n",
       "      <td>0.0</td>\n",
       "      <td>0.0</td>\n",
       "      <td>0.0</td>\n",
       "    </tr>\n",
       "    <tr>\n",
       "      <th>ADV</th>\n",
       "      <td>0.0</td>\n",
       "      <td>0.0</td>\n",
       "      <td>91.0</td>\n",
       "      <td>0.0</td>\n",
       "      <td>0.0</td>\n",
       "      <td>0.0</td>\n",
       "      <td>0.0</td>\n",
       "      <td>0.0</td>\n",
       "      <td>0.0</td>\n",
       "      <td>0.0</td>\n",
       "      <td>0.0</td>\n",
       "      <td>0.0</td>\n",
       "      <td>0.0</td>\n",
       "      <td>33.0</td>\n",
       "      <td>0.0</td>\n",
       "      <td>0.0</td>\n",
       "      <td>0.0</td>\n",
       "      <td>0.0</td>\n",
       "    </tr>\n",
       "    <tr>\n",
       "      <th>AUX</th>\n",
       "      <td>0.0</td>\n",
       "      <td>0.0</td>\n",
       "      <td>0.0</td>\n",
       "      <td>99.0</td>\n",
       "      <td>0.0</td>\n",
       "      <td>0.0</td>\n",
       "      <td>0.0</td>\n",
       "      <td>0.0</td>\n",
       "      <td>0.0</td>\n",
       "      <td>0.0</td>\n",
       "      <td>0.0</td>\n",
       "      <td>0.0</td>\n",
       "      <td>0.0</td>\n",
       "      <td>0.0</td>\n",
       "      <td>0.0</td>\n",
       "      <td>0.0</td>\n",
       "      <td>0.0</td>\n",
       "      <td>0.0</td>\n",
       "    </tr>\n",
       "    <tr>\n",
       "      <th>CCONJ</th>\n",
       "      <td>0.0</td>\n",
       "      <td>0.0</td>\n",
       "      <td>0.0</td>\n",
       "      <td>0.0</td>\n",
       "      <td>100.0</td>\n",
       "      <td>0.0</td>\n",
       "      <td>0.0</td>\n",
       "      <td>0.0</td>\n",
       "      <td>0.0</td>\n",
       "      <td>0.0</td>\n",
       "      <td>0.0</td>\n",
       "      <td>0.0</td>\n",
       "      <td>0.0</td>\n",
       "      <td>0.0</td>\n",
       "      <td>0.0</td>\n",
       "      <td>0.0</td>\n",
       "      <td>0.0</td>\n",
       "      <td>0.0</td>\n",
       "    </tr>\n",
       "    <tr>\n",
       "      <th>DET</th>\n",
       "      <td>0.0</td>\n",
       "      <td>0.0</td>\n",
       "      <td>0.0</td>\n",
       "      <td>0.0</td>\n",
       "      <td>0.0</td>\n",
       "      <td>99.0</td>\n",
       "      <td>8.0</td>\n",
       "      <td>0.0</td>\n",
       "      <td>0.0</td>\n",
       "      <td>0.0</td>\n",
       "      <td>1.0</td>\n",
       "      <td>0.0</td>\n",
       "      <td>0.0</td>\n",
       "      <td>0.0</td>\n",
       "      <td>0.0</td>\n",
       "      <td>0.0</td>\n",
       "      <td>0.0</td>\n",
       "      <td>0.0</td>\n",
       "    </tr>\n",
       "    <tr>\n",
       "      <th>INTJ</th>\n",
       "      <td>0.0</td>\n",
       "      <td>0.0</td>\n",
       "      <td>0.0</td>\n",
       "      <td>0.0</td>\n",
       "      <td>0.0</td>\n",
       "      <td>0.0</td>\n",
       "      <td>8.0</td>\n",
       "      <td>0.0</td>\n",
       "      <td>0.0</td>\n",
       "      <td>0.0</td>\n",
       "      <td>0.0</td>\n",
       "      <td>0.0</td>\n",
       "      <td>0.0</td>\n",
       "      <td>0.0</td>\n",
       "      <td>0.0</td>\n",
       "      <td>0.0</td>\n",
       "      <td>0.0</td>\n",
       "      <td>0.0</td>\n",
       "    </tr>\n",
       "    <tr>\n",
       "      <th>NOUN</th>\n",
       "      <td>5.0</td>\n",
       "      <td>0.0</td>\n",
       "      <td>2.0</td>\n",
       "      <td>0.0</td>\n",
       "      <td>0.0</td>\n",
       "      <td>0.0</td>\n",
       "      <td>17.0</td>\n",
       "      <td>88.0</td>\n",
       "      <td>1.0</td>\n",
       "      <td>0.0</td>\n",
       "      <td>0.0</td>\n",
       "      <td>23.0</td>\n",
       "      <td>0.0</td>\n",
       "      <td>0.0</td>\n",
       "      <td>0.0</td>\n",
       "      <td>0.0</td>\n",
       "      <td>3.0</td>\n",
       "      <td>4.0</td>\n",
       "    </tr>\n",
       "    <tr>\n",
       "      <th>NUM</th>\n",
       "      <td>0.0</td>\n",
       "      <td>0.0</td>\n",
       "      <td>0.0</td>\n",
       "      <td>0.0</td>\n",
       "      <td>0.0</td>\n",
       "      <td>0.0</td>\n",
       "      <td>8.0</td>\n",
       "      <td>0.0</td>\n",
       "      <td>99.0</td>\n",
       "      <td>0.0</td>\n",
       "      <td>0.0</td>\n",
       "      <td>0.0</td>\n",
       "      <td>0.0</td>\n",
       "      <td>0.0</td>\n",
       "      <td>0.0</td>\n",
       "      <td>0.0</td>\n",
       "      <td>0.0</td>\n",
       "      <td>6.0</td>\n",
       "    </tr>\n",
       "    <tr>\n",
       "      <th>PART</th>\n",
       "      <td>0.0</td>\n",
       "      <td>0.0</td>\n",
       "      <td>0.0</td>\n",
       "      <td>0.0</td>\n",
       "      <td>0.0</td>\n",
       "      <td>0.0</td>\n",
       "      <td>0.0</td>\n",
       "      <td>0.0</td>\n",
       "      <td>0.0</td>\n",
       "      <td>94.0</td>\n",
       "      <td>0.0</td>\n",
       "      <td>0.0</td>\n",
       "      <td>0.0</td>\n",
       "      <td>0.0</td>\n",
       "      <td>0.0</td>\n",
       "      <td>0.0</td>\n",
       "      <td>0.0</td>\n",
       "      <td>0.0</td>\n",
       "    </tr>\n",
       "    <tr>\n",
       "      <th>PRON</th>\n",
       "      <td>0.0</td>\n",
       "      <td>0.0</td>\n",
       "      <td>0.0</td>\n",
       "      <td>0.0</td>\n",
       "      <td>0.0</td>\n",
       "      <td>0.0</td>\n",
       "      <td>0.0</td>\n",
       "      <td>0.0</td>\n",
       "      <td>0.0</td>\n",
       "      <td>0.0</td>\n",
       "      <td>98.0</td>\n",
       "      <td>0.0</td>\n",
       "      <td>0.0</td>\n",
       "      <td>2.0</td>\n",
       "      <td>0.0</td>\n",
       "      <td>0.0</td>\n",
       "      <td>0.0</td>\n",
       "      <td>0.0</td>\n",
       "    </tr>\n",
       "    <tr>\n",
       "      <th>PROPN</th>\n",
       "      <td>4.0</td>\n",
       "      <td>0.0</td>\n",
       "      <td>2.0</td>\n",
       "      <td>0.0</td>\n",
       "      <td>0.0</td>\n",
       "      <td>0.0</td>\n",
       "      <td>0.0</td>\n",
       "      <td>8.0</td>\n",
       "      <td>0.0</td>\n",
       "      <td>0.0</td>\n",
       "      <td>0.0</td>\n",
       "      <td>55.0</td>\n",
       "      <td>0.0</td>\n",
       "      <td>0.0</td>\n",
       "      <td>0.0</td>\n",
       "      <td>0.0</td>\n",
       "      <td>2.0</td>\n",
       "      <td>21.0</td>\n",
       "    </tr>\n",
       "    <tr>\n",
       "      <th>PUNCT</th>\n",
       "      <td>0.0</td>\n",
       "      <td>0.0</td>\n",
       "      <td>0.0</td>\n",
       "      <td>0.0</td>\n",
       "      <td>0.0</td>\n",
       "      <td>0.0</td>\n",
       "      <td>0.0</td>\n",
       "      <td>0.0</td>\n",
       "      <td>0.0</td>\n",
       "      <td>1.0</td>\n",
       "      <td>0.0</td>\n",
       "      <td>1.0</td>\n",
       "      <td>99.0</td>\n",
       "      <td>0.0</td>\n",
       "      <td>0.0</td>\n",
       "      <td>3.0</td>\n",
       "      <td>0.0</td>\n",
       "      <td>11.0</td>\n",
       "    </tr>\n",
       "    <tr>\n",
       "      <th>SCONJ</th>\n",
       "      <td>0.0</td>\n",
       "      <td>2.0</td>\n",
       "      <td>0.0</td>\n",
       "      <td>0.0</td>\n",
       "      <td>0.0</td>\n",
       "      <td>0.0</td>\n",
       "      <td>0.0</td>\n",
       "      <td>0.0</td>\n",
       "      <td>0.0</td>\n",
       "      <td>0.0</td>\n",
       "      <td>0.0</td>\n",
       "      <td>0.0</td>\n",
       "      <td>0.0</td>\n",
       "      <td>54.0</td>\n",
       "      <td>0.0</td>\n",
       "      <td>0.0</td>\n",
       "      <td>0.0</td>\n",
       "      <td>0.0</td>\n",
       "    </tr>\n",
       "    <tr>\n",
       "      <th>SYM</th>\n",
       "      <td>0.0</td>\n",
       "      <td>0.0</td>\n",
       "      <td>0.0</td>\n",
       "      <td>0.0</td>\n",
       "      <td>0.0</td>\n",
       "      <td>0.0</td>\n",
       "      <td>0.0</td>\n",
       "      <td>0.0</td>\n",
       "      <td>0.0</td>\n",
       "      <td>0.0</td>\n",
       "      <td>0.0</td>\n",
       "      <td>0.0</td>\n",
       "      <td>1.0</td>\n",
       "      <td>0.0</td>\n",
       "      <td>0.0</td>\n",
       "      <td>97.0</td>\n",
       "      <td>0.0</td>\n",
       "      <td>0.0</td>\n",
       "    </tr>\n",
       "    <tr>\n",
       "      <th>VERB</th>\n",
       "      <td>2.0</td>\n",
       "      <td>0.0</td>\n",
       "      <td>0.0</td>\n",
       "      <td>1.0</td>\n",
       "      <td>0.0</td>\n",
       "      <td>0.0</td>\n",
       "      <td>0.0</td>\n",
       "      <td>1.0</td>\n",
       "      <td>0.0</td>\n",
       "      <td>0.0</td>\n",
       "      <td>0.0</td>\n",
       "      <td>1.0</td>\n",
       "      <td>0.0</td>\n",
       "      <td>0.0</td>\n",
       "      <td>0.0</td>\n",
       "      <td>0.0</td>\n",
       "      <td>93.0</td>\n",
       "      <td>0.0</td>\n",
       "    </tr>\n",
       "    <tr>\n",
       "      <th>X</th>\n",
       "      <td>2.0</td>\n",
       "      <td>1.0</td>\n",
       "      <td>1.0</td>\n",
       "      <td>0.0</td>\n",
       "      <td>0.0</td>\n",
       "      <td>0.0</td>\n",
       "      <td>50.0</td>\n",
       "      <td>2.0</td>\n",
       "      <td>0.0</td>\n",
       "      <td>0.0</td>\n",
       "      <td>0.0</td>\n",
       "      <td>16.0</td>\n",
       "      <td>0.0</td>\n",
       "      <td>0.0</td>\n",
       "      <td>100.0</td>\n",
       "      <td>0.0</td>\n",
       "      <td>1.0</td>\n",
       "      <td>57.0</td>\n",
       "    </tr>\n",
       "    <tr>\n",
       "      <th>Total_Spacy</th>\n",
       "      <td>100.0</td>\n",
       "      <td>100.0</td>\n",
       "      <td>100.0</td>\n",
       "      <td>100.0</td>\n",
       "      <td>100.0</td>\n",
       "      <td>100.0</td>\n",
       "      <td>100.0</td>\n",
       "      <td>100.0</td>\n",
       "      <td>100.0</td>\n",
       "      <td>100.0</td>\n",
       "      <td>100.0</td>\n",
       "      <td>100.0</td>\n",
       "      <td>100.0</td>\n",
       "      <td>100.0</td>\n",
       "      <td>100.0</td>\n",
       "      <td>100.0</td>\n",
       "      <td>100.0</td>\n",
       "      <td>100.0</td>\n",
       "    </tr>\n",
       "  </tbody>\n",
       "</table>\n",
       "</div>"
      ],
      "text/plain": [
       "               ADJ    ADP    ADV    AUX  CCONJ    DET   INTJ   NOUN    NUM  \\\n",
       "ADJ           87.0    0.0    3.0    0.0    0.0    0.0    0.0    1.0    0.0   \n",
       "ADP            0.0   97.0    1.0    0.0    0.0    0.0    8.0    0.0    0.0   \n",
       "ADV            0.0    0.0   91.0    0.0    0.0    0.0    0.0    0.0    0.0   \n",
       "AUX            0.0    0.0    0.0   99.0    0.0    0.0    0.0    0.0    0.0   \n",
       "CCONJ          0.0    0.0    0.0    0.0  100.0    0.0    0.0    0.0    0.0   \n",
       "DET            0.0    0.0    0.0    0.0    0.0   99.0    8.0    0.0    0.0   \n",
       "INTJ           0.0    0.0    0.0    0.0    0.0    0.0    8.0    0.0    0.0   \n",
       "NOUN           5.0    0.0    2.0    0.0    0.0    0.0   17.0   88.0    1.0   \n",
       "NUM            0.0    0.0    0.0    0.0    0.0    0.0    8.0    0.0   99.0   \n",
       "PART           0.0    0.0    0.0    0.0    0.0    0.0    0.0    0.0    0.0   \n",
       "PRON           0.0    0.0    0.0    0.0    0.0    0.0    0.0    0.0    0.0   \n",
       "PROPN          4.0    0.0    2.0    0.0    0.0    0.0    0.0    8.0    0.0   \n",
       "PUNCT          0.0    0.0    0.0    0.0    0.0    0.0    0.0    0.0    0.0   \n",
       "SCONJ          0.0    2.0    0.0    0.0    0.0    0.0    0.0    0.0    0.0   \n",
       "SYM            0.0    0.0    0.0    0.0    0.0    0.0    0.0    0.0    0.0   \n",
       "VERB           2.0    0.0    0.0    1.0    0.0    0.0    0.0    1.0    0.0   \n",
       "X              2.0    1.0    1.0    0.0    0.0    0.0   50.0    2.0    0.0   \n",
       "Total_Spacy  100.0  100.0  100.0  100.0  100.0  100.0  100.0  100.0  100.0   \n",
       "\n",
       "              PART   PRON  PROPN  PUNCT  SCONJ  SPACE    SYM   VERB      X  \n",
       "ADJ            0.0    0.0    4.0    0.0    0.0    0.0    0.0    1.0    0.0  \n",
       "ADP            5.0    0.0    0.0    0.0   12.0    0.0    0.0    0.0    0.0  \n",
       "ADV            0.0    0.0    0.0    0.0   33.0    0.0    0.0    0.0    0.0  \n",
       "AUX            0.0    0.0    0.0    0.0    0.0    0.0    0.0    0.0    0.0  \n",
       "CCONJ          0.0    0.0    0.0    0.0    0.0    0.0    0.0    0.0    0.0  \n",
       "DET            0.0    1.0    0.0    0.0    0.0    0.0    0.0    0.0    0.0  \n",
       "INTJ           0.0    0.0    0.0    0.0    0.0    0.0    0.0    0.0    0.0  \n",
       "NOUN           0.0    0.0   23.0    0.0    0.0    0.0    0.0    3.0    4.0  \n",
       "NUM            0.0    0.0    0.0    0.0    0.0    0.0    0.0    0.0    6.0  \n",
       "PART          94.0    0.0    0.0    0.0    0.0    0.0    0.0    0.0    0.0  \n",
       "PRON           0.0   98.0    0.0    0.0    2.0    0.0    0.0    0.0    0.0  \n",
       "PROPN          0.0    0.0   55.0    0.0    0.0    0.0    0.0    2.0   21.0  \n",
       "PUNCT          1.0    0.0    1.0   99.0    0.0    0.0    3.0    0.0   11.0  \n",
       "SCONJ          0.0    0.0    0.0    0.0   54.0    0.0    0.0    0.0    0.0  \n",
       "SYM            0.0    0.0    0.0    1.0    0.0    0.0   97.0    0.0    0.0  \n",
       "VERB           0.0    0.0    1.0    0.0    0.0    0.0    0.0   93.0    0.0  \n",
       "X              0.0    0.0   16.0    0.0    0.0  100.0    0.0    1.0   57.0  \n",
       "Total_Spacy  100.0  100.0  100.0  100.0  100.0  100.0  100.0  100.0  100.0  "
      ]
     },
     "execution_count": 238,
     "metadata": {},
     "output_type": "execute_result"
    }
   ],
   "source": [
    "spacy_upos_perc_df = round(100* upos_df / upos_df.loc['Total_Spacy']).drop(['Total_Stanza'], axis=1)\n",
    "spacy_upos_perc_df"
   ]
  },
  {
   "cell_type": "markdown",
   "metadata": {},
   "source": [
    "____________"
   ]
  },
  {
   "cell_type": "markdown",
   "metadata": {},
   "source": [
    "Now we can plot the pie charts for most popular PoS: NOUN, VERB, ADJ, ADV. We will take all the tokens tagged with these PoS, and plot distribution of correspoding Stanza PoS tags."
   ]
  },
  {
   "cell_type": "markdown",
   "metadata": {},
   "source": [
    "## NOUN"
   ]
  },
  {
   "cell_type": "markdown",
   "metadata": {},
   "source": [
    "Below is the plot for all the Spacy tags for the tokens that Spacy tagged `NOUN`:"
   ]
  },
  {
   "cell_type": "code",
   "execution_count": 257,
   "metadata": {},
   "outputs": [
    {
     "data": {
      "text/plain": [
       "<matplotlib.legend.Legend at 0x7febe9891d00>"
      ]
     },
     "execution_count": 257,
     "metadata": {},
     "output_type": "execute_result"
    },
    {
     "data": {
      "image/png": "[encoded data removed]",
      "text/plain": [
       "<Figure size 576x576 with 1 Axes>"
      ]
     },
     "metadata": {},
     "output_type": "display_data"
    }
   ],
   "source": [
    "plt.figure(figsize=(8, 8))\n",
    "\n",
    "data = upos_df.NOUN[upos_df.NOUN > 0][:-1].values\n",
    "labels = upos_df.NOUN[upos_df.NOUN>0][:-1].index\n",
    "\n",
    "#define color palette to use\n",
    "colors =  ['yellowgreen','red','gold','lightskyblue','lightcoral','blue','pink', 'darkgreen','yellow','grey','violet','magenta','cyan'][:len(data)]\n",
    "\n",
    "# Create pie chart\n",
    "perc = 100.*data/data.sum()\n",
    "\n",
    "patches, texts = plt.pie(data, colors=colors, startangle=90, radius=1.2)\n",
    "labels = ['{0} - {1:1.2f} %'.format(i,j) for i,j in zip(labels, perc)]\n",
    "\n",
    "sort_legend = True\n",
    "if sort_legend:\n",
    "    patches, labels, dummy =  zip(*sorted(zip(patches, labels, data),\n",
    "                                          key=lambda x: x[2],\n",
    "                                          reverse=True))\n",
    "\n",
    "plt.legend(patches, labels, loc='upper right', bbox_to_anchor=(-0.1, 1.),\n",
    "           fontsize=8)"
   ]
  },
  {
   "cell_type": "markdown",
   "metadata": {},
   "source": [
    "## VERB"
   ]
  },
  {
   "cell_type": "markdown",
   "metadata": {},
   "source": [
    "Below is the plot for all the Spacy tags for the tokens that Spacy tagged `VERB`:"
   ]
  },
  {
   "cell_type": "code",
   "execution_count": 260,
   "metadata": {},
   "outputs": [
    {
     "data": {
      "text/plain": [
       "<matplotlib.legend.Legend at 0x7febe8215a00>"
      ]
     },
     "execution_count": 260,
     "metadata": {},
     "output_type": "execute_result"
    },
    {
     "data": {
      "image/png": "[encoded data removed]",
      "text/plain": [
       "<Figure size 576x576 with 1 Axes>"
      ]
     },
     "metadata": {},
     "output_type": "display_data"
    }
   ],
   "source": [
    "plt.figure(figsize=(8, 8))\n",
    "\n",
    "data = upos_df.VERB[upos_df.VERB > 0][:-1].values\n",
    "labels = upos_df.VERB[upos_df.VERB>0][:-1].index\n",
    "\n",
    "#define color palette to use\n",
    "colors =  ['yellowgreen','red','gold','lightskyblue','lightcoral','pink', 'darkgreen','yellow','grey','violet','magenta','cyan'][:len(data)]\n",
    "\n",
    "# Create pie chart\n",
    "perc = 100.*data/data.sum()\n",
    "\n",
    "patches, texts = plt.pie(data, colors=colors, startangle=90, radius=1.2)\n",
    "labels = ['{0} - {1:1.2f} %'.format(i,j) for i,j in zip(labels, perc)]\n",
    "\n",
    "sort_legend = True\n",
    "if sort_legend:\n",
    "    patches, labels, dummy =  zip(*sorted(zip(patches, labels, data),\n",
    "                                          key=lambda x: x[2],\n",
    "                                          reverse=True))\n",
    "\n",
    "plt.legend(patches, labels, loc='upper right', bbox_to_anchor=(-0.1, 1.),\n",
    "           fontsize=8)"
   ]
  },
  {
   "cell_type": "markdown",
   "metadata": {},
   "source": [
    "## ADJ"
   ]
  },
  {
   "cell_type": "markdown",
   "metadata": {},
   "source": [
    "Below is the plot for all the Spacy tags for the tokens that Spacy tagged `ADJ`:"
   ]
  },
  {
   "cell_type": "code",
   "execution_count": 261,
   "metadata": {},
   "outputs": [
    {
     "data": {
      "text/plain": [
       "<matplotlib.legend.Legend at 0x7febe9cce730>"
      ]
     },
     "execution_count": 261,
     "metadata": {},
     "output_type": "execute_result"
    },
    {
     "data": {
      "image/png": "[encoded data removed]",
      "text/plain": [
       "<Figure size 576x576 with 1 Axes>"
      ]
     },
     "metadata": {},
     "output_type": "display_data"
    }
   ],
   "source": [
    "plt.figure(figsize=(8, 8))\n",
    "\n",
    "data = upos_df.ADJ[upos_df.ADJ > 0][:-1].values\n",
    "labels = upos_df.ADJ[upos_df.ADJ>0][:-1].index\n",
    "\n",
    "#define color palette to use\n",
    "colors =  ['yellowgreen','red','gold','lightskyblue','lightcoral','pink', 'darkgreen','yellow','grey','violet','magenta','cyan'][:len(data)]\n",
    "\n",
    "# Create pie chart\n",
    "perc = 100.*data/data.sum()\n",
    "\n",
    "patches, texts = plt.pie(data, colors=colors, startangle=90, radius=1.2)\n",
    "labels = ['{0} - {1:1.2f} %'.format(i,j) for i,j in zip(labels, perc)]\n",
    "\n",
    "sort_legend = True\n",
    "if sort_legend:\n",
    "    patches, labels, dummy =  zip(*sorted(zip(patches, labels, data),\n",
    "                                          key=lambda x: x[2],\n",
    "                                          reverse=True))\n",
    "\n",
    "plt.legend(patches, labels, loc='upper right', bbox_to_anchor=(-0.1, 1.),\n",
    "           fontsize=8)"
   ]
  },
  {
   "cell_type": "markdown",
   "metadata": {},
   "source": [
    "## ADV"
   ]
  },
  {
   "cell_type": "code",
   "execution_count": 262,
   "metadata": {},
   "outputs": [
    {
     "data": {
      "text/plain": [
       "<matplotlib.legend.Legend at 0x7febe9b8cfa0>"
      ]
     },
     "execution_count": 262,
     "metadata": {},
     "output_type": "execute_result"
    },
    {
     "data": {
      "image/png": "[encoded data removed]",
      "text/plain": [
       "<Figure size 576x576 with 1 Axes>"
      ]
     },
     "metadata": {},
     "output_type": "display_data"
    }
   ],
   "source": [
    "plt.figure(figsize=(8, 8))\n",
    "\n",
    "data = upos_df.ADV[upos_df.ADV > 0][:-1].values\n",
    "labels = upos_df.ADV[upos_df.ADV>0][:-1].index\n",
    "\n",
    "#define color palette to use\n",
    "colors =  ['yellowgreen','red','gold','lightskyblue','lightcoral','pink', 'darkgreen','yellow','grey','violet','magenta','cyan'][:len(data)]\n",
    "\n",
    "# Create pie chart\n",
    "perc = 100.*data/data.sum()\n",
    "\n",
    "patches, texts = plt.pie(data, colors=colors, startangle=90, radius=1.2)\n",
    "labels = ['{0} - {1:1.2f} %'.format(i,j) for i,j in zip(labels, perc)]\n",
    "\n",
    "sort_legend = True\n",
    "if sort_legend:\n",
    "    patches, labels, dummy =  zip(*sorted(zip(patches, labels, data),\n",
    "                                          key=lambda x: x[2],\n",
    "                                          reverse=True))\n",
    "\n",
    "plt.legend(patches, labels, loc='upper right', bbox_to_anchor=(-0.1, 1.),\n",
    "           fontsize=8)"
   ]
  }
 ],
 "metadata": {
  "kernelspec": {
   "display_name": "Python 3",
   "language": "python",
   "name": "python3"
  },
  "language_info": {
   "codemirror_mode": {
    "name": "ipython",
    "version": 3
   },
   "file_extension": ".py",
   "mimetype": "text/x-python",
   "name": "python",
   "nbconvert_exporter": "python",
   "pygments_lexer": "ipython3",
   "version": "3.8.5"
  },
  "vscode": {
   "interpreter": {
    "hash": "5cfb0889301bd40a32af2921b094f94edad3784ee7c8bac1076d6edd892f10d1"
   }
  }
 },
 "nbformat": 4,
 "nbformat_minor": 4
}
