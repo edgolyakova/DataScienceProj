{
 "cells": [
  {
   "cell_type": "code",
   "execution_count": 1,
   "metadata": {
    "id": "AAJl8Ipk26_L"
   },
   "outputs": [],
   "source": [
    "import pandas as pd"
   ]
  },
  {
   "cell_type": "code",
   "execution_count": 2,
   "metadata": {
    "id": "gTeTAKXv2wUZ"
   },
   "outputs": [],
   "source": [
    "df = pd.read_csv(\"df_with_texts.csv\", index_col=0)"
   ]
  },
  {
   "cell_type": "code",
   "execution_count": 3,
   "metadata": {
    "colab": {
     "base_uri": "https://localhost:8080/",
     "height": 423
    },
    "id": "ID-0_rZp3e4F",
    "outputId": "621128f8-cdfa-473d-cdc7-ec3a31d41fd0"
   },
   "outputs": [
    {
     "data": {
      "text/html": [
       "<div>\n",
       "<style scoped>\n",
       "    .dataframe tbody tr th:only-of-type {\n",
       "        vertical-align: middle;\n",
       "    }\n",
       "\n",
       "    .dataframe tbody tr th {\n",
       "        vertical-align: top;\n",
       "    }\n",
       "\n",
       "    .dataframe thead th {\n",
       "        text-align: right;\n",
       "    }\n",
       "</style>\n",
       "<table border=\"1\" class=\"dataframe\">\n",
       "  <thead>\n",
       "    <tr style=\"text-align: right;\">\n",
       "      <th></th>\n",
       "      <th>Person</th>\n",
       "      <th>Subcategory</th>\n",
       "      <th>Category</th>\n",
       "      <th>Text</th>\n",
       "    </tr>\n",
       "  </thead>\n",
       "  <tbody>\n",
       "    <tr>\n",
       "      <th>104</th>\n",
       "      <td>Jeanette Epps</td>\n",
       "      <td>American astronauts</td>\n",
       "      <td>Astronauts</td>\n",
       "      <td>Jeanette Jo Epps (born November 3, 1970) is an...</td>\n",
       "    </tr>\n",
       "    <tr>\n",
       "      <th>288</th>\n",
       "      <td>Sergey Avdeev</td>\n",
       "      <td>Russian cosmonauts</td>\n",
       "      <td>Astronauts</td>\n",
       "      <td>Sergei Vasilyevich Avdeyev (Сергей Васильевич ...</td>\n",
       "    </tr>\n",
       "    <tr>\n",
       "      <th>198</th>\n",
       "      <td>Matthias Maurer</td>\n",
       "      <td>German astronauts</td>\n",
       "      <td>Astronauts</td>\n",
       "      <td>Matthias Josef Maurer (born 18 March 1970) is ...</td>\n",
       "    </tr>\n",
       "    <tr>\n",
       "      <th>365</th>\n",
       "      <td>Andriyan Nikolayev</td>\n",
       "      <td>Soviet cosmonauts</td>\n",
       "      <td>Astronauts</td>\n",
       "      <td>Andriyan Grigoryevich Nikolayev (Chuvash and R...</td>\n",
       "    </tr>\n",
       "    <tr>\n",
       "      <th>412</th>\n",
       "      <td>Gennady Manakov</td>\n",
       "      <td>Soviet cosmonauts</td>\n",
       "      <td>Astronauts</td>\n",
       "      <td>Gennady Mikhailovich Manakov (Russian: Геннади...</td>\n",
       "    </tr>\n",
       "    <tr>\n",
       "      <th>...</th>\n",
       "      <td>...</td>\n",
       "      <td>...</td>\n",
       "      <td>...</td>\n",
       "      <td>...</td>\n",
       "    </tr>\n",
       "    <tr>\n",
       "      <th>7053</th>\n",
       "      <td>Uhwudong</td>\n",
       "      <td>Korean writers</td>\n",
       "      <td>Writers</td>\n",
       "      <td>Eowudong or Uhwudong (어우동, 於宇同; 1440 - 18 Octo...</td>\n",
       "    </tr>\n",
       "    <tr>\n",
       "      <th>5383</th>\n",
       "      <td>Óttar M. Norðfjörð</td>\n",
       "      <td>Icelandic writers</td>\n",
       "      <td>Writers</td>\n",
       "      <td>Óttar Martin Norðfjörð (born 1980) is an Icela...</td>\n",
       "    </tr>\n",
       "    <tr>\n",
       "      <th>4093</th>\n",
       "      <td>Claude Phillips</td>\n",
       "      <td>English writers</td>\n",
       "      <td>Writers</td>\n",
       "      <td>Sir Claude Phillips (29 January 1846 – 9 Augus...</td>\n",
       "    </tr>\n",
       "    <tr>\n",
       "      <th>7477</th>\n",
       "      <td>Francis Moto</td>\n",
       "      <td>Malawian writers</td>\n",
       "      <td>Writers</td>\n",
       "      <td>Professor Francis P. B. Moto (born 1952) is a ...</td>\n",
       "    </tr>\n",
       "    <tr>\n",
       "      <th>7542</th>\n",
       "      <td>Zainal Abidin Ahmad (writer)</td>\n",
       "      <td>Malaysian writers</td>\n",
       "      <td>Writers</td>\n",
       "      <td>Tan Sri Zainal Abidin bin Ahmad (16 September ...</td>\n",
       "    </tr>\n",
       "  </tbody>\n",
       "</table>\n",
       "<p>400 rows × 4 columns</p>\n",
       "</div>"
      ],
      "text/plain": [
       "                            Person          Subcategory    Category  \\\n",
       "104                  Jeanette Epps  American astronauts  Astronauts   \n",
       "288                  Sergey Avdeev   Russian cosmonauts  Astronauts   \n",
       "198                Matthias Maurer    German astronauts  Astronauts   \n",
       "365             Andriyan Nikolayev    Soviet cosmonauts  Astronauts   \n",
       "412                Gennady Manakov    Soviet cosmonauts  Astronauts   \n",
       "...                            ...                  ...         ...   \n",
       "7053                      Uhwudong       Korean writers     Writers   \n",
       "5383            Óttar M. Norðfjörð    Icelandic writers     Writers   \n",
       "4093               Claude Phillips      English writers     Writers   \n",
       "7477                  Francis Moto     Malawian writers     Writers   \n",
       "7542  Zainal Abidin Ahmad (writer)    Malaysian writers     Writers   \n",
       "\n",
       "                                                   Text  \n",
       "104   Jeanette Jo Epps (born November 3, 1970) is an...  \n",
       "288   Sergei Vasilyevich Avdeyev (Сергей Васильевич ...  \n",
       "198   Matthias Josef Maurer (born 18 March 1970) is ...  \n",
       "365   Andriyan Grigoryevich Nikolayev (Chuvash and R...  \n",
       "412   Gennady Mikhailovich Manakov (Russian: Геннади...  \n",
       "...                                                 ...  \n",
       "7053  Eowudong or Uhwudong (어우동, 於宇同; 1440 - 18 Octo...  \n",
       "5383  Óttar Martin Norðfjörð (born 1980) is an Icela...  \n",
       "4093  Sir Claude Phillips (29 January 1846 – 9 Augus...  \n",
       "7477  Professor Francis P. B. Moto (born 1952) is a ...  \n",
       "7542  Tan Sri Zainal Abidin bin Ahmad (16 September ...  \n",
       "\n",
       "[400 rows x 4 columns]"
      ]
     },
     "execution_count": 3,
     "metadata": {},
     "output_type": "execute_result"
    }
   ],
   "source": [
    "df = df.replace(r'\\n',' ', regex=True)\n",
    "df"
   ]
  },
  {
   "cell_type": "code",
   "execution_count": 4,
   "metadata": {
    "id": "IZLaoCbp35KL"
   },
   "outputs": [],
   "source": [
    "#We use spacy for the Data Analysis \n",
    "\n",
    "import spacy \n",
    "\n",
    "nlp = spacy.load('en_core_web_sm')"
   ]
  },
  {
   "cell_type": "markdown",
   "metadata": {
    "id": "5zIwkK4YFmJ-"
   },
   "source": [
    "# **Count sentences of each category**"
   ]
  },
  {
   "cell_type": "code",
   "execution_count": 5,
   "metadata": {
    "id": "3n_YiEigkmbB"
   },
   "outputs": [],
   "source": [
    "def get_sentences(text):\n",
    "    \"\"\"\n",
    "    This function takes a text as an input and return the a list of the sentences of the given text\n",
    "    \"\"\"\n",
    "    doc = nlp(text)\n",
    "    return list(doc.sents)"
   ]
  },
  {
   "cell_type": "code",
   "execution_count": 6,
   "metadata": {
    "id": "o-CGMXKNVEmG"
   },
   "outputs": [
    {
     "data": {
      "text/html": [
       "<div>\n",
       "<style scoped>\n",
       "    .dataframe tbody tr th:only-of-type {\n",
       "        vertical-align: middle;\n",
       "    }\n",
       "\n",
       "    .dataframe tbody tr th {\n",
       "        vertical-align: top;\n",
       "    }\n",
       "\n",
       "    .dataframe thead th {\n",
       "        text-align: right;\n",
       "    }\n",
       "</style>\n",
       "<table border=\"1\" class=\"dataframe\">\n",
       "  <thead>\n",
       "    <tr style=\"text-align: right;\">\n",
       "      <th></th>\n",
       "      <th>Person</th>\n",
       "      <th>Subcategory</th>\n",
       "      <th>Category</th>\n",
       "      <th>Text</th>\n",
       "    </tr>\n",
       "  </thead>\n",
       "  <tbody>\n",
       "    <tr>\n",
       "      <th>104</th>\n",
       "      <td>Jeanette Epps</td>\n",
       "      <td>American astronauts</td>\n",
       "      <td>Astronauts</td>\n",
       "      <td>Jeanette Jo Epps (born November 3, 1970) is an...</td>\n",
       "    </tr>\n",
       "    <tr>\n",
       "      <th>288</th>\n",
       "      <td>Sergey Avdeev</td>\n",
       "      <td>Russian cosmonauts</td>\n",
       "      <td>Astronauts</td>\n",
       "      <td>Sergei Vasilyevich Avdeyev (Сергей Васильевич ...</td>\n",
       "    </tr>\n",
       "    <tr>\n",
       "      <th>198</th>\n",
       "      <td>Matthias Maurer</td>\n",
       "      <td>German astronauts</td>\n",
       "      <td>Astronauts</td>\n",
       "      <td>Matthias Josef Maurer (born 18 March 1970) is ...</td>\n",
       "    </tr>\n",
       "    <tr>\n",
       "      <th>365</th>\n",
       "      <td>Andriyan Nikolayev</td>\n",
       "      <td>Soviet cosmonauts</td>\n",
       "      <td>Astronauts</td>\n",
       "      <td>Andriyan Grigoryevich Nikolayev (Chuvash and R...</td>\n",
       "    </tr>\n",
       "    <tr>\n",
       "      <th>412</th>\n",
       "      <td>Gennady Manakov</td>\n",
       "      <td>Soviet cosmonauts</td>\n",
       "      <td>Astronauts</td>\n",
       "      <td>Gennady Mikhailovich Manakov (Russian: Геннади...</td>\n",
       "    </tr>\n",
       "    <tr>\n",
       "      <th>...</th>\n",
       "      <td>...</td>\n",
       "      <td>...</td>\n",
       "      <td>...</td>\n",
       "      <td>...</td>\n",
       "    </tr>\n",
       "    <tr>\n",
       "      <th>120</th>\n",
       "      <td>James M. Taylor</td>\n",
       "      <td>American astronauts</td>\n",
       "      <td>Astronauts</td>\n",
       "      <td>James Martin Taylor (November 27, 1930 – Septe...</td>\n",
       "    </tr>\n",
       "    <tr>\n",
       "      <th>339</th>\n",
       "      <td>Mark Shuttleworth</td>\n",
       "      <td>South African astronauts</td>\n",
       "      <td>Astronauts</td>\n",
       "      <td>Mark Richard Shuttleworth (born 18 September 1...</td>\n",
       "    </tr>\n",
       "    <tr>\n",
       "      <th>5</th>\n",
       "      <td>Robert Hines (astronaut)</td>\n",
       "      <td>American astronauts</td>\n",
       "      <td>Astronauts</td>\n",
       "      <td>Robert Thomas Hines, Jr. (born January 11, 197...</td>\n",
       "    </tr>\n",
       "    <tr>\n",
       "      <th>158</th>\n",
       "      <td>Dafydd Williams</td>\n",
       "      <td>Canadian astronauts</td>\n",
       "      <td>Astronauts</td>\n",
       "      <td>Dafydd Rhys Williams (alternately known as Dav...</td>\n",
       "    </tr>\n",
       "    <tr>\n",
       "      <th>410</th>\n",
       "      <td>Leonid Popov</td>\n",
       "      <td>Soviet cosmonauts</td>\n",
       "      <td>Astronauts</td>\n",
       "      <td>Leonid Ivanovich Popov (Russian: Леони́д Ива́н...</td>\n",
       "    </tr>\n",
       "  </tbody>\n",
       "</table>\n",
       "<p>200 rows × 4 columns</p>\n",
       "</div>"
      ],
      "text/plain": [
       "                       Person               Subcategory    Category  \\\n",
       "104             Jeanette Epps       American astronauts  Astronauts   \n",
       "288             Sergey Avdeev        Russian cosmonauts  Astronauts   \n",
       "198           Matthias Maurer         German astronauts  Astronauts   \n",
       "365        Andriyan Nikolayev         Soviet cosmonauts  Astronauts   \n",
       "412           Gennady Manakov         Soviet cosmonauts  Astronauts   \n",
       "..                        ...                       ...         ...   \n",
       "120           James M. Taylor       American astronauts  Astronauts   \n",
       "339         Mark Shuttleworth  South African astronauts  Astronauts   \n",
       "5    Robert Hines (astronaut)       American astronauts  Astronauts   \n",
       "158           Dafydd Williams       Canadian astronauts  Astronauts   \n",
       "410              Leonid Popov         Soviet cosmonauts  Astronauts   \n",
       "\n",
       "                                                  Text  \n",
       "104  Jeanette Jo Epps (born November 3, 1970) is an...  \n",
       "288  Sergei Vasilyevich Avdeyev (Сергей Васильевич ...  \n",
       "198  Matthias Josef Maurer (born 18 March 1970) is ...  \n",
       "365  Andriyan Grigoryevich Nikolayev (Chuvash and R...  \n",
       "412  Gennady Mikhailovich Manakov (Russian: Геннади...  \n",
       "..                                                 ...  \n",
       "120  James Martin Taylor (November 27, 1930 – Septe...  \n",
       "339  Mark Richard Shuttleworth (born 18 September 1...  \n",
       "5    Robert Thomas Hines, Jr. (born January 11, 197...  \n",
       "158  Dafydd Rhys Williams (alternately known as Dav...  \n",
       "410  Leonid Ivanovich Popov (Russian: Леони́д Ива́н...  \n",
       "\n",
       "[200 rows x 4 columns]"
      ]
     },
     "execution_count": 6,
     "metadata": {},
     "output_type": "execute_result"
    }
   ],
   "source": [
    "astronauts = df.loc[df['Category'] == 'Astronauts'] #subframe of astronauts \n",
    "astronauts"
   ]
  },
  {
   "cell_type": "code",
   "execution_count": 7,
   "metadata": {
    "id": "ZQvZMjwGfLK_"
   },
   "outputs": [
    {
     "data": {
      "text/html": [
       "<div>\n",
       "<style scoped>\n",
       "    .dataframe tbody tr th:only-of-type {\n",
       "        vertical-align: middle;\n",
       "    }\n",
       "\n",
       "    .dataframe tbody tr th {\n",
       "        vertical-align: top;\n",
       "    }\n",
       "\n",
       "    .dataframe thead th {\n",
       "        text-align: right;\n",
       "    }\n",
       "</style>\n",
       "<table border=\"1\" class=\"dataframe\">\n",
       "  <thead>\n",
       "    <tr style=\"text-align: right;\">\n",
       "      <th></th>\n",
       "      <th>Person</th>\n",
       "      <th>Subcategory</th>\n",
       "      <th>Category</th>\n",
       "      <th>Text</th>\n",
       "    </tr>\n",
       "  </thead>\n",
       "  <tbody>\n",
       "    <tr>\n",
       "      <th>10112</th>\n",
       "      <td>Sagit Agish</td>\n",
       "      <td>Soviet writers</td>\n",
       "      <td>Writers</td>\n",
       "      <td>Sagit Agish (1904–1973) was a Bashkir poet, wr...</td>\n",
       "    </tr>\n",
       "    <tr>\n",
       "      <th>9851</th>\n",
       "      <td>Preller Geldenhuys</td>\n",
       "      <td>South African writers</td>\n",
       "      <td>Writers</td>\n",
       "      <td>(Prop) Preller Geldenhuys was a pilot in the R...</td>\n",
       "    </tr>\n",
       "    <tr>\n",
       "      <th>1005</th>\n",
       "      <td>Marcelo Kohen</td>\n",
       "      <td>Argentine writers</td>\n",
       "      <td>Writers</td>\n",
       "      <td>Marcelo Gustavo Kohen (born August 11, 1957) i...</td>\n",
       "    </tr>\n",
       "    <tr>\n",
       "      <th>6902</th>\n",
       "      <td>Masanobu Fukuoka</td>\n",
       "      <td>Japanese writers</td>\n",
       "      <td>Writers</td>\n",
       "      <td>Masanobu Fukuoka (Japanese: 福岡 正信, Hepburn: Fu...</td>\n",
       "    </tr>\n",
       "    <tr>\n",
       "      <th>9791</th>\n",
       "      <td>James Gregory (prison officer)</td>\n",
       "      <td>South African writers</td>\n",
       "      <td>Writers</td>\n",
       "      <td>James Gregory (7 November 1941 – 2003) was the...</td>\n",
       "    </tr>\n",
       "    <tr>\n",
       "      <th>...</th>\n",
       "      <td>...</td>\n",
       "      <td>...</td>\n",
       "      <td>...</td>\n",
       "      <td>...</td>\n",
       "    </tr>\n",
       "    <tr>\n",
       "      <th>7053</th>\n",
       "      <td>Uhwudong</td>\n",
       "      <td>Korean writers</td>\n",
       "      <td>Writers</td>\n",
       "      <td>Eowudong or Uhwudong (어우동, 於宇同; 1440 - 18 Octo...</td>\n",
       "    </tr>\n",
       "    <tr>\n",
       "      <th>5383</th>\n",
       "      <td>Óttar M. Norðfjörð</td>\n",
       "      <td>Icelandic writers</td>\n",
       "      <td>Writers</td>\n",
       "      <td>Óttar Martin Norðfjörð (born 1980) is an Icela...</td>\n",
       "    </tr>\n",
       "    <tr>\n",
       "      <th>4093</th>\n",
       "      <td>Claude Phillips</td>\n",
       "      <td>English writers</td>\n",
       "      <td>Writers</td>\n",
       "      <td>Sir Claude Phillips (29 January 1846 – 9 Augus...</td>\n",
       "    </tr>\n",
       "    <tr>\n",
       "      <th>7477</th>\n",
       "      <td>Francis Moto</td>\n",
       "      <td>Malawian writers</td>\n",
       "      <td>Writers</td>\n",
       "      <td>Professor Francis P. B. Moto (born 1952) is a ...</td>\n",
       "    </tr>\n",
       "    <tr>\n",
       "      <th>7542</th>\n",
       "      <td>Zainal Abidin Ahmad (writer)</td>\n",
       "      <td>Malaysian writers</td>\n",
       "      <td>Writers</td>\n",
       "      <td>Tan Sri Zainal Abidin bin Ahmad (16 September ...</td>\n",
       "    </tr>\n",
       "  </tbody>\n",
       "</table>\n",
       "<p>200 rows × 4 columns</p>\n",
       "</div>"
      ],
      "text/plain": [
       "                               Person            Subcategory Category  \\\n",
       "10112                     Sagit Agish         Soviet writers  Writers   \n",
       "9851               Preller Geldenhuys  South African writers  Writers   \n",
       "1005                    Marcelo Kohen      Argentine writers  Writers   \n",
       "6902                 Masanobu Fukuoka       Japanese writers  Writers   \n",
       "9791   James Gregory (prison officer)  South African writers  Writers   \n",
       "...                               ...                    ...      ...   \n",
       "7053                         Uhwudong         Korean writers  Writers   \n",
       "5383               Óttar M. Norðfjörð      Icelandic writers  Writers   \n",
       "4093                  Claude Phillips        English writers  Writers   \n",
       "7477                     Francis Moto       Malawian writers  Writers   \n",
       "7542     Zainal Abidin Ahmad (writer)      Malaysian writers  Writers   \n",
       "\n",
       "                                                    Text  \n",
       "10112  Sagit Agish (1904–1973) was a Bashkir poet, wr...  \n",
       "9851   (Prop) Preller Geldenhuys was a pilot in the R...  \n",
       "1005   Marcelo Gustavo Kohen (born August 11, 1957) i...  \n",
       "6902   Masanobu Fukuoka (Japanese: 福岡 正信, Hepburn: Fu...  \n",
       "9791   James Gregory (7 November 1941 – 2003) was the...  \n",
       "...                                                  ...  \n",
       "7053   Eowudong or Uhwudong (어우동, 於宇同; 1440 - 18 Octo...  \n",
       "5383   Óttar Martin Norðfjörð (born 1980) is an Icela...  \n",
       "4093   Sir Claude Phillips (29 January 1846 – 9 Augus...  \n",
       "7477   Professor Francis P. B. Moto (born 1952) is a ...  \n",
       "7542   Tan Sri Zainal Abidin bin Ahmad (16 September ...  \n",
       "\n",
       "[200 rows x 4 columns]"
      ]
     },
     "execution_count": 7,
     "metadata": {},
     "output_type": "execute_result"
    }
   ],
   "source": [
    "writers = df.loc[df['Category'] == 'Writers'] #subframe of writers\n",
    "writers"
   ]
  },
  {
   "cell_type": "code",
   "execution_count": 8,
   "metadata": {
    "id": "RILAuL2Km9Ia"
   },
   "outputs": [
    {
     "name": "stderr",
     "output_type": "stream",
     "text": [
      "<ipython-input-8-aecb5e11d6da>:1: SettingWithCopyWarning: \n",
      "A value is trying to be set on a copy of a slice from a DataFrame.\n",
      "Try using .loc[row_indexer,col_indexer] = value instead\n",
      "\n",
      "See the caveats in the documentation: https://pandas.pydata.org/pandas-docs/stable/user_guide/indexing.html#returning-a-view-versus-a-copy\n",
      "  writers[\"Sentences\"] = writers['Text'].apply(get_sentences)#Aplly the function to the text colum and create a new column with the output\n",
      "<ipython-input-8-aecb5e11d6da>:2: SettingWithCopyWarning: \n",
      "A value is trying to be set on a copy of a slice from a DataFrame.\n",
      "Try using .loc[row_indexer,col_indexer] = value instead\n",
      "\n",
      "See the caveats in the documentation: https://pandas.pydata.org/pandas-docs/stable/user_guide/indexing.html#returning-a-view-versus-a-copy\n",
      "  writers['Num_sentences'] = writers['Sentences'].apply(lambda x: len(x)) #Now we get the number of sentences of each article\n"
     ]
    }
   ],
   "source": [
    "writers[\"Sentences\"] = writers['Text'].apply(get_sentences)#Aplly the function to the text colum and create a new column with the output\n",
    "writers['Num_sentences'] = writers['Sentences'].apply(lambda x: len(x)) #Now we get the number of sentences of each article "
   ]
  },
  {
   "cell_type": "code",
   "execution_count": 9,
   "metadata": {
    "colab": {
     "base_uri": "https://localhost:8080/",
     "height": 641
    },
    "id": "Xsmaax4Kng3N",
    "outputId": "740ae8f3-30d0-4569-9ebb-03e7c1bf492e"
   },
   "outputs": [
    {
     "data": {
      "text/html": [
       "<div>\n",
       "<style scoped>\n",
       "    .dataframe tbody tr th:only-of-type {\n",
       "        vertical-align: middle;\n",
       "    }\n",
       "\n",
       "    .dataframe tbody tr th {\n",
       "        vertical-align: top;\n",
       "    }\n",
       "\n",
       "    .dataframe thead th {\n",
       "        text-align: right;\n",
       "    }\n",
       "</style>\n",
       "<table border=\"1\" class=\"dataframe\">\n",
       "  <thead>\n",
       "    <tr style=\"text-align: right;\">\n",
       "      <th></th>\n",
       "      <th>Person</th>\n",
       "      <th>Subcategory</th>\n",
       "      <th>Category</th>\n",
       "      <th>Text</th>\n",
       "      <th>Sentences</th>\n",
       "      <th>Num_sentences</th>\n",
       "    </tr>\n",
       "  </thead>\n",
       "  <tbody>\n",
       "    <tr>\n",
       "      <th>10112</th>\n",
       "      <td>Sagit Agish</td>\n",
       "      <td>Soviet writers</td>\n",
       "      <td>Writers</td>\n",
       "      <td>Sagit Agish (1904–1973) was a Bashkir poet, wr...</td>\n",
       "      <td>[(Sagit, Agish, (, 1904–1973, ), was, a, Bashk...</td>\n",
       "      <td>13</td>\n",
       "    </tr>\n",
       "    <tr>\n",
       "      <th>9851</th>\n",
       "      <td>Preller Geldenhuys</td>\n",
       "      <td>South African writers</td>\n",
       "      <td>Writers</td>\n",
       "      <td>(Prop) Preller Geldenhuys was a pilot in the R...</td>\n",
       "      <td>[((, Prop, ), Preller, Geldenhuys, was, a, pil...</td>\n",
       "      <td>10</td>\n",
       "    </tr>\n",
       "    <tr>\n",
       "      <th>1005</th>\n",
       "      <td>Marcelo Kohen</td>\n",
       "      <td>Argentine writers</td>\n",
       "      <td>Writers</td>\n",
       "      <td>Marcelo Gustavo Kohen (born August 11, 1957) i...</td>\n",
       "      <td>[(Marcelo, Gustavo, Kohen, (, born, August, 11...</td>\n",
       "      <td>40</td>\n",
       "    </tr>\n",
       "    <tr>\n",
       "      <th>6902</th>\n",
       "      <td>Masanobu Fukuoka</td>\n",
       "      <td>Japanese writers</td>\n",
       "      <td>Writers</td>\n",
       "      <td>Masanobu Fukuoka (Japanese: 福岡 正信, Hepburn: Fu...</td>\n",
       "      <td>[(Masanobu, Fukuoka, (, Japanese, :, 福岡, 正信, ,...</td>\n",
       "      <td>171</td>\n",
       "    </tr>\n",
       "    <tr>\n",
       "      <th>9791</th>\n",
       "      <td>James Gregory (prison officer)</td>\n",
       "      <td>South African writers</td>\n",
       "      <td>Writers</td>\n",
       "      <td>James Gregory (7 November 1941 – 2003) was the...</td>\n",
       "      <td>[(James, Gregory, (, 7, November, 1941, –, 200...</td>\n",
       "      <td>29</td>\n",
       "    </tr>\n",
       "    <tr>\n",
       "      <th>...</th>\n",
       "      <td>...</td>\n",
       "      <td>...</td>\n",
       "      <td>...</td>\n",
       "      <td>...</td>\n",
       "      <td>...</td>\n",
       "      <td>...</td>\n",
       "    </tr>\n",
       "    <tr>\n",
       "      <th>7053</th>\n",
       "      <td>Uhwudong</td>\n",
       "      <td>Korean writers</td>\n",
       "      <td>Writers</td>\n",
       "      <td>Eowudong or Uhwudong (어우동, 於宇同; 1440 - 18 Octo...</td>\n",
       "      <td>[(Eowudong, or, Uhwudong, (, 어우동, ,, 於宇同, ;, 1...</td>\n",
       "      <td>42</td>\n",
       "    </tr>\n",
       "    <tr>\n",
       "      <th>5383</th>\n",
       "      <td>Óttar M. Norðfjörð</td>\n",
       "      <td>Icelandic writers</td>\n",
       "      <td>Writers</td>\n",
       "      <td>Óttar Martin Norðfjörð (born 1980) is an Icela...</td>\n",
       "      <td>[(Óttar, Martin, Norðfjörð, (, born, 1980, ), ...</td>\n",
       "      <td>30</td>\n",
       "    </tr>\n",
       "    <tr>\n",
       "      <th>4093</th>\n",
       "      <td>Claude Phillips</td>\n",
       "      <td>English writers</td>\n",
       "      <td>Writers</td>\n",
       "      <td>Sir Claude Phillips (29 January 1846 – 9 Augus...</td>\n",
       "      <td>[(Sir, Claude, Phillips, (, 29, January, 1846,...</td>\n",
       "      <td>44</td>\n",
       "    </tr>\n",
       "    <tr>\n",
       "      <th>7477</th>\n",
       "      <td>Francis Moto</td>\n",
       "      <td>Malawian writers</td>\n",
       "      <td>Writers</td>\n",
       "      <td>Professor Francis P. B. Moto (born 1952) is a ...</td>\n",
       "      <td>[(Professor, Francis, P., B., Moto, (, born, 1...</td>\n",
       "      <td>43</td>\n",
       "    </tr>\n",
       "    <tr>\n",
       "      <th>7542</th>\n",
       "      <td>Zainal Abidin Ahmad (writer)</td>\n",
       "      <td>Malaysian writers</td>\n",
       "      <td>Writers</td>\n",
       "      <td>Tan Sri Zainal Abidin bin Ahmad (16 September ...</td>\n",
       "      <td>[(Tan, Sri, Zainal, Abidin, bin, Ahmad, (, 16,...</td>\n",
       "      <td>20</td>\n",
       "    </tr>\n",
       "  </tbody>\n",
       "</table>\n",
       "<p>200 rows × 6 columns</p>\n",
       "</div>"
      ],
      "text/plain": [
       "                               Person            Subcategory Category  \\\n",
       "10112                     Sagit Agish         Soviet writers  Writers   \n",
       "9851               Preller Geldenhuys  South African writers  Writers   \n",
       "1005                    Marcelo Kohen      Argentine writers  Writers   \n",
       "6902                 Masanobu Fukuoka       Japanese writers  Writers   \n",
       "9791   James Gregory (prison officer)  South African writers  Writers   \n",
       "...                               ...                    ...      ...   \n",
       "7053                         Uhwudong         Korean writers  Writers   \n",
       "5383               Óttar M. Norðfjörð      Icelandic writers  Writers   \n",
       "4093                  Claude Phillips        English writers  Writers   \n",
       "7477                     Francis Moto       Malawian writers  Writers   \n",
       "7542     Zainal Abidin Ahmad (writer)      Malaysian writers  Writers   \n",
       "\n",
       "                                                    Text  \\\n",
       "10112  Sagit Agish (1904–1973) was a Bashkir poet, wr...   \n",
       "9851   (Prop) Preller Geldenhuys was a pilot in the R...   \n",
       "1005   Marcelo Gustavo Kohen (born August 11, 1957) i...   \n",
       "6902   Masanobu Fukuoka (Japanese: 福岡 正信, Hepburn: Fu...   \n",
       "9791   James Gregory (7 November 1941 – 2003) was the...   \n",
       "...                                                  ...   \n",
       "7053   Eowudong or Uhwudong (어우동, 於宇同; 1440 - 18 Octo...   \n",
       "5383   Óttar Martin Norðfjörð (born 1980) is an Icela...   \n",
       "4093   Sir Claude Phillips (29 January 1846 – 9 Augus...   \n",
       "7477   Professor Francis P. B. Moto (born 1952) is a ...   \n",
       "7542   Tan Sri Zainal Abidin bin Ahmad (16 September ...   \n",
       "\n",
       "                                               Sentences  Num_sentences  \n",
       "10112  [(Sagit, Agish, (, 1904–1973, ), was, a, Bashk...             13  \n",
       "9851   [((, Prop, ), Preller, Geldenhuys, was, a, pil...             10  \n",
       "1005   [(Marcelo, Gustavo, Kohen, (, born, August, 11...             40  \n",
       "6902   [(Masanobu, Fukuoka, (, Japanese, :, 福岡, 正信, ,...            171  \n",
       "9791   [(James, Gregory, (, 7, November, 1941, –, 200...             29  \n",
       "...                                                  ...            ...  \n",
       "7053   [(Eowudong, or, Uhwudong, (, 어우동, ,, 於宇同, ;, 1...             42  \n",
       "5383   [(Óttar, Martin, Norðfjörð, (, born, 1980, ), ...             30  \n",
       "4093   [(Sir, Claude, Phillips, (, 29, January, 1846,...             44  \n",
       "7477   [(Professor, Francis, P., B., Moto, (, born, 1...             43  \n",
       "7542   [(Tan, Sri, Zainal, Abidin, bin, Ahmad, (, 16,...             20  \n",
       "\n",
       "[200 rows x 6 columns]"
      ]
     },
     "execution_count": 9,
     "metadata": {},
     "output_type": "execute_result"
    }
   ],
   "source": [
    "writers"
   ]
  },
  {
   "cell_type": "code",
   "execution_count": 10,
   "metadata": {
    "id": "ComTTuGxDtkI"
   },
   "outputs": [
    {
     "name": "stderr",
     "output_type": "stream",
     "text": [
      "<ipython-input-10-754b28f96a08>:3: SettingWithCopyWarning: \n",
      "A value is trying to be set on a copy of a slice from a DataFrame.\n",
      "Try using .loc[row_indexer,col_indexer] = value instead\n",
      "\n",
      "See the caveats in the documentation: https://pandas.pydata.org/pandas-docs/stable/user_guide/indexing.html#returning-a-view-versus-a-copy\n",
      "  astronauts[\"Sentences\"] = astronauts['Text'].apply(get_sentences)\n",
      "<ipython-input-10-754b28f96a08>:4: SettingWithCopyWarning: \n",
      "A value is trying to be set on a copy of a slice from a DataFrame.\n",
      "Try using .loc[row_indexer,col_indexer] = value instead\n",
      "\n",
      "See the caveats in the documentation: https://pandas.pydata.org/pandas-docs/stable/user_guide/indexing.html#returning-a-view-versus-a-copy\n",
      "  astronauts['Num_sentences'] = astronauts['Sentences'].apply(lambda x: len(x))\n"
     ]
    }
   ],
   "source": [
    "#We do the same with astronauts...\n",
    "\n",
    "astronauts[\"Sentences\"] = astronauts['Text'].apply(get_sentences)\n",
    "astronauts['Num_sentences'] = astronauts['Sentences'].apply(lambda x: len(x))"
   ]
  },
  {
   "cell_type": "code",
   "execution_count": 11,
   "metadata": {
    "colab": {
     "base_uri": "https://localhost:8080/",
     "height": 641
    },
    "id": "PURrCHpeUTQZ",
    "outputId": "d0f26108-ac14-4fda-d2cf-6d3416cd516f"
   },
   "outputs": [
    {
     "data": {
      "text/html": [
       "<div>\n",
       "<style scoped>\n",
       "    .dataframe tbody tr th:only-of-type {\n",
       "        vertical-align: middle;\n",
       "    }\n",
       "\n",
       "    .dataframe tbody tr th {\n",
       "        vertical-align: top;\n",
       "    }\n",
       "\n",
       "    .dataframe thead th {\n",
       "        text-align: right;\n",
       "    }\n",
       "</style>\n",
       "<table border=\"1\" class=\"dataframe\">\n",
       "  <thead>\n",
       "    <tr style=\"text-align: right;\">\n",
       "      <th></th>\n",
       "      <th>Person</th>\n",
       "      <th>Subcategory</th>\n",
       "      <th>Category</th>\n",
       "      <th>Text</th>\n",
       "      <th>Sentences</th>\n",
       "      <th>Num_sentences</th>\n",
       "    </tr>\n",
       "  </thead>\n",
       "  <tbody>\n",
       "    <tr>\n",
       "      <th>104</th>\n",
       "      <td>Jeanette Epps</td>\n",
       "      <td>American astronauts</td>\n",
       "      <td>Astronauts</td>\n",
       "      <td>Jeanette Jo Epps (born November 3, 1970) is an...</td>\n",
       "      <td>[(Jeanette, Jo, Epps, (, born, November, 3, ,,...</td>\n",
       "      <td>41</td>\n",
       "    </tr>\n",
       "    <tr>\n",
       "      <th>288</th>\n",
       "      <td>Sergey Avdeev</td>\n",
       "      <td>Russian cosmonauts</td>\n",
       "      <td>Astronauts</td>\n",
       "      <td>Sergei Vasilyevich Avdeyev (Сергей Васильевич ...</td>\n",
       "      <td>[(Sergei, Vasilyevich, Avdeyev, (, Сергей, Вас...</td>\n",
       "      <td>28</td>\n",
       "    </tr>\n",
       "    <tr>\n",
       "      <th>198</th>\n",
       "      <td>Matthias Maurer</td>\n",
       "      <td>German astronauts</td>\n",
       "      <td>Astronauts</td>\n",
       "      <td>Matthias Josef Maurer (born 18 March 1970) is ...</td>\n",
       "      <td>[(Matthias, Josef, Maurer, (, born, 18, March,...</td>\n",
       "      <td>31</td>\n",
       "    </tr>\n",
       "    <tr>\n",
       "      <th>365</th>\n",
       "      <td>Andriyan Nikolayev</td>\n",
       "      <td>Soviet cosmonauts</td>\n",
       "      <td>Astronauts</td>\n",
       "      <td>Andriyan Grigoryevich Nikolayev (Chuvash and R...</td>\n",
       "      <td>[(Andriyan, Grigoryevich, Nikolayev, (, Chuvas...</td>\n",
       "      <td>52</td>\n",
       "    </tr>\n",
       "    <tr>\n",
       "      <th>412</th>\n",
       "      <td>Gennady Manakov</td>\n",
       "      <td>Soviet cosmonauts</td>\n",
       "      <td>Astronauts</td>\n",
       "      <td>Gennady Mikhailovich Manakov (Russian: Геннади...</td>\n",
       "      <td>[(Gennady, Mikhailovich, Manakov, (, Russian, ...</td>\n",
       "      <td>8</td>\n",
       "    </tr>\n",
       "    <tr>\n",
       "      <th>...</th>\n",
       "      <td>...</td>\n",
       "      <td>...</td>\n",
       "      <td>...</td>\n",
       "      <td>...</td>\n",
       "      <td>...</td>\n",
       "      <td>...</td>\n",
       "    </tr>\n",
       "    <tr>\n",
       "      <th>120</th>\n",
       "      <td>James M. Taylor</td>\n",
       "      <td>American astronauts</td>\n",
       "      <td>Astronauts</td>\n",
       "      <td>James Martin Taylor (November 27, 1930 – Septe...</td>\n",
       "      <td>[(James, Martin, Taylor, (, November, 27, ,, 1...</td>\n",
       "      <td>32</td>\n",
       "    </tr>\n",
       "    <tr>\n",
       "      <th>339</th>\n",
       "      <td>Mark Shuttleworth</td>\n",
       "      <td>South African astronauts</td>\n",
       "      <td>Astronauts</td>\n",
       "      <td>Mark Richard Shuttleworth (born 18 September 1...</td>\n",
       "      <td>[(Mark, Richard, Shuttleworth, (, born, 18, Se...</td>\n",
       "      <td>44</td>\n",
       "    </tr>\n",
       "    <tr>\n",
       "      <th>5</th>\n",
       "      <td>Robert Hines (astronaut)</td>\n",
       "      <td>American astronauts</td>\n",
       "      <td>Astronauts</td>\n",
       "      <td>Robert Thomas Hines, Jr. (born January 11, 197...</td>\n",
       "      <td>[(Robert, Thomas, Hines, ,, Jr., (, born, Janu...</td>\n",
       "      <td>33</td>\n",
       "    </tr>\n",
       "    <tr>\n",
       "      <th>158</th>\n",
       "      <td>Dafydd Williams</td>\n",
       "      <td>Canadian astronauts</td>\n",
       "      <td>Astronauts</td>\n",
       "      <td>Dafydd Rhys Williams (alternately known as Dav...</td>\n",
       "      <td>[(Dafydd, Rhys, Williams, (, alternately, know...</td>\n",
       "      <td>91</td>\n",
       "    </tr>\n",
       "    <tr>\n",
       "      <th>410</th>\n",
       "      <td>Leonid Popov</td>\n",
       "      <td>Soviet cosmonauts</td>\n",
       "      <td>Astronauts</td>\n",
       "      <td>Leonid Ivanovich Popov (Russian: Леони́д Ива́н...</td>\n",
       "      <td>[(Leonid, Ivanovich, Popov, (, Russian, :, Лео...</td>\n",
       "      <td>7</td>\n",
       "    </tr>\n",
       "  </tbody>\n",
       "</table>\n",
       "<p>200 rows × 6 columns</p>\n",
       "</div>"
      ],
      "text/plain": [
       "                       Person               Subcategory    Category  \\\n",
       "104             Jeanette Epps       American astronauts  Astronauts   \n",
       "288             Sergey Avdeev        Russian cosmonauts  Astronauts   \n",
       "198           Matthias Maurer         German astronauts  Astronauts   \n",
       "365        Andriyan Nikolayev         Soviet cosmonauts  Astronauts   \n",
       "412           Gennady Manakov         Soviet cosmonauts  Astronauts   \n",
       "..                        ...                       ...         ...   \n",
       "120           James M. Taylor       American astronauts  Astronauts   \n",
       "339         Mark Shuttleworth  South African astronauts  Astronauts   \n",
       "5    Robert Hines (astronaut)       American astronauts  Astronauts   \n",
       "158           Dafydd Williams       Canadian astronauts  Astronauts   \n",
       "410              Leonid Popov         Soviet cosmonauts  Astronauts   \n",
       "\n",
       "                                                  Text  \\\n",
       "104  Jeanette Jo Epps (born November 3, 1970) is an...   \n",
       "288  Sergei Vasilyevich Avdeyev (Сергей Васильевич ...   \n",
       "198  Matthias Josef Maurer (born 18 March 1970) is ...   \n",
       "365  Andriyan Grigoryevich Nikolayev (Chuvash and R...   \n",
       "412  Gennady Mikhailovich Manakov (Russian: Геннади...   \n",
       "..                                                 ...   \n",
       "120  James Martin Taylor (November 27, 1930 – Septe...   \n",
       "339  Mark Richard Shuttleworth (born 18 September 1...   \n",
       "5    Robert Thomas Hines, Jr. (born January 11, 197...   \n",
       "158  Dafydd Rhys Williams (alternately known as Dav...   \n",
       "410  Leonid Ivanovich Popov (Russian: Леони́д Ива́н...   \n",
       "\n",
       "                                             Sentences  Num_sentences  \n",
       "104  [(Jeanette, Jo, Epps, (, born, November, 3, ,,...             41  \n",
       "288  [(Sergei, Vasilyevich, Avdeyev, (, Сергей, Вас...             28  \n",
       "198  [(Matthias, Josef, Maurer, (, born, 18, March,...             31  \n",
       "365  [(Andriyan, Grigoryevich, Nikolayev, (, Chuvas...             52  \n",
       "412  [(Gennady, Mikhailovich, Manakov, (, Russian, ...              8  \n",
       "..                                                 ...            ...  \n",
       "120  [(James, Martin, Taylor, (, November, 27, ,, 1...             32  \n",
       "339  [(Mark, Richard, Shuttleworth, (, born, 18, Se...             44  \n",
       "5    [(Robert, Thomas, Hines, ,, Jr., (, born, Janu...             33  \n",
       "158  [(Dafydd, Rhys, Williams, (, alternately, know...             91  \n",
       "410  [(Leonid, Ivanovich, Popov, (, Russian, :, Лео...              7  \n",
       "\n",
       "[200 rows x 6 columns]"
      ]
     },
     "execution_count": 11,
     "metadata": {},
     "output_type": "execute_result"
    }
   ],
   "source": [
    "astronauts"
   ]
  },
  {
   "cell_type": "code",
   "execution_count": 12,
   "metadata": {
    "colab": {
     "base_uri": "https://localhost:8080/"
    },
    "id": "zVgrgOKMooUL",
    "outputId": "35c52fab-f58a-4d77-945f-eaf786a88690"
   },
   "outputs": [
    {
     "data": {
      "text/plain": [
       "41"
      ]
     },
     "execution_count": 12,
     "metadata": {},
     "output_type": "execute_result"
    }
   ],
   "source": [
    "len(astronauts[\"Sentences\"].iloc[0])"
   ]
  },
  {
   "cell_type": "code",
   "execution_count": 13,
   "metadata": {
    "id": "CZejfYwjkpd_"
   },
   "outputs": [],
   "source": [
    "def calculate_stats(data):\n",
    "    \"\"\"\n",
    "    This function takes a list of numbers as input, and returns a formatted string\n",
    "    containing the minimum, maximum, and average values.\n",
    "    \"\"\"\n",
    "    minimum = min(data)\n",
    "    maximum = max(data)\n",
    "    average = sum(data) / len(data)\n",
    "\n",
    "    stats_str = f\"This is the average: {average} \\nThis is the maximum: {maximum} \\nThis is the minimum: {minimum}\"\n",
    "\n",
    "    return stats_str"
   ]
  },
  {
   "cell_type": "markdown",
   "metadata": {},
   "source": [
    "Stats for astronauts article length (in sentences):"
   ]
  },
  {
   "cell_type": "code",
   "execution_count": 14,
   "metadata": {
    "colab": {
     "base_uri": "https://localhost:8080/",
     "height": 36
    },
    "id": "wBpEHgPUkrI2",
    "outputId": "5be6b08f-7b7a-436e-e125-bb5b58696432"
   },
   "outputs": [
    {
     "name": "stdout",
     "output_type": "stream",
     "text": [
      "This is the average: 44.025 \n",
      "This is the maximum: 324 \n",
      "This is the minimum: 3\n"
     ]
    }
   ],
   "source": [
    "print(calculate_stats(astronauts['Num_sentences']))"
   ]
  },
  {
   "cell_type": "markdown",
   "metadata": {},
   "source": [
    "Stats for writers article length (in sentences):"
   ]
  },
  {
   "cell_type": "code",
   "execution_count": 15,
   "metadata": {
    "colab": {
     "base_uri": "https://localhost:8080/",
     "height": 36
    },
    "id": "C_gjojexm-fw",
    "outputId": "b405914d-fa9d-4c93-ee75-7cf8ff0da24b"
   },
   "outputs": [
    {
     "name": "stdout",
     "output_type": "stream",
     "text": [
      "This is the average: 30.845 \n",
      "This is the maximum: 267 \n",
      "This is the minimum: 2\n"
     ]
    }
   ],
   "source": [
    "print(calculate_stats(writers['Num_sentences']))"
   ]
  },
  {
   "cell_type": "markdown",
   "metadata": {
    "id": "am3-Rp31nRmm"
   },
   "source": [
    "# Visualization"
   ]
  },
  {
   "cell_type": "code",
   "execution_count": 16,
   "metadata": {
    "id": "ODqKzLG4nTJR"
   },
   "outputs": [],
   "source": [
    "import numpy as np\n",
    "import matplotlib.pyplot as plt"
   ]
  },
  {
   "cell_type": "markdown",
   "metadata": {
    "id": "PuaAyGoTaCP6"
   },
   "source": [
    "### Histograms"
   ]
  },
  {
   "cell_type": "code",
   "execution_count": 17,
   "metadata": {
    "colab": {
     "base_uri": "https://localhost:8080/",
     "height": 410
    },
    "id": "OCWQ--uwUObU",
    "outputId": "a4e3d5a9-ff2e-4cb1-dfb3-bab08a2ee892"
   },
   "outputs": [
    {
     "data": {
      "image/png": "[encoded data removed]",
      "text/plain": [
       "<Figure size 720x288 with 2 Axes>"
      ]
     },
     "metadata": {
      "needs_background": "light"
     },
     "output_type": "display_data"
    }
   ],
   "source": [
    "# Create a figure with two subplots, side-by-side\n",
    "fig, axs = plt.subplots(1, 2, figsize=(10, 4))\n",
    "\n",
    "# Plot the first histogram on the left subplot\n",
    "axs[0].hist(astronauts['Num_sentences'], bins=10,color='pink')\n",
    "axs[0].axvline(x=2, color='r', linestyle='--', label='Minimum')\n",
    "axs[0].axvline(x=324, color='g', linestyle='--', label='Maximum')\n",
    "axs[0].axvline(x=44.25, color='b', linestyle='--', label='Average')\n",
    "axs[0].set_title('Astronauts')\n",
    "\n",
    "# Plot the second histogram on the right subplot\n",
    "axs[1].hist(writers['Num_sentences'], bins=10, color = \"plum\")\n",
    "axs[1].axvline(x=2, color='r', linestyle='--', label='Minimum')\n",
    "axs[1].axvline(x=277, color='g', linestyle='--', label='Maximum')\n",
    "axs[1].axvline(x=31.37, color='b', linestyle='--', label='Average')\n",
    "axs[1].set_title('Writers')\n",
    "\n",
    "\n",
    "# Set the x-axis and y-axis labels for both subplots\n",
    "for ax in axs:\n",
    "    ax.set_xlabel('Number of sentences')\n",
    "    ax.set_ylabel('Frequency')\n",
    "    ax.legend()\n",
    "\n",
    "# Show the figure\n",
    "plt.show()\n"
   ]
  },
  {
   "cell_type": "markdown",
   "metadata": {
    "id": "j33fWBdQah0o"
   },
   "source": [
    "### Boxplots"
   ]
  },
  {
   "cell_type": "code",
   "execution_count": 18,
   "metadata": {
    "colab": {
     "base_uri": "https://localhost:8080/",
     "height": 368
    },
    "id": "ZXmul5HlQfhy",
    "outputId": "3aae651a-675c-4f31-9b04-325ab676e228"
   },
   "outputs": [
    {
     "data": {
      "image/png": "[encoded data removed]",
      "text/plain": [
       "<Figure size 432x288 with 1 Axes>"
      ]
     },
     "metadata": {
      "needs_background": "light"
     },
     "output_type": "display_data"
    }
   ],
   "source": [
    "# Create a figure and a single subplot\n",
    "fig, ax = plt.subplots(figsize=(6, 4))\n",
    "\n",
    "# Plot the boxplots side-by-side using the \"positions\" parameter\n",
    "ax.boxplot([astronauts['Num_sentences'], writers['Num_sentences']], positions=[1, 2])\n",
    "\n",
    "# Set the labels and limits\n",
    "ax.set_xticklabels(['Num of sentences in Astronauts', 'Num of sentences in Writers'])\n",
    "ax.set_xlim(0.5, 2.5)\n",
    "ax.set_ylabel('Frequency')\n",
    "\n",
    "# Show the figure\n",
    "plt.show()"
   ]
  },
  {
   "cell_type": "markdown",
   "metadata": {
    "id": "lBS2rvaHwhs3"
   },
   "source": [
    "## **Tokenization**"
   ]
  },
  {
   "cell_type": "code",
   "execution_count": 19,
   "metadata": {
    "id": "y_wzzWIKMfNf"
   },
   "outputs": [],
   "source": [
    "def tokenize_text(text):\n",
    "    doc = nlp(text)\n",
    "    return [token.text for token in doc if not token.is_punct and not token.is_stop]"
   ]
  },
  {
   "cell_type": "code",
   "execution_count": 20,
   "metadata": {
    "id": "cRteEI4rMm9u"
   },
   "outputs": [],
   "source": [
    "def tokenize_sentence(sentences):\n",
    "    \"\"\"\n",
    "    We tokenize every sentence contain in the list of sentences of each row\n",
    "    It returns a list of lists of tokens, each list is the tokens of a sentence\n",
    "    \"\"\" \n",
    "    list_tokens = []\n",
    "    for s in sentences:\n",
    "        tokenized_sentences = tokenize_text(\" \".join(str(s).split()))\n",
    "        if tokenized_sentences:\n",
    "            list_tokens.append(tokenized_sentences)\n",
    "\n",
    "    return list_tokens"
   ]
  },
  {
   "cell_type": "code",
   "execution_count": 21,
   "metadata": {
    "id": "7oyVbEuyUMOt"
   },
   "outputs": [
    {
     "name": "stderr",
     "output_type": "stream",
     "text": [
      "<ipython-input-21-60ee6e6b95ff>:2: SettingWithCopyWarning: \n",
      "A value is trying to be set on a copy of a slice from a DataFrame.\n",
      "Try using .loc[row_indexer,col_indexer] = value instead\n",
      "\n",
      "See the caveats in the documentation: https://pandas.pydata.org/pandas-docs/stable/user_guide/indexing.html#returning-a-view-versus-a-copy\n",
      "  astronauts[\"tokenized_sentences\"] = astronauts[\"Sentences\"].apply(tokenize_sentence)\n"
     ]
    }
   ],
   "source": [
    "#We apply the the function tokenize_sentence to astronauts and create a new colum with the result\n",
    "astronauts[\"tokenized_sentences\"] = astronauts[\"Sentences\"].apply(tokenize_sentence)\n",
    "astronauts.to_csv('output_astronauts.csv', index=False)"
   ]
  },
  {
   "cell_type": "code",
   "execution_count": 22,
   "metadata": {
    "id": "w6asRtrre9Z-"
   },
   "outputs": [
    {
     "name": "stderr",
     "output_type": "stream",
     "text": [
      "<ipython-input-22-db40daaeb631>:2: SettingWithCopyWarning: \n",
      "A value is trying to be set on a copy of a slice from a DataFrame.\n",
      "Try using .loc[row_indexer,col_indexer] = value instead\n",
      "\n",
      "See the caveats in the documentation: https://pandas.pydata.org/pandas-docs/stable/user_guide/indexing.html#returning-a-view-versus-a-copy\n",
      "  writers[\"tokenized_sentences\"] =writers[\"Sentences\"].apply(tokenize_sentence)\n"
     ]
    }
   ],
   "source": [
    "#We apply the the function tokenize_sentence to writers and create a new colum with the result\n",
    "writers[\"tokenized_sentences\"] =writers[\"Sentences\"].apply(tokenize_sentence) "
   ]
  },
  {
   "cell_type": "markdown",
   "metadata": {
    "id": "g_Lydb55F-Lj"
   },
   "source": [
    "Now we count the number of tokens of each sentences and represent the output"
   ]
  },
  {
   "cell_type": "code",
   "execution_count": 23,
   "metadata": {
    "id": "l-c8cwwkF9O2"
   },
   "outputs": [],
   "source": [
    "def count_tokens(list_sentences):\n",
    "    \"\"\"\n",
    "    This function returns a list of token counts for the sentences contained in\n",
    "    the specified column.\n",
    "    \"\"\"\n",
    "    # Create an empty list to store the token counts\n",
    "    token_counts = []\n",
    "    for sentence in list_sentences:\n",
    "        token_counts.append(len(sentence))\n",
    "\n",
    "    # Return the token counts as a list\n",
    "    return token_counts"
   ]
  },
  {
   "cell_type": "code",
   "execution_count": 24,
   "metadata": {
    "id": "wWG2YQ-YTDJq"
   },
   "outputs": [],
   "source": [
    "#we count the tokens of each sentence\n",
    "\n",
    "tokens_per_sentence_wr = writers[\"tokenized_sentences\"].apply(count_tokens)\n",
    "tokens_per_sentence_as = astronauts[\"tokenized_sentences\"].apply(count_tokens)"
   ]
  },
  {
   "cell_type": "code",
   "execution_count": 25,
   "metadata": {
    "id": "8os6am0nbtBC"
   },
   "outputs": [],
   "source": [
    "#We count the total tokens of each row\n",
    "\n",
    "total_wr= tokens_per_sentence_wr.apply(lambda x: sum(x))\n",
    "total_as= tokens_per_sentence_as.apply(lambda x: sum(x))"
   ]
  },
  {
   "cell_type": "markdown",
   "metadata": {},
   "source": [
    "The stats for token count per article for `Writers`:"
   ]
  },
  {
   "cell_type": "code",
   "execution_count": 26,
   "metadata": {
    "colab": {
     "base_uri": "https://localhost:8080/",
     "height": 36
    },
    "id": "Q-W--8AQhw5U",
    "outputId": "8f06046b-906c-4562-e449-1fec6e87e3dc"
   },
   "outputs": [
    {
     "name": "stdout",
     "output_type": "stream",
     "text": [
      "This is the average: 355.71 \n",
      "This is the maximum: 3680 \n",
      "This is the minimum: 13\n"
     ]
    }
   ],
   "source": [
    "#We get the min, max and avg\n",
    "print(calculate_stats(total_wr))"
   ]
  },
  {
   "cell_type": "markdown",
   "metadata": {},
   "source": [
    "The stats for token count per article for `Astronauts`:"
   ]
  },
  {
   "cell_type": "code",
   "execution_count": 27,
   "metadata": {
    "colab": {
     "base_uri": "https://localhost:8080/",
     "height": 36
    },
    "id": "I7h4zErKh6qm",
    "outputId": "3872d311-9852-49e4-85f2-f62deadeced7"
   },
   "outputs": [
    {
     "name": "stdout",
     "output_type": "stream",
     "text": [
      "This is the average: 557.93 \n",
      "This is the maximum: 4452 \n",
      "This is the minimum: 33\n"
     ]
    }
   ],
   "source": [
    "print(calculate_stats(total_as))"
   ]
  },
  {
   "cell_type": "markdown",
   "metadata": {
    "id": "3o452JDOb3aU"
   },
   "source": [
    "# **Visualization**"
   ]
  },
  {
   "cell_type": "code",
   "execution_count": 28,
   "metadata": {
    "colab": {
     "base_uri": "https://localhost:8080/",
     "height": 472
    },
    "id": "vFAXoawWTKC9",
    "outputId": "c6323f8e-fd6d-42c4-ca77-d64765ef3e54"
   },
   "outputs": [
    {
     "data": {
      "image/png": "[encoded data removed]",
      "text/plain": [
       "<Figure size 432x288 with 1 Axes>"
      ]
     },
     "metadata": {
      "needs_background": "light"
     },
     "output_type": "display_data"
    }
   ],
   "source": [
    "#Histogram of tokens per sentence - Writers\n",
    "\n",
    "plt.hist(tokens_per_sentence_wr, bins=1)\n",
    "\n",
    "# Add labels and a title to the plot\n",
    "plt.xlabel(\"Number of Tokens\")\n",
    "plt.ylabel(\"Number of sentences\")\n",
    "plt.title(\"Distribution of tokens per sentence - Writers\")\n",
    "\n",
    "# Show the plot\n",
    "plt.show()"
   ]
  },
  {
   "cell_type": "code",
   "execution_count": 29,
   "metadata": {
    "colab": {
     "base_uri": "https://localhost:8080/",
     "height": 472
    },
    "id": "f9be0F_0cXWY",
    "outputId": "9c1f40ff-32e6-47a2-ee7e-bc2561a47c6f"
   },
   "outputs": [
    {
     "data": {
      "image/png": "[encoded data removed]",
      "text/plain": [
       "<Figure size 432x288 with 1 Axes>"
      ]
     },
     "metadata": {
      "needs_background": "light"
     },
     "output_type": "display_data"
    }
   ],
   "source": [
    "#Histogram of tokens per sentence - Astronauts\n",
    "\n",
    "plt.hist(tokens_per_sentence_as, bins=1)\n",
    "\n",
    "# Add labels and a title to the plot\n",
    "plt.xlabel(\"Number of Tokens\")\n",
    "plt.ylabel(\"Number of sentences\")\n",
    "plt.title(\"Distribution of tokens per sentence - Astronauts\")\n",
    "\n",
    "# Show the plot\n",
    "plt.show()"
   ]
  },
  {
   "cell_type": "markdown",
   "metadata": {
    "id": "MbLAzmdPdCVO"
   },
   "source": [
    "Histograms of tokens per category"
   ]
  },
  {
   "cell_type": "code",
   "execution_count": 30,
   "metadata": {
    "colab": {
     "base_uri": "https://localhost:8080/",
     "height": 410
    },
    "id": "xcCT6LlIdBkw",
    "outputId": "d555c233-3414-49c0-e5b5-b4e98ac00235"
   },
   "outputs": [
    {
     "data": {
      "image/png": "[encoded data removed]",
      "text/plain": [
       "<Figure size 720x288 with 2 Axes>"
      ]
     },
     "metadata": {
      "needs_background": "light"
     },
     "output_type": "display_data"
    }
   ],
   "source": [
    "# Create a figure with two subplots, side-by-side\n",
    "fig, axs = plt.subplots(1, 2, figsize=(10, 4))\n",
    "\n",
    "# Plot the first histogram on the left subplot\n",
    "axs[0].hist(total_wr, bins=50,color='pink',edgecolor='black')\n",
    "axs[0].set_title('Writers')\n",
    "\n",
    "# Plot the second histogram on the right subplot\n",
    "axs[1].hist(total_as, bins=50, color = \"mediumpurple\",edgecolor='black')\n",
    "axs[1].set_title('Astronauts')\n",
    "\n",
    "\n",
    "# Set the x-axis and y-axis labels for both subplots\n",
    "for ax in axs:\n",
    "    ax.set_xlabel('Number of tokens')\n",
    "    ax.set_ylabel('Frequency')\n",
    "\n",
    "# Show the figure\n",
    "plt.show()"
   ]
  },
  {
   "cell_type": "markdown",
   "metadata": {
    "id": "H1Xvc3G_eWQO"
   },
   "source": [
    "# **Name entity recognition**"
   ]
  },
  {
   "cell_type": "code",
   "execution_count": 31,
   "metadata": {
    "id": "QzCHr6sUeZtz"
   },
   "outputs": [],
   "source": [
    "def get_entities(text):\n",
    "    \"\"\"\n",
    "    We create a function to extract the entities from a text\n",
    "    \"\"\"\n",
    "    list_entities= []\n",
    "    for ent in nlp(text).ents:\n",
    "        list_entities.append(ent.label_)\n",
    "    return(list_entities)"
   ]
  },
  {
   "cell_type": "code",
   "execution_count": 32,
   "metadata": {
    "id": "ExBR8pEQefMq"
   },
   "outputs": [],
   "source": [
    "#We apply it to the column text of the dataset\n",
    "\n",
    "entities_as = astronauts[\"Text\"].apply(get_entities)\n",
    "entities_wr = writers[\"Text\"].apply(get_entities)"
   ]
  },
  {
   "cell_type": "code",
   "execution_count": 33,
   "metadata": {
    "id": "w_UNuDyeeqQq"
   },
   "outputs": [
    {
     "data": {
      "text/html": [
       "<span class=\"tex2jax_ignore\"><div class=\"entities\" style=\"line-height: 2.5; direction: ltr\">\n",
       "<mark class=\"entity\" style=\"background: #aa9cfc; padding: 0.45em 0.6em; margin: 0 0.25em; line-height: 1; border-radius: 0.35em;\">\n",
       "    Frank Curtis &quot;Curt&quot; Michel\n",
       "    <span style=\"font-size: 0.8em; font-weight: bold; line-height: 1; border-radius: 0.35em; vertical-align: middle; margin-left: 0.5rem\">PERSON</span>\n",
       "</mark>\n",
       " (\n",
       "<mark class=\"entity\" style=\"background: #bfe1d9; padding: 0.45em 0.6em; margin: 0 0.25em; line-height: 1; border-radius: 0.35em;\">\n",
       "    June 5, 1934\n",
       "    <span style=\"font-size: 0.8em; font-weight: bold; line-height: 1; border-radius: 0.35em; vertical-align: middle; margin-left: 0.5rem\">DATE</span>\n",
       "</mark>\n",
       " – \n",
       "<mark class=\"entity\" style=\"background: #bfe1d9; padding: 0.45em 0.6em; margin: 0 0.25em; line-height: 1; border-radius: 0.35em;\">\n",
       "    February 26, 2015\n",
       "    <span style=\"font-size: 0.8em; font-weight: bold; line-height: 1; border-radius: 0.35em; vertical-align: middle; margin-left: 0.5rem\">DATE</span>\n",
       "</mark>\n",
       ") was an \n",
       "<mark class=\"entity\" style=\"background: #c887fb; padding: 0.45em 0.6em; margin: 0 0.25em; line-height: 1; border-radius: 0.35em;\">\n",
       "    American\n",
       "    <span style=\"font-size: 0.8em; font-weight: bold; line-height: 1; border-radius: 0.35em; vertical-align: middle; margin-left: 0.5rem\">NORP</span>\n",
       "</mark>\n",
       " astrophysicist; a professor of astrophysics at \n",
       "<mark class=\"entity\" style=\"background: #7aecec; padding: 0.45em 0.6em; margin: 0 0.25em; line-height: 1; border-radius: 0.35em;\">\n",
       "    Rice University\n",
       "    <span style=\"font-size: 0.8em; font-weight: bold; line-height: 1; border-radius: 0.35em; vertical-align: middle; margin-left: 0.5rem\">ORG</span>\n",
       "</mark>\n",
       " in \n",
       "<mark class=\"entity\" style=\"background: #feca74; padding: 0.45em 0.6em; margin: 0 0.25em; line-height: 1; border-radius: 0.35em;\">\n",
       "    Houston\n",
       "    <span style=\"font-size: 0.8em; font-weight: bold; line-height: 1; border-radius: 0.35em; vertical-align: middle; margin-left: 0.5rem\">GPE</span>\n",
       "</mark>\n",
       ", \n",
       "<mark class=\"entity\" style=\"background: #feca74; padding: 0.45em 0.6em; margin: 0 0.25em; line-height: 1; border-radius: 0.35em;\">\n",
       "    Texas\n",
       "    <span style=\"font-size: 0.8em; font-weight: bold; line-height: 1; border-radius: 0.35em; vertical-align: middle; margin-left: 0.5rem\">GPE</span>\n",
       "</mark>\n",
       "; a \n",
       "<mark class=\"entity\" style=\"background: #feca74; padding: 0.45em 0.6em; margin: 0 0.25em; line-height: 1; border-radius: 0.35em;\">\n",
       "    United States\n",
       "    <span style=\"font-size: 0.8em; font-weight: bold; line-height: 1; border-radius: 0.35em; vertical-align: middle; margin-left: 0.5rem\">GPE</span>\n",
       "</mark>\n",
       " \n",
       "<mark class=\"entity\" style=\"background: #7aecec; padding: 0.45em 0.6em; margin: 0 0.25em; line-height: 1; border-radius: 0.35em;\">\n",
       "    Air Force\n",
       "    <span style=\"font-size: 0.8em; font-weight: bold; line-height: 1; border-radius: 0.35em; vertical-align: middle; margin-left: 0.5rem\">ORG</span>\n",
       "</mark>\n",
       " pilot; and a \n",
       "<mark class=\"entity\" style=\"background: #7aecec; padding: 0.45em 0.6em; margin: 0 0.25em; line-height: 1; border-radius: 0.35em;\">\n",
       "    NASA\n",
       "    <span style=\"font-size: 0.8em; font-weight: bold; line-height: 1; border-radius: 0.35em; vertical-align: middle; margin-left: 0.5rem\">ORG</span>\n",
       "</mark>\n",
       " astronaut. Personal life \n",
       "<mark class=\"entity\" style=\"background: #aa9cfc; padding: 0.45em 0.6em; margin: 0 0.25em; line-height: 1; border-radius: 0.35em;\">\n",
       "    Michel\n",
       "    <span style=\"font-size: 0.8em; font-weight: bold; line-height: 1; border-radius: 0.35em; vertical-align: middle; margin-left: 0.5rem\">PERSON</span>\n",
       "</mark>\n",
       " was born \n",
       "<mark class=\"entity\" style=\"background: #bfe1d9; padding: 0.45em 0.6em; margin: 0 0.25em; line-height: 1; border-radius: 0.35em;\">\n",
       "    June 5, 1934\n",
       "    <span style=\"font-size: 0.8em; font-weight: bold; line-height: 1; border-radius: 0.35em; vertical-align: middle; margin-left: 0.5rem\">DATE</span>\n",
       "</mark>\n",
       ", to parents to \n",
       "<mark class=\"entity\" style=\"background: #aa9cfc; padding: 0.45em 0.6em; margin: 0 0.25em; line-height: 1; border-radius: 0.35em;\">\n",
       "    Frank\n",
       "    <span style=\"font-size: 0.8em; font-weight: bold; line-height: 1; border-radius: 0.35em; vertical-align: middle; margin-left: 0.5rem\">PERSON</span>\n",
       "</mark>\n",
       " and \n",
       "<mark class=\"entity\" style=\"background: #aa9cfc; padding: 0.45em 0.6em; margin: 0 0.25em; line-height: 1; border-radius: 0.35em;\">\n",
       "    Viola Michel\n",
       "    <span style=\"font-size: 0.8em; font-weight: bold; line-height: 1; border-radius: 0.35em; vertical-align: middle; margin-left: 0.5rem\">PERSON</span>\n",
       "</mark>\n",
       ". He was married to \n",
       "<mark class=\"entity\" style=\"background: #aa9cfc; padding: 0.45em 0.6em; margin: 0 0.25em; line-height: 1; border-radius: 0.35em;\">\n",
       "    Bonnie Hausman\n",
       "    <span style=\"font-size: 0.8em; font-weight: bold; line-height: 1; border-radius: 0.35em; vertical-align: middle; margin-left: 0.5rem\">PERSON</span>\n",
       "</mark>\n",
       ", a web technical specialist. They had \n",
       "<mark class=\"entity\" style=\"background: #e4e7d2; padding: 0.45em 0.6em; margin: 0 0.25em; line-height: 1; border-radius: 0.35em;\">\n",
       "    two\n",
       "    <span style=\"font-size: 0.8em; font-weight: bold; line-height: 1; border-radius: 0.35em; vertical-align: middle; margin-left: 0.5rem\">CARDINAL</span>\n",
       "</mark>\n",
       " children. His hobbies were photography, tennis, handball, and baseball. \n",
       "<mark class=\"entity\" style=\"background: #aa9cfc; padding: 0.45em 0.6em; margin: 0 0.25em; line-height: 1; border-radius: 0.35em;\">\n",
       "    Michel\n",
       "    <span style=\"font-size: 0.8em; font-weight: bold; line-height: 1; border-radius: 0.35em; vertical-align: middle; margin-left: 0.5rem\">PERSON</span>\n",
       "</mark>\n",
       " died at \n",
       "<mark class=\"entity\" style=\"background: #bfe1d9; padding: 0.45em 0.6em; margin: 0 0.25em; line-height: 1; border-radius: 0.35em;\">\n",
       "    the age of 80\n",
       "    <span style=\"font-size: 0.8em; font-weight: bold; line-height: 1; border-radius: 0.35em; vertical-align: middle; margin-left: 0.5rem\">DATE</span>\n",
       "</mark>\n",
       " on \n",
       "<mark class=\"entity\" style=\"background: #bfe1d9; padding: 0.45em 0.6em; margin: 0 0.25em; line-height: 1; border-radius: 0.35em;\">\n",
       "    February 26, 2015\n",
       "    <span style=\"font-size: 0.8em; font-weight: bold; line-height: 1; border-radius: 0.35em; vertical-align: middle; margin-left: 0.5rem\">DATE</span>\n",
       "</mark>\n",
       ". He was buried with full military honors at \n",
       "<mark class=\"entity\" style=\"background: #7aecec; padding: 0.45em 0.6em; margin: 0 0.25em; line-height: 1; border-radius: 0.35em;\">\n",
       "    the Houston National Cemetery\n",
       "    <span style=\"font-size: 0.8em; font-weight: bold; line-height: 1; border-radius: 0.35em; vertical-align: middle; margin-left: 0.5rem\">ORG</span>\n",
       "</mark>\n",
       ". Education \n",
       "<mark class=\"entity\" style=\"background: #aa9cfc; padding: 0.45em 0.6em; margin: 0 0.25em; line-height: 1; border-radius: 0.35em;\">\n",
       "    Michel\n",
       "    <span style=\"font-size: 0.8em; font-weight: bold; line-height: 1; border-radius: 0.35em; vertical-align: middle; margin-left: 0.5rem\">PERSON</span>\n",
       "</mark>\n",
       " graduated from \n",
       "<mark class=\"entity\" style=\"background: #aa9cfc; padding: 0.45em 0.6em; margin: 0 0.25em; line-height: 1; border-radius: 0.35em;\">\n",
       "    C. K. McClatchy High School\n",
       "    <span style=\"font-size: 0.8em; font-weight: bold; line-height: 1; border-radius: 0.35em; vertical-align: middle; margin-left: 0.5rem\">PERSON</span>\n",
       "</mark>\n",
       ", located at \n",
       "<mark class=\"entity\" style=\"background: #feca74; padding: 0.45em 0.6em; margin: 0 0.25em; line-height: 1; border-radius: 0.35em;\">\n",
       "    Sacramento\n",
       "    <span style=\"font-size: 0.8em; font-weight: bold; line-height: 1; border-radius: 0.35em; vertical-align: middle; margin-left: 0.5rem\">GPE</span>\n",
       "</mark>\n",
       ", \n",
       "<mark class=\"entity\" style=\"background: #feca74; padding: 0.45em 0.6em; margin: 0 0.25em; line-height: 1; border-radius: 0.35em;\">\n",
       "    California\n",
       "    <span style=\"font-size: 0.8em; font-weight: bold; line-height: 1; border-radius: 0.35em; vertical-align: middle; margin-left: 0.5rem\">GPE</span>\n",
       "</mark>\n",
       ", in \n",
       "<mark class=\"entity\" style=\"background: #bfe1d9; padding: 0.45em 0.6em; margin: 0 0.25em; line-height: 1; border-radius: 0.35em;\">\n",
       "    1951\n",
       "    <span style=\"font-size: 0.8em; font-weight: bold; line-height: 1; border-radius: 0.35em; vertical-align: middle; margin-left: 0.5rem\">DATE</span>\n",
       "</mark>\n",
       ". In \n",
       "<mark class=\"entity\" style=\"background: #bfe1d9; padding: 0.45em 0.6em; margin: 0 0.25em; line-height: 1; border-radius: 0.35em;\">\n",
       "    1955\n",
       "    <span style=\"font-size: 0.8em; font-weight: bold; line-height: 1; border-radius: 0.35em; vertical-align: middle; margin-left: 0.5rem\">DATE</span>\n",
       "</mark>\n",
       ", he received a Bachelor of Science degree with honors in physics, and in \n",
       "<mark class=\"entity\" style=\"background: #bfe1d9; padding: 0.45em 0.6em; margin: 0 0.25em; line-height: 1; border-radius: 0.35em;\">\n",
       "    1962\n",
       "    <span style=\"font-size: 0.8em; font-weight: bold; line-height: 1; border-radius: 0.35em; vertical-align: middle; margin-left: 0.5rem\">DATE</span>\n",
       "</mark>\n",
       " he received a doctorate in physics, both from \n",
       "<mark class=\"entity\" style=\"background: #7aecec; padding: 0.45em 0.6em; margin: 0 0.25em; line-height: 1; border-radius: 0.35em;\">\n",
       "    the California Institute of Technology\n",
       "    <span style=\"font-size: 0.8em; font-weight: bold; line-height: 1; border-radius: 0.35em; vertical-align: middle; margin-left: 0.5rem\">ORG</span>\n",
       "</mark>\n",
       ". His thesis was &quot;\n",
       "<mark class=\"entity\" style=\"background: #f0d0ff; padding: 0.45em 0.6em; margin: 0 0.25em; line-height: 1; border-radius: 0.35em;\">\n",
       "    Beta Spectra\n",
       "    <span style=\"font-size: 0.8em; font-weight: bold; line-height: 1; border-radius: 0.35em; vertical-align: middle; margin-left: 0.5rem\">WORK_OF_ART</span>\n",
       "</mark>\n",
       " of the Mass 12 Nuclei&quot; and his dissertation advisor was \n",
       "<mark class=\"entity\" style=\"background: #aa9cfc; padding: 0.45em 0.6em; margin: 0 0.25em; line-height: 1; border-radius: 0.35em;\">\n",
       "    Thomas Lauritsen\n",
       "    <span style=\"font-size: 0.8em; font-weight: bold; line-height: 1; border-radius: 0.35em; vertical-align: middle; margin-left: 0.5rem\">PERSON</span>\n",
       "</mark>\n",
       ". Nobel laureate \n",
       "<mark class=\"entity\" style=\"background: #aa9cfc; padding: 0.45em 0.6em; margin: 0 0.25em; line-height: 1; border-radius: 0.35em;\">\n",
       "    William Alfred Fowler\n",
       "    <span style=\"font-size: 0.8em; font-weight: bold; line-height: 1; border-radius: 0.35em; vertical-align: middle; margin-left: 0.5rem\">PERSON</span>\n",
       "</mark>\n",
       " also served on his committee.While on the faculty of \n",
       "<mark class=\"entity\" style=\"background: #7aecec; padding: 0.45em 0.6em; margin: 0 0.25em; line-height: 1; border-radius: 0.35em;\">\n",
       "    Rice University\n",
       "    <span style=\"font-size: 0.8em; font-weight: bold; line-height: 1; border-radius: 0.35em; vertical-align: middle; margin-left: 0.5rem\">ORG</span>\n",
       "</mark>\n",
       ", \n",
       "<mark class=\"entity\" style=\"background: #aa9cfc; padding: 0.45em 0.6em; margin: 0 0.25em; line-height: 1; border-radius: 0.35em;\">\n",
       "    Michel\n",
       "    <span style=\"font-size: 0.8em; font-weight: bold; line-height: 1; border-radius: 0.35em; vertical-align: middle; margin-left: 0.5rem\">PERSON</span>\n",
       "</mark>\n",
       " oversaw the dissertations of \n",
       "<mark class=\"entity\" style=\"background: #aa9cfc; padding: 0.45em 0.6em; margin: 0 0.25em; line-height: 1; border-radius: 0.35em;\">\n",
       "    Jerry Modisette\n",
       "    <span style=\"font-size: 0.8em; font-weight: bold; line-height: 1; border-radius: 0.35em; vertical-align: middle; margin-left: 0.5rem\">PERSON</span>\n",
       "</mark>\n",
       ", \n",
       "<mark class=\"entity\" style=\"background: #aa9cfc; padding: 0.45em 0.6em; margin: 0 0.25em; line-height: 1; border-radius: 0.35em;\">\n",
       "    Robert LaQuey\n",
       "    <span style=\"font-size: 0.8em; font-weight: bold; line-height: 1; border-radius: 0.35em; vertical-align: middle; margin-left: 0.5rem\">PERSON</span>\n",
       "</mark>\n",
       ", \n",
       "<mark class=\"entity\" style=\"background: #aa9cfc; padding: 0.45em 0.6em; margin: 0 0.25em; line-height: 1; border-radius: 0.35em;\">\n",
       "    Robert Manka\n",
       "    <span style=\"font-size: 0.8em; font-weight: bold; line-height: 1; border-radius: 0.35em; vertical-align: middle; margin-left: 0.5rem\">PERSON</span>\n",
       "</mark>\n",
       ", \n",
       "<mark class=\"entity\" style=\"background: #7aecec; padding: 0.45em 0.6em; margin: 0 0.25em; line-height: 1; border-radius: 0.35em;\">\n",
       "    Cliff Morris\n",
       "    <span style=\"font-size: 0.8em; font-weight: bold; line-height: 1; border-radius: 0.35em; vertical-align: middle; margin-left: 0.5rem\">ORG</span>\n",
       "</mark>\n",
       ", \n",
       "<mark class=\"entity\" style=\"background: #aa9cfc; padding: 0.45em 0.6em; margin: 0 0.25em; line-height: 1; border-radius: 0.35em;\">\n",
       "    Michael Pelizzari\n",
       "    <span style=\"font-size: 0.8em; font-weight: bold; line-height: 1; border-radius: 0.35em; vertical-align: middle; margin-left: 0.5rem\">PERSON</span>\n",
       "</mark>\n",
       ", \n",
       "<mark class=\"entity\" style=\"background: #aa9cfc; padding: 0.45em 0.6em; margin: 0 0.25em; line-height: 1; border-radius: 0.35em;\">\n",
       "    Jürgen Krause-Polstorff\n",
       "    <span style=\"font-size: 0.8em; font-weight: bold; line-height: 1; border-radius: 0.35em; vertical-align: middle; margin-left: 0.5rem\">PERSON</span>\n",
       "</mark>\n",
       ", \n",
       "<mark class=\"entity\" style=\"background: #aa9cfc; padding: 0.45em 0.6em; margin: 0 0.25em; line-height: 1; border-radius: 0.35em;\">\n",
       "    James Sokolowski\n",
       "    <span style=\"font-size: 0.8em; font-weight: bold; line-height: 1; border-radius: 0.35em; vertical-align: middle; margin-left: 0.5rem\">PERSON</span>\n",
       "</mark>\n",
       ", and \n",
       "<mark class=\"entity\" style=\"background: #aa9cfc; padding: 0.45em 0.6em; margin: 0 0.25em; line-height: 1; border-radius: 0.35em;\">\n",
       "    Steven Sturner\n",
       "    <span style=\"font-size: 0.8em; font-weight: bold; line-height: 1; border-radius: 0.35em; vertical-align: middle; margin-left: 0.5rem\">PERSON</span>\n",
       "</mark>\n",
       ". Organizations \n",
       "<mark class=\"entity\" style=\"background: #aa9cfc; padding: 0.45em 0.6em; margin: 0 0.25em; line-height: 1; border-radius: 0.35em;\">\n",
       "    Michel\n",
       "    <span style=\"font-size: 0.8em; font-weight: bold; line-height: 1; border-radius: 0.35em; vertical-align: middle; margin-left: 0.5rem\">PERSON</span>\n",
       "</mark>\n",
       " was a fellow of \n",
       "<mark class=\"entity\" style=\"background: #7aecec; padding: 0.45em 0.6em; margin: 0 0.25em; line-height: 1; border-radius: 0.35em;\">\n",
       "    the American Physical Society\n",
       "    <span style=\"font-size: 0.8em; font-weight: bold; line-height: 1; border-radius: 0.35em; vertical-align: middle; margin-left: 0.5rem\">ORG</span>\n",
       "</mark>\n",
       " and a member of \n",
       "<mark class=\"entity\" style=\"background: #7aecec; padding: 0.45em 0.6em; margin: 0 0.25em; line-height: 1; border-radius: 0.35em;\">\n",
       "    the American Geophysical Union\n",
       "    <span style=\"font-size: 0.8em; font-weight: bold; line-height: 1; border-radius: 0.35em; vertical-align: middle; margin-left: 0.5rem\">ORG</span>\n",
       "</mark>\n",
       ", and \n",
       "<mark class=\"entity\" style=\"background: #7aecec; padding: 0.45em 0.6em; margin: 0 0.25em; line-height: 1; border-radius: 0.35em;\">\n",
       "    the American Astronomical Society\n",
       "    <span style=\"font-size: 0.8em; font-weight: bold; line-height: 1; border-radius: 0.35em; vertical-align: middle; margin-left: 0.5rem\">ORG</span>\n",
       "</mark>\n",
       ". Experience \n",
       "<mark class=\"entity\" style=\"background: #aa9cfc; padding: 0.45em 0.6em; margin: 0 0.25em; line-height: 1; border-radius: 0.35em;\">\n",
       "    Michel\n",
       "    <span style=\"font-size: 0.8em; font-weight: bold; line-height: 1; border-radius: 0.35em; vertical-align: middle; margin-left: 0.5rem\">PERSON</span>\n",
       "</mark>\n",
       " was a junior engineer with \n",
       "<mark class=\"entity\" style=\"background: #7aecec; padding: 0.45em 0.6em; margin: 0 0.25em; line-height: 1; border-radius: 0.35em;\">\n",
       "    the Firestone Tire and Rubber Company's\n",
       "    <span style=\"font-size: 0.8em; font-weight: bold; line-height: 1; border-radius: 0.35em; vertical-align: middle; margin-left: 0.5rem\">ORG</span>\n",
       "</mark>\n",
       " guided missile division before joining \n",
       "<mark class=\"entity\" style=\"background: #7aecec; padding: 0.45em 0.6em; margin: 0 0.25em; line-height: 1; border-radius: 0.35em;\">\n",
       "    the Air Force\n",
       "    <span style=\"font-size: 0.8em; font-weight: bold; line-height: 1; border-radius: 0.35em; vertical-align: middle; margin-left: 0.5rem\">ORG</span>\n",
       "</mark>\n",
       " in \n",
       "<mark class=\"entity\" style=\"background: #bfe1d9; padding: 0.45em 0.6em; margin: 0 0.25em; line-height: 1; border-radius: 0.35em;\">\n",
       "    1955\n",
       "    <span style=\"font-size: 0.8em; font-weight: bold; line-height: 1; border-radius: 0.35em; vertical-align: middle; margin-left: 0.5rem\">DATE</span>\n",
       "</mark>\n",
       ". As an \n",
       "<mark class=\"entity\" style=\"background: #7aecec; padding: 0.45em 0.6em; margin: 0 0.25em; line-height: 1; border-radius: 0.35em;\">\n",
       "    Air Force Reserve\n",
       "    <span style=\"font-size: 0.8em; font-weight: bold; line-height: 1; border-radius: 0.35em; vertical-align: middle; margin-left: 0.5rem\">ORG</span>\n",
       "</mark>\n",
       " Officer Training Corps (AFROTC) graduate, he received flight training at \n",
       "<mark class=\"entity\" style=\"background: #7aecec; padding: 0.45em 0.6em; margin: 0 0.25em; line-height: 1; border-radius: 0.35em;\">\n",
       "    Marana Air Force Base\n",
       "    <span style=\"font-size: 0.8em; font-weight: bold; line-height: 1; border-radius: 0.35em; vertical-align: middle; margin-left: 0.5rem\">ORG</span>\n",
       "</mark>\n",
       ", \n",
       "<mark class=\"entity\" style=\"background: #feca74; padding: 0.45em 0.6em; margin: 0 0.25em; line-height: 1; border-radius: 0.35em;\">\n",
       "    Arizona\n",
       "    <span style=\"font-size: 0.8em; font-weight: bold; line-height: 1; border-radius: 0.35em; vertical-align: middle; margin-left: 0.5rem\">GPE</span>\n",
       "</mark>\n",
       ", and at \n",
       "<mark class=\"entity\" style=\"background: #9cc9cc; padding: 0.45em 0.6em; margin: 0 0.25em; line-height: 1; border-radius: 0.35em;\">\n",
       "    Laredo Air Force Base\n",
       "    <span style=\"font-size: 0.8em; font-weight: bold; line-height: 1; border-radius: 0.35em; vertical-align: middle; margin-left: 0.5rem\">FAC</span>\n",
       "</mark>\n",
       " and Perrin Air Force Base in \n",
       "<mark class=\"entity\" style=\"background: #feca74; padding: 0.45em 0.6em; margin: 0 0.25em; line-height: 1; border-radius: 0.35em;\">\n",
       "    Texas\n",
       "    <span style=\"font-size: 0.8em; font-weight: bold; line-height: 1; border-radius: 0.35em; vertical-align: middle; margin-left: 0.5rem\">GPE</span>\n",
       "</mark>\n",
       ". During his \n",
       "<mark class=\"entity\" style=\"background: #bfe1d9; padding: 0.45em 0.6em; margin: 0 0.25em; line-height: 1; border-radius: 0.35em;\">\n",
       "    three years\n",
       "    <span style=\"font-size: 0.8em; font-weight: bold; line-height: 1; border-radius: 0.35em; vertical-align: middle; margin-left: 0.5rem\">DATE</span>\n",
       "</mark>\n",
       " of military service, \n",
       "<mark class=\"entity\" style=\"background: #aa9cfc; padding: 0.45em 0.6em; margin: 0 0.25em; line-height: 1; border-radius: 0.35em;\">\n",
       "    Michel\n",
       "    <span style=\"font-size: 0.8em; font-weight: bold; line-height: 1; border-radius: 0.35em; vertical-align: middle; margin-left: 0.5rem\">PERSON</span>\n",
       "</mark>\n",
       " flew F-86D interceptors in \n",
       "<mark class=\"entity\" style=\"background: #feca74; padding: 0.45em 0.6em; margin: 0 0.25em; line-height: 1; border-radius: 0.35em;\">\n",
       "    the United States\n",
       "    <span style=\"font-size: 0.8em; font-weight: bold; line-height: 1; border-radius: 0.35em; vertical-align: middle; margin-left: 0.5rem\">GPE</span>\n",
       "</mark>\n",
       " and in \n",
       "<mark class=\"entity\" style=\"background: #ff9561; padding: 0.45em 0.6em; margin: 0 0.25em; line-height: 1; border-radius: 0.35em;\">\n",
       "    Europe\n",
       "    <span style=\"font-size: 0.8em; font-weight: bold; line-height: 1; border-radius: 0.35em; vertical-align: middle; margin-left: 0.5rem\">LOC</span>\n",
       "</mark>\n",
       " (\n",
       "<mark class=\"entity\" style=\"background: #feca74; padding: 0.45em 0.6em; margin: 0 0.25em; line-height: 1; border-radius: 0.35em;\">\n",
       "    England\n",
       "    <span style=\"font-size: 0.8em; font-weight: bold; line-height: 1; border-radius: 0.35em; vertical-align: middle; margin-left: 0.5rem\">GPE</span>\n",
       "</mark>\n",
       " and \n",
       "<mark class=\"entity\" style=\"background: #feca74; padding: 0.45em 0.6em; margin: 0 0.25em; line-height: 1; border-radius: 0.35em;\">\n",
       "    West Germany\n",
       "    <span style=\"font-size: 0.8em; font-weight: bold; line-height: 1; border-radius: 0.35em; vertical-align: middle; margin-left: 0.5rem\">GPE</span>\n",
       "</mark>\n",
       "). \n",
       "<mark class=\"entity\" style=\"background: #aa9cfc; padding: 0.45em 0.6em; margin: 0 0.25em; line-height: 1; border-radius: 0.35em;\">\n",
       "    Michel\n",
       "    <span style=\"font-size: 0.8em; font-weight: bold; line-height: 1; border-radius: 0.35em; vertical-align: middle; margin-left: 0.5rem\">PERSON</span>\n",
       "</mark>\n",
       " accumulated \n",
       "<mark class=\"entity\" style=\"background: #bfe1d9; padding: 0.45em 0.6em; margin: 0 0.25em; line-height: 1; border-radius: 0.35em;\">\n",
       "    1,000 hours\n",
       "    <span style=\"font-size: 0.8em; font-weight: bold; line-height: 1; border-radius: 0.35em; vertical-align: middle; margin-left: 0.5rem\">TIME</span>\n",
       "</mark>\n",
       " flying time with \n",
       "<mark class=\"entity\" style=\"background: #bfe1d9; padding: 0.45em 0.6em; margin: 0 0.25em; line-height: 1; border-radius: 0.35em;\">\n",
       "    900 hours\n",
       "    <span style=\"font-size: 0.8em; font-weight: bold; line-height: 1; border-radius: 0.35em; vertical-align: middle; margin-left: 0.5rem\">TIME</span>\n",
       "</mark>\n",
       " in jet aircraft.Following his tour of active duty in \n",
       "<mark class=\"entity\" style=\"background: #feca74; padding: 0.45em 0.6em; margin: 0 0.25em; line-height: 1; border-radius: 0.35em;\">\n",
       "    the United States\n",
       "    <span style=\"font-size: 0.8em; font-weight: bold; line-height: 1; border-radius: 0.35em; vertical-align: middle; margin-left: 0.5rem\">GPE</span>\n",
       "</mark>\n",
       " Air Force, \n",
       "<mark class=\"entity\" style=\"background: #aa9cfc; padding: 0.45em 0.6em; margin: 0 0.25em; line-height: 1; border-radius: 0.35em;\">\n",
       "    Michel\n",
       "    <span style=\"font-size: 0.8em; font-weight: bold; line-height: 1; border-radius: 0.35em; vertical-align: middle; margin-left: 0.5rem\">PERSON</span>\n",
       "</mark>\n",
       " was a graduate student and research fellow at \n",
       "<mark class=\"entity\" style=\"background: #7aecec; padding: 0.45em 0.6em; margin: 0 0.25em; line-height: 1; border-radius: 0.35em;\">\n",
       "    the California Institute of Technology\n",
       "    <span style=\"font-size: 0.8em; font-weight: bold; line-height: 1; border-radius: 0.35em; vertical-align: middle; margin-left: 0.5rem\">ORG</span>\n",
       "</mark>\n",
       ", doing experimental and theoretical work in nuclear physics for \n",
       "<mark class=\"entity\" style=\"background: #aa9cfc; padding: 0.45em 0.6em; margin: 0 0.25em; line-height: 1; border-radius: 0.35em;\">\n",
       "    Lauritsen\n",
       "    <span style=\"font-size: 0.8em; font-weight: bold; line-height: 1; border-radius: 0.35em; vertical-align: middle; margin-left: 0.5rem\">PERSON</span>\n",
       "</mark>\n",
       " and \n",
       "<mark class=\"entity\" style=\"background: #aa9cfc; padding: 0.45em 0.6em; margin: 0 0.25em; line-height: 1; border-radius: 0.35em;\">\n",
       "    Richard P. Feynman\n",
       "    <span style=\"font-size: 0.8em; font-weight: bold; line-height: 1; border-radius: 0.35em; vertical-align: middle; margin-left: 0.5rem\">PERSON</span>\n",
       "</mark>\n",
       ", along with work in theoretical astrophysics for \n",
       "<mark class=\"entity\" style=\"background: #f0d0ff; padding: 0.45em 0.6em; margin: 0 0.25em; line-height: 1; border-radius: 0.35em;\">\n",
       "    Fowler\n",
       "    <span style=\"font-size: 0.8em; font-weight: bold; line-height: 1; border-radius: 0.35em; vertical-align: middle; margin-left: 0.5rem\">WORK_OF_ART</span>\n",
       "</mark>\n",
       ". He joined the faculty of \n",
       "<mark class=\"entity\" style=\"background: #7aecec; padding: 0.45em 0.6em; margin: 0 0.25em; line-height: 1; border-radius: 0.35em;\">\n",
       "    Rice University\n",
       "    <span style=\"font-size: 0.8em; font-weight: bold; line-height: 1; border-radius: 0.35em; vertical-align: middle; margin-left: 0.5rem\">ORG</span>\n",
       "</mark>\n",
       " in \n",
       "<mark class=\"entity\" style=\"background: #feca74; padding: 0.45em 0.6em; margin: 0 0.25em; line-height: 1; border-radius: 0.35em;\">\n",
       "    Houston\n",
       "    <span style=\"font-size: 0.8em; font-weight: bold; line-height: 1; border-radius: 0.35em; vertical-align: middle; margin-left: 0.5rem\">GPE</span>\n",
       "</mark>\n",
       ", \n",
       "<mark class=\"entity\" style=\"background: #feca74; padding: 0.45em 0.6em; margin: 0 0.25em; line-height: 1; border-radius: 0.35em;\">\n",
       "    Texas\n",
       "    <span style=\"font-size: 0.8em; font-weight: bold; line-height: 1; border-radius: 0.35em; vertical-align: middle; margin-left: 0.5rem\">GPE</span>\n",
       "</mark>\n",
       " in \n",
       "<mark class=\"entity\" style=\"background: #bfe1d9; padding: 0.45em 0.6em; margin: 0 0.25em; line-height: 1; border-radius: 0.35em;\">\n",
       "    July 1963\n",
       "    <span style=\"font-size: 0.8em; font-weight: bold; line-height: 1; border-radius: 0.35em; vertical-align: middle; margin-left: 0.5rem\">DATE</span>\n",
       "</mark>\n",
       ". \n",
       "<mark class=\"entity\" style=\"background: #aa9cfc; padding: 0.45em 0.6em; margin: 0 0.25em; line-height: 1; border-radius: 0.35em;\">\n",
       "    Michel\n",
       "    <span style=\"font-size: 0.8em; font-weight: bold; line-height: 1; border-radius: 0.35em; vertical-align: middle; margin-left: 0.5rem\">PERSON</span>\n",
       "</mark>\n",
       "'s efforts there were directed at researching and teaching space sciences, such as the interaction of solar winds and the lunar atmosphere.\n",
       "<mark class=\"entity\" style=\"background: #aa9cfc; padding: 0.45em 0.6em; margin: 0 0.25em; line-height: 1; border-radius: 0.35em;\">\n",
       "    Michel\n",
       "    <span style=\"font-size: 0.8em; font-weight: bold; line-height: 1; border-radius: 0.35em; vertical-align: middle; margin-left: 0.5rem\">PERSON</span>\n",
       "</mark>\n",
       " was selected as a scientist-astronaut in \n",
       "<mark class=\"entity\" style=\"background: #7aecec; padding: 0.45em 0.6em; margin: 0 0.25em; line-height: 1; border-radius: 0.35em;\">\n",
       "    NASA\n",
       "    <span style=\"font-size: 0.8em; font-weight: bold; line-height: 1; border-radius: 0.35em; vertical-align: middle; margin-left: 0.5rem\">ORG</span>\n",
       "</mark>\n",
       " \n",
       "<mark class=\"entity\" style=\"background: #7aecec; padding: 0.45em 0.6em; margin: 0 0.25em; line-height: 1; border-radius: 0.35em;\">\n",
       "    Astronaut Group 4\n",
       "    <span style=\"font-size: 0.8em; font-weight: bold; line-height: 1; border-radius: 0.35em; vertical-align: middle; margin-left: 0.5rem\">ORG</span>\n",
       "</mark>\n",
       " in \n",
       "<mark class=\"entity\" style=\"background: #bfe1d9; padding: 0.45em 0.6em; margin: 0 0.25em; line-height: 1; border-radius: 0.35em;\">\n",
       "    June 1965\n",
       "    <span style=\"font-size: 0.8em; font-weight: bold; line-height: 1; border-radius: 0.35em; vertical-align: middle; margin-left: 0.5rem\">DATE</span>\n",
       "</mark>\n",
       ". He resigned from \n",
       "<mark class=\"entity\" style=\"background: #7aecec; padding: 0.45em 0.6em; margin: 0 0.25em; line-height: 1; border-radius: 0.35em;\">\n",
       "    NASA\n",
       "    <span style=\"font-size: 0.8em; font-weight: bold; line-height: 1; border-radius: 0.35em; vertical-align: middle; margin-left: 0.5rem\">ORG</span>\n",
       "</mark>\n",
       " on \n",
       "<mark class=\"entity\" style=\"background: #bfe1d9; padding: 0.45em 0.6em; margin: 0 0.25em; line-height: 1; border-radius: 0.35em;\">\n",
       "    August 18, 1969\n",
       "    <span style=\"font-size: 0.8em; font-weight: bold; line-height: 1; border-radius: 0.35em; vertical-align: middle; margin-left: 0.5rem\">DATE</span>\n",
       "</mark>\n",
       " without having been assigned to any spaceflight missions. \n",
       "<mark class=\"entity\" style=\"background: #aa9cfc; padding: 0.45em 0.6em; margin: 0 0.25em; line-height: 1; border-radius: 0.35em;\">\n",
       "    Michel\n",
       "    <span style=\"font-size: 0.8em; font-weight: bold; line-height: 1; border-radius: 0.35em; vertical-align: middle; margin-left: 0.5rem\">PERSON</span>\n",
       "</mark>\n",
       " believed that it was his decision to resign (after it became clear that he would not be given a flight assignment) that motivated the scientific community to demand that his fellow scientist-astronaut \n",
       "<mark class=\"entity\" style=\"background: #aa9cfc; padding: 0.45em 0.6em; margin: 0 0.25em; line-height: 1; border-radius: 0.35em;\">\n",
       "    Harrison Schmitt\n",
       "    <span style=\"font-size: 0.8em; font-weight: bold; line-height: 1; border-radius: 0.35em; vertical-align: middle; margin-left: 0.5rem\">PERSON</span>\n",
       "</mark>\n",
       " be reassigned to \n",
       "<mark class=\"entity\" style=\"background: #7aecec; padding: 0.45em 0.6em; margin: 0 0.25em; line-height: 1; border-radius: 0.35em;\">\n",
       "    Apollo\n",
       "    <span style=\"font-size: 0.8em; font-weight: bold; line-height: 1; border-radius: 0.35em; vertical-align: middle; margin-left: 0.5rem\">ORG</span>\n",
       "</mark>\n",
       " \n",
       "<mark class=\"entity\" style=\"background: #e4e7d2; padding: 0.45em 0.6em; margin: 0 0.25em; line-height: 1; border-radius: 0.35em;\">\n",
       "    17\n",
       "    <span style=\"font-size: 0.8em; font-weight: bold; line-height: 1; border-radius: 0.35em; vertical-align: middle; margin-left: 0.5rem\">CARDINAL</span>\n",
       "</mark>\n",
       " (replacing \n",
       "<mark class=\"entity\" style=\"background: #aa9cfc; padding: 0.45em 0.6em; margin: 0 0.25em; line-height: 1; border-radius: 0.35em;\">\n",
       "    Joe Engle\n",
       "    <span style=\"font-size: 0.8em; font-weight: bold; line-height: 1; border-radius: 0.35em; vertical-align: middle; margin-left: 0.5rem\">PERSON</span>\n",
       "</mark>\n",
       ") after \n",
       "<mark class=\"entity\" style=\"background: #7aecec; padding: 0.45em 0.6em; margin: 0 0.25em; line-height: 1; border-radius: 0.35em;\">\n",
       "    Schmitt's\n",
       "    <span style=\"font-size: 0.8em; font-weight: bold; line-height: 1; border-radius: 0.35em; vertical-align: middle; margin-left: 0.5rem\">ORG</span>\n",
       "</mark>\n",
       " planned mission on \n",
       "<mark class=\"entity\" style=\"background: #7aecec; padding: 0.45em 0.6em; margin: 0 0.25em; line-height: 1; border-radius: 0.35em;\">\n",
       "    Apollo\n",
       "    <span style=\"font-size: 0.8em; font-weight: bold; line-height: 1; border-radius: 0.35em; vertical-align: middle; margin-left: 0.5rem\">ORG</span>\n",
       "</mark>\n",
       " \n",
       "<mark class=\"entity\" style=\"background: #e4e7d2; padding: 0.45em 0.6em; margin: 0 0.25em; line-height: 1; border-radius: 0.35em;\">\n",
       "    18\n",
       "    <span style=\"font-size: 0.8em; font-weight: bold; line-height: 1; border-radius: 0.35em; vertical-align: middle; margin-left: 0.5rem\">CARDINAL</span>\n",
       "</mark>\n",
       " was cancelled.After his resignation from \n",
       "<mark class=\"entity\" style=\"background: #7aecec; padding: 0.45em 0.6em; margin: 0 0.25em; line-height: 1; border-radius: 0.35em;\">\n",
       "    NASA\n",
       "    <span style=\"font-size: 0.8em; font-weight: bold; line-height: 1; border-radius: 0.35em; vertical-align: middle; margin-left: 0.5rem\">ORG</span>\n",
       "</mark>\n",
       ", \n",
       "<mark class=\"entity\" style=\"background: #aa9cfc; padding: 0.45em 0.6em; margin: 0 0.25em; line-height: 1; border-radius: 0.35em;\">\n",
       "    Michel\n",
       "    <span style=\"font-size: 0.8em; font-weight: bold; line-height: 1; border-radius: 0.35em; vertical-align: middle; margin-left: 0.5rem\">PERSON</span>\n",
       "</mark>\n",
       " returned to teaching and research at \n",
       "<mark class=\"entity\" style=\"background: #aa9cfc; padding: 0.45em 0.6em; margin: 0 0.25em; line-height: 1; border-radius: 0.35em;\">\n",
       "    Rice\n",
       "    <span style=\"font-size: 0.8em; font-weight: bold; line-height: 1; border-radius: 0.35em; vertical-align: middle; margin-left: 0.5rem\">PERSON</span>\n",
       "</mark>\n",
       ", where he also served as chair of the space physics and astronomy department \n",
       "<mark class=\"entity\" style=\"background: #bfe1d9; padding: 0.45em 0.6em; margin: 0 0.25em; line-height: 1; border-radius: 0.35em;\">\n",
       "    from 1974 to 1979\n",
       "    <span style=\"font-size: 0.8em; font-weight: bold; line-height: 1; border-radius: 0.35em; vertical-align: middle; margin-left: 0.5rem\">DATE</span>\n",
       "</mark>\n",
       ". He was the \n",
       "<mark class=\"entity\" style=\"background: #aa9cfc; padding: 0.45em 0.6em; margin: 0 0.25em; line-height: 1; border-radius: 0.35em;\">\n",
       "    Andrew Hays Buchanan\n",
       "    <span style=\"font-size: 0.8em; font-weight: bold; line-height: 1; border-radius: 0.35em; vertical-align: middle; margin-left: 0.5rem\">PERSON</span>\n",
       "</mark>\n",
       " Professor of \n",
       "<mark class=\"entity\" style=\"background: #feca74; padding: 0.45em 0.6em; margin: 0 0.25em; line-height: 1; border-radius: 0.35em;\">\n",
       "    Astrophysics\n",
       "    <span style=\"font-size: 0.8em; font-weight: bold; line-height: 1; border-radius: 0.35em; vertical-align: middle; margin-left: 0.5rem\">GPE</span>\n",
       "</mark>\n",
       " from \n",
       "<mark class=\"entity\" style=\"background: #bfe1d9; padding: 0.45em 0.6em; margin: 0 0.25em; line-height: 1; border-radius: 0.35em;\">\n",
       "    1974\n",
       "    <span style=\"font-size: 0.8em; font-weight: bold; line-height: 1; border-radius: 0.35em; vertical-align: middle; margin-left: 0.5rem\">DATE</span>\n",
       "</mark>\n",
       " until his retirement in \n",
       "<mark class=\"entity\" style=\"background: #bfe1d9; padding: 0.45em 0.6em; margin: 0 0.25em; line-height: 1; border-radius: 0.35em;\">\n",
       "    2000\n",
       "    <span style=\"font-size: 0.8em; font-weight: bold; line-height: 1; border-radius: 0.35em; vertical-align: middle; margin-left: 0.5rem\">DATE</span>\n",
       "</mark>\n",
       ". \n",
       "<mark class=\"entity\" style=\"background: #aa9cfc; padding: 0.45em 0.6em; margin: 0 0.25em; line-height: 1; border-radius: 0.35em;\">\n",
       "    Michel\n",
       "    <span style=\"font-size: 0.8em; font-weight: bold; line-height: 1; border-radius: 0.35em; vertical-align: middle; margin-left: 0.5rem\">PERSON</span>\n",
       "</mark>\n",
       " was named \n",
       "<mark class=\"entity\" style=\"background: #f0d0ff; padding: 0.45em 0.6em; margin: 0 0.25em; line-height: 1; border-radius: 0.35em;\">\n",
       "    a Guggenheim Fellow\n",
       "    <span style=\"font-size: 0.8em; font-weight: bold; line-height: 1; border-radius: 0.35em; vertical-align: middle; margin-left: 0.5rem\">WORK_OF_ART</span>\n",
       "</mark>\n",
       " to \n",
       "<mark class=\"entity\" style=\"background: #ff8197; padding: 0.45em 0.6em; margin: 0 0.25em; line-height: 1; border-radius: 0.35em;\">\n",
       "    the École Polytechnique\n",
       "    <span style=\"font-size: 0.8em; font-weight: bold; line-height: 1; border-radius: 0.35em; vertical-align: middle; margin-left: 0.5rem\">LAW</span>\n",
       "</mark>\n",
       " in \n",
       "<mark class=\"entity\" style=\"background: #feca74; padding: 0.45em 0.6em; margin: 0 0.25em; line-height: 1; border-radius: 0.35em;\">\n",
       "    Palaiseau\n",
       "    <span style=\"font-size: 0.8em; font-weight: bold; line-height: 1; border-radius: 0.35em; vertical-align: middle; margin-left: 0.5rem\">GPE</span>\n",
       "</mark>\n",
       ", \n",
       "<mark class=\"entity\" style=\"background: #feca74; padding: 0.45em 0.6em; margin: 0 0.25em; line-height: 1; border-radius: 0.35em;\">\n",
       "    France\n",
       "    <span style=\"font-size: 0.8em; font-weight: bold; line-height: 1; border-radius: 0.35em; vertical-align: middle; margin-left: 0.5rem\">GPE</span>\n",
       "</mark>\n",
       ", from \n",
       "<mark class=\"entity\" style=\"background: #bfe1d9; padding: 0.45em 0.6em; margin: 0 0.25em; line-height: 1; border-radius: 0.35em;\">\n",
       "    1979 to 1980\n",
       "    <span style=\"font-size: 0.8em; font-weight: bold; line-height: 1; border-radius: 0.35em; vertical-align: middle; margin-left: 0.5rem\">DATE</span>\n",
       "</mark>\n",
       ", and was awarded a \n",
       "<mark class=\"entity\" style=\"background: #c887fb; padding: 0.45em 0.6em; margin: 0 0.25em; line-height: 1; border-radius: 0.35em;\">\n",
       "    Humboldt\n",
       "    <span style=\"font-size: 0.8em; font-weight: bold; line-height: 1; border-radius: 0.35em; vertical-align: middle; margin-left: 0.5rem\">NORP</span>\n",
       "</mark>\n",
       " Prize to study in \n",
       "<mark class=\"entity\" style=\"background: #feca74; padding: 0.45em 0.6em; margin: 0 0.25em; line-height: 1; border-radius: 0.35em;\">\n",
       "    Heidelberg\n",
       "    <span style=\"font-size: 0.8em; font-weight: bold; line-height: 1; border-radius: 0.35em; vertical-align: middle; margin-left: 0.5rem\">GPE</span>\n",
       "</mark>\n",
       " at \n",
       "<mark class=\"entity\" style=\"background: #7aecec; padding: 0.45em 0.6em; margin: 0 0.25em; line-height: 1; border-radius: 0.35em;\">\n",
       "    the Max Planck Institute for Nuclear Physics\n",
       "    <span style=\"font-size: 0.8em; font-weight: bold; line-height: 1; border-radius: 0.35em; vertical-align: middle; margin-left: 0.5rem\">ORG</span>\n",
       "</mark>\n",
       ", in \n",
       "<mark class=\"entity\" style=\"background: #feca74; padding: 0.45em 0.6em; margin: 0 0.25em; line-height: 1; border-radius: 0.35em;\">\n",
       "    West Germany\n",
       "    <span style=\"font-size: 0.8em; font-weight: bold; line-height: 1; border-radius: 0.35em; vertical-align: middle; margin-left: 0.5rem\">GPE</span>\n",
       "</mark>\n",
       ", from \n",
       "<mark class=\"entity\" style=\"background: #bfe1d9; padding: 0.45em 0.6em; margin: 0 0.25em; line-height: 1; border-radius: 0.35em;\">\n",
       "    1983\n",
       "    <span style=\"font-size: 0.8em; font-weight: bold; line-height: 1; border-radius: 0.35em; vertical-align: middle; margin-left: 0.5rem\">DATE</span>\n",
       "</mark>\n",
       " to \n",
       "<mark class=\"entity\" style=\"background: #bfe1d9; padding: 0.45em 0.6em; margin: 0 0.25em; line-height: 1; border-radius: 0.35em;\">\n",
       "    1984\n",
       "    <span style=\"font-size: 0.8em; font-weight: bold; line-height: 1; border-radius: 0.35em; vertical-align: middle; margin-left: 0.5rem\">DATE</span>\n",
       "</mark>\n",
       ". Following his retirement, \n",
       "<mark class=\"entity\" style=\"background: #aa9cfc; padding: 0.45em 0.6em; margin: 0 0.25em; line-height: 1; border-radius: 0.35em;\">\n",
       "    Michel\n",
       "    <span style=\"font-size: 0.8em; font-weight: bold; line-height: 1; border-radius: 0.35em; vertical-align: middle; margin-left: 0.5rem\">PERSON</span>\n",
       "</mark>\n",
       " spent \n",
       "<mark class=\"entity\" style=\"background: #bfe1d9; padding: 0.45em 0.6em; margin: 0 0.25em; line-height: 1; border-radius: 0.35em;\">\n",
       "    the 2001–2002 academic year\n",
       "    <span style=\"font-size: 0.8em; font-weight: bold; line-height: 1; border-radius: 0.35em; vertical-align: middle; margin-left: 0.5rem\">DATE</span>\n",
       "</mark>\n",
       " in \n",
       "<mark class=\"entity\" style=\"background: #feca74; padding: 0.45em 0.6em; margin: 0 0.25em; line-height: 1; border-radius: 0.35em;\">\n",
       "    Japan\n",
       "    <span style=\"font-size: 0.8em; font-weight: bold; line-height: 1; border-radius: 0.35em; vertical-align: middle; margin-left: 0.5rem\">GPE</span>\n",
       "</mark>\n",
       " at \n",
       "<mark class=\"entity\" style=\"background: #9cc9cc; padding: 0.45em 0.6em; margin: 0 0.25em; line-height: 1; border-radius: 0.35em;\">\n",
       "    the Solar-Terrestrial Environment Laboratory of\n",
       "    <span style=\"font-size: 0.8em; font-weight: bold; line-height: 1; border-radius: 0.35em; vertical-align: middle; margin-left: 0.5rem\">FAC</span>\n",
       "</mark>\n",
       " \n",
       "<mark class=\"entity\" style=\"background: #7aecec; padding: 0.45em 0.6em; margin: 0 0.25em; line-height: 1; border-radius: 0.35em;\">\n",
       "    the University of Nagoya\n",
       "    <span style=\"font-size: 0.8em; font-weight: bold; line-height: 1; border-radius: 0.35em; vertical-align: middle; margin-left: 0.5rem\">ORG</span>\n",
       "</mark>\n",
       " as a visiting professor. \n",
       "<mark class=\"entity\" style=\"background: #aa9cfc; padding: 0.45em 0.6em; margin: 0 0.25em; line-height: 1; border-radius: 0.35em;\">\n",
       "    Research Michel's\n",
       "    <span style=\"font-size: 0.8em; font-weight: bold; line-height: 1; border-radius: 0.35em; vertical-align: middle; margin-left: 0.5rem\">PERSON</span>\n",
       "</mark>\n",
       " research spanned many disciplines. In \n",
       "<mark class=\"entity\" style=\"background: #bfe1d9; padding: 0.45em 0.6em; margin: 0 0.25em; line-height: 1; border-radius: 0.35em;\">\n",
       "    1964\n",
       "    <span style=\"font-size: 0.8em; font-weight: bold; line-height: 1; border-radius: 0.35em; vertical-align: middle; margin-left: 0.5rem\">DATE</span>\n",
       "</mark>\n",
       ", he predicted the existence of spin &quot;optical rotation&quot; due to parity nonconserving weak interactions. This phenomenon was experimentally confirmed in \n",
       "<mark class=\"entity\" style=\"background: #bfe1d9; padding: 0.45em 0.6em; margin: 0 0.25em; line-height: 1; border-radius: 0.35em;\">\n",
       "    1980\n",
       "    <span style=\"font-size: 0.8em; font-weight: bold; line-height: 1; border-radius: 0.35em; vertical-align: middle; margin-left: 0.5rem\">DATE</span>\n",
       "</mark>\n",
       " and is used to study parity nonconserving weak interactions between neutrons and nuclei. \n",
       "<mark class=\"entity\" style=\"background: #aa9cfc; padding: 0.45em 0.6em; margin: 0 0.25em; line-height: 1; border-radius: 0.35em;\">\n",
       "    Michel\n",
       "    <span style=\"font-size: 0.8em; font-weight: bold; line-height: 1; border-radius: 0.35em; vertical-align: middle; margin-left: 0.5rem\">PERSON</span>\n",
       "</mark>\n",
       " is best known for his work on pulsars and neutron star magnetospheres but his work also included solar wind interactions with the \n",
       "<mark class=\"entity\" style=\"background: #aa9cfc; padding: 0.45em 0.6em; margin: 0 0.25em; line-height: 1; border-radius: 0.35em;\">\n",
       "    Moon\n",
       "    <span style=\"font-size: 0.8em; font-weight: bold; line-height: 1; border-radius: 0.35em; vertical-align: middle; margin-left: 0.5rem\">PERSON</span>\n",
       "</mark>\n",
       " and other bodies, extending to the heliopause. In \n",
       "<mark class=\"entity\" style=\"background: #bfe1d9; padding: 0.45em 0.6em; margin: 0 0.25em; line-height: 1; border-radius: 0.35em;\">\n",
       "    2000\n",
       "    <span style=\"font-size: 0.8em; font-weight: bold; line-height: 1; border-radius: 0.35em; vertical-align: middle; margin-left: 0.5rem\">DATE</span>\n",
       "</mark>\n",
       ", \n",
       "<mark class=\"entity\" style=\"background: #aa9cfc; padding: 0.45em 0.6em; margin: 0 0.25em; line-height: 1; border-radius: 0.35em;\">\n",
       "    Michel\n",
       "    <span style=\"font-size: 0.8em; font-weight: bold; line-height: 1; border-radius: 0.35em; vertical-align: middle; margin-left: 0.5rem\">PERSON</span>\n",
       "</mark>\n",
       " officially retired from \n",
       "<mark class=\"entity\" style=\"background: #aa9cfc; padding: 0.45em 0.6em; margin: 0 0.25em; line-height: 1; border-radius: 0.35em;\">\n",
       "    Rice\n",
       "    <span style=\"font-size: 0.8em; font-weight: bold; line-height: 1; border-radius: 0.35em; vertical-align: middle; margin-left: 0.5rem\">PERSON</span>\n",
       "</mark>\n",
       " but he continued to be active in research until his death in \n",
       "<mark class=\"entity\" style=\"background: #bfe1d9; padding: 0.45em 0.6em; margin: 0 0.25em; line-height: 1; border-radius: 0.35em;\">\n",
       "    2015\n",
       "    <span style=\"font-size: 0.8em; font-weight: bold; line-height: 1; border-radius: 0.35em; vertical-align: middle; margin-left: 0.5rem\">DATE</span>\n",
       "</mark>\n",
       ". \n",
       "<mark class=\"entity\" style=\"background: #aa9cfc; padding: 0.45em 0.6em; margin: 0 0.25em; line-height: 1; border-radius: 0.35em;\">\n",
       "    Books Michel\n",
       "    <span style=\"font-size: 0.8em; font-weight: bold; line-height: 1; border-radius: 0.35em; vertical-align: middle; margin-left: 0.5rem\">PERSON</span>\n",
       "</mark>\n",
       " is the author of the book \n",
       "<mark class=\"entity\" style=\"background: #f0d0ff; padding: 0.45em 0.6em; margin: 0 0.25em; line-height: 1; border-radius: 0.35em;\">\n",
       "    Theory of Neutron Star Magnetospheres\n",
       "    <span style=\"font-size: 0.8em; font-weight: bold; line-height: 1; border-radius: 0.35em; vertical-align: middle; margin-left: 0.5rem\">WORK_OF_ART</span>\n",
       "</mark>\n",
       ", \n",
       "<mark class=\"entity\" style=\"background: #7aecec; padding: 0.45em 0.6em; margin: 0 0.25em; line-height: 1; border-radius: 0.35em;\">\n",
       "    University of Chicago Press\n",
       "    <span style=\"font-size: 0.8em; font-weight: bold; line-height: 1; border-radius: 0.35em; vertical-align: middle; margin-left: 0.5rem\">ORG</span>\n",
       "</mark>\n",
       ", \n",
       "<mark class=\"entity\" style=\"background: #bfe1d9; padding: 0.45em 0.6em; margin: 0 0.25em; line-height: 1; border-radius: 0.35em;\">\n",
       "    1990\n",
       "    <span style=\"font-size: 0.8em; font-weight: bold; line-height: 1; border-radius: 0.35em; vertical-align: middle; margin-left: 0.5rem\">DATE</span>\n",
       "</mark>\n",
       " ISBN 9780226523316. \n",
       "<mark class=\"entity\" style=\"background: #aa9cfc; padding: 0.45em 0.6em; margin: 0 0.25em; line-height: 1; border-radius: 0.35em;\">\n",
       "    Michel\n",
       "    <span style=\"font-size: 0.8em; font-weight: bold; line-height: 1; border-radius: 0.35em; vertical-align: middle; margin-left: 0.5rem\">PERSON</span>\n",
       "</mark>\n",
       " is the author of the book \n",
       "<mark class=\"entity\" style=\"background: #f0d0ff; padding: 0.45em 0.6em; margin: 0 0.25em; line-height: 1; border-radius: 0.35em;\">\n",
       "    Handbook of High-Energy Astrophysics Experiments\n",
       "    <span style=\"font-size: 0.8em; font-weight: bold; line-height: 1; border-radius: 0.35em; vertical-align: middle; margin-left: 0.5rem\">WORK_OF_ART</span>\n",
       "</mark>\n",
       ", \n",
       "<mark class=\"entity\" style=\"background: #aa9cfc; padding: 0.45em 0.6em; margin: 0 0.25em; line-height: 1; border-radius: 0.35em;\">\n",
       "    Springer Verlag\n",
       "    <span style=\"font-size: 0.8em; font-weight: bold; line-height: 1; border-radius: 0.35em; vertical-align: middle; margin-left: 0.5rem\">PERSON</span>\n",
       "</mark>\n",
       ", \n",
       "<mark class=\"entity\" style=\"background: #bfe1d9; padding: 0.45em 0.6em; margin: 0 0.25em; line-height: 1; border-radius: 0.35em;\">\n",
       "    2015\n",
       "    <span style=\"font-size: 0.8em; font-weight: bold; line-height: 1; border-radius: 0.35em; vertical-align: middle; margin-left: 0.5rem\">DATE</span>\n",
       "</mark>\n",
       " ISBN 9781441965288 . \n",
       "<mark class=\"entity\" style=\"background: #aa9cfc; padding: 0.45em 0.6em; margin: 0 0.25em; line-height: 1; border-radius: 0.35em;\">\n",
       "    Michel\n",
       "    <span style=\"font-size: 0.8em; font-weight: bold; line-height: 1; border-radius: 0.35em; vertical-align: middle; margin-left: 0.5rem\">PERSON</span>\n",
       "</mark>\n",
       " was a contributor to the book \n",
       "<mark class=\"entity\" style=\"background: #7aecec; padding: 0.45em 0.6em; margin: 0 0.25em; line-height: 1; border-radius: 0.35em;\">\n",
       "    NASA\n",
       "    <span style=\"font-size: 0.8em; font-weight: bold; line-height: 1; border-radius: 0.35em; vertical-align: middle; margin-left: 0.5rem\">ORG</span>\n",
       "</mark>\n",
       "'s \n",
       "<mark class=\"entity\" style=\"background: #7aecec; padding: 0.45em 0.6em; margin: 0 0.25em; line-height: 1; border-radius: 0.35em;\">\n",
       "    Scientist-Astronauts\n",
       "    <span style=\"font-size: 0.8em; font-weight: bold; line-height: 1; border-radius: 0.35em; vertical-align: middle; margin-left: 0.5rem\">ORG</span>\n",
       "</mark>\n",
       " by \n",
       "<mark class=\"entity\" style=\"background: #aa9cfc; padding: 0.45em 0.6em; margin: 0 0.25em; line-height: 1; border-radius: 0.35em;\">\n",
       "    David Shayler\n",
       "    <span style=\"font-size: 0.8em; font-weight: bold; line-height: 1; border-radius: 0.35em; vertical-align: middle; margin-left: 0.5rem\">PERSON</span>\n",
       "</mark>\n",
       " and \n",
       "<mark class=\"entity\" style=\"background: #aa9cfc; padding: 0.45em 0.6em; margin: 0 0.25em; line-height: 1; border-radius: 0.35em;\">\n",
       "    Colin Burgess\n",
       "    <span style=\"font-size: 0.8em; font-weight: bold; line-height: 1; border-radius: 0.35em; vertical-align: middle; margin-left: 0.5rem\">PERSON</span>\n",
       "</mark>\n",
       ", \n",
       "<mark class=\"entity\" style=\"background: #aa9cfc; padding: 0.45em 0.6em; margin: 0 0.25em; line-height: 1; border-radius: 0.35em;\">\n",
       "    Springer Praxis\n",
       "    <span style=\"font-size: 0.8em; font-weight: bold; line-height: 1; border-radius: 0.35em; vertical-align: middle; margin-left: 0.5rem\">PERSON</span>\n",
       "</mark>\n",
       ", \n",
       "<mark class=\"entity\" style=\"background: #bfe1d9; padding: 0.45em 0.6em; margin: 0 0.25em; line-height: 1; border-radius: 0.35em;\">\n",
       "    2007\n",
       "    <span style=\"font-size: 0.8em; font-weight: bold; line-height: 1; border-radius: 0.35em; vertical-align: middle; margin-left: 0.5rem\">DATE</span>\n",
       "</mark>\n",
       " ISBN 9780387218977 See also The Astronaut Monument == References ==</div></span>"
      ],
      "text/plain": [
       "<IPython.core.display.HTML object>"
      ]
     },
     "metadata": {},
     "output_type": "display_data"
    }
   ],
   "source": [
    "from spacy import displacy\n",
    "\n",
    "#we can dispay the entities to see them more clearly. To show an example we display the entities of one text\n",
    "\n",
    "displacy.render(nlp(astronauts[\"Text\"].iloc[12]), style='ent', jupyter=True) "
   ]
  },
  {
   "cell_type": "code",
   "execution_count": 34,
   "metadata": {
    "id": "TbXLb1RGewgq"
   },
   "outputs": [],
   "source": [
    "#We make a list of the total entities. Entities_as and entities_wr are arrays of Pandas Series of arrays, \n",
    "# so we'll use numpy.concatenate to flatten it to a 1-dimensional array.\n",
    "\n",
    "list_entities_as = np.concatenate(list(entities_as))\n",
    "list_entities_wr = np.concatenate(list(entities_wr))"
   ]
  },
  {
   "cell_type": "code",
   "execution_count": 53,
   "metadata": {
    "colab": {
     "base_uri": "https://localhost:8080/",
     "height": 464
    },
    "id": "hev80Y8Xe1_0",
    "outputId": "27aca3c1-5649-4af1-8482-3ac1e420f4b7"
   },
   "outputs": [
    {
     "data": {
      "image/png": "[encoded data removed]",
      "text/plain": [
       "<Figure size 720x288 with 2 Axes>"
      ]
     },
     "metadata": {
      "needs_background": "light"
     },
     "output_type": "display_data"
    }
   ],
   "source": [
    "#Finally we display a histogram of the number of entities recognized in each category\n",
    "\n",
    "fig, axs = plt.subplots(1, 2, figsize=(10, 4))\n",
    "\n",
    "# Plot the first histogram on the left subplot\n",
    "axs[0].hist(list_entities_wr, bins=50,color=\"#A2142F\",edgecolor='black')\n",
    "axs[0].set_title('Writers')\n",
    "\n",
    "# Plot the second histogram on the right subplot\n",
    "axs[1].hist(list_entities_as, bins=50, color = \"mediumpurple\",edgecolor='black')\n",
    "axs[1].set_title('Astronauts')\n",
    "\n",
    "\n",
    "\n",
    "# Set the x-axis and y-axis labels and parameters for both subplots\n",
    "for ax in axs:\n",
    "    ax.set_xlabel('Entity type')\n",
    "    ax.set_ylabel('Frequency')\n",
    "    ax.tick_params(axis='x', labelsize=7, rotation=60)\n",
    "\n",
    "# Show the figure\n",
    "plt.show()"
   ]
  },
  {
   "cell_type": "code",
   "execution_count": 61,
   "metadata": {},
   "outputs": [
    {
     "data": {
      "text/html": [
       "<div>\n",
       "<style scoped>\n",
       "    .dataframe tbody tr th:only-of-type {\n",
       "        vertical-align: middle;\n",
       "    }\n",
       "\n",
       "    .dataframe tbody tr th {\n",
       "        vertical-align: top;\n",
       "    }\n",
       "\n",
       "    .dataframe thead th {\n",
       "        text-align: right;\n",
       "    }\n",
       "</style>\n",
       "<table border=\"1\" class=\"dataframe\">\n",
       "  <thead>\n",
       "    <tr style=\"text-align: right;\">\n",
       "      <th></th>\n",
       "      <th>NER</th>\n",
       "      <th>Count</th>\n",
       "    </tr>\n",
       "  </thead>\n",
       "  <tbody>\n",
       "    <tr>\n",
       "      <th>11</th>\n",
       "      <td>ORG</td>\n",
       "      <td>4479</td>\n",
       "    </tr>\n",
       "    <tr>\n",
       "      <th>1</th>\n",
       "      <td>DATE</td>\n",
       "      <td>4015</td>\n",
       "    </tr>\n",
       "    <tr>\n",
       "      <th>13</th>\n",
       "      <td>PERSON</td>\n",
       "      <td>3945</td>\n",
       "    </tr>\n",
       "    <tr>\n",
       "      <th>4</th>\n",
       "      <td>GPE</td>\n",
       "      <td>2731</td>\n",
       "    </tr>\n",
       "    <tr>\n",
       "      <th>9</th>\n",
       "      <td>NORP</td>\n",
       "      <td>1391</td>\n",
       "    </tr>\n",
       "  </tbody>\n",
       "</table>\n",
       "</div>"
      ],
      "text/plain": [
       "       NER  Count\n",
       "11     ORG   4479\n",
       "1     DATE   4015\n",
       "13  PERSON   3945\n",
       "4      GPE   2731\n",
       "9     NORP   1391"
      ]
     },
     "execution_count": 61,
     "metadata": {},
     "output_type": "execute_result"
    }
   ],
   "source": [
    "wr_ner_labels, wr_ner_counts = np.unique(list_entities_wr, return_counts=True)\n",
    "\n",
    "wr_ner_df = pd.DataFrame(columns=['NER', 'Count'])\n",
    "wr_ner_df.NER = wr_ner_labels\n",
    "wr_ner_df.Count = wr_ner_counts\n",
    "\n",
    "wr_ner_df.sort_values(by='Count', ascending=False).head(5)"
   ]
  },
  {
   "cell_type": "code",
   "execution_count": 64,
   "metadata": {},
   "outputs": [
    {
     "data": {
      "text/html": [
       "<div>\n",
       "<style scoped>\n",
       "    .dataframe tbody tr th:only-of-type {\n",
       "        vertical-align: middle;\n",
       "    }\n",
       "\n",
       "    .dataframe tbody tr th {\n",
       "        vertical-align: top;\n",
       "    }\n",
       "\n",
       "    .dataframe thead th {\n",
       "        text-align: right;\n",
       "    }\n",
       "</style>\n",
       "<table border=\"1\" class=\"dataframe\">\n",
       "  <thead>\n",
       "    <tr style=\"text-align: right;\">\n",
       "      <th></th>\n",
       "      <th>NER</th>\n",
       "      <th>Count</th>\n",
       "    </tr>\n",
       "  </thead>\n",
       "  <tbody>\n",
       "    <tr>\n",
       "      <th>11</th>\n",
       "      <td>ORG</td>\n",
       "      <td>7681</td>\n",
       "    </tr>\n",
       "    <tr>\n",
       "      <th>1</th>\n",
       "      <td>DATE</td>\n",
       "      <td>5900</td>\n",
       "    </tr>\n",
       "    <tr>\n",
       "      <th>13</th>\n",
       "      <td>PERSON</td>\n",
       "      <td>4939</td>\n",
       "    </tr>\n",
       "    <tr>\n",
       "      <th>4</th>\n",
       "      <td>GPE</td>\n",
       "      <td>3287</td>\n",
       "    </tr>\n",
       "    <tr>\n",
       "      <th>0</th>\n",
       "      <td>CARDINAL</td>\n",
       "      <td>1896</td>\n",
       "    </tr>\n",
       "  </tbody>\n",
       "</table>\n",
       "</div>"
      ],
      "text/plain": [
       "         NER  Count\n",
       "11       ORG   7681\n",
       "1       DATE   5900\n",
       "13    PERSON   4939\n",
       "4        GPE   3287\n",
       "0   CARDINAL   1896"
      ]
     },
     "execution_count": 64,
     "metadata": {},
     "output_type": "execute_result"
    }
   ],
   "source": [
    "as_ner_labels, as_ner_counts = np.unique(list_entities_as, return_counts=True)\n",
    "\n",
    "as_ner_df = pd.DataFrame(columns=['NER', 'Count'])\n",
    "as_ner_df.NER = as_ner_labels\n",
    "as_ner_df.Count = as_ner_counts\n",
    "\n",
    "as_ner_df.sort_values(by='Count', ascending=False).head(5)"
   ]
  }
 ],
 "metadata": {
  "colab": {
   "provenance": []
  },
  "kernelspec": {
   "display_name": "Python 3",
   "language": "python",
   "name": "python3"
  },
  "language_info": {
   "codemirror_mode": {
    "name": "ipython",
    "version": 3
   },
   "file_extension": ".py",
   "mimetype": "text/x-python",
   "name": "python",
   "nbconvert_exporter": "python",
   "pygments_lexer": "ipython3",
   "version": "3.8.5"
  }
 },
 "nbformat": 4,
 "nbformat_minor": 1
}
