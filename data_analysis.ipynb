{
  "nbformat": 4,
  "nbformat_minor": 0,
  "metadata": {
    "colab": {
      "provenance": []
    },
    "kernelspec": {
      "name": "python3",
      "display_name": "Python 3"
    },
    "language_info": {
      "name": "python"
    }
  },
  "cells": [
    {
      "cell_type": "code",
      "source": [
        "import pandas as pd"
      ],
      "metadata": {
        "id": "AAJl8Ipk26_L"
      },
      "execution_count": 3,
      "outputs": []
    },
    {
      "cell_type": "code",
      "execution_count": 4,
      "metadata": {
        "id": "gTeTAKXv2wUZ"
      },
      "outputs": [],
      "source": [
        "df = pd.read_csv(\"df_with_texts.csv\", index_col=0)"
      ]
    },
    {
      "cell_type": "code",
      "source": [
        "df = df.replace(r'\\n',' ', regex=True)\n",
        "df"
      ],
      "metadata": {
        "colab": {
          "base_uri": "https://localhost:8080/",
          "height": 423
        },
        "id": "ID-0_rZp3e4F",
        "outputId": "621128f8-cdfa-473d-cdc7-ec3a31d41fd0"
      },
      "execution_count": 5,
      "outputs": [
        {
          "output_type": "execute_result",
          "data": {
            "text/plain": [
              "                            Person          Subcategory    Category  \\\n",
              "104                  Jeanette Epps  American astronauts  Astronauts   \n",
              "288                  Sergey Avdeev   Russian cosmonauts  Astronauts   \n",
              "198                Matthias Maurer    German astronauts  Astronauts   \n",
              "365             Andriyan Nikolayev    Soviet cosmonauts  Astronauts   \n",
              "412                Gennady Manakov    Soviet cosmonauts  Astronauts   \n",
              "...                            ...                  ...         ...   \n",
              "7053                      Uhwudong       Korean writers     Writers   \n",
              "5383            Óttar M. Norðfjörð    Icelandic writers     Writers   \n",
              "4093               Claude Phillips      English writers     Writers   \n",
              "7477                  Francis Moto     Malawian writers     Writers   \n",
              "7542  Zainal Abidin Ahmad (writer)    Malaysian writers     Writers   \n",
              "\n",
              "                                                   Text  \n",
              "104   Jeanette Jo Epps (born November 3, 1970) is an...  \n",
              "288   Sergei Vasilyevich Avdeyev (Сергей Васильевич ...  \n",
              "198   Matthias Josef Maurer (born 18 March 1970) is ...  \n",
              "365   Andriyan Grigoryevich Nikolayev (Chuvash and R...  \n",
              "412   Gennady Mikhailovich Manakov (Russian: Геннади...  \n",
              "...                                                 ...  \n",
              "7053  Eowudong or Uhwudong (어우동, 於宇同; 1440 - 18 Octo...  \n",
              "5383  Óttar Martin Norðfjörð (born 1980) is an Icela...  \n",
              "4093  Sir Claude Phillips (29 January 1846 – 9 Augus...  \n",
              "7477  Professor Francis P. B. Moto (born 1952) is a ...  \n",
              "7542  Tan Sri Zainal Abidin bin Ahmad (16 September ...  \n",
              "\n",
              "[400 rows x 4 columns]"
            ],
            "text/html": [
              "\n",
              "  <div id=\"df-8fa71805-1d06-406f-baa5-0b0e7f0682a4\">\n",
              "    <div class=\"colab-df-container\">\n",
              "      <div>\n",
              "<style scoped>\n",
              "    .dataframe tbody tr th:only-of-type {\n",
              "        vertical-align: middle;\n",
              "    }\n",
              "\n",
              "    .dataframe tbody tr th {\n",
              "        vertical-align: top;\n",
              "    }\n",
              "\n",
              "    .dataframe thead th {\n",
              "        text-align: right;\n",
              "    }\n",
              "</style>\n",
              "<table border=\"1\" class=\"dataframe\">\n",
              "  <thead>\n",
              "    <tr style=\"text-align: right;\">\n",
              "      <th></th>\n",
              "      <th>Person</th>\n",
              "      <th>Subcategory</th>\n",
              "      <th>Category</th>\n",
              "      <th>Text</th>\n",
              "    </tr>\n",
              "  </thead>\n",
              "  <tbody>\n",
              "    <tr>\n",
              "      <th>104</th>\n",
              "      <td>Jeanette Epps</td>\n",
              "      <td>American astronauts</td>\n",
              "      <td>Astronauts</td>\n",
              "      <td>Jeanette Jo Epps (born November 3, 1970) is an...</td>\n",
              "    </tr>\n",
              "    <tr>\n",
              "      <th>288</th>\n",
              "      <td>Sergey Avdeev</td>\n",
              "      <td>Russian cosmonauts</td>\n",
              "      <td>Astronauts</td>\n",
              "      <td>Sergei Vasilyevich Avdeyev (Сергей Васильевич ...</td>\n",
              "    </tr>\n",
              "    <tr>\n",
              "      <th>198</th>\n",
              "      <td>Matthias Maurer</td>\n",
              "      <td>German astronauts</td>\n",
              "      <td>Astronauts</td>\n",
              "      <td>Matthias Josef Maurer (born 18 March 1970) is ...</td>\n",
              "    </tr>\n",
              "    <tr>\n",
              "      <th>365</th>\n",
              "      <td>Andriyan Nikolayev</td>\n",
              "      <td>Soviet cosmonauts</td>\n",
              "      <td>Astronauts</td>\n",
              "      <td>Andriyan Grigoryevich Nikolayev (Chuvash and R...</td>\n",
              "    </tr>\n",
              "    <tr>\n",
              "      <th>412</th>\n",
              "      <td>Gennady Manakov</td>\n",
              "      <td>Soviet cosmonauts</td>\n",
              "      <td>Astronauts</td>\n",
              "      <td>Gennady Mikhailovich Manakov (Russian: Геннади...</td>\n",
              "    </tr>\n",
              "    <tr>\n",
              "      <th>...</th>\n",
              "      <td>...</td>\n",
              "      <td>...</td>\n",
              "      <td>...</td>\n",
              "      <td>...</td>\n",
              "    </tr>\n",
              "    <tr>\n",
              "      <th>7053</th>\n",
              "      <td>Uhwudong</td>\n",
              "      <td>Korean writers</td>\n",
              "      <td>Writers</td>\n",
              "      <td>Eowudong or Uhwudong (어우동, 於宇同; 1440 - 18 Octo...</td>\n",
              "    </tr>\n",
              "    <tr>\n",
              "      <th>5383</th>\n",
              "      <td>Óttar M. Norðfjörð</td>\n",
              "      <td>Icelandic writers</td>\n",
              "      <td>Writers</td>\n",
              "      <td>Óttar Martin Norðfjörð (born 1980) is an Icela...</td>\n",
              "    </tr>\n",
              "    <tr>\n",
              "      <th>4093</th>\n",
              "      <td>Claude Phillips</td>\n",
              "      <td>English writers</td>\n",
              "      <td>Writers</td>\n",
              "      <td>Sir Claude Phillips (29 January 1846 – 9 Augus...</td>\n",
              "    </tr>\n",
              "    <tr>\n",
              "      <th>7477</th>\n",
              "      <td>Francis Moto</td>\n",
              "      <td>Malawian writers</td>\n",
              "      <td>Writers</td>\n",
              "      <td>Professor Francis P. B. Moto (born 1952) is a ...</td>\n",
              "    </tr>\n",
              "    <tr>\n",
              "      <th>7542</th>\n",
              "      <td>Zainal Abidin Ahmad (writer)</td>\n",
              "      <td>Malaysian writers</td>\n",
              "      <td>Writers</td>\n",
              "      <td>Tan Sri Zainal Abidin bin Ahmad (16 September ...</td>\n",
              "    </tr>\n",
              "  </tbody>\n",
              "</table>\n",
              "<p>400 rows × 4 columns</p>\n",
              "</div>\n",
              "      <button class=\"colab-df-convert\" onclick=\"convertToInteractive('df-8fa71805-1d06-406f-baa5-0b0e7f0682a4')\"\n",
              "              title=\"Convert this dataframe to an interactive table.\"\n",
              "              style=\"display:none;\">\n",
              "        \n",
              "  <svg xmlns=\"http://www.w3.org/2000/svg\" height=\"24px\"viewBox=\"0 0 24 24\"\n",
              "       width=\"24px\">\n",
              "    <path d=\"M0 0h24v24H0V0z\" fill=\"none\"/>\n",
              "    <path d=\"M18.56 5.44l.94 2.06.94-2.06 2.06-.94-2.06-.94-.94-2.06-.94 2.06-2.06.94zm-11 1L8.5 8.5l.94-2.06 2.06-.94-2.06-.94L8.5 2.5l-.94 2.06-2.06.94zm10 10l.94 2.06.94-2.06 2.06-.94-2.06-.94-.94-2.06-.94 2.06-2.06.94z\"/><path d=\"M17.41 7.96l-1.37-1.37c-.4-.4-.92-.59-1.43-.59-.52 0-1.04.2-1.43.59L10.3 9.45l-7.72 7.72c-.78.78-.78 2.05 0 2.83L4 21.41c.39.39.9.59 1.41.59.51 0 1.02-.2 1.41-.59l7.78-7.78 2.81-2.81c.8-.78.8-2.07 0-2.86zM5.41 20L4 18.59l7.72-7.72 1.47 1.35L5.41 20z\"/>\n",
              "  </svg>\n",
              "      </button>\n",
              "      \n",
              "  <style>\n",
              "    .colab-df-container {\n",
              "      display:flex;\n",
              "      flex-wrap:wrap;\n",
              "      gap: 12px;\n",
              "    }\n",
              "\n",
              "    .colab-df-convert {\n",
              "      background-color: #E8F0FE;\n",
              "      border: none;\n",
              "      border-radius: 50%;\n",
              "      cursor: pointer;\n",
              "      display: none;\n",
              "      fill: #1967D2;\n",
              "      height: 32px;\n",
              "      padding: 0 0 0 0;\n",
              "      width: 32px;\n",
              "    }\n",
              "\n",
              "    .colab-df-convert:hover {\n",
              "      background-color: #E2EBFA;\n",
              "      box-shadow: 0px 1px 2px rgba(60, 64, 67, 0.3), 0px 1px 3px 1px rgba(60, 64, 67, 0.15);\n",
              "      fill: #174EA6;\n",
              "    }\n",
              "\n",
              "    [theme=dark] .colab-df-convert {\n",
              "      background-color: #3B4455;\n",
              "      fill: #D2E3FC;\n",
              "    }\n",
              "\n",
              "    [theme=dark] .colab-df-convert:hover {\n",
              "      background-color: #434B5C;\n",
              "      box-shadow: 0px 1px 3px 1px rgba(0, 0, 0, 0.15);\n",
              "      filter: drop-shadow(0px 1px 2px rgba(0, 0, 0, 0.3));\n",
              "      fill: #FFFFFF;\n",
              "    }\n",
              "  </style>\n",
              "\n",
              "      <script>\n",
              "        const buttonEl =\n",
              "          document.querySelector('#df-8fa71805-1d06-406f-baa5-0b0e7f0682a4 button.colab-df-convert');\n",
              "        buttonEl.style.display =\n",
              "          google.colab.kernel.accessAllowed ? 'block' : 'none';\n",
              "\n",
              "        async function convertToInteractive(key) {\n",
              "          const element = document.querySelector('#df-8fa71805-1d06-406f-baa5-0b0e7f0682a4');\n",
              "          const dataTable =\n",
              "            await google.colab.kernel.invokeFunction('convertToInteractive',\n",
              "                                                     [key], {});\n",
              "          if (!dataTable) return;\n",
              "\n",
              "          const docLinkHtml = 'Like what you see? Visit the ' +\n",
              "            '<a target=\"_blank\" href=https://colab.research.google.com/notebooks/data_table.ipynb>data table notebook</a>'\n",
              "            + ' to learn more about interactive tables.';\n",
              "          element.innerHTML = '';\n",
              "          dataTable['output_type'] = 'display_data';\n",
              "          await google.colab.output.renderOutput(dataTable, element);\n",
              "          const docLink = document.createElement('div');\n",
              "          docLink.innerHTML = docLinkHtml;\n",
              "          element.appendChild(docLink);\n",
              "        }\n",
              "      </script>\n",
              "    </div>\n",
              "  </div>\n",
              "  "
            ]
          },
          "metadata": {},
          "execution_count": 5
        }
      ]
    },
    {
      "cell_type": "code",
      "source": [
        "#We use spacy for the Data Analysis \n",
        "\n",
        "import spacy \n",
        "\n",
        "nlp = spacy.load('en_core_web_sm')"
      ],
      "metadata": {
        "id": "IZLaoCbp35KL"
      },
      "execution_count": 6,
      "outputs": []
    },
    {
      "cell_type": "markdown",
      "source": [
        "# **Count sentences of each category**"
      ],
      "metadata": {
        "id": "5zIwkK4YFmJ-"
      }
    },
    {
      "cell_type": "code",
      "source": [
        "def get_sentences(text):\n",
        "  \"\"\"\n",
        "  This function takes a text as an input and return the a list of the sentences of the given text\n",
        "  \"\"\"\n",
        "  doc = nlp(text)\n",
        "  return list(doc.sents)"
      ],
      "metadata": {
        "id": "3n_YiEigkmbB"
      },
      "execution_count": 7,
      "outputs": []
    },
    {
      "cell_type": "code",
      "source": [
        "astronauts = df.loc[df['Category'] == 'Astronauts'] #subframe of astronauts \n",
        "astronauts"
      ],
      "metadata": {
        "id": "o-CGMXKNVEmG"
      },
      "execution_count": null,
      "outputs": []
    },
    {
      "cell_type": "code",
      "source": [
        "writers = df.loc[df['Category'] == 'Writers'] #subframe of writers\n",
        "writers"
      ],
      "metadata": {
        "id": "ZQvZMjwGfLK_"
      },
      "execution_count": null,
      "outputs": []
    },
    {
      "cell_type": "code",
      "source": [
        "writers[\"Sentences\"] = writers['Text'].apply(get_sentences)#Aplly the function to the text colum and create a new column with the output\n",
        "writers['Num_sentences'] = writers['Sentences'].apply(lambda x: len(x)) #Now we get the number of sentences of each article "
      ],
      "metadata": {
        "id": "RILAuL2Km9Ia"
      },
      "execution_count": null,
      "outputs": []
    },
    {
      "cell_type": "code",
      "source": [
        "writers"
      ],
      "metadata": {
        "colab": {
          "base_uri": "https://localhost:8080/",
          "height": 641
        },
        "id": "Xsmaax4Kng3N",
        "outputId": "740ae8f3-30d0-4569-9ebb-03e7c1bf492e"
      },
      "execution_count": null,
      "outputs": [
        {
          "output_type": "execute_result",
          "data": {
            "text/plain": [
              "                               Person            Subcategory Category  \\\n",
              "10112                     Sagit Agish         Soviet writers  Writers   \n",
              "9851               Preller Geldenhuys  South African writers  Writers   \n",
              "1005                    Marcelo Kohen      Argentine writers  Writers   \n",
              "6902                 Masanobu Fukuoka       Japanese writers  Writers   \n",
              "9791   James Gregory (prison officer)  South African writers  Writers   \n",
              "...                               ...                    ...      ...   \n",
              "7053                         Uhwudong         Korean writers  Writers   \n",
              "5383               Óttar M. Norðfjörð      Icelandic writers  Writers   \n",
              "4093                  Claude Phillips        English writers  Writers   \n",
              "7477                     Francis Moto       Malawian writers  Writers   \n",
              "7542     Zainal Abidin Ahmad (writer)      Malaysian writers  Writers   \n",
              "\n",
              "                                                    Text  \\\n",
              "10112  Sagit Agish (1904–1973) was a Bashkir poet, wr...   \n",
              "9851   (Prop) Preller Geldenhuys was a pilot in the R...   \n",
              "1005   Marcelo Gustavo Kohen (born August 11, 1957) i...   \n",
              "6902   Masanobu Fukuoka (Japanese: 福岡 正信, Hepburn: Fu...   \n",
              "9791   James Gregory (7 November 1941 – 2003) was the...   \n",
              "...                                                  ...   \n",
              "7053   Eowudong or Uhwudong (어우동, 於宇同; 1440 - 18 Octo...   \n",
              "5383   Óttar Martin Norðfjörð (born 1980) is an Icela...   \n",
              "4093   Sir Claude Phillips (29 January 1846 – 9 Augus...   \n",
              "7477   Professor Francis P. B. Moto (born 1952) is a ...   \n",
              "7542   Tan Sri Zainal Abidin bin Ahmad (16 September ...   \n",
              "\n",
              "                                               Sentences  Num_sentences  \n",
              "10112  [(Sagit, Agish, (, 1904–1973, ), was, a, Bashk...             12  \n",
              "9851   [((, Prop, ), Preller, Geldenhuys, was, a, pil...             11  \n",
              "1005   [(Marcelo, Gustavo, Kohen, (, born, August, 11...             40  \n",
              "6902   [(Masanobu, Fukuoka, (, Japanese, :, 福岡, 正信, ,...            176  \n",
              "9791   [(James, Gregory, (, 7, November, 1941, –, 200...             27  \n",
              "...                                                  ...            ...  \n",
              "7053   [(Eowudong, or, Uhwudong, (, 어우동, ,, 於宇同, ;, 1...             43  \n",
              "5383   [(Óttar, Martin, Norðfjörð, (, born, 1980, ), ...             33  \n",
              "4093   [(Sir, Claude, Phillips, (, 29, January, 1846,...             48  \n",
              "7477   [(Professor, Francis, P., B., Moto, (, born, 1...             45  \n",
              "7542   [(Tan, Sri, Zainal, Abidin, bin, Ahmad, (, 16,...             22  \n",
              "\n",
              "[200 rows x 6 columns]"
            ],
            "text/html": [
              "\n",
              "  <div id=\"df-8c16d638-dd8a-40d3-9c83-45be834d587a\">\n",
              "    <div class=\"colab-df-container\">\n",
              "      <div>\n",
              "<style scoped>\n",
              "    .dataframe tbody tr th:only-of-type {\n",
              "        vertical-align: middle;\n",
              "    }\n",
              "\n",
              "    .dataframe tbody tr th {\n",
              "        vertical-align: top;\n",
              "    }\n",
              "\n",
              "    .dataframe thead th {\n",
              "        text-align: right;\n",
              "    }\n",
              "</style>\n",
              "<table border=\"1\" class=\"dataframe\">\n",
              "  <thead>\n",
              "    <tr style=\"text-align: right;\">\n",
              "      <th></th>\n",
              "      <th>Person</th>\n",
              "      <th>Subcategory</th>\n",
              "      <th>Category</th>\n",
              "      <th>Text</th>\n",
              "      <th>Sentences</th>\n",
              "      <th>Num_sentences</th>\n",
              "    </tr>\n",
              "  </thead>\n",
              "  <tbody>\n",
              "    <tr>\n",
              "      <th>10112</th>\n",
              "      <td>Sagit Agish</td>\n",
              "      <td>Soviet writers</td>\n",
              "      <td>Writers</td>\n",
              "      <td>Sagit Agish (1904–1973) was a Bashkir poet, wr...</td>\n",
              "      <td>[(Sagit, Agish, (, 1904–1973, ), was, a, Bashk...</td>\n",
              "      <td>12</td>\n",
              "    </tr>\n",
              "    <tr>\n",
              "      <th>9851</th>\n",
              "      <td>Preller Geldenhuys</td>\n",
              "      <td>South African writers</td>\n",
              "      <td>Writers</td>\n",
              "      <td>(Prop) Preller Geldenhuys was a pilot in the R...</td>\n",
              "      <td>[((, Prop, ), Preller, Geldenhuys, was, a, pil...</td>\n",
              "      <td>11</td>\n",
              "    </tr>\n",
              "    <tr>\n",
              "      <th>1005</th>\n",
              "      <td>Marcelo Kohen</td>\n",
              "      <td>Argentine writers</td>\n",
              "      <td>Writers</td>\n",
              "      <td>Marcelo Gustavo Kohen (born August 11, 1957) i...</td>\n",
              "      <td>[(Marcelo, Gustavo, Kohen, (, born, August, 11...</td>\n",
              "      <td>40</td>\n",
              "    </tr>\n",
              "    <tr>\n",
              "      <th>6902</th>\n",
              "      <td>Masanobu Fukuoka</td>\n",
              "      <td>Japanese writers</td>\n",
              "      <td>Writers</td>\n",
              "      <td>Masanobu Fukuoka (Japanese: 福岡 正信, Hepburn: Fu...</td>\n",
              "      <td>[(Masanobu, Fukuoka, (, Japanese, :, 福岡, 正信, ,...</td>\n",
              "      <td>176</td>\n",
              "    </tr>\n",
              "    <tr>\n",
              "      <th>9791</th>\n",
              "      <td>James Gregory (prison officer)</td>\n",
              "      <td>South African writers</td>\n",
              "      <td>Writers</td>\n",
              "      <td>James Gregory (7 November 1941 – 2003) was the...</td>\n",
              "      <td>[(James, Gregory, (, 7, November, 1941, –, 200...</td>\n",
              "      <td>27</td>\n",
              "    </tr>\n",
              "    <tr>\n",
              "      <th>...</th>\n",
              "      <td>...</td>\n",
              "      <td>...</td>\n",
              "      <td>...</td>\n",
              "      <td>...</td>\n",
              "      <td>...</td>\n",
              "      <td>...</td>\n",
              "    </tr>\n",
              "    <tr>\n",
              "      <th>7053</th>\n",
              "      <td>Uhwudong</td>\n",
              "      <td>Korean writers</td>\n",
              "      <td>Writers</td>\n",
              "      <td>Eowudong or Uhwudong (어우동, 於宇同; 1440 - 18 Octo...</td>\n",
              "      <td>[(Eowudong, or, Uhwudong, (, 어우동, ,, 於宇同, ;, 1...</td>\n",
              "      <td>43</td>\n",
              "    </tr>\n",
              "    <tr>\n",
              "      <th>5383</th>\n",
              "      <td>Óttar M. Norðfjörð</td>\n",
              "      <td>Icelandic writers</td>\n",
              "      <td>Writers</td>\n",
              "      <td>Óttar Martin Norðfjörð (born 1980) is an Icela...</td>\n",
              "      <td>[(Óttar, Martin, Norðfjörð, (, born, 1980, ), ...</td>\n",
              "      <td>33</td>\n",
              "    </tr>\n",
              "    <tr>\n",
              "      <th>4093</th>\n",
              "      <td>Claude Phillips</td>\n",
              "      <td>English writers</td>\n",
              "      <td>Writers</td>\n",
              "      <td>Sir Claude Phillips (29 January 1846 – 9 Augus...</td>\n",
              "      <td>[(Sir, Claude, Phillips, (, 29, January, 1846,...</td>\n",
              "      <td>48</td>\n",
              "    </tr>\n",
              "    <tr>\n",
              "      <th>7477</th>\n",
              "      <td>Francis Moto</td>\n",
              "      <td>Malawian writers</td>\n",
              "      <td>Writers</td>\n",
              "      <td>Professor Francis P. B. Moto (born 1952) is a ...</td>\n",
              "      <td>[(Professor, Francis, P., B., Moto, (, born, 1...</td>\n",
              "      <td>45</td>\n",
              "    </tr>\n",
              "    <tr>\n",
              "      <th>7542</th>\n",
              "      <td>Zainal Abidin Ahmad (writer)</td>\n",
              "      <td>Malaysian writers</td>\n",
              "      <td>Writers</td>\n",
              "      <td>Tan Sri Zainal Abidin bin Ahmad (16 September ...</td>\n",
              "      <td>[(Tan, Sri, Zainal, Abidin, bin, Ahmad, (, 16,...</td>\n",
              "      <td>22</td>\n",
              "    </tr>\n",
              "  </tbody>\n",
              "</table>\n",
              "<p>200 rows × 6 columns</p>\n",
              "</div>\n",
              "      <button class=\"colab-df-convert\" onclick=\"convertToInteractive('df-8c16d638-dd8a-40d3-9c83-45be834d587a')\"\n",
              "              title=\"Convert this dataframe to an interactive table.\"\n",
              "              style=\"display:none;\">\n",
              "        \n",
              "  <svg xmlns=\"http://www.w3.org/2000/svg\" height=\"24px\"viewBox=\"0 0 24 24\"\n",
              "       width=\"24px\">\n",
              "    <path d=\"M0 0h24v24H0V0z\" fill=\"none\"/>\n",
              "    <path d=\"M18.56 5.44l.94 2.06.94-2.06 2.06-.94-2.06-.94-.94-2.06-.94 2.06-2.06.94zm-11 1L8.5 8.5l.94-2.06 2.06-.94-2.06-.94L8.5 2.5l-.94 2.06-2.06.94zm10 10l.94 2.06.94-2.06 2.06-.94-2.06-.94-.94-2.06-.94 2.06-2.06.94z\"/><path d=\"M17.41 7.96l-1.37-1.37c-.4-.4-.92-.59-1.43-.59-.52 0-1.04.2-1.43.59L10.3 9.45l-7.72 7.72c-.78.78-.78 2.05 0 2.83L4 21.41c.39.39.9.59 1.41.59.51 0 1.02-.2 1.41-.59l7.78-7.78 2.81-2.81c.8-.78.8-2.07 0-2.86zM5.41 20L4 18.59l7.72-7.72 1.47 1.35L5.41 20z\"/>\n",
              "  </svg>\n",
              "      </button>\n",
              "      \n",
              "  <style>\n",
              "    .colab-df-container {\n",
              "      display:flex;\n",
              "      flex-wrap:wrap;\n",
              "      gap: 12px;\n",
              "    }\n",
              "\n",
              "    .colab-df-convert {\n",
              "      background-color: #E8F0FE;\n",
              "      border: none;\n",
              "      border-radius: 50%;\n",
              "      cursor: pointer;\n",
              "      display: none;\n",
              "      fill: #1967D2;\n",
              "      height: 32px;\n",
              "      padding: 0 0 0 0;\n",
              "      width: 32px;\n",
              "    }\n",
              "\n",
              "    .colab-df-convert:hover {\n",
              "      background-color: #E2EBFA;\n",
              "      box-shadow: 0px 1px 2px rgba(60, 64, 67, 0.3), 0px 1px 3px 1px rgba(60, 64, 67, 0.15);\n",
              "      fill: #174EA6;\n",
              "    }\n",
              "\n",
              "    [theme=dark] .colab-df-convert {\n",
              "      background-color: #3B4455;\n",
              "      fill: #D2E3FC;\n",
              "    }\n",
              "\n",
              "    [theme=dark] .colab-df-convert:hover {\n",
              "      background-color: #434B5C;\n",
              "      box-shadow: 0px 1px 3px 1px rgba(0, 0, 0, 0.15);\n",
              "      filter: drop-shadow(0px 1px 2px rgba(0, 0, 0, 0.3));\n",
              "      fill: #FFFFFF;\n",
              "    }\n",
              "  </style>\n",
              "\n",
              "      <script>\n",
              "        const buttonEl =\n",
              "          document.querySelector('#df-8c16d638-dd8a-40d3-9c83-45be834d587a button.colab-df-convert');\n",
              "        buttonEl.style.display =\n",
              "          google.colab.kernel.accessAllowed ? 'block' : 'none';\n",
              "\n",
              "        async function convertToInteractive(key) {\n",
              "          const element = document.querySelector('#df-8c16d638-dd8a-40d3-9c83-45be834d587a');\n",
              "          const dataTable =\n",
              "            await google.colab.kernel.invokeFunction('convertToInteractive',\n",
              "                                                     [key], {});\n",
              "          if (!dataTable) return;\n",
              "\n",
              "          const docLinkHtml = 'Like what you see? Visit the ' +\n",
              "            '<a target=\"_blank\" href=https://colab.research.google.com/notebooks/data_table.ipynb>data table notebook</a>'\n",
              "            + ' to learn more about interactive tables.';\n",
              "          element.innerHTML = '';\n",
              "          dataTable['output_type'] = 'display_data';\n",
              "          await google.colab.output.renderOutput(dataTable, element);\n",
              "          const docLink = document.createElement('div');\n",
              "          docLink.innerHTML = docLinkHtml;\n",
              "          element.appendChild(docLink);\n",
              "        }\n",
              "      </script>\n",
              "    </div>\n",
              "  </div>\n",
              "  "
            ]
          },
          "metadata": {},
          "execution_count": 10
        }
      ]
    },
    {
      "cell_type": "code",
      "source": [
        "#We do the same with astronauts...\n",
        "\n",
        "astronauts[\"Sentences\"] = astronauts['Text'].apply(get_sentences)\n",
        "astronauts['Num_sentences'] = astronauts['Sentences'].apply(lambda x: len(x))"
      ],
      "metadata": {
        "id": "ComTTuGxDtkI"
      },
      "execution_count": null,
      "outputs": []
    },
    {
      "cell_type": "code",
      "source": [
        "astronauts"
      ],
      "metadata": {
        "colab": {
          "base_uri": "https://localhost:8080/",
          "height": 641
        },
        "id": "PURrCHpeUTQZ",
        "outputId": "d0f26108-ac14-4fda-d2cf-6d3416cd516f"
      },
      "execution_count": null,
      "outputs": [
        {
          "output_type": "execute_result",
          "data": {
            "text/plain": [
              "                       Person               Subcategory    Category  \\\n",
              "104             Jeanette Epps       American astronauts  Astronauts   \n",
              "288             Sergey Avdeev        Russian cosmonauts  Astronauts   \n",
              "198           Matthias Maurer         German astronauts  Astronauts   \n",
              "365        Andriyan Nikolayev         Soviet cosmonauts  Astronauts   \n",
              "412           Gennady Manakov         Soviet cosmonauts  Astronauts   \n",
              "..                        ...                       ...         ...   \n",
              "120           James M. Taylor       American astronauts  Astronauts   \n",
              "339         Mark Shuttleworth  South African astronauts  Astronauts   \n",
              "5    Robert Hines (astronaut)       American astronauts  Astronauts   \n",
              "158           Dafydd Williams       Canadian astronauts  Astronauts   \n",
              "410              Leonid Popov         Soviet cosmonauts  Astronauts   \n",
              "\n",
              "                                                  Text  \\\n",
              "104  Jeanette Jo Epps (born November 3, 1970) is an...   \n",
              "288  Sergei Vasilyevich Avdeyev (Сергей Васильевич ...   \n",
              "198  Matthias Josef Maurer (born 18 March 1970) is ...   \n",
              "365  Andriyan Grigoryevich Nikolayev (Chuvash and R...   \n",
              "412  Gennady Mikhailovich Manakov (Russian: Геннади...   \n",
              "..                                                 ...   \n",
              "120  James Martin Taylor (November 27, 1930 – Septe...   \n",
              "339  Mark Richard Shuttleworth (born 18 September 1...   \n",
              "5    Robert Thomas Hines, Jr. (born January 11, 197...   \n",
              "158  Dafydd Rhys Williams (alternately known as Dav...   \n",
              "410  Leonid Ivanovich Popov (Russian: Леони́д Ива́н...   \n",
              "\n",
              "                                             Sentences  Num_sentences  \n",
              "104  [(Jeanette, Jo, Epps, (, born, November, 3, ,,...             42  \n",
              "288  [(Sergei, Vasilyevich, Avdeyev, (, Сергей, Вас...             29  \n",
              "198  [(Matthias, Josef, Maurer, (, born, 18, March,...             31  \n",
              "365  [(Andriyan, Grigoryevich, Nikolayev, (, Chuvas...             61  \n",
              "412  [(Gennady, Mikhailovich, Manakov, (, Russian, ...              6  \n",
              "..                                                 ...            ...  \n",
              "120  [(James, Martin, Taylor, (, November, 27, ,, 1...             32  \n",
              "339  [(Mark, Richard, Shuttleworth, (, born, 18, Se...             45  \n",
              "5    [(Robert, Thomas, Hines, ,, Jr., (, born, Janu...             34  \n",
              "158  [(Dafydd, Rhys, Williams, (, alternately, know...             92  \n",
              "410  [(Leonid, Ivanovich, Popov, (, Russian, :, Лео...              8  \n",
              "\n",
              "[200 rows x 6 columns]"
            ],
            "text/html": [
              "\n",
              "  <div id=\"df-07cc0f60-6711-450a-92a0-432d6ccce3b4\">\n",
              "    <div class=\"colab-df-container\">\n",
              "      <div>\n",
              "<style scoped>\n",
              "    .dataframe tbody tr th:only-of-type {\n",
              "        vertical-align: middle;\n",
              "    }\n",
              "\n",
              "    .dataframe tbody tr th {\n",
              "        vertical-align: top;\n",
              "    }\n",
              "\n",
              "    .dataframe thead th {\n",
              "        text-align: right;\n",
              "    }\n",
              "</style>\n",
              "<table border=\"1\" class=\"dataframe\">\n",
              "  <thead>\n",
              "    <tr style=\"text-align: right;\">\n",
              "      <th></th>\n",
              "      <th>Person</th>\n",
              "      <th>Subcategory</th>\n",
              "      <th>Category</th>\n",
              "      <th>Text</th>\n",
              "      <th>Sentences</th>\n",
              "      <th>Num_sentences</th>\n",
              "    </tr>\n",
              "  </thead>\n",
              "  <tbody>\n",
              "    <tr>\n",
              "      <th>104</th>\n",
              "      <td>Jeanette Epps</td>\n",
              "      <td>American astronauts</td>\n",
              "      <td>Astronauts</td>\n",
              "      <td>Jeanette Jo Epps (born November 3, 1970) is an...</td>\n",
              "      <td>[(Jeanette, Jo, Epps, (, born, November, 3, ,,...</td>\n",
              "      <td>42</td>\n",
              "    </tr>\n",
              "    <tr>\n",
              "      <th>288</th>\n",
              "      <td>Sergey Avdeev</td>\n",
              "      <td>Russian cosmonauts</td>\n",
              "      <td>Astronauts</td>\n",
              "      <td>Sergei Vasilyevich Avdeyev (Сергей Васильевич ...</td>\n",
              "      <td>[(Sergei, Vasilyevich, Avdeyev, (, Сергей, Вас...</td>\n",
              "      <td>29</td>\n",
              "    </tr>\n",
              "    <tr>\n",
              "      <th>198</th>\n",
              "      <td>Matthias Maurer</td>\n",
              "      <td>German astronauts</td>\n",
              "      <td>Astronauts</td>\n",
              "      <td>Matthias Josef Maurer (born 18 March 1970) is ...</td>\n",
              "      <td>[(Matthias, Josef, Maurer, (, born, 18, March,...</td>\n",
              "      <td>31</td>\n",
              "    </tr>\n",
              "    <tr>\n",
              "      <th>365</th>\n",
              "      <td>Andriyan Nikolayev</td>\n",
              "      <td>Soviet cosmonauts</td>\n",
              "      <td>Astronauts</td>\n",
              "      <td>Andriyan Grigoryevich Nikolayev (Chuvash and R...</td>\n",
              "      <td>[(Andriyan, Grigoryevich, Nikolayev, (, Chuvas...</td>\n",
              "      <td>61</td>\n",
              "    </tr>\n",
              "    <tr>\n",
              "      <th>412</th>\n",
              "      <td>Gennady Manakov</td>\n",
              "      <td>Soviet cosmonauts</td>\n",
              "      <td>Astronauts</td>\n",
              "      <td>Gennady Mikhailovich Manakov (Russian: Геннади...</td>\n",
              "      <td>[(Gennady, Mikhailovich, Manakov, (, Russian, ...</td>\n",
              "      <td>6</td>\n",
              "    </tr>\n",
              "    <tr>\n",
              "      <th>...</th>\n",
              "      <td>...</td>\n",
              "      <td>...</td>\n",
              "      <td>...</td>\n",
              "      <td>...</td>\n",
              "      <td>...</td>\n",
              "      <td>...</td>\n",
              "    </tr>\n",
              "    <tr>\n",
              "      <th>120</th>\n",
              "      <td>James M. Taylor</td>\n",
              "      <td>American astronauts</td>\n",
              "      <td>Astronauts</td>\n",
              "      <td>James Martin Taylor (November 27, 1930 – Septe...</td>\n",
              "      <td>[(James, Martin, Taylor, (, November, 27, ,, 1...</td>\n",
              "      <td>32</td>\n",
              "    </tr>\n",
              "    <tr>\n",
              "      <th>339</th>\n",
              "      <td>Mark Shuttleworth</td>\n",
              "      <td>South African astronauts</td>\n",
              "      <td>Astronauts</td>\n",
              "      <td>Mark Richard Shuttleworth (born 18 September 1...</td>\n",
              "      <td>[(Mark, Richard, Shuttleworth, (, born, 18, Se...</td>\n",
              "      <td>45</td>\n",
              "    </tr>\n",
              "    <tr>\n",
              "      <th>5</th>\n",
              "      <td>Robert Hines (astronaut)</td>\n",
              "      <td>American astronauts</td>\n",
              "      <td>Astronauts</td>\n",
              "      <td>Robert Thomas Hines, Jr. (born January 11, 197...</td>\n",
              "      <td>[(Robert, Thomas, Hines, ,, Jr., (, born, Janu...</td>\n",
              "      <td>34</td>\n",
              "    </tr>\n",
              "    <tr>\n",
              "      <th>158</th>\n",
              "      <td>Dafydd Williams</td>\n",
              "      <td>Canadian astronauts</td>\n",
              "      <td>Astronauts</td>\n",
              "      <td>Dafydd Rhys Williams (alternately known as Dav...</td>\n",
              "      <td>[(Dafydd, Rhys, Williams, (, alternately, know...</td>\n",
              "      <td>92</td>\n",
              "    </tr>\n",
              "    <tr>\n",
              "      <th>410</th>\n",
              "      <td>Leonid Popov</td>\n",
              "      <td>Soviet cosmonauts</td>\n",
              "      <td>Astronauts</td>\n",
              "      <td>Leonid Ivanovich Popov (Russian: Леони́д Ива́н...</td>\n",
              "      <td>[(Leonid, Ivanovich, Popov, (, Russian, :, Лео...</td>\n",
              "      <td>8</td>\n",
              "    </tr>\n",
              "  </tbody>\n",
              "</table>\n",
              "<p>200 rows × 6 columns</p>\n",
              "</div>\n",
              "      <button class=\"colab-df-convert\" onclick=\"convertToInteractive('df-07cc0f60-6711-450a-92a0-432d6ccce3b4')\"\n",
              "              title=\"Convert this dataframe to an interactive table.\"\n",
              "              style=\"display:none;\">\n",
              "        \n",
              "  <svg xmlns=\"http://www.w3.org/2000/svg\" height=\"24px\"viewBox=\"0 0 24 24\"\n",
              "       width=\"24px\">\n",
              "    <path d=\"M0 0h24v24H0V0z\" fill=\"none\"/>\n",
              "    <path d=\"M18.56 5.44l.94 2.06.94-2.06 2.06-.94-2.06-.94-.94-2.06-.94 2.06-2.06.94zm-11 1L8.5 8.5l.94-2.06 2.06-.94-2.06-.94L8.5 2.5l-.94 2.06-2.06.94zm10 10l.94 2.06.94-2.06 2.06-.94-2.06-.94-.94-2.06-.94 2.06-2.06.94z\"/><path d=\"M17.41 7.96l-1.37-1.37c-.4-.4-.92-.59-1.43-.59-.52 0-1.04.2-1.43.59L10.3 9.45l-7.72 7.72c-.78.78-.78 2.05 0 2.83L4 21.41c.39.39.9.59 1.41.59.51 0 1.02-.2 1.41-.59l7.78-7.78 2.81-2.81c.8-.78.8-2.07 0-2.86zM5.41 20L4 18.59l7.72-7.72 1.47 1.35L5.41 20z\"/>\n",
              "  </svg>\n",
              "      </button>\n",
              "      \n",
              "  <style>\n",
              "    .colab-df-container {\n",
              "      display:flex;\n",
              "      flex-wrap:wrap;\n",
              "      gap: 12px;\n",
              "    }\n",
              "\n",
              "    .colab-df-convert {\n",
              "      background-color: #E8F0FE;\n",
              "      border: none;\n",
              "      border-radius: 50%;\n",
              "      cursor: pointer;\n",
              "      display: none;\n",
              "      fill: #1967D2;\n",
              "      height: 32px;\n",
              "      padding: 0 0 0 0;\n",
              "      width: 32px;\n",
              "    }\n",
              "\n",
              "    .colab-df-convert:hover {\n",
              "      background-color: #E2EBFA;\n",
              "      box-shadow: 0px 1px 2px rgba(60, 64, 67, 0.3), 0px 1px 3px 1px rgba(60, 64, 67, 0.15);\n",
              "      fill: #174EA6;\n",
              "    }\n",
              "\n",
              "    [theme=dark] .colab-df-convert {\n",
              "      background-color: #3B4455;\n",
              "      fill: #D2E3FC;\n",
              "    }\n",
              "\n",
              "    [theme=dark] .colab-df-convert:hover {\n",
              "      background-color: #434B5C;\n",
              "      box-shadow: 0px 1px 3px 1px rgba(0, 0, 0, 0.15);\n",
              "      filter: drop-shadow(0px 1px 2px rgba(0, 0, 0, 0.3));\n",
              "      fill: #FFFFFF;\n",
              "    }\n",
              "  </style>\n",
              "\n",
              "      <script>\n",
              "        const buttonEl =\n",
              "          document.querySelector('#df-07cc0f60-6711-450a-92a0-432d6ccce3b4 button.colab-df-convert');\n",
              "        buttonEl.style.display =\n",
              "          google.colab.kernel.accessAllowed ? 'block' : 'none';\n",
              "\n",
              "        async function convertToInteractive(key) {\n",
              "          const element = document.querySelector('#df-07cc0f60-6711-450a-92a0-432d6ccce3b4');\n",
              "          const dataTable =\n",
              "            await google.colab.kernel.invokeFunction('convertToInteractive',\n",
              "                                                     [key], {});\n",
              "          if (!dataTable) return;\n",
              "\n",
              "          const docLinkHtml = 'Like what you see? Visit the ' +\n",
              "            '<a target=\"_blank\" href=https://colab.research.google.com/notebooks/data_table.ipynb>data table notebook</a>'\n",
              "            + ' to learn more about interactive tables.';\n",
              "          element.innerHTML = '';\n",
              "          dataTable['output_type'] = 'display_data';\n",
              "          await google.colab.output.renderOutput(dataTable, element);\n",
              "          const docLink = document.createElement('div');\n",
              "          docLink.innerHTML = docLinkHtml;\n",
              "          element.appendChild(docLink);\n",
              "        }\n",
              "      </script>\n",
              "    </div>\n",
              "  </div>\n",
              "  "
            ]
          },
          "metadata": {},
          "execution_count": 13
        }
      ]
    },
    {
      "cell_type": "code",
      "source": [
        "len(astronauts[\"Sentences\"].iloc[0])"
      ],
      "metadata": {
        "colab": {
          "base_uri": "https://localhost:8080/"
        },
        "id": "zVgrgOKMooUL",
        "outputId": "35c52fab-f58a-4d77-945f-eaf786a88690"
      },
      "execution_count": null,
      "outputs": [
        {
          "output_type": "execute_result",
          "data": {
            "text/plain": [
              "42"
            ]
          },
          "metadata": {},
          "execution_count": 14
        }
      ]
    },
    {
      "cell_type": "code",
      "source": [
        "def calculate_stats(data):\n",
        "    \"\"\"\n",
        "    This function takes a list of numbers as input, and returns a formatted string\n",
        "    containing the minimum, maximum, and average values.\n",
        "    \"\"\"\n",
        "    minimum = min(data)\n",
        "    maximum = max(data)\n",
        "    average = sum(data) / len(data)\n",
        "\n",
        "    stats_str = f\"This is the average: {average} \\nThis is the maximum: {maximum} \\nThis is the minimum: {minimum}\"\n",
        "\n",
        "    return stats_str"
      ],
      "metadata": {
        "id": "CZejfYwjkpd_"
      },
      "execution_count": null,
      "outputs": []
    },
    {
      "cell_type": "code",
      "source": [
        "calculate_stats(astronauts['Num_sentences'])"
      ],
      "metadata": {
        "colab": {
          "base_uri": "https://localhost:8080/",
          "height": 36
        },
        "id": "wBpEHgPUkrI2",
        "outputId": "5be6b08f-7b7a-436e-e125-bb5b58696432"
      },
      "execution_count": null,
      "outputs": [
        {
          "output_type": "execute_result",
          "data": {
            "text/plain": [
              "'This is the average: 44.25 \\nThis is the maximum: 324 \\nThis is the minimum: 2'"
            ],
            "application/vnd.google.colaboratory.intrinsic+json": {
              "type": "string"
            }
          },
          "metadata": {},
          "execution_count": 31
        }
      ]
    },
    {
      "cell_type": "code",
      "source": [
        "calculate_stats(writers['Num_sentences'])"
      ],
      "metadata": {
        "colab": {
          "base_uri": "https://localhost:8080/",
          "height": 36
        },
        "id": "C_gjojexm-fw",
        "outputId": "b405914d-fa9d-4c93-ee75-7cf8ff0da24b"
      },
      "execution_count": null,
      "outputs": [
        {
          "output_type": "execute_result",
          "data": {
            "text/plain": [
              "'This is the average: 31.37 \\nThis is the maximum: 277 \\nThis is the minimum: 2'"
            ],
            "application/vnd.google.colaboratory.intrinsic+json": {
              "type": "string"
            }
          },
          "metadata": {},
          "execution_count": 32
        }
      ]
    },
    {
      "cell_type": "markdown",
      "source": [
        "# Visualization"
      ],
      "metadata": {
        "id": "am3-Rp31nRmm"
      }
    },
    {
      "cell_type": "code",
      "source": [
        "import numpy as np\n",
        "import matplotlib.pyplot as plt"
      ],
      "metadata": {
        "id": "ODqKzLG4nTJR"
      },
      "execution_count": null,
      "outputs": []
    },
    {
      "cell_type": "markdown",
      "source": [
        "Histograms"
      ],
      "metadata": {
        "id": "PuaAyGoTaCP6"
      }
    },
    {
      "cell_type": "code",
      "source": [
        "# Create a figure with two subplots, side-by-side\n",
        "fig, axs = plt.subplots(1, 2, figsize=(10, 4))\n",
        "\n",
        "# Plot the first histogram on the left subplot\n",
        "axs[0].hist(astronauts['Num_sentences'], bins=10,color='pink')\n",
        "axs[0].axvline(x=2, color='r', linestyle='--', label='Minimum')\n",
        "axs[0].axvline(x=324, color='g', linestyle='--', label='Maximum')\n",
        "axs[0].axvline(x=44.25, color='b', linestyle='--', label='Average')\n",
        "axs[0].set_title('Astronauts')\n",
        "\n",
        "# Plot the second histogram on the right subplot\n",
        "axs[1].hist(writers['Num_sentences'], bins=10, color = \"plum\")\n",
        "axs[1].axvline(x=2, color='r', linestyle='--', label='Minimum')\n",
        "axs[1].axvline(x=277, color='g', linestyle='--', label='Maximum')\n",
        "axs[1].axvline(x=31.37, color='b', linestyle='--', label='Average')\n",
        "axs[1].set_title('Writers')\n",
        "\n",
        "\n",
        "# Set the x-axis and y-axis labels for both subplots\n",
        "for ax in axs:\n",
        "    ax.set_xlabel('Number of sentences')\n",
        "    ax.set_ylabel('Frequency')\n",
        "\n",
        "# Show the figure\n",
        "plt.show()\n"
      ],
      "metadata": {
        "colab": {
          "base_uri": "https://localhost:8080/",
          "height": 410
        },
        "id": "OCWQ--uwUObU",
        "outputId": "a4e3d5a9-ff2e-4cb1-dfb3-bab08a2ee892"
      },
      "execution_count": null,
      "outputs": [
        {
          "output_type": "display_data",
          "data": {
            "text/plain": [
              "<Figure size 1000x400 with 2 Axes>"
            ],
            "image/png": "[encoded data removed]"
          },
          "metadata": {}
        }
      ]
    },
    {
      "cell_type": "markdown",
      "source": [
        "Boxplots"
      ],
      "metadata": {
        "id": "j33fWBdQah0o"
      }
    },
    {
      "cell_type": "code",
      "source": [
        "# Create a figure and a single subplot\n",
        "fig, ax = plt.subplots(figsize=(6, 4))\n",
        "\n",
        "# Plot the boxplots side-by-side using the \"positions\" parameter\n",
        "ax.boxplot([astronauts['Num_sentences'], writers['Num_sentences']], positions=[1, 2])\n",
        "\n",
        "# Set the labels and limits\n",
        "ax.set_xticklabels(['Num of sentences in Astronauts', 'Num of sentences in Writers'])\n",
        "ax.set_xlim(0.5, 2.5)\n",
        "ax.set_ylabel('Frequency')\n",
        "\n",
        "# Show the figure\n",
        "plt.show()"
      ],
      "metadata": {
        "colab": {
          "base_uri": "https://localhost:8080/",
          "height": 368
        },
        "id": "ZXmul5HlQfhy",
        "outputId": "3aae651a-675c-4f31-9b04-325ab676e228"
      },
      "execution_count": null,
      "outputs": [
        {
          "output_type": "display_data",
          "data": {
            "text/plain": [
              "<Figure size 600x400 with 1 Axes>"
            ],
            "image/png": "[encoded data removed]"
          },
          "metadata": {}
        }
      ]
    },
    {
      "cell_type": "markdown",
      "source": [
        "## **Tokenization**"
      ],
      "metadata": {
        "id": "lBS2rvaHwhs3"
      }
    },
    {
      "cell_type": "code",
      "source": [
        "def tokenize_text(text):\n",
        "  doc = nlp(text)\n",
        "  return [token.text for token in doc if not token.is_punct and not token.is_stop]"
      ],
      "metadata": {
        "id": "y_wzzWIKMfNf"
      },
      "execution_count": 12,
      "outputs": []
    },
    {
      "cell_type": "code",
      "source": [
        "def tokenize_sentence(sentences):\n",
        "  \"\"\"\n",
        "  We tokenize every sentence contain in the list of sentences of each row\n",
        "  It returns a list of lists of tokens, each list is the tokens of a sentence\n",
        "  \"\"\" \n",
        "  list_tokens = []\n",
        "  for s in sentences:\n",
        "    tokenized_sentences = tokenize_text(\" \".join(str(s).split()))\n",
        "    if tokenized_sentences:\n",
        "      list_tokens.append(tokenized_sentences)\n",
        "\n",
        "  return list_tokens"
      ],
      "metadata": {
        "id": "cRteEI4rMm9u"
      },
      "execution_count": 13,
      "outputs": []
    },
    {
      "cell_type": "code",
      "source": [
        "#We apply the the function tokenize_sentence to astronauts and create a new colum with the result\n",
        "astronauts[\"tokenized_sentences\"] = astronauts[\"Sentences\"].apply(tokenize_sentence)\n",
        "astronauts.to_csv('output_astronauts.csv', index=False)"
      ],
      "metadata": {
        "id": "7oyVbEuyUMOt"
      },
      "execution_count": null,
      "outputs": []
    },
    {
      "cell_type": "code",
      "source": [
        "#We apply the the function tokenize_sentence to writers and create a new colum with the result\n",
        "writers[\"tokenized_sentences\"] =writers[\"Sentences\"].apply(tokenize_sentence) "
      ],
      "metadata": {
        "id": "w6asRtrre9Z-"
      },
      "execution_count": null,
      "outputs": []
    },
    {
      "cell_type": "markdown",
      "source": [
        "Now we count the number of tokens of each sentences and represent the output"
      ],
      "metadata": {
        "id": "g_Lydb55F-Lj"
      }
    },
    {
      "cell_type": "code",
      "source": [
        "def count_tokens(list_sentences):\n",
        "  \"\"\"\n",
        "  This function returns a list of token counts for the sentences contained in\n",
        "  the specified column.\n",
        "  \"\"\"\n",
        "  # Create an empty list to store the token counts\n",
        "  token_counts = []\n",
        "  for sentence in list_sentences:\n",
        "    token_counts.append(len(sentence))\n",
        "\n",
        "  # Return the token counts as a list\n",
        "  return token_counts"
      ],
      "metadata": {
        "id": "l-c8cwwkF9O2"
      },
      "execution_count": null,
      "outputs": []
    },
    {
      "cell_type": "code",
      "source": [
        "#we count the tokens of each sentence\n",
        "\n",
        "tokens_per_sentence_wr = writers[\"tokenized_sentences\"].apply(count_tokens)\n",
        "tokens_per_sentence_as = astronauts[\"tokenized_sentences\"].apply(count_tokens)"
      ],
      "metadata": {
        "id": "wWG2YQ-YTDJq"
      },
      "execution_count": null,
      "outputs": []
    },
    {
      "cell_type": "code",
      "source": [
        "#We count the total tokens of each row\n",
        "\n",
        "total_wr= tokens_per_sentence_wr.apply(lambda x: sum(x))\n",
        "total_as= tokens_per_sentence_as.apply(lambda x: sum(x))"
      ],
      "metadata": {
        "id": "8os6am0nbtBC"
      },
      "execution_count": null,
      "outputs": []
    },
    {
      "cell_type": "code",
      "source": [
        "#We get the min, max and avg\n",
        "calculate_stats(total_wr)"
      ],
      "metadata": {
        "colab": {
          "base_uri": "https://localhost:8080/",
          "height": 36
        },
        "id": "Q-W--8AQhw5U",
        "outputId": "8f06046b-906c-4562-e449-1fec6e87e3dc"
      },
      "execution_count": null,
      "outputs": [
        {
          "output_type": "execute_result",
          "data": {
            "text/plain": [
              "'This is the average: 355.695 \\nThis is the maximum: 3680 \\nThis is the minimum: 13'"
            ],
            "application/vnd.google.colaboratory.intrinsic+json": {
              "type": "string"
            }
          },
          "metadata": {},
          "execution_count": 88
        }
      ]
    },
    {
      "cell_type": "code",
      "source": [
        "calculate_stats(total_as)"
      ],
      "metadata": {
        "colab": {
          "base_uri": "https://localhost:8080/",
          "height": 36
        },
        "id": "I7h4zErKh6qm",
        "outputId": "3872d311-9852-49e4-85f2-f62deadeced7"
      },
      "execution_count": null,
      "outputs": [
        {
          "output_type": "execute_result",
          "data": {
            "text/plain": [
              "'This is the average: 557.925 \\nThis is the maximum: 4452 \\nThis is the minimum: 33'"
            ],
            "application/vnd.google.colaboratory.intrinsic+json": {
              "type": "string"
            }
          },
          "metadata": {},
          "execution_count": 89
        }
      ]
    },
    {
      "cell_type": "markdown",
      "source": [
        "# **Visualization**"
      ],
      "metadata": {
        "id": "3o452JDOb3aU"
      }
    },
    {
      "cell_type": "code",
      "source": [
        "#Histogram of tokens per sentence - Writers\n",
        "\n",
        "plt.hist(tokens_per_sentence_wr, bins=1)\n",
        "\n",
        "# Add labels and a title to the plot\n",
        "plt.xlabel(\"Number of Tokens\")\n",
        "plt.ylabel(\"Number of sentences\")\n",
        "plt.title(\"Distribution of tokens per sentence - Writers\")\n",
        "\n",
        "# Show the plot\n",
        "plt.show()"
      ],
      "metadata": {
        "colab": {
          "base_uri": "https://localhost:8080/",
          "height": 472
        },
        "id": "vFAXoawWTKC9",
        "outputId": "c6323f8e-fd6d-42c4-ca77-d64765ef3e54"
      },
      "execution_count": null,
      "outputs": [
        {
          "output_type": "display_data",
          "data": {
            "text/plain": [
              "<Figure size 640x480 with 1 Axes>"
            ],
            "image/png": "[encoded data removed]"
          },
          "metadata": {}
        }
      ]
    },
    {
      "cell_type": "code",
      "source": [
        "#Histogram of tokens per sentence - Astronauts\n",
        "\n",
        "plt.hist(tokens_per_sentence_as, bins=1)\n",
        "\n",
        "# Add labels and a title to the plot\n",
        "plt.xlabel(\"Number of Tokens\")\n",
        "plt.ylabel(\"Number of sentences\")\n",
        "plt.title(\"Distribution of tokens per sentence - Astronauts\")\n",
        "\n",
        "# Show the plot\n",
        "plt.show()"
      ],
      "metadata": {
        "colab": {
          "base_uri": "https://localhost:8080/",
          "height": 472
        },
        "id": "f9be0F_0cXWY",
        "outputId": "9c1f40ff-32e6-47a2-ee7e-bc2561a47c6f"
      },
      "execution_count": null,
      "outputs": [
        {
          "output_type": "display_data",
          "data": {
            "text/plain": [
              "<Figure size 640x480 with 1 Axes>"
            ],
            "image/png": "[encoded data removed]"
          },
          "metadata": {}
        }
      ]
    },
    {
      "cell_type": "markdown",
      "source": [
        "Histograms of tokens per category"
      ],
      "metadata": {
        "id": "MbLAzmdPdCVO"
      }
    },
    {
      "cell_type": "code",
      "source": [
        "# Create a figure with two subplots, side-by-side\n",
        "fig, axs = plt.subplots(1, 2, figsize=(10, 4))\n",
        "\n",
        "# Plot the first histogram on the left subplot\n",
        "axs[0].hist(total_wr, bins=50,color='pink',edgecolor='black')\n",
        "axs[0].set_title('Writers')\n",
        "\n",
        "# Plot the second histogram on the right subplot\n",
        "axs[1].hist(total_as, bins=50, color = \"mediumpurple\",edgecolor='black')\n",
        "axs[1].set_title('Astronauts')\n",
        "\n",
        "\n",
        "# Set the x-axis and y-axis labels for both subplots\n",
        "for ax in axs:\n",
        "    ax.set_xlabel('Number of tokens')\n",
        "    ax.set_ylabel('Frequency')\n",
        "\n",
        "# Show the figure\n",
        "plt.show()"
      ],
      "metadata": {
        "colab": {
          "base_uri": "https://localhost:8080/",
          "height": 410
        },
        "id": "xcCT6LlIdBkw",
        "outputId": "d555c233-3414-49c0-e5b5-b4e98ac00235"
      },
      "execution_count": null,
      "outputs": [
        {
          "output_type": "display_data",
          "data": {
            "text/plain": [
              "<Figure size 1000x400 with 2 Axes>"
            ],
            "image/png": "[encoded data removed]"
          },
          "metadata": {}
        }
      ]
    },
    {
      "cell_type": "markdown",
      "source": [
        "# **Name entity recognition**"
      ],
      "metadata": {
        "id": "H1Xvc3G_eWQO"
      }
    },
    {
      "cell_type": "code",
      "source": [
        "def get_entities(text):\n",
        "  \"\"\"\n",
        "  We create a function to extract the entities from a text\n",
        "  \"\"\"\n",
        "  list_entities= []\n",
        "  for ent in nlp(text).ents:\n",
        "    list_entities.append(ent.label_)\n",
        "  return(list_entities)"
      ],
      "metadata": {
        "id": "QzCHr6sUeZtz"
      },
      "execution_count": null,
      "outputs": []
    },
    {
      "cell_type": "code",
      "source": [
        "#We apply it to the column text of the dataset\n",
        "\n",
        "entities_as = astronauts[\"Text\"].apply(get_entities)\n",
        "entities_wr = entities = writers[\"Text\"].apply(get_entities)"
      ],
      "metadata": {
        "id": "ExBR8pEQefMq"
      },
      "execution_count": null,
      "outputs": []
    },
    {
      "cell_type": "code",
      "source": [
        "from spacy import displacy\n",
        "\n",
        "#we can dispay the entities to see them more clearly. To show an example we display the entities of one text\n",
        "\n",
        "displacy.render(nlp(astronauts[\"Text\"].iloc[12]), style='ent', jupyter=True) "
      ],
      "metadata": {
        "id": "w_UNuDyeeqQq"
      },
      "execution_count": null,
      "outputs": []
    },
    {
      "cell_type": "code",
      "source": [
        "#we make a list of the total entities\n",
        "\n",
        "list_entities_as= []\n",
        "for x in entities:\n",
        "  for y in x:\n",
        "    list_entities_as.append(y)\n",
        "\n",
        "list_entities_wr= []\n",
        "for x in entities:\n",
        "  for y in x:\n",
        "    list_entities_wr.append(y)"
      ],
      "metadata": {
        "id": "TbXLb1RGewgq"
      },
      "execution_count": null,
      "outputs": []
    },
    {
      "cell_type": "code",
      "source": [
        "#Finally we display a histogram of the number of entities recognized in each category\n",
        "\n",
        "fig, axs = plt.subplots(1, 2, figsize=(10, 4))\n",
        "\n",
        "# Plot the first histogram on the left subplot\n",
        "axs[0].hist(list_entities_wr, bins=50,color=\"#A2142F\",edgecolor='black')\n",
        "axs[0].set_title('Writers')\n",
        "\n",
        "# Plot the second histogram on the right subplot\n",
        "axs[1].hist(list_entities_as, bins=50, color = \"mediumpurple\",edgecolor='black')\n",
        "axs[1].set_title('Astronauts')\n",
        "\n",
        "\n",
        "\n",
        "# Set the x-axis and y-axis labels and parameters for both subplots\n",
        "for ax in axs:\n",
        "    ax.set_xlabel('Entity type')\n",
        "    ax.set_ylabel('Frequency')\n",
        "    ax.tick_params(axis='x', labelsize=7, rotation=60)\n",
        "\n",
        "# Show the figure\n",
        "plt.show()"
      ],
      "metadata": {
        "colab": {
          "base_uri": "https://localhost:8080/",
          "height": 464
        },
        "id": "hev80Y8Xe1_0",
        "outputId": "27aca3c1-5649-4af1-8482-3ac1e420f4b7"
      },
      "execution_count": null,
      "outputs": [
        {
          "output_type": "display_data",
          "data": {
            "text/plain": [
              "<Figure size 1000x400 with 2 Axes>"
            ],
            "image/png": "[encoded data removed]"
          },
          "metadata": {}
        }
      ]
    }
  ]
}