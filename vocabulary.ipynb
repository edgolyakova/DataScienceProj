{
 "cells": [
  {
   "attachments": {},
   "cell_type": "markdown",
   "metadata": {},
   "source": [
    "# Vocabulary\n",
    "\n",
    "**-> explication tâche**\n",
    "\n"
   ]
  },
  {
   "attachments": {},
   "cell_type": "markdown",
   "metadata": {},
   "source": [
    "## Imports :"
   ]
  },
  {
   "cell_type": "code",
   "execution_count": 49,
   "metadata": {},
   "outputs": [],
   "source": [
    "import pandas as pd\n",
    "import numpy as np\n",
    "import matplotlib.pyplot as plt\n",
    "import spacy\n",
    "from PIL import Image\n",
    "from wordcloud import WordCloud, STOPWORDS, ImageColorGenerator"
   ]
  },
  {
   "attachments": {},
   "cell_type": "markdown",
   "metadata": {},
   "source": [
    "## Other library related actions"
   ]
  },
  {
   "cell_type": "code",
   "execution_count": 2,
   "metadata": {},
   "outputs": [
    {
     "name": "stderr",
     "output_type": "stream",
     "text": [
      "/home/mari/miniconda3/lib/python3.10/site-packages/spacy/util.py:877: UserWarning: [W095] Model 'en_core_web_sm' (3.2.0) was trained with spaCy v3.2 and may not be 100% compatible with the current version (3.5.0). If you see errors or degraded performance, download a newer compatible model or retrain your custom model with the current spaCy version. For more details and available updates, run: python -m spacy validate\n",
      "  warnings.warn(warn_msg)\n"
     ]
    }
   ],
   "source": [
    "nlp = spacy.load('en_core_web_sm')"
   ]
  },
  {
   "attachments": {},
   "cell_type": "markdown",
   "metadata": {},
   "source": [
    "## Préprocessing\n",
    "\n",
    "**-> explication tâche**"
   ]
  },
  {
   "cell_type": "code",
   "execution_count": 3,
   "metadata": {},
   "outputs": [
    {
     "data": {
      "text/html": [
       "<div>\n",
       "<style scoped>\n",
       "    .dataframe tbody tr th:only-of-type {\n",
       "        vertical-align: middle;\n",
       "    }\n",
       "\n",
       "    .dataframe tbody tr th {\n",
       "        vertical-align: top;\n",
       "    }\n",
       "\n",
       "    .dataframe thead th {\n",
       "        text-align: right;\n",
       "    }\n",
       "</style>\n",
       "<table border=\"1\" class=\"dataframe\">\n",
       "  <thead>\n",
       "    <tr style=\"text-align: right;\">\n",
       "      <th></th>\n",
       "      <th>Unnamed: 0</th>\n",
       "      <th>Person</th>\n",
       "      <th>Subcategory</th>\n",
       "      <th>Category</th>\n",
       "      <th>Text</th>\n",
       "    </tr>\n",
       "  </thead>\n",
       "  <tbody>\n",
       "    <tr>\n",
       "      <th>0</th>\n",
       "      <td>104</td>\n",
       "      <td>Jeanette Epps</td>\n",
       "      <td>American astronauts</td>\n",
       "      <td>Astronauts</td>\n",
       "      <td>Jeanette Jo Epps (born November 3, 1970) is an...</td>\n",
       "    </tr>\n",
       "    <tr>\n",
       "      <th>1</th>\n",
       "      <td>288</td>\n",
       "      <td>Sergey Avdeev</td>\n",
       "      <td>Russian cosmonauts</td>\n",
       "      <td>Astronauts</td>\n",
       "      <td>Sergei Vasilyevich Avdeyev (Сергей Васильевич ...</td>\n",
       "    </tr>\n",
       "    <tr>\n",
       "      <th>2</th>\n",
       "      <td>198</td>\n",
       "      <td>Matthias Maurer</td>\n",
       "      <td>German astronauts</td>\n",
       "      <td>Astronauts</td>\n",
       "      <td>Matthias Josef Maurer (born 18 March 1970) is ...</td>\n",
       "    </tr>\n",
       "    <tr>\n",
       "      <th>3</th>\n",
       "      <td>365</td>\n",
       "      <td>Andriyan Nikolayev</td>\n",
       "      <td>Soviet cosmonauts</td>\n",
       "      <td>Astronauts</td>\n",
       "      <td>Andriyan Grigoryevich Nikolayev (Chuvash and R...</td>\n",
       "    </tr>\n",
       "    <tr>\n",
       "      <th>4</th>\n",
       "      <td>412</td>\n",
       "      <td>Gennady Manakov</td>\n",
       "      <td>Soviet cosmonauts</td>\n",
       "      <td>Astronauts</td>\n",
       "      <td>Gennady Mikhailovich Manakov (Russian: Геннади...</td>\n",
       "    </tr>\n",
       "    <tr>\n",
       "      <th>...</th>\n",
       "      <td>...</td>\n",
       "      <td>...</td>\n",
       "      <td>...</td>\n",
       "      <td>...</td>\n",
       "      <td>...</td>\n",
       "    </tr>\n",
       "    <tr>\n",
       "      <th>395</th>\n",
       "      <td>7053</td>\n",
       "      <td>Uhwudong</td>\n",
       "      <td>Korean writers</td>\n",
       "      <td>Writers</td>\n",
       "      <td>Eowudong or Uhwudong (어우동, 於宇同; 1440 - 18 Octo...</td>\n",
       "    </tr>\n",
       "    <tr>\n",
       "      <th>396</th>\n",
       "      <td>5383</td>\n",
       "      <td>Óttar M. Norðfjörð</td>\n",
       "      <td>Icelandic writers</td>\n",
       "      <td>Writers</td>\n",
       "      <td>Óttar Martin Norðfjörð (born 1980) is an Icela...</td>\n",
       "    </tr>\n",
       "    <tr>\n",
       "      <th>397</th>\n",
       "      <td>4093</td>\n",
       "      <td>Claude Phillips</td>\n",
       "      <td>English writers</td>\n",
       "      <td>Writers</td>\n",
       "      <td>Sir Claude Phillips (29 January 1846 – 9 Augus...</td>\n",
       "    </tr>\n",
       "    <tr>\n",
       "      <th>398</th>\n",
       "      <td>7477</td>\n",
       "      <td>Francis Moto</td>\n",
       "      <td>Malawian writers</td>\n",
       "      <td>Writers</td>\n",
       "      <td>Professor Francis P. B. Moto (born 1952) is a ...</td>\n",
       "    </tr>\n",
       "    <tr>\n",
       "      <th>399</th>\n",
       "      <td>7542</td>\n",
       "      <td>Zainal Abidin Ahmad (writer)</td>\n",
       "      <td>Malaysian writers</td>\n",
       "      <td>Writers</td>\n",
       "      <td>Tan Sri Zainal Abidin bin Ahmad (16 September ...</td>\n",
       "    </tr>\n",
       "  </tbody>\n",
       "</table>\n",
       "<p>400 rows × 5 columns</p>\n",
       "</div>"
      ],
      "text/plain": [
       "     Unnamed: 0                        Person          Subcategory  \\\n",
       "0           104                 Jeanette Epps  American astronauts   \n",
       "1           288                 Sergey Avdeev   Russian cosmonauts   \n",
       "2           198               Matthias Maurer    German astronauts   \n",
       "3           365            Andriyan Nikolayev    Soviet cosmonauts   \n",
       "4           412               Gennady Manakov    Soviet cosmonauts   \n",
       "..          ...                           ...                  ...   \n",
       "395        7053                      Uhwudong       Korean writers   \n",
       "396        5383            Óttar M. Norðfjörð    Icelandic writers   \n",
       "397        4093               Claude Phillips      English writers   \n",
       "398        7477                  Francis Moto     Malawian writers   \n",
       "399        7542  Zainal Abidin Ahmad (writer)    Malaysian writers   \n",
       "\n",
       "       Category                                               Text  \n",
       "0    Astronauts  Jeanette Jo Epps (born November 3, 1970) is an...  \n",
       "1    Astronauts  Sergei Vasilyevich Avdeyev (Сергей Васильевич ...  \n",
       "2    Astronauts  Matthias Josef Maurer (born 18 March 1970) is ...  \n",
       "3    Astronauts  Andriyan Grigoryevich Nikolayev (Chuvash and R...  \n",
       "4    Astronauts  Gennady Mikhailovich Manakov (Russian: Геннади...  \n",
       "..          ...                                                ...  \n",
       "395     Writers  Eowudong or Uhwudong (어우동, 於宇同; 1440 - 18 Octo...  \n",
       "396     Writers  Óttar Martin Norðfjörð (born 1980) is an Icela...  \n",
       "397     Writers  Sir Claude Phillips (29 January 1846 – 9 Augus...  \n",
       "398     Writers  Professor Francis P. B. Moto (born 1952) is a ...  \n",
       "399     Writers  Tan Sri Zainal Abidin bin Ahmad (16 September ...  \n",
       "\n",
       "[400 rows x 5 columns]"
      ]
     },
     "execution_count": 3,
     "metadata": {},
     "output_type": "execute_result"
    }
   ],
   "source": [
    "df = pd.read_csv(\"df_with_texts.csv\")\n",
    "df"
   ]
  },
  {
   "cell_type": "code",
   "execution_count": 4,
   "metadata": {},
   "outputs": [
    {
     "data": {
      "text/plain": [
       "(array(['Astronauts', 'Writers'], dtype=object),\n",
       " array(['American astronauts', 'Russian cosmonauts', 'German astronauts',\n",
       "        'Soviet cosmonauts', 'Ukrainian cosmonauts', 'Belgian astronauts',\n",
       "        'Hungarian astronauts', 'British astronauts',\n",
       "        'Kazakhstani cosmonauts', 'Swedish astronauts',\n",
       "        'Afghan cosmonauts', 'Lithuanian astronauts', 'Spanish astronauts',\n",
       "        'Canadian astronauts', 'Japanese astronauts', 'Chinese astronauts',\n",
       "        'Emirati astronauts', 'Czechoslovak cosmonauts',\n",
       "        'Saudi Arabian astronauts', 'South African astronauts',\n",
       "        'Italian astronauts', 'South Korean astronauts',\n",
       "        'Kyrgyzstani cosmonauts', 'Dutch astronauts',\n",
       "        'Czech cosmonauts and astronauts', 'Austrian astronauts',\n",
       "        'Costa Rican astronauts', 'Danish astronauts',\n",
       "        'Brazilian astronauts', 'Vietnamese astronauts',\n",
       "        'Bulgarian cosmonauts', 'Australian astronauts',\n",
       "        'Slovak cosmonauts', 'Indian astronauts', 'Polish astronauts',\n",
       "        'Iranian astronauts', 'Swiss astronauts', 'Soviet writers',\n",
       "        'South African writers', 'Argentine writers', 'Japanese writers',\n",
       "        'Norwegian writers', 'Iranian writers', 'British writers',\n",
       "        'Indonesian writers', 'Serbian writers', 'English writers',\n",
       "        'Republic of the Congo writers', 'Singaporean writers',\n",
       "        'Moroccan writers', 'Albanian writers', 'Slovak writers',\n",
       "        'Australian writers', 'Guyanese writers', 'Russian writers',\n",
       "        'Belarusian writers', 'Polish writers', 'Spanish writers',\n",
       "        'Moldovan writers', 'Korean writers', 'American writers',\n",
       "        'Tanzanian writers', 'Afghan writers', 'Bangladeshi writers',\n",
       "        'Mexican writers', 'French writers', 'Liberian writers',\n",
       "        'Finnish writers', 'Greek writers', 'Danish writers',\n",
       "        'Filipino writers', 'Iraqi writers', 'Guernsey writers',\n",
       "        'New Zealand writers', 'Ghanaian writers', 'Swiss writers',\n",
       "        'Irish writers', 'Jamaican writers', 'Pakistani writers',\n",
       "        'German writers', 'Slovenian writers', 'Indian writers',\n",
       "        'Ivorian writers', 'Bulgarian writers', 'Egyptian writers',\n",
       "        'Burmese writers', 'Nepalese writers', 'Nigerian writers',\n",
       "        'Israeli writers', 'Lebanese writers', 'Swedish writers',\n",
       "        'Hong Kong writers', 'Ukrainian writers', 'Saudi Arabian writers',\n",
       "        'South Korean writers', 'Sri Lankan writers', 'Hungarian writers',\n",
       "        'Bosnia and Herzegovina writers', 'Yemeni writers',\n",
       "        'Croatian writers', 'Senegalese writers', 'Romanian writers',\n",
       "        'Algerian writers', 'Andorran writers',\n",
       "        'Central African Republic writers', 'Belgian writers',\n",
       "        'Welsh writers', 'Kuwaiti writers', 'Macedonian writers',\n",
       "        'Honduran writers', 'Turkish writers', 'Dutch writers',\n",
       "        'Icelandic writers', 'Malawian writers', 'Malaysian writers'],\n",
       "       dtype=object))"
      ]
     },
     "execution_count": 4,
     "metadata": {},
     "output_type": "execute_result"
    }
   ],
   "source": [
    "cat = df.Category.unique()\n",
    "sub_cat = df.Subcategory.unique()\n",
    "cat, sub_cat"
   ]
  },
  {
   "cell_type": "code",
   "execution_count": 56,
   "metadata": {},
   "outputs": [
    {
     "data": {
      "text/plain": [
       "2"
      ]
     },
     "execution_count": 56,
     "metadata": {},
     "output_type": "execute_result"
    }
   ],
   "source": [
    "cat_txt = {}\n",
    "for c in cat:\n",
    "    cat_txt[c] = df[df['Category']==c].Text.str.cat(sep=' ')\n",
    "\n",
    "len(cat_txt)"
   ]
  },
  {
   "cell_type": "code",
   "execution_count": 58,
   "metadata": {},
   "outputs": [
    {
     "data": {
      "text/plain": [
       "115"
      ]
     },
     "execution_count": 58,
     "metadata": {},
     "output_type": "execute_result"
    }
   ],
   "source": [
    "sub_cat_txt = {}\n",
    "for c in sub_cat:\n",
    "    sub_cat_txt[c] = df[df['Subcategory']==c].Text.str.cat(sep=' ')\n",
    "\n",
    "len(sub_cat_txt)"
   ]
  },
  {
   "cell_type": "code",
   "execution_count": 59,
   "metadata": {},
   "outputs": [
    {
     "name": "stdout",
     "output_type": "stream",
     "text": [
      "False\n"
     ]
    },
    {
     "data": {
      "text/plain": [
       "(apple, apple)"
      ]
     },
     "execution_count": 59,
     "metadata": {},
     "output_type": "execute_result"
    }
   ],
   "source": [
    "def preprocess(s:str)->str:\n",
    "    \"\"\"\n",
    "    A little fonction containing all text preprocessing\n",
    "    \"\"\"\n",
    "    doc = nlp(s.lower())\n",
    "    tokens = [token for token in doc]\n",
    "    return tokens\n",
    "\n",
    "d = {'a':\"AI JEZIUFH IURES\", 'b':\"sjds fhiuds\", 'c':\"Apple APPLE apple\"}\n",
    "for k,v in d.items():\n",
    "    d[k] = preprocess(v)\n",
    "\n",
    "print(d['c'][0] == d['c'][1])\n",
    "d['c'][0], d['c'][1]"
   ]
  },
  {
   "cell_type": "code",
   "execution_count": 67,
   "metadata": {},
   "outputs": [
    {
     "data": {
      "text/plain": [
       "2"
      ]
     },
     "execution_count": 67,
     "metadata": {},
     "output_type": "execute_result"
    }
   ],
   "source": [
    "cat_token = {}\n",
    "for c in cat:\n",
    "    tmp = []\n",
    "    for i in df[df['Category']==c].Text:\n",
    "        tmp.extend(preprocess(i))\n",
    "    cat_token[c] = tmp\n",
    "len(cat_token)"
   ]
  },
  {
   "cell_type": "code",
   "execution_count": 68,
   "metadata": {},
   "outputs": [
    {
     "data": {
      "text/plain": [
       "115"
      ]
     },
     "execution_count": 68,
     "metadata": {},
     "output_type": "execute_result"
    }
   ],
   "source": [
    "sub_cat_token = {}\n",
    "for c in sub_cat:\n",
    "    tmp = []\n",
    "    for i in df[df['Subcategory']==c].Text:\n",
    "        tmp.extend(preprocess(i))\n",
    "    sub_cat_token[c] = tmp\n",
    "len(sub_cat_token)"
   ]
  },
  {
   "attachments": {},
   "cell_type": "markdown",
   "metadata": {},
   "source": [
    "## Most frequents words\n",
    "\n",
    "**-> explication tâche**"
   ]
  },
  {
   "cell_type": "code",
   "execution_count": null,
   "metadata": {},
   "outputs": [],
   "source": []
  },
  {
   "attachments": {},
   "cell_type": "markdown",
   "metadata": {},
   "source": [
    "## Wordclouds\n",
    "\n",
    "**-> explication tâche**"
   ]
  },
  {
   "cell_type": "code",
   "execution_count": null,
   "metadata": {},
   "outputs": [],
   "source": []
  }
 ],
 "metadata": {
  "kernelspec": {
   "display_name": "base",
   "language": "python",
   "name": "python3"
  },
  "language_info": {
   "codemirror_mode": {
    "name": "ipython",
    "version": 3
   },
   "file_extension": ".py",
   "mimetype": "text/x-python",
   "name": "python",
   "nbconvert_exporter": "python",
   "pygments_lexer": "ipython3",
   "version": "3.10.8"
  },
  "orig_nbformat": 4,
  "vscode": {
   "interpreter": {
    "hash": "5cfb0889301bd40a32af2921b094f94edad3784ee7c8bac1076d6edd892f10d1"
   }
  }
 },
 "nbformat": 4,
 "nbformat_minor": 2
}
